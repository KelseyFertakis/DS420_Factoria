{
 "cells": [
  {
   "cell_type": "markdown",
   "metadata": {},
   "source": [
    "### Note: Use this file after running Beijing and London submission "
   ]
  },
  {
   "cell_type": "code",
   "execution_count": 65,
   "metadata": {},
   "outputs": [],
   "source": [
    "library(dplyr)\n",
    "library(httr)"
   ]
  },
  {
   "cell_type": "code",
   "execution_count": 66,
   "metadata": {
    "collapsed": true
   },
   "outputs": [],
   "source": [
    "# Setting the system time zone to UTC to use right datetimes\n",
    "Sys.setenv(TZ='GMT')\n",
    "curdate <- Sys.Date()"
   ]
  },
  {
   "cell_type": "code",
   "execution_count": 67,
   "metadata": {},
   "outputs": [
    {
     "name": "stdout",
     "output_type": "stream",
     "text": [
      "'data.frame':\t1680 obs. of  4 variables:\n",
      " $ test_id: Factor w/ 1680 levels \"aotizhongxin_aq#0\",..: 625 626 637 648 659 668 669 670 671 672 ...\n",
      " $ PM2.5  : num  79 79.1 79.2 79.3 79.4 ...\n",
      " $ PM10   : num  139 139 139 140 140 ...\n",
      " $ O3     : num  67.7 65.8 63.9 61.9 60 ...\n"
     ]
    }
   ],
   "source": [
    "# retrieving Beijing data\n",
    "bj_submission_data <- read.csv(paste(\"bj_submission\", curdate, \".csv\"))\n",
    "str(bj_submission_data)"
   ]
  },
  {
   "cell_type": "code",
   "execution_count": 68,
   "metadata": {},
   "outputs": [
    {
     "name": "stdout",
     "output_type": "stream",
     "text": [
      "'data.frame':\t1152 obs. of  4 variables:\n",
      " $ test_id: Factor w/ 1152 levels \"BL0#0\",\"BL0#1\",..: 1057 1058 1069 1080 1091 1100 1101 1102 1103 1104 ...\n",
      " $ PM2.5  : num  13.9 14 14.1 14.2 14.3 ...\n",
      " $ PM10   : num  18.1 18.2 18.4 18.6 18.7 ...\n",
      " $ O3     : num  35.3 36 36.7 37.3 38 ...\n"
     ]
    }
   ],
   "source": [
    "# retreiving London data\n",
    "ld_submission_data <- read.csv(paste(\"ld_submission\", curdate, \".csv\"))\n",
    "str(ld_submission_data)"
   ]
  },
  {
   "cell_type": "code",
   "execution_count": 69,
   "metadata": {},
   "outputs": [
    {
     "name": "stdout",
     "output_type": "stream",
     "text": [
      "'data.frame':\t2832 obs. of  4 variables:\n",
      " $ test_id: Factor w/ 2832 levels \"aotizhongxin_aq#0\",..: 625 626 637 648 659 668 669 670 671 672 ...\n",
      " $ PM2.5  : num  79 79.1 79.2 79.3 79.4 ...\n",
      " $ PM10   : num  139 139 139 140 140 ...\n",
      " $ O3     : num  67.7 65.8 63.9 61.9 60 ...\n"
     ]
    }
   ],
   "source": [
    "# Combining beijing and london data for submission\n",
    "final_submission_data <- rbind(bj_submission_data, ld_submission_data) \n",
    "str(final_submission_data)"
   ]
  },
  {
   "cell_type": "code",
   "execution_count": 70,
   "metadata": {
    "collapsed": true
   },
   "outputs": [],
   "source": [
    "#using sample submission to get the list of stations to submit forecasts for\n",
    "submission_content <- read.csv(\"sample_submission.csv\")\n",
    "submission_content <- submission_content %>% select(test_id)"
   ]
  },
  {
   "cell_type": "code",
   "execution_count": 71,
   "metadata": {},
   "outputs": [
    {
     "name": "stdout",
     "output_type": "stream",
     "text": [
      "'data.frame':\t2304 obs. of  4 variables:\n",
      " $ test_id: Factor w/ 2832 levels \"aotizhongxin_aq#0\",..: 1 2 3 4 5 6 7 8 9 10 ...\n",
      " $ PM2.5  : num  48.9 48.9 49.8 49.9 50 ...\n",
      " $ PM10   : num  85.7 85.8 86 86.1 86.1 ...\n",
      " $ O3     : num  82.2 80.3 63 61.1 59.2 ...\n"
     ]
    }
   ],
   "source": [
    "# extracting forecasts of stationIds that need to be submitted\n",
    "final_submission_data <- merge(final_submission_data, submission_content, by = \"test_id\")\n",
    "str(final_submission_data)"
   ]
  },
  {
   "cell_type": "code",
   "execution_count": 72,
   "metadata": {
    "collapsed": true
   },
   "outputs": [],
   "source": [
    "# writing the final data to a csv file\n",
    "write.csv(final_submission_data, file = paste(\"final_submission\",Sys.Date(),\".csv\"), row.names = FALSE)"
   ]
  },
  {
   "cell_type": "code",
   "execution_count": 73,
   "metadata": {
    "collapsed": true
   },
   "outputs": [],
   "source": [
    "# variables required for submission\n",
    "team_token <- \"42e2da041f15c8ff9c6cb4855b1bf01a37d1b7be90f08c1243ebc336cacffd8f\"\n",
    "data_token <- '2k0d1d8' # This is the ID applied to all participants to get the data. Do not change it.\n",
    "user_id <- \"vanethi\"\n",
    "submission_url <- 'https://biendata.com/competition/kdd_2018_submit/'"
   ]
  },
  {
   "cell_type": "code",
   "execution_count": null,
   "metadata": {},
   "outputs": [],
   "source": [
    "forecasting_file <- paste(\"final_submission\",Sys.Date(),\".csv\")"
   ]
  },
  {
   "cell_type": "code",
   "execution_count": null,
   "metadata": {},
   "outputs": [],
   "source": [
    "# code chunk for api submission\n",
    "post_result <- POST(submission_url, body=list(files=upload_file(forecasting_file, type=\"text/csv\"), \n",
    "                                              user_id=user_id, \n",
    "                                              team_token=team_token,\n",
    "                                              description=\"submission\",\n",
    "                                              filename=paste(\"final_submission\",Sys.Date(),\".csv\")))\n",
    "if (post_result$status_code == 200){\n",
    "  print(\"Forecasts successfully submitted for evaluation\")\n",
    "}"
   ]
  },
  {
   "cell_type": "code",
   "execution_count": 74,
   "metadata": {
    "collapsed": true
   },
   "outputs": [],
   "source": [
    "# resetting system timezone\n",
    "Sys.unsetenv(\"TZ\")"
   ]
  }
 ],
 "metadata": {
  "kernelspec": {
   "display_name": "R",
   "language": "R",
   "name": "ir"
  },
  "language_info": {
   "codemirror_mode": "r",
   "file_extension": ".r",
   "mimetype": "text/x-r-source",
   "name": "R",
   "pygments_lexer": "r",
   "version": "3.4.2"
  }
 },
 "nbformat": 4,
 "nbformat_minor": 2
}
