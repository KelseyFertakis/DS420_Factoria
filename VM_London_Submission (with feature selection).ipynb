{
 "cells": [
  {
   "cell_type": "markdown",
   "metadata": {},
   "source": [
    "### Import and transformations of API data"
   ]
  },
  {
   "cell_type": "code",
   "execution_count": 1,
   "metadata": {},
   "outputs": [
    {
     "data": {
      "text/html": [
       "<strong>null device:</strong> 1"
      ],
      "text/latex": [
       "\\textbf{null device:} 1"
      ],
      "text/markdown": [
       "**null device:** 1"
      ],
      "text/plain": [
       "null device \n",
       "          1 "
      ]
     },
     "metadata": {},
     "output_type": "display_data"
    },
    {
     "name": "stdout",
     "output_type": "stream",
     "text": [
      "\f"
     ]
    }
   ],
   "source": [
    "if(!is.null(dev.list())) dev.off() # Clear Plots\n",
    "rm(list=ls()) # Clear objects from Memory\n",
    "cat(\"\\014\") # Clear Console\n",
    "# writeClipboard(as.character(x)) # copy data frame to clipboard"
   ]
  },
  {
   "cell_type": "code",
   "execution_count": 2,
   "metadata": {},
   "outputs": [
    {
     "name": "stderr",
     "output_type": "stream",
     "text": [
      "Warning message:\n",
      "\"package 'RCurl' was built under R version 3.4.4\"Loading required package: bitops\n",
      "Loading required package: gsubfn\n",
      "Loading required package: proto\n",
      "Could not load tcltk.  Will use slower R code instead.\n",
      "Loading required package: RSQLite\n",
      "Warning message:\n",
      "\"package 'digest' was built under R version 3.4.3\"Warning message:\n",
      "\"package 'dplyr' was built under R version 3.4.3\"\n",
      "Attaching package: 'dplyr'\n",
      "\n",
      "The following objects are masked from 'package:stats':\n",
      "\n",
      "    filter, lag\n",
      "\n",
      "The following objects are masked from 'package:base':\n",
      "\n",
      "    intersect, setdiff, setequal, union\n",
      "\n",
      "Warning message:\n",
      "\"package 'anytime' was built under R version 3.4.4\"Warning message:\n",
      "\"package 'geosphere' was built under R version 3.4.4\"Warning message:\n",
      "\"package 'lubridate' was built under R version 3.4.3\"\n",
      "Attaching package: 'lubridate'\n",
      "\n",
      "The following object is masked from 'package:base':\n",
      "\n",
      "    date\n",
      "\n",
      "Warning message:\n",
      "\"package 'chron' was built under R version 3.4.3\"\n",
      "Attaching package: 'chron'\n",
      "\n",
      "The following objects are masked from 'package:lubridate':\n",
      "\n",
      "    days, hours, minutes, seconds, years\n",
      "\n",
      "Loading required package: caret\n",
      "Warning message:\n",
      "\"package 'caret' was built under R version 3.4.4\"Loading required package: lattice\n",
      "Warning message:\n",
      "\"package 'lattice' was built under R version 3.4.3\"Loading required package: ggplot2\n",
      "Warning message:\n",
      "\"package 'ggplot2' was built under R version 3.4.3\"Loading required package: rattle\n",
      "Warning message:\n",
      "\"package 'rattle' was built under R version 3.4.4\"Rattle: A free graphical interface for data science with R.\n",
      "Version 5.1.0 Copyright (c) 2006-2017 Togaware Pty Ltd.\n",
      "Type 'rattle()' to shake, rattle, and roll your data.\n",
      "Loading required package: yardstick\n",
      "Warning message:\n",
      "\"package 'yardstick' was built under R version 3.4.4\"Loading required package: broom\n",
      "Warning message:\n",
      "\"package 'broom' was built under R version 3.4.4\"\n",
      "Attaching package: 'yardstick'\n",
      "\n",
      "The following objects are masked from 'package:caret':\n",
      "\n",
      "    mnLogLoss, precision, recall\n",
      "\n"
     ]
    }
   ],
   "source": [
    "library(RCurl)\n",
    "library(sqldf)\n",
    "library(digest)\n",
    "library(dplyr)\n",
    "library(anytime)\n",
    "library(geosphere)\n",
    "library(lubridate)\n",
    "library(chron)\n",
    "require(caret)\n",
    "require(rattle)\n",
    "require(yardstick)"
   ]
  },
  {
   "cell_type": "code",
   "execution_count": 3,
   "metadata": {
    "collapsed": true
   },
   "outputs": [],
   "source": [
    "# set working directory\n",
    "setwd(\"C:/Users/vanethi/Documents/GitHub/DS420_Factoria\")"
   ]
  },
  {
   "cell_type": "code",
   "execution_count": 4,
   "metadata": {
    "collapsed": true
   },
   "outputs": [],
   "source": [
    "# set start and end date\n",
    "startDate <- '2017-12-31-0'\n",
    "endDate <- '2018-06-01-0'"
   ]
  },
  {
   "cell_type": "code",
   "execution_count": 5,
   "metadata": {
    "collapsed": true
   },
   "outputs": [],
   "source": [
    "# pull data for London\n",
    "\n",
    "# acquire air quality data\n",
    "ld_aq_url <- paste0(\"https://biendata.com/competition/airquality/ld/\",startDate,\"/\",endDate,\"/2k0d1d8\")\n",
    "ld_aq_file <- getURL(ld_aq_url, ssl.verifyhost=FALSE, ssl.verifypeer=FALSE)\n",
    "ld_aq_data <- read.csv(textConnection(ld_aq_file), header=TRUE)\n",
    "  \n",
    "# acquire API grid meteorology data\n",
    "ld_gm_url <- paste0(\"https://biendata.com/competition/meteorology/ld_grid/\",startDate,\"/\",endDate,\"/2k0d1d8\")\n",
    "ld_gm_file <- getURL(ld_gm_url, ssl.verifyhost=FALSE, ssl.verifypeer=FALSE)\n",
    "ld_gm_data <- read.csv(textConnection(ld_gm_file), header=TRUE)"
   ]
  },
  {
   "cell_type": "code",
   "execution_count": 6,
   "metadata": {},
   "outputs": [
    {
     "data": {
      "text/html": [
       "<ol class=list-inline>\n",
       "\t<li>'ld_gm_data'</li>\n",
       "\t<li>'ld_aq_data'</li>\n",
       "</ol>\n"
      ],
      "text/latex": [
       "\\begin{enumerate*}\n",
       "\\item 'ld\\_gm\\_data'\n",
       "\\item 'ld\\_aq\\_data'\n",
       "\\end{enumerate*}\n"
      ],
      "text/markdown": [
       "1. 'ld_gm_data'\n",
       "2. 'ld_aq_data'\n",
       "\n",
       "\n"
      ],
      "text/plain": [
       "[1] \"ld_gm_data\" \"ld_aq_data\""
      ]
     },
     "metadata": {},
     "output_type": "display_data"
    }
   ],
   "source": [
    "# list of available data frames\n",
    "df.list <- names(which(unlist(eapply(.GlobalEnv,is.data.frame))))\n",
    "df.list"
   ]
  },
  {
   "cell_type": "code",
   "execution_count": 7,
   "metadata": {
    "collapsed": true
   },
   "outputs": [],
   "source": [
    "# Converting character to datetime\n",
    "ld_gm_data$time <- anytime(ld_gm_data$time)\n",
    "ld_aq_data$time <- anytime(ld_aq_data$time)"
   ]
  },
  {
   "cell_type": "code",
   "execution_count": 8,
   "metadata": {},
   "outputs": [
    {
     "name": "stdout",
     "output_type": "stream",
     "text": [
      "[1] \"ld_gm_data\"\n",
      "'data.frame':\t1246627 obs. of  9 variables:\n",
      " $ id            : int  2000096 2000097 2000098 2000099 2000100 2000101 2000102 2000103 2000104 2000105 ...\n",
      " $ station_id    : Factor w/ 861 levels \"london_grid_000\",..: 1 2 3 4 5 6 7 8 9 10 ...\n",
      " $ time          : POSIXct, format: \"2018-03-31 07:00:00\" \"2018-03-31 07:00:00\" ...\n",
      " $ weather       : Factor w/ 8 levels \"CLEAR_DAY\",\"CLEAR_NIGHT\",..: 3 3 3 6 6 6 6 6 6 6 ...\n",
      " $ temperature   : num  6.14 5.43 4.73 4.25 3.99 3.72 3.75 3.78 3.86 3.98 ...\n",
      " $ pressure      : num  995 994 993 990 986 ...\n",
      " $ humidity      : num  85 88 91 93 95 97 96 96 96 96 ...\n",
      " $ wind_direction: num  304 303 302 303 306 ...\n",
      " $ wind_speed    : num  22 18.9 15.8 14.1 13.6 ...\n",
      "NULL\n",
      "[1] \"ld_aq_data\"\n",
      "'data.frame':\t28060 obs. of  9 variables:\n",
      " $ id                : int  2941506 2941507 2941508 2941509 2941510 2941511 2941512 2941513 2941514 2941515 ...\n",
      " $ station_id        : Factor w/ 19 levels \"BL0\",\"BX1\",\"BX9\",..: 4 1 10 15 12 9 11 14 8 13 ...\n",
      " $ time              : POSIXct, format: \"2018-03-31 07:00:00\" \"2018-03-31 07:00:00\" ...\n",
      " $ PM25_Concentration: num  9.9 8.5 4.8 9.3 8.6 7.4 3.8 14.4 7.4 5.9 ...\n",
      " $ PM10_Concentration: num  14.3 8.8 8.9 10.4 10.5 10.6 6.6 24.1 13.1 6.9 ...\n",
      " $ NO2_Concentration : num  70.4 44.8 16.5 NA 35.7 48.9 36.5 43.3 57.5 NA ...\n",
      " $ CO_Concentration  : logi  NA NA NA NA NA NA ...\n",
      " $ O3_Concentration  : logi  NA NA NA NA NA NA ...\n",
      " $ SO2_Concentration : logi  NA NA NA NA NA NA ...\n",
      "NULL\n"
     ]
    }
   ],
   "source": [
    "# printing structure of all the datasets\n",
    "for (i in 1:length(df.list)) {\n",
    " print(df.list[i])\n",
    "  print(str(get(df.list[i])))\n",
    "}"
   ]
  },
  {
   "cell_type": "code",
   "execution_count": 9,
   "metadata": {},
   "outputs": [
    {
     "name": "stdout",
     "output_type": "stream",
     "text": [
      "[1] \"ld_gm_data\"\n"
     ]
    },
    {
     "data": {
      "text/html": [
       "<table>\n",
       "<thead><tr><th scope=col>min_date</th><th scope=col>max_date</th></tr></thead>\n",
       "<tbody>\n",
       "\t<tr><td>2018-03-31 07:00:00</td><td>2018-06-01         </td></tr>\n",
       "</tbody>\n",
       "</table>\n"
      ],
      "text/latex": [
       "\\begin{tabular}{r|ll}\n",
       " min\\_date & max\\_date\\\\\n",
       "\\hline\n",
       "\t 2018-03-31 07:00:00 & 2018-06-01         \\\\\n",
       "\\end{tabular}\n"
      ],
      "text/markdown": [
       "\n",
       "min_date | max_date | \n",
       "|---|\n",
       "| 2018-03-31 07:00:00 | 2018-06-01          | \n",
       "\n",
       "\n"
      ],
      "text/plain": [
       "  min_date            max_date  \n",
       "1 2018-03-31 07:00:00 2018-06-01"
      ]
     },
     "metadata": {},
     "output_type": "display_data"
    },
    {
     "name": "stdout",
     "output_type": "stream",
     "text": [
      "[1] \"ld_aq_data\"\n"
     ]
    },
    {
     "data": {
      "text/html": [
       "<table>\n",
       "<thead><tr><th scope=col>min_date</th><th scope=col>max_date</th></tr></thead>\n",
       "<tbody>\n",
       "\t<tr><td>2018-03-31 07:00:00</td><td>2018-06-01         </td></tr>\n",
       "</tbody>\n",
       "</table>\n"
      ],
      "text/latex": [
       "\\begin{tabular}{r|ll}\n",
       " min\\_date & max\\_date\\\\\n",
       "\\hline\n",
       "\t 2018-03-31 07:00:00 & 2018-06-01         \\\\\n",
       "\\end{tabular}\n"
      ],
      "text/markdown": [
       "\n",
       "min_date | max_date | \n",
       "|---|\n",
       "| 2018-03-31 07:00:00 | 2018-06-01          | \n",
       "\n",
       "\n"
      ],
      "text/plain": [
       "  min_date            max_date  \n",
       "1 2018-03-31 07:00:00 2018-06-01"
      ]
     },
     "metadata": {},
     "output_type": "display_data"
    }
   ],
   "source": [
    "# Printing the min and max dates of all datasets\n",
    "print(\"ld_gm_data\")\n",
    "ld_gm_data %>% summarize(min_date = min(time), max_date = max(time))\n",
    "print(\"ld_aq_data\")\n",
    "ld_aq_data %>% summarize(min_date = min(time), max_date = max(time))"
   ]
  },
  {
   "cell_type": "code",
   "execution_count": 10,
   "metadata": {
    "collapsed": true
   },
   "outputs": [],
   "source": [
    "# using only required columns\n",
    "ld_aq_data <- ld_aq_data %>% select(-id)\n",
    "ld_gm_data <- ld_gm_data %>% select(-c(id, weather))"
   ]
  },
  {
   "cell_type": "code",
   "execution_count": 11,
   "metadata": {
    "collapsed": true
   },
   "outputs": [],
   "source": [
    "# London closest grids to stations\n",
    "ld_closest_stations <- read.csv('SL_london_closest_stations.csv')"
   ]
  },
  {
   "cell_type": "code",
   "execution_count": 12,
   "metadata": {},
   "outputs": [],
   "source": [
    "# Modifying column names for consistency\n",
    "colnames(ld_closest_stations) <- c('x',\"stationId\",\"stationName\",\"distance\") \n",
    "colnames(ld_aq_data) <- c(\"stationId\",\"utc_time\",\"PM2.5\",\"PM10\",\"NO2\",\"CO\",\"O3\", \"SO2\") \n",
    "colnames(ld_gm_data) <- c(\"stationName\",\"utc_time\",\"temperature\",\"pressure\",\"humidity\",\"wind_direction\",\"wind_speed.kph\") "
   ]
  },
  {
   "cell_type": "code",
   "execution_count": 13,
   "metadata": {},
   "outputs": [
    {
     "name": "stdout",
     "output_type": "stream",
     "text": [
      "'data.frame':\t24 obs. of  4 variables:\n",
      " $ x          : int  1 2 3 4 5 6 7 8 9 10 ...\n",
      " $ stationId  : Factor w/ 24 levels \"BL0\",\"BX1\",\"BX9\",..: 3 2 1 5 4 7 8 6 10 12 ...\n",
      " $ stationName: Factor w/ 10 levels \"london_grid_346\",..: 10 10 6 6 4 6 6 5 8 8 ...\n",
      " $ distance   : num  3929 3929 3060 3683 5212 ...\n",
      "'data.frame':\t1246627 obs. of  7 variables:\n",
      " $ stationName   : Factor w/ 861 levels \"london_grid_000\",..: 1 2 3 4 5 6 7 8 9 10 ...\n",
      " $ utc_time      : POSIXct, format: \"2018-03-31 07:00:00\" \"2018-03-31 07:00:00\" ...\n",
      " $ temperature   : num  6.14 5.43 4.73 4.25 3.99 3.72 3.75 3.78 3.86 3.98 ...\n",
      " $ pressure      : num  995 994 993 990 986 ...\n",
      " $ humidity      : num  85 88 91 93 95 97 96 96 96 96 ...\n",
      " $ wind_direction: num  304 303 302 303 306 ...\n",
      " $ wind_speed.kph: num  22 18.9 15.8 14.1 13.6 ...\n",
      "'data.frame':\t28060 obs. of  8 variables:\n",
      " $ stationId: Factor w/ 19 levels \"BL0\",\"BX1\",\"BX9\",..: 4 1 10 15 12 9 11 14 8 13 ...\n",
      " $ utc_time : POSIXct, format: \"2018-03-31 07:00:00\" \"2018-03-31 07:00:00\" ...\n",
      " $ PM2.5    : num  9.9 8.5 4.8 9.3 8.6 7.4 3.8 14.4 7.4 5.9 ...\n",
      " $ PM10     : num  14.3 8.8 8.9 10.4 10.5 10.6 6.6 24.1 13.1 6.9 ...\n",
      " $ NO2      : num  70.4 44.8 16.5 NA 35.7 48.9 36.5 43.3 57.5 NA ...\n",
      " $ CO       : logi  NA NA NA NA NA NA ...\n",
      " $ O3       : logi  NA NA NA NA NA NA ...\n",
      " $ SO2      : logi  NA NA NA NA NA NA ...\n"
     ]
    },
    {
     "data": {
      "text/html": [
       "<table>\n",
       "<thead><tr><th scope=col>x</th><th scope=col>stationId</th><th scope=col>stationName</th><th scope=col>distance</th></tr></thead>\n",
       "<tbody>\n",
       "\t<tr><td>1              </td><td>BX9            </td><td>london_grid_472</td><td>3929.170       </td></tr>\n",
       "\t<tr><td>2              </td><td>BX1            </td><td>london_grid_472</td><td>3929.170       </td></tr>\n",
       "\t<tr><td>3              </td><td>BL0            </td><td>london_grid_409</td><td>3059.760       </td></tr>\n",
       "\t<tr><td>4              </td><td>CD9            </td><td>london_grid_409</td><td>3682.914       </td></tr>\n",
       "\t<tr><td>5              </td><td>CD1            </td><td>london_grid_388</td><td>5211.633       </td></tr>\n",
       "\t<tr><td>6              </td><td>CT2            </td><td>london_grid_409</td><td>1646.945       </td></tr>\n",
       "</tbody>\n",
       "</table>\n"
      ],
      "text/latex": [
       "\\begin{tabular}{r|llll}\n",
       " x & stationId & stationName & distance\\\\\n",
       "\\hline\n",
       "\t 1                   & BX9                 & london\\_grid\\_472 & 3929.170           \\\\\n",
       "\t 2                   & BX1                 & london\\_grid\\_472 & 3929.170           \\\\\n",
       "\t 3                   & BL0                 & london\\_grid\\_409 & 3059.760           \\\\\n",
       "\t 4                   & CD9                 & london\\_grid\\_409 & 3682.914           \\\\\n",
       "\t 5                   & CD1                 & london\\_grid\\_388 & 5211.633           \\\\\n",
       "\t 6                   & CT2                 & london\\_grid\\_409 & 1646.945           \\\\\n",
       "\\end{tabular}\n"
      ],
      "text/markdown": [
       "\n",
       "x | stationId | stationName | distance | \n",
       "|---|---|---|---|---|---|\n",
       "| 1               | BX9             | london_grid_472 | 3929.170        | \n",
       "| 2               | BX1             | london_grid_472 | 3929.170        | \n",
       "| 3               | BL0             | london_grid_409 | 3059.760        | \n",
       "| 4               | CD9             | london_grid_409 | 3682.914        | \n",
       "| 5               | CD1             | london_grid_388 | 5211.633        | \n",
       "| 6               | CT2             | london_grid_409 | 1646.945        | \n",
       "\n",
       "\n"
      ],
      "text/plain": [
       "  x stationId stationName     distance\n",
       "1 1 BX9       london_grid_472 3929.170\n",
       "2 2 BX1       london_grid_472 3929.170\n",
       "3 3 BL0       london_grid_409 3059.760\n",
       "4 4 CD9       london_grid_409 3682.914\n",
       "5 5 CD1       london_grid_388 5211.633\n",
       "6 6 CT2       london_grid_409 1646.945"
      ]
     },
     "metadata": {},
     "output_type": "display_data"
    }
   ],
   "source": [
    "str(ld_closest_stations)\n",
    "str(ld_gm_data)\n",
    "str(ld_aq_data)\n",
    "head(ld_closest_stations)"
   ]
  },
  {
   "cell_type": "code",
   "execution_count": 14,
   "metadata": {
    "collapsed": true
   },
   "outputs": [],
   "source": [
    "# Mapping stationIds with respective grids\n",
    "ld_aq_map <- merge(ld_aq_data,ld_closest_stations, by = \"stationId\")"
   ]
  },
  {
   "cell_type": "code",
   "execution_count": 15,
   "metadata": {
    "collapsed": true
   },
   "outputs": [],
   "source": [
    "# Merge of AirQuality and Meteorology data\n",
    "ld_aq_gm_data <- merge(ld_aq_map, ld_gm_data, by = c(\"stationName\",\"utc_time\"))"
   ]
  },
  {
   "cell_type": "code",
   "execution_count": 16,
   "metadata": {},
   "outputs": [
    {
     "name": "stdout",
     "output_type": "stream",
     "text": [
      "'data.frame':\t27432 obs. of  16 variables:\n",
      " $ stationName   : Factor w/ 10 levels \"london_grid_346\",..: 2 2 2 2 2 2 2 2 2 2 ...\n",
      " $ utc_time      : POSIXct, format: \"2018-03-31 07:00:00\" \"2018-03-31 08:00:00\" ...\n",
      " $ stationId     : Factor w/ 19 levels \"BL0\",\"BX1\",\"BX9\",..: 18 18 18 18 18 18 18 18 18 18 ...\n",
      " $ PM2.5         : num  8.7 6.8 4.5 8.2 11.8 10.2 11.6 10.3 8.8 8.6 ...\n",
      " $ PM10          : num  NA NA NA NA NA NA NA NA NA NA ...\n",
      " $ NO2           : num  NA NA NA NA NA NA NA NA NA NA ...\n",
      " $ CO            : logi  NA NA NA NA NA NA ...\n",
      " $ O3            : logi  NA NA NA NA NA NA ...\n",
      " $ SO2           : logi  NA NA NA NA NA NA ...\n",
      " $ x             : int  21 21 21 21 21 21 21 21 21 21 ...\n",
      " $ distance      : num  4235 4235 4235 4235 4235 ...\n",
      " $ temperature   : num  4.83 5.42 6.05 6.1 7.05 7.8 8.08 8.44 8.57 8.02 ...\n",
      " $ pressure      : num  987 987 988 989 992 ...\n",
      " $ humidity      : num  87 84 81 79 74 71 73 71 70 73 ...\n",
      " $ wind_direction: num  205 210 214 234 242 ...\n",
      " $ wind_speed.kph: num  11.3 11.95 12.01 10.18 7.95 ...\n"
     ]
    },
    {
     "data": {
      "text/html": [
       "<table>\n",
       "<thead><tr><th scope=col>stationName</th><th scope=col>utc_time</th><th scope=col>stationId</th><th scope=col>PM2.5</th><th scope=col>PM10</th><th scope=col>NO2</th><th scope=col>CO</th><th scope=col>O3</th><th scope=col>SO2</th><th scope=col>x</th><th scope=col>distance</th><th scope=col>temperature</th><th scope=col>pressure</th><th scope=col>humidity</th><th scope=col>wind_direction</th><th scope=col>wind_speed.kph</th></tr></thead>\n",
       "<tbody>\n",
       "\t<tr><td>london_grid_366    </td><td>2018-03-31 07:00:00</td><td>TD5                </td><td> 8.7               </td><td>NA                 </td><td>NA                 </td><td>NA                 </td><td>NA                 </td><td>NA                 </td><td>21                 </td><td>4234.613           </td><td>4.83               </td><td>986.8419           </td><td>87                 </td><td>205.39             </td><td>11.30              </td></tr>\n",
       "\t<tr><td>london_grid_366    </td><td>2018-03-31 08:00:00</td><td>TD5                </td><td> 6.8               </td><td>NA                 </td><td>NA                 </td><td>NA                 </td><td>NA                 </td><td>NA                 </td><td>21                 </td><td>4234.613           </td><td>5.42               </td><td>987.2517           </td><td>84                 </td><td>210.33             </td><td>11.95              </td></tr>\n",
       "\t<tr><td>london_grid_366    </td><td>2018-03-31 09:00:00</td><td>TD5                </td><td> 4.5               </td><td>NA                 </td><td>NA                 </td><td>NA                 </td><td>NA                 </td><td>NA                 </td><td>21                 </td><td>4234.613           </td><td>6.05               </td><td>987.7612           </td><td>81                 </td><td>214.35             </td><td>12.01              </td></tr>\n",
       "\t<tr><td>london_grid_366    </td><td>2018-03-31 10:00:00</td><td>TD5                </td><td> 8.2               </td><td>NA                 </td><td>NA                 </td><td>NA                 </td><td>NA                 </td><td>NA                 </td><td>21                 </td><td>4234.613           </td><td>6.10               </td><td>988.8336           </td><td>79                 </td><td>233.70             </td><td>10.18              </td></tr>\n",
       "\t<tr><td>london_grid_366    </td><td>2018-03-31 11:00:00</td><td>TD5                </td><td>11.8               </td><td>NA                 </td><td>NA                 </td><td>NA                 </td><td>NA                 </td><td>NA                 </td><td>21                 </td><td>4234.613           </td><td>7.05               </td><td>991.6767           </td><td>74                 </td><td>242.44             </td><td> 7.95              </td></tr>\n",
       "\t<tr><td>london_grid_366    </td><td>2018-03-31 12:00:00</td><td>TD5                </td><td>10.2               </td><td>NA                 </td><td>NA                 </td><td>NA                 </td><td>NA                 </td><td>NA                 </td><td>21                 </td><td>4234.613           </td><td>7.80               </td><td>992.0664           </td><td>71                 </td><td>267.43             </td><td> 6.76              </td></tr>\n",
       "</tbody>\n",
       "</table>\n"
      ],
      "text/latex": [
       "\\begin{tabular}{r|llllllllllllllll}\n",
       " stationName & utc\\_time & stationId & PM2.5 & PM10 & NO2 & CO & O3 & SO2 & x & distance & temperature & pressure & humidity & wind\\_direction & wind\\_speed.kph\\\\\n",
       "\\hline\n",
       "\t london\\_grid\\_366 & 2018-03-31 07:00:00 & TD5                 &  8.7                & NA                  & NA                  & NA                  & NA                  & NA                  & 21                  & 4234.613            & 4.83                & 986.8419            & 87                  & 205.39              & 11.30              \\\\\n",
       "\t london\\_grid\\_366 & 2018-03-31 08:00:00 & TD5                 &  6.8                & NA                  & NA                  & NA                  & NA                  & NA                  & 21                  & 4234.613            & 5.42                & 987.2517            & 84                  & 210.33              & 11.95              \\\\\n",
       "\t london\\_grid\\_366 & 2018-03-31 09:00:00 & TD5                 &  4.5                & NA                  & NA                  & NA                  & NA                  & NA                  & 21                  & 4234.613            & 6.05                & 987.7612            & 81                  & 214.35              & 12.01              \\\\\n",
       "\t london\\_grid\\_366 & 2018-03-31 10:00:00 & TD5                 &  8.2                & NA                  & NA                  & NA                  & NA                  & NA                  & 21                  & 4234.613            & 6.10                & 988.8336            & 79                  & 233.70              & 10.18              \\\\\n",
       "\t london\\_grid\\_366 & 2018-03-31 11:00:00 & TD5                 & 11.8                & NA                  & NA                  & NA                  & NA                  & NA                  & 21                  & 4234.613            & 7.05                & 991.6767            & 74                  & 242.44              &  7.95              \\\\\n",
       "\t london\\_grid\\_366 & 2018-03-31 12:00:00 & TD5                 & 10.2                & NA                  & NA                  & NA                  & NA                  & NA                  & 21                  & 4234.613            & 7.80                & 992.0664            & 71                  & 267.43              &  6.76              \\\\\n",
       "\\end{tabular}\n"
      ],
      "text/markdown": [
       "\n",
       "stationName | utc_time | stationId | PM2.5 | PM10 | NO2 | CO | O3 | SO2 | x | distance | temperature | pressure | humidity | wind_direction | wind_speed.kph | \n",
       "|---|---|---|---|---|---|\n",
       "| london_grid_366     | 2018-03-31 07:00:00 | TD5                 |  8.7                | NA                  | NA                  | NA                  | NA                  | NA                  | 21                  | 4234.613            | 4.83                | 986.8419            | 87                  | 205.39              | 11.30               | \n",
       "| london_grid_366     | 2018-03-31 08:00:00 | TD5                 |  6.8                | NA                  | NA                  | NA                  | NA                  | NA                  | 21                  | 4234.613            | 5.42                | 987.2517            | 84                  | 210.33              | 11.95               | \n",
       "| london_grid_366     | 2018-03-31 09:00:00 | TD5                 |  4.5                | NA                  | NA                  | NA                  | NA                  | NA                  | 21                  | 4234.613            | 6.05                | 987.7612            | 81                  | 214.35              | 12.01               | \n",
       "| london_grid_366     | 2018-03-31 10:00:00 | TD5                 |  8.2                | NA                  | NA                  | NA                  | NA                  | NA                  | 21                  | 4234.613            | 6.10                | 988.8336            | 79                  | 233.70              | 10.18               | \n",
       "| london_grid_366     | 2018-03-31 11:00:00 | TD5                 | 11.8                | NA                  | NA                  | NA                  | NA                  | NA                  | 21                  | 4234.613            | 7.05                | 991.6767            | 74                  | 242.44              |  7.95               | \n",
       "| london_grid_366     | 2018-03-31 12:00:00 | TD5                 | 10.2                | NA                  | NA                  | NA                  | NA                  | NA                  | 21                  | 4234.613            | 7.80                | 992.0664            | 71                  | 267.43              |  6.76               | \n",
       "\n",
       "\n"
      ],
      "text/plain": [
       "  stationName     utc_time            stationId PM2.5 PM10 NO2 CO O3 SO2 x \n",
       "1 london_grid_366 2018-03-31 07:00:00 TD5        8.7  NA   NA  NA NA NA  21\n",
       "2 london_grid_366 2018-03-31 08:00:00 TD5        6.8  NA   NA  NA NA NA  21\n",
       "3 london_grid_366 2018-03-31 09:00:00 TD5        4.5  NA   NA  NA NA NA  21\n",
       "4 london_grid_366 2018-03-31 10:00:00 TD5        8.2  NA   NA  NA NA NA  21\n",
       "5 london_grid_366 2018-03-31 11:00:00 TD5       11.8  NA   NA  NA NA NA  21\n",
       "6 london_grid_366 2018-03-31 12:00:00 TD5       10.2  NA   NA  NA NA NA  21\n",
       "  distance temperature pressure humidity wind_direction wind_speed.kph\n",
       "1 4234.613 4.83        986.8419 87       205.39         11.30         \n",
       "2 4234.613 5.42        987.2517 84       210.33         11.95         \n",
       "3 4234.613 6.05        987.7612 81       214.35         12.01         \n",
       "4 4234.613 6.10        988.8336 79       233.70         10.18         \n",
       "5 4234.613 7.05        991.6767 74       242.44          7.95         \n",
       "6 4234.613 7.80        992.0664 71       267.43          6.76         "
      ]
     },
     "metadata": {},
     "output_type": "display_data"
    },
    {
     "data": {
      "text/html": [
       "<table>\n",
       "<thead><tr><th scope=col>min_date</th><th scope=col>max_date</th></tr></thead>\n",
       "<tbody>\n",
       "\t<tr><td>2018-03-31 07:00:00</td><td>2018-06-01         </td></tr>\n",
       "</tbody>\n",
       "</table>\n"
      ],
      "text/latex": [
       "\\begin{tabular}{r|ll}\n",
       " min\\_date & max\\_date\\\\\n",
       "\\hline\n",
       "\t 2018-03-31 07:00:00 & 2018-06-01         \\\\\n",
       "\\end{tabular}\n"
      ],
      "text/markdown": [
       "\n",
       "min_date | max_date | \n",
       "|---|\n",
       "| 2018-03-31 07:00:00 | 2018-06-01          | \n",
       "\n",
       "\n"
      ],
      "text/plain": [
       "  min_date            max_date  \n",
       "1 2018-03-31 07:00:00 2018-06-01"
      ]
     },
     "metadata": {},
     "output_type": "display_data"
    }
   ],
   "source": [
    "str(ld_aq_gm_data)\n",
    "head(ld_aq_gm_data)\n",
    "ld_aq_gm_data %>% summarize(min_date = min(utc_time), max_date = max(utc_time))"
   ]
  },
  {
   "cell_type": "code",
   "execution_count": 17,
   "metadata": {
    "collapsed": true
   },
   "outputs": [],
   "source": [
    "rm(\"ld_gm_data\")\n",
    "rm(\"ld_aq_data\")\n",
    "rm(\"ld_aq_map\")"
   ]
  },
  {
   "cell_type": "code",
   "execution_count": 18,
   "metadata": {
    "collapsed": true
   },
   "outputs": [],
   "source": [
    "# selecting only required columns\n",
    "ld_aq_gm_data <- ld_aq_gm_data %>% select(c(\"stationName\",\"utc_time\",\"stationId\",\"PM2.5\",\"PM10\", \"O3\",\n",
    "                                            \"temperature\",\"pressure\",\"humidity\",\"wind_direction\",\"wind_speed.kph\"))"
   ]
  },
  {
   "cell_type": "code",
   "execution_count": 19,
   "metadata": {
    "collapsed": true
   },
   "outputs": [],
   "source": [
    "# adding additional columns for modeling\n",
    "ld_aq_gm_data$hour <- hour(ld_aq_gm_data$utc_time)\n",
    "ld_aq_gm_data$month <- month(ld_aq_gm_data$utc_time)\n",
    "ld_aq_gm_data$date <- date(ld_aq_gm_data$utc_time)\n",
    "ld_aq_gm_data$weekend = chron::is.weekend(ld_aq_gm_data$date)"
   ]
  },
  {
   "cell_type": "code",
   "execution_count": 20,
   "metadata": {},
   "outputs": [
    {
     "name": "stdout",
     "output_type": "stream",
     "text": [
      "'data.frame':\t27432 obs. of  15 variables:\n",
      " $ stationName   : Factor w/ 10 levels \"london_grid_346\",..: 2 2 2 2 2 2 2 2 2 2 ...\n",
      " $ utc_time      : POSIXct, format: \"2018-03-31 07:00:00\" \"2018-03-31 08:00:00\" ...\n",
      " $ stationId     : Factor w/ 19 levels \"BL0\",\"BX1\",\"BX9\",..: 18 18 18 18 18 18 18 18 18 18 ...\n",
      " $ PM2.5         : num  8.7 6.8 4.5 8.2 11.8 10.2 11.6 10.3 8.8 8.6 ...\n",
      " $ PM10          : num  NA NA NA NA NA NA NA NA NA NA ...\n",
      " $ O3            : logi  NA NA NA NA NA NA ...\n",
      " $ temperature   : num  4.83 5.42 6.05 6.1 7.05 7.8 8.08 8.44 8.57 8.02 ...\n",
      " $ pressure      : num  987 987 988 989 992 ...\n",
      " $ humidity      : num  87 84 81 79 74 71 73 71 70 73 ...\n",
      " $ wind_direction: num  205 210 214 234 242 ...\n",
      " $ wind_speed.kph: num  11.3 11.95 12.01 10.18 7.95 ...\n",
      " $ hour          : int  7 8 9 10 11 12 13 14 15 16 ...\n",
      " $ month         : num  3 3 3 3 3 3 3 3 3 3 ...\n",
      " $ date          : Date, format: \"2018-03-31\" \"2018-03-31\" ...\n",
      " $ weekend       : logi  TRUE TRUE TRUE TRUE TRUE TRUE ...\n"
     ]
    }
   ],
   "source": [
    "str(ld_aq_gm_data)"
   ]
  },
  {
   "cell_type": "markdown",
   "metadata": {},
   "source": [
    "### Import and transformations of Historical data"
   ]
  },
  {
   "cell_type": "code",
   "execution_count": 21,
   "metadata": {
    "collapsed": true
   },
   "outputs": [],
   "source": [
    "# retreiving historical files\n",
    "ld_aq_gm_hist_file <- \"Ready for Modeling/ld_aq_gm_hist_data.csv\"\n",
    "ld_aq_gm_hist_data <- read.csv(ld_aq_gm_hist_file, header=TRUE, sep=\",\", stringsAsFactors = FALSE)"
   ]
  },
  {
   "cell_type": "code",
   "execution_count": 22,
   "metadata": {
    "collapsed": true
   },
   "outputs": [],
   "source": [
    "# data transformations for consistency\n",
    "ld_aq_gm_hist_data <- ld_aq_gm_hist_data %>% select(-X)\n",
    "ld_aq_gm_hist_data$utc_time <- anytime(ld_aq_gm_hist_data$utc_time)\n",
    "ld_aq_gm_hist_data$date <- as.Date(ld_aq_gm_hist_data$date , \"%Y-%m-%d\")"
   ]
  },
  {
   "cell_type": "code",
   "execution_count": 23,
   "metadata": {
    "collapsed": true
   },
   "outputs": [],
   "source": [
    "colnames(ld_aq_gm_hist_data) <- c(\"stationName\",\"utc_time\",\"stationId\",\"PM2.5\",\"PM10\", \"O3\",\n",
    "                                \"temperature\",\"pressure\",\"humidity\",\"wind_direction\",\"wind_speed.kph\", \n",
    "                                 \"hour\",\"month\", \"date\", \"weekend\")"
   ]
  },
  {
   "cell_type": "code",
   "execution_count": 24,
   "metadata": {},
   "outputs": [
    {
     "name": "stdout",
     "output_type": "stream",
     "text": [
      "'data.frame':\t257936 obs. of  15 variables:\n",
      " $ stationName   : chr  \"london_grid_346\" \"london_grid_346\" \"london_grid_346\" \"london_grid_346\" ...\n",
      " $ utc_time      : POSIXct, format: \"2017-01-01 08:00:00\" \"2017-01-01 09:00:00\" ...\n",
      " $ stationId     : chr  \"LH0\" \"LH0\" \"LH0\" \"LH0\" ...\n",
      " $ PM2.5         : num  18.3 16.3 13.3 9.4 6.1 6.7 2.1 0.9 1.1 1 ...\n",
      " $ PM10          : num  21.3 19.5 16.2 11.6 8.5 13.4 4.6 2 2.1 2 ...\n",
      " $ O3            : num  41.6 44.1 49.1 45.2 41.4 53.6 11.7 12.1 12 13.5 ...\n",
      " $ temperature   : num  6.05 6.05 6.04 6.04 6.25 6.46 6.67 6.91 7.15 7.39 ...\n",
      " $ pressure      : num  1019 1018 1017 1016 1015 ...\n",
      " $ humidity      : num  90 89.2 88.3 87.4 87.8 ...\n",
      " $ wind_direction: num  221 220 218 217 216 ...\n",
      " $ wind_speed.kph: num  16.4 17.1 17.7 18.4 18.8 ...\n",
      " $ hour          : int  8 9 10 11 12 13 14 15 16 17 ...\n",
      " $ month         : int  1 1 1 1 1 1 1 1 1 1 ...\n",
      " $ date          : Date, format: \"2017-01-01\" \"2017-01-01\" ...\n",
      " $ weekend       : logi  TRUE TRUE TRUE TRUE TRUE TRUE ...\n"
     ]
    }
   ],
   "source": [
    "str(ld_aq_gm_hist_data)"
   ]
  },
  {
   "cell_type": "code",
   "execution_count": 25,
   "metadata": {
    "collapsed": true
   },
   "outputs": [],
   "source": [
    "# Append API and hist data\n",
    "ld_aq_gm_combined_data <- rbind(ld_aq_gm_data, ld_aq_gm_hist_data)"
   ]
  },
  {
   "cell_type": "code",
   "execution_count": 26,
   "metadata": {},
   "outputs": [
    {
     "name": "stdout",
     "output_type": "stream",
     "text": [
      "'data.frame':\t285368 obs. of  15 variables:\n",
      " $ stationName   : Factor w/ 10 levels \"london_grid_346\",..: 2 2 2 2 2 2 2 2 2 2 ...\n",
      " $ utc_time      : POSIXct, format: \"2018-03-31 07:00:00\" \"2018-03-31 08:00:00\" ...\n",
      " $ stationId     : Factor w/ 24 levels \"BL0\",\"BX1\",\"BX9\",..: 18 18 18 18 18 18 18 18 18 18 ...\n",
      " $ PM2.5         : num  8.7 6.8 4.5 8.2 11.8 10.2 11.6 10.3 8.8 8.6 ...\n",
      " $ PM10          : num  NA NA NA NA NA NA NA NA NA NA ...\n",
      " $ O3            : num  NA NA NA NA NA NA NA NA NA NA ...\n",
      " $ temperature   : num  4.83 5.42 6.05 6.1 7.05 7.8 8.08 8.44 8.57 8.02 ...\n",
      " $ pressure      : num  987 987 988 989 992 ...\n",
      " $ humidity      : num  87 84 81 79 74 71 73 71 70 73 ...\n",
      " $ wind_direction: num  205 210 214 234 242 ...\n",
      " $ wind_speed.kph: num  11.3 11.95 12.01 10.18 7.95 ...\n",
      " $ hour          : int  7 8 9 10 11 12 13 14 15 16 ...\n",
      " $ month         : num  3 3 3 3 3 3 3 3 3 3 ...\n",
      " $ date          : Date, format: \"2018-03-31\" \"2018-03-31\" ...\n",
      " $ weekend       : logi  TRUE TRUE TRUE TRUE TRUE TRUE ...\n"
     ]
    },
    {
     "data": {
      "text/html": [
       "<table>\n",
       "<thead><tr><th scope=col>min_date</th><th scope=col>max_date</th></tr></thead>\n",
       "<tbody>\n",
       "\t<tr><td>2017-01-01 08:00:00</td><td>2018-06-01         </td></tr>\n",
       "</tbody>\n",
       "</table>\n"
      ],
      "text/latex": [
       "\\begin{tabular}{r|ll}\n",
       " min\\_date & max\\_date\\\\\n",
       "\\hline\n",
       "\t 2017-01-01 08:00:00 & 2018-06-01         \\\\\n",
       "\\end{tabular}\n"
      ],
      "text/markdown": [
       "\n",
       "min_date | max_date | \n",
       "|---|\n",
       "| 2017-01-01 08:00:00 | 2018-06-01          | \n",
       "\n",
       "\n"
      ],
      "text/plain": [
       "  min_date            max_date  \n",
       "1 2017-01-01 08:00:00 2018-06-01"
      ]
     },
     "metadata": {},
     "output_type": "display_data"
    },
    {
     "data": {
      "text/plain": [
       "          stationName       utc_time                     stationId     \n",
       " london_grid_409:47598   Min.   :2017-01-01 08:00:00   CD9    : 12258  \n",
       " london_grid_451:47556   1st Qu.:2017-05-07 14:00:00   BL0    : 12250  \n",
       " london_grid_388:47552   Median :2017-09-08 10:00:00   GN0    : 12250  \n",
       " london_grid_430:36749   Mean   :2017-09-09 08:14:20   GN3    : 12250  \n",
       " london_grid_472:36748   3rd Qu.:2018-01-10 08:00:00   GR4    : 12250  \n",
       " london_grid_408:23055   Max.   :2018-06-01 00:00:00   GR9    : 12250  \n",
       " (Other)        :46110                                 (Other):211860  \n",
       "     PM2.5             PM10              O3          temperature   \n",
       " Min.   :-14.00   Min.   :-12.00   Min.   : -8.30   Min.   :-4.57  \n",
       " 1st Qu.:  6.50   1st Qu.: 11.40   1st Qu.: 19.50   1st Qu.: 5.99  \n",
       " Median : 10.30   Median : 17.20   Median : 34.20   Median :10.21  \n",
       " Mean   : 13.47   Mean   : 20.62   Mean   : 39.72   Mean   :10.61  \n",
       " 3rd Qu.: 16.70   3rd Qu.: 26.00   3rd Qu.: 53.80   3rd Qu.:15.08  \n",
       " Max.   :313.00   Max.   :667.10   Max.   :336.10   Max.   :30.28  \n",
       " NA's   :54446    NA's   :100467   NA's   :120597                  \n",
       "    pressure         humidity     wind_direction  wind_speed.kph \n",
       " Min.   : 964.4   Min.   : 7.00   Min.   :  0.0   Min.   : 0.12  \n",
       " 1st Qu.:1004.7   1st Qu.:67.52   1st Qu.:150.0   1st Qu.: 9.84  \n",
       " Median :1011.8   Median :78.15   Median :228.8   Median :14.34  \n",
       " Mean   :1010.5   Mean   :76.55   Mean   :208.2   Mean   :15.29  \n",
       " 3rd Qu.:1017.9   3rd Qu.:87.67   3rd Qu.:272.5   3rd Qu.:19.83  \n",
       " Max.   :1035.8   Max.   :99.40   Max.   :360.0   Max.   :54.41  \n",
       "                                                                 \n",
       "      hour          month             date             weekend       \n",
       " Min.   : 0.0   Min.   : 1.000   Min.   :2017-01-01   Mode :logical  \n",
       " 1st Qu.: 5.0   1st Qu.: 3.000   1st Qu.:2017-05-07   FALSE:203680   \n",
       " Median :11.0   Median : 5.000   Median :2017-09-08   TRUE :81688    \n",
       " Mean   :11.5   Mean   : 5.567   Mean   :2017-09-08                  \n",
       " 3rd Qu.:17.0   3rd Qu.: 8.000   3rd Qu.:2018-01-10                  \n",
       " Max.   :23.0   Max.   :12.000   Max.   :2018-06-01                  \n",
       "                                                                     "
      ]
     },
     "metadata": {},
     "output_type": "display_data"
    }
   ],
   "source": [
    "str(ld_aq_gm_combined_data)\n",
    "ld_aq_gm_combined_data %>% summarize(min_date = min(utc_time), max_date = max(utc_time))\n",
    "summary(ld_aq_gm_combined_data)"
   ]
  },
  {
   "cell_type": "code",
   "execution_count": 27,
   "metadata": {
    "collapsed": true
   },
   "outputs": [],
   "source": [
    "rm(\"ld_aq_gm_data\")\n",
    "rm(\"ld_aq_gm_hist_data\")"
   ]
  },
  {
   "cell_type": "code",
   "execution_count": 28,
   "metadata": {},
   "outputs": [
    {
     "name": "stderr",
     "output_type": "stream",
     "text": [
      "Warning message:\n",
      "\"package 'bindrcpp' was built under R version 3.4.3\""
     ]
    }
   ],
   "source": [
    "# retrieving only air quality stations that need predictions\n",
    "ld_pred_stations <- read.csv(\"Datasets/London_AirQuality_Stations.csv\",  header=TRUE, sep=\",\", stringsAsFactors = FALSE)\n",
    "ld_pred_stations <- ld_pred_stations %>% filter(need_prediction == \"TRUE\") %>% select(station_id)\n",
    "colnames(ld_pred_stations) <- \"stationId\""
   ]
  },
  {
   "cell_type": "code",
   "execution_count": 29,
   "metadata": {
    "collapsed": true
   },
   "outputs": [],
   "source": [
    "ld_aq_gm_combined_data <- merge(ld_aq_gm_combined_data,ld_pred_stations, by = \"stationId\")"
   ]
  },
  {
   "cell_type": "code",
   "execution_count": 30,
   "metadata": {
    "collapsed": true
   },
   "outputs": [],
   "source": [
    "rm(\"ld_pred_stations\")"
   ]
  },
  {
   "cell_type": "code",
   "execution_count": 31,
   "metadata": {},
   "outputs": [
    {
     "name": "stdout",
     "output_type": "stream",
     "text": [
      "'data.frame':\t159252 obs. of  15 variables:\n",
      " $ stationId     : Factor w/ 24 levels \"BL0\",\"BX1\",\"BX9\",..: 1 1 1 1 1 1 1 1 1 1 ...\n",
      " $ stationName   : Factor w/ 10 levels \"london_grid_346\",..: 6 6 6 6 6 6 6 6 6 6 ...\n",
      " $ utc_time      : POSIXct, format: \"2017-03-18 01:00:00\" \"2018-05-10 06:00:00\" ...\n",
      " $ PM2.5         : num  3.9 1.5 9.9 10.5 8.1 11.9 5.7 5.8 8.1 19.7 ...\n",
      " $ PM10          : num  5.4 6.4 14.1 18.3 8.9 13.8 5.7 12.9 NA 28.4 ...\n",
      " $ O3            : num  11.9 NA 20.7 44.9 48.8 29.5 18 NA 28.4 NA ...\n",
      " $ temperature   : num  8.35 10.86 17.35 18.75 13.75 ...\n",
      " $ pressure      : num  1010 1008 1005 1014 1008 ...\n",
      " $ humidity      : num  79.6 68 65.8 61.8 64.7 ...\n",
      " $ wind_direction: num  238.6 301.7 206.2 28.6 337 ...\n",
      " $ wind_speed.kph: num  28.39 18.93 36.19 19.7 9.06 ...\n",
      " $ hour          : int  1 6 19 20 17 10 0 23 11 23 ...\n",
      " $ month         : num  3 5 6 7 9 9 2 5 6 5 ...\n",
      " $ date          : Date, format: \"2017-03-18\" \"2018-05-10\" ...\n",
      " $ weekend       : logi  TRUE FALSE FALSE FALSE TRUE TRUE ...\n"
     ]
    },
    {
     "data": {
      "text/plain": [
       "   stationId              stationName       utc_time                  \n",
       " CD9    :12258   london_grid_451:36750   Min.   :2017-01-01 08:00:00  \n",
       " BL0    :12250   london_grid_430:36749   1st Qu.:2017-05-08 21:00:00  \n",
       " GN0    :12250   london_grid_388:36746   Median :2017-09-13 12:00:00  \n",
       " GN3    :12250   london_grid_409:24508   Mean   :2017-09-14 00:34:44  \n",
       " GR4    :12250   london_grid_472:12250   3rd Qu.:2018-01-19 03:00:00  \n",
       " GR9    :12250   london_grid_408:12249   Max.   :2018-06-01 00:00:00  \n",
       " (Other):85744   (Other)        :    0                                \n",
       "     PM2.5             PM10              O3          temperature   \n",
       " Min.   :-10.50   Min.   :-11.80   Min.   : -4.70   Min.   :-4.37  \n",
       " 1st Qu.:  6.60   1st Qu.: 12.00   1st Qu.: 21.60   1st Qu.: 6.11  \n",
       " Median : 10.40   Median : 18.00   Median : 37.80   Median :10.34  \n",
       " Mean   : 13.63   Mean   : 21.44   Mean   : 43.24   Mean   :10.74  \n",
       " 3rd Qu.: 17.00   3rd Qu.: 27.00   3rd Qu.: 58.40   3rd Qu.:15.20  \n",
       " Max.   :189.70   Max.   :667.10   Max.   :336.10   Max.   :30.28  \n",
       " NA's   :22085    NA's   :16691    NA's   :44024                   \n",
       "    pressure         humidity     wind_direction  wind_speed.kph \n",
       " Min.   : 964.4   Min.   : 7.00   Min.   :  0.0   Min.   : 0.12  \n",
       " 1st Qu.:1005.1   1st Qu.:66.70   1st Qu.:147.1   1st Qu.: 9.74  \n",
       " Median :1012.2   Median :77.45   Median :227.9   Median :14.26  \n",
       " Mean   :1010.9   Mean   :75.91   Mean   :206.9   Mean   :15.18  \n",
       " 3rd Qu.:1018.2   3rd Qu.:87.23   3rd Qu.:271.9   3rd Qu.:19.71  \n",
       " Max.   :1035.8   Max.   :99.12   Max.   :360.0   Max.   :54.41  \n",
       "                                                                 \n",
       "      hour           month             date             weekend       \n",
       " Min.   : 0.00   Min.   : 1.000   Min.   :2017-01-01   Mode :logical  \n",
       " 1st Qu.: 5.00   1st Qu.: 3.000   1st Qu.:2017-05-08   FALSE:113657   \n",
       " Median :11.00   Median : 5.000   Median :2017-09-13   TRUE :45595    \n",
       " Mean   :11.49   Mean   : 5.521   Mean   :2017-09-13                  \n",
       " 3rd Qu.:17.00   3rd Qu.: 8.000   3rd Qu.:2018-01-19                  \n",
       " Max.   :23.00   Max.   :12.000   Max.   :2018-06-01                  \n",
       "                                                                      "
      ]
     },
     "metadata": {},
     "output_type": "display_data"
    }
   ],
   "source": [
    "str(ld_aq_gm_combined_data)\n",
    "summary(ld_aq_gm_combined_data)"
   ]
  },
  {
   "cell_type": "code",
   "execution_count": 32,
   "metadata": {
    "collapsed": true
   },
   "outputs": [],
   "source": [
    "london_holidays <- c(\"2017-01-02\", \"2017-04-14\",\"2017-04-17\", \"2017-05-01\", \"2017-05-29\", \"2017-08-28\", \"2017-12-25\"\n",
    "                     , \"2017-12-26\", \"2018-01-01\", \"2018-03-30\", \"2018-04-02\", \"2018-05-07\", \"2018-05-28\")"
   ]
  },
  {
   "cell_type": "code",
   "execution_count": 33,
   "metadata": {
    "collapsed": true
   },
   "outputs": [],
   "source": [
    "ld_aq_gm_combined_data$holiday <- ifelse(ld_aq_gm_combined_data$date %in% as.Date(london_holidays), 1, 0)"
   ]
  },
  {
   "cell_type": "code",
   "execution_count": 34,
   "metadata": {},
   "outputs": [
    {
     "name": "stdout",
     "output_type": "stream",
     "text": [
      "'data.frame':\t159252 obs. of  16 variables:\n",
      " $ stationId     : Factor w/ 24 levels \"BL0\",\"BX1\",\"BX9\",..: 1 1 1 1 1 1 1 1 1 1 ...\n",
      " $ stationName   : Factor w/ 10 levels \"london_grid_346\",..: 6 6 6 6 6 6 6 6 6 6 ...\n",
      " $ utc_time      : POSIXct, format: \"2017-03-18 01:00:00\" \"2018-05-10 06:00:00\" ...\n",
      " $ PM2.5         : num  3.9 1.5 9.9 10.5 8.1 11.9 5.7 5.8 8.1 19.7 ...\n",
      " $ PM10          : num  5.4 6.4 14.1 18.3 8.9 13.8 5.7 12.9 NA 28.4 ...\n",
      " $ O3            : num  11.9 NA 20.7 44.9 48.8 29.5 18 NA 28.4 NA ...\n",
      " $ temperature   : num  8.35 10.86 17.35 18.75 13.75 ...\n",
      " $ pressure      : num  1010 1008 1005 1014 1008 ...\n",
      " $ humidity      : num  79.6 68 65.8 61.8 64.7 ...\n",
      " $ wind_direction: num  238.6 301.7 206.2 28.6 337 ...\n",
      " $ wind_speed.kph: num  28.39 18.93 36.19 19.7 9.06 ...\n",
      " $ hour          : int  1 6 19 20 17 10 0 23 11 23 ...\n",
      " $ month         : num  3 5 6 7 9 9 2 5 6 5 ...\n",
      " $ date          : Date, format: \"2017-03-18\" \"2018-05-10\" ...\n",
      " $ weekend       : logi  TRUE FALSE FALSE FALSE TRUE TRUE ...\n",
      " $ holiday       : num  0 0 0 0 0 0 0 0 0 0 ...\n"
     ]
    },
    {
     "data": {
      "text/plain": [
       "   stationId              stationName       utc_time                  \n",
       " CD9    :12258   london_grid_451:36750   Min.   :2017-01-01 08:00:00  \n",
       " BL0    :12250   london_grid_430:36749   1st Qu.:2017-05-08 21:00:00  \n",
       " GN0    :12250   london_grid_388:36746   Median :2017-09-13 12:00:00  \n",
       " GN3    :12250   london_grid_409:24508   Mean   :2017-09-14 00:34:44  \n",
       " GR4    :12250   london_grid_472:12250   3rd Qu.:2018-01-19 03:00:00  \n",
       " GR9    :12250   london_grid_408:12249   Max.   :2018-06-01 00:00:00  \n",
       " (Other):85744   (Other)        :    0                                \n",
       "     PM2.5             PM10              O3          temperature   \n",
       " Min.   :-10.50   Min.   :-11.80   Min.   : -4.70   Min.   :-4.37  \n",
       " 1st Qu.:  6.60   1st Qu.: 12.00   1st Qu.: 21.60   1st Qu.: 6.11  \n",
       " Median : 10.40   Median : 18.00   Median : 37.80   Median :10.34  \n",
       " Mean   : 13.63   Mean   : 21.44   Mean   : 43.24   Mean   :10.74  \n",
       " 3rd Qu.: 17.00   3rd Qu.: 27.00   3rd Qu.: 58.40   3rd Qu.:15.20  \n",
       " Max.   :189.70   Max.   :667.10   Max.   :336.10   Max.   :30.28  \n",
       " NA's   :22085    NA's   :16691    NA's   :44024                   \n",
       "    pressure         humidity     wind_direction  wind_speed.kph \n",
       " Min.   : 964.4   Min.   : 7.00   Min.   :  0.0   Min.   : 0.12  \n",
       " 1st Qu.:1005.1   1st Qu.:66.70   1st Qu.:147.1   1st Qu.: 9.74  \n",
       " Median :1012.2   Median :77.45   Median :227.9   Median :14.26  \n",
       " Mean   :1010.9   Mean   :75.91   Mean   :206.9   Mean   :15.18  \n",
       " 3rd Qu.:1018.2   3rd Qu.:87.23   3rd Qu.:271.9   3rd Qu.:19.71  \n",
       " Max.   :1035.8   Max.   :99.12   Max.   :360.0   Max.   :54.41  \n",
       "                                                                 \n",
       "      hour           month             date             weekend       \n",
       " Min.   : 0.00   Min.   : 1.000   Min.   :2017-01-01   Mode :logical  \n",
       " 1st Qu.: 5.00   1st Qu.: 3.000   1st Qu.:2017-05-08   FALSE:113657   \n",
       " Median :11.00   Median : 5.000   Median :2017-09-13   TRUE :45595    \n",
       " Mean   :11.49   Mean   : 5.521   Mean   :2017-09-13                  \n",
       " 3rd Qu.:17.00   3rd Qu.: 8.000   3rd Qu.:2018-01-19                  \n",
       " Max.   :23.00   Max.   :12.000   Max.   :2018-06-01                  \n",
       "                                                                      \n",
       "    holiday       \n",
       " Min.   :0.00000  \n",
       " 1st Qu.:0.00000  \n",
       " Median :0.00000  \n",
       " Mean   :0.02351  \n",
       " 3rd Qu.:0.00000  \n",
       " Max.   :1.00000  \n",
       "                  "
      ]
     },
     "metadata": {},
     "output_type": "display_data"
    }
   ],
   "source": [
    "str(ld_aq_gm_combined_data)\n",
    "summary(ld_aq_gm_combined_data)"
   ]
  },
  {
   "cell_type": "code",
   "execution_count": 35,
   "metadata": {
    "collapsed": true
   },
   "outputs": [],
   "source": [
    "ld_aq_gm_combined_data[ld_aq_gm_combined_data$temperature %in% boxplot.stats(ld_aq_gm_combined_data$temperature)$out, ]$temperature <- NA\n",
    "ld_aq_gm_combined_data[ld_aq_gm_combined_data$pressure %in% boxplot.stats(ld_aq_gm_combined_data$pressure)$out, ]$pressure <- NA\n",
    "ld_aq_gm_combined_data[ld_aq_gm_combined_data$humidity %in% boxplot.stats(ld_aq_gm_combined_data$humidity)$out, ]$humidity <- NA\n",
    "ld_aq_gm_combined_data[ld_aq_gm_combined_data$wind_speed.kph %in% boxplot.stats(ld_aq_gm_combined_data$wind_speed.kph)$out, ]$wind_speed.kph <- NA"
   ]
  },
  {
   "cell_type": "code",
   "execution_count": 36,
   "metadata": {
    "collapsed": true
   },
   "outputs": [],
   "source": [
    "# replacing outliers with NA\n",
    "ld_aq_gm_combined_data[ld_aq_gm_combined_data$PM2.5 %in% boxplot.stats(ld_aq_gm_combined_data$PM2.5)$out, ]$PM2.5 <- NA\n",
    "ld_aq_gm_combined_data[ld_aq_gm_combined_data$PM10 %in% boxplot.stats(ld_aq_gm_combined_data$PM10)$out, ]$PM10 <- NA\n",
    "ld_aq_gm_combined_data[ld_aq_gm_combined_data$O3 %in% boxplot.stats(ld_aq_gm_combined_data$O3)$out, ]$O3 <- NA"
   ]
  },
  {
   "cell_type": "code",
   "execution_count": 37,
   "metadata": {},
   "outputs": [
    {
     "name": "stdout",
     "output_type": "stream",
     "text": [
      "'data.frame':\t159252 obs. of  16 variables:\n",
      " $ stationId     : Factor w/ 24 levels \"BL0\",\"BX1\",\"BX9\",..: 1 1 1 1 1 1 1 1 1 1 ...\n",
      " $ stationName   : Factor w/ 10 levels \"london_grid_346\",..: 6 6 6 6 6 6 6 6 6 6 ...\n",
      " $ utc_time      : POSIXct, format: \"2017-03-18 01:00:00\" \"2018-05-10 06:00:00\" ...\n",
      " $ PM2.5         : num  3.9 1.5 9.9 10.5 8.1 11.9 5.7 5.8 8.1 19.7 ...\n",
      " $ PM10          : num  5.4 6.4 14.1 18.3 8.9 13.8 5.7 12.9 NA 28.4 ...\n",
      " $ O3            : num  11.9 NA 20.7 44.9 48.8 29.5 18 NA 28.4 NA ...\n",
      " $ temperature   : num  8.35 10.86 17.35 18.75 13.75 ...\n",
      " $ pressure      : num  1010 1008 1005 1014 1008 ...\n",
      " $ humidity      : num  79.6 68 65.8 61.8 64.7 ...\n",
      " $ wind_direction: num  238.6 301.7 206.2 28.6 337 ...\n",
      " $ wind_speed.kph: num  28.39 18.93 NA 19.7 9.06 ...\n",
      " $ hour          : int  1 6 19 20 17 10 0 23 11 23 ...\n",
      " $ month         : num  3 5 6 7 9 9 2 5 6 5 ...\n",
      " $ date          : Date, format: \"2017-03-18\" \"2018-05-10\" ...\n",
      " $ weekend       : logi  TRUE FALSE FALSE FALSE TRUE TRUE ...\n",
      " $ holiday       : num  0 0 0 0 0 0 0 0 0 0 ...\n"
     ]
    },
    {
     "data": {
      "text/plain": [
       "   stationId              stationName       utc_time                  \n",
       " CD9    :12258   london_grid_451:36750   Min.   :2017-01-01 08:00:00  \n",
       " BL0    :12250   london_grid_430:36749   1st Qu.:2017-05-08 21:00:00  \n",
       " GN0    :12250   london_grid_388:36746   Median :2017-09-13 12:00:00  \n",
       " GN3    :12250   london_grid_409:24508   Mean   :2017-09-14 00:34:44  \n",
       " GR4    :12250   london_grid_472:12250   3rd Qu.:2018-01-19 03:00:00  \n",
       " GR9    :12250   london_grid_408:12249   Max.   :2018-06-01 00:00:00  \n",
       " (Other):85744   (Other)        :    0                                \n",
       "     PM2.5            PM10             O3          temperature   \n",
       " Min.   :-8.60   Min.   :-8.90   Min.   : -4.70   Min.   :-4.37  \n",
       " 1st Qu.: 6.30   1st Qu.:11.70   1st Qu.: 21.20   1st Qu.: 6.10  \n",
       " Median : 9.90   Median :17.30   Median : 36.90   Median :10.33  \n",
       " Mean   :11.39   Mean   :19.27   Mean   : 40.78   Mean   :10.73  \n",
       " 3rd Qu.:15.20   3rd Qu.:25.30   3rd Qu.: 56.40   3rd Qu.:15.20  \n",
       " Max.   :32.60   Max.   :49.50   Max.   :113.60   Max.   :28.82  \n",
       " NA's   :30982   NA's   :23654   NA's   :47010    NA's   :51     \n",
       "    pressure         humidity     wind_direction  wind_speed.kph \n",
       " Min.   : 985.4   Min.   :35.98   Min.   :  0.0   Min.   : 0.12  \n",
       " 1st Qu.:1005.5   1st Qu.:66.89   1st Qu.:147.1   1st Qu.: 9.70  \n",
       " Median :1012.4   Median :77.53   Median :227.9   Median :14.18  \n",
       " Mean   :1011.4   Mean   :76.10   Mean   :206.9   Mean   :14.95  \n",
       " 3rd Qu.:1018.3   3rd Qu.:87.27   3rd Qu.:271.9   3rd Qu.:19.53  \n",
       " Max.   :1035.8   Max.   :99.12   Max.   :360.0   Max.   :34.66  \n",
       " NA's   :2387     NA's   :655                     NA's   :1567   \n",
       "      hour           month             date             weekend       \n",
       " Min.   : 0.00   Min.   : 1.000   Min.   :2017-01-01   Mode :logical  \n",
       " 1st Qu.: 5.00   1st Qu.: 3.000   1st Qu.:2017-05-08   FALSE:113657   \n",
       " Median :11.00   Median : 5.000   Median :2017-09-13   TRUE :45595    \n",
       " Mean   :11.49   Mean   : 5.521   Mean   :2017-09-13                  \n",
       " 3rd Qu.:17.00   3rd Qu.: 8.000   3rd Qu.:2018-01-19                  \n",
       " Max.   :23.00   Max.   :12.000   Max.   :2018-06-01                  \n",
       "                                                                      \n",
       "    holiday       \n",
       " Min.   :0.00000  \n",
       " 1st Qu.:0.00000  \n",
       " Median :0.00000  \n",
       " Mean   :0.02351  \n",
       " 3rd Qu.:0.00000  \n",
       " Max.   :1.00000  \n",
       "                  "
      ]
     },
     "metadata": {},
     "output_type": "display_data"
    }
   ],
   "source": [
    "str(ld_aq_gm_combined_data)\n",
    "summary(ld_aq_gm_combined_data)"
   ]
  },
  {
   "cell_type": "code",
   "execution_count": 38,
   "metadata": {
    "collapsed": true
   },
   "outputs": [],
   "source": [
    "# replace temperature NA with mean values based on certain groups\n",
    "ld_aq_gm_combined_data_temperature<- ld_aq_gm_combined_data %>% \n",
    "                                group_by(stationId, hour, month) %>% \n",
    "                                summarize(temperature = mean(temperature, na.rm = TRUE))\n",
    "ld_aq_gm_combined_data <- ld_aq_gm_combined_data %>% \n",
    "                          left_join(ld_aq_gm_combined_data_temperature, c(\"stationId\", \"hour\", \"month\")) %>% \n",
    "                          mutate(temperature = coalesce(temperature.x, temperature.y)) %>% \n",
    "                          select(-temperature.x, -temperature.y) \n",
    "\n",
    "# replace pressure NA with mean values based on certain groups\n",
    "ld_aq_gm_combined_data_pressure <- ld_aq_gm_combined_data %>% \n",
    "                                group_by(stationId, hour, month) %>% \n",
    "                                summarize(pressure = mean(pressure, na.rm = TRUE))\n",
    "ld_aq_gm_combined_data <- ld_aq_gm_combined_data %>% \n",
    "                          left_join(ld_aq_gm_combined_data_pressure, c(\"stationId\", \"hour\", \"month\")) %>% \n",
    "                          mutate(pressure = coalesce(pressure.x, pressure.y)) %>% \n",
    "                          select(-pressure.x, -pressure.y)\n",
    "\n",
    "# replace humidity NA with mean values based on certain groups\n",
    "ld_aq_gm_combined_data_humidity <- ld_aq_gm_combined_data %>% \n",
    "                                group_by(stationId, hour, month) %>% \n",
    "                                summarize(humidity = mean(humidity, na.rm = TRUE))\n",
    "ld_aq_gm_combined_data <- ld_aq_gm_combined_data %>% \n",
    "                          left_join(ld_aq_gm_combined_data_humidity, c(\"stationId\", \"hour\", \"month\")) %>% \n",
    "                          mutate(humidity = coalesce(humidity.x, humidity.y)) %>% \n",
    "                          select(-humidity.x, -humidity.y)\n",
    "\n",
    "\n",
    "# replace wind_speed NA with mean values based on certain groups\n",
    "ld_aq_gm_combined_data_wind_speed.kph <- ld_aq_gm_combined_data %>% \n",
    "                                group_by(stationId, hour, month) %>% \n",
    "                                summarize(wind_speed.kph = mean(wind_speed.kph, na.rm = TRUE))\n",
    "ld_aq_gm_combined_data <- ld_aq_gm_combined_data %>% \n",
    "                          left_join(ld_aq_gm_combined_data_wind_speed.kph, c(\"stationId\", \"hour\", \"month\")) %>% \n",
    "                          mutate(wind_speed.kph = coalesce(wind_speed.kph.x, wind_speed.kph.y)) %>% \n",
    "                          select(-wind_speed.kph.x, -wind_speed.kph.y)"
   ]
  },
  {
   "cell_type": "code",
   "execution_count": 39,
   "metadata": {
    "collapsed": true
   },
   "outputs": [],
   "source": [
    "#replacing PM2.5 NA with mean values of certain groupings\n",
    "ld_aq_gm_combined_data_PM2.5 <- ld_aq_gm_combined_data %>% \n",
    "                                group_by(stationId, hour, month, weekend, holiday) %>% \n",
    "                                summarize(PM2.5 = mean(PM2.5, na.rm = TRUE))\n",
    "ld_aq_gm_combined_data <- ld_aq_gm_combined_data %>% \n",
    "                          left_join(ld_aq_gm_combined_data_PM2.5, c(\"stationId\", \"hour\", \"month\", \"weekend\", \"holiday\")) %>% \n",
    "                          mutate(PM2.5 = coalesce(PM2.5.x, PM2.5.y)) %>% \n",
    "                          select(-PM2.5.x, -PM2.5.y)\n",
    "ld_aq_gm_combined_data_PM2.5 <- ld_aq_gm_combined_data %>% \n",
    "                                group_by(stationId, hour, weekend, holiday) %>% \n",
    "                                summarize(PM2.5 = mean(PM2.5, na.rm = TRUE))\n",
    "ld_aq_gm_combined_data <- ld_aq_gm_combined_data %>% \n",
    "                          left_join(ld_aq_gm_combined_data_PM2.5, c(\"stationId\", \"hour\", \"weekend\", \"holiday\")) %>% \n",
    "                          mutate(PM2.5 = coalesce(PM2.5.x, PM2.5.y)) %>% \n",
    "                          select(-PM2.5.x, -PM2.5.y)"
   ]
  },
  {
   "cell_type": "code",
   "execution_count": 40,
   "metadata": {
    "collapsed": true
   },
   "outputs": [],
   "source": [
    "#replacing PM10 NA with mean values of certain groupings\n",
    "ld_aq_gm_combined_data_PM10 <- ld_aq_gm_combined_data %>% \n",
    "                                group_by(stationId, hour, month, weekend, holiday) %>% \n",
    "                                summarize(PM10 = mean(PM10, na.rm = TRUE))\n",
    "ld_aq_gm_combined_data <- ld_aq_gm_combined_data %>% \n",
    "                          left_join(ld_aq_gm_combined_data_PM10, c(\"stationId\", \"hour\", \"month\", \"weekend\", \"holiday\")) %>% \n",
    "                          mutate(PM10 = coalesce(PM10.x, PM10.y)) %>% \n",
    "                          select(-PM10.x, -PM10.y)\n",
    "ld_aq_gm_combined_data_PM10 <- ld_aq_gm_combined_data %>% \n",
    "                                group_by(stationId, hour, weekend, holiday) %>% \n",
    "                                summarize(PM10 = mean(PM10, na.rm = TRUE))\n",
    "ld_aq_gm_combined_data <- ld_aq_gm_combined_data %>% \n",
    "                          left_join(ld_aq_gm_combined_data_PM10, c(\"stationId\", \"hour\", \"weekend\", \"holiday\")) %>% \n",
    "                          mutate(PM10 = coalesce(PM10.x, PM10.y)) %>% \n",
    "                          select(-PM10.x, -PM10.y)"
   ]
  },
  {
   "cell_type": "code",
   "execution_count": 41,
   "metadata": {
    "collapsed": true
   },
   "outputs": [],
   "source": [
    "#replacing O3 NA with mean values of certain groupings\n",
    "ld_aq_gm_combined_data_O3 <- ld_aq_gm_combined_data %>% \n",
    "                                group_by(stationId, hour, month, weekend, holiday) %>% \n",
    "                                summarize(O3 = mean(O3, na.rm = TRUE))\n",
    "ld_aq_gm_combined_data <- ld_aq_gm_combined_data %>% \n",
    "                          left_join(ld_aq_gm_combined_data_O3, c(\"stationId\", \"hour\", \"month\", \"weekend\", \"holiday\")) %>% \n",
    "                          mutate(O3 = coalesce(O3.x, O3.y)) %>% \n",
    "                          select(-O3.x, -O3.y)\n",
    "ld_aq_gm_combined_data_O3 <- ld_aq_gm_combined_data %>% \n",
    "                                group_by(stationId, hour, weekend, holiday) %>% \n",
    "                                summarize(O3 = mean(O3, na.rm = TRUE))\n",
    "ld_aq_gm_combined_data <- ld_aq_gm_combined_data %>% \n",
    "                          left_join(ld_aq_gm_combined_data_O3, c(\"stationId\", \"hour\", \"weekend\", \"holiday\")) %>% \n",
    "                          mutate(O3 = coalesce(O3.x, O3.y)) %>% \n",
    "                          select(-O3.x, -O3.y)\n",
    "ld_aq_gm_combined_data_O3 <- ld_aq_gm_combined_data %>% \n",
    "                                group_by(hour, month, weekend, holiday) %>% \n",
    "                                summarize(O3 = mean(O3, na.rm = TRUE))\n",
    "ld_aq_gm_combined_data <- ld_aq_gm_combined_data %>% \n",
    "                          left_join(ld_aq_gm_combined_data_O3, c(\"hour\", \"month\", \"weekend\", \"holiday\")) %>% \n",
    "                          mutate(O3 = coalesce(O3.x, O3.y)) %>% \n",
    "                          select(-O3.x, -O3.y)"
   ]
  },
  {
   "cell_type": "code",
   "execution_count": 42,
   "metadata": {},
   "outputs": [],
   "source": [
    "rm(\"ld_aq_gm_combined_data_PM2.5\")\n",
    "rm(\"ld_aq_gm_combined_data_PM10\")\n",
    "rm(\"ld_aq_gm_combined_data_O3\")\n",
    "rm(\"ld_aq_gm_combined_data_temperature\")\n",
    "rm(\"ld_aq_gm_combined_data_pressure\")\n",
    "rm(\"ld_aq_gm_combined_data_humidity\")\n",
    "rm(\"ld_aq_gm_combined_data_wind_speed.kph\")"
   ]
  },
  {
   "cell_type": "code",
   "execution_count": 43,
   "metadata": {},
   "outputs": [
    {
     "name": "stdout",
     "output_type": "stream",
     "text": [
      "'data.frame':\t159252 obs. of  16 variables:\n",
      " $ stationId     : Factor w/ 24 levels \"BL0\",\"BX1\",\"BX9\",..: 1 1 1 1 1 1 1 1 1 1 ...\n",
      " $ stationName   : Factor w/ 10 levels \"london_grid_346\",..: 6 6 6 6 6 6 6 6 6 6 ...\n",
      " $ utc_time      : POSIXct, format: \"2017-03-18 01:00:00\" \"2018-05-10 06:00:00\" ...\n",
      " $ wind_direction: num  238.6 301.7 206.2 28.6 337 ...\n",
      " $ hour          : int  1 6 19 20 17 10 0 23 11 23 ...\n",
      " $ month         : num  3 5 6 7 9 9 2 5 6 5 ...\n",
      " $ date          : Date, format: \"2017-03-18\" \"2018-05-10\" ...\n",
      " $ weekend       : logi  TRUE FALSE FALSE FALSE TRUE TRUE ...\n",
      " $ holiday       : num  0 0 0 0 0 0 0 0 0 0 ...\n",
      " $ temperature   : num  8.35 10.86 17.35 18.75 13.75 ...\n",
      " $ pressure      : num  1010 1008 1005 1014 1008 ...\n",
      " $ humidity      : num  79.6 68 65.8 61.8 64.7 ...\n",
      " $ wind_speed.kph: num  28.39 18.93 18.53 19.7 9.06 ...\n",
      " $ PM2.5         : num  3.9 1.5 9.9 10.5 8.1 11.9 5.7 5.8 8.1 19.7 ...\n",
      " $ PM10          : num  5.4 6.4 14.1 18.3 8.9 ...\n",
      " $ O3            : num  11.9 45 20.7 44.9 48.8 ...\n"
     ]
    },
    {
     "data": {
      "text/plain": [
       "   stationId              stationName       utc_time                  \n",
       " CD9    :12258   london_grid_451:36750   Min.   :2017-01-01 08:00:00  \n",
       " BL0    :12250   london_grid_430:36749   1st Qu.:2017-05-08 21:00:00  \n",
       " GN0    :12250   london_grid_388:36746   Median :2017-09-13 12:00:00  \n",
       " GN3    :12250   london_grid_409:24508   Mean   :2017-09-14 00:34:44  \n",
       " GR4    :12250   london_grid_472:12250   3rd Qu.:2018-01-19 03:00:00  \n",
       " GR9    :12250   london_grid_408:12249   Max.   :2018-06-01 00:00:00  \n",
       " (Other):85744   (Other)        :    0                                \n",
       " wind_direction       hour           month             date           \n",
       " Min.   :  0.0   Min.   : 0.00   Min.   : 1.000   Min.   :2017-01-01  \n",
       " 1st Qu.:147.1   1st Qu.: 5.00   1st Qu.: 3.000   1st Qu.:2017-05-08  \n",
       " Median :227.9   Median :11.00   Median : 5.000   Median :2017-09-13  \n",
       " Mean   :206.9   Mean   :11.49   Mean   : 5.521   Mean   :2017-09-13  \n",
       " 3rd Qu.:271.9   3rd Qu.:17.00   3rd Qu.: 8.000   3rd Qu.:2018-01-19  \n",
       " Max.   :360.0   Max.   :23.00   Max.   :12.000   Max.   :2018-06-01  \n",
       "                                                                      \n",
       "  weekend           holiday         temperature       pressure     \n",
       " Mode :logical   Min.   :0.00000   Min.   :-4.37   Min.   : 985.4  \n",
       " FALSE:113657    1st Qu.:0.00000   1st Qu.: 6.11   1st Qu.:1005.6  \n",
       " TRUE :45595     Median :0.00000   Median :10.34   Median :1012.3  \n",
       "                 Mean   :0.02351   Mean   :10.73   Mean   :1011.4  \n",
       "                 3rd Qu.:0.00000   3rd Qu.:15.20   3rd Qu.:1018.2  \n",
       "                 Max.   :1.00000   Max.   :28.82   Max.   :1035.8  \n",
       "                                                                   \n",
       "    humidity     wind_speed.kph      PM2.5            PM10      \n",
       " Min.   :35.98   Min.   : 0.12   Min.   :-8.60   Min.   :-8.90  \n",
       " 1st Qu.:66.86   1st Qu.: 9.74   1st Qu.: 6.90   1st Qu.:12.30  \n",
       " Median :77.46   Median :14.23   Median :10.40   Median :17.60  \n",
       " Mean   :76.06   Mean   :14.96   Mean   :11.42   Mean   :19.21  \n",
       " 3rd Qu.:87.23   3rd Qu.:19.46   3rd Qu.:14.69   3rd Qu.:24.50  \n",
       " Max.   :99.12   Max.   :34.66   Max.   :32.60   Max.   :49.50  \n",
       "                                                                \n",
       "       O3        \n",
       " Min.   : -4.70  \n",
       " 1st Qu.: 24.88  \n",
       " Median : 39.16  \n",
       " Mean   : 41.60  \n",
       " 3rd Qu.: 54.61  \n",
       " Max.   :113.60  \n",
       "                 "
      ]
     },
     "metadata": {},
     "output_type": "display_data"
    }
   ],
   "source": [
    "str(ld_aq_gm_combined_data)\n",
    "summary(ld_aq_gm_combined_data)"
   ]
  },
  {
   "cell_type": "code",
   "execution_count": 44,
   "metadata": {},
   "outputs": [
    {
     "data": {
      "text/html": [
       "<table>\n",
       "<thead><tr><th scope=col>stationId</th><th scope=col>stationName</th><th scope=col>utc_time</th><th scope=col>wind_direction</th><th scope=col>hour</th><th scope=col>month</th><th scope=col>date</th><th scope=col>weekend</th><th scope=col>holiday</th><th scope=col>temperature</th><th scope=col>pressure</th><th scope=col>humidity</th><th scope=col>wind_speed.kph</th><th scope=col>PM2.5</th><th scope=col>PM10</th><th scope=col>O3</th></tr></thead>\n",
       "<tbody>\n",
       "</tbody>\n",
       "</table>\n"
      ],
      "text/latex": [
       "\\begin{tabular}{r|llllllllllllllll}\n",
       " stationId & stationName & utc\\_time & wind\\_direction & hour & month & date & weekend & holiday & temperature & pressure & humidity & wind\\_speed.kph & PM2.5 & PM10 & O3\\\\\n",
       "\\hline\n",
       "\\end{tabular}\n"
      ],
      "text/markdown": [
       "\n",
       "stationId | stationName | utc_time | wind_direction | hour | month | date | weekend | holiday | temperature | pressure | humidity | wind_speed.kph | PM2.5 | PM10 | O3 | \n",
       "||\n",
       "\n",
       "\n"
      ],
      "text/plain": [
       "     stationId stationName utc_time wind_direction hour month date weekend\n",
       "     holiday temperature pressure humidity wind_speed.kph PM2.5 PM10 O3"
      ]
     },
     "metadata": {},
     "output_type": "display_data"
    }
   ],
   "source": [
    "#validating for no NAs\n",
    "ld_aq_gm_combined_data[!complete.cases(ld_aq_gm_combined_data),]"
   ]
  },
  {
   "cell_type": "code",
   "execution_count": 45,
   "metadata": {
    "collapsed": true
   },
   "outputs": [],
   "source": [
    "# converting logical weekend value to numeric for modeling\n",
    "ld_aq_gm_combined_data$weekend <- as.integer(ld_aq_gm_combined_data$weekend)"
   ]
  },
  {
   "cell_type": "code",
   "execution_count": 46,
   "metadata": {
    "collapsed": true
   },
   "outputs": [],
   "source": [
    "# selecting only required columns\n",
    "ld_aq_gm_combined_data <- \n",
    "ld_aq_gm_combined_data %>% select(c(\"stationName\",\"utc_time\",\"stationId\",\"PM2.5\",\"PM10\", \"O3\",\n",
    "                                    \"temperature\",\"pressure\",\"humidity\",\"wind_direction\",\"wind_speed.kph\", \n",
    "                                    \"hour\", \"month\", \"date\", \"weekend\", \"holiday\"))"
   ]
  },
  {
   "cell_type": "code",
   "execution_count": 47,
   "metadata": {
    "collapsed": true
   },
   "outputs": [],
   "source": [
    "# retreiving lat long data \n",
    "ld_lat_long_file <- \"Datasets/London_AirQuality_Stations.csv\"\n",
    "ld_lat_long_data <- read.csv(ld_lat_long_file, header=TRUE, sep=\",\", stringsAsFactors = FALSE)\n",
    "ld_lat_long_data <- ld_lat_long_data %>% select(station_id, Latitude, Longitude)\n",
    "colnames(ld_lat_long_data) <- c(\"stationId\", \"latitude\", \"longitude\")"
   ]
  },
  {
   "cell_type": "code",
   "execution_count": 48,
   "metadata": {
    "collapsed": true
   },
   "outputs": [],
   "source": [
    "ld_aq_gm_combined_data <- merge(ld_aq_gm_combined_data,ld_lat_long_data, by = \"stationId\")"
   ]
  },
  {
   "cell_type": "code",
   "execution_count": 49,
   "metadata": {},
   "outputs": [
    {
     "name": "stdout",
     "output_type": "stream",
     "text": [
      "'data.frame':\t159252 obs. of  18 variables:\n",
      " $ stationId     : Factor w/ 24 levels \"BL0\",\"BX1\",\"BX9\",..: 1 1 1 1 1 1 1 1 1 1 ...\n",
      " $ stationName   : Factor w/ 10 levels \"london_grid_346\",..: 6 6 6 6 6 6 6 6 6 6 ...\n",
      " $ utc_time      : POSIXct, format: \"2017-03-18 01:00:00\" \"2018-05-10 06:00:00\" ...\n",
      " $ PM2.5         : num  3.9 1.5 9.9 10.5 8.1 11.9 5.7 5.8 8.1 19.7 ...\n",
      " $ PM10          : num  5.4 6.4 14.1 18.3 8.9 ...\n",
      " $ O3            : num  11.9 45 20.7 44.9 48.8 ...\n",
      " $ temperature   : num  8.35 10.86 17.35 18.75 13.75 ...\n",
      " $ pressure      : num  1010 1008 1005 1014 1008 ...\n",
      " $ humidity      : num  79.6 68 65.8 61.8 64.7 ...\n",
      " $ wind_direction: num  238.6 301.7 206.2 28.6 337 ...\n",
      " $ wind_speed.kph: num  28.39 18.93 18.53 19.7 9.06 ...\n",
      " $ hour          : int  1 6 19 20 17 10 0 23 11 23 ...\n",
      " $ month         : num  3 5 6 7 9 9 2 5 6 5 ...\n",
      " $ date          : Date, format: \"2017-03-18\" \"2018-05-10\" ...\n",
      " $ weekend       : int  1 0 0 0 1 1 0 0 0 1 ...\n",
      " $ holiday       : num  0 0 0 0 0 0 0 0 0 0 ...\n",
      " $ latitude      : num  51.5 51.5 51.5 51.5 51.5 ...\n",
      " $ longitude     : num  -0.126 -0.126 -0.126 -0.126 -0.126 ...\n"
     ]
    },
    {
     "data": {
      "text/html": [
       "<table>\n",
       "<thead><tr><th scope=col>min_date</th><th scope=col>max_date</th></tr></thead>\n",
       "<tbody>\n",
       "\t<tr><td>2017-01-01 08:00:00</td><td>2018-06-01         </td></tr>\n",
       "</tbody>\n",
       "</table>\n"
      ],
      "text/latex": [
       "\\begin{tabular}{r|ll}\n",
       " min\\_date & max\\_date\\\\\n",
       "\\hline\n",
       "\t 2017-01-01 08:00:00 & 2018-06-01         \\\\\n",
       "\\end{tabular}\n"
      ],
      "text/markdown": [
       "\n",
       "min_date | max_date | \n",
       "|---|\n",
       "| 2017-01-01 08:00:00 | 2018-06-01          | \n",
       "\n",
       "\n"
      ],
      "text/plain": [
       "  min_date            max_date  \n",
       "1 2017-01-01 08:00:00 2018-06-01"
      ]
     },
     "metadata": {},
     "output_type": "display_data"
    },
    {
     "data": {
      "text/plain": [
       "   stationId              stationName       utc_time                  \n",
       " CD9    :12258   london_grid_451:36750   Min.   :2017-01-01 08:00:00  \n",
       " BL0    :12250   london_grid_430:36749   1st Qu.:2017-05-08 21:00:00  \n",
       " GN0    :12250   london_grid_388:36746   Median :2017-09-13 12:00:00  \n",
       " GN3    :12250   london_grid_409:24508   Mean   :2017-09-14 00:34:44  \n",
       " GR4    :12250   london_grid_472:12250   3rd Qu.:2018-01-19 03:00:00  \n",
       " GR9    :12250   london_grid_408:12249   Max.   :2018-06-01 00:00:00  \n",
       " (Other):85744   (Other)        :    0                                \n",
       "     PM2.5            PM10             O3          temperature   \n",
       " Min.   :-8.60   Min.   :-8.90   Min.   : -4.70   Min.   :-4.37  \n",
       " 1st Qu.: 6.90   1st Qu.:12.30   1st Qu.: 24.88   1st Qu.: 6.11  \n",
       " Median :10.40   Median :17.60   Median : 39.16   Median :10.34  \n",
       " Mean   :11.42   Mean   :19.21   Mean   : 41.60   Mean   :10.73  \n",
       " 3rd Qu.:14.69   3rd Qu.:24.50   3rd Qu.: 54.61   3rd Qu.:15.20  \n",
       " Max.   :32.60   Max.   :49.50   Max.   :113.60   Max.   :28.82  \n",
       "                                                                 \n",
       "    pressure         humidity     wind_direction  wind_speed.kph \n",
       " Min.   : 985.4   Min.   :35.98   Min.   :  0.0   Min.   : 0.12  \n",
       " 1st Qu.:1005.6   1st Qu.:66.86   1st Qu.:147.1   1st Qu.: 9.74  \n",
       " Median :1012.3   Median :77.46   Median :227.9   Median :14.23  \n",
       " Mean   :1011.4   Mean   :76.06   Mean   :206.9   Mean   :14.96  \n",
       " 3rd Qu.:1018.2   3rd Qu.:87.23   3rd Qu.:271.9   3rd Qu.:19.46  \n",
       " Max.   :1035.8   Max.   :99.12   Max.   :360.0   Max.   :34.66  \n",
       "                                                                 \n",
       "      hour           month             date               weekend      \n",
       " Min.   : 0.00   Min.   : 1.000   Min.   :2017-01-01   Min.   :0.0000  \n",
       " 1st Qu.: 5.00   1st Qu.: 3.000   1st Qu.:2017-05-08   1st Qu.:0.0000  \n",
       " Median :11.00   Median : 5.000   Median :2017-09-13   Median :0.0000  \n",
       " Mean   :11.49   Mean   : 5.521   Mean   :2017-09-13   Mean   :0.2863  \n",
       " 3rd Qu.:17.00   3rd Qu.: 8.000   3rd Qu.:2018-01-19   3rd Qu.:1.0000  \n",
       " Max.   :23.00   Max.   :12.000   Max.   :2018-06-01   Max.   :1.0000  \n",
       "                                                                       \n",
       "    holiday           latitude       longitude       \n",
       " Min.   :0.00000   Min.   :51.39   Min.   :-0.21349  \n",
       " 1st Qu.:0.00000   1st Qu.:51.47   1st Qu.:-0.14166  \n",
       " Median :0.00000   Median :51.52   Median :-0.03964  \n",
       " Mean   :0.02351   Mean   :51.49   Mean   :-0.03861  \n",
       " 3rd Qu.:0.00000   3rd Qu.:51.52   3rd Qu.: 0.07077  \n",
       " Max.   :1.00000   Max.   :51.54   Max.   : 0.20546  \n",
       "                                                     "
      ]
     },
     "metadata": {},
     "output_type": "display_data"
    }
   ],
   "source": [
    "str(ld_aq_gm_combined_data)\n",
    "ld_aq_gm_combined_data %>% summarize(min_date = min(utc_time), max_date = max(utc_time))\n",
    "summary(ld_aq_gm_combined_data)"
   ]
  },
  {
   "cell_type": "markdown",
   "metadata": {},
   "source": [
    "### Model Training and validation"
   ]
  },
  {
   "cell_type": "code",
   "execution_count": 50,
   "metadata": {
    "collapsed": true
   },
   "outputs": [],
   "source": [
    "set.seed(2306)"
   ]
  },
  {
   "cell_type": "code",
   "execution_count": 51,
   "metadata": {
    "collapsed": true
   },
   "outputs": [],
   "source": [
    "# Training and test data set partition\n",
    "sample_size <- floor(0.8 * nrow(ld_aq_gm_combined_data))\n",
    "train_index <- sample(seq_len(nrow(ld_aq_gm_combined_data)), size = sample_size)\n",
    "train_ld <- ld_aq_gm_combined_data[train_index, ]\n",
    "test_ld <- ld_aq_gm_combined_data[-train_index, ]"
   ]
  },
  {
   "cell_type": "code",
   "execution_count": 52,
   "metadata": {},
   "outputs": [
    {
     "name": "stdout",
     "output_type": "stream",
     "text": [
      "'data.frame':\t127401 obs. of  18 variables:\n",
      " $ stationId     : Factor w/ 24 levels \"BL0\",\"BX1\",\"BX9\",..: 8 12 17 12 9 4 1 10 15 8 ...\n",
      " $ stationName   : Factor w/ 10 levels \"london_grid_346\",..: 8 10 5 10 8 4 6 8 4 8 ...\n",
      " $ utc_time      : POSIXct, format: \"2018-05-01 08:00:00\" \"2018-03-18 22:00:00\" ...\n",
      " $ PM2.5         : num  8.7 13.8 27 4.4 13.4 ...\n",
      " $ PM10          : num  13.4 18.9 23.8 11.1 23.8 ...\n",
      " $ O3            : num  56.3 11.3 73.6 31.9 45.4 ...\n",
      " $ temperature   : num  7.99 0.18 -0.19 19.49 13.6 ...\n",
      " $ pressure      : num  1006 1006 1027 1008 1011 ...\n",
      " $ humidity      : num  53 72.3 93 78.1 75 ...\n",
      " $ wind_direction: num  259.1 63.7 131 163.6 240.7 ...\n",
      " $ wind_speed.kph: num  10.96 23.9 7.33 9.66 7.17 ...\n",
      " $ hour          : int  8 22 15 14 5 19 20 20 15 22 ...\n",
      " $ month         : num  5 3 1 8 8 7 8 3 6 3 ...\n",
      " $ date          : Date, format: \"2018-05-01\" \"2018-03-18\" ...\n",
      " $ weekend       : int  0 1 0 0 0 1 0 0 0 0 ...\n",
      " $ holiday       : num  0 0 0 0 0 0 0 0 0 0 ...\n",
      " $ latitude      : num  51.5 51.5 51.4 51.5 51.5 ...\n",
      " $ longitude     : num  0.074 0.2055 -0.1417 0.2055 0.0951 ...\n",
      "'data.frame':\t31851 obs. of  18 variables:\n",
      " $ stationId     : Factor w/ 24 levels \"BL0\",\"BX1\",\"BX9\",..: 1 1 1 1 1 1 1 1 1 1 ...\n",
      " $ stationName   : Factor w/ 10 levels \"london_grid_346\",..: 6 6 6 6 6 6 6 6 6 6 ...\n",
      " $ utc_time      : POSIXct, format: \"2018-05-02 23:00:00\" \"2018-01-27 04:00:00\" ...\n",
      " $ PM2.5         : num  5.8 14.7 10.8 8.2 7.1 ...\n",
      " $ PM10          : num  12.9 17.3 17.1 13.9 5.8 ...\n",
      " $ O3            : num  36.1 41.1 43.8 45 16.4 ...\n",
      " $ temperature   : num  9.1 5.8 10.6 12.7 14.1 ...\n",
      " $ pressure      : num  1010 1022 1019 1023 1014 ...\n",
      " $ humidity      : num  66 80.8 76.8 64.9 96.7 ...\n",
      " $ wind_direction: num  284 309 247 278 224 ...\n",
      " $ wind_speed.kph: num  9.5 4.14 11.76 16.77 11.97 ...\n",
      " $ hour          : int  23 4 6 21 4 23 10 22 3 19 ...\n",
      " $ month         : num  5 1 11 4 10 1 10 3 5 3 ...\n",
      " $ date          : Date, format: \"2018-05-02\" \"2018-01-27\" ...\n",
      " $ weekend       : int  0 1 0 0 0 0 0 0 0 0 ...\n",
      " $ holiday       : num  0 0 0 0 0 0 0 0 0 0 ...\n",
      " $ latitude      : num  51.5 51.5 51.5 51.5 51.5 ...\n",
      " $ longitude     : num  -0.126 -0.126 -0.126 -0.126 -0.126 ...\n"
     ]
    }
   ],
   "source": [
    "str(train_ld)\n",
    "str(test_ld)"
   ]
  },
  {
   "cell_type": "code",
   "execution_count": 55,
   "metadata": {
    "collapsed": true
   },
   "outputs": [],
   "source": [
    "subsets <- c(1, 3, 5, 7, 10)"
   ]
  },
  {
   "cell_type": "code",
   "execution_count": 56,
   "metadata": {},
   "outputs": [
    {
     "data": {
      "text/plain": [
       "\n",
       "Recursive feature selection\n",
       "\n",
       "Outer resampling method: Cross-Validated (10 fold, repeated 5 times) \n",
       "\n",
       "Resampling performance over subset size:\n",
       "\n",
       " Variables  RMSE Rsquared   MAE  RMSESD RsquaredSD   MAESD Selected\n",
       "         1 6.375  0.01305 4.922 0.03887   0.002151 0.02531         \n",
       "         3 6.152  0.08106 4.737 0.06972   0.017007 0.05408         \n",
       "         5 6.040  0.11410 4.636 0.04837   0.009238 0.03940         \n",
       "         7 6.012  0.12224 4.605 0.03904   0.004698 0.02500         \n",
       "        10 5.896  0.15579 4.532 0.03797   0.004372 0.02561        *\n",
       "\n",
       "The top 5 variables (out of 10):\n",
       "   longitude, holiday, wind_speed.kph, month, latitude\n"
      ]
     },
     "metadata": {},
     "output_type": "display_data"
    },
    {
     "data": {
      "text/plain": [
       "\n",
       "Call:\n",
       "lm(formula = y ~ ., data = tmp)\n",
       "\n",
       "Residuals:\n",
       "     Min       1Q   Median       3Q      Max \n",
       "-20.6989  -3.9880  -0.9017   2.9854  25.8090 \n",
       "\n",
       "Coefficients:\n",
       "                 Estimate Std. Error  t value Pr(>|t|)    \n",
       "(Intercept)    17.8137054 21.1801235    0.841    0.400    \n",
       "longitude      -5.9756767  0.1356865  -44.040  < 2e-16 ***\n",
       "holiday        -2.7324087  0.1107615  -24.669  < 2e-16 ***\n",
       "wind_speed.kph -0.2641125  0.0024558 -107.548  < 2e-16 ***\n",
       "month          -0.1541984  0.0054097  -28.504  < 2e-16 ***\n",
       "latitude       -0.0095138  0.4112156   -0.023    0.982    \n",
       "hour            0.1235363  0.0024732   49.950  < 2e-16 ***\n",
       "temperature    -0.0399943  0.0031924  -12.528  < 2e-16 ***\n",
       "weekend        -0.0153582  0.0367894   -0.417    0.676    \n",
       "wind_direction -0.0133276  0.0001875  -71.086  < 2e-16 ***\n",
       "humidity        0.0065284  0.0013495    4.838 1.32e-06 ***\n",
       "---\n",
       "Signif. codes:  0 '***' 0.001 '**' 0.01 '*' 0.05 '.' 0.1 ' ' 1\n",
       "\n",
       "Residual standard error: 5.896 on 127390 degrees of freedom\n",
       "Multiple R-squared:  0.1559,\tAdjusted R-squared:  0.1558 \n",
       "F-statistic:  2352 on 10 and 127390 DF,  p-value: < 2.2e-16\n"
      ]
     },
     "metadata": {},
     "output_type": "display_data"
    }
   ],
   "source": [
    "# dependent and independent variable \n",
    "PM2.5_x <- train_ld[,c(\"latitude\", \"longitude\", \"hour\", \"month\", \"weekend\", \"holiday\", \"temperature\",\"humidity\",\"wind_direction\",\"wind_speed.kph\")]\n",
    "PM2.5_y <- train_ld[,\"PM2.5\"]\n",
    "\n",
    "# controls for the rfe - repeated 10 fold cross validation (5 times) and linear regression\n",
    "PM2.5_ctrl <- rfeControl(functions = lmFuncs, method = \"repeatedcv\", repeats = 5, number = 10)\n",
    "\n",
    "# experimenting with 1,3,5,7 and 10 size subset variables\n",
    "PM2.5_lmProfile <- rfe(PM2.5_x , PM2.5_y, sizes = subsets, rfeControl = PM2.5_ctrl )\n",
    "\n",
    "# summary of the feature selection\n",
    "PM2.5_lmProfile\n",
    "summary(PM2.5_lmProfile$fit)"
   ]
  },
  {
   "cell_type": "code",
   "execution_count": 57,
   "metadata": {},
   "outputs": [
    {
     "data": {
      "text/html": [
       "<table>\n",
       "<thead><tr><th scope=col>rmse</th><th scope=col>rsq</th></tr></thead>\n",
       "<tbody>\n",
       "\t<tr><td>5.891424 </td><td>0.1550984</td></tr>\n",
       "</tbody>\n",
       "</table>\n"
      ],
      "text/latex": [
       "\\begin{tabular}{r|ll}\n",
       " rmse & rsq\\\\\n",
       "\\hline\n",
       "\t 5.891424  & 0.1550984\\\\\n",
       "\\end{tabular}\n"
      ],
      "text/markdown": [
       "\n",
       "rmse | rsq | \n",
       "|---|\n",
       "| 5.891424  | 0.1550984 | \n",
       "\n",
       "\n"
      ],
      "text/plain": [
       "  rmse     rsq      \n",
       "1 5.891424 0.1550984"
      ]
     },
     "metadata": {},
     "output_type": "display_data"
    }
   ],
   "source": [
    "# predicting and model performance on test dataset \n",
    "test_ld$PM2.5_pred <- predict(PM2.5_lmProfile$fit, test_ld)\n",
    "metrics(test_ld, truth = PM2.5, estimate = PM2.5_pred)"
   ]
  },
  {
   "cell_type": "code",
   "execution_count": 59,
   "metadata": {},
   "outputs": [
    {
     "data": {
      "text/plain": [
       "\n",
       "Recursive feature selection\n",
       "\n",
       "Outer resampling method: Cross-Validated (10 fold, repeated 5 times) \n",
       "\n",
       "Resampling performance over subset size:\n",
       "\n",
       " Variables  RMSE Rsquared   MAE  RMSESD RsquaredSD   MAESD Selected\n",
       "         1 9.538  0.01182 7.518 0.05174   0.001981 0.03579         \n",
       "         3 9.512  0.01713 7.500 0.05223   0.002379 0.03716         \n",
       "         5 6.904  0.48224 4.845 0.05849   0.006102 0.03687         \n",
       "         7 6.890  0.48429 4.849 0.05892   0.006189 0.03750         \n",
       "        10 6.832  0.49297 4.829 0.05681   0.006082 0.03831        *\n",
       "        11 6.832  0.49296 4.829 0.05684   0.006090 0.03833         \n",
       "\n",
       "The top 5 variables (out of 10):\n",
       "   latitude, weekend, holiday, PM2.5, longitude\n"
      ]
     },
     "metadata": {},
     "output_type": "display_data"
    },
    {
     "data": {
      "text/plain": [
       "\n",
       "Call:\n",
       "lm(formula = y ~ ., data = tmp)\n",
       "\n",
       "Residuals:\n",
       "    Min      1Q  Median      3Q     Max \n",
       "-32.892  -3.944  -1.046   2.680  38.493 \n",
       "\n",
       "Coefficients:\n",
       "                 Estimate Std. Error t value Pr(>|t|)    \n",
       "(Intercept)     1.468e+03  2.451e+01  59.890  < 2e-16 ***\n",
       "latitude       -2.828e+01  4.760e-01 -59.421  < 2e-16 ***\n",
       "weekend        -1.579e+00  4.262e-02 -37.045  < 2e-16 ***\n",
       "holiday        -1.555e+00  1.286e-01 -12.091  < 2e-16 ***\n",
       "PM2.5           9.653e-01  3.246e-03 297.349  < 2e-16 ***\n",
       "longitude      -1.962e-01  1.584e-01  -1.239    0.215    \n",
       "wind_speed.kph -6.297e-02  2.963e-03 -21.250  < 2e-16 ***\n",
       "hour            5.346e-02  2.837e-03  18.846  < 2e-16 ***\n",
       "month          -3.762e-02  6.267e-03  -6.003 1.94e-09 ***\n",
       "temperature    -2.805e-02  3.487e-03  -8.045 8.72e-16 ***\n",
       "wind_direction -9.367e-03  2.215e-04 -42.294  < 2e-16 ***\n",
       "---\n",
       "Signif. codes:  0 '***' 0.001 '**' 0.01 '*' 0.05 '.' 0.1 ' ' 1\n",
       "\n",
       "Residual standard error: 6.832 on 127390 degrees of freedom\n",
       "Multiple R-squared:  0.493,\tAdjusted R-squared:  0.493 \n",
       "F-statistic: 1.239e+04 on 10 and 127390 DF,  p-value: < 2.2e-16\n"
      ]
     },
     "metadata": {},
     "output_type": "display_data"
    }
   ],
   "source": [
    "PM10_x <- train_ld[,c(\"PM2.5\",\"latitude\", \"longitude\", \"hour\", \"month\", \"weekend\", \"holiday\", \"temperature\",\"humidity\",\"wind_direction\",\"wind_speed.kph\")]\n",
    "PM10_y <- train_ld[,\"PM10\"]\n",
    "PM10_ctrl <- rfeControl(functions = lmFuncs, method = \"repeatedcv\", repeats = 5, number = 10)\n",
    "PM10_lmProfile <- rfe(PM10_x , PM10_y, sizes = subsets, rfeControl = PM10_ctrl )\n",
    "PM10_lmProfile\n",
    "summary(PM10_lmProfile$fit)"
   ]
  },
  {
   "cell_type": "code",
   "execution_count": 60,
   "metadata": {},
   "outputs": [
    {
     "data": {
      "text/html": [
       "<table>\n",
       "<thead><tr><th scope=col>rmse</th><th scope=col>rsq</th></tr></thead>\n",
       "<tbody>\n",
       "\t<tr><td>6.889495 </td><td>0.4911601</td></tr>\n",
       "</tbody>\n",
       "</table>\n"
      ],
      "text/latex": [
       "\\begin{tabular}{r|ll}\n",
       " rmse & rsq\\\\\n",
       "\\hline\n",
       "\t 6.889495  & 0.4911601\\\\\n",
       "\\end{tabular}\n"
      ],
      "text/markdown": [
       "\n",
       "rmse | rsq | \n",
       "|---|\n",
       "| 6.889495  | 0.4911601 | \n",
       "\n",
       "\n"
      ],
      "text/plain": [
       "  rmse     rsq      \n",
       "1 6.889495 0.4911601"
      ]
     },
     "metadata": {},
     "output_type": "display_data"
    }
   ],
   "source": [
    "test_ld$PM10_pred <- predict(PM10_lmProfile$fit, test_ld)\n",
    "metrics(test_ld, truth = PM10, estimate = PM10_pred)"
   ]
  },
  {
   "cell_type": "code",
   "execution_count": 62,
   "metadata": {},
   "outputs": [
    {
     "data": {
      "text/plain": [
       "\n",
       "Recursive feature selection\n",
       "\n",
       "Outer resampling method: Cross-Validated (10 fold, repeated 5 times) \n",
       "\n",
       "Resampling performance over subset size:\n",
       "\n",
       " Variables  RMSE Rsquared   MAE RMSESD RsquaredSD   MAESD Selected\n",
       "         1 21.35  0.09228 17.01 0.1106   0.004581 0.08556         \n",
       "         3 20.88  0.13196 16.67 0.1221   0.005222 0.09488         \n",
       "         5 20.35  0.17512 16.12 0.1208   0.005655 0.10099         \n",
       "         7 18.40  0.32558 14.46 0.1161   0.005943 0.09315         \n",
       "        10 18.08  0.34925 14.15 0.1142   0.005771 0.09518         \n",
       "        12 18.00  0.35465 14.08 0.1145   0.005643 0.09194        *\n",
       "\n",
       "The top 5 variables (out of 12):\n",
       "   latitude, longitude, holiday, weekend, temperature\n"
      ]
     },
     "metadata": {},
     "output_type": "display_data"
    },
    {
     "data": {
      "text/plain": [
       "\n",
       "Call:\n",
       "lm(formula = y ~ ., data = tmp)\n",
       "\n",
       "Residuals:\n",
       "    Min      1Q  Median      3Q     Max \n",
       "-63.877 -12.419  -2.779  10.167  84.177 \n",
       "\n",
       "Coefficients:\n",
       "                 Estimate Std. Error  t value Pr(>|t|)    \n",
       "(Intercept)    -8.550e+03  6.557e+01 -130.402   <2e-16 ***\n",
       "latitude        1.667e+02  1.273e+00  130.985   <2e-16 ***\n",
       "longitude      -2.882e+01  4.174e-01  -69.045   <2e-16 ***\n",
       "holiday        -8.209e+00  3.392e-01  -24.203   <2e-16 ***\n",
       "weekend        -5.881e+00  1.129e-01  -52.083   <2e-16 ***\n",
       "temperature    -7.613e-01  9.755e-03  -78.039   <2e-16 ***\n",
       "hour            6.447e-01  7.634e-03   84.444   <2e-16 ***\n",
       "PM10            5.973e-01  7.382e-03   80.918   <2e-16 ***\n",
       "wind_speed.kph -4.317e-01  7.844e-03  -55.031   <2e-16 ***\n",
       "PM2.5           2.914e-01  1.113e-02   26.178   <2e-16 ***\n",
       "month           1.432e-01  1.657e-02    8.639   <2e-16 ***\n",
       "humidity       -5.378e-02  4.121e-03  -13.053   <2e-16 ***\n",
       "wind_direction  1.777e-02  5.877e-04   30.236   <2e-16 ***\n",
       "---\n",
       "Signif. codes:  0 '***' 0.001 '**' 0.01 '*' 0.05 '.' 0.1 ' ' 1\n",
       "\n",
       "Residual standard error: 18 on 127388 degrees of freedom\n",
       "Multiple R-squared:  0.3547,\tAdjusted R-squared:  0.3547 \n",
       "F-statistic:  5836 on 12 and 127388 DF,  p-value: < 2.2e-16\n"
      ]
     },
     "metadata": {},
     "output_type": "display_data"
    }
   ],
   "source": [
    "O3_x <- train_ld[,c(\"PM2.5\", \"PM10\", \"latitude\", \"longitude\", \"hour\", \"month\", \"weekend\", \"holiday\", \"temperature\",\"humidity\",\"wind_direction\",\"wind_speed.kph\")]\n",
    "O3_y <- train_ld[,\"O3\"]\n",
    "O3_ctrl <- rfeControl(functions = lmFuncs, method = \"repeatedcv\", repeats = 5, number = 10)\n",
    "O3_lmProfile <- rfe(O3_x , O3_y, sizes = subsets, rfeControl = O3_ctrl )\n",
    "O3_lmProfile\n",
    "summary(O3_lmProfile$fit)"
   ]
  },
  {
   "cell_type": "code",
   "execution_count": 63,
   "metadata": {},
   "outputs": [
    {
     "data": {
      "text/html": [
       "<table>\n",
       "<thead><tr><th scope=col>rmse</th><th scope=col>rsq</th></tr></thead>\n",
       "<tbody>\n",
       "\t<tr><td>17.98576 </td><td>0.3549936</td></tr>\n",
       "</tbody>\n",
       "</table>\n"
      ],
      "text/latex": [
       "\\begin{tabular}{r|ll}\n",
       " rmse & rsq\\\\\n",
       "\\hline\n",
       "\t 17.98576  & 0.3549936\\\\\n",
       "\\end{tabular}\n"
      ],
      "text/markdown": [
       "\n",
       "rmse | rsq | \n",
       "|---|\n",
       "| 17.98576  | 0.3549936 | \n",
       "\n",
       "\n"
      ],
      "text/plain": [
       "  rmse     rsq      \n",
       "1 17.98576 0.3549936"
      ]
     },
     "metadata": {},
     "output_type": "display_data"
    }
   ],
   "source": [
    "test_ld$O3_pred <- predict(O3_lmProfile$fit, test_ld)\n",
    "metrics(test_ld, truth = O3, estimate = O3_pred)"
   ]
  },
  {
   "cell_type": "code",
   "execution_count": 65,
   "metadata": {
    "collapsed": true
   },
   "outputs": [],
   "source": [
    "rm(\"train_ld\")\n",
    "rm(\"test_ld\")"
   ]
  },
  {
   "cell_type": "markdown",
   "metadata": {},
   "source": [
    "### Building the next 2 days dataset and predicting PM2.5, PM10 and O3 values"
   ]
  },
  {
   "cell_type": "code",
   "execution_count": 66,
   "metadata": {
    "collapsed": true
   },
   "outputs": [],
   "source": [
    "#setting system timezone to UTC for consistent datetime usage\n",
    "Sys.setenv(TZ='GMT')\n",
    "tomorrow <- Sys.Date() + 1"
   ]
  },
  {
   "cell_type": "code",
   "execution_count": 67,
   "metadata": {
    "collapsed": true
   },
   "outputs": [],
   "source": [
    "# building 1 hour intervals for next 2 days and stationIds\n",
    "ld_time <-seq(from= as.POSIXct(tomorrow), by = \"1 hour\", length.out = 48)\n",
    "ld_time <- with_tz(ld_time, tzone = \"UTC\")\n",
    "ld_future_data <- data.frame(ld_time)\n",
    "# This id will be used in the creation of final submission file\n",
    "ld_future_data$id <- seq.int(nrow(ld_future_data)) -1\n",
    "ld_future_data <- merge(ld_future_data, data.frame(unique(ld_aq_gm_combined_data$stationId)))\n",
    "names(ld_future_data) <- c(\"utc_time\", \"id\", \"stationId\")"
   ]
  },
  {
   "cell_type": "code",
   "execution_count": 68,
   "metadata": {
    "collapsed": true
   },
   "outputs": [],
   "source": [
    "# building datetime features for the next 2 days\n",
    "ld_future_data$hour <- hour(ld_future_data$utc_time)\n",
    "ld_future_data$month <- month(ld_future_data$utc_time)\n",
    "ld_future_data$date <- date(ld_future_data$utc_time)\n",
    "ld_future_data$weekend = chron::is.weekend(ld_future_data$date)"
   ]
  },
  {
   "cell_type": "code",
   "execution_count": 69,
   "metadata": {
    "collapsed": true
   },
   "outputs": [],
   "source": [
    "ld_future_data$weekend <- as.integer(ld_future_data$weekend)\n",
    "ld_future_data$holiday <- ifelse(ld_future_data$date %in% as.Date(london_holidays), 1, 0)"
   ]
  },
  {
   "cell_type": "code",
   "execution_count": 74,
   "metadata": {
    "collapsed": true
   },
   "outputs": [],
   "source": [
    "# closest grid\n",
    "ld_future_data <-  merge(ld_future_data,ld_closest_stations, by = \"stationId\")\n",
    "# lat long data\n",
    "ld_future_data <- merge(ld_future_data,ld_lat_long_data, by = \"stationId\")"
   ]
  },
  {
   "cell_type": "code",
   "execution_count": 77,
   "metadata": {},
   "outputs": [
    {
     "data": {
      "text/html": [
       "'http://kdd.caiyunapp.com/competition/forecast/ld/2018-05-31-12/2k0d1d8'"
      ],
      "text/latex": [
       "'http://kdd.caiyunapp.com/competition/forecast/ld/2018-05-31-12/2k0d1d8'"
      ],
      "text/markdown": [
       "'http://kdd.caiyunapp.com/competition/forecast/ld/2018-05-31-12/2k0d1d8'"
      ],
      "text/plain": [
       "[1] \"http://kdd.caiyunapp.com/competition/forecast/ld/2018-05-31-12/2k0d1d8\""
      ]
     },
     "metadata": {},
     "output_type": "display_data"
    }
   ],
   "source": [
    "hour <- as.character('12')\n",
    "ld_future_weather_url <- paste0(\"http://kdd.caiyunapp.com/competition/forecast/ld/\",tomorrow - 1,\"-\",hour,\"/2k0d1d8\")\n",
    "ld_future_weather_url"
   ]
  },
  {
   "cell_type": "code",
   "execution_count": 78,
   "metadata": {
    "collapsed": true
   },
   "outputs": [],
   "source": [
    "ld_future_weather_file <- getURL(ld_future_weather_url, ssl.verifyhost=FALSE, ssl.verifypeer=FALSE)\n",
    "ld_future_weather_data <- read.csv(textConnection(ld_future_weather_file), header=TRUE)"
   ]
  },
  {
   "cell_type": "code",
   "execution_count": 80,
   "metadata": {
    "collapsed": true
   },
   "outputs": [],
   "source": [
    "ld_future_weather_data$forecast_time <- anytime(ld_future_weather_data$forecast_time)\n",
    "ld_future_weather_data <- ld_future_weather_data %>% select(-c(id, weather))\n",
    "colnames(ld_future_weather_data) <- c(\"stationName\",\"utc_time\",\"temperature\",\"pressure\",\"humidity\",\"wind_speed.kph\", \"wind_direction\") "
   ]
  },
  {
   "cell_type": "code",
   "execution_count": 81,
   "metadata": {},
   "outputs": [
    {
     "name": "stdout",
     "output_type": "stream",
     "text": [
      "'data.frame':\t41328 obs. of  7 variables:\n",
      " $ stationName   : Factor w/ 861 levels \"london_grid_000\",..: 1 1 1 1 1 1 1 1 1 1 ...\n",
      " $ utc_time      : POSIXct, format: \"2018-05-31 13:00:00\" \"2018-05-31 14:00:00\" ...\n",
      " $ temperature   : num  14.7 14.9 15 15.1 15.1 ...\n",
      " $ pressure      : num  1014 1014 1014 1014 1014 ...\n",
      " $ humidity      : num  95 94 93 93 92 92 92 92 92 91 ...\n",
      " $ wind_speed.kph: num  10.33 10.74 10.98 9.84 7.67 ...\n",
      " $ wind_direction: num  127 142 153 159 165 ...\n"
     ]
    },
    {
     "data": {
      "text/plain": [
       "          stationName       utc_time                    temperature   \n",
       " london_grid_000:   48   Min.   :2018-05-31 13:00:00   Min.   :11.34  \n",
       " london_grid_001:   48   1st Qu.:2018-06-01 00:45:00   1st Qu.:14.32  \n",
       " london_grid_002:   48   Median :2018-06-01 12:30:00   Median :15.76  \n",
       " london_grid_003:   48   Mean   :2018-06-01 12:30:00   Mean   :16.53  \n",
       " london_grid_004:   48   3rd Qu.:2018-06-02 00:15:00   3rd Qu.:18.69  \n",
       " london_grid_005:   48   Max.   :2018-06-02 12:00:00   Max.   :25.77  \n",
       " (Other)        :41040                                                \n",
       "    pressure       humidity      wind_speed.kph  wind_direction  \n",
       " Min.   : 997   Min.   : 46.00   Min.   : 0.05   Min.   :  0.01  \n",
       " 1st Qu.:1007   1st Qu.: 86.00   1st Qu.: 6.21   1st Qu.:122.96  \n",
       " Median :1011   Median : 91.00   Median :12.23   Median :225.96  \n",
       " Mean   :1011   Mean   : 89.34   Mean   :12.01   Mean   :191.55  \n",
       " 3rd Qu.:1016   3rd Qu.: 95.00   3rd Qu.:16.09   3rd Qu.:248.62  \n",
       " Max.   :1021   Max.   :100.00   Max.   :32.78   Max.   :359.99  \n",
       "                                                                 "
      ]
     },
     "metadata": {},
     "output_type": "display_data"
    },
    {
     "data": {
      "text/html": [
       "<table>\n",
       "<thead><tr><th scope=col>min_date</th><th scope=col>max_date</th></tr></thead>\n",
       "<tbody>\n",
       "\t<tr><td>2018-05-31 13:00:00</td><td>2018-06-02 12:00:00</td></tr>\n",
       "</tbody>\n",
       "</table>\n"
      ],
      "text/latex": [
       "\\begin{tabular}{r|ll}\n",
       " min\\_date & max\\_date\\\\\n",
       "\\hline\n",
       "\t 2018-05-31 13:00:00 & 2018-06-02 12:00:00\\\\\n",
       "\\end{tabular}\n"
      ],
      "text/markdown": [
       "\n",
       "min_date | max_date | \n",
       "|---|\n",
       "| 2018-05-31 13:00:00 | 2018-06-02 12:00:00 | \n",
       "\n",
       "\n"
      ],
      "text/plain": [
       "  min_date            max_date           \n",
       "1 2018-05-31 13:00:00 2018-06-02 12:00:00"
      ]
     },
     "metadata": {},
     "output_type": "display_data"
    }
   ],
   "source": [
    "str(ld_future_weather_data)\n",
    "summary(ld_future_weather_data)\n",
    "ld_future_weather_data %>% summarize(min_date = min(utc_time), max_date = max(utc_time))"
   ]
  },
  {
   "cell_type": "code",
   "execution_count": 82,
   "metadata": {},
   "outputs": [
    {
     "name": "stderr",
     "output_type": "stream",
     "text": [
      "Warning message:\n",
      "\"Column `stationName` joining factors with different levels, coercing to character vector\""
     ]
    }
   ],
   "source": [
    "ld_future_data <- ld_future_data %>% left_join(ld_future_weather_data, by= c(\"stationName\", \"utc_time\"))"
   ]
  },
  {
   "cell_type": "code",
   "execution_count": 84,
   "metadata": {
    "collapsed": true
   },
   "outputs": [],
   "source": [
    "# replace pressure NA with mean values based on certain groups\n",
    "ld_future_data_pressure <- ld_future_data %>% \n",
    "                                group_by(stationId, hour) %>% \n",
    "                                summarize(pressure = mean(pressure, na.rm = TRUE))\n",
    "ld_future_data <- ld_future_data %>% \n",
    "                          left_join(ld_future_data_pressure, c(\"stationId\", \"hour\")) %>% \n",
    "                          mutate(pressure = coalesce(pressure.x, pressure.y)) %>% \n",
    "                          select(-pressure.x, -pressure.y)\n",
    "# replace temperature NA with mean values based on certain groups\n",
    "ld_future_data_temperature <- ld_future_data %>% \n",
    "                                group_by(stationId, hour) %>% \n",
    "                                summarize(temperature = mean(temperature, na.rm = TRUE))\n",
    "ld_future_data <- ld_future_data %>% \n",
    "                          left_join(ld_future_data_temperature, c(\"stationId\", \"hour\")) %>% \n",
    "                          mutate(temperature = coalesce(temperature.x, temperature.y)) %>% \n",
    "                          select(-temperature.x, -temperature.y)\n",
    "\n",
    "# replace humidity NA with mean values based on certain groups\n",
    "ld_future_data_humidity <- ld_future_data %>% \n",
    "                                group_by(stationId, hour) %>% \n",
    "                                summarize(humidity = mean(humidity, na.rm = TRUE))\n",
    "ld_future_data <- ld_future_data %>% \n",
    "                          left_join(ld_future_data_humidity, c(\"stationId\", \"hour\")) %>% \n",
    "                          mutate(humidity = coalesce(humidity.x, humidity.y)) %>% \n",
    "                          select(-humidity.x, -humidity.y)\n",
    "\n",
    "\n",
    "# replace wind_speed NA with mean values based on certain groups\n",
    "ld_future_data_wind_speed.kph <- ld_future_data %>% \n",
    "                                group_by(stationId, hour) %>% \n",
    "                                summarize(wind_speed.kph = mean(wind_speed.kph, na.rm = TRUE))\n",
    "ld_future_data <- ld_future_data %>% \n",
    "                          left_join(ld_future_data_wind_speed.kph, c(\"stationId\", \"hour\")) %>% \n",
    "                          mutate(wind_speed.kph = coalesce(wind_speed.kph.x, wind_speed.kph.y)) %>% \n",
    "                          select(-wind_speed.kph.x, -wind_speed.kph.y)\n",
    "\n",
    "# replace wind direction NA with mean values based on certain groups\n",
    "ld_future_data_wind_direction <- ld_future_data %>% \n",
    "                                group_by(stationId, hour) %>% \n",
    "                                summarize(wind_direction = mean(wind_direction, na.rm = TRUE))\n",
    "ld_future_data <- ld_future_data %>% \n",
    "                          left_join(ld_future_data_wind_direction, c(\"stationId\", \"hour\")) %>% \n",
    "                          mutate(wind_direction = coalesce(wind_direction.x, wind_direction.y)) %>% \n",
    "                          select(-wind_direction.x, -wind_direction.y)"
   ]
  },
  {
   "cell_type": "code",
   "execution_count": 86,
   "metadata": {
    "collapsed": true
   },
   "outputs": [],
   "source": [
    "# predicting PM2.5, PM10 and O3 values\n",
    "ld_future_data$PM2.5 <- predict(PM2.5_ld_model, ld_future_data)\n",
    "ld_future_data$PM10 <- predict(PM10_ld_model, ld_future_data)\n",
    "ld_future_data$O3 <- predict(O3_ld_model, ld_future_data)"
   ]
  },
  {
   "cell_type": "code",
   "execution_count": 87,
   "metadata": {
    "collapsed": true
   },
   "outputs": [],
   "source": [
    "#creating the test_id for final submission file\n",
    "ld_future_data$test_id <- paste(ld_future_data$stationId, \"#\", ld_future_data$id, sep = \"\")"
   ]
  },
  {
   "cell_type": "code",
   "execution_count": 88,
   "metadata": {},
   "outputs": [
    {
     "name": "stdout",
     "output_type": "stream",
     "text": [
      "'data.frame':\t624 obs. of  22 variables:\n",
      " $ stationId     : Factor w/ 24 levels \"BL0\",\"BX1\",\"BX9\",..: 1 1 1 1 1 1 1 1 1 1 ...\n",
      " $ utc_time      : POSIXct, format: \"2018-06-01 00:00:00\" \"2018-06-01 01:00:00\" ...\n",
      " $ id            : num  0 1 2 3 4 5 6 7 8 9 ...\n",
      " $ hour          : int  0 1 2 3 4 5 6 7 8 9 ...\n",
      " $ month         : num  6 6 6 6 6 6 6 6 6 6 ...\n",
      " $ date          : Date, format: \"2018-06-01\" \"2018-06-01\" ...\n",
      " $ weekend       : int  0 0 0 0 0 0 0 0 0 0 ...\n",
      " $ holiday       : num  0 0 0 0 0 0 0 0 0 0 ...\n",
      " $ x             : int  3 3 3 3 3 3 3 3 3 3 ...\n",
      " $ stationName   : chr  \"london_grid_409\" \"london_grid_409\" \"london_grid_409\" \"london_grid_409\" ...\n",
      " $ distance      : num  3060 3060 3060 3060 3060 ...\n",
      " $ latitude      : num  51.5 51.5 51.5 51.5 51.5 ...\n",
      " $ longitude     : num  -0.126 -0.126 -0.126 -0.126 -0.126 ...\n",
      " $ pressure      : num  1010 1010 1010 1011 1012 ...\n",
      " $ temperature   : num  23.7 23 22 20.9 19.8 ...\n",
      " $ humidity      : num  55 58 63 69 74 77 79 81 82 83 ...\n",
      " $ wind_speed.kph: num  12.41 10.96 9.12 7.31 5.99 ...\n",
      " $ wind_direction: num  115 117 120 122 122 ...\n",
      " $ PM2.5         : num  10.7 10.8 10.9 11 11.1 ...\n",
      " $ PM10          : num  17.6 17.8 17.9 18 18.2 ...\n",
      " $ O3            : num  43.2 43.9 44.5 45.2 45.8 ...\n",
      " $ test_id       : chr  \"BL0#0\" \"BL0#1\" \"BL0#2\" \"BL0#3\" ...\n"
     ]
    },
    {
     "data": {
      "text/plain": [
       "   stationId      utc_time                         id             hour      \n",
       " BL0    : 48   Min.   :2018-06-01 00:00:00   Min.   : 0.00   Min.   : 0.00  \n",
       " CD1    : 48   1st Qu.:2018-06-01 11:45:00   1st Qu.:11.75   1st Qu.: 5.75  \n",
       " CD9    : 48   Median :2018-06-01 23:30:00   Median :23.50   Median :11.50  \n",
       " GN0    : 48   Mean   :2018-06-01 23:30:00   Mean   :23.50   Mean   :11.50  \n",
       " GN3    : 48   3rd Qu.:2018-06-02 11:15:00   3rd Qu.:35.25   3rd Qu.:17.25  \n",
       " GR4    : 48   Max.   :2018-06-02 23:00:00   Max.   :47.00   Max.   :23.00  \n",
       " (Other):336                                                                \n",
       "     month        date               weekend       holiday        x        \n",
       " Min.   :6   Min.   :2018-06-01   Min.   :0.0   Min.   :0   Min.   : 3.00  \n",
       " 1st Qu.:6   1st Qu.:2018-06-01   1st Qu.:0.0   1st Qu.:0   1st Qu.: 9.00  \n",
       " Median :6   Median :2018-06-01   Median :0.5   Median :0   Median :12.00  \n",
       " Mean   :6   Mean   :2018-06-01   Mean   :0.5   Mean   :0   Mean   :13.46  \n",
       " 3rd Qu.:6   3rd Qu.:2018-06-02   3rd Qu.:1.0   3rd Qu.:0   3rd Qu.:19.00  \n",
       " Max.   :6   Max.   :2018-06-02   Max.   :1.0   Max.   :0   Max.   :24.00  \n",
       "                                                                           \n",
       " stationName           distance       latitude       longitude       \n",
       " Length:624         Min.   :1491   Min.   :51.39   Min.   :-0.21349  \n",
       " Class :character   1st Qu.:2345   1st Qu.:51.47   1st Qu.:-0.14166  \n",
       " Mode  :character   Median :3130   Median :51.52   Median :-0.03964  \n",
       "                    Mean   :3424   Mean   :51.49   Mean   :-0.03861  \n",
       "                    3rd Qu.:4024   3rd Qu.:51.52   3rd Qu.: 0.07077  \n",
       "                    Max.   :5655   Max.   :51.54   Max.   : 0.20546  \n",
       "                                                                     \n",
       "    pressure     temperature       humidity     wind_speed.kph  \n",
       " Min.   :1006   Min.   :14.55   Min.   :46.00   Min.   : 1.710  \n",
       " 1st Qu.:1012   1st Qu.:17.46   1st Qu.:58.00   1st Qu.: 5.570  \n",
       " Median :1013   Median :20.11   Median :70.00   Median :11.660  \n",
       " Mean   :1013   Mean   :20.28   Mean   :68.99   Mean   : 9.659  \n",
       " 3rd Qu.:1015   3rd Qu.:23.09   3rd Qu.:81.00   3rd Qu.:12.790  \n",
       " Max.   :1015   Max.   :25.77   Max.   :89.00   Max.   :16.030  \n",
       "                                                                \n",
       " wind_direction      PM2.5             PM10             O3       \n",
       " Min.   :100.1   Min.   : 8.817   Min.   :14.55   Min.   :17.88  \n",
       " 1st Qu.:177.2   1st Qu.:10.739   1st Qu.:17.72   1st Qu.:33.06  \n",
       " Median :222.5   Median :11.433   Median :18.72   Median :40.12  \n",
       " Mean   :207.5   Mean   :11.407   Mean   :18.85   Mean   :40.44  \n",
       " 3rd Qu.:254.8   3rd Qu.:12.103   3rd Qu.:19.78   3rd Qu.:47.76  \n",
       " Max.   :261.7   Max.   :13.606   Max.   :24.55   Max.   :62.99  \n",
       "                                                                 \n",
       "   test_id         \n",
       " Length:624        \n",
       " Class :character  \n",
       " Mode  :character  \n",
       "                   \n",
       "                   \n",
       "                   \n",
       "                   "
      ]
     },
     "metadata": {},
     "output_type": "display_data"
    },
    {
     "data": {
      "text/html": [
       "<table>\n",
       "<thead><tr><th scope=col>min_date</th><th scope=col>max_date</th></tr></thead>\n",
       "<tbody>\n",
       "\t<tr><td>2018-06-01         </td><td>2018-06-02 23:00:00</td></tr>\n",
       "</tbody>\n",
       "</table>\n"
      ],
      "text/latex": [
       "\\begin{tabular}{r|ll}\n",
       " min\\_date & max\\_date\\\\\n",
       "\\hline\n",
       "\t 2018-06-01          & 2018-06-02 23:00:00\\\\\n",
       "\\end{tabular}\n"
      ],
      "text/markdown": [
       "\n",
       "min_date | max_date | \n",
       "|---|\n",
       "| 2018-06-01          | 2018-06-02 23:00:00 | \n",
       "\n",
       "\n"
      ],
      "text/plain": [
       "  min_date   max_date           \n",
       "1 2018-06-01 2018-06-02 23:00:00"
      ]
     },
     "metadata": {},
     "output_type": "display_data"
    }
   ],
   "source": [
    "str(ld_future_data)\n",
    "summary(ld_future_data)\n",
    "ld_future_data %>% summarize(min_date = min(utc_time ), max_date = max(utc_time ))"
   ]
  },
  {
   "cell_type": "code",
   "execution_count": 105,
   "metadata": {},
   "outputs": [
    {
     "data": {
      "text/html": [
       "<table>\n",
       "<thead><tr><th scope=col>stationId</th><th scope=col>utc_time</th><th scope=col>id</th><th scope=col>hour</th><th scope=col>month</th><th scope=col>date</th><th scope=col>weekend</th><th scope=col>holiday</th><th scope=col>latitude</th><th scope=col>longitude</th><th scope=col>PM2.5</th><th scope=col>PM10</th><th scope=col>O3</th><th scope=col>test_id</th></tr></thead>\n",
       "<tbody>\n",
       "\t<tr><td>BL0                </td><td>2018-05-30 00:00:00</td><td> 0                 </td><td> 0                 </td><td>5                  </td><td>2018-05-30         </td><td>0                  </td><td>0                  </td><td>51.52229           </td><td>-0.125848          </td><td>10.87809           </td><td>17.87551           </td><td>43.53950           </td><td>BL0#0              </td></tr>\n",
       "\t<tr><td>BL0                </td><td>2018-05-30 01:00:00</td><td> 1                 </td><td> 1                 </td><td>5                  </td><td>2018-05-30         </td><td>0                  </td><td>0                  </td><td>51.52229           </td><td>-0.125848          </td><td>10.96902           </td><td>18.01037           </td><td>44.19121           </td><td>BL0#1              </td></tr>\n",
       "\t<tr><td>BL0                </td><td>2018-05-30 02:00:00</td><td> 2                 </td><td> 2                 </td><td>5                  </td><td>2018-05-30         </td><td>0                  </td><td>0                  </td><td>51.52229           </td><td>-0.125848          </td><td>11.05995           </td><td>18.14523           </td><td>44.84292           </td><td>BL0#2              </td></tr>\n",
       "\t<tr><td>BL0                </td><td>2018-05-30 03:00:00</td><td> 3                 </td><td> 3                 </td><td>5                  </td><td>2018-05-30         </td><td>0                  </td><td>0                  </td><td>51.52229           </td><td>-0.125848          </td><td>11.15087           </td><td>18.28010           </td><td>45.49463           </td><td>BL0#3              </td></tr>\n",
       "\t<tr><td>BL0                </td><td>2018-05-30 04:00:00</td><td> 4                 </td><td> 4                 </td><td>5                  </td><td>2018-05-30         </td><td>0                  </td><td>0                  </td><td>51.52229           </td><td>-0.125848          </td><td>11.24180           </td><td>18.41496           </td><td>46.14634           </td><td>BL0#4              </td></tr>\n",
       "\t<tr><td>BL0                </td><td>2018-05-30 05:00:00</td><td> 5                 </td><td> 5                 </td><td>5                  </td><td>2018-05-30         </td><td>0                  </td><td>0                  </td><td>51.52229           </td><td>-0.125848          </td><td>11.33272           </td><td>18.54982           </td><td>46.79805           </td><td>BL0#5              </td></tr>\n",
       "\t<tr><td>BL0                </td><td>2018-05-30 06:00:00</td><td> 6                 </td><td> 6                 </td><td>5                  </td><td>2018-05-30         </td><td>0                  </td><td>0                  </td><td>51.52229           </td><td>-0.125848          </td><td>11.42365           </td><td>18.68468           </td><td>47.44976           </td><td>BL0#6              </td></tr>\n",
       "\t<tr><td>BL0                </td><td>2018-05-30 07:00:00</td><td> 7                 </td><td> 7                 </td><td>5                  </td><td>2018-05-30         </td><td>0                  </td><td>0                  </td><td>51.52229           </td><td>-0.125848          </td><td>11.51457           </td><td>18.81954           </td><td>48.10147           </td><td>BL0#7              </td></tr>\n",
       "\t<tr><td>BL0                </td><td>2018-05-30 08:00:00</td><td> 8                 </td><td> 8                 </td><td>5                  </td><td>2018-05-30         </td><td>0                  </td><td>0                  </td><td>51.52229           </td><td>-0.125848          </td><td>11.60550           </td><td>18.95441           </td><td>48.75318           </td><td>BL0#8              </td></tr>\n",
       "\t<tr><td>BL0                </td><td>2018-05-30 09:00:00</td><td> 9                 </td><td> 9                 </td><td>5                  </td><td>2018-05-30         </td><td>0                  </td><td>0                  </td><td>51.52229           </td><td>-0.125848          </td><td>11.69643           </td><td>19.08927           </td><td>49.40489           </td><td>BL0#9              </td></tr>\n",
       "\t<tr><td>BL0                </td><td>2018-05-30 10:00:00</td><td>10                 </td><td>10                 </td><td>5                  </td><td>2018-05-30         </td><td>0                  </td><td>0                  </td><td>51.52229           </td><td>-0.125848          </td><td>11.78735           </td><td>19.22413           </td><td>50.05660           </td><td>BL0#10             </td></tr>\n",
       "\t<tr><td>BL0                </td><td>2018-05-30 11:00:00</td><td>11                 </td><td>11                 </td><td>5                  </td><td>2018-05-30         </td><td>0                  </td><td>0                  </td><td>51.52229           </td><td>-0.125848          </td><td>11.87828           </td><td>19.35899           </td><td>50.70831           </td><td>BL0#11             </td></tr>\n",
       "\t<tr><td>BL0                </td><td>2018-05-30 12:00:00</td><td>12                 </td><td>12                 </td><td>5                  </td><td>2018-05-30         </td><td>0                  </td><td>0                  </td><td>51.52229           </td><td>-0.125848          </td><td>11.96920           </td><td>19.49385           </td><td>51.36002           </td><td>BL0#12             </td></tr>\n",
       "\t<tr><td>BL0                </td><td>2018-05-30 13:00:00</td><td>13                 </td><td>13                 </td><td>5                  </td><td>2018-05-30         </td><td>0                  </td><td>0                  </td><td>51.52229           </td><td>-0.125848          </td><td>12.06013           </td><td>19.62871           </td><td>52.01173           </td><td>BL0#13             </td></tr>\n",
       "\t<tr><td>BL0                </td><td>2018-05-30 14:00:00</td><td>14                 </td><td>14                 </td><td>5                  </td><td>2018-05-30         </td><td>0                  </td><td>0                  </td><td>51.52229           </td><td>-0.125848          </td><td>12.15105           </td><td>19.76358           </td><td>52.66344           </td><td>BL0#14             </td></tr>\n",
       "\t<tr><td>BL0                </td><td>2018-05-30 15:00:00</td><td>15                 </td><td>15                 </td><td>5                  </td><td>2018-05-30         </td><td>0                  </td><td>0                  </td><td>51.52229           </td><td>-0.125848          </td><td>12.24198           </td><td>19.89844           </td><td>53.31515           </td><td>BL0#15             </td></tr>\n",
       "\t<tr><td>BL0                </td><td>2018-05-30 16:00:00</td><td>16                 </td><td>16                 </td><td>5                  </td><td>2018-05-30         </td><td>0                  </td><td>0                  </td><td>51.52229           </td><td>-0.125848          </td><td>12.33291           </td><td>20.03330           </td><td>53.96686           </td><td>BL0#16             </td></tr>\n",
       "\t<tr><td>BL0                </td><td>2018-05-30 17:00:00</td><td>17                 </td><td>17                 </td><td>5                  </td><td>2018-05-30         </td><td>0                  </td><td>0                  </td><td>51.52229           </td><td>-0.125848          </td><td>12.42383           </td><td>20.16816           </td><td>54.61857           </td><td>BL0#17             </td></tr>\n",
       "\t<tr><td>BL0                </td><td>2018-05-30 18:00:00</td><td>18                 </td><td>18                 </td><td>5                  </td><td>2018-05-30         </td><td>0                  </td><td>0                  </td><td>51.52229           </td><td>-0.125848          </td><td>12.51476           </td><td>20.30302           </td><td>55.27028           </td><td>BL0#18             </td></tr>\n",
       "\t<tr><td>BL0                </td><td>2018-05-30 19:00:00</td><td>19                 </td><td>19                 </td><td>5                  </td><td>2018-05-30         </td><td>0                  </td><td>0                  </td><td>51.52229           </td><td>-0.125848          </td><td>12.60568           </td><td>20.43789           </td><td>55.92199           </td><td>BL0#19             </td></tr>\n",
       "</tbody>\n",
       "</table>\n"
      ],
      "text/latex": [
       "\\begin{tabular}{r|llllllllllllll}\n",
       " stationId & utc\\_time & id & hour & month & date & weekend & holiday & latitude & longitude & PM2.5 & PM10 & O3 & test\\_id\\\\\n",
       "\\hline\n",
       "\t BL0                 & 2018-05-30 00:00:00 &  0                  &  0                  & 5                   & 2018-05-30          & 0                   & 0                   & 51.52229            & -0.125848           & 10.87809            & 17.87551            & 43.53950            & BL0\\#0            \\\\\n",
       "\t BL0                 & 2018-05-30 01:00:00 &  1                  &  1                  & 5                   & 2018-05-30          & 0                   & 0                   & 51.52229            & -0.125848           & 10.96902            & 18.01037            & 44.19121            & BL0\\#1            \\\\\n",
       "\t BL0                 & 2018-05-30 02:00:00 &  2                  &  2                  & 5                   & 2018-05-30          & 0                   & 0                   & 51.52229            & -0.125848           & 11.05995            & 18.14523            & 44.84292            & BL0\\#2            \\\\\n",
       "\t BL0                 & 2018-05-30 03:00:00 &  3                  &  3                  & 5                   & 2018-05-30          & 0                   & 0                   & 51.52229            & -0.125848           & 11.15087            & 18.28010            & 45.49463            & BL0\\#3            \\\\\n",
       "\t BL0                 & 2018-05-30 04:00:00 &  4                  &  4                  & 5                   & 2018-05-30          & 0                   & 0                   & 51.52229            & -0.125848           & 11.24180            & 18.41496            & 46.14634            & BL0\\#4            \\\\\n",
       "\t BL0                 & 2018-05-30 05:00:00 &  5                  &  5                  & 5                   & 2018-05-30          & 0                   & 0                   & 51.52229            & -0.125848           & 11.33272            & 18.54982            & 46.79805            & BL0\\#5            \\\\\n",
       "\t BL0                 & 2018-05-30 06:00:00 &  6                  &  6                  & 5                   & 2018-05-30          & 0                   & 0                   & 51.52229            & -0.125848           & 11.42365            & 18.68468            & 47.44976            & BL0\\#6            \\\\\n",
       "\t BL0                 & 2018-05-30 07:00:00 &  7                  &  7                  & 5                   & 2018-05-30          & 0                   & 0                   & 51.52229            & -0.125848           & 11.51457            & 18.81954            & 48.10147            & BL0\\#7            \\\\\n",
       "\t BL0                 & 2018-05-30 08:00:00 &  8                  &  8                  & 5                   & 2018-05-30          & 0                   & 0                   & 51.52229            & -0.125848           & 11.60550            & 18.95441            & 48.75318            & BL0\\#8            \\\\\n",
       "\t BL0                 & 2018-05-30 09:00:00 &  9                  &  9                  & 5                   & 2018-05-30          & 0                   & 0                   & 51.52229            & -0.125848           & 11.69643            & 19.08927            & 49.40489            & BL0\\#9            \\\\\n",
       "\t BL0                 & 2018-05-30 10:00:00 & 10                  & 10                  & 5                   & 2018-05-30          & 0                   & 0                   & 51.52229            & -0.125848           & 11.78735            & 19.22413            & 50.05660            & BL0\\#10           \\\\\n",
       "\t BL0                 & 2018-05-30 11:00:00 & 11                  & 11                  & 5                   & 2018-05-30          & 0                   & 0                   & 51.52229            & -0.125848           & 11.87828            & 19.35899            & 50.70831            & BL0\\#11           \\\\\n",
       "\t BL0                 & 2018-05-30 12:00:00 & 12                  & 12                  & 5                   & 2018-05-30          & 0                   & 0                   & 51.52229            & -0.125848           & 11.96920            & 19.49385            & 51.36002            & BL0\\#12           \\\\\n",
       "\t BL0                 & 2018-05-30 13:00:00 & 13                  & 13                  & 5                   & 2018-05-30          & 0                   & 0                   & 51.52229            & -0.125848           & 12.06013            & 19.62871            & 52.01173            & BL0\\#13           \\\\\n",
       "\t BL0                 & 2018-05-30 14:00:00 & 14                  & 14                  & 5                   & 2018-05-30          & 0                   & 0                   & 51.52229            & -0.125848           & 12.15105            & 19.76358            & 52.66344            & BL0\\#14           \\\\\n",
       "\t BL0                 & 2018-05-30 15:00:00 & 15                  & 15                  & 5                   & 2018-05-30          & 0                   & 0                   & 51.52229            & -0.125848           & 12.24198            & 19.89844            & 53.31515            & BL0\\#15           \\\\\n",
       "\t BL0                 & 2018-05-30 16:00:00 & 16                  & 16                  & 5                   & 2018-05-30          & 0                   & 0                   & 51.52229            & -0.125848           & 12.33291            & 20.03330            & 53.96686            & BL0\\#16           \\\\\n",
       "\t BL0                 & 2018-05-30 17:00:00 & 17                  & 17                  & 5                   & 2018-05-30          & 0                   & 0                   & 51.52229            & -0.125848           & 12.42383            & 20.16816            & 54.61857            & BL0\\#17           \\\\\n",
       "\t BL0                 & 2018-05-30 18:00:00 & 18                  & 18                  & 5                   & 2018-05-30          & 0                   & 0                   & 51.52229            & -0.125848           & 12.51476            & 20.30302            & 55.27028            & BL0\\#18           \\\\\n",
       "\t BL0                 & 2018-05-30 19:00:00 & 19                  & 19                  & 5                   & 2018-05-30          & 0                   & 0                   & 51.52229            & -0.125848           & 12.60568            & 20.43789            & 55.92199            & BL0\\#19           \\\\\n",
       "\\end{tabular}\n"
      ],
      "text/markdown": [
       "\n",
       "stationId | utc_time | id | hour | month | date | weekend | holiday | latitude | longitude | PM2.5 | PM10 | O3 | test_id | \n",
       "|---|---|---|---|---|---|---|---|---|---|---|---|---|---|---|---|---|---|---|---|\n",
       "| BL0                 | 2018-05-30 00:00:00 |  0                  |  0                  | 5                   | 2018-05-30          | 0                   | 0                   | 51.52229            | -0.125848           | 10.87809            | 17.87551            | 43.53950            | BL0#0               | \n",
       "| BL0                 | 2018-05-30 01:00:00 |  1                  |  1                  | 5                   | 2018-05-30          | 0                   | 0                   | 51.52229            | -0.125848           | 10.96902            | 18.01037            | 44.19121            | BL0#1               | \n",
       "| BL0                 | 2018-05-30 02:00:00 |  2                  |  2                  | 5                   | 2018-05-30          | 0                   | 0                   | 51.52229            | -0.125848           | 11.05995            | 18.14523            | 44.84292            | BL0#2               | \n",
       "| BL0                 | 2018-05-30 03:00:00 |  3                  |  3                  | 5                   | 2018-05-30          | 0                   | 0                   | 51.52229            | -0.125848           | 11.15087            | 18.28010            | 45.49463            | BL0#3               | \n",
       "| BL0                 | 2018-05-30 04:00:00 |  4                  |  4                  | 5                   | 2018-05-30          | 0                   | 0                   | 51.52229            | -0.125848           | 11.24180            | 18.41496            | 46.14634            | BL0#4               | \n",
       "| BL0                 | 2018-05-30 05:00:00 |  5                  |  5                  | 5                   | 2018-05-30          | 0                   | 0                   | 51.52229            | -0.125848           | 11.33272            | 18.54982            | 46.79805            | BL0#5               | \n",
       "| BL0                 | 2018-05-30 06:00:00 |  6                  |  6                  | 5                   | 2018-05-30          | 0                   | 0                   | 51.52229            | -0.125848           | 11.42365            | 18.68468            | 47.44976            | BL0#6               | \n",
       "| BL0                 | 2018-05-30 07:00:00 |  7                  |  7                  | 5                   | 2018-05-30          | 0                   | 0                   | 51.52229            | -0.125848           | 11.51457            | 18.81954            | 48.10147            | BL0#7               | \n",
       "| BL0                 | 2018-05-30 08:00:00 |  8                  |  8                  | 5                   | 2018-05-30          | 0                   | 0                   | 51.52229            | -0.125848           | 11.60550            | 18.95441            | 48.75318            | BL0#8               | \n",
       "| BL0                 | 2018-05-30 09:00:00 |  9                  |  9                  | 5                   | 2018-05-30          | 0                   | 0                   | 51.52229            | -0.125848           | 11.69643            | 19.08927            | 49.40489            | BL0#9               | \n",
       "| BL0                 | 2018-05-30 10:00:00 | 10                  | 10                  | 5                   | 2018-05-30          | 0                   | 0                   | 51.52229            | -0.125848           | 11.78735            | 19.22413            | 50.05660            | BL0#10              | \n",
       "| BL0                 | 2018-05-30 11:00:00 | 11                  | 11                  | 5                   | 2018-05-30          | 0                   | 0                   | 51.52229            | -0.125848           | 11.87828            | 19.35899            | 50.70831            | BL0#11              | \n",
       "| BL0                 | 2018-05-30 12:00:00 | 12                  | 12                  | 5                   | 2018-05-30          | 0                   | 0                   | 51.52229            | -0.125848           | 11.96920            | 19.49385            | 51.36002            | BL0#12              | \n",
       "| BL0                 | 2018-05-30 13:00:00 | 13                  | 13                  | 5                   | 2018-05-30          | 0                   | 0                   | 51.52229            | -0.125848           | 12.06013            | 19.62871            | 52.01173            | BL0#13              | \n",
       "| BL0                 | 2018-05-30 14:00:00 | 14                  | 14                  | 5                   | 2018-05-30          | 0                   | 0                   | 51.52229            | -0.125848           | 12.15105            | 19.76358            | 52.66344            | BL0#14              | \n",
       "| BL0                 | 2018-05-30 15:00:00 | 15                  | 15                  | 5                   | 2018-05-30          | 0                   | 0                   | 51.52229            | -0.125848           | 12.24198            | 19.89844            | 53.31515            | BL0#15              | \n",
       "| BL0                 | 2018-05-30 16:00:00 | 16                  | 16                  | 5                   | 2018-05-30          | 0                   | 0                   | 51.52229            | -0.125848           | 12.33291            | 20.03330            | 53.96686            | BL0#16              | \n",
       "| BL0                 | 2018-05-30 17:00:00 | 17                  | 17                  | 5                   | 2018-05-30          | 0                   | 0                   | 51.52229            | -0.125848           | 12.42383            | 20.16816            | 54.61857            | BL0#17              | \n",
       "| BL0                 | 2018-05-30 18:00:00 | 18                  | 18                  | 5                   | 2018-05-30          | 0                   | 0                   | 51.52229            | -0.125848           | 12.51476            | 20.30302            | 55.27028            | BL0#18              | \n",
       "| BL0                 | 2018-05-30 19:00:00 | 19                  | 19                  | 5                   | 2018-05-30          | 0                   | 0                   | 51.52229            | -0.125848           | 12.60568            | 20.43789            | 55.92199            | BL0#19              | \n",
       "\n",
       "\n"
      ],
      "text/plain": [
       "   stationId utc_time            id hour month date       weekend holiday\n",
       "1  BL0       2018-05-30 00:00:00  0  0   5     2018-05-30 0       0      \n",
       "2  BL0       2018-05-30 01:00:00  1  1   5     2018-05-30 0       0      \n",
       "3  BL0       2018-05-30 02:00:00  2  2   5     2018-05-30 0       0      \n",
       "4  BL0       2018-05-30 03:00:00  3  3   5     2018-05-30 0       0      \n",
       "5  BL0       2018-05-30 04:00:00  4  4   5     2018-05-30 0       0      \n",
       "6  BL0       2018-05-30 05:00:00  5  5   5     2018-05-30 0       0      \n",
       "7  BL0       2018-05-30 06:00:00  6  6   5     2018-05-30 0       0      \n",
       "8  BL0       2018-05-30 07:00:00  7  7   5     2018-05-30 0       0      \n",
       "9  BL0       2018-05-30 08:00:00  8  8   5     2018-05-30 0       0      \n",
       "10 BL0       2018-05-30 09:00:00  9  9   5     2018-05-30 0       0      \n",
       "11 BL0       2018-05-30 10:00:00 10 10   5     2018-05-30 0       0      \n",
       "12 BL0       2018-05-30 11:00:00 11 11   5     2018-05-30 0       0      \n",
       "13 BL0       2018-05-30 12:00:00 12 12   5     2018-05-30 0       0      \n",
       "14 BL0       2018-05-30 13:00:00 13 13   5     2018-05-30 0       0      \n",
       "15 BL0       2018-05-30 14:00:00 14 14   5     2018-05-30 0       0      \n",
       "16 BL0       2018-05-30 15:00:00 15 15   5     2018-05-30 0       0      \n",
       "17 BL0       2018-05-30 16:00:00 16 16   5     2018-05-30 0       0      \n",
       "18 BL0       2018-05-30 17:00:00 17 17   5     2018-05-30 0       0      \n",
       "19 BL0       2018-05-30 18:00:00 18 18   5     2018-05-30 0       0      \n",
       "20 BL0       2018-05-30 19:00:00 19 19   5     2018-05-30 0       0      \n",
       "   latitude longitude PM2.5    PM10     O3       test_id\n",
       "1  51.52229 -0.125848 10.87809 17.87551 43.53950 BL0#0  \n",
       "2  51.52229 -0.125848 10.96902 18.01037 44.19121 BL0#1  \n",
       "3  51.52229 -0.125848 11.05995 18.14523 44.84292 BL0#2  \n",
       "4  51.52229 -0.125848 11.15087 18.28010 45.49463 BL0#3  \n",
       "5  51.52229 -0.125848 11.24180 18.41496 46.14634 BL0#4  \n",
       "6  51.52229 -0.125848 11.33272 18.54982 46.79805 BL0#5  \n",
       "7  51.52229 -0.125848 11.42365 18.68468 47.44976 BL0#6  \n",
       "8  51.52229 -0.125848 11.51457 18.81954 48.10147 BL0#7  \n",
       "9  51.52229 -0.125848 11.60550 18.95441 48.75318 BL0#8  \n",
       "10 51.52229 -0.125848 11.69643 19.08927 49.40489 BL0#9  \n",
       "11 51.52229 -0.125848 11.78735 19.22413 50.05660 BL0#10 \n",
       "12 51.52229 -0.125848 11.87828 19.35899 50.70831 BL0#11 \n",
       "13 51.52229 -0.125848 11.96920 19.49385 51.36002 BL0#12 \n",
       "14 51.52229 -0.125848 12.06013 19.62871 52.01173 BL0#13 \n",
       "15 51.52229 -0.125848 12.15105 19.76358 52.66344 BL0#14 \n",
       "16 51.52229 -0.125848 12.24198 19.89844 53.31515 BL0#15 \n",
       "17 51.52229 -0.125848 12.33291 20.03330 53.96686 BL0#16 \n",
       "18 51.52229 -0.125848 12.42383 20.16816 54.61857 BL0#17 \n",
       "19 51.52229 -0.125848 12.51476 20.30302 55.27028 BL0#18 \n",
       "20 51.52229 -0.125848 12.60568 20.43789 55.92199 BL0#19 "
      ]
     },
     "metadata": {},
     "output_type": "display_data"
    }
   ],
   "source": [
    "head(ld_future_data, 20)"
   ]
  },
  {
   "cell_type": "code",
   "execution_count": null,
   "metadata": {
    "collapsed": true
   },
   "outputs": [],
   "source": [
    "write.csv(ld_future_data[,c(\"test_id\", \"PM2.5\", \"PM10\", \"O3\")], file = paste(\"ld_submission\",Sys.Date(),\".csv\"), row.names = FALSE)"
   ]
  },
  {
   "cell_type": "code",
   "execution_count": null,
   "metadata": {
    "collapsed": true
   },
   "outputs": [],
   "source": [
    "# resetting the timezone\n",
    "Sys.unsetenv(\"TZ\")"
   ]
  },
  {
   "cell_type": "code",
   "execution_count": 89,
   "metadata": {
    "collapsed": true
   },
   "outputs": [],
   "source": [
    "rm(\"ld_future_data\")\n",
    "rm(\"ld_lat_long_data\")\n",
    "rm(\"ld_aq_gm_combined_data\")\n",
    "rm(\"ld_future_data_humidity\")\n",
    "rm(\"ld_future_data_temperature\")\n",
    "rm(\"ld_future_data_pressure\")\n",
    "rm(\"ld_future_data_wind_direction\")\n",
    "rm(\"ld_future_data_wind_speed.kph\")\n",
    "rm(\"ld_future_weather_data\")\n",
    "rm(\"ld_closest_stations\")"
   ]
  }
 ],
 "metadata": {
  "kernelspec": {
   "display_name": "R",
   "language": "R",
   "name": "ir"
  },
  "language_info": {
   "codemirror_mode": "r",
   "file_extension": ".r",
   "mimetype": "text/x-r-source",
   "name": "R",
   "pygments_lexer": "r",
   "version": "3.4.2"
  }
 },
 "nbformat": 4,
 "nbformat_minor": 2
}
