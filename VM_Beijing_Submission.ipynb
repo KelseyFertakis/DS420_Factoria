{
 "cells": [
  {
   "cell_type": "markdown",
   "metadata": {},
   "source": [
    "### Import and transformations of API data"
   ]
  },
  {
   "cell_type": "code",
   "execution_count": 1,
   "metadata": {},
   "outputs": [
    {
     "data": {
      "text/html": [
       "<strong>null device:</strong> 1"
      ],
      "text/latex": [
       "\\textbf{null device:} 1"
      ],
      "text/markdown": [
       "**null device:** 1"
      ],
      "text/plain": [
       "null device \n",
       "          1 "
      ]
     },
     "metadata": {},
     "output_type": "display_data"
    },
    {
     "name": "stdout",
     "output_type": "stream",
     "text": [
      "\f"
     ]
    }
   ],
   "source": [
    "if(!is.null(dev.list())) dev.off() # Clear Plots\n",
    "rm(list=ls()) # Clear objects from Memory\n",
    "cat(\"\\014\") # Clear Console\n",
    "# writeClipboard(as.character(x)) # copy data frame to clipboard"
   ]
  },
  {
   "cell_type": "code",
   "execution_count": 2,
   "metadata": {},
   "outputs": [
    {
     "name": "stderr",
     "output_type": "stream",
     "text": [
      "Warning message:\n",
      "\"package 'RCurl' was built under R version 3.4.4\"Loading required package: bitops\n",
      "Loading required package: gsubfn\n",
      "Loading required package: proto\n",
      "Could not load tcltk.  Will use slower R code instead.\n",
      "Loading required package: RSQLite\n",
      "Warning message:\n",
      "\"package 'digest' was built under R version 3.4.3\"Warning message:\n",
      "\"package 'dplyr' was built under R version 3.4.3\"\n",
      "Attaching package: 'dplyr'\n",
      "\n",
      "The following objects are masked from 'package:stats':\n",
      "\n",
      "    filter, lag\n",
      "\n",
      "The following objects are masked from 'package:base':\n",
      "\n",
      "    intersect, setdiff, setequal, union\n",
      "\n",
      "Warning message:\n",
      "\"package 'anytime' was built under R version 3.4.4\"Warning message:\n",
      "\"package 'geosphere' was built under R version 3.4.4\"Warning message:\n",
      "\"package 'lubridate' was built under R version 3.4.3\"\n",
      "Attaching package: 'lubridate'\n",
      "\n",
      "The following object is masked from 'package:base':\n",
      "\n",
      "    date\n",
      "\n",
      "Warning message:\n",
      "\"package 'chron' was built under R version 3.4.3\"\n",
      "Attaching package: 'chron'\n",
      "\n",
      "The following objects are masked from 'package:lubridate':\n",
      "\n",
      "    days, hours, minutes, seconds, years\n",
      "\n",
      "Loading required package: caret\n",
      "Warning message:\n",
      "\"package 'caret' was built under R version 3.4.4\"Loading required package: lattice\n",
      "Warning message:\n",
      "\"package 'lattice' was built under R version 3.4.3\"Loading required package: ggplot2\n",
      "Warning message:\n",
      "\"package 'ggplot2' was built under R version 3.4.3\"Loading required package: rattle\n",
      "Warning message:\n",
      "\"package 'rattle' was built under R version 3.4.4\"Rattle: A free graphical interface for data science with R.\n",
      "Version 5.1.0 Copyright (c) 2006-2017 Togaware Pty Ltd.\n",
      "Type 'rattle()' to shake, rattle, and roll your data.\n",
      "Loading required package: yardstick\n",
      "Warning message:\n",
      "\"package 'yardstick' was built under R version 3.4.4\"Loading required package: broom\n",
      "Warning message:\n",
      "\"package 'broom' was built under R version 3.4.4\"\n",
      "Attaching package: 'yardstick'\n",
      "\n",
      "The following objects are masked from 'package:caret':\n",
      "\n",
      "    mnLogLoss, precision, recall\n",
      "\n"
     ]
    }
   ],
   "source": [
    "library(RCurl)\n",
    "library(sqldf)\n",
    "library(digest)\n",
    "library(dplyr)\n",
    "library(anytime)\n",
    "library(geosphere)\n",
    "library(lubridate)\n",
    "library(chron)\n",
    "require(caret)\n",
    "require(rattle)\n",
    "require(yardstick)"
   ]
  },
  {
   "cell_type": "code",
   "execution_count": 3,
   "metadata": {
    "collapsed": true
   },
   "outputs": [],
   "source": [
    "# set working directory\n",
    "setwd(\"C:/Users/vanethi/Documents/GitHub/DS420_Factoria\")"
   ]
  },
  {
   "cell_type": "code",
   "execution_count": 4,
   "metadata": {
    "collapsed": true
   },
   "outputs": [],
   "source": [
    "# set start and end date\n",
    "startDate <- '2017-12-31-0'\n",
    "endDate <- '2018-06-01-0'"
   ]
  },
  {
   "cell_type": "code",
   "execution_count": 5,
   "metadata": {
    "collapsed": true
   },
   "outputs": [],
   "source": [
    "# pull data for Beijing\n",
    "\n",
    "# acquire air quality data\n",
    "bj_aq_url <- paste0(\"https://biendata.com/competition/airquality/bj/\",startDate,\"/\",endDate,\"/2k0d1d8\")\n",
    "bj_aq_file <- getURL(bj_aq_url, ssl.verifyhost=FALSE, ssl.verifypeer=FALSE)\n",
    "bj_aq_data <- read.csv(textConnection(bj_aq_file), header=TRUE)\n",
    "  \n",
    "# acquire API grid meteorology data\n",
    "bj_gm_url <- paste0(\"https://biendata.com/competition/meteorology/bj_grid/\",startDate,\"/\",endDate,\"/2k0d1d8\")\n",
    "bj_gm_file <- getURL(bj_gm_url, ssl.verifyhost=FALSE, ssl.verifypeer=FALSE)\n",
    "bj_gm_data <- read.csv(textConnection(bj_gm_file), header=TRUE)"
   ]
  },
  {
   "cell_type": "code",
   "execution_count": 6,
   "metadata": {},
   "outputs": [
    {
     "data": {
      "text/html": [
       "<ol class=list-inline>\n",
       "\t<li>'bj_gm_data'</li>\n",
       "\t<li>'bj_aq_data'</li>\n",
       "</ol>\n"
      ],
      "text/latex": [
       "\\begin{enumerate*}\n",
       "\\item 'bj\\_gm\\_data'\n",
       "\\item 'bj\\_aq\\_data'\n",
       "\\end{enumerate*}\n"
      ],
      "text/markdown": [
       "1. 'bj_gm_data'\n",
       "2. 'bj_aq_data'\n",
       "\n",
       "\n"
      ],
      "text/plain": [
       "[1] \"bj_gm_data\" \"bj_aq_data\""
      ]
     },
     "metadata": {},
     "output_type": "display_data"
    }
   ],
   "source": [
    "# list of available data frames\n",
    "df.list <- names(which(unlist(eapply(.GlobalEnv,is.data.frame))))\n",
    "df.list"
   ]
  },
  {
   "cell_type": "code",
   "execution_count": 7,
   "metadata": {
    "collapsed": true
   },
   "outputs": [],
   "source": [
    "# Converting character to datetime\n",
    "bj_gm_data$time <- anytime(bj_gm_data$time)\n",
    "bj_aq_data$time <- anytime(bj_aq_data$time)"
   ]
  },
  {
   "cell_type": "code",
   "execution_count": 8,
   "metadata": {},
   "outputs": [
    {
     "name": "stdout",
     "output_type": "stream",
     "text": [
      "[1] \"bj_gm_data\"\n",
      "'data.frame':\t911338 obs. of  9 variables:\n",
      " $ id            : int  2000958 2000959 2000960 2000961 2000962 2000963 2000964 2000965 2000966 2000967 ...\n",
      " $ station_id    : Factor w/ 651 levels \"beijing_grid_000\",..: 1 2 3 4 5 6 7 8 9 10 ...\n",
      " $ time          : POSIXct, format: \"2018-03-31 07:00:00\" \"2018-03-31 07:00:00\" ...\n",
      " $ weather       : Factor w/ 9 levels \"CLEAR_DAY\",\"CLEAR_NIGHT\",..: 5 5 5 5 5 5 5 5 5 5 ...\n",
      " $ temperature   : num  24 24 25 25 25 25 25 26 22.4 22.4 ...\n",
      " $ pressure      : num  973 960 946 931 914 ...\n",
      " $ humidity      : num  23 21 19 18 16 15 15 16 16 17 ...\n",
      " $ wind_direction: num  161 165 170 184 221 ...\n",
      " $ wind_speed    : num  14.28 13.3 12.42 9.84 7.39 ...\n",
      "NULL\n",
      "[1] \"bj_aq_data\"\n",
      "'data.frame':\t47180 obs. of  9 variables:\n",
      " $ id                : int  2941450 2941451 2941452 2941453 2941454 2941455 2941456 2941457 2941458 2941459 ...\n",
      " $ station_id        : Factor w/ 35 levels \"aotizhongxin_aq\",..: 7 24 11 27 1 19 26 3 35 10 ...\n",
      " $ time              : POSIXct, format: \"2018-03-31 07:00:00\" \"2018-03-31 07:00:00\" ...\n",
      " $ PM25_Concentration: num  105 95 95 99 117 100 95 104 NA 111 ...\n",
      " $ PM10_Concentration: num  172 123 139 172 166 150 139 236 NA 162 ...\n",
      " $ NO2_Concentration : num  53 54 66 58 67 62 82 75 NA 65 ...\n",
      " $ CO_Concentration  : num  0.8 0.9 0.8 1 0.8 0.8 1 0.9 NA 0.9 ...\n",
      " $ O3_Concentration  : num  127 121 123 119 111 127 104 98 NA 119 ...\n",
      " $ SO2_Concentration : num  14 15 13 14 14 15 13 9 NA 13 ...\n",
      "NULL\n"
     ]
    }
   ],
   "source": [
    "# printing structure of all the datasets\n",
    "for (i in 1:length(df.list)) {\n",
    " print(df.list[i])\n",
    "  print(str(get(df.list[i])))\n",
    "}"
   ]
  },
  {
   "cell_type": "code",
   "execution_count": 9,
   "metadata": {},
   "outputs": [
    {
     "name": "stdout",
     "output_type": "stream",
     "text": [
      "[1] \"bj_gm_data\"\n"
     ]
    },
    {
     "data": {
      "text/html": [
       "<table>\n",
       "<thead><tr><th scope=col>min_date</th><th scope=col>max_date</th></tr></thead>\n",
       "<tbody>\n",
       "\t<tr><td>2018-03-31 07:00:00</td><td>2018-05-29 17:00:00</td></tr>\n",
       "</tbody>\n",
       "</table>\n"
      ],
      "text/latex": [
       "\\begin{tabular}{r|ll}\n",
       " min\\_date & max\\_date\\\\\n",
       "\\hline\n",
       "\t 2018-03-31 07:00:00 & 2018-05-29 17:00:00\\\\\n",
       "\\end{tabular}\n"
      ],
      "text/markdown": [
       "\n",
       "min_date | max_date | \n",
       "|---|\n",
       "| 2018-03-31 07:00:00 | 2018-05-29 17:00:00 | \n",
       "\n",
       "\n"
      ],
      "text/plain": [
       "  min_date            max_date           \n",
       "1 2018-03-31 07:00:00 2018-05-29 17:00:00"
      ]
     },
     "metadata": {},
     "output_type": "display_data"
    },
    {
     "name": "stdout",
     "output_type": "stream",
     "text": [
      "[1] \"bj_aq_data\"\n"
     ]
    },
    {
     "data": {
      "text/html": [
       "<table>\n",
       "<thead><tr><th scope=col>min_date</th><th scope=col>max_date</th></tr></thead>\n",
       "<tbody>\n",
       "\t<tr><td>2018-03-31 07:00:00</td><td>2018-05-29 06:00:00</td></tr>\n",
       "</tbody>\n",
       "</table>\n"
      ],
      "text/latex": [
       "\\begin{tabular}{r|ll}\n",
       " min\\_date & max\\_date\\\\\n",
       "\\hline\n",
       "\t 2018-03-31 07:00:00 & 2018-05-29 06:00:00\\\\\n",
       "\\end{tabular}\n"
      ],
      "text/markdown": [
       "\n",
       "min_date | max_date | \n",
       "|---|\n",
       "| 2018-03-31 07:00:00 | 2018-05-29 06:00:00 | \n",
       "\n",
       "\n"
      ],
      "text/plain": [
       "  min_date            max_date           \n",
       "1 2018-03-31 07:00:00 2018-05-29 06:00:00"
      ]
     },
     "metadata": {},
     "output_type": "display_data"
    }
   ],
   "source": [
    "# Printing the min and max dates of all datasets\n",
    "print(\"bj_gm_data\")\n",
    "bj_gm_data %>% summarize(min_date = min(time), max_date = max(time))\n",
    "print(\"bj_aq_data\")\n",
    "bj_aq_data %>% summarize(min_date = min(time), max_date = max(time))"
   ]
  },
  {
   "cell_type": "code",
   "execution_count": 10,
   "metadata": {
    "collapsed": true
   },
   "outputs": [],
   "source": [
    "# using only required columns\n",
    "bj_aq_data <- bj_aq_data %>% select(-id)\n",
    "bj_gm_data <- bj_gm_data %>% select(-c(id, weather))"
   ]
  },
  {
   "cell_type": "code",
   "execution_count": 11,
   "metadata": {
    "collapsed": true
   },
   "outputs": [],
   "source": [
    "# Beijing closest grids to stations\n",
    "bj_closest_stations <- read.csv('SL_beijing_closest_stations.csv')\n",
    "colnames(bj_closest_stations) <- c('x',\"stationId\",\"stationName\",\"distance\") "
   ]
  },
  {
   "cell_type": "code",
   "execution_count": 12,
   "metadata": {
    "collapsed": true
   },
   "outputs": [],
   "source": [
    "# Modifying column names for consistency\n",
    "colnames(bj_aq_data) <- c(\"stationId\",\"utc_time\",\"PM2.5\",\"PM10\",\"NO2\",\"CO\",\"O3\", \"SO2\") \n",
    "colnames(bj_gm_data) <- c(\"stationName\",\"utc_time\",\"temperature\",\"pressure\",\"humidity\",\"wind_direction\",\"wind_speed.kph\") "
   ]
  },
  {
   "cell_type": "code",
   "execution_count": 13,
   "metadata": {},
   "outputs": [
    {
     "name": "stdout",
     "output_type": "stream",
     "text": [
      "'data.frame':\t35 obs. of  4 variables:\n",
      " $ x          : int  1 2 3 4 5 6 7 8 9 10 ...\n",
      " $ stationId  : Factor w/ 35 levels \"aotizhongxin_aq\",..: 7 24 11 27 1 19 26 3 35 10 ...\n",
      " $ stationName: Factor w/ 26 levels \"beijing_grid_216\",..: 16 16 13 16 17 19 14 9 8 13 ...\n",
      " $ distance   : num  3540 1669 4638 4776 2020 ...\n",
      "'data.frame':\t911338 obs. of  7 variables:\n",
      " $ stationName   : Factor w/ 651 levels \"beijing_grid_000\",..: 1 2 3 4 5 6 7 8 9 10 ...\n",
      " $ utc_time      : POSIXct, format: \"2018-03-31 07:00:00\" \"2018-03-31 07:00:00\" ...\n",
      " $ temperature   : num  24 24 25 25 25 25 25 26 22.4 22.4 ...\n",
      " $ pressure      : num  973 960 946 931 914 ...\n",
      " $ humidity      : num  23 21 19 18 16 15 15 16 16 17 ...\n",
      " $ wind_direction: num  161 165 170 184 221 ...\n",
      " $ wind_speed.kph: num  14.28 13.3 12.42 9.84 7.39 ...\n",
      "'data.frame':\t47180 obs. of  8 variables:\n",
      " $ stationId: Factor w/ 35 levels \"aotizhongxin_aq\",..: 7 24 11 27 1 19 26 3 35 10 ...\n",
      " $ utc_time : POSIXct, format: \"2018-03-31 07:00:00\" \"2018-03-31 07:00:00\" ...\n",
      " $ PM2.5    : num  105 95 95 99 117 100 95 104 NA 111 ...\n",
      " $ PM10     : num  172 123 139 172 166 150 139 236 NA 162 ...\n",
      " $ NO2      : num  53 54 66 58 67 62 82 75 NA 65 ...\n",
      " $ CO       : num  0.8 0.9 0.8 1 0.8 0.8 1 0.9 NA 0.9 ...\n",
      " $ O3       : num  127 121 123 119 111 127 104 98 NA 119 ...\n",
      " $ SO2      : num  14 15 13 14 14 15 13 9 NA 13 ...\n"
     ]
    },
    {
     "data": {
      "text/html": [
       "<table>\n",
       "<thead><tr><th scope=col>x</th><th scope=col>stationId</th><th scope=col>stationName</th><th scope=col>distance</th></tr></thead>\n",
       "<tbody>\n",
       "\t<tr><td>1               </td><td>dongsi_aq       </td><td>beijing_grid_303</td><td>3539.569        </td></tr>\n",
       "\t<tr><td>2               </td><td>tiantan_aq      </td><td>beijing_grid_303</td><td>1669.215        </td></tr>\n",
       "\t<tr><td>3               </td><td>guanyuan_aq     </td><td>beijing_grid_282</td><td>4637.889        </td></tr>\n",
       "\t<tr><td>4               </td><td>wanshouxigong_aq</td><td>beijing_grid_303</td><td>4775.641        </td></tr>\n",
       "\t<tr><td>5               </td><td>aotizhongxin_aq </td><td>beijing_grid_304</td><td>2020.020        </td></tr>\n",
       "\t<tr><td>6               </td><td>nongzhanguan_aq </td><td>beijing_grid_324</td><td>5296.386        </td></tr>\n",
       "</tbody>\n",
       "</table>\n"
      ],
      "text/latex": [
       "\\begin{tabular}{r|llll}\n",
       " x & stationId & stationName & distance\\\\\n",
       "\\hline\n",
       "\t 1                    & dongsi\\_aq          & beijing\\_grid\\_303 & 3539.569            \\\\\n",
       "\t 2                    & tiantan\\_aq         & beijing\\_grid\\_303 & 1669.215            \\\\\n",
       "\t 3                    & guanyuan\\_aq        & beijing\\_grid\\_282 & 4637.889            \\\\\n",
       "\t 4                    & wanshouxigong\\_aq   & beijing\\_grid\\_303 & 4775.641            \\\\\n",
       "\t 5                    & aotizhongxin\\_aq    & beijing\\_grid\\_304 & 2020.020            \\\\\n",
       "\t 6                    & nongzhanguan\\_aq    & beijing\\_grid\\_324 & 5296.386            \\\\\n",
       "\\end{tabular}\n"
      ],
      "text/markdown": [
       "\n",
       "x | stationId | stationName | distance | \n",
       "|---|---|---|---|---|---|\n",
       "| 1                | dongsi_aq        | beijing_grid_303 | 3539.569         | \n",
       "| 2                | tiantan_aq       | beijing_grid_303 | 1669.215         | \n",
       "| 3                | guanyuan_aq      | beijing_grid_282 | 4637.889         | \n",
       "| 4                | wanshouxigong_aq | beijing_grid_303 | 4775.641         | \n",
       "| 5                | aotizhongxin_aq  | beijing_grid_304 | 2020.020         | \n",
       "| 6                | nongzhanguan_aq  | beijing_grid_324 | 5296.386         | \n",
       "\n",
       "\n"
      ],
      "text/plain": [
       "  x stationId        stationName      distance\n",
       "1 1 dongsi_aq        beijing_grid_303 3539.569\n",
       "2 2 tiantan_aq       beijing_grid_303 1669.215\n",
       "3 3 guanyuan_aq      beijing_grid_282 4637.889\n",
       "4 4 wanshouxigong_aq beijing_grid_303 4775.641\n",
       "5 5 aotizhongxin_aq  beijing_grid_304 2020.020\n",
       "6 6 nongzhanguan_aq  beijing_grid_324 5296.386"
      ]
     },
     "metadata": {},
     "output_type": "display_data"
    }
   ],
   "source": [
    "str(bj_closest_stations)\n",
    "str(bj_gm_data)\n",
    "str(bj_aq_data)\n",
    "head(bj_closest_stations)"
   ]
  },
  {
   "cell_type": "code",
   "execution_count": 14,
   "metadata": {
    "collapsed": true
   },
   "outputs": [],
   "source": [
    "# Mapping stationIds with respective grids\n",
    "bj_aq_map <- merge(bj_aq_data,bj_closest_stations, by = \"stationId\")"
   ]
  },
  {
   "cell_type": "code",
   "execution_count": 15,
   "metadata": {
    "collapsed": true
   },
   "outputs": [],
   "source": [
    "# Merge of AirQuality and Meteorology data\n",
    "bj_aq_gm_data <- merge(bj_aq_map, bj_gm_data, by = c(\"stationName\",\"utc_time\"))"
   ]
  },
  {
   "cell_type": "code",
   "execution_count": 16,
   "metadata": {},
   "outputs": [
    {
     "name": "stdout",
     "output_type": "stream",
     "text": [
      "'data.frame':\t46372 obs. of  16 variables:\n",
      " $ stationName   : Factor w/ 26 levels \"beijing_grid_216\",..: 1 1 1 1 1 1 1 1 1 1 ...\n",
      " $ utc_time      : POSIXct, format: \"2018-03-31 07:00:00\" \"2018-03-31 08:00:00\" ...\n",
      " $ stationId     : Factor w/ 35 levels \"aotizhongxin_aq\",..: 14 14 14 14 14 14 14 14 14 14 ...\n",
      " $ PM2.5         : num  105 120 121 137 146 270 160 180 136 149 ...\n",
      " $ PM10          : num  163 185 185 212 254 323 297 280 204 219 ...\n",
      " $ NO2           : num  45 52 55 59 68 59 85 76 61 87 ...\n",
      " $ CO            : num  0.8 0.9 0.9 1 1 1.1 1.1 1.1 1.1 1.2 ...\n",
      " $ O3            : num  137 140 141 132 106 96 46 45 50 7 ...\n",
      " $ SO2           : num  6 NA NA NA NA 20 8 NA NA NA ...\n",
      " $ x             : int  30 30 30 30 30 30 30 30 30 30 ...\n",
      " $ distance      : num  2226 2226 2226 2226 2226 ...\n",
      " $ temperature   : num  22 23 23 24 20 19 17 13 14 12.4 ...\n",
      " $ pressure      : num  1001 1000 1000 999 1000 ...\n",
      " $ humidity      : num  20 20 22 24 28 31 32 32 31 32 ...\n",
      " $ wind_direction: num  159 174 188 205 232 ...\n",
      " $ wind_speed.kph: num  10.63 10.96 10.21 9.83 7.27 ...\n"
     ]
    },
    {
     "data": {
      "text/html": [
       "<table>\n",
       "<thead><tr><th scope=col>stationName</th><th scope=col>utc_time</th><th scope=col>stationId</th><th scope=col>PM2.5</th><th scope=col>PM10</th><th scope=col>NO2</th><th scope=col>CO</th><th scope=col>O3</th><th scope=col>SO2</th><th scope=col>x</th><th scope=col>distance</th><th scope=col>temperature</th><th scope=col>pressure</th><th scope=col>humidity</th><th scope=col>wind_direction</th><th scope=col>wind_speed.kph</th></tr></thead>\n",
       "<tbody>\n",
       "\t<tr><td>beijing_grid_216   </td><td>2018-03-31 07:00:00</td><td>liulihe_aq         </td><td>105                </td><td>163                </td><td>45                 </td><td>0.8                </td><td>137                </td><td> 6                 </td><td>30                 </td><td>2226.39            </td><td>22                 </td><td>1000.8969          </td><td>20                 </td><td>159.45             </td><td>10.63              </td></tr>\n",
       "\t<tr><td>beijing_grid_216   </td><td>2018-03-31 08:00:00</td><td>liulihe_aq         </td><td>120                </td><td>185                </td><td>52                 </td><td>0.9                </td><td>140                </td><td>NA                 </td><td>30                 </td><td>2226.39            </td><td>23                 </td><td>1000.0580          </td><td>20                 </td><td>173.73             </td><td>10.96              </td></tr>\n",
       "\t<tr><td>beijing_grid_216   </td><td>2018-03-31 09:00:00</td><td>liulihe_aq         </td><td>121                </td><td>185                </td><td>55                 </td><td>0.9                </td><td>141                </td><td>NA                 </td><td>30                 </td><td>2226.39            </td><td>23                 </td><td> 999.5212          </td><td>22                 </td><td>188.34             </td><td>10.21              </td></tr>\n",
       "\t<tr><td>beijing_grid_216   </td><td>2018-03-31 10:00:00</td><td>liulihe_aq         </td><td>137                </td><td>212                </td><td>59                 </td><td>1.0                </td><td>132                </td><td>NA                 </td><td>30                 </td><td>2226.39            </td><td>24                 </td><td> 999.4476          </td><td>24                 </td><td>204.63             </td><td> 9.83              </td></tr>\n",
       "\t<tr><td>beijing_grid_216   </td><td>2018-03-31 11:00:00</td><td>liulihe_aq         </td><td>146                </td><td>254                </td><td>68                 </td><td>1.0                </td><td>106                </td><td>NA                 </td><td>30                 </td><td>2226.39            </td><td>20                 </td><td> 999.6694          </td><td>28                 </td><td>232.00             </td><td> 7.27              </td></tr>\n",
       "\t<tr><td>beijing_grid_216   </td><td>2018-03-31 12:00:00</td><td>liulihe_aq         </td><td>270                </td><td>323                </td><td>59                 </td><td>1.1                </td><td> 96                </td><td>20                 </td><td>30                 </td><td>2226.39            </td><td>19                 </td><td>1000.0671          </td><td>31                 </td><td>268.92             </td><td> 6.59              </td></tr>\n",
       "</tbody>\n",
       "</table>\n"
      ],
      "text/latex": [
       "\\begin{tabular}{r|llllllllllllllll}\n",
       " stationName & utc\\_time & stationId & PM2.5 & PM10 & NO2 & CO & O3 & SO2 & x & distance & temperature & pressure & humidity & wind\\_direction & wind\\_speed.kph\\\\\n",
       "\\hline\n",
       "\t beijing\\_grid\\_216 & 2018-03-31 07:00:00  & liulihe\\_aq         & 105                  & 163                  & 45                   & 0.8                  & 137                  &  6                   & 30                   & 2226.39              & 22                   & 1000.8969            & 20                   & 159.45               & 10.63               \\\\\n",
       "\t beijing\\_grid\\_216 & 2018-03-31 08:00:00  & liulihe\\_aq         & 120                  & 185                  & 52                   & 0.9                  & 140                  & NA                   & 30                   & 2226.39              & 23                   & 1000.0580            & 20                   & 173.73               & 10.96               \\\\\n",
       "\t beijing\\_grid\\_216 & 2018-03-31 09:00:00  & liulihe\\_aq         & 121                  & 185                  & 55                   & 0.9                  & 141                  & NA                   & 30                   & 2226.39              & 23                   &  999.5212            & 22                   & 188.34               & 10.21               \\\\\n",
       "\t beijing\\_grid\\_216 & 2018-03-31 10:00:00  & liulihe\\_aq         & 137                  & 212                  & 59                   & 1.0                  & 132                  & NA                   & 30                   & 2226.39              & 24                   &  999.4476            & 24                   & 204.63               &  9.83               \\\\\n",
       "\t beijing\\_grid\\_216 & 2018-03-31 11:00:00  & liulihe\\_aq         & 146                  & 254                  & 68                   & 1.0                  & 106                  & NA                   & 30                   & 2226.39              & 20                   &  999.6694            & 28                   & 232.00               &  7.27               \\\\\n",
       "\t beijing\\_grid\\_216 & 2018-03-31 12:00:00  & liulihe\\_aq         & 270                  & 323                  & 59                   & 1.1                  &  96                  & 20                   & 30                   & 2226.39              & 19                   & 1000.0671            & 31                   & 268.92               &  6.59               \\\\\n",
       "\\end{tabular}\n"
      ],
      "text/markdown": [
       "\n",
       "stationName | utc_time | stationId | PM2.5 | PM10 | NO2 | CO | O3 | SO2 | x | distance | temperature | pressure | humidity | wind_direction | wind_speed.kph | \n",
       "|---|---|---|---|---|---|\n",
       "| beijing_grid_216    | 2018-03-31 07:00:00 | liulihe_aq          | 105                 | 163                 | 45                  | 0.8                 | 137                 |  6                  | 30                  | 2226.39             | 22                  | 1000.8969           | 20                  | 159.45              | 10.63               | \n",
       "| beijing_grid_216    | 2018-03-31 08:00:00 | liulihe_aq          | 120                 | 185                 | 52                  | 0.9                 | 140                 | NA                  | 30                  | 2226.39             | 23                  | 1000.0580           | 20                  | 173.73              | 10.96               | \n",
       "| beijing_grid_216    | 2018-03-31 09:00:00 | liulihe_aq          | 121                 | 185                 | 55                  | 0.9                 | 141                 | NA                  | 30                  | 2226.39             | 23                  |  999.5212           | 22                  | 188.34              | 10.21               | \n",
       "| beijing_grid_216    | 2018-03-31 10:00:00 | liulihe_aq          | 137                 | 212                 | 59                  | 1.0                 | 132                 | NA                  | 30                  | 2226.39             | 24                  |  999.4476           | 24                  | 204.63              |  9.83               | \n",
       "| beijing_grid_216    | 2018-03-31 11:00:00 | liulihe_aq          | 146                 | 254                 | 68                  | 1.0                 | 106                 | NA                  | 30                  | 2226.39             | 20                  |  999.6694           | 28                  | 232.00              |  7.27               | \n",
       "| beijing_grid_216    | 2018-03-31 12:00:00 | liulihe_aq          | 270                 | 323                 | 59                  | 1.1                 |  96                 | 20                  | 30                  | 2226.39             | 19                  | 1000.0671           | 31                  | 268.92              |  6.59               | \n",
       "\n",
       "\n"
      ],
      "text/plain": [
       "  stationName      utc_time            stationId  PM2.5 PM10 NO2 CO  O3  SO2 x \n",
       "1 beijing_grid_216 2018-03-31 07:00:00 liulihe_aq 105   163  45  0.8 137  6  30\n",
       "2 beijing_grid_216 2018-03-31 08:00:00 liulihe_aq 120   185  52  0.9 140 NA  30\n",
       "3 beijing_grid_216 2018-03-31 09:00:00 liulihe_aq 121   185  55  0.9 141 NA  30\n",
       "4 beijing_grid_216 2018-03-31 10:00:00 liulihe_aq 137   212  59  1.0 132 NA  30\n",
       "5 beijing_grid_216 2018-03-31 11:00:00 liulihe_aq 146   254  68  1.0 106 NA  30\n",
       "6 beijing_grid_216 2018-03-31 12:00:00 liulihe_aq 270   323  59  1.1  96 20  30\n",
       "  distance temperature pressure  humidity wind_direction wind_speed.kph\n",
       "1 2226.39  22          1000.8969 20       159.45         10.63         \n",
       "2 2226.39  23          1000.0580 20       173.73         10.96         \n",
       "3 2226.39  23           999.5212 22       188.34         10.21         \n",
       "4 2226.39  24           999.4476 24       204.63          9.83         \n",
       "5 2226.39  20           999.6694 28       232.00          7.27         \n",
       "6 2226.39  19          1000.0671 31       268.92          6.59         "
      ]
     },
     "metadata": {},
     "output_type": "display_data"
    },
    {
     "data": {
      "text/html": [
       "<table>\n",
       "<thead><tr><th scope=col>min_date</th><th scope=col>max_date</th></tr></thead>\n",
       "<tbody>\n",
       "\t<tr><td>2018-03-31 07:00:00</td><td>2018-05-29 06:00:00</td></tr>\n",
       "</tbody>\n",
       "</table>\n"
      ],
      "text/latex": [
       "\\begin{tabular}{r|ll}\n",
       " min\\_date & max\\_date\\\\\n",
       "\\hline\n",
       "\t 2018-03-31 07:00:00 & 2018-05-29 06:00:00\\\\\n",
       "\\end{tabular}\n"
      ],
      "text/markdown": [
       "\n",
       "min_date | max_date | \n",
       "|---|\n",
       "| 2018-03-31 07:00:00 | 2018-05-29 06:00:00 | \n",
       "\n",
       "\n"
      ],
      "text/plain": [
       "  min_date            max_date           \n",
       "1 2018-03-31 07:00:00 2018-05-29 06:00:00"
      ]
     },
     "metadata": {},
     "output_type": "display_data"
    }
   ],
   "source": [
    "str(bj_aq_gm_data)\n",
    "head(bj_aq_gm_data)\n",
    "bj_aq_gm_data %>% summarize(min_date = min(utc_time), max_date = max(utc_time))"
   ]
  },
  {
   "cell_type": "code",
   "execution_count": 17,
   "metadata": {
    "collapsed": true
   },
   "outputs": [],
   "source": [
    "rm(\"bj_gm_data\")\n",
    "rm(\"bj_aq_data\")\n",
    "rm(\"bj_aq_map\")\n",
    "rm(\"bj_closest_stations\")"
   ]
  },
  {
   "cell_type": "code",
   "execution_count": 18,
   "metadata": {
    "collapsed": true
   },
   "outputs": [],
   "source": [
    "# selecting only required columns\n",
    "bj_aq_gm_data <- bj_aq_gm_data %>% select(c(\"stationName\",\"utc_time\",\"stationId\",\"PM2.5\",\"PM10\", \"O3\",\n",
    "                                            \"temperature\",\"pressure\",\"humidity\",\"wind_direction\",\"wind_speed.kph\"))"
   ]
  },
  {
   "cell_type": "code",
   "execution_count": 19,
   "metadata": {
    "collapsed": true
   },
   "outputs": [],
   "source": [
    "# adding additional columns for modeling\n",
    "bj_aq_gm_data$hour <- hour(bj_aq_gm_data$utc_time)\n",
    "bj_aq_gm_data$month <- month(bj_aq_gm_data$utc_time)\n",
    "bj_aq_gm_data$date <- date(bj_aq_gm_data$utc_time)\n",
    "bj_aq_gm_data$weekend = chron::is.weekend(bj_aq_gm_data$date)"
   ]
  },
  {
   "cell_type": "code",
   "execution_count": 20,
   "metadata": {},
   "outputs": [
    {
     "name": "stdout",
     "output_type": "stream",
     "text": [
      "'data.frame':\t46372 obs. of  15 variables:\n",
      " $ stationName   : Factor w/ 26 levels \"beijing_grid_216\",..: 1 1 1 1 1 1 1 1 1 1 ...\n",
      " $ utc_time      : POSIXct, format: \"2018-03-31 07:00:00\" \"2018-03-31 08:00:00\" ...\n",
      " $ stationId     : Factor w/ 35 levels \"aotizhongxin_aq\",..: 14 14 14 14 14 14 14 14 14 14 ...\n",
      " $ PM2.5         : num  105 120 121 137 146 270 160 180 136 149 ...\n",
      " $ PM10          : num  163 185 185 212 254 323 297 280 204 219 ...\n",
      " $ O3            : num  137 140 141 132 106 96 46 45 50 7 ...\n",
      " $ temperature   : num  22 23 23 24 20 19 17 13 14 12.4 ...\n",
      " $ pressure      : num  1001 1000 1000 999 1000 ...\n",
      " $ humidity      : num  20 20 22 24 28 31 32 32 31 32 ...\n",
      " $ wind_direction: num  159 174 188 205 232 ...\n",
      " $ wind_speed.kph: num  10.63 10.96 10.21 9.83 7.27 ...\n",
      " $ hour          : int  7 8 9 10 11 12 13 14 15 17 ...\n",
      " $ month         : num  3 3 3 3 3 3 3 3 3 3 ...\n",
      " $ date          : Date, format: \"2018-03-31\" \"2018-03-31\" ...\n",
      " $ weekend       : logi  TRUE TRUE TRUE TRUE TRUE TRUE ...\n"
     ]
    }
   ],
   "source": [
    "str(bj_aq_gm_data)"
   ]
  },
  {
   "cell_type": "markdown",
   "metadata": {},
   "source": [
    "### Import and transformations of Historical data"
   ]
  },
  {
   "cell_type": "code",
   "execution_count": 21,
   "metadata": {
    "collapsed": true
   },
   "outputs": [],
   "source": [
    "# retreiving historical files\n",
    "bj_aq_gm_hist_file <- \"Ready for Modeling/bj_aq_gm_hist_data.csv\"\n",
    "bj_aq_gm_hist_data <- read.csv(bj_aq_gm_hist_file, header=TRUE, sep=\",\", stringsAsFactors = FALSE)"
   ]
  },
  {
   "cell_type": "code",
   "execution_count": 22,
   "metadata": {
    "collapsed": true
   },
   "outputs": [],
   "source": [
    "# data transformations for consistency\n",
    "bj_aq_gm_hist_data <- bj_aq_gm_hist_data %>% select(-X)\n",
    "bj_aq_gm_hist_data$utc_time <- anytime(bj_aq_gm_hist_data$utc_time)\n",
    "bj_aq_gm_hist_data$date <- as.Date(bj_aq_gm_hist_data$date , \"%Y-%m-%d\")"
   ]
  },
  {
   "cell_type": "code",
   "execution_count": 23,
   "metadata": {},
   "outputs": [
    {
     "name": "stdout",
     "output_type": "stream",
     "text": [
      "'data.frame':\t356825 obs. of  15 variables:\n",
      " $ stationName   : chr  \"beijing_grid_216\" \"beijing_grid_216\" \"beijing_grid_216\" \"beijing_grid_216\" ...\n",
      " $ utc_time      : POSIXct, format: \"2017-01-01 14:00:00\" \"2017-01-01 15:00:00\" ...\n",
      " $ stationId     : chr  \"liulihe_aq\" \"liulihe_aq\" \"liulihe_aq\" \"liulihe_aq\" ...\n",
      " $ PM2.5         : int  376 369 361 354 356 315 287 254 231 224 ...\n",
      " $ PM10          : int  447 407 389 NA 360 NA NA NA NA NA ...\n",
      " $ O3            : int  2 2 2 2 2 2 NA 2 2 2 ...\n",
      " $ temperature   : num  -2.22 -2.37 -2.58 -2.79 -2.99 -3.3 -3.6 -3.9 -4.11 -4.33 ...\n",
      " $ pressure      : num  1015 1015 1015 1015 1015 ...\n",
      " $ humidity      : num  62.9 65.8 65.3 64.9 64.5 ...\n",
      " $ wind_direction: num  284 298 308 319 330 ...\n",
      " $ wind_speed.kph: num  4.28 4.39 4.19 4.14 4.24 4.1 3.99 3.92 2.97 2.25 ...\n",
      " $ hour          : int  14 15 16 17 18 19 20 21 22 23 ...\n",
      " $ month         : int  1 1 1 1 1 1 1 1 1 1 ...\n",
      " $ date          : Date, format: \"2017-01-01\" \"2017-01-01\" ...\n",
      " $ weekend       : logi  TRUE TRUE TRUE TRUE TRUE TRUE ...\n"
     ]
    }
   ],
   "source": [
    "str(bj_aq_gm_hist_data)"
   ]
  },
  {
   "cell_type": "code",
   "execution_count": 24,
   "metadata": {
    "collapsed": true
   },
   "outputs": [],
   "source": [
    "# Append API and hist data\n",
    "bj_aq_gm_combined_data <- rbind(bj_aq_gm_data, bj_aq_gm_hist_data)"
   ]
  },
  {
   "cell_type": "code",
   "execution_count": 25,
   "metadata": {},
   "outputs": [
    {
     "name": "stdout",
     "output_type": "stream",
     "text": [
      "'data.frame':\t403197 obs. of  15 variables:\n",
      " $ stationName   : Factor w/ 26 levels \"beijing_grid_216\",..: 1 1 1 1 1 1 1 1 1 1 ...\n",
      " $ utc_time      : POSIXct, format: \"2018-03-31 07:00:00\" \"2018-03-31 08:00:00\" ...\n",
      " $ stationId     : Factor w/ 35 levels \"aotizhongxin_aq\",..: 14 14 14 14 14 14 14 14 14 14 ...\n",
      " $ PM2.5         : num  105 120 121 137 146 270 160 180 136 149 ...\n",
      " $ PM10          : num  163 185 185 212 254 323 297 280 204 219 ...\n",
      " $ O3            : num  137 140 141 132 106 96 46 45 50 7 ...\n",
      " $ temperature   : num  22 23 23 24 20 19 17 13 14 12.4 ...\n",
      " $ pressure      : num  1001 1000 1000 999 1000 ...\n",
      " $ humidity      : num  20 20 22 24 28 31 32 32 31 32 ...\n",
      " $ wind_direction: num  159 174 188 205 232 ...\n",
      " $ wind_speed.kph: num  10.63 10.96 10.21 9.83 7.27 ...\n",
      " $ hour          : int  7 8 9 10 11 12 13 14 15 17 ...\n",
      " $ month         : num  3 3 3 3 3 3 3 3 3 3 ...\n",
      " $ date          : Date, format: \"2018-03-31\" \"2018-03-31\" ...\n",
      " $ weekend       : logi  TRUE TRUE TRUE TRUE TRUE TRUE ...\n"
     ]
    },
    {
     "data": {
      "text/html": [
       "<table>\n",
       "<thead><tr><th scope=col>min_date</th><th scope=col>max_date</th></tr></thead>\n",
       "<tbody>\n",
       "\t<tr><td>2017-01-01</td><td>2018-05-29</td></tr>\n",
       "</tbody>\n",
       "</table>\n"
      ],
      "text/latex": [
       "\\begin{tabular}{r|ll}\n",
       " min\\_date & max\\_date\\\\\n",
       "\\hline\n",
       "\t 2017-01-01 & 2018-05-29\\\\\n",
       "\\end{tabular}\n"
      ],
      "text/markdown": [
       "\n",
       "min_date | max_date | \n",
       "|---|\n",
       "| 2017-01-01 | 2018-05-29 | \n",
       "\n",
       "\n"
      ],
      "text/plain": [
       "  min_date   max_date  \n",
       "1 2017-01-01 2018-05-29"
      ]
     },
     "metadata": {},
     "output_type": "display_data"
    },
    {
     "data": {
      "text/plain": [
       "           stationName        utc_time                           stationId     \n",
       " beijing_grid_303: 69120   Min.   :2017-01-01 14:00:00   badaling_aq  : 11520  \n",
       " beijing_grid_282: 23040   1st Qu.:2017-05-10 00:00:00   beibuxinqu_aq: 11520  \n",
       " beijing_grid_283: 23040   Median :2017-09-24 18:00:00   daxing_aq    : 11520  \n",
       " beijing_grid_324: 23040   Mean   :2017-09-19 03:55:07   dingling_aq  : 11520  \n",
       " beijing_grid_452: 23040   3rd Qu.:2018-01-21 08:00:00   donggaocun_aq: 11520  \n",
       " beijing_grid_216: 11520   Max.   :2018-05-29 06:00:00   dongsi_aq    : 11520  \n",
       " (Other)         :230397                                 (Other)      :334077  \n",
       "     PM2.5              PM10               O3         temperature    \n",
       " Min.   :   2.00   Min.   :   5.00   Min.   :  1.0   Min.   :-18.37  \n",
       " 1st Qu.:  17.00   1st Qu.:  40.00   1st Qu.: 15.0   1st Qu.:  0.55  \n",
       " Median :  41.00   Median :  75.00   Median : 49.0   Median : 11.72  \n",
       " Mean   :  60.77   Mean   :  93.86   Mean   : 58.4   Mean   : 11.41  \n",
       " 3rd Qu.:  81.00   3rd Qu.: 122.00   3rd Qu.: 83.0   3rd Qu.: 22.00  \n",
       " Max.   :1004.00   Max.   :3000.00   Max.   :504.0   Max.   : 36.08  \n",
       " NA's   :25860     NA's   :105562    NA's   :25855                   \n",
       "    pressure         humidity      wind_direction  wind_speed.kph  \n",
       " Min.   : 917.6   Min.   :  4.59   Min.   :  0.0   Min.   : 0.010  \n",
       " 1st Qu.: 993.2   1st Qu.: 21.65   1st Qu.:106.7   1st Qu.: 4.560  \n",
       " Median :1004.4   Median : 33.01   Median :189.1   Median : 7.410  \n",
       " Mean   :1001.2   Mean   : 37.93   Mean   :191.0   Mean   : 8.827  \n",
       " 3rd Qu.:1015.7   3rd Qu.: 51.00   3rd Qu.:300.1   3rd Qu.:11.530  \n",
       " Max.   :1039.4   Max.   :100.00   Max.   :360.0   Max.   :52.880  \n",
       "                                                                   \n",
       "      hour           month             date             weekend       \n",
       " Min.   : 0.00   Min.   : 1.000   Min.   :2017-01-01   Mode :logical  \n",
       " 1st Qu.: 5.00   1st Qu.: 3.000   1st Qu.:2017-05-10   FALSE:287032   \n",
       " Median :11.00   Median : 5.000   Median :2017-09-24   TRUE :116165   \n",
       " Mean   :11.45   Mean   : 5.609   Mean   :2017-09-18                  \n",
       " 3rd Qu.:17.00   3rd Qu.: 9.000   3rd Qu.:2018-01-21                  \n",
       " Max.   :23.00   Max.   :12.000   Max.   :2018-05-29                  \n",
       "                                                                      "
      ]
     },
     "metadata": {},
     "output_type": "display_data"
    }
   ],
   "source": [
    "str(bj_aq_gm_combined_data)\n",
    "bj_aq_gm_combined_data %>% summarize(min_date = min(date), max_date = max(date))\n",
    "summary(bj_aq_gm_combined_data)"
   ]
  },
  {
   "cell_type": "code",
   "execution_count": 26,
   "metadata": {
    "collapsed": true
   },
   "outputs": [],
   "source": [
    "beijing_holidays <- c(\"2017-01-01\", \"2017-01-02\",\"2017-01-27\", \"2017-01-28\", \"2017-01-29\",\"2017-01-30\", \"2017-01-31\"\n",
    "                      , \"2017-02-01\", \"2017-02-02\", \"2017-04-02\", \"2017-04-03\",\"2017-04-04\", \"2017-05-01\", \"2017-05-28\"\n",
    "                      , \"2017-05-29\", \"2017-05-30\", \"2017-10-01\", \"2017-10-02\", \"2017-10-03\", \"2017-10-04\", \"2017-10-05\"\n",
    "                      , \"2017-10-06\", \"2017-10-07\", \"2017-10-08\", \"2018-01-01\", \"2018-02-15\", \"2018-02-16\", \"2018-02-17\"\n",
    "                      , \"2018-02-18\", \"2018-02-19\", \"2018-02-20\", \"2018-02-21\", \"2018-04-05\", \"2018-04-06\", \"2018-04-07\"\n",
    "                      , \"2018-04-30\", \"2018-05-01\")"
   ]
  },
  {
   "cell_type": "code",
   "execution_count": 27,
   "metadata": {
    "collapsed": true
   },
   "outputs": [],
   "source": [
    "bj_aq_gm_combined_data$holiday <- ifelse(bj_aq_gm_combined_data$date %in% as.Date(beijing_holidays), 1, 0)"
   ]
  },
  {
   "cell_type": "code",
   "execution_count": 28,
   "metadata": {
    "collapsed": true
   },
   "outputs": [],
   "source": [
    "rm(\"bj_aq_gm_data\")\n",
    "rm(\"bj_aq_gm_hist_data\")"
   ]
  },
  {
   "cell_type": "code",
   "execution_count": 29,
   "metadata": {
    "collapsed": true
   },
   "outputs": [],
   "source": [
    "#code to replace outliers with NA\n",
    "bj_aq_gm_combined_data[bj_aq_gm_combined_data$PM2.5 %in% boxplot.stats(bj_aq_gm_combined_data$PM2.5)$out, ]$PM2.5 <- NA\n",
    "bj_aq_gm_combined_data[bj_aq_gm_combined_data$PM10 %in% boxplot.stats(bj_aq_gm_combined_data$PM10)$out, ]$PM10 <- NA\n",
    "bj_aq_gm_combined_data[bj_aq_gm_combined_data$O3 %in% boxplot.stats(bj_aq_gm_combined_data$O3)$out, ]$O3 <- NA"
   ]
  },
  {
   "cell_type": "code",
   "execution_count": 30,
   "metadata": {},
   "outputs": [
    {
     "name": "stdout",
     "output_type": "stream",
     "text": [
      "'data.frame':\t403197 obs. of  16 variables:\n",
      " $ stationName   : Factor w/ 26 levels \"beijing_grid_216\",..: 1 1 1 1 1 1 1 1 1 1 ...\n",
      " $ utc_time      : POSIXct, format: \"2018-03-31 07:00:00\" \"2018-03-31 08:00:00\" ...\n",
      " $ stationId     : Factor w/ 35 levels \"aotizhongxin_aq\",..: 14 14 14 14 14 14 14 14 14 14 ...\n",
      " $ PM2.5         : num  105 120 121 137 146 NA 160 NA 136 149 ...\n",
      " $ PM10          : num  163 185 185 212 NA NA NA NA 204 219 ...\n",
      " $ O3            : num  137 140 141 132 106 96 46 45 50 7 ...\n",
      " $ temperature   : num  22 23 23 24 20 19 17 13 14 12.4 ...\n",
      " $ pressure      : num  1001 1000 1000 999 1000 ...\n",
      " $ humidity      : num  20 20 22 24 28 31 32 32 31 32 ...\n",
      " $ wind_direction: num  159 174 188 205 232 ...\n",
      " $ wind_speed.kph: num  10.63 10.96 10.21 9.83 7.27 ...\n",
      " $ hour          : int  7 8 9 10 11 12 13 14 15 17 ...\n",
      " $ month         : num  3 3 3 3 3 3 3 3 3 3 ...\n",
      " $ date          : Date, format: \"2018-03-31\" \"2018-03-31\" ...\n",
      " $ weekend       : logi  TRUE TRUE TRUE TRUE TRUE TRUE ...\n",
      " $ holiday       : num  0 0 0 0 0 0 0 0 0 0 ...\n"
     ]
    },
    {
     "data": {
      "text/plain": [
       "           stationName        utc_time                           stationId     \n",
       " beijing_grid_303: 69120   Min.   :2017-01-01 14:00:00   badaling_aq  : 11520  \n",
       " beijing_grid_282: 23040   1st Qu.:2017-05-10 00:00:00   beibuxinqu_aq: 11520  \n",
       " beijing_grid_283: 23040   Median :2017-09-24 18:00:00   daxing_aq    : 11520  \n",
       " beijing_grid_324: 23040   Mean   :2017-09-19 03:55:07   dingling_aq  : 11520  \n",
       " beijing_grid_452: 23040   3rd Qu.:2018-01-21 08:00:00   donggaocun_aq: 11520  \n",
       " beijing_grid_216: 11520   Max.   :2018-05-29 06:00:00   dongsi_aq    : 11520  \n",
       " (Other)         :230397                                 (Other)      :334077  \n",
       "     PM2.5             PM10              O3          temperature    \n",
       " Min.   :  2.00   Min.   :  5.00   Min.   :  1.00   Min.   :-18.37  \n",
       " 1st Qu.: 16.00   1st Qu.: 39.00   1st Qu.: 14.00   1st Qu.:  0.55  \n",
       " Median : 38.00   Median : 72.00   Median : 47.00   Median : 11.72  \n",
       " Mean   : 49.67   Mean   : 82.39   Mean   : 52.57   Mean   : 11.41  \n",
       " 3rd Qu.: 72.00   3rd Qu.:115.00   3rd Qu.: 79.00   3rd Qu.: 22.00  \n",
       " Max.   :177.00   Max.   :245.00   Max.   :185.00   Max.   : 36.08  \n",
       " NA's   :46007    NA's   :116263   NA's   :38411                    \n",
       "    pressure         humidity      wind_direction  wind_speed.kph  \n",
       " Min.   : 917.6   Min.   :  4.59   Min.   :  0.0   Min.   : 0.010  \n",
       " 1st Qu.: 993.2   1st Qu.: 21.65   1st Qu.:106.7   1st Qu.: 4.560  \n",
       " Median :1004.4   Median : 33.01   Median :189.1   Median : 7.410  \n",
       " Mean   :1001.2   Mean   : 37.93   Mean   :191.0   Mean   : 8.827  \n",
       " 3rd Qu.:1015.7   3rd Qu.: 51.00   3rd Qu.:300.1   3rd Qu.:11.530  \n",
       " Max.   :1039.4   Max.   :100.00   Max.   :360.0   Max.   :52.880  \n",
       "                                                                   \n",
       "      hour           month             date             weekend       \n",
       " Min.   : 0.00   Min.   : 1.000   Min.   :2017-01-01   Mode :logical  \n",
       " 1st Qu.: 5.00   1st Qu.: 3.000   1st Qu.:2017-05-10   FALSE:287032   \n",
       " Median :11.00   Median : 5.000   Median :2017-09-24   TRUE :116165   \n",
       " Mean   :11.45   Mean   : 5.609   Mean   :2017-09-18                  \n",
       " 3rd Qu.:17.00   3rd Qu.: 9.000   3rd Qu.:2018-01-21                  \n",
       " Max.   :23.00   Max.   :12.000   Max.   :2018-05-29                  \n",
       "                                                                      \n",
       "    holiday      \n",
       " Min.   :0.0000  \n",
       " 1st Qu.:0.0000  \n",
       " Median :0.0000  \n",
       " Mean   :0.0704  \n",
       " 3rd Qu.:0.0000  \n",
       " Max.   :1.0000  \n",
       "                 "
      ]
     },
     "metadata": {},
     "output_type": "display_data"
    }
   ],
   "source": [
    "str(bj_aq_gm_combined_data)\n",
    "summary(bj_aq_gm_combined_data)"
   ]
  },
  {
   "cell_type": "code",
   "execution_count": 31,
   "metadata": {},
   "outputs": [
    {
     "name": "stderr",
     "output_type": "stream",
     "text": [
      "Warning message:\n",
      "\"package 'bindrcpp' was built under R version 3.4.3\""
     ]
    }
   ],
   "source": [
    "# replace PM2.5 NA with mean values based on certain groups\n",
    "bj_aq_gm_combined_data_PM2.5 <- bj_aq_gm_combined_data %>% \n",
    "                                group_by(stationId, hour, month, weekend, holiday) %>% \n",
    "                                summarize(PM2.5 = mean(PM2.5, na.rm = TRUE))\n",
    "bj_aq_gm_combined_data <- bj_aq_gm_combined_data %>% \n",
    "                          left_join(bj_aq_gm_combined_data_PM2.5, c(\"stationId\", \"hour\", \"month\", \"weekend\", \"holiday\")) %>% \n",
    "                          mutate(PM2.5 = coalesce(PM2.5.x, PM2.5.y)) %>% \n",
    "                          select(-PM2.5.x, -PM2.5.y)\n",
    "bj_aq_gm_combined_data_PM2.5 <- bj_aq_gm_combined_data %>% \n",
    "                                group_by(stationId, hour, weekend, holiday) %>% \n",
    "                                summarize(PM2.5 = mean(PM2.5, na.rm = TRUE))\n",
    "bj_aq_gm_combined_data <- bj_aq_gm_combined_data %>% \n",
    "                          left_join(bj_aq_gm_combined_data_PM2.5, c(\"stationId\", \"hour\", \"weekend\",\"holiday\")) %>% \n",
    "                          mutate(PM2.5 = coalesce(PM2.5.x, PM2.5.y)) %>% \n",
    "                          select(-PM2.5.x, -PM2.5.y)"
   ]
  },
  {
   "cell_type": "code",
   "execution_count": 32,
   "metadata": {
    "collapsed": true
   },
   "outputs": [],
   "source": [
    "# replace PM10 NA with mean values based on certain groups\n",
    "bj_aq_gm_combined_data_PM10 <- bj_aq_gm_combined_data %>% \n",
    "                                group_by(stationId, hour, month, weekend, holiday) %>% \n",
    "                                summarize(PM10 = mean(PM10, na.rm = TRUE))\n",
    "bj_aq_gm_combined_data <- bj_aq_gm_combined_data %>% \n",
    "                          left_join(bj_aq_gm_combined_data_PM10, c(\"stationId\", \"hour\", \"month\", \"weekend\", \"holiday\")) %>% \n",
    "                          mutate(PM10 = coalesce(PM10.x, PM10.y)) %>% \n",
    "                          select(-PM10.x, -PM10.y)\n",
    "bj_aq_gm_combined_data_PM10 <- bj_aq_gm_combined_data %>% \n",
    "                                group_by(stationId, hour, weekend, holiday) %>% \n",
    "                                summarize(PM10 = mean(PM10, na.rm = TRUE))\n",
    "bj_aq_gm_combined_data <- bj_aq_gm_combined_data %>% \n",
    "                          left_join(bj_aq_gm_combined_data_PM10, c(\"stationId\", \"hour\", \"weekend\", \"holiday\")) %>% \n",
    "                          mutate(PM10 = coalesce(PM10.x, PM10.y)) %>% \n",
    "                          select(-PM10.x, -PM10.y)"
   ]
  },
  {
   "cell_type": "code",
   "execution_count": 33,
   "metadata": {
    "collapsed": true
   },
   "outputs": [],
   "source": [
    "# replace O3 NA with mean values based on certain groups\n",
    "bj_aq_gm_combined_data_O3 <- bj_aq_gm_combined_data %>% \n",
    "                                group_by(stationId, hour, month, weekend, holiday) %>% \n",
    "                                summarize(O3 = mean(O3, na.rm = TRUE))\n",
    "bj_aq_gm_combined_data <- bj_aq_gm_combined_data %>% \n",
    "                          left_join(bj_aq_gm_combined_data_O3, c(\"stationId\", \"hour\", \"month\", \"weekend\", \"holiday\")) %>% \n",
    "                          mutate(O3 = coalesce(O3.x, O3.y)) %>% \n",
    "                          select(-O3.x, -O3.y)\n",
    "bj_aq_gm_combined_data_O3 <- bj_aq_gm_combined_data %>% \n",
    "                                group_by(stationId, hour,  weekend, holiday) %>% \n",
    "                                summarize(O3 = mean(O3, na.rm = TRUE))\n",
    "bj_aq_gm_combined_data <- bj_aq_gm_combined_data %>% \n",
    "                          left_join(bj_aq_gm_combined_data_O3, c(\"stationId\", \"hour\",  \"weekend\", \"holiday\")) %>% \n",
    "                          mutate(O3 = coalesce(O3.x, O3.y)) %>% \n",
    "                          select(-O3.x, -O3.y)"
   ]
  },
  {
   "cell_type": "code",
   "execution_count": 34,
   "metadata": {
    "collapsed": true
   },
   "outputs": [],
   "source": [
    "rm(\"bj_aq_gm_combined_data_PM2.5\")\n",
    "rm(\"bj_aq_gm_combined_data_PM10\")\n",
    "rm(\"bj_aq_gm_combined_data_O3\")"
   ]
  },
  {
   "cell_type": "code",
   "execution_count": 35,
   "metadata": {},
   "outputs": [
    {
     "name": "stdout",
     "output_type": "stream",
     "text": [
      "'data.frame':\t403197 obs. of  16 variables:\n",
      " $ stationName   : Factor w/ 26 levels \"beijing_grid_216\",..: 1 1 1 1 1 1 1 1 1 1 ...\n",
      " $ utc_time      : POSIXct, format: \"2018-03-31 07:00:00\" \"2018-03-31 08:00:00\" ...\n",
      " $ stationId     : Factor w/ 35 levels \"aotizhongxin_aq\",..: 14 14 14 14 14 14 14 14 14 14 ...\n",
      " $ temperature   : num  22 23 23 24 20 19 17 13 14 12.4 ...\n",
      " $ pressure      : num  1001 1000 1000 999 1000 ...\n",
      " $ humidity      : num  20 20 22 24 28 31 32 32 31 32 ...\n",
      " $ wind_direction: num  159 174 188 205 232 ...\n",
      " $ wind_speed.kph: num  10.63 10.96 10.21 9.83 7.27 ...\n",
      " $ hour          : int  7 8 9 10 11 12 13 14 15 17 ...\n",
      " $ month         : num  3 3 3 3 3 3 3 3 3 3 ...\n",
      " $ date          : Date, format: \"2018-03-31\" \"2018-03-31\" ...\n",
      " $ weekend       : logi  TRUE TRUE TRUE TRUE TRUE TRUE ...\n",
      " $ holiday       : num  0 0 0 0 0 0 0 0 0 0 ...\n",
      " $ PM2.5         : num  105 120 121 137 146 ...\n",
      " $ PM10          : num  163 185 185 212 116 ...\n",
      " $ O3            : num  137 140 141 132 106 96 46 45 50 7 ...\n"
     ]
    },
    {
     "data": {
      "text/plain": [
       "           stationName        utc_time                           stationId     \n",
       " beijing_grid_303: 69120   Min.   :2017-01-01 14:00:00   badaling_aq  : 11520  \n",
       " beijing_grid_282: 23040   1st Qu.:2017-05-10 00:00:00   beibuxinqu_aq: 11520  \n",
       " beijing_grid_283: 23040   Median :2017-09-24 18:00:00   daxing_aq    : 11520  \n",
       " beijing_grid_324: 23040   Mean   :2017-09-19 03:55:07   dingling_aq  : 11520  \n",
       " beijing_grid_452: 23040   3rd Qu.:2018-01-21 08:00:00   donggaocun_aq: 11520  \n",
       " beijing_grid_216: 11520   Max.   :2018-05-29 06:00:00   dongsi_aq    : 11520  \n",
       " (Other)         :230397                                 (Other)      :334077  \n",
       "  temperature        pressure         humidity      wind_direction \n",
       " Min.   :-18.37   Min.   : 917.6   Min.   :  4.59   Min.   :  0.0  \n",
       " 1st Qu.:  0.55   1st Qu.: 993.2   1st Qu.: 21.65   1st Qu.:106.7  \n",
       " Median : 11.72   Median :1004.4   Median : 33.01   Median :189.1  \n",
       " Mean   : 11.41   Mean   :1001.2   Mean   : 37.93   Mean   :191.0  \n",
       " 3rd Qu.: 22.00   3rd Qu.:1015.7   3rd Qu.: 51.00   3rd Qu.:300.1  \n",
       " Max.   : 36.08   Max.   :1039.4   Max.   :100.00   Max.   :360.0  \n",
       "                                                                   \n",
       " wind_speed.kph        hour           month             date           \n",
       " Min.   : 0.010   Min.   : 0.00   Min.   : 1.000   Min.   :2017-01-01  \n",
       " 1st Qu.: 4.560   1st Qu.: 5.00   1st Qu.: 3.000   1st Qu.:2017-05-10  \n",
       " Median : 7.410   Median :11.00   Median : 5.000   Median :2017-09-24  \n",
       " Mean   : 8.827   Mean   :11.45   Mean   : 5.609   Mean   :2017-09-18  \n",
       " 3rd Qu.:11.530   3rd Qu.:17.00   3rd Qu.: 9.000   3rd Qu.:2018-01-21  \n",
       " Max.   :52.880   Max.   :23.00   Max.   :12.000   Max.   :2018-05-29  \n",
       "                                                                       \n",
       "  weekend           holiday           PM2.5             PM10       \n",
       " Mode :logical   Min.   :0.0000   Min.   :  2.00   Min.   :  5.00  \n",
       " FALSE:287032    1st Qu.:0.0000   1st Qu.: 18.00   1st Qu.: 45.00  \n",
       " TRUE :116165    Median :0.0000   Median : 41.00   Median : 73.16  \n",
       "                 Mean   :0.0704   Mean   : 49.72   Mean   : 80.84  \n",
       "                 3rd Qu.:0.0000   3rd Qu.: 69.00   3rd Qu.:107.00  \n",
       "                 Max.   :1.0000   Max.   :177.00   Max.   :245.00  \n",
       "                                                                   \n",
       "       O3        \n",
       " Min.   :  1.00  \n",
       " 1st Qu.: 16.00  \n",
       " Median : 49.00  \n",
       " Mean   : 54.75  \n",
       " 3rd Qu.: 82.00  \n",
       " Max.   :185.00  \n",
       "                 "
      ]
     },
     "metadata": {},
     "output_type": "display_data"
    }
   ],
   "source": [
    "str(bj_aq_gm_combined_data)\n",
    "summary(bj_aq_gm_combined_data)"
   ]
  },
  {
   "cell_type": "code",
   "execution_count": 36,
   "metadata": {},
   "outputs": [
    {
     "data": {
      "text/html": [
       "<table>\n",
       "<thead><tr><th scope=col>stationName</th><th scope=col>utc_time</th><th scope=col>stationId</th><th scope=col>temperature</th><th scope=col>pressure</th><th scope=col>humidity</th><th scope=col>wind_direction</th><th scope=col>wind_speed.kph</th><th scope=col>hour</th><th scope=col>month</th><th scope=col>date</th><th scope=col>weekend</th><th scope=col>holiday</th><th scope=col>PM2.5</th><th scope=col>PM10</th><th scope=col>O3</th></tr></thead>\n",
       "<tbody>\n",
       "</tbody>\n",
       "</table>\n"
      ],
      "text/latex": [
       "\\begin{tabular}{r|llllllllllllllll}\n",
       " stationName & utc\\_time & stationId & temperature & pressure & humidity & wind\\_direction & wind\\_speed.kph & hour & month & date & weekend & holiday & PM2.5 & PM10 & O3\\\\\n",
       "\\hline\n",
       "\\end{tabular}\n"
      ],
      "text/markdown": [
       "\n",
       "stationName | utc_time | stationId | temperature | pressure | humidity | wind_direction | wind_speed.kph | hour | month | date | weekend | holiday | PM2.5 | PM10 | O3 | \n",
       "||\n",
       "\n",
       "\n"
      ],
      "text/plain": [
       "     stationName utc_time stationId temperature pressure humidity\n",
       "     wind_direction wind_speed.kph hour month date weekend holiday PM2.5 PM10\n",
       "     O3"
      ]
     },
     "metadata": {},
     "output_type": "display_data"
    }
   ],
   "source": [
    "# validating for no NAs\n",
    "bj_aq_gm_combined_data[!complete.cases(bj_aq_gm_combined_data),]"
   ]
  },
  {
   "cell_type": "code",
   "execution_count": 37,
   "metadata": {
    "collapsed": true
   },
   "outputs": [],
   "source": [
    "# converting logical weekend value to numeric for modeling\n",
    "bj_aq_gm_combined_data$weekend <- as.integer(bj_aq_gm_combined_data$weekend)"
   ]
  },
  {
   "cell_type": "code",
   "execution_count": 38,
   "metadata": {},
   "outputs": [],
   "source": [
    "# selecting only required columns\n",
    "bj_aq_gm_combined_data <- \n",
    "bj_aq_gm_combined_data %>% select(c(\"stationName\",\"utc_time\",\"stationId\",\"PM2.5\",\"PM10\", \"O3\",\n",
    "                                    \"temperature\",\"pressure\",\"humidity\",\"wind_direction\",\"wind_speed.kph\", \n",
    "                                    \"hour\", \"month\", \"date\", \"weekend\", \"holiday\"))"
   ]
  },
  {
   "cell_type": "code",
   "execution_count": 39,
   "metadata": {
    "collapsed": true
   },
   "outputs": [],
   "source": [
    "# retreiving lat long data  \n",
    "bj_lat_long_file <- \"Datasets/Beijing_AirQuality_Stations.csv\"\n",
    "bj_lat_long_data <- read.csv(bj_lat_long_file, header=TRUE, sep=\",\", stringsAsFactors = FALSE) \n",
    "colnames(bj_lat_long_data) <- c(\"stationId\", \"longitude\", \"latitude\")"
   ]
  },
  {
   "cell_type": "code",
   "execution_count": 40,
   "metadata": {
    "collapsed": true
   },
   "outputs": [],
   "source": [
    "bj_aq_gm_combined_data <- merge(bj_aq_gm_combined_data,bj_lat_long_data, by = \"stationId\")"
   ]
  },
  {
   "cell_type": "code",
   "execution_count": 41,
   "metadata": {},
   "outputs": [
    {
     "name": "stdout",
     "output_type": "stream",
     "text": [
      "'data.frame':\t403197 obs. of  18 variables:\n",
      " $ stationId     : Factor w/ 35 levels \"aotizhongxin_aq\",..: 1 1 1 1 1 1 1 1 1 1 ...\n",
      " $ stationName   : Factor w/ 26 levels \"beijing_grid_216\",..: 17 17 17 17 17 17 17 17 17 17 ...\n",
      " $ utc_time      : POSIXct, format: \"2017-01-06 17:00:00\" \"2017-01-06 18:00:00\" ...\n",
      " $ PM2.5         : num  44.1 49.2 46 43.3 37.5 ...\n",
      " $ PM10          : num  61.3 64.4 61.4 56.6 50.8 ...\n",
      " $ O3            : num  2 2 2 33.1 2 ...\n",
      " $ temperature   : num  -3.67 -3.86 -3.9 -3.94 -3.98 -3.81 -3.63 -3.46 -3.4 -3.7 ...\n",
      " $ pressure      : num  1019 1018 1018 1018 1018 ...\n",
      " $ humidity      : num  87.2 87.4 87.5 87.5 87.5 ...\n",
      " $ wind_direction: num  65.58 47.84 30.07 15.64 4.96 ...\n",
      " $ wind_speed.kph: num  1.87 1.71 1.83 2.09 2.46 2.61 2.8 3.01 5.15 5.03 ...\n",
      " $ hour          : int  17 18 19 20 21 22 23 0 17 18 ...\n",
      " $ month         : num  1 1 1 1 1 1 1 1 1 1 ...\n",
      " $ date          : Date, format: \"2017-01-06\" \"2017-01-06\" ...\n",
      " $ weekend       : int  0 0 0 0 0 0 0 1 0 0 ...\n",
      " $ holiday       : num  0 0 0 0 0 0 0 0 1 1 ...\n",
      " $ longitude     : num  116 116 116 116 116 ...\n",
      " $ latitude      : num  40 40 40 40 40 ...\n"
     ]
    },
    {
     "data": {
      "text/html": [
       "<table>\n",
       "<thead><tr><th scope=col>min_date</th><th scope=col>max_date</th></tr></thead>\n",
       "<tbody>\n",
       "\t<tr><td>2017-01-01 14:00:00</td><td>2018-05-29 06:00:00</td></tr>\n",
       "</tbody>\n",
       "</table>\n"
      ],
      "text/latex": [
       "\\begin{tabular}{r|ll}\n",
       " min\\_date & max\\_date\\\\\n",
       "\\hline\n",
       "\t 2017-01-01 14:00:00 & 2018-05-29 06:00:00\\\\\n",
       "\\end{tabular}\n"
      ],
      "text/markdown": [
       "\n",
       "min_date | max_date | \n",
       "|---|\n",
       "| 2017-01-01 14:00:00 | 2018-05-29 06:00:00 | \n",
       "\n",
       "\n"
      ],
      "text/plain": [
       "  min_date            max_date           \n",
       "1 2017-01-01 14:00:00 2018-05-29 06:00:00"
      ]
     },
     "metadata": {},
     "output_type": "display_data"
    },
    {
     "data": {
      "text/plain": [
       "         stationId                stationName        utc_time                  \n",
       " badaling_aq  : 11520   beijing_grid_303: 69120   Min.   :2017-01-01 14:00:00  \n",
       " beibuxinqu_aq: 11520   beijing_grid_282: 23040   1st Qu.:2017-05-10 00:00:00  \n",
       " daxing_aq    : 11520   beijing_grid_283: 23040   Median :2017-09-24 18:00:00  \n",
       " dingling_aq  : 11520   beijing_grid_324: 23040   Mean   :2017-09-19 03:55:07  \n",
       " donggaocun_aq: 11520   beijing_grid_452: 23040   3rd Qu.:2018-01-21 08:00:00  \n",
       " dongsi_aq    : 11520   beijing_grid_216: 11520   Max.   :2018-05-29 06:00:00  \n",
       " (Other)      :334077   (Other)         :230397                                \n",
       "     PM2.5             PM10              O3          temperature    \n",
       " Min.   :  2.00   Min.   :  5.00   Min.   :  1.00   Min.   :-18.37  \n",
       " 1st Qu.: 18.00   1st Qu.: 45.00   1st Qu.: 16.00   1st Qu.:  0.55  \n",
       " Median : 41.00   Median : 73.16   Median : 49.00   Median : 11.72  \n",
       " Mean   : 49.72   Mean   : 80.84   Mean   : 54.75   Mean   : 11.41  \n",
       " 3rd Qu.: 69.00   3rd Qu.:107.00   3rd Qu.: 82.00   3rd Qu.: 22.00  \n",
       " Max.   :177.00   Max.   :245.00   Max.   :185.00   Max.   : 36.08  \n",
       "                                                                    \n",
       "    pressure         humidity      wind_direction  wind_speed.kph  \n",
       " Min.   : 917.6   Min.   :  4.59   Min.   :  0.0   Min.   : 0.010  \n",
       " 1st Qu.: 993.2   1st Qu.: 21.65   1st Qu.:106.7   1st Qu.: 4.560  \n",
       " Median :1004.4   Median : 33.01   Median :189.1   Median : 7.410  \n",
       " Mean   :1001.2   Mean   : 37.93   Mean   :191.0   Mean   : 8.827  \n",
       " 3rd Qu.:1015.7   3rd Qu.: 51.00   3rd Qu.:300.1   3rd Qu.:11.530  \n",
       " Max.   :1039.4   Max.   :100.00   Max.   :360.0   Max.   :52.880  \n",
       "                                                                   \n",
       "      hour           month             date               weekend      \n",
       " Min.   : 0.00   Min.   : 1.000   Min.   :2017-01-01   Min.   :0.0000  \n",
       " 1st Qu.: 5.00   1st Qu.: 3.000   1st Qu.:2017-05-10   1st Qu.:0.0000  \n",
       " Median :11.00   Median : 5.000   Median :2017-09-24   Median :0.0000  \n",
       " Mean   :11.45   Mean   : 5.609   Mean   :2017-09-18   Mean   :0.2881  \n",
       " 3rd Qu.:17.00   3rd Qu.: 9.000   3rd Qu.:2018-01-21   3rd Qu.:1.0000  \n",
       " Max.   :23.00   Max.   :12.000   Max.   :2018-05-29   Max.   :1.0000  \n",
       "                                                                       \n",
       "    holiday         longitude        latitude    \n",
       " Min.   :0.0000   Min.   :116.0   Min.   :39.52  \n",
       " 1st Qu.:0.0000   1st Qu.:116.2   1st Qu.:39.86  \n",
       " Median :0.0000   Median :116.4   Median :39.94  \n",
       " Mean   :0.0704   Mean   :116.4   Mean   :39.99  \n",
       " 3rd Qu.:0.0000   3rd Qu.:116.5   3rd Qu.:40.13  \n",
       " Max.   :1.0000   Max.   :117.1   Max.   :40.50  \n",
       "                                                 "
      ]
     },
     "metadata": {},
     "output_type": "display_data"
    }
   ],
   "source": [
    "str(bj_aq_gm_combined_data)\n",
    "bj_aq_gm_combined_data %>% summarize(min_date = min(utc_time), max_date = max(utc_time))\n",
    "summary(bj_aq_gm_combined_data)"
   ]
  },
  {
   "cell_type": "markdown",
   "metadata": {},
   "source": [
    "### Model Training and validation"
   ]
  },
  {
   "cell_type": "code",
   "execution_count": 42,
   "metadata": {
    "collapsed": true
   },
   "outputs": [],
   "source": [
    "set.seed(2306)"
   ]
  },
  {
   "cell_type": "code",
   "execution_count": 43,
   "metadata": {
    "collapsed": true
   },
   "outputs": [],
   "source": [
    "# Training and test data set partition\n",
    "sample_size <- floor(0.8 * nrow(bj_aq_gm_combined_data))\n",
    "train_index <- sample(seq_len(nrow(bj_aq_gm_combined_data)), size = sample_size)\n",
    "train_bj <- bj_aq_gm_combined_data[train_index, ]\n",
    "test_bj <- bj_aq_gm_combined_data[-train_index, ]"
   ]
  },
  {
   "cell_type": "code",
   "execution_count": 44,
   "metadata": {},
   "outputs": [
    {
     "name": "stdout",
     "output_type": "stream",
     "text": [
      "'data.frame':\t322557 obs. of  18 variables:\n",
      " $ stationId     : Factor w/ 35 levels \"aotizhongxin_aq\",..: 11 22 31 21 14 4 3 14 29 11 ...\n",
      " $ stationName   : Factor w/ 26 levels \"beijing_grid_216\",..: 13 16 16 26 1 15 9 1 3 13 ...\n",
      " $ utc_time      : POSIXct, format: \"2017-12-16 02:00:00\" \"2017-10-13 20:00:00\" ...\n",
      " $ PM2.5         : num  7 13 38 37.4 38 ...\n",
      " $ PM10          : num  39 13 44 34.5 117 ...\n",
      " $ O3            : num  59 2.5 28 19 48 6 2 51 85 27 ...\n",
      " $ temperature   : num  -3.32 12.63 -0.89 3.65 16 ...\n",
      " $ pressure      : num  1030 1021 1022 1009 1010 ...\n",
      " $ humidity      : num  17.2 26.8 58 41 29 ...\n",
      " $ wind_direction: num  319.7 18.6 270.1 117.2 265.2 ...\n",
      " $ wind_speed.kph: num  21.77 7.4 9.04 6.17 5.93 ...\n",
      " $ hour          : int  2 20 13 7 18 18 17 4 22 13 ...\n",
      " $ month         : num  12 10 2 1 5 2 4 4 2 2 ...\n",
      " $ date          : Date, format: \"2017-12-16\" \"2017-10-13\" ...\n",
      " $ weekend       : int  1 0 0 0 0 0 0 1 0 1 ...\n",
      " $ holiday       : num  0 0 0 0 0 0 0 0 0 1 ...\n",
      " $ longitude     : num  116 116 116 117 116 ...\n",
      " $ latitude      : num  39.9 39.9 39.9 40.1 39.6 ...\n",
      "'data.frame':\t80640 obs. of  18 variables:\n",
      " $ stationId     : Factor w/ 35 levels \"aotizhongxin_aq\",..: 1 1 1 1 1 1 1 1 1 1 ...\n",
      " $ stationName   : Factor w/ 26 levels \"beijing_grid_216\",..: 17 17 17 17 17 17 17 17 17 17 ...\n",
      " $ utc_time      : POSIXct, format: \"2017-01-06 20:00:00\" \"2017-01-06 23:00:00\" ...\n",
      " $ PM2.5         : num  43.3 173 30.1 37.5 33.8 ...\n",
      " $ PM10          : num  56.6 50 50.9 50.8 49.6 ...\n",
      " $ O3            : num  33.1 2 7 3 4 ...\n",
      " $ temperature   : num  -3.94 -3.63 0.68 -2.99 -3.2 -3.62 -0.77 -2.27 -2.64 -2.57 ...\n",
      " $ pressure      : num  1018 1018 1017 1019 1019 ...\n",
      " $ humidity      : num  87.5 86.6 49.9 66.8 69.3 ...\n",
      " $ wind_direction: num  15.6 352.5 267.7 75.9 89.9 ...\n",
      " $ wind_speed.kph: num  2.09 2.8 1.33 4.68 3.73 3.09 5.82 4.7 3.52 2.22 ...\n",
      " $ hour          : int  20 23 2 21 22 0 10 14 17 23 ...\n",
      " $ month         : num  1 1 1 1 1 1 1 1 1 1 ...\n",
      " $ date          : Date, format: \"2017-01-06\" \"2017-01-06\" ...\n",
      " $ weekend       : int  0 0 0 0 0 0 0 0 0 0 ...\n",
      " $ holiday       : num  0 0 0 0 0 0 0 0 0 0 ...\n",
      " $ longitude     : num  116 116 116 116 116 ...\n",
      " $ latitude      : num  40 40 40 40 40 ...\n"
     ]
    }
   ],
   "source": [
    "str(train_bj)\n",
    "str(test_bj)"
   ]
  },
  {
   "cell_type": "code",
   "execution_count": 45,
   "metadata": {},
   "outputs": [
    {
     "data": {
      "text/plain": [
       "\n",
       "Call:\n",
       "lm(formula = .outcome ~ ., data = dat)\n",
       "\n",
       "Residuals:\n",
       "    Min      1Q  Median      3Q     Max \n",
       "-62.596 -30.775  -8.657  19.014 138.545 \n",
       "\n",
       "Coefficients:\n",
       "              Estimate Std. Error t value Pr(>|t|)    \n",
       "(Intercept) 588.934825  28.928809  20.358  < 2e-16 ***\n",
       "latitude    -15.980988   0.303843 -52.596  < 2e-16 ***\n",
       "longitude     0.872005   0.248319   3.512 0.000445 ***\n",
       "hour          0.050710   0.009912   5.116 3.12e-07 ***\n",
       "month        -0.521569   0.019657 -26.534  < 2e-16 ***\n",
       "weekend       0.867280   0.151340   5.731 1.00e-08 ***\n",
       "holiday       5.455431   0.269086  20.274  < 2e-16 ***\n",
       "---\n",
       "Signif. codes:  0 '***' 0.001 '**' 0.01 '*' 0.05 '.' 0.1 ' ' 1\n",
       "\n",
       "Residual standard error: 38.92 on 322550 degrees of freedom\n",
       "Multiple R-squared:  0.0126,\tAdjusted R-squared:  0.01259 \n",
       "F-statistic: 686.2 on 6 and 322550 DF,  p-value: < 2.2e-16\n"
      ]
     },
     "metadata": {},
     "output_type": "display_data"
    },
    {
     "data": {
      "text/html": [
       "<table>\n",
       "<thead><tr><th scope=col>rmse</th><th scope=col>rsq</th></tr></thead>\n",
       "<tbody>\n",
       "\t<tr><td>39.0058   </td><td>0.01328572</td></tr>\n",
       "</tbody>\n",
       "</table>\n"
      ],
      "text/latex": [
       "\\begin{tabular}{r|ll}\n",
       " rmse & rsq\\\\\n",
       "\\hline\n",
       "\t 39.0058    & 0.01328572\\\\\n",
       "\\end{tabular}\n"
      ],
      "text/markdown": [
       "\n",
       "rmse | rsq | \n",
       "|---|\n",
       "| 39.0058    | 0.01328572 | \n",
       "\n",
       "\n"
      ],
      "text/plain": [
       "  rmse    rsq       \n",
       "1 39.0058 0.01328572"
      ]
     },
     "metadata": {},
     "output_type": "display_data"
    }
   ],
   "source": [
    "# Predicting PM2.5 using stationId, hour, month and weekend variables\n",
    "PM2.5_bj_formula <- as.formula(\"PM2.5 ~ latitude + longitude + hour + month + weekend + holiday\")\n",
    "PM2.5_bj_model <- train(PM2.5_bj_formula, data = train_bj, method = \"lm\" )\n",
    "summary(PM2.5_bj_model)\n",
    "test_bj$PM2.5_pred <- predict(PM2.5_bj_model, test_bj)\n",
    "metrics(test_bj, truth = PM2.5, estimate = PM2.5_pred)"
   ]
  },
  {
   "cell_type": "code",
   "execution_count": 46,
   "metadata": {},
   "outputs": [
    {
     "data": {
      "text/plain": [
       "\n",
       "Call:\n",
       "lm(formula = .outcome ~ ., data = dat)\n",
       "\n",
       "Residuals:\n",
       "     Min       1Q   Median       3Q      Max \n",
       "-154.880  -23.436   -4.927   18.000  199.188 \n",
       "\n",
       "Coefficients:\n",
       "              Estimate Std. Error t value Pr(>|t|)    \n",
       "(Intercept)  2.570e+03  2.834e+01  90.687  < 2e-16 ***\n",
       "PM2.5        7.025e-01  1.724e-03 407.508  < 2e-16 ***\n",
       "latitude    -1.919e+01  2.987e-01 -64.233  < 2e-16 ***\n",
       "longitude   -1.506e+01  2.431e-01 -61.964  < 2e-16 ***\n",
       "hour        -5.686e-02  9.705e-03  -5.859 4.67e-09 ***\n",
       "month       -5.750e-01  1.927e-02 -29.849  < 2e-16 ***\n",
       "weekend      3.774e+00  1.482e-01  25.471  < 2e-16 ***\n",
       "holiday     -7.537e+00  2.636e-01 -28.592  < 2e-16 ***\n",
       "---\n",
       "Signif. codes:  0 '***' 0.001 '**' 0.01 '*' 0.05 '.' 0.1 ' ' 1\n",
       "\n",
       "Residual standard error: 38.1 on 322549 degrees of freedom\n",
       "Multiple R-squared:  0.3666,\tAdjusted R-squared:  0.3666 \n",
       "F-statistic: 2.667e+04 on 7 and 322549 DF,  p-value: < 2.2e-16\n"
      ]
     },
     "metadata": {},
     "output_type": "display_data"
    },
    {
     "data": {
      "text/html": [
       "<table>\n",
       "<thead><tr><th scope=col>rmse</th><th scope=col>rsq</th></tr></thead>\n",
       "<tbody>\n",
       "\t<tr><td>38.11017 </td><td>0.3714401</td></tr>\n",
       "</tbody>\n",
       "</table>\n"
      ],
      "text/latex": [
       "\\begin{tabular}{r|ll}\n",
       " rmse & rsq\\\\\n",
       "\\hline\n",
       "\t 38.11017  & 0.3714401\\\\\n",
       "\\end{tabular}\n"
      ],
      "text/markdown": [
       "\n",
       "rmse | rsq | \n",
       "|---|\n",
       "| 38.11017  | 0.3714401 | \n",
       "\n",
       "\n"
      ],
      "text/plain": [
       "  rmse     rsq      \n",
       "1 38.11017 0.3714401"
      ]
     },
     "metadata": {},
     "output_type": "display_data"
    }
   ],
   "source": [
    "# Predicting PM10 using stationId, hour, month, weekend variables along with previously predicted PM2.5 \n",
    "PM10_bj_formula <- as.formula(\"PM10 ~ PM2.5 + latitude + longitude + hour + month + weekend + holiday\")\n",
    "PM10_bj_model <- train(PM10_bj_formula, data = train_bj, method = \"lm\" )\n",
    "summary(PM10_bj_model)\n",
    "test_bj$PM10_pred <- predict(PM10_bj_model, test_bj)\n",
    "metrics(test_bj, truth = PM10, estimate = PM10_pred)"
   ]
  },
  {
   "cell_type": "code",
   "execution_count": 47,
   "metadata": {},
   "outputs": [
    {
     "data": {
      "text/plain": [
       "\n",
       "Call:\n",
       "lm(formula = .outcome ~ ., data = dat)\n",
       "\n",
       "Residuals:\n",
       "    Min      1Q  Median      3Q     Max \n",
       "-94.831 -31.583  -6.615  24.283 151.120 \n",
       "\n",
       "Coefficients:\n",
       "              Estimate Std. Error t value Pr(>|t|)    \n",
       "(Intercept) -1.571e+03  3.103e+01  -50.64  < 2e-16 ***\n",
       "PM2.5       -1.585e-01  2.294e-03  -69.12  < 2e-16 ***\n",
       "PM10         8.682e-02  1.903e-03   45.61  < 2e-16 ***\n",
       "latitude     1.826e+01  3.250e-01   56.20  < 2e-16 ***\n",
       "longitude    7.919e+00  2.644e-01   29.95  < 2e-16 ***\n",
       "hour        -1.726e+00  1.049e-02 -164.53  < 2e-16 ***\n",
       "month       -8.666e-01  2.086e-02  -41.55  < 2e-16 ***\n",
       "weekend     -4.971e-01  1.603e-01   -3.10  0.00193 ** \n",
       "holiday     -6.952e+00  2.853e-01  -24.37  < 2e-16 ***\n",
       "---\n",
       "Signif. codes:  0 '***' 0.001 '**' 0.01 '*' 0.05 '.' 0.1 ' ' 1\n",
       "\n",
       "Residual standard error: 41.19 on 322548 degrees of freedom\n",
       "Multiple R-squared:  0.1083,\tAdjusted R-squared:  0.1083 \n",
       "F-statistic:  4896 on 8 and 322548 DF,  p-value: < 2.2e-16\n"
      ]
     },
     "metadata": {},
     "output_type": "display_data"
    },
    {
     "data": {
      "text/html": [
       "<table>\n",
       "<thead><tr><th scope=col>rmse</th><th scope=col>rsq</th></tr></thead>\n",
       "<tbody>\n",
       "\t<tr><td>41.35863 </td><td>0.1047347</td></tr>\n",
       "</tbody>\n",
       "</table>\n"
      ],
      "text/latex": [
       "\\begin{tabular}{r|ll}\n",
       " rmse & rsq\\\\\n",
       "\\hline\n",
       "\t 41.35863  & 0.1047347\\\\\n",
       "\\end{tabular}\n"
      ],
      "text/markdown": [
       "\n",
       "rmse | rsq | \n",
       "|---|\n",
       "| 41.35863  | 0.1047347 | \n",
       "\n",
       "\n"
      ],
      "text/plain": [
       "  rmse     rsq      \n",
       "1 41.35863 0.1047347"
      ]
     },
     "metadata": {},
     "output_type": "display_data"
    }
   ],
   "source": [
    "# Predicting O3 using stationId, hour, month, weekend variables along with previously predicted PM2.5, PM10 and O3 variables\n",
    "O3_bj_formula <- as.formula(\"O3 ~ PM2.5 + PM10 + latitude + longitude + hour + month + weekend + holiday\")\n",
    "O3_bj_model <- train(O3_bj_formula, data = train_bj, method = \"lm\" )\n",
    "summary(O3_bj_model)\n",
    "test_bj$O3_pred <- predict(O3_bj_model, test_bj)\n",
    "metrics(test_bj, truth = O3, estimate = O3_pred)"
   ]
  },
  {
   "cell_type": "code",
   "execution_count": 48,
   "metadata": {
    "collapsed": true
   },
   "outputs": [],
   "source": [
    "rm(\"train_bj\")\n",
    "rm(\"test_bj\")"
   ]
  },
  {
   "cell_type": "markdown",
   "metadata": {},
   "source": [
    "### Building the next 2 days dataset and predicting PM2.5, PM10 and O3 values"
   ]
  },
  {
   "cell_type": "code",
   "execution_count": 49,
   "metadata": {
    "collapsed": true
   },
   "outputs": [],
   "source": [
    "#setting system timezone to UTC for consistent datetime usage\n",
    "Sys.setenv(TZ='GMT')\n",
    "tomorrow <- Sys.Date() + 1"
   ]
  },
  {
   "cell_type": "code",
   "execution_count": 50,
   "metadata": {
    "collapsed": true
   },
   "outputs": [],
   "source": [
    "# building 1 hour intervals for next 2 days and stationIds\n",
    "bj_time <-seq(from= as.POSIXct(tomorrow), by = \"1 hour\", length.out = 48)\n",
    "bj_time <- with_tz(bj_time, tzone = \"UTC\")\n",
    "bj_future_data <- data.frame(bj_time)\n",
    "# This id will be used in the creation of final submission file\n",
    "bj_future_data$id <- seq.int(nrow(bj_future_data)) -1\n",
    "bj_future_data <- merge(bj_future_data, data.frame(unique(bj_aq_gm_combined_data$stationId)))\n",
    "names(bj_future_data) <- c(\"utc_time\", \"id\", \"stationId\")"
   ]
  },
  {
   "cell_type": "code",
   "execution_count": 51,
   "metadata": {
    "collapsed": true
   },
   "outputs": [],
   "source": [
    "# building datetime features for the next 2 days\n",
    "bj_future_data$hour <- hour(bj_future_data$utc_time)\n",
    "bj_future_data$month <- month(bj_future_data$utc_time)\n",
    "bj_future_data$date <- date(bj_future_data$utc_time)\n",
    "bj_future_data$weekend = chron::is.weekend(bj_future_data$date)"
   ]
  },
  {
   "cell_type": "code",
   "execution_count": 52,
   "metadata": {
    "collapsed": true
   },
   "outputs": [],
   "source": [
    "bj_future_data$weekend <- as.integer(bj_future_data$weekend)\n",
    "bj_future_data$holiday <- ifelse(bj_future_data$date %in% as.Date(beijing_holidays), 1, 0)"
   ]
  },
  {
   "cell_type": "code",
   "execution_count": 53,
   "metadata": {
    "collapsed": true
   },
   "outputs": [],
   "source": [
    "#lat long data\n",
    "bj_future_data <- merge(bj_future_data,bj_lat_long_data, by = \"stationId\")"
   ]
  },
  {
   "cell_type": "code",
   "execution_count": 54,
   "metadata": {
    "collapsed": true
   },
   "outputs": [],
   "source": [
    "# predicting PM2.5, PM10 and O3 values\n",
    "bj_future_data$PM2.5 <- predict(PM2.5_bj_model, bj_future_data)\n",
    "bj_future_data$PM10 <- predict(PM10_bj_model, bj_future_data)\n",
    "bj_future_data$O3 <- predict(O3_bj_model, bj_future_data)"
   ]
  },
  {
   "cell_type": "code",
   "execution_count": 55,
   "metadata": {
    "collapsed": true
   },
   "outputs": [],
   "source": [
    "#creating the test_id for final submission file\n",
    "bj_future_data$test_id <- paste(bj_future_data$stationId, \"#\", bj_future_data$id, sep = \"\")"
   ]
  },
  {
   "cell_type": "code",
   "execution_count": 56,
   "metadata": {},
   "outputs": [
    {
     "name": "stdout",
     "output_type": "stream",
     "text": [
      "'data.frame':\t1680 obs. of  14 variables:\n",
      " $ stationId: Factor w/ 35 levels \"aotizhongxin_aq\",..: 1 1 1 1 1 1 1 1 1 1 ...\n",
      " $ utc_time : POSIXct, format: \"2018-05-30 00:00:00\" \"2018-05-30 01:00:00\" ...\n",
      " $ id       : num  0 1 2 3 4 5 6 7 8 9 ...\n",
      " $ hour     : int  0 1 2 3 4 5 6 7 8 9 ...\n",
      " $ month    : num  5 5 5 5 5 5 5 5 5 5 ...\n",
      " $ date     : Date, format: \"2018-05-30\" \"2018-05-30\" ...\n",
      " $ weekend  : int  0 0 0 0 0 0 0 0 0 0 ...\n",
      " $ holiday  : num  0 0 0 0 0 0 0 0 0 0 ...\n",
      " $ longitude: num  116 116 116 116 116 ...\n",
      " $ latitude : num  40 40 40 40 40 ...\n",
      " $ PM2.5    : num  48.9 48.9 49 49 49.1 ...\n",
      " $ PM10     : num  80.9 80.9 80.8 80.8 80.8 ...\n",
      " $ O3       : num  75.7 73.9 72.2 70.5 68.7 ...\n",
      " $ test_id  : chr  \"aotizhongxin_aq#0\" \"aotizhongxin_aq#1\" \"aotizhongxin_aq#2\" \"aotizhongxin_aq#3\" ...\n"
     ]
    },
    {
     "data": {
      "text/plain": [
       "           stationId       utc_time                         id       \n",
       " aotizhongxin_aq:  48   Min.   :2018-05-30 00:00:00   Min.   : 0.00  \n",
       " badaling_aq    :  48   1st Qu.:2018-05-30 11:45:00   1st Qu.:11.75  \n",
       " beibuxinqu_aq  :  48   Median :2018-05-30 23:30:00   Median :23.50  \n",
       " daxing_aq      :  48   Mean   :2018-05-30 23:30:00   Mean   :23.50  \n",
       " dingling_aq    :  48   3rd Qu.:2018-05-31 11:15:00   3rd Qu.:35.25  \n",
       " donggaocun_aq  :  48   Max.   :2018-05-31 23:00:00   Max.   :47.00  \n",
       " (Other)        :1392                                                \n",
       "      hour           month        date               weekend     holiday \n",
       " Min.   : 0.00   Min.   :5   Min.   :2018-05-30   Min.   :0   Min.   :0  \n",
       " 1st Qu.: 5.75   1st Qu.:5   1st Qu.:2018-05-30   1st Qu.:0   1st Qu.:0  \n",
       " Median :11.50   Median :5   Median :2018-05-30   Median :0   Median :0  \n",
       " Mean   :11.50   Mean   :5   Mean   :2018-05-30   Mean   :0   Mean   :0  \n",
       " 3rd Qu.:17.25   3rd Qu.:5   3rd Qu.:2018-05-31   3rd Qu.:0   3rd Qu.:0  \n",
       " Max.   :23.00   Max.   :5   Max.   :2018-05-31   Max.   :0   Max.   :0  \n",
       "                                                                         \n",
       "   longitude        latitude         PM2.5            PM10      \n",
       " Min.   :116.0   Min.   :39.52   Min.   :40.98   Min.   :57.24  \n",
       " 1st Qu.:116.2   1st Qu.:39.86   1st Qu.:47.57   1st Qu.:75.03  \n",
       " Median :116.4   Median :39.94   Median :50.17   Median :82.26  \n",
       " Mean   :116.4   Mean   :39.99   Mean   :49.39   Mean   :80.38  \n",
       " 3rd Qu.:116.5   3rd Qu.:40.13   3rd Qu.:51.40   3rd Qu.:84.88  \n",
       " Max.   :117.1   Max.   :40.50   Max.   :57.34   Max.   :98.85  \n",
       "                                                                \n",
       "       O3          test_id         \n",
       " Min.   :25.84   Length:1680       \n",
       " 1st Qu.:45.29   Class :character  \n",
       " Median :55.72   Mode  :character  \n",
       " Mean   :55.83                     \n",
       " 3rd Qu.:66.13                     \n",
       " Max.   :88.40                     \n",
       "                                   "
      ]
     },
     "metadata": {},
     "output_type": "display_data"
    },
    {
     "data": {
      "text/html": [
       "<table>\n",
       "<thead><tr><th scope=col>min_date</th><th scope=col>max_date</th></tr></thead>\n",
       "<tbody>\n",
       "\t<tr><td>2018-05-30         </td><td>2018-05-31 23:00:00</td></tr>\n",
       "</tbody>\n",
       "</table>\n"
      ],
      "text/latex": [
       "\\begin{tabular}{r|ll}\n",
       " min\\_date & max\\_date\\\\\n",
       "\\hline\n",
       "\t 2018-05-30          & 2018-05-31 23:00:00\\\\\n",
       "\\end{tabular}\n"
      ],
      "text/markdown": [
       "\n",
       "min_date | max_date | \n",
       "|---|\n",
       "| 2018-05-30          | 2018-05-31 23:00:00 | \n",
       "\n",
       "\n"
      ],
      "text/plain": [
       "  min_date   max_date           \n",
       "1 2018-05-30 2018-05-31 23:00:00"
      ]
     },
     "metadata": {},
     "output_type": "display_data"
    }
   ],
   "source": [
    "str(bj_future_data)\n",
    "summary(bj_future_data)\n",
    "bj_future_data %>% summarize(min_date = min(utc_time ), max_date = max(utc_time ))"
   ]
  },
  {
   "cell_type": "code",
   "execution_count": 57,
   "metadata": {},
   "outputs": [
    {
     "data": {
      "text/html": [
       "<table>\n",
       "<thead><tr><th scope=col>stationId</th><th scope=col>utc_time</th><th scope=col>id</th><th scope=col>hour</th><th scope=col>month</th><th scope=col>date</th><th scope=col>weekend</th><th scope=col>holiday</th><th scope=col>longitude</th><th scope=col>latitude</th><th scope=col>PM2.5</th><th scope=col>PM10</th><th scope=col>O3</th><th scope=col>test_id</th></tr></thead>\n",
       "<tbody>\n",
       "\t<tr><td>aotizhongxin_aq    </td><td>2018-05-30 00:00:00</td><td> 0                 </td><td> 0                 </td><td>5                  </td><td>2018-05-30         </td><td>0                  </td><td>0                  </td><td>116.397            </td><td>39.982             </td><td>48.87392           </td><td>80.88440           </td><td>75.65979           </td><td>aotizhongxin_aq#0  </td></tr>\n",
       "\t<tr><td>aotizhongxin_aq    </td><td>2018-05-30 01:00:00</td><td> 1                 </td><td> 1                 </td><td>5                  </td><td>2018-05-30         </td><td>0                  </td><td>0                  </td><td>116.397            </td><td>39.982             </td><td>48.92463           </td><td>80.86317           </td><td>73.92367           </td><td>aotizhongxin_aq#1  </td></tr>\n",
       "\t<tr><td>aotizhongxin_aq    </td><td>2018-05-30 02:00:00</td><td> 2                 </td><td> 2                 </td><td>5                  </td><td>2018-05-30         </td><td>0                  </td><td>0                  </td><td>116.397            </td><td>39.982             </td><td>48.97534           </td><td>80.84193           </td><td>72.18755           </td><td>aotizhongxin_aq#2  </td></tr>\n",
       "\t<tr><td>aotizhongxin_aq    </td><td>2018-05-30 03:00:00</td><td> 3                 </td><td> 3                 </td><td>5                  </td><td>2018-05-30         </td><td>0                  </td><td>0                  </td><td>116.397            </td><td>39.982             </td><td>49.02605           </td><td>80.82070           </td><td>70.45143           </td><td>aotizhongxin_aq#3  </td></tr>\n",
       "\t<tr><td>aotizhongxin_aq    </td><td>2018-05-30 04:00:00</td><td> 4                 </td><td> 4                 </td><td>5                  </td><td>2018-05-30         </td><td>0                  </td><td>0                  </td><td>116.397            </td><td>39.982             </td><td>49.07676           </td><td>80.79947           </td><td>68.71531           </td><td>aotizhongxin_aq#4  </td></tr>\n",
       "\t<tr><td>aotizhongxin_aq    </td><td>2018-05-30 05:00:00</td><td> 5                 </td><td> 5                 </td><td>5                  </td><td>2018-05-30         </td><td>0                  </td><td>0                  </td><td>116.397            </td><td>39.982             </td><td>49.12747           </td><td>80.77824           </td><td>66.97920           </td><td>aotizhongxin_aq#5  </td></tr>\n",
       "\t<tr><td>aotizhongxin_aq    </td><td>2018-05-30 06:00:00</td><td> 6                 </td><td> 6                 </td><td>5                  </td><td>2018-05-30         </td><td>0                  </td><td>0                  </td><td>116.397            </td><td>39.982             </td><td>49.17818           </td><td>80.75700           </td><td>65.24308           </td><td>aotizhongxin_aq#6  </td></tr>\n",
       "\t<tr><td>aotizhongxin_aq    </td><td>2018-05-30 07:00:00</td><td> 7                 </td><td> 7                 </td><td>5                  </td><td>2018-05-30         </td><td>0                  </td><td>0                  </td><td>116.397            </td><td>39.982             </td><td>49.22889           </td><td>80.73577           </td><td>63.50696           </td><td>aotizhongxin_aq#7  </td></tr>\n",
       "\t<tr><td>aotizhongxin_aq    </td><td>2018-05-30 08:00:00</td><td> 8                 </td><td> 8                 </td><td>5                  </td><td>2018-05-30         </td><td>0                  </td><td>0                  </td><td>116.397            </td><td>39.982             </td><td>49.27960           </td><td>80.71454           </td><td>61.77084           </td><td>aotizhongxin_aq#8  </td></tr>\n",
       "\t<tr><td>aotizhongxin_aq    </td><td>2018-05-30 09:00:00</td><td> 9                 </td><td> 9                 </td><td>5                  </td><td>2018-05-30         </td><td>0                  </td><td>0                  </td><td>116.397            </td><td>39.982             </td><td>49.33031           </td><td>80.69331           </td><td>60.03473           </td><td>aotizhongxin_aq#9  </td></tr>\n",
       "\t<tr><td>aotizhongxin_aq    </td><td>2018-05-30 10:00:00</td><td>10                 </td><td>10                 </td><td>5                  </td><td>2018-05-30         </td><td>0                  </td><td>0                  </td><td>116.397            </td><td>39.982             </td><td>49.38102           </td><td>80.67207           </td><td>58.29861           </td><td>aotizhongxin_aq#10 </td></tr>\n",
       "\t<tr><td>aotizhongxin_aq    </td><td>2018-05-30 11:00:00</td><td>11                 </td><td>11                 </td><td>5                  </td><td>2018-05-30         </td><td>0                  </td><td>0                  </td><td>116.397            </td><td>39.982             </td><td>49.43173           </td><td>80.65084           </td><td>56.56249           </td><td>aotizhongxin_aq#11 </td></tr>\n",
       "\t<tr><td>aotizhongxin_aq    </td><td>2018-05-30 12:00:00</td><td>12                 </td><td>12                 </td><td>5                  </td><td>2018-05-30         </td><td>0                  </td><td>0                  </td><td>116.397            </td><td>39.982             </td><td>49.48244           </td><td>80.62961           </td><td>54.82637           </td><td>aotizhongxin_aq#12 </td></tr>\n",
       "\t<tr><td>aotizhongxin_aq    </td><td>2018-05-30 13:00:00</td><td>13                 </td><td>13                 </td><td>5                  </td><td>2018-05-30         </td><td>0                  </td><td>0                  </td><td>116.397            </td><td>39.982             </td><td>49.53315           </td><td>80.60838           </td><td>53.09026           </td><td>aotizhongxin_aq#13 </td></tr>\n",
       "\t<tr><td>aotizhongxin_aq    </td><td>2018-05-30 14:00:00</td><td>14                 </td><td>14                 </td><td>5                  </td><td>2018-05-30         </td><td>0                  </td><td>0                  </td><td>116.397            </td><td>39.982             </td><td>49.58386           </td><td>80.58714           </td><td>51.35414           </td><td>aotizhongxin_aq#14 </td></tr>\n",
       "\t<tr><td>aotizhongxin_aq    </td><td>2018-05-30 15:00:00</td><td>15                 </td><td>15                 </td><td>5                  </td><td>2018-05-30         </td><td>0                  </td><td>0                  </td><td>116.397            </td><td>39.982             </td><td>49.63458           </td><td>80.56591           </td><td>49.61802           </td><td>aotizhongxin_aq#15 </td></tr>\n",
       "\t<tr><td>aotizhongxin_aq    </td><td>2018-05-30 16:00:00</td><td>16                 </td><td>16                 </td><td>5                  </td><td>2018-05-30         </td><td>0                  </td><td>0                  </td><td>116.397            </td><td>39.982             </td><td>49.68529           </td><td>80.54468           </td><td>47.88190           </td><td>aotizhongxin_aq#16 </td></tr>\n",
       "\t<tr><td>aotizhongxin_aq    </td><td>2018-05-30 17:00:00</td><td>17                 </td><td>17                 </td><td>5                  </td><td>2018-05-30         </td><td>0                  </td><td>0                  </td><td>116.397            </td><td>39.982             </td><td>49.73600           </td><td>80.52345           </td><td>46.14579           </td><td>aotizhongxin_aq#17 </td></tr>\n",
       "\t<tr><td>aotizhongxin_aq    </td><td>2018-05-30 18:00:00</td><td>18                 </td><td>18                 </td><td>5                  </td><td>2018-05-30         </td><td>0                  </td><td>0                  </td><td>116.397            </td><td>39.982             </td><td>49.78671           </td><td>80.50222           </td><td>44.40967           </td><td>aotizhongxin_aq#18 </td></tr>\n",
       "\t<tr><td>aotizhongxin_aq    </td><td>2018-05-30 19:00:00</td><td>19                 </td><td>19                 </td><td>5                  </td><td>2018-05-30         </td><td>0                  </td><td>0                  </td><td>116.397            </td><td>39.982             </td><td>49.83742           </td><td>80.48098           </td><td>42.67355           </td><td>aotizhongxin_aq#19 </td></tr>\n",
       "</tbody>\n",
       "</table>\n"
      ],
      "text/latex": [
       "\\begin{tabular}{r|llllllllllllll}\n",
       " stationId & utc\\_time & id & hour & month & date & weekend & holiday & longitude & latitude & PM2.5 & PM10 & O3 & test\\_id\\\\\n",
       "\\hline\n",
       "\t aotizhongxin\\_aq      & 2018-05-30 00:00:00    &  0                     &  0                     & 5                      & 2018-05-30             & 0                      & 0                      & 116.397                & 39.982                 & 48.87392               & 80.88440               & 75.65979               & aotizhongxin\\_aq\\#0 \\\\\n",
       "\t aotizhongxin\\_aq      & 2018-05-30 01:00:00    &  1                     &  1                     & 5                      & 2018-05-30             & 0                      & 0                      & 116.397                & 39.982                 & 48.92463               & 80.86317               & 73.92367               & aotizhongxin\\_aq\\#1 \\\\\n",
       "\t aotizhongxin\\_aq      & 2018-05-30 02:00:00    &  2                     &  2                     & 5                      & 2018-05-30             & 0                      & 0                      & 116.397                & 39.982                 & 48.97534               & 80.84193               & 72.18755               & aotizhongxin\\_aq\\#2 \\\\\n",
       "\t aotizhongxin\\_aq      & 2018-05-30 03:00:00    &  3                     &  3                     & 5                      & 2018-05-30             & 0                      & 0                      & 116.397                & 39.982                 & 49.02605               & 80.82070               & 70.45143               & aotizhongxin\\_aq\\#3 \\\\\n",
       "\t aotizhongxin\\_aq      & 2018-05-30 04:00:00    &  4                     &  4                     & 5                      & 2018-05-30             & 0                      & 0                      & 116.397                & 39.982                 & 49.07676               & 80.79947               & 68.71531               & aotizhongxin\\_aq\\#4 \\\\\n",
       "\t aotizhongxin\\_aq      & 2018-05-30 05:00:00    &  5                     &  5                     & 5                      & 2018-05-30             & 0                      & 0                      & 116.397                & 39.982                 & 49.12747               & 80.77824               & 66.97920               & aotizhongxin\\_aq\\#5 \\\\\n",
       "\t aotizhongxin\\_aq      & 2018-05-30 06:00:00    &  6                     &  6                     & 5                      & 2018-05-30             & 0                      & 0                      & 116.397                & 39.982                 & 49.17818               & 80.75700               & 65.24308               & aotizhongxin\\_aq\\#6 \\\\\n",
       "\t aotizhongxin\\_aq      & 2018-05-30 07:00:00    &  7                     &  7                     & 5                      & 2018-05-30             & 0                      & 0                      & 116.397                & 39.982                 & 49.22889               & 80.73577               & 63.50696               & aotizhongxin\\_aq\\#7 \\\\\n",
       "\t aotizhongxin\\_aq      & 2018-05-30 08:00:00    &  8                     &  8                     & 5                      & 2018-05-30             & 0                      & 0                      & 116.397                & 39.982                 & 49.27960               & 80.71454               & 61.77084               & aotizhongxin\\_aq\\#8 \\\\\n",
       "\t aotizhongxin\\_aq      & 2018-05-30 09:00:00    &  9                     &  9                     & 5                      & 2018-05-30             & 0                      & 0                      & 116.397                & 39.982                 & 49.33031               & 80.69331               & 60.03473               & aotizhongxin\\_aq\\#9 \\\\\n",
       "\t aotizhongxin\\_aq      & 2018-05-30 10:00:00    & 10                     & 10                     & 5                      & 2018-05-30             & 0                      & 0                      & 116.397                & 39.982                 & 49.38102               & 80.67207               & 58.29861               & aotizhongxin\\_aq\\#10\\\\\n",
       "\t aotizhongxin\\_aq      & 2018-05-30 11:00:00    & 11                     & 11                     & 5                      & 2018-05-30             & 0                      & 0                      & 116.397                & 39.982                 & 49.43173               & 80.65084               & 56.56249               & aotizhongxin\\_aq\\#11\\\\\n",
       "\t aotizhongxin\\_aq      & 2018-05-30 12:00:00    & 12                     & 12                     & 5                      & 2018-05-30             & 0                      & 0                      & 116.397                & 39.982                 & 49.48244               & 80.62961               & 54.82637               & aotizhongxin\\_aq\\#12\\\\\n",
       "\t aotizhongxin\\_aq      & 2018-05-30 13:00:00    & 13                     & 13                     & 5                      & 2018-05-30             & 0                      & 0                      & 116.397                & 39.982                 & 49.53315               & 80.60838               & 53.09026               & aotizhongxin\\_aq\\#13\\\\\n",
       "\t aotizhongxin\\_aq      & 2018-05-30 14:00:00    & 14                     & 14                     & 5                      & 2018-05-30             & 0                      & 0                      & 116.397                & 39.982                 & 49.58386               & 80.58714               & 51.35414               & aotizhongxin\\_aq\\#14\\\\\n",
       "\t aotizhongxin\\_aq      & 2018-05-30 15:00:00    & 15                     & 15                     & 5                      & 2018-05-30             & 0                      & 0                      & 116.397                & 39.982                 & 49.63458               & 80.56591               & 49.61802               & aotizhongxin\\_aq\\#15\\\\\n",
       "\t aotizhongxin\\_aq      & 2018-05-30 16:00:00    & 16                     & 16                     & 5                      & 2018-05-30             & 0                      & 0                      & 116.397                & 39.982                 & 49.68529               & 80.54468               & 47.88190               & aotizhongxin\\_aq\\#16\\\\\n",
       "\t aotizhongxin\\_aq      & 2018-05-30 17:00:00    & 17                     & 17                     & 5                      & 2018-05-30             & 0                      & 0                      & 116.397                & 39.982                 & 49.73600               & 80.52345               & 46.14579               & aotizhongxin\\_aq\\#17\\\\\n",
       "\t aotizhongxin\\_aq      & 2018-05-30 18:00:00    & 18                     & 18                     & 5                      & 2018-05-30             & 0                      & 0                      & 116.397                & 39.982                 & 49.78671               & 80.50222               & 44.40967               & aotizhongxin\\_aq\\#18\\\\\n",
       "\t aotizhongxin\\_aq      & 2018-05-30 19:00:00    & 19                     & 19                     & 5                      & 2018-05-30             & 0                      & 0                      & 116.397                & 39.982                 & 49.83742               & 80.48098               & 42.67355               & aotizhongxin\\_aq\\#19\\\\\n",
       "\\end{tabular}\n"
      ],
      "text/markdown": [
       "\n",
       "stationId | utc_time | id | hour | month | date | weekend | holiday | longitude | latitude | PM2.5 | PM10 | O3 | test_id | \n",
       "|---|---|---|---|---|---|---|---|---|---|---|---|---|---|---|---|---|---|---|---|\n",
       "| aotizhongxin_aq     | 2018-05-30 00:00:00 |  0                  |  0                  | 5                   | 2018-05-30          | 0                   | 0                   | 116.397             | 39.982              | 48.87392            | 80.88440            | 75.65979            | aotizhongxin_aq#0   | \n",
       "| aotizhongxin_aq     | 2018-05-30 01:00:00 |  1                  |  1                  | 5                   | 2018-05-30          | 0                   | 0                   | 116.397             | 39.982              | 48.92463            | 80.86317            | 73.92367            | aotizhongxin_aq#1   | \n",
       "| aotizhongxin_aq     | 2018-05-30 02:00:00 |  2                  |  2                  | 5                   | 2018-05-30          | 0                   | 0                   | 116.397             | 39.982              | 48.97534            | 80.84193            | 72.18755            | aotizhongxin_aq#2   | \n",
       "| aotizhongxin_aq     | 2018-05-30 03:00:00 |  3                  |  3                  | 5                   | 2018-05-30          | 0                   | 0                   | 116.397             | 39.982              | 49.02605            | 80.82070            | 70.45143            | aotizhongxin_aq#3   | \n",
       "| aotizhongxin_aq     | 2018-05-30 04:00:00 |  4                  |  4                  | 5                   | 2018-05-30          | 0                   | 0                   | 116.397             | 39.982              | 49.07676            | 80.79947            | 68.71531            | aotizhongxin_aq#4   | \n",
       "| aotizhongxin_aq     | 2018-05-30 05:00:00 |  5                  |  5                  | 5                   | 2018-05-30          | 0                   | 0                   | 116.397             | 39.982              | 49.12747            | 80.77824            | 66.97920            | aotizhongxin_aq#5   | \n",
       "| aotizhongxin_aq     | 2018-05-30 06:00:00 |  6                  |  6                  | 5                   | 2018-05-30          | 0                   | 0                   | 116.397             | 39.982              | 49.17818            | 80.75700            | 65.24308            | aotizhongxin_aq#6   | \n",
       "| aotizhongxin_aq     | 2018-05-30 07:00:00 |  7                  |  7                  | 5                   | 2018-05-30          | 0                   | 0                   | 116.397             | 39.982              | 49.22889            | 80.73577            | 63.50696            | aotizhongxin_aq#7   | \n",
       "| aotizhongxin_aq     | 2018-05-30 08:00:00 |  8                  |  8                  | 5                   | 2018-05-30          | 0                   | 0                   | 116.397             | 39.982              | 49.27960            | 80.71454            | 61.77084            | aotizhongxin_aq#8   | \n",
       "| aotizhongxin_aq     | 2018-05-30 09:00:00 |  9                  |  9                  | 5                   | 2018-05-30          | 0                   | 0                   | 116.397             | 39.982              | 49.33031            | 80.69331            | 60.03473            | aotizhongxin_aq#9   | \n",
       "| aotizhongxin_aq     | 2018-05-30 10:00:00 | 10                  | 10                  | 5                   | 2018-05-30          | 0                   | 0                   | 116.397             | 39.982              | 49.38102            | 80.67207            | 58.29861            | aotizhongxin_aq#10  | \n",
       "| aotizhongxin_aq     | 2018-05-30 11:00:00 | 11                  | 11                  | 5                   | 2018-05-30          | 0                   | 0                   | 116.397             | 39.982              | 49.43173            | 80.65084            | 56.56249            | aotizhongxin_aq#11  | \n",
       "| aotizhongxin_aq     | 2018-05-30 12:00:00 | 12                  | 12                  | 5                   | 2018-05-30          | 0                   | 0                   | 116.397             | 39.982              | 49.48244            | 80.62961            | 54.82637            | aotizhongxin_aq#12  | \n",
       "| aotizhongxin_aq     | 2018-05-30 13:00:00 | 13                  | 13                  | 5                   | 2018-05-30          | 0                   | 0                   | 116.397             | 39.982              | 49.53315            | 80.60838            | 53.09026            | aotizhongxin_aq#13  | \n",
       "| aotizhongxin_aq     | 2018-05-30 14:00:00 | 14                  | 14                  | 5                   | 2018-05-30          | 0                   | 0                   | 116.397             | 39.982              | 49.58386            | 80.58714            | 51.35414            | aotizhongxin_aq#14  | \n",
       "| aotizhongxin_aq     | 2018-05-30 15:00:00 | 15                  | 15                  | 5                   | 2018-05-30          | 0                   | 0                   | 116.397             | 39.982              | 49.63458            | 80.56591            | 49.61802            | aotizhongxin_aq#15  | \n",
       "| aotizhongxin_aq     | 2018-05-30 16:00:00 | 16                  | 16                  | 5                   | 2018-05-30          | 0                   | 0                   | 116.397             | 39.982              | 49.68529            | 80.54468            | 47.88190            | aotizhongxin_aq#16  | \n",
       "| aotizhongxin_aq     | 2018-05-30 17:00:00 | 17                  | 17                  | 5                   | 2018-05-30          | 0                   | 0                   | 116.397             | 39.982              | 49.73600            | 80.52345            | 46.14579            | aotizhongxin_aq#17  | \n",
       "| aotizhongxin_aq     | 2018-05-30 18:00:00 | 18                  | 18                  | 5                   | 2018-05-30          | 0                   | 0                   | 116.397             | 39.982              | 49.78671            | 80.50222            | 44.40967            | aotizhongxin_aq#18  | \n",
       "| aotizhongxin_aq     | 2018-05-30 19:00:00 | 19                  | 19                  | 5                   | 2018-05-30          | 0                   | 0                   | 116.397             | 39.982              | 49.83742            | 80.48098            | 42.67355            | aotizhongxin_aq#19  | \n",
       "\n",
       "\n"
      ],
      "text/plain": [
       "   stationId       utc_time            id hour month date       weekend holiday\n",
       "1  aotizhongxin_aq 2018-05-30 00:00:00  0  0   5     2018-05-30 0       0      \n",
       "2  aotizhongxin_aq 2018-05-30 01:00:00  1  1   5     2018-05-30 0       0      \n",
       "3  aotizhongxin_aq 2018-05-30 02:00:00  2  2   5     2018-05-30 0       0      \n",
       "4  aotizhongxin_aq 2018-05-30 03:00:00  3  3   5     2018-05-30 0       0      \n",
       "5  aotizhongxin_aq 2018-05-30 04:00:00  4  4   5     2018-05-30 0       0      \n",
       "6  aotizhongxin_aq 2018-05-30 05:00:00  5  5   5     2018-05-30 0       0      \n",
       "7  aotizhongxin_aq 2018-05-30 06:00:00  6  6   5     2018-05-30 0       0      \n",
       "8  aotizhongxin_aq 2018-05-30 07:00:00  7  7   5     2018-05-30 0       0      \n",
       "9  aotizhongxin_aq 2018-05-30 08:00:00  8  8   5     2018-05-30 0       0      \n",
       "10 aotizhongxin_aq 2018-05-30 09:00:00  9  9   5     2018-05-30 0       0      \n",
       "11 aotizhongxin_aq 2018-05-30 10:00:00 10 10   5     2018-05-30 0       0      \n",
       "12 aotizhongxin_aq 2018-05-30 11:00:00 11 11   5     2018-05-30 0       0      \n",
       "13 aotizhongxin_aq 2018-05-30 12:00:00 12 12   5     2018-05-30 0       0      \n",
       "14 aotizhongxin_aq 2018-05-30 13:00:00 13 13   5     2018-05-30 0       0      \n",
       "15 aotizhongxin_aq 2018-05-30 14:00:00 14 14   5     2018-05-30 0       0      \n",
       "16 aotizhongxin_aq 2018-05-30 15:00:00 15 15   5     2018-05-30 0       0      \n",
       "17 aotizhongxin_aq 2018-05-30 16:00:00 16 16   5     2018-05-30 0       0      \n",
       "18 aotizhongxin_aq 2018-05-30 17:00:00 17 17   5     2018-05-30 0       0      \n",
       "19 aotizhongxin_aq 2018-05-30 18:00:00 18 18   5     2018-05-30 0       0      \n",
       "20 aotizhongxin_aq 2018-05-30 19:00:00 19 19   5     2018-05-30 0       0      \n",
       "   longitude latitude PM2.5    PM10     O3       test_id           \n",
       "1  116.397   39.982   48.87392 80.88440 75.65979 aotizhongxin_aq#0 \n",
       "2  116.397   39.982   48.92463 80.86317 73.92367 aotizhongxin_aq#1 \n",
       "3  116.397   39.982   48.97534 80.84193 72.18755 aotizhongxin_aq#2 \n",
       "4  116.397   39.982   49.02605 80.82070 70.45143 aotizhongxin_aq#3 \n",
       "5  116.397   39.982   49.07676 80.79947 68.71531 aotizhongxin_aq#4 \n",
       "6  116.397   39.982   49.12747 80.77824 66.97920 aotizhongxin_aq#5 \n",
       "7  116.397   39.982   49.17818 80.75700 65.24308 aotizhongxin_aq#6 \n",
       "8  116.397   39.982   49.22889 80.73577 63.50696 aotizhongxin_aq#7 \n",
       "9  116.397   39.982   49.27960 80.71454 61.77084 aotizhongxin_aq#8 \n",
       "10 116.397   39.982   49.33031 80.69331 60.03473 aotizhongxin_aq#9 \n",
       "11 116.397   39.982   49.38102 80.67207 58.29861 aotizhongxin_aq#10\n",
       "12 116.397   39.982   49.43173 80.65084 56.56249 aotizhongxin_aq#11\n",
       "13 116.397   39.982   49.48244 80.62961 54.82637 aotizhongxin_aq#12\n",
       "14 116.397   39.982   49.53315 80.60838 53.09026 aotizhongxin_aq#13\n",
       "15 116.397   39.982   49.58386 80.58714 51.35414 aotizhongxin_aq#14\n",
       "16 116.397   39.982   49.63458 80.56591 49.61802 aotizhongxin_aq#15\n",
       "17 116.397   39.982   49.68529 80.54468 47.88190 aotizhongxin_aq#16\n",
       "18 116.397   39.982   49.73600 80.52345 46.14579 aotizhongxin_aq#17\n",
       "19 116.397   39.982   49.78671 80.50222 44.40967 aotizhongxin_aq#18\n",
       "20 116.397   39.982   49.83742 80.48098 42.67355 aotizhongxin_aq#19"
      ]
     },
     "metadata": {},
     "output_type": "display_data"
    }
   ],
   "source": [
    "head(bj_future_data, 20)"
   ]
  },
  {
   "cell_type": "code",
   "execution_count": null,
   "metadata": {
    "collapsed": true
   },
   "outputs": [],
   "source": [
    "write.csv(bj_future_data[,c(\"test_id\", \"PM2.5\", \"PM10\", \"O3\")], file = paste(\"bj_submission\", Sys.Date(),\".csv\"), row.names = FALSE)"
   ]
  },
  {
   "cell_type": "code",
   "execution_count": null,
   "metadata": {
    "collapsed": true
   },
   "outputs": [],
   "source": [
    "# resetting the timezone\n",
    "Sys.unsetenv(\"TZ\")"
   ]
  },
  {
   "cell_type": "code",
   "execution_count": null,
   "metadata": {
    "collapsed": true
   },
   "outputs": [],
   "source": [
    "rm(\"bj_future_data\")\n",
    "rm(\"bj_lat_long_data\")\n",
    "rm(\"bj_aq_gm_combined_data\")"
   ]
  }
 ],
 "metadata": {
  "kernelspec": {
   "display_name": "R",
   "language": "R",
   "name": "ir"
  },
  "language_info": {
   "codemirror_mode": "r",
   "file_extension": ".r",
   "mimetype": "text/x-r-source",
   "name": "R",
   "pygments_lexer": "r",
   "version": "3.4.2"
  }
 },
 "nbformat": 4,
 "nbformat_minor": 2
}
