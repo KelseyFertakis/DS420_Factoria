{
 "cells": [
  {
   "cell_type": "markdown",
   "metadata": {},
   "source": [
    "### Import and transformations of API data"
   ]
  },
  {
   "cell_type": "code",
   "execution_count": 1,
   "metadata": {},
   "outputs": [
    {
     "data": {
      "text/html": [
       "<strong>null device:</strong> 1"
      ],
      "text/latex": [
       "\\textbf{null device:} 1"
      ],
      "text/markdown": [
       "**null device:** 1"
      ],
      "text/plain": [
       "null device \n",
       "          1 "
      ]
     },
     "metadata": {},
     "output_type": "display_data"
    },
    {
     "name": "stdout",
     "output_type": "stream",
     "text": [
      "\f"
     ]
    }
   ],
   "source": [
    "if(!is.null(dev.list())) dev.off() # Clear Plots\n",
    "rm(list=ls()) # Clear objects from Memory\n",
    "cat(\"\\014\") # Clear Console\n",
    "# writeClipboard(as.character(x)) # copy data frame to clipboard"
   ]
  },
  {
   "cell_type": "code",
   "execution_count": null,
   "metadata": {},
   "outputs": [],
   "source": [
    "library(RCurl)\n",
    "library(sqldf)\n",
    "library(digest)\n",
    "library(dplyr)\n",
    "library(anytime)\n",
    "library(geosphere)\n",
    "library(lubridate)\n",
    "library(chron)\n",
    "require(caret)\n",
    "require(rattle)\n",
    "require(yardstick)"
   ]
  },
  {
   "cell_type": "code",
   "execution_count": 3,
   "metadata": {
    "collapsed": true
   },
   "outputs": [],
   "source": [
    "# set working directory\n",
    "setwd(\"C:/Users/vanethi/Documents/GitHub/DS420_Factoria\")"
   ]
  },
  {
   "cell_type": "code",
   "execution_count": 4,
   "metadata": {
    "collapsed": true
   },
   "outputs": [],
   "source": [
    "# set start and end date\n",
    "startDate <- '2017-12-31-0'\n",
    "endDate <- '2018-06-01-0'"
   ]
  },
  {
   "cell_type": "code",
   "execution_count": 6,
   "metadata": {},
   "outputs": [],
   "source": [
    "# pull data for Beijing\n",
    "\n",
    "# acquire air quality data\n",
    "bj_aq_url <- paste0(\"https://biendata.com/competition/airquality/bj/\",startDate,\"/\",endDate,\"/2k0d1d8\")\n",
    "bj_aq_file <- getURL(bj_aq_url, ssl.verifyhost=FALSE, ssl.verifypeer=FALSE)\n",
    "bj_aq_data <- read.csv(textConnection(bj_aq_file), header=TRUE)\n",
    "  \n",
    "# acquire API grid meteorology data\n",
    "bj_gm_url <- paste0(\"https://biendata.com/competition/meteorology/bj_grid/\",startDate,\"/\",endDate,\"/2k0d1d8\")\n",
    "bj_gm_file <- getURL(bj_gm_url, ssl.verifyhost=FALSE, ssl.verifypeer=FALSE)\n",
    "bj_gm_data <- read.csv(textConnection(bj_gm_file), header=TRUE)"
   ]
  },
  {
   "cell_type": "code",
   "execution_count": 7,
   "metadata": {},
   "outputs": [
    {
     "data": {
      "text/html": [
       "<ol class=list-inline>\n",
       "\t<li>'bj_gm_data'</li>\n",
       "\t<li>'bj_aq_data'</li>\n",
       "</ol>\n"
      ],
      "text/latex": [
       "\\begin{enumerate*}\n",
       "\\item 'bj\\_gm\\_data'\n",
       "\\item 'bj\\_aq\\_data'\n",
       "\\end{enumerate*}\n"
      ],
      "text/markdown": [
       "1. 'bj_gm_data'\n",
       "2. 'bj_aq_data'\n",
       "\n",
       "\n"
      ],
      "text/plain": [
       "[1] \"bj_gm_data\" \"bj_aq_data\""
      ]
     },
     "metadata": {},
     "output_type": "display_data"
    }
   ],
   "source": [
    "# list of available data frames\n",
    "df.list <- names(which(unlist(eapply(.GlobalEnv,is.data.frame))))\n",
    "df.list"
   ]
  },
  {
   "cell_type": "code",
   "execution_count": 8,
   "metadata": {
    "collapsed": true
   },
   "outputs": [],
   "source": [
    "# Converting character to datetime\n",
    "bj_gm_data$time <- anytime(bj_gm_data$time)\n",
    "bj_aq_data$time <- anytime(bj_aq_data$time)"
   ]
  },
  {
   "cell_type": "code",
   "execution_count": 9,
   "metadata": {},
   "outputs": [
    {
     "name": "stdout",
     "output_type": "stream",
     "text": [
      "[1] \"bj_gm_data\"\n",
      "'data.frame':\t785704 obs. of  9 variables:\n",
      " $ id            : int  2000958 2000959 2000960 2000961 2000962 2000963 2000964 2000965 2000966 2000967 ...\n",
      " $ station_id    : Factor w/ 651 levels \"beijing_grid_000\",..: 1 2 3 4 5 6 7 8 9 10 ...\n",
      " $ time          : POSIXct, format: \"2018-03-31 07:00:00\" \"2018-03-31 07:00:00\" ...\n",
      " $ weather       : Factor w/ 9 levels \"CLEAR_DAY\",\"CLEAR_NIGHT\",..: 5 5 5 5 5 5 5 5 5 5 ...\n",
      " $ temperature   : num  24 24 25 25 25 25 25 26 22.4 22.4 ...\n",
      " $ pressure      : num  973 960 946 931 914 ...\n",
      " $ humidity      : num  23 21 19 18 16 15 15 16 16 17 ...\n",
      " $ wind_direction: num  161 165 170 184 221 ...\n",
      " $ wind_speed    : num  14.28 13.3 12.42 9.84 7.39 ...\n",
      "NULL\n",
      "[1] \"bj_aq_data\"\n",
      "'data.frame':\t40495 obs. of  9 variables:\n",
      " $ id                : int  2941450 2941451 2941452 2941453 2941454 2941455 2941456 2941457 2941458 2941459 ...\n",
      " $ station_id        : Factor w/ 35 levels \"aotizhongxin_aq\",..: 7 24 11 27 1 19 26 3 35 10 ...\n",
      " $ time              : POSIXct, format: \"2018-03-31 07:00:00\" \"2018-03-31 07:00:00\" ...\n",
      " $ PM25_Concentration: num  105 95 95 99 117 100 95 104 NA 111 ...\n",
      " $ PM10_Concentration: num  172 123 139 172 166 150 139 236 NA 162 ...\n",
      " $ NO2_Concentration : num  53 54 66 58 67 62 82 75 NA 65 ...\n",
      " $ CO_Concentration  : num  0.8 0.9 0.8 1 0.8 0.8 1 0.9 NA 0.9 ...\n",
      " $ O3_Concentration  : num  127 121 123 119 111 127 104 98 NA 119 ...\n",
      " $ SO2_Concentration : num  14 15 13 14 14 15 13 9 NA 13 ...\n",
      "NULL\n"
     ]
    }
   ],
   "source": [
    "# printing structure of all the datasets\n",
    "for (i in 1:length(df.list)) {\n",
    " print(df.list[i])\n",
    "  print(str(get(df.list[i])))\n",
    "}"
   ]
  },
  {
   "cell_type": "code",
   "execution_count": 10,
   "metadata": {},
   "outputs": [
    {
     "name": "stdout",
     "output_type": "stream",
     "text": [
      "[1] \"bj_gm_data\"\n"
     ]
    },
    {
     "data": {
      "text/html": [
       "<table>\n",
       "<thead><tr><th scope=col>min_date</th><th scope=col>max_date</th></tr></thead>\n",
       "<tbody>\n",
       "\t<tr><td>2018-03-31 07:00:00</td><td>2018-05-21         </td></tr>\n",
       "</tbody>\n",
       "</table>\n"
      ],
      "text/latex": [
       "\\begin{tabular}{r|ll}\n",
       " min\\_date & max\\_date\\\\\n",
       "\\hline\n",
       "\t 2018-03-31 07:00:00 & 2018-05-21         \\\\\n",
       "\\end{tabular}\n"
      ],
      "text/markdown": [
       "\n",
       "min_date | max_date | \n",
       "|---|\n",
       "| 2018-03-31 07:00:00 | 2018-05-21          | \n",
       "\n",
       "\n"
      ],
      "text/plain": [
       "  min_date            max_date  \n",
       "1 2018-03-31 07:00:00 2018-05-21"
      ]
     },
     "metadata": {},
     "output_type": "display_data"
    },
    {
     "name": "stdout",
     "output_type": "stream",
     "text": [
      "[1] \"bj_aq_data\"\n"
     ]
    },
    {
     "data": {
      "text/html": [
       "<table>\n",
       "<thead><tr><th scope=col>min_date</th><th scope=col>max_date</th></tr></thead>\n",
       "<tbody>\n",
       "\t<tr><td>2018-03-31 07:00:00</td><td>2018-05-20 23:00:00</td></tr>\n",
       "</tbody>\n",
       "</table>\n"
      ],
      "text/latex": [
       "\\begin{tabular}{r|ll}\n",
       " min\\_date & max\\_date\\\\\n",
       "\\hline\n",
       "\t 2018-03-31 07:00:00 & 2018-05-20 23:00:00\\\\\n",
       "\\end{tabular}\n"
      ],
      "text/markdown": [
       "\n",
       "min_date | max_date | \n",
       "|---|\n",
       "| 2018-03-31 07:00:00 | 2018-05-20 23:00:00 | \n",
       "\n",
       "\n"
      ],
      "text/plain": [
       "  min_date            max_date           \n",
       "1 2018-03-31 07:00:00 2018-05-20 23:00:00"
      ]
     },
     "metadata": {},
     "output_type": "display_data"
    }
   ],
   "source": [
    "# Printing the min and max dates of all datasets\n",
    "print(\"bj_gm_data\")\n",
    "bj_gm_data %>% summarize(min_date = min(time), max_date = max(time))\n",
    "print(\"bj_aq_data\")\n",
    "bj_aq_data %>% summarize(min_date = min(time), max_date = max(time))"
   ]
  },
  {
   "cell_type": "code",
   "execution_count": 11,
   "metadata": {
    "collapsed": true
   },
   "outputs": [],
   "source": [
    "# using only required columns\n",
    "bj_aq_data <- bj_aq_data %>% select(-id)\n",
    "bj_gm_data <- bj_gm_data %>% select(-c(id, weather))"
   ]
  },
  {
   "cell_type": "code",
   "execution_count": 12,
   "metadata": {
    "collapsed": true
   },
   "outputs": [],
   "source": [
    "# Beijing closest grids to stations\n",
    "bj_closest_stations <- read.csv('SL_beijing_closest_stations.csv')\n",
    "colnames(bj_closest_stations) <- c('x',\"stationId\",\"stationName\",\"distance\") "
   ]
  },
  {
   "cell_type": "code",
   "execution_count": 14,
   "metadata": {
    "collapsed": true
   },
   "outputs": [],
   "source": [
    "# Modifying column names for consistency\n",
    "colnames(bj_aq_data) <- c(\"stationId\",\"utc_time\",\"PM2.5\",\"PM10\",\"NO2\",\"CO\",\"O3\", \"SO2\") \n",
    "colnames(bj_gm_data) <- c(\"stationName\",\"utc_time\",\"temperature\",\"pressure\",\"humidity\",\"wind_direction\",\"wind_speed.kph\") "
   ]
  },
  {
   "cell_type": "code",
   "execution_count": 15,
   "metadata": {},
   "outputs": [
    {
     "name": "stdout",
     "output_type": "stream",
     "text": [
      "'data.frame':\t35 obs. of  4 variables:\n",
      " $ x          : int  1 2 3 4 5 6 7 8 9 10 ...\n",
      " $ stationId  : Factor w/ 35 levels \"aotizhongxin_aq\",..: 7 24 11 27 1 19 26 3 35 10 ...\n",
      " $ stationName: Factor w/ 26 levels \"beijing_grid_216\",..: 16 16 13 16 17 19 14 9 8 13 ...\n",
      " $ distance   : num  3540 1669 4638 4776 2020 ...\n",
      "'data.frame':\t785704 obs. of  7 variables:\n",
      " $ stationName   : Factor w/ 651 levels \"beijing_grid_000\",..: 1 2 3 4 5 6 7 8 9 10 ...\n",
      " $ utc_time      : POSIXct, format: \"2018-03-31 07:00:00\" \"2018-03-31 07:00:00\" ...\n",
      " $ temperature   : num  24 24 25 25 25 25 25 26 22.4 22.4 ...\n",
      " $ pressure      : num  973 960 946 931 914 ...\n",
      " $ humidity      : num  23 21 19 18 16 15 15 16 16 17 ...\n",
      " $ wind_direction: num  161 165 170 184 221 ...\n",
      " $ wind_speed.kph: num  14.28 13.3 12.42 9.84 7.39 ...\n",
      "'data.frame':\t40495 obs. of  8 variables:\n",
      " $ stationId: Factor w/ 35 levels \"aotizhongxin_aq\",..: 7 24 11 27 1 19 26 3 35 10 ...\n",
      " $ utc_time : POSIXct, format: \"2018-03-31 07:00:00\" \"2018-03-31 07:00:00\" ...\n",
      " $ PM2.5    : num  105 95 95 99 117 100 95 104 NA 111 ...\n",
      " $ PM10     : num  172 123 139 172 166 150 139 236 NA 162 ...\n",
      " $ NO2      : num  53 54 66 58 67 62 82 75 NA 65 ...\n",
      " $ CO       : num  0.8 0.9 0.8 1 0.8 0.8 1 0.9 NA 0.9 ...\n",
      " $ O3       : num  127 121 123 119 111 127 104 98 NA 119 ...\n",
      " $ SO2      : num  14 15 13 14 14 15 13 9 NA 13 ...\n"
     ]
    },
    {
     "data": {
      "text/html": [
       "<table>\n",
       "<thead><tr><th scope=col>x</th><th scope=col>stationId</th><th scope=col>stationName</th><th scope=col>distance</th></tr></thead>\n",
       "<tbody>\n",
       "\t<tr><td>1               </td><td>dongsi_aq       </td><td>beijing_grid_303</td><td>3539.569        </td></tr>\n",
       "\t<tr><td>2               </td><td>tiantan_aq      </td><td>beijing_grid_303</td><td>1669.215        </td></tr>\n",
       "\t<tr><td>3               </td><td>guanyuan_aq     </td><td>beijing_grid_282</td><td>4637.889        </td></tr>\n",
       "\t<tr><td>4               </td><td>wanshouxigong_aq</td><td>beijing_grid_303</td><td>4775.641        </td></tr>\n",
       "\t<tr><td>5               </td><td>aotizhongxin_aq </td><td>beijing_grid_304</td><td>2020.020        </td></tr>\n",
       "\t<tr><td>6               </td><td>nongzhanguan_aq </td><td>beijing_grid_324</td><td>5296.386        </td></tr>\n",
       "</tbody>\n",
       "</table>\n"
      ],
      "text/latex": [
       "\\begin{tabular}{r|llll}\n",
       " x & stationId & stationName & distance\\\\\n",
       "\\hline\n",
       "\t 1                    & dongsi\\_aq          & beijing\\_grid\\_303 & 3539.569            \\\\\n",
       "\t 2                    & tiantan\\_aq         & beijing\\_grid\\_303 & 1669.215            \\\\\n",
       "\t 3                    & guanyuan\\_aq        & beijing\\_grid\\_282 & 4637.889            \\\\\n",
       "\t 4                    & wanshouxigong\\_aq   & beijing\\_grid\\_303 & 4775.641            \\\\\n",
       "\t 5                    & aotizhongxin\\_aq    & beijing\\_grid\\_304 & 2020.020            \\\\\n",
       "\t 6                    & nongzhanguan\\_aq    & beijing\\_grid\\_324 & 5296.386            \\\\\n",
       "\\end{tabular}\n"
      ],
      "text/markdown": [
       "\n",
       "x | stationId | stationName | distance | \n",
       "|---|---|---|---|---|---|\n",
       "| 1                | dongsi_aq        | beijing_grid_303 | 3539.569         | \n",
       "| 2                | tiantan_aq       | beijing_grid_303 | 1669.215         | \n",
       "| 3                | guanyuan_aq      | beijing_grid_282 | 4637.889         | \n",
       "| 4                | wanshouxigong_aq | beijing_grid_303 | 4775.641         | \n",
       "| 5                | aotizhongxin_aq  | beijing_grid_304 | 2020.020         | \n",
       "| 6                | nongzhanguan_aq  | beijing_grid_324 | 5296.386         | \n",
       "\n",
       "\n"
      ],
      "text/plain": [
       "  x stationId        stationName      distance\n",
       "1 1 dongsi_aq        beijing_grid_303 3539.569\n",
       "2 2 tiantan_aq       beijing_grid_303 1669.215\n",
       "3 3 guanyuan_aq      beijing_grid_282 4637.889\n",
       "4 4 wanshouxigong_aq beijing_grid_303 4775.641\n",
       "5 5 aotizhongxin_aq  beijing_grid_304 2020.020\n",
       "6 6 nongzhanguan_aq  beijing_grid_324 5296.386"
      ]
     },
     "metadata": {},
     "output_type": "display_data"
    }
   ],
   "source": [
    "str(bj_closest_stations)\n",
    "str(bj_gm_data)\n",
    "str(bj_aq_data)\n",
    "head(bj_closest_stations)"
   ]
  },
  {
   "cell_type": "code",
   "execution_count": 16,
   "metadata": {
    "collapsed": true
   },
   "outputs": [],
   "source": [
    "# Mapping stationIds with respective grids\n",
    "bj_aq_map <- merge(bj_aq_data,bj_closest_stations, by = \"stationId\")"
   ]
  },
  {
   "cell_type": "code",
   "execution_count": 17,
   "metadata": {
    "collapsed": true
   },
   "outputs": [],
   "source": [
    "# Merge of AirQuality and Meteorology data\n",
    "bj_aq_gm_data <- merge(bj_aq_map, bj_gm_data, by = c(\"stationName\",\"utc_time\"))"
   ]
  },
  {
   "cell_type": "code",
   "execution_count": 18,
   "metadata": {},
   "outputs": [
    {
     "name": "stdout",
     "output_type": "stream",
     "text": [
      "'data.frame':\t40177 obs. of  16 variables:\n",
      " $ stationName   : Factor w/ 26 levels \"beijing_grid_216\",..: 1 1 1 1 1 1 1 1 1 1 ...\n",
      " $ utc_time      : POSIXct, format: \"2018-03-31 07:00:00\" \"2018-03-31 08:00:00\" ...\n",
      " $ stationId     : Factor w/ 35 levels \"aotizhongxin_aq\",..: 14 14 14 14 14 14 14 14 14 14 ...\n",
      " $ PM2.5         : num  105 120 121 137 146 270 160 180 136 149 ...\n",
      " $ PM10          : num  163 185 185 212 254 323 297 280 204 219 ...\n",
      " $ NO2           : num  45 52 55 59 68 59 85 76 61 87 ...\n",
      " $ CO            : num  0.8 0.9 0.9 1 1 1.1 1.1 1.1 1.1 1.2 ...\n",
      " $ O3            : num  137 140 141 132 106 96 46 45 50 7 ...\n",
      " $ SO2           : num  6 NA NA NA NA 20 8 NA NA NA ...\n",
      " $ x             : int  30 30 30 30 30 30 30 30 30 30 ...\n",
      " $ distance      : num  2226 2226 2226 2226 2226 ...\n",
      " $ temperature   : num  22 23 23 24 20 19 17 13 14 12.4 ...\n",
      " $ pressure      : num  1001 1000 1000 999 1000 ...\n",
      " $ humidity      : num  20 20 22 24 28 31 32 32 31 32 ...\n",
      " $ wind_direction: num  159 174 188 205 232 ...\n",
      " $ wind_speed.kph: num  10.63 10.96 10.21 9.83 7.27 ...\n"
     ]
    },
    {
     "data": {
      "text/html": [
       "<table>\n",
       "<thead><tr><th scope=col>stationName</th><th scope=col>utc_time</th><th scope=col>stationId</th><th scope=col>PM2.5</th><th scope=col>PM10</th><th scope=col>NO2</th><th scope=col>CO</th><th scope=col>O3</th><th scope=col>SO2</th><th scope=col>x</th><th scope=col>distance</th><th scope=col>temperature</th><th scope=col>pressure</th><th scope=col>humidity</th><th scope=col>wind_direction</th><th scope=col>wind_speed.kph</th></tr></thead>\n",
       "<tbody>\n",
       "\t<tr><td>beijing_grid_216   </td><td>2018-03-31 07:00:00</td><td>liulihe_aq         </td><td>105                </td><td>163                </td><td>45                 </td><td>0.8                </td><td>137                </td><td> 6                 </td><td>30                 </td><td>2226.39            </td><td>22                 </td><td>1000.8969          </td><td>20                 </td><td>159.45             </td><td>10.63              </td></tr>\n",
       "\t<tr><td>beijing_grid_216   </td><td>2018-03-31 08:00:00</td><td>liulihe_aq         </td><td>120                </td><td>185                </td><td>52                 </td><td>0.9                </td><td>140                </td><td>NA                 </td><td>30                 </td><td>2226.39            </td><td>23                 </td><td>1000.0580          </td><td>20                 </td><td>173.73             </td><td>10.96              </td></tr>\n",
       "\t<tr><td>beijing_grid_216   </td><td>2018-03-31 09:00:00</td><td>liulihe_aq         </td><td>121                </td><td>185                </td><td>55                 </td><td>0.9                </td><td>141                </td><td>NA                 </td><td>30                 </td><td>2226.39            </td><td>23                 </td><td> 999.5212          </td><td>22                 </td><td>188.34             </td><td>10.21              </td></tr>\n",
       "\t<tr><td>beijing_grid_216   </td><td>2018-03-31 10:00:00</td><td>liulihe_aq         </td><td>137                </td><td>212                </td><td>59                 </td><td>1.0                </td><td>132                </td><td>NA                 </td><td>30                 </td><td>2226.39            </td><td>24                 </td><td> 999.4476          </td><td>24                 </td><td>204.63             </td><td> 9.83              </td></tr>\n",
       "\t<tr><td>beijing_grid_216   </td><td>2018-03-31 11:00:00</td><td>liulihe_aq         </td><td>146                </td><td>254                </td><td>68                 </td><td>1.0                </td><td>106                </td><td>NA                 </td><td>30                 </td><td>2226.39            </td><td>20                 </td><td> 999.6694          </td><td>28                 </td><td>232.00             </td><td> 7.27              </td></tr>\n",
       "\t<tr><td>beijing_grid_216   </td><td>2018-03-31 12:00:00</td><td>liulihe_aq         </td><td>270                </td><td>323                </td><td>59                 </td><td>1.1                </td><td> 96                </td><td>20                 </td><td>30                 </td><td>2226.39            </td><td>19                 </td><td>1000.0671          </td><td>31                 </td><td>268.92             </td><td> 6.59              </td></tr>\n",
       "</tbody>\n",
       "</table>\n"
      ],
      "text/latex": [
       "\\begin{tabular}{r|llllllllllllllll}\n",
       " stationName & utc\\_time & stationId & PM2.5 & PM10 & NO2 & CO & O3 & SO2 & x & distance & temperature & pressure & humidity & wind\\_direction & wind\\_speed.kph\\\\\n",
       "\\hline\n",
       "\t beijing\\_grid\\_216 & 2018-03-31 07:00:00  & liulihe\\_aq         & 105                  & 163                  & 45                   & 0.8                  & 137                  &  6                   & 30                   & 2226.39              & 22                   & 1000.8969            & 20                   & 159.45               & 10.63               \\\\\n",
       "\t beijing\\_grid\\_216 & 2018-03-31 08:00:00  & liulihe\\_aq         & 120                  & 185                  & 52                   & 0.9                  & 140                  & NA                   & 30                   & 2226.39              & 23                   & 1000.0580            & 20                   & 173.73               & 10.96               \\\\\n",
       "\t beijing\\_grid\\_216 & 2018-03-31 09:00:00  & liulihe\\_aq         & 121                  & 185                  & 55                   & 0.9                  & 141                  & NA                   & 30                   & 2226.39              & 23                   &  999.5212            & 22                   & 188.34               & 10.21               \\\\\n",
       "\t beijing\\_grid\\_216 & 2018-03-31 10:00:00  & liulihe\\_aq         & 137                  & 212                  & 59                   & 1.0                  & 132                  & NA                   & 30                   & 2226.39              & 24                   &  999.4476            & 24                   & 204.63               &  9.83               \\\\\n",
       "\t beijing\\_grid\\_216 & 2018-03-31 11:00:00  & liulihe\\_aq         & 146                  & 254                  & 68                   & 1.0                  & 106                  & NA                   & 30                   & 2226.39              & 20                   &  999.6694            & 28                   & 232.00               &  7.27               \\\\\n",
       "\t beijing\\_grid\\_216 & 2018-03-31 12:00:00  & liulihe\\_aq         & 270                  & 323                  & 59                   & 1.1                  &  96                  & 20                   & 30                   & 2226.39              & 19                   & 1000.0671            & 31                   & 268.92               &  6.59               \\\\\n",
       "\\end{tabular}\n"
      ],
      "text/markdown": [
       "\n",
       "stationName | utc_time | stationId | PM2.5 | PM10 | NO2 | CO | O3 | SO2 | x | distance | temperature | pressure | humidity | wind_direction | wind_speed.kph | \n",
       "|---|---|---|---|---|---|\n",
       "| beijing_grid_216    | 2018-03-31 07:00:00 | liulihe_aq          | 105                 | 163                 | 45                  | 0.8                 | 137                 |  6                  | 30                  | 2226.39             | 22                  | 1000.8969           | 20                  | 159.45              | 10.63               | \n",
       "| beijing_grid_216    | 2018-03-31 08:00:00 | liulihe_aq          | 120                 | 185                 | 52                  | 0.9                 | 140                 | NA                  | 30                  | 2226.39             | 23                  | 1000.0580           | 20                  | 173.73              | 10.96               | \n",
       "| beijing_grid_216    | 2018-03-31 09:00:00 | liulihe_aq          | 121                 | 185                 | 55                  | 0.9                 | 141                 | NA                  | 30                  | 2226.39             | 23                  |  999.5212           | 22                  | 188.34              | 10.21               | \n",
       "| beijing_grid_216    | 2018-03-31 10:00:00 | liulihe_aq          | 137                 | 212                 | 59                  | 1.0                 | 132                 | NA                  | 30                  | 2226.39             | 24                  |  999.4476           | 24                  | 204.63              |  9.83               | \n",
       "| beijing_grid_216    | 2018-03-31 11:00:00 | liulihe_aq          | 146                 | 254                 | 68                  | 1.0                 | 106                 | NA                  | 30                  | 2226.39             | 20                  |  999.6694           | 28                  | 232.00              |  7.27               | \n",
       "| beijing_grid_216    | 2018-03-31 12:00:00 | liulihe_aq          | 270                 | 323                 | 59                  | 1.1                 |  96                 | 20                  | 30                  | 2226.39             | 19                  | 1000.0671           | 31                  | 268.92              |  6.59               | \n",
       "\n",
       "\n"
      ],
      "text/plain": [
       "  stationName      utc_time            stationId  PM2.5 PM10 NO2 CO  O3  SO2 x \n",
       "1 beijing_grid_216 2018-03-31 07:00:00 liulihe_aq 105   163  45  0.8 137  6  30\n",
       "2 beijing_grid_216 2018-03-31 08:00:00 liulihe_aq 120   185  52  0.9 140 NA  30\n",
       "3 beijing_grid_216 2018-03-31 09:00:00 liulihe_aq 121   185  55  0.9 141 NA  30\n",
       "4 beijing_grid_216 2018-03-31 10:00:00 liulihe_aq 137   212  59  1.0 132 NA  30\n",
       "5 beijing_grid_216 2018-03-31 11:00:00 liulihe_aq 146   254  68  1.0 106 NA  30\n",
       "6 beijing_grid_216 2018-03-31 12:00:00 liulihe_aq 270   323  59  1.1  96 20  30\n",
       "  distance temperature pressure  humidity wind_direction wind_speed.kph\n",
       "1 2226.39  22          1000.8969 20       159.45         10.63         \n",
       "2 2226.39  23          1000.0580 20       173.73         10.96         \n",
       "3 2226.39  23           999.5212 22       188.34         10.21         \n",
       "4 2226.39  24           999.4476 24       204.63          9.83         \n",
       "5 2226.39  20           999.6694 28       232.00          7.27         \n",
       "6 2226.39  19          1000.0671 31       268.92          6.59         "
      ]
     },
     "metadata": {},
     "output_type": "display_data"
    },
    {
     "data": {
      "text/html": [
       "<table>\n",
       "<thead><tr><th scope=col>min_date</th><th scope=col>max_date</th></tr></thead>\n",
       "<tbody>\n",
       "\t<tr><td>2018-03-31 07:00:00</td><td>2018-05-20 23:00:00</td></tr>\n",
       "</tbody>\n",
       "</table>\n"
      ],
      "text/latex": [
       "\\begin{tabular}{r|ll}\n",
       " min\\_date & max\\_date\\\\\n",
       "\\hline\n",
       "\t 2018-03-31 07:00:00 & 2018-05-20 23:00:00\\\\\n",
       "\\end{tabular}\n"
      ],
      "text/markdown": [
       "\n",
       "min_date | max_date | \n",
       "|---|\n",
       "| 2018-03-31 07:00:00 | 2018-05-20 23:00:00 | \n",
       "\n",
       "\n"
      ],
      "text/plain": [
       "  min_date            max_date           \n",
       "1 2018-03-31 07:00:00 2018-05-20 23:00:00"
      ]
     },
     "metadata": {},
     "output_type": "display_data"
    }
   ],
   "source": [
    "str(bj_aq_gm_data)\n",
    "head(bj_aq_gm_data)\n",
    "bj_aq_gm_data %>% summarize(min_date = min(utc_time), max_date = max(utc_time))"
   ]
  },
  {
   "cell_type": "code",
   "execution_count": 19,
   "metadata": {},
   "outputs": [],
   "source": [
    "# selecting only required columns\n",
    "bj_aq_gm_data <- bj_aq_gm_data %>% select(c(\"stationName\",\"utc_time\",\"stationId\",\"PM2.5\",\"PM10\", \"O3\",\n",
    "                                            \"temperature\",\"pressure\",\"humidity\",\"wind_direction\",\"wind_speed.kph\"))"
   ]
  },
  {
   "cell_type": "code",
   "execution_count": 20,
   "metadata": {
    "collapsed": true
   },
   "outputs": [],
   "source": [
    "# adding additional columns for modeling\n",
    "bj_aq_gm_data$hour <- hour(bj_aq_gm_data$utc_time)\n",
    "bj_aq_gm_data$month <- month(bj_aq_gm_data$utc_time)\n",
    "bj_aq_gm_data$date <- date(bj_aq_gm_data$utc_time)\n",
    "bj_aq_gm_data$weekend = chron::is.weekend(bj_aq_gm_data$date)"
   ]
  },
  {
   "cell_type": "code",
   "execution_count": 21,
   "metadata": {},
   "outputs": [
    {
     "name": "stdout",
     "output_type": "stream",
     "text": [
      "'data.frame':\t40177 obs. of  15 variables:\n",
      " $ stationName   : Factor w/ 26 levels \"beijing_grid_216\",..: 1 1 1 1 1 1 1 1 1 1 ...\n",
      " $ utc_time      : POSIXct, format: \"2018-03-31 07:00:00\" \"2018-03-31 08:00:00\" ...\n",
      " $ stationId     : Factor w/ 35 levels \"aotizhongxin_aq\",..: 14 14 14 14 14 14 14 14 14 14 ...\n",
      " $ PM2.5         : num  105 120 121 137 146 270 160 180 136 149 ...\n",
      " $ PM10          : num  163 185 185 212 254 323 297 280 204 219 ...\n",
      " $ O3            : num  137 140 141 132 106 96 46 45 50 7 ...\n",
      " $ temperature   : num  22 23 23 24 20 19 17 13 14 12.4 ...\n",
      " $ pressure      : num  1001 1000 1000 999 1000 ...\n",
      " $ humidity      : num  20 20 22 24 28 31 32 32 31 32 ...\n",
      " $ wind_direction: num  159 174 188 205 232 ...\n",
      " $ wind_speed.kph: num  10.63 10.96 10.21 9.83 7.27 ...\n",
      " $ hour          : int  7 8 9 10 11 12 13 14 15 17 ...\n",
      " $ month         : num  3 3 3 3 3 3 3 3 3 3 ...\n",
      " $ date          : Date, format: \"2018-03-31\" \"2018-03-31\" ...\n",
      " $ weekend       : logi  TRUE TRUE TRUE TRUE TRUE TRUE ...\n"
     ]
    }
   ],
   "source": [
    "str(bj_aq_gm_data)"
   ]
  },
  {
   "cell_type": "markdown",
   "metadata": {},
   "source": [
    "### Import and transformations of Historical data"
   ]
  },
  {
   "cell_type": "code",
   "execution_count": 22,
   "metadata": {
    "collapsed": true
   },
   "outputs": [],
   "source": [
    "# retreiving historical files\n",
    "bj_aq_gm_hist_file <- \"Ready for Modeling/bj_aq_gm_hist_data.csv\"\n",
    "bj_aq_gm_hist_data <- read.csv(bj_aq_gm_hist_file, header=TRUE, sep=\",\", stringsAsFactors = FALSE)"
   ]
  },
  {
   "cell_type": "code",
   "execution_count": 24,
   "metadata": {
    "collapsed": true
   },
   "outputs": [],
   "source": [
    "# data transformations for consistency\n",
    "bj_aq_gm_hist_data <- bj_aq_gm_hist_data %>% select(-X)\n",
    "bj_aq_gm_hist_data$utc_time <- anytime(bj_aq_gm_hist_data$utc_time)\n",
    "bj_aq_gm_hist_data$date <- as.Date(bj_aq_gm_hist_data$date , \"%Y-%m-%d\")"
   ]
  },
  {
   "cell_type": "code",
   "execution_count": 26,
   "metadata": {},
   "outputs": [
    {
     "name": "stdout",
     "output_type": "stream",
     "text": [
      "'data.frame':\t356825 obs. of  15 variables:\n",
      " $ stationName   : chr  \"beijing_grid_216\" \"beijing_grid_216\" \"beijing_grid_216\" \"beijing_grid_216\" ...\n",
      " $ utc_time      : POSIXct, format: \"2017-01-01 14:00:00\" \"2017-01-01 15:00:00\" ...\n",
      " $ stationId     : chr  \"liulihe_aq\" \"liulihe_aq\" \"liulihe_aq\" \"liulihe_aq\" ...\n",
      " $ PM2.5         : int  376 369 361 354 356 315 287 254 231 224 ...\n",
      " $ PM10          : int  447 407 389 NA 360 NA NA NA NA NA ...\n",
      " $ O3            : int  2 2 2 2 2 2 NA 2 2 2 ...\n",
      " $ temperature   : num  -2.22 -2.37 -2.58 -2.79 -2.99 -3.3 -3.6 -3.9 -4.11 -4.33 ...\n",
      " $ pressure      : num  1015 1015 1015 1015 1015 ...\n",
      " $ humidity      : num  62.9 65.8 65.3 64.9 64.5 ...\n",
      " $ wind_direction: num  284 298 308 319 330 ...\n",
      " $ wind_speed.kph: num  4.28 4.39 4.19 4.14 4.24 4.1 3.99 3.92 2.97 2.25 ...\n",
      " $ hour          : int  14 15 16 17 18 19 20 21 22 23 ...\n",
      " $ month         : int  1 1 1 1 1 1 1 1 1 1 ...\n",
      " $ date          : Date, format: \"2017-01-01\" \"2017-01-01\" ...\n",
      " $ weekend       : logi  TRUE TRUE TRUE TRUE TRUE TRUE ...\n"
     ]
    }
   ],
   "source": [
    "str(bj_aq_gm_hist_data)"
   ]
  },
  {
   "cell_type": "code",
   "execution_count": 27,
   "metadata": {
    "collapsed": true
   },
   "outputs": [],
   "source": [
    "# Append API and hist data\n",
    "bj_aq_gm_combined_data <- rbind(bj_aq_gm_data, bj_aq_gm_hist_data)"
   ]
  },
  {
   "cell_type": "code",
   "execution_count": 28,
   "metadata": {},
   "outputs": [
    {
     "name": "stdout",
     "output_type": "stream",
     "text": [
      "'data.frame':\t397002 obs. of  15 variables:\n",
      " $ stationName   : Factor w/ 26 levels \"beijing_grid_216\",..: 1 1 1 1 1 1 1 1 1 1 ...\n",
      " $ utc_time      : POSIXct, format: \"2018-03-31 07:00:00\" \"2018-03-31 08:00:00\" ...\n",
      " $ stationId     : Factor w/ 35 levels \"aotizhongxin_aq\",..: 14 14 14 14 14 14 14 14 14 14 ...\n",
      " $ PM2.5         : num  105 120 121 137 146 270 160 180 136 149 ...\n",
      " $ PM10          : num  163 185 185 212 254 323 297 280 204 219 ...\n",
      " $ O3            : num  137 140 141 132 106 96 46 45 50 7 ...\n",
      " $ temperature   : num  22 23 23 24 20 19 17 13 14 12.4 ...\n",
      " $ pressure      : num  1001 1000 1000 999 1000 ...\n",
      " $ humidity      : num  20 20 22 24 28 31 32 32 31 32 ...\n",
      " $ wind_direction: num  159 174 188 205 232 ...\n",
      " $ wind_speed.kph: num  10.63 10.96 10.21 9.83 7.27 ...\n",
      " $ hour          : int  7 8 9 10 11 12 13 14 15 17 ...\n",
      " $ month         : num  3 3 3 3 3 3 3 3 3 3 ...\n",
      " $ date          : Date, format: \"2018-03-31\" \"2018-03-31\" ...\n",
      " $ weekend       : logi  TRUE TRUE TRUE TRUE TRUE TRUE ...\n"
     ]
    },
    {
     "data": {
      "text/html": [
       "<table>\n",
       "<thead><tr><th scope=col>min_date</th><th scope=col>max_date</th></tr></thead>\n",
       "<tbody>\n",
       "\t<tr><td>2017-01-01</td><td>2018-05-20</td></tr>\n",
       "</tbody>\n",
       "</table>\n"
      ],
      "text/latex": [
       "\\begin{tabular}{r|ll}\n",
       " min\\_date & max\\_date\\\\\n",
       "\\hline\n",
       "\t 2017-01-01 & 2018-05-20\\\\\n",
       "\\end{tabular}\n"
      ],
      "text/markdown": [
       "\n",
       "min_date | max_date | \n",
       "|---|\n",
       "| 2017-01-01 | 2018-05-20 | \n",
       "\n",
       "\n"
      ],
      "text/plain": [
       "  min_date   max_date  \n",
       "1 2017-01-01 2018-05-20"
      ]
     },
     "metadata": {},
     "output_type": "display_data"
    }
   ],
   "source": [
    "str(bj_aq_gm_combined_data)\n",
    "bj_aq_gm_combined_data %>% summarize(min_date = min(date), max_date = max(date))"
   ]
  },
  {
   "cell_type": "code",
   "execution_count": 29,
   "metadata": {
    "collapsed": true
   },
   "outputs": [],
   "source": [
    "# removing NA rows\n",
    "bj_aq_gm_combined_data_final <- bj_aq_gm_combined_data[complete.cases(bj_aq_gm_combined_data),]"
   ]
  },
  {
   "cell_type": "code",
   "execution_count": 30,
   "metadata": {
    "collapsed": true
   },
   "outputs": [],
   "source": [
    "# converting logical weekend value to numeric for modeling\n",
    "bj_aq_gm_combined_data_final$weekend <- as.integer(bj_aq_gm_combined_data_final$weekend)"
   ]
  },
  {
   "cell_type": "code",
   "execution_count": 31,
   "metadata": {},
   "outputs": [
    {
     "data": {
      "text/plain": [
       "           stationName        utc_time                  \n",
       " beijing_grid_303: 49146   Min.   :2017-01-01 14:00:00  \n",
       " beijing_grid_282: 17856   1st Qu.:2017-05-12 18:00:00  \n",
       " beijing_grid_283: 16728   Median :2017-10-03 11:00:00  \n",
       " beijing_grid_324: 16126   Mean   :2017-09-23 09:13:04  \n",
       " beijing_grid_452: 12934   3rd Qu.:2018-01-20 09:00:00  \n",
       " beijing_grid_301:  9683   Max.   :2018-05-20 20:00:00  \n",
       " (Other)         :162811                                \n",
       "             stationId          PM2.5              PM10              O3       \n",
       " daxing_aq        :  9683   Min.   :   2.00   Min.   :   5.0   Min.   :  1.0  \n",
       " badaling_aq      :  9281   1st Qu.:  15.00   1st Qu.:  40.0   1st Qu.: 14.0  \n",
       " fangshan_aq      :  9233   Median :  36.00   Median :  74.0   Median : 49.0  \n",
       " mentougou_aq     :  9134   Mean   :  52.15   Mean   :  92.8   Mean   : 58.4  \n",
       " gucheng_aq       :  9001   3rd Qu.:  70.00   3rd Qu.: 120.0   3rd Qu.: 82.0  \n",
       " fengtaihuayuan_aq:  8928   Max.   :1000.00   Max.   :3000.0   Max.   :500.0  \n",
       " (Other)          :230024                                                     \n",
       "  temperature        pressure         humidity     wind_direction \n",
       " Min.   :-18.37   Min.   : 917.6   Min.   : 4.59   Min.   :  0.0  \n",
       " 1st Qu.:  0.07   1st Qu.: 993.1   1st Qu.:20.49   1st Qu.:115.2  \n",
       " Median : 10.81   Median :1005.1   Median :29.97   Median :195.9  \n",
       " Mean   : 10.85   Mean   :1001.3   Mean   :34.21   Mean   :197.2  \n",
       " 3rd Qu.: 21.49   3rd Qu.:1016.3   3rd Qu.:44.70   3rd Qu.:304.8  \n",
       " Max.   : 36.08   Max.   :1039.4   Max.   :98.22   Max.   :360.0  \n",
       "                                                                  \n",
       " wind_speed.kph        hour           month             date           \n",
       " Min.   : 0.010   Min.   : 0.00   Min.   : 1.000   Min.   :2017-01-01  \n",
       " 1st Qu.: 4.700   1st Qu.: 6.00   1st Qu.: 3.000   1st Qu.:2017-05-12  \n",
       " Median : 7.670   Median :12.00   Median : 5.000   Median :2017-10-03  \n",
       " Mean   : 9.148   Mean   :11.48   Mean   : 5.673   Mean   :2017-09-22  \n",
       " 3rd Qu.:11.980   3rd Qu.:17.00   3rd Qu.: 9.000   3rd Qu.:2018-01-20  \n",
       " Max.   :52.880   Max.   :23.00   Max.   :12.000   Max.   :2018-05-20  \n",
       "                                                                       \n",
       "    weekend     \n",
       " Min.   :0.000  \n",
       " 1st Qu.:0.000  \n",
       " Median :0.000  \n",
       " Mean   :0.293  \n",
       " 3rd Qu.:1.000  \n",
       " Max.   :1.000  \n",
       "                "
      ]
     },
     "metadata": {},
     "output_type": "display_data"
    }
   ],
   "source": [
    "summary(bj_aq_gm_combined_data_final)"
   ]
  },
  {
   "cell_type": "markdown",
   "metadata": {},
   "source": [
    "### Model Training and validation"
   ]
  },
  {
   "cell_type": "code",
   "execution_count": 32,
   "metadata": {
    "collapsed": true
   },
   "outputs": [],
   "source": [
    "set.seed(7821)"
   ]
  },
  {
   "cell_type": "code",
   "execution_count": 33,
   "metadata": {
    "collapsed": true
   },
   "outputs": [],
   "source": [
    "# Training and test data set partition\n",
    "sample_size <- floor(0.8 * nrow(bj_aq_gm_combined_data_final))\n",
    "train_index <- sample(seq_len(nrow(bj_aq_gm_combined_data_final)), size = sample_size)\n",
    "train_bj <- bj_aq_gm_combined_data_final[train_index, ]\n",
    "test_bj <- bj_aq_gm_combined_data_final[-train_index, ]"
   ]
  },
  {
   "cell_type": "code",
   "execution_count": 61,
   "metadata": {},
   "outputs": [
    {
     "name": "stdout",
     "output_type": "stream",
     "text": [
      "'data.frame':\t228204 obs. of  15 variables:\n",
      " $ stationName   : Factor w/ 26 levels \"beijing_grid_216\",..: 16 13 18 1 2 21 1 7 22 5 ...\n",
      " $ utc_time      : POSIXct, format: \"2017-03-03 09:00:00\" \"2018-02-03 16:00:00\" ...\n",
      " $ stationId     : Factor w/ 35 levels \"aotizhongxin_aq\",..: 27 11 30 14 2 25 14 12 23 34 ...\n",
      " $ PM2.5         : num  110 3 8 33 32 45 69 16 15 68 ...\n",
      " $ PM10          : num  168 8 104 59 45 92 116 57 77 139 ...\n",
      " $ O3            : num  50 66 76 63 190 22 4 79 49 86 ...\n",
      " $ temperature   : num  12.2 -4.5 17 13.1 28.8 ...\n",
      " $ pressure      : num  1009 1029 1016 1009 933 ...\n",
      " $ humidity      : num  24.2 21.7 15.9 27 41.7 ...\n",
      " $ wind_direction: num  112 341 329 257 165 ...\n",
      " $ wind_speed.kph: num  17.43 11.98 21.33 8.48 14.83 ...\n",
      " $ hour          : int  9 16 8 18 7 3 17 1 16 5 ...\n",
      " $ month         : num  3 2 11 3 6 12 1 12 4 4 ...\n",
      " $ date          : Date, format: \"2017-03-03\" \"2018-02-03\" ...\n",
      " $ weekend       : int  0 1 0 1 0 0 0 1 0 0 ...\n",
      "'data.frame':\t57052 obs. of  15 variables:\n",
      " $ stationName   : Factor w/ 26 levels \"beijing_grid_216\",..: 1 1 1 1 1 1 1 1 1 1 ...\n",
      " $ utc_time      : POSIXct, format: \"2018-03-31 12:00:00\" \"2018-03-31 14:00:00\" ...\n",
      " $ stationId     : Factor w/ 35 levels \"aotizhongxin_aq\",..: 14 14 14 14 14 14 14 14 14 14 ...\n",
      " $ PM2.5         : num  270 180 149 218 99 110 278 241 19 23 ...\n",
      " $ PM10          : num  323 280 219 258 198 295 310 354 228 149 ...\n",
      " $ O3            : num  96 45 7 164 176 2 26 166 65 72 ...\n",
      " $ temperature   : num  19 13 12.4 24 26 13 17 24 13 13 ...\n",
      " $ pressure      : num  1000 1001 1001 999 995 ...\n",
      " $ humidity      : num  31 32 32 24 15 31 32 34 38 32 ...\n",
      " $ wind_direction: num  268.9 309.7 11.8 194.8 208.6 ...\n",
      " $ wind_speed.kph: num  6.59 7.47 6.86 12.97 21.7 ...\n",
      " $ hour          : int  12 14 17 5 9 21 1 11 3 5 ...\n",
      " $ month         : num  3 3 3 4 4 4 4 4 4 4 ...\n",
      " $ date          : Date, format: \"2018-03-31\" \"2018-03-31\" ...\n",
      " $ weekend       : int  1 1 1 1 1 1 0 0 0 0 ...\n"
     ]
    }
   ],
   "source": [
    "str(train_bj)\n",
    "str(test_bj)"
   ]
  },
  {
   "cell_type": "code",
   "execution_count": 47,
   "metadata": {},
   "outputs": [
    {
     "data": {
      "text/plain": [
       "\n",
       "Call:\n",
       "lm(formula = .outcome ~ ., data = dat)\n",
       "\n",
       "Residuals:\n",
       "   Min     1Q Median     3Q    Max \n",
       "-85.02 -34.25 -14.83  18.23 932.52 \n",
       "\n",
       "Coefficients:\n",
       "                            Estimate Std. Error t value Pr(>|t|)    \n",
       "(Intercept)                 57.32279    0.73502  77.988  < 2e-16 ***\n",
       "stationIdbadaling_aq        -6.02534    0.94053  -6.406 1.49e-10 ***\n",
       "stationIdbeibuxinqu_aq       2.42267    0.97007   2.497 0.012511 *  \n",
       "stationIddaxing_aq          10.91906    0.93409  11.690  < 2e-16 ***\n",
       "stationIddingling_aq       -11.49854    0.96206 -11.952  < 2e-16 ***\n",
       "stationIddonggaocun_aq     -12.76691    1.05944 -12.051  < 2e-16 ***\n",
       "stationIddongsi_aq           7.80218    0.95321   8.185 2.73e-16 ***\n",
       "stationIddongsihuan_aq       8.24017    0.99612   8.272  < 2e-16 ***\n",
       "stationIdfangshan_aq         7.89979    0.94449   8.364  < 2e-16 ***\n",
       "stationIdfengtaihuayuan_aq   8.95377    0.95010   9.424  < 2e-16 ***\n",
       "stationIdguanyuan_aq         5.26709    0.95255   5.529 3.22e-08 ***\n",
       "stationIdgucheng_aq          7.15817    0.95056   7.530 5.07e-14 ***\n",
       "stationIdhuairou_aq         -5.08007    0.96761  -5.250 1.52e-07 ***\n",
       "stationIdliulihe_aq         30.14542    1.02520  29.405  < 2e-16 ***\n",
       "stationIdmentougou_aq        0.78079    0.94627   0.825 0.409300    \n",
       "stationIdmiyun_aq           -2.77442    0.96615  -2.872 0.004084 ** \n",
       "stationIdmiyunshuiku_aq    -13.95691    1.02103 -13.669  < 2e-16 ***\n",
       "stationIdnansanhuan_aq      12.65277    0.99352  12.735  < 2e-16 ***\n",
       "stationIdnongzhanguan_aq     5.62672    0.95883   5.868 4.41e-09 ***\n",
       "stationIdpingchang_aq       -4.49301    0.95248  -4.717 2.39e-06 ***\n",
       "stationIdpinggu_aq          -0.60230    1.01809  -0.592 0.554118    \n",
       "stationIdqianmen_aq          3.83538    0.98695   3.886 0.000102 ***\n",
       "stationIdshunyi_aq          -0.19999    0.96932  -0.206 0.836539    \n",
       "stationIdtiantan_aq          4.30590    0.95470   4.510 6.48e-06 ***\n",
       "stationIdtongzhou_aq        10.18840    0.96804  10.525  < 2e-16 ***\n",
       "stationIdwanliu_aq           0.75072    0.95598   0.785 0.432284    \n",
       "stationIdwanshouxigong_aq    4.91610    0.95744   5.135 2.83e-07 ***\n",
       "stationIdxizhimenbei_aq      1.81696    0.98354   1.847 0.064695 .  \n",
       "stationIdyanqin_aq          -3.55566    0.95775  -3.713 0.000205 ***\n",
       "stationIdyizhuang_aq         5.38157    0.96146   5.597 2.18e-08 ***\n",
       "stationIdyongdingmennei_aq  -0.35227    0.99892  -0.353 0.724347    \n",
       "stationIdyongledian_aq      10.06994    1.00749   9.995  < 2e-16 ***\n",
       "stationIdyufa_aq            12.79755    1.00280  12.762  < 2e-16 ***\n",
       "stationIdyungang_aq          1.45544    0.95156   1.530 0.126134    \n",
       "stationIdzhiwuyuan_aq       -5.81069    1.15796  -5.018 5.22e-07 ***\n",
       "hour                         0.09753    0.01722   5.665 1.47e-08 ***\n",
       "month                       -1.69406    0.03293 -51.441  < 2e-16 ***\n",
       "weekend                      1.68692    0.25914   6.510 7.54e-11 ***\n",
       "---\n",
       "Signif. codes:  0 '***' 0.001 '**' 0.01 '*' 0.05 '.' 0.1 ' ' 1\n",
       "\n",
       "Residual standard error: 56.35 on 228189 degrees of freedom\n",
       "Multiple R-squared:  0.03062,\tAdjusted R-squared:  0.03046 \n",
       "F-statistic: 194.8 on 37 and 228189 DF,  p-value: < 2.2e-16\n"
      ]
     },
     "metadata": {},
     "output_type": "display_data"
    },
    {
     "data": {
      "text/html": [
       "<table>\n",
       "<thead><tr><th scope=col>rmse</th><th scope=col>rsq</th></tr></thead>\n",
       "<tbody>\n",
       "\t<tr><td>55.65508  </td><td>0.03233573</td></tr>\n",
       "</tbody>\n",
       "</table>\n"
      ],
      "text/latex": [
       "\\begin{tabular}{r|ll}\n",
       " rmse & rsq\\\\\n",
       "\\hline\n",
       "\t 55.65508   & 0.03233573\\\\\n",
       "\\end{tabular}\n"
      ],
      "text/markdown": [
       "\n",
       "rmse | rsq | \n",
       "|---|\n",
       "| 55.65508   | 0.03233573 | \n",
       "\n",
       "\n"
      ],
      "text/plain": [
       "  rmse     rsq       \n",
       "1 55.65508 0.03233573"
      ]
     },
     "metadata": {},
     "output_type": "display_data"
    }
   ],
   "source": [
    "# Predicting PM2.5 using stationId, hour, month and weekend variables\n",
    "PM2.5_bj_formula <- as.formula(\"PM2.5 ~ stationId + hour + month + weekend\")\n",
    "PM2.5_bj_model <- train(PM2.5_bj_formula, data = train_bj, method = \"lm\" )\n",
    "summary(PM2.5_bj_model)\n",
    "test_bj$PM2.5_pred <- predict(PM2.5_bj_model, test_bj)\n",
    "metrics(test_bj, truth = PM2.5, estimate = PM2.5_pred)"
   ]
  },
  {
   "cell_type": "code",
   "execution_count": 48,
   "metadata": {},
   "outputs": [
    {
     "data": {
      "text/plain": [
       "\n",
       "Call:\n",
       "lm(formula = .outcome ~ ., data = dat)\n",
       "\n",
       "Residuals:\n",
       "    Min      1Q  Median      3Q     Max \n",
       "-289.29  -22.94   -9.60   10.34 2861.80 \n",
       "\n",
       "Coefficients:\n",
       "                            Estimate Std. Error t value Pr(>|t|)    \n",
       "(Intercept)                26.161289   0.665040  39.338  < 2e-16 ***\n",
       "PM2.5                       1.249117   0.001869 668.215  < 2e-16 ***\n",
       "stationIdbadaling_aq       13.900738   0.839936  16.550  < 2e-16 ***\n",
       "stationIdbeibuxinqu_aq     13.256318   0.866249  15.303  < 2e-16 ***\n",
       "stationIddaxing_aq         12.073491   0.834355  14.470  < 2e-16 ***\n",
       "stationIddingling_aq       -2.831597   0.859357  -3.295 0.000984 ***\n",
       "stationIddonggaocun_aq     -4.925737   0.946345  -5.205 1.94e-07 ***\n",
       "stationIddongsi_aq          2.048812   0.851309   2.407 0.016100 *  \n",
       "stationIddongsihuan_aq     12.766482   0.889634  14.350  < 2e-16 ***\n",
       "stationIdfangshan_aq       15.091879   0.843526  17.891  < 2e-16 ***\n",
       "stationIdfengtaihuayuan_aq  8.195970   0.848570   9.659  < 2e-16 ***\n",
       "stationIdguanyuan_aq        4.688895   0.850646   5.512 3.55e-08 ***\n",
       "stationIdgucheng_aq         5.457825   0.848924   6.429 1.29e-10 ***\n",
       "stationIdhuairou_aq        -1.321340   0.864091  -1.529 0.126224    \n",
       "stationIdliulihe_aq        16.052302   0.917196  17.502  < 2e-16 ***\n",
       "stationIdmentougou_aq       5.720925   0.844986   6.770 1.29e-11 ***\n",
       "stationIdmiyun_aq          -1.628228   0.862750  -1.887 0.059127 .  \n",
       "stationIdmiyunshuiku_aq    -4.472092   0.912121  -4.903 9.45e-07 ***\n",
       "stationIdnansanhuan_aq      7.463694   0.887496   8.410  < 2e-16 ***\n",
       "stationIdnongzhanguan_aq    4.045794   0.856267   4.725 2.30e-06 ***\n",
       "stationIdpingchang_aq       1.365244   0.850568   1.605 0.108474    \n",
       "stationIdpinggu_aq         -7.883213   0.909118  -8.671  < 2e-16 ***\n",
       "stationIdqianmen_aq        -0.389228   0.881342  -0.442 0.658757    \n",
       "stationIdshunyi_aq          0.203587   0.865565   0.235 0.814048    \n",
       "stationIdtiantan_aq         2.130279   0.852551   2.499 0.012465 *  \n",
       "stationIdtongzhou_aq       10.372060   0.864631  11.996  < 2e-16 ***\n",
       "stationIdwanliu_aq          3.457588   0.853659   4.050 5.12e-05 ***\n",
       "stationIdwanshouxigong_aq   2.966344   0.855007   3.469 0.000522 ***\n",
       "stationIdxizhimenbei_aq     0.494818   0.878271   0.563 0.573163    \n",
       "stationIdyanqin_aq          5.097353   0.855259   5.960 2.53e-09 ***\n",
       "stationIdyizhuang_aq        1.275524   0.858611   1.486 0.137395    \n",
       "stationIdyongdingmennei_aq  0.132734   0.892000   0.149 0.881707    \n",
       "stationIdyongledian_aq      4.456982   0.899853   4.953 7.31e-07 ***\n",
       "stationIdyufa_aq           -1.112100   0.895780  -1.241 0.214427    \n",
       "stationIdyungang_aq         0.923698   0.849714   1.087 0.277008    \n",
       "stationIdzhiwuyuan_aq      -4.928611   1.034077  -4.766 1.88e-06 ***\n",
       "hour                       -0.091840   0.015375  -5.973 2.33e-09 ***\n",
       "month                      -0.290516   0.029577  -9.822  < 2e-16 ***\n",
       "weekend                     1.064684   0.231420   4.601 4.21e-06 ***\n",
       "---\n",
       "Signif. codes:  0 '***' 0.001 '**' 0.01 '*' 0.05 '.' 0.1 ' ' 1\n",
       "\n",
       "Residual standard error: 50.31 on 228188 degrees of freedom\n",
       "Multiple R-squared:  0.6738,\tAdjusted R-squared:  0.6737 \n",
       "F-statistic: 1.24e+04 on 38 and 228188 DF,  p-value: < 2.2e-16\n"
      ]
     },
     "metadata": {},
     "output_type": "display_data"
    },
    {
     "data": {
      "text/html": [
       "<table>\n",
       "<thead><tr><th scope=col>rmse</th><th scope=col>rsq</th></tr></thead>\n",
       "<tbody>\n",
       "\t<tr><td>49.85478</td><td>0.668695</td></tr>\n",
       "</tbody>\n",
       "</table>\n"
      ],
      "text/latex": [
       "\\begin{tabular}{r|ll}\n",
       " rmse & rsq\\\\\n",
       "\\hline\n",
       "\t 49.85478 & 0.668695\\\\\n",
       "\\end{tabular}\n"
      ],
      "text/markdown": [
       "\n",
       "rmse | rsq | \n",
       "|---|\n",
       "| 49.85478 | 0.668695 | \n",
       "\n",
       "\n"
      ],
      "text/plain": [
       "  rmse     rsq     \n",
       "1 49.85478 0.668695"
      ]
     },
     "metadata": {},
     "output_type": "display_data"
    }
   ],
   "source": [
    "# Predicting PM10 using stationId, hour, month, weekend variables along with previously predicted PM2.5 \n",
    "PM10_bj_formula <- as.formula(\"PM10 ~ PM2.5 + stationId + hour + month + weekend\")\n",
    "PM10_bj_model <- train(PM10_bj_formula, data = train_bj, method = \"lm\" )\n",
    "summary(PM10_bj_model)\n",
    "test_bj$PM10_pred <- predict(PM10_bj_model, test_bj)\n",
    "metrics(test_bj, truth = PM10, estimate = PM10_pred)"
   ]
  },
  {
   "cell_type": "code",
   "execution_count": 49,
   "metadata": {},
   "outputs": [
    {
     "data": {
      "text/plain": [
       "\n",
       "Call:\n",
       "lm(formula = .outcome ~ ., data = dat)\n",
       "\n",
       "Residuals:\n",
       "    Min      1Q  Median      3Q     Max \n",
       "-229.15  -34.36   -9.92   19.40  483.59 \n",
       "\n",
       "Coefficients:\n",
       "                             Estimate Std. Error  t value Pr(>|t|)    \n",
       "(Intercept)                 87.387665   0.671343  130.169  < 2e-16 ***\n",
       "PM2.5                       -0.178171   0.003234  -55.095  < 2e-16 ***\n",
       "PM10                         0.104188   0.002106   49.469  < 2e-16 ***\n",
       "stationIdbadaling_aq        -5.859957   0.845543   -6.930 4.21e-12 ***\n",
       "stationIdbeibuxinqu_aq      -8.111106   0.871956   -9.302  < 2e-16 ***\n",
       "stationIddaxing_aq          -4.254343   0.839806   -5.066 4.07e-07 ***\n",
       "stationIddingling_aq        13.696761   0.864595   15.842  < 2e-16 ***\n",
       "stationIddonggaocun_aq      11.630832   0.952147   12.215  < 2e-16 ***\n",
       "stationIddongsi_aq          -0.801638   0.856489   -0.936 0.349296    \n",
       "stationIddongsihuan_aq     -24.329869   0.895439  -27.171  < 2e-16 ***\n",
       "stationIdfangshan_aq         1.210980   0.849242    1.426 0.153883    \n",
       "stationIdfengtaihuayuan_aq  -8.874392   0.853896  -10.393  < 2e-16 ***\n",
       "stationIdguanyuan_aq        -1.140846   0.855867   -1.333 0.182543    \n",
       "stationIdgucheng_aq         -2.116170   0.854156   -2.477 0.013231 *  \n",
       "stationIdhuairou_aq          9.478342   0.869342   10.903  < 2e-16 ***\n",
       "stationIdliulihe_aq        -14.728942   0.923384  -15.951  < 2e-16 ***\n",
       "stationIdmentougou_aq       12.034636   0.850201   14.155  < 2e-16 ***\n",
       "stationIdmiyun_aq            3.632789   0.867995    4.185 2.85e-05 ***\n",
       "stationIdmiyunshuiku_aq     25.933634   0.917707   28.259  < 2e-16 ***\n",
       "stationIdnansanhuan_aq     -27.458927   0.893022  -30.748  < 2e-16 ***\n",
       "stationIdnongzhanguan_aq    -0.814249   0.861508   -0.945 0.344586    \n",
       "stationIdpingchang_aq       -0.642747   0.855737   -0.751 0.452591    \n",
       "stationIdpinggu_aq          15.437342   0.914789   16.875  < 2e-16 ***\n",
       "stationIdqianmen_aq         -5.718150   0.886694   -6.449 1.13e-10 ***\n",
       "stationIdshunyi_aq           1.087746   0.870820    1.249 0.211628    \n",
       "stationIdtiantan_aq         -5.263803   0.857739   -6.137 8.43e-10 ***\n",
       "stationIdtongzhou_aq        -2.530735   0.870155   -2.908 0.003633 ** \n",
       "stationIdwanliu_aq          -5.568676   0.858873   -6.484 8.97e-11 ***\n",
       "stationIdwanshouxigong_aq   -4.678822   0.860221   -5.439 5.36e-08 ***\n",
       "stationIdxizhimenbei_aq     -9.179186   0.883605  -10.388  < 2e-16 ***\n",
       "stationIdyanqin_aq           3.269916   0.860518    3.800 0.000145 ***\n",
       "stationIdyizhuang_aq        -2.152078   0.863828   -2.491 0.012727 *  \n",
       "stationIdyongdingmennei_aq -14.061063   0.897416  -15.668  < 2e-16 ***\n",
       "stationIdyongledian_aq      -0.603871   0.905365   -0.667 0.504778    \n",
       "stationIdyufa_aq            -1.308705   0.901221   -1.452 0.146462    \n",
       "stationIdyungang_aq          8.441396   0.854876    9.874  < 2e-16 ***\n",
       "stationIdzhiwuyuan_aq       18.069322   1.040407   17.368  < 2e-16 ***\n",
       "hour                        -1.907677   0.015469 -123.321  < 2e-16 ***\n",
       "month                       -1.080246   0.029763  -36.295  < 2e-16 ***\n",
       "weekend                     -1.036283   0.232836   -4.451 8.56e-06 ***\n",
       "---\n",
       "Signif. codes:  0 '***' 0.001 '**' 0.01 '*' 0.05 '.' 0.1 ' ' 1\n",
       "\n",
       "Residual standard error: 50.62 on 228187 degrees of freedom\n",
       "Multiple R-squared:  0.1116,\tAdjusted R-squared:  0.1114 \n",
       "F-statistic: 734.7 on 39 and 228187 DF,  p-value: < 2.2e-16\n"
      ]
     },
     "metadata": {},
     "output_type": "display_data"
    },
    {
     "data": {
      "text/html": [
       "<table>\n",
       "<thead><tr><th scope=col>rmse</th><th scope=col>rsq</th></tr></thead>\n",
       "<tbody>\n",
       "\t<tr><td>51.06523 </td><td>0.1067947</td></tr>\n",
       "</tbody>\n",
       "</table>\n"
      ],
      "text/latex": [
       "\\begin{tabular}{r|ll}\n",
       " rmse & rsq\\\\\n",
       "\\hline\n",
       "\t 51.06523  & 0.1067947\\\\\n",
       "\\end{tabular}\n"
      ],
      "text/markdown": [
       "\n",
       "rmse | rsq | \n",
       "|---|\n",
       "| 51.06523  | 0.1067947 | \n",
       "\n",
       "\n"
      ],
      "text/plain": [
       "  rmse     rsq      \n",
       "1 51.06523 0.1067947"
      ]
     },
     "metadata": {},
     "output_type": "display_data"
    }
   ],
   "source": [
    "# Predicting O3 using stationId, hour, month, weekend variables along with previously predicted PM2.5, PM10 and O3 variables\n",
    "O3_bj_formula <- as.formula(\"O3 ~ PM2.5 + PM10 + stationId + hour + month + weekend\")\n",
    "O3_bj_model <- train(O3_bj_formula, data = train_bj, method = \"lm\" )\n",
    "summary(O3_bj_model)\n",
    "test_bj$O3_pred <- predict(O3_bj_model, test_bj)\n",
    "metrics(test_bj, truth = O3, estimate = O3_pred)"
   ]
  },
  {
   "cell_type": "markdown",
   "metadata": {},
   "source": [
    "### Building the next 2 days dataset and predicting PM2.5, PM10 and O3 values"
   ]
  },
  {
   "cell_type": "code",
   "execution_count": 60,
   "metadata": {
    "collapsed": true
   },
   "outputs": [],
   "source": [
    "#setting system timezone to UTC for consistent datetime usage\n",
    "Sys.setenv(TZ='GMT')\n",
    "tomorrow <- Sys.Date() + 1"
   ]
  },
  {
   "cell_type": "code",
   "execution_count": 61,
   "metadata": {
    "collapsed": true
   },
   "outputs": [],
   "source": [
    "# building 1 hour intervals for next 2 days and stationIds\n",
    "bj_time <-seq(from= as.POSIXct(tomorrow), by = \"1 hour\", length.out = 48)\n",
    "bj_time <- with_tz(bj_time, tzone = \"UTC\")\n",
    "bj_future_data <- data.frame(bj_time)\n",
    "# This id will be used in the creation of final submission file\n",
    "bj_future_data$id <- seq.int(nrow(bj_future_data)) -1\n",
    "bj_future_data <- merge(bj_future_data, data.frame(unique(bj_aq_gm_combined_data$stationId)))\n",
    "names(bj_future_data) <- c(\"utc_time\", \"id\", \"stationId\")"
   ]
  },
  {
   "cell_type": "code",
   "execution_count": 62,
   "metadata": {
    "collapsed": true
   },
   "outputs": [],
   "source": [
    "# building datetime features for the next 2 days\n",
    "bj_future_data$hour <- hour(bj_future_data$utc_time)\n",
    "bj_future_data$month <- month(bj_future_data$utc_time)\n",
    "bj_future_data$date <- date(bj_future_data$utc_time)\n",
    "bj_future_data$weekend = chron::is.weekend(bj_future_data$date)"
   ]
  },
  {
   "cell_type": "code",
   "execution_count": 63,
   "metadata": {
    "collapsed": true
   },
   "outputs": [],
   "source": [
    "bj_future_data$weekend <- as.integer(bj_future_data$weekend)"
   ]
  },
  {
   "cell_type": "code",
   "execution_count": 64,
   "metadata": {
    "collapsed": true
   },
   "outputs": [],
   "source": [
    "# predicting PM2.5, PM10 and O3 values\n",
    "bj_future_data$PM2.5 <- predict(PM2.5_bj_model, bj_future_data)\n",
    "bj_future_data$PM10 <- predict(PM10_bj_model, bj_future_data)\n",
    "bj_future_data$O3 <- predict(O3_bj_model, bj_future_data)"
   ]
  },
  {
   "cell_type": "code",
   "execution_count": 65,
   "metadata": {
    "collapsed": true
   },
   "outputs": [],
   "source": [
    "#creating the test_id for final submission file\n",
    "bj_future_data$test_id <- paste(bj_future_data$stationId, \"#\", bj_future_data$id, sep = \"\")"
   ]
  },
  {
   "cell_type": "code",
   "execution_count": 66,
   "metadata": {},
   "outputs": [
    {
     "name": "stdout",
     "output_type": "stream",
     "text": [
      "'data.frame':\t1680 obs. of  11 variables:\n",
      " $ utc_time : POSIXct, format: \"2018-05-22 00:00:00\" \"2018-05-22 01:00:00\" ...\n",
      " $ id       : num  0 1 2 3 4 5 6 7 8 9 ...\n",
      " $ stationId: Factor w/ 35 levels \"aotizhongxin_aq\",..: 14 14 14 14 14 14 14 14 14 14 ...\n",
      " $ hour     : int  0 1 2 3 4 5 6 7 8 9 ...\n",
      " $ month    : num  5 5 5 5 5 5 5 5 5 5 ...\n",
      " $ date     : Date, format: \"2018-05-22\" \"2018-05-22\" ...\n",
      " $ weekend  : int  0 0 0 0 0 0 0 0 0 0 ...\n",
      " $ PM2.5    : num  79 79.1 79.2 79.3 79.4 ...\n",
      " $ PM10     : num  139 139 139 140 140 ...\n",
      " $ O3       : num  67.7 65.8 63.9 61.9 60 ...\n",
      " $ test_id  : chr  \"liulihe_aq#0\" \"liulihe_aq#1\" \"liulihe_aq#2\" \"liulihe_aq#3\" ...\n"
     ]
    }
   ],
   "source": [
    "str(bj_future_data)"
   ]
  },
  {
   "cell_type": "code",
   "execution_count": 67,
   "metadata": {},
   "outputs": [
    {
     "data": {
      "text/html": [
       "<table>\n",
       "<thead><tr><th scope=col>utc_time</th><th scope=col>id</th><th scope=col>stationId</th><th scope=col>hour</th><th scope=col>month</th><th scope=col>date</th><th scope=col>weekend</th><th scope=col>PM2.5</th><th scope=col>PM10</th><th scope=col>O3</th><th scope=col>test_id</th></tr></thead>\n",
       "<tbody>\n",
       "\t<tr><td>2018-05-22 00:00:00</td><td> 0                 </td><td>liulihe_aq         </td><td> 0                 </td><td>5                  </td><td>2018-05-22         </td><td>0                  </td><td>78.99788           </td><td>139.4386           </td><td>67.71018           </td><td>liulihe_aq#0       </td></tr>\n",
       "\t<tr><td>2018-05-22 01:00:00</td><td> 1                 </td><td>liulihe_aq         </td><td> 1                 </td><td>5                  </td><td>2018-05-22         </td><td>0                  </td><td>79.09542           </td><td>139.4686           </td><td>65.78825           </td><td>liulihe_aq#1       </td></tr>\n",
       "\t<tr><td>2018-05-22 02:00:00</td><td> 2                 </td><td>liulihe_aq         </td><td> 2                 </td><td>5                  </td><td>2018-05-22         </td><td>0                  </td><td>79.19295           </td><td>139.4986           </td><td>63.86632           </td><td>liulihe_aq#2       </td></tr>\n",
       "\t<tr><td>2018-05-22 03:00:00</td><td> 3                 </td><td>liulihe_aq         </td><td> 3                 </td><td>5                  </td><td>2018-05-22         </td><td>0                  </td><td>79.29048           </td><td>139.5285           </td><td>61.94439           </td><td>liulihe_aq#3       </td></tr>\n",
       "\t<tr><td>2018-05-22 04:00:00</td><td> 4                 </td><td>liulihe_aq         </td><td> 4                 </td><td>5                  </td><td>2018-05-22         </td><td>0                  </td><td>79.38802           </td><td>139.5585           </td><td>60.02246           </td><td>liulihe_aq#4       </td></tr>\n",
       "\t<tr><td>2018-05-22 05:00:00</td><td> 5                 </td><td>liulihe_aq         </td><td> 5                 </td><td>5                  </td><td>2018-05-22         </td><td>0                  </td><td>79.48555           </td><td>139.5885           </td><td>58.10053           </td><td>liulihe_aq#5       </td></tr>\n",
       "\t<tr><td>2018-05-22 06:00:00</td><td> 6                 </td><td>liulihe_aq         </td><td> 6                 </td><td>5                  </td><td>2018-05-22         </td><td>0                  </td><td>79.58308           </td><td>139.6185           </td><td>56.17860           </td><td>liulihe_aq#6       </td></tr>\n",
       "\t<tr><td>2018-05-22 07:00:00</td><td> 7                 </td><td>liulihe_aq         </td><td> 7                 </td><td>5                  </td><td>2018-05-22         </td><td>0                  </td><td>79.68062           </td><td>139.6485           </td><td>54.25667           </td><td>liulihe_aq#7       </td></tr>\n",
       "\t<tr><td>2018-05-22 08:00:00</td><td> 8                 </td><td>liulihe_aq         </td><td> 8                 </td><td>5                  </td><td>2018-05-22         </td><td>0                  </td><td>79.77815           </td><td>139.6785           </td><td>52.33474           </td><td>liulihe_aq#8       </td></tr>\n",
       "\t<tr><td>2018-05-22 09:00:00</td><td> 9                 </td><td>liulihe_aq         </td><td> 9                 </td><td>5                  </td><td>2018-05-22         </td><td>0                  </td><td>79.87568           </td><td>139.7085           </td><td>50.41281           </td><td>liulihe_aq#9       </td></tr>\n",
       "\t<tr><td>2018-05-22 10:00:00</td><td>10                 </td><td>liulihe_aq         </td><td>10                 </td><td>5                  </td><td>2018-05-22         </td><td>0                  </td><td>79.97322           </td><td>139.7385           </td><td>48.49088           </td><td>liulihe_aq#10      </td></tr>\n",
       "\t<tr><td>2018-05-22 11:00:00</td><td>11                 </td><td>liulihe_aq         </td><td>11                 </td><td>5                  </td><td>2018-05-22         </td><td>0                  </td><td>80.07075           </td><td>139.7685           </td><td>46.56895           </td><td>liulihe_aq#11      </td></tr>\n",
       "\t<tr><td>2018-05-22 12:00:00</td><td>12                 </td><td>liulihe_aq         </td><td>12                 </td><td>5                  </td><td>2018-05-22         </td><td>0                  </td><td>80.16828           </td><td>139.7985           </td><td>44.64702           </td><td>liulihe_aq#12      </td></tr>\n",
       "\t<tr><td>2018-05-22 13:00:00</td><td>13                 </td><td>liulihe_aq         </td><td>13                 </td><td>5                  </td><td>2018-05-22         </td><td>0                  </td><td>80.26582           </td><td>139.8285           </td><td>42.72509           </td><td>liulihe_aq#13      </td></tr>\n",
       "\t<tr><td>2018-05-22 14:00:00</td><td>14                 </td><td>liulihe_aq         </td><td>14                 </td><td>5                  </td><td>2018-05-22         </td><td>0                  </td><td>80.36335           </td><td>139.8584           </td><td>40.80316           </td><td>liulihe_aq#14      </td></tr>\n",
       "\t<tr><td>2018-05-22 15:00:00</td><td>15                 </td><td>liulihe_aq         </td><td>15                 </td><td>5                  </td><td>2018-05-22         </td><td>0                  </td><td>80.46089           </td><td>139.8884           </td><td>38.88123           </td><td>liulihe_aq#15      </td></tr>\n",
       "\t<tr><td>2018-05-22 16:00:00</td><td>16                 </td><td>liulihe_aq         </td><td>16                 </td><td>5                  </td><td>2018-05-22         </td><td>0                  </td><td>80.55842           </td><td>139.9184           </td><td>36.95930           </td><td>liulihe_aq#16      </td></tr>\n",
       "\t<tr><td>2018-05-22 17:00:00</td><td>17                 </td><td>liulihe_aq         </td><td>17                 </td><td>5                  </td><td>2018-05-22         </td><td>0                  </td><td>80.65595           </td><td>139.9484           </td><td>35.03737           </td><td>liulihe_aq#17      </td></tr>\n",
       "\t<tr><td>2018-05-22 18:00:00</td><td>18                 </td><td>liulihe_aq         </td><td>18                 </td><td>5                  </td><td>2018-05-22         </td><td>0                  </td><td>80.75349           </td><td>139.9784           </td><td>33.11544           </td><td>liulihe_aq#18      </td></tr>\n",
       "\t<tr><td>2018-05-22 19:00:00</td><td>19                 </td><td>liulihe_aq         </td><td>19                 </td><td>5                  </td><td>2018-05-22         </td><td>0                  </td><td>80.85102           </td><td>140.0084           </td><td>31.19351           </td><td>liulihe_aq#19      </td></tr>\n",
       "</tbody>\n",
       "</table>\n"
      ],
      "text/latex": [
       "\\begin{tabular}{r|lllllllllll}\n",
       " utc\\_time & id & stationId & hour & month & date & weekend & PM2.5 & PM10 & O3 & test\\_id\\\\\n",
       "\\hline\n",
       "\t 2018-05-22 00:00:00 &  0                  & liulihe\\_aq        &  0                  & 5                   & 2018-05-22          & 0                   & 78.99788            & 139.4386            & 67.71018            & liulihe\\_aq\\#0   \\\\\n",
       "\t 2018-05-22 01:00:00 &  1                  & liulihe\\_aq        &  1                  & 5                   & 2018-05-22          & 0                   & 79.09542            & 139.4686            & 65.78825            & liulihe\\_aq\\#1   \\\\\n",
       "\t 2018-05-22 02:00:00 &  2                  & liulihe\\_aq        &  2                  & 5                   & 2018-05-22          & 0                   & 79.19295            & 139.4986            & 63.86632            & liulihe\\_aq\\#2   \\\\\n",
       "\t 2018-05-22 03:00:00 &  3                  & liulihe\\_aq        &  3                  & 5                   & 2018-05-22          & 0                   & 79.29048            & 139.5285            & 61.94439            & liulihe\\_aq\\#3   \\\\\n",
       "\t 2018-05-22 04:00:00 &  4                  & liulihe\\_aq        &  4                  & 5                   & 2018-05-22          & 0                   & 79.38802            & 139.5585            & 60.02246            & liulihe\\_aq\\#4   \\\\\n",
       "\t 2018-05-22 05:00:00 &  5                  & liulihe\\_aq        &  5                  & 5                   & 2018-05-22          & 0                   & 79.48555            & 139.5885            & 58.10053            & liulihe\\_aq\\#5   \\\\\n",
       "\t 2018-05-22 06:00:00 &  6                  & liulihe\\_aq        &  6                  & 5                   & 2018-05-22          & 0                   & 79.58308            & 139.6185            & 56.17860            & liulihe\\_aq\\#6   \\\\\n",
       "\t 2018-05-22 07:00:00 &  7                  & liulihe\\_aq        &  7                  & 5                   & 2018-05-22          & 0                   & 79.68062            & 139.6485            & 54.25667            & liulihe\\_aq\\#7   \\\\\n",
       "\t 2018-05-22 08:00:00 &  8                  & liulihe\\_aq        &  8                  & 5                   & 2018-05-22          & 0                   & 79.77815            & 139.6785            & 52.33474            & liulihe\\_aq\\#8   \\\\\n",
       "\t 2018-05-22 09:00:00 &  9                  & liulihe\\_aq        &  9                  & 5                   & 2018-05-22          & 0                   & 79.87568            & 139.7085            & 50.41281            & liulihe\\_aq\\#9   \\\\\n",
       "\t 2018-05-22 10:00:00 & 10                  & liulihe\\_aq        & 10                  & 5                   & 2018-05-22          & 0                   & 79.97322            & 139.7385            & 48.49088            & liulihe\\_aq\\#10  \\\\\n",
       "\t 2018-05-22 11:00:00 & 11                  & liulihe\\_aq        & 11                  & 5                   & 2018-05-22          & 0                   & 80.07075            & 139.7685            & 46.56895            & liulihe\\_aq\\#11  \\\\\n",
       "\t 2018-05-22 12:00:00 & 12                  & liulihe\\_aq        & 12                  & 5                   & 2018-05-22          & 0                   & 80.16828            & 139.7985            & 44.64702            & liulihe\\_aq\\#12  \\\\\n",
       "\t 2018-05-22 13:00:00 & 13                  & liulihe\\_aq        & 13                  & 5                   & 2018-05-22          & 0                   & 80.26582            & 139.8285            & 42.72509            & liulihe\\_aq\\#13  \\\\\n",
       "\t 2018-05-22 14:00:00 & 14                  & liulihe\\_aq        & 14                  & 5                   & 2018-05-22          & 0                   & 80.36335            & 139.8584            & 40.80316            & liulihe\\_aq\\#14  \\\\\n",
       "\t 2018-05-22 15:00:00 & 15                  & liulihe\\_aq        & 15                  & 5                   & 2018-05-22          & 0                   & 80.46089            & 139.8884            & 38.88123            & liulihe\\_aq\\#15  \\\\\n",
       "\t 2018-05-22 16:00:00 & 16                  & liulihe\\_aq        & 16                  & 5                   & 2018-05-22          & 0                   & 80.55842            & 139.9184            & 36.95930            & liulihe\\_aq\\#16  \\\\\n",
       "\t 2018-05-22 17:00:00 & 17                  & liulihe\\_aq        & 17                  & 5                   & 2018-05-22          & 0                   & 80.65595            & 139.9484            & 35.03737            & liulihe\\_aq\\#17  \\\\\n",
       "\t 2018-05-22 18:00:00 & 18                  & liulihe\\_aq        & 18                  & 5                   & 2018-05-22          & 0                   & 80.75349            & 139.9784            & 33.11544            & liulihe\\_aq\\#18  \\\\\n",
       "\t 2018-05-22 19:00:00 & 19                  & liulihe\\_aq        & 19                  & 5                   & 2018-05-22          & 0                   & 80.85102            & 140.0084            & 31.19351            & liulihe\\_aq\\#19  \\\\\n",
       "\\end{tabular}\n"
      ],
      "text/markdown": [
       "\n",
       "utc_time | id | stationId | hour | month | date | weekend | PM2.5 | PM10 | O3 | test_id | \n",
       "|---|---|---|---|---|---|---|---|---|---|---|---|---|---|---|---|---|---|---|---|\n",
       "| 2018-05-22 00:00:00 |  0                  | liulihe_aq          |  0                  | 5                   | 2018-05-22          | 0                   | 78.99788            | 139.4386            | 67.71018            | liulihe_aq#0        | \n",
       "| 2018-05-22 01:00:00 |  1                  | liulihe_aq          |  1                  | 5                   | 2018-05-22          | 0                   | 79.09542            | 139.4686            | 65.78825            | liulihe_aq#1        | \n",
       "| 2018-05-22 02:00:00 |  2                  | liulihe_aq          |  2                  | 5                   | 2018-05-22          | 0                   | 79.19295            | 139.4986            | 63.86632            | liulihe_aq#2        | \n",
       "| 2018-05-22 03:00:00 |  3                  | liulihe_aq          |  3                  | 5                   | 2018-05-22          | 0                   | 79.29048            | 139.5285            | 61.94439            | liulihe_aq#3        | \n",
       "| 2018-05-22 04:00:00 |  4                  | liulihe_aq          |  4                  | 5                   | 2018-05-22          | 0                   | 79.38802            | 139.5585            | 60.02246            | liulihe_aq#4        | \n",
       "| 2018-05-22 05:00:00 |  5                  | liulihe_aq          |  5                  | 5                   | 2018-05-22          | 0                   | 79.48555            | 139.5885            | 58.10053            | liulihe_aq#5        | \n",
       "| 2018-05-22 06:00:00 |  6                  | liulihe_aq          |  6                  | 5                   | 2018-05-22          | 0                   | 79.58308            | 139.6185            | 56.17860            | liulihe_aq#6        | \n",
       "| 2018-05-22 07:00:00 |  7                  | liulihe_aq          |  7                  | 5                   | 2018-05-22          | 0                   | 79.68062            | 139.6485            | 54.25667            | liulihe_aq#7        | \n",
       "| 2018-05-22 08:00:00 |  8                  | liulihe_aq          |  8                  | 5                   | 2018-05-22          | 0                   | 79.77815            | 139.6785            | 52.33474            | liulihe_aq#8        | \n",
       "| 2018-05-22 09:00:00 |  9                  | liulihe_aq          |  9                  | 5                   | 2018-05-22          | 0                   | 79.87568            | 139.7085            | 50.41281            | liulihe_aq#9        | \n",
       "| 2018-05-22 10:00:00 | 10                  | liulihe_aq          | 10                  | 5                   | 2018-05-22          | 0                   | 79.97322            | 139.7385            | 48.49088            | liulihe_aq#10       | \n",
       "| 2018-05-22 11:00:00 | 11                  | liulihe_aq          | 11                  | 5                   | 2018-05-22          | 0                   | 80.07075            | 139.7685            | 46.56895            | liulihe_aq#11       | \n",
       "| 2018-05-22 12:00:00 | 12                  | liulihe_aq          | 12                  | 5                   | 2018-05-22          | 0                   | 80.16828            | 139.7985            | 44.64702            | liulihe_aq#12       | \n",
       "| 2018-05-22 13:00:00 | 13                  | liulihe_aq          | 13                  | 5                   | 2018-05-22          | 0                   | 80.26582            | 139.8285            | 42.72509            | liulihe_aq#13       | \n",
       "| 2018-05-22 14:00:00 | 14                  | liulihe_aq          | 14                  | 5                   | 2018-05-22          | 0                   | 80.36335            | 139.8584            | 40.80316            | liulihe_aq#14       | \n",
       "| 2018-05-22 15:00:00 | 15                  | liulihe_aq          | 15                  | 5                   | 2018-05-22          | 0                   | 80.46089            | 139.8884            | 38.88123            | liulihe_aq#15       | \n",
       "| 2018-05-22 16:00:00 | 16                  | liulihe_aq          | 16                  | 5                   | 2018-05-22          | 0                   | 80.55842            | 139.9184            | 36.95930            | liulihe_aq#16       | \n",
       "| 2018-05-22 17:00:00 | 17                  | liulihe_aq          | 17                  | 5                   | 2018-05-22          | 0                   | 80.65595            | 139.9484            | 35.03737            | liulihe_aq#17       | \n",
       "| 2018-05-22 18:00:00 | 18                  | liulihe_aq          | 18                  | 5                   | 2018-05-22          | 0                   | 80.75349            | 139.9784            | 33.11544            | liulihe_aq#18       | \n",
       "| 2018-05-22 19:00:00 | 19                  | liulihe_aq          | 19                  | 5                   | 2018-05-22          | 0                   | 80.85102            | 140.0084            | 31.19351            | liulihe_aq#19       | \n",
       "\n",
       "\n"
      ],
      "text/plain": [
       "   utc_time            id stationId  hour month date       weekend PM2.5   \n",
       "1  2018-05-22 00:00:00  0 liulihe_aq  0   5     2018-05-22 0       78.99788\n",
       "2  2018-05-22 01:00:00  1 liulihe_aq  1   5     2018-05-22 0       79.09542\n",
       "3  2018-05-22 02:00:00  2 liulihe_aq  2   5     2018-05-22 0       79.19295\n",
       "4  2018-05-22 03:00:00  3 liulihe_aq  3   5     2018-05-22 0       79.29048\n",
       "5  2018-05-22 04:00:00  4 liulihe_aq  4   5     2018-05-22 0       79.38802\n",
       "6  2018-05-22 05:00:00  5 liulihe_aq  5   5     2018-05-22 0       79.48555\n",
       "7  2018-05-22 06:00:00  6 liulihe_aq  6   5     2018-05-22 0       79.58308\n",
       "8  2018-05-22 07:00:00  7 liulihe_aq  7   5     2018-05-22 0       79.68062\n",
       "9  2018-05-22 08:00:00  8 liulihe_aq  8   5     2018-05-22 0       79.77815\n",
       "10 2018-05-22 09:00:00  9 liulihe_aq  9   5     2018-05-22 0       79.87568\n",
       "11 2018-05-22 10:00:00 10 liulihe_aq 10   5     2018-05-22 0       79.97322\n",
       "12 2018-05-22 11:00:00 11 liulihe_aq 11   5     2018-05-22 0       80.07075\n",
       "13 2018-05-22 12:00:00 12 liulihe_aq 12   5     2018-05-22 0       80.16828\n",
       "14 2018-05-22 13:00:00 13 liulihe_aq 13   5     2018-05-22 0       80.26582\n",
       "15 2018-05-22 14:00:00 14 liulihe_aq 14   5     2018-05-22 0       80.36335\n",
       "16 2018-05-22 15:00:00 15 liulihe_aq 15   5     2018-05-22 0       80.46089\n",
       "17 2018-05-22 16:00:00 16 liulihe_aq 16   5     2018-05-22 0       80.55842\n",
       "18 2018-05-22 17:00:00 17 liulihe_aq 17   5     2018-05-22 0       80.65595\n",
       "19 2018-05-22 18:00:00 18 liulihe_aq 18   5     2018-05-22 0       80.75349\n",
       "20 2018-05-22 19:00:00 19 liulihe_aq 19   5     2018-05-22 0       80.85102\n",
       "   PM10     O3       test_id      \n",
       "1  139.4386 67.71018 liulihe_aq#0 \n",
       "2  139.4686 65.78825 liulihe_aq#1 \n",
       "3  139.4986 63.86632 liulihe_aq#2 \n",
       "4  139.5285 61.94439 liulihe_aq#3 \n",
       "5  139.5585 60.02246 liulihe_aq#4 \n",
       "6  139.5885 58.10053 liulihe_aq#5 \n",
       "7  139.6185 56.17860 liulihe_aq#6 \n",
       "8  139.6485 54.25667 liulihe_aq#7 \n",
       "9  139.6785 52.33474 liulihe_aq#8 \n",
       "10 139.7085 50.41281 liulihe_aq#9 \n",
       "11 139.7385 48.49088 liulihe_aq#10\n",
       "12 139.7685 46.56895 liulihe_aq#11\n",
       "13 139.7985 44.64702 liulihe_aq#12\n",
       "14 139.8285 42.72509 liulihe_aq#13\n",
       "15 139.8584 40.80316 liulihe_aq#14\n",
       "16 139.8884 38.88123 liulihe_aq#15\n",
       "17 139.9184 36.95930 liulihe_aq#16\n",
       "18 139.9484 35.03737 liulihe_aq#17\n",
       "19 139.9784 33.11544 liulihe_aq#18\n",
       "20 140.0084 31.19351 liulihe_aq#19"
      ]
     },
     "metadata": {},
     "output_type": "display_data"
    }
   ],
   "source": [
    "head(bj_future_data, 20)"
   ]
  },
  {
   "cell_type": "code",
   "execution_count": 68,
   "metadata": {
    "collapsed": true
   },
   "outputs": [],
   "source": [
    "write.csv(bj_future_data[,c(\"test_id\", \"PM2.5\", \"PM10\", \"O3\")], file = paste(\"bj_submission\", Sys.Date(),\".csv\"), row.names = FALSE)"
   ]
  },
  {
   "cell_type": "code",
   "execution_count": 69,
   "metadata": {
    "collapsed": true
   },
   "outputs": [],
   "source": [
    "# resetting the timezone\n",
    "Sys.unsetenv(\"TZ\")"
   ]
  }
 ],
 "metadata": {
  "kernelspec": {
   "display_name": "R",
   "language": "R",
   "name": "ir"
  },
  "language_info": {
   "codemirror_mode": "r",
   "file_extension": ".r",
   "mimetype": "text/x-r-source",
   "name": "R",
   "pygments_lexer": "r",
   "version": "3.4.2"
  }
 },
 "nbformat": 4,
 "nbformat_minor": 2
}
