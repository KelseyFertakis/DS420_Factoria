{
 "cells": [
  {
   "cell_type": "markdown",
   "metadata": {},
   "source": [
    "### Import and transformations of API data"
   ]
  },
  {
   "cell_type": "code",
   "execution_count": 1,
   "metadata": {},
   "outputs": [
    {
     "data": {
      "text/html": [
       "<strong>null device:</strong> 1"
      ],
      "text/latex": [
       "\\textbf{null device:} 1"
      ],
      "text/markdown": [
       "**null device:** 1"
      ],
      "text/plain": [
       "null device \n",
       "          1 "
      ]
     },
     "metadata": {},
     "output_type": "display_data"
    },
    {
     "name": "stdout",
     "output_type": "stream",
     "text": [
      "\f"
     ]
    }
   ],
   "source": [
    "if(!is.null(dev.list())) dev.off() # Clear Plots\n",
    "rm(list=ls()) # Clear objects from Memory\n",
    "cat(\"\\014\") # Clear Console\n",
    "# writeClipboard(as.character(x)) # copy data frame to clipboard"
   ]
  },
  {
   "cell_type": "code",
   "execution_count": 2,
   "metadata": {},
   "outputs": [
    {
     "name": "stderr",
     "output_type": "stream",
     "text": [
      "Warning message:\n",
      "\"package 'RCurl' was built under R version 3.4.4\"Loading required package: bitops\n",
      "Loading required package: gsubfn\n",
      "Loading required package: proto\n",
      "Could not load tcltk.  Will use slower R code instead.\n",
      "Loading required package: RSQLite\n",
      "Warning message:\n",
      "\"package 'digest' was built under R version 3.4.3\"Warning message:\n",
      "\"package 'dplyr' was built under R version 3.4.3\"\n",
      "Attaching package: 'dplyr'\n",
      "\n",
      "The following objects are masked from 'package:stats':\n",
      "\n",
      "    filter, lag\n",
      "\n",
      "The following objects are masked from 'package:base':\n",
      "\n",
      "    intersect, setdiff, setequal, union\n",
      "\n",
      "Warning message:\n",
      "\"package 'anytime' was built under R version 3.4.4\"Warning message:\n",
      "\"package 'geosphere' was built under R version 3.4.4\"Warning message:\n",
      "\"package 'lubridate' was built under R version 3.4.3\"\n",
      "Attaching package: 'lubridate'\n",
      "\n",
      "The following object is masked from 'package:base':\n",
      "\n",
      "    date\n",
      "\n",
      "Warning message:\n",
      "\"package 'chron' was built under R version 3.4.3\"\n",
      "Attaching package: 'chron'\n",
      "\n",
      "The following objects are masked from 'package:lubridate':\n",
      "\n",
      "    days, hours, minutes, seconds, years\n",
      "\n",
      "Loading required package: caret\n",
      "Warning message:\n",
      "\"package 'caret' was built under R version 3.4.4\"Loading required package: lattice\n",
      "Warning message:\n",
      "\"package 'lattice' was built under R version 3.4.3\"Loading required package: ggplot2\n",
      "Warning message:\n",
      "\"package 'ggplot2' was built under R version 3.4.3\"Loading required package: rattle\n",
      "Warning message:\n",
      "\"package 'rattle' was built under R version 3.4.4\"Rattle: A free graphical interface for data science with R.\n",
      "Version 5.1.0 Copyright (c) 2006-2017 Togaware Pty Ltd.\n",
      "Type 'rattle()' to shake, rattle, and roll your data.\n",
      "Loading required package: yardstick\n",
      "Warning message:\n",
      "\"package 'yardstick' was built under R version 3.4.4\"Loading required package: broom\n",
      "Warning message:\n",
      "\"package 'broom' was built under R version 3.4.4\"\n",
      "Attaching package: 'yardstick'\n",
      "\n",
      "The following objects are masked from 'package:caret':\n",
      "\n",
      "    mnLogLoss, precision, recall\n",
      "\n"
     ]
    }
   ],
   "source": [
    "library(RCurl)\n",
    "library(sqldf)\n",
    "library(digest)\n",
    "library(dplyr)\n",
    "library(anytime)\n",
    "library(geosphere)\n",
    "library(lubridate)\n",
    "library(chron)\n",
    "require(caret)\n",
    "require(rattle)\n",
    "require(yardstick)"
   ]
  },
  {
   "cell_type": "code",
   "execution_count": 3,
   "metadata": {
    "collapsed": true
   },
   "outputs": [],
   "source": [
    "# set working directory\n",
    "setwd(\"C:/Users/vanethi/Documents/GitHub/DS420_Factoria\")"
   ]
  },
  {
   "cell_type": "code",
   "execution_count": 4,
   "metadata": {
    "collapsed": true
   },
   "outputs": [],
   "source": [
    "# set start and end date\n",
    "startDate <- '2017-12-31-0'\n",
    "endDate <- '2018-06-01-0'"
   ]
  },
  {
   "cell_type": "code",
   "execution_count": 5,
   "metadata": {
    "collapsed": true
   },
   "outputs": [],
   "source": [
    "# pull data for Beijing\n",
    "\n",
    "# acquire air quality data\n",
    "bj_aq_url <- paste0(\"https://biendata.com/competition/airquality/bj/\",startDate,\"/\",endDate,\"/2k0d1d8\")\n",
    "bj_aq_file <- getURL(bj_aq_url, ssl.verifyhost=FALSE, ssl.verifypeer=FALSE)\n",
    "bj_aq_data <- read.csv(textConnection(bj_aq_file), header=TRUE)\n",
    "  \n",
    "# acquire API grid meteorology data\n",
    "bj_gm_url <- paste0(\"https://biendata.com/competition/meteorology/bj_grid/\",startDate,\"/\",endDate,\"/2k0d1d8\")\n",
    "bj_gm_file <- getURL(bj_gm_url, ssl.verifyhost=FALSE, ssl.verifypeer=FALSE)\n",
    "bj_gm_data <- read.csv(textConnection(bj_gm_file), header=TRUE)"
   ]
  },
  {
   "cell_type": "code",
   "execution_count": 6,
   "metadata": {},
   "outputs": [
    {
     "data": {
      "text/html": [
       "<ol class=list-inline>\n",
       "\t<li>'bj_gm_data'</li>\n",
       "\t<li>'bj_aq_data'</li>\n",
       "</ol>\n"
      ],
      "text/latex": [
       "\\begin{enumerate*}\n",
       "\\item 'bj\\_gm\\_data'\n",
       "\\item 'bj\\_aq\\_data'\n",
       "\\end{enumerate*}\n"
      ],
      "text/markdown": [
       "1. 'bj_gm_data'\n",
       "2. 'bj_aq_data'\n",
       "\n",
       "\n"
      ],
      "text/plain": [
       "[1] \"bj_gm_data\" \"bj_aq_data\""
      ]
     },
     "metadata": {},
     "output_type": "display_data"
    }
   ],
   "source": [
    "# list of available data frames\n",
    "df.list <- names(which(unlist(eapply(.GlobalEnv,is.data.frame))))\n",
    "df.list"
   ]
  },
  {
   "cell_type": "code",
   "execution_count": 7,
   "metadata": {
    "collapsed": true
   },
   "outputs": [],
   "source": [
    "# Converting character to datetime\n",
    "bj_gm_data$time <- anytime(bj_gm_data$time)\n",
    "bj_aq_data$time <- anytime(bj_aq_data$time)"
   ]
  },
  {
   "cell_type": "code",
   "execution_count": 8,
   "metadata": {},
   "outputs": [
    {
     "name": "stdout",
     "output_type": "stream",
     "text": [
      "[1] \"bj_gm_data\"\n",
      "'data.frame':\t898970 obs. of  9 variables:\n",
      " $ id            : int  2000958 2000959 2000960 2000961 2000962 2000963 2000964 2000965 2000966 2000967 ...\n",
      " $ station_id    : Factor w/ 651 levels \"beijing_grid_000\",..: 1 2 3 4 5 6 7 8 9 10 ...\n",
      " $ time          : POSIXct, format: \"2018-03-31 07:00:00\" \"2018-03-31 07:00:00\" ...\n",
      " $ weather       : Factor w/ 9 levels \"CLEAR_DAY\",\"CLEAR_NIGHT\",..: 5 5 5 5 5 5 5 5 5 5 ...\n",
      " $ temperature   : num  24 24 25 25 25 25 25 26 22.4 22.4 ...\n",
      " $ pressure      : num  973 960 946 931 914 ...\n",
      " $ humidity      : num  23 21 19 18 16 15 15 16 16 17 ...\n",
      " $ wind_direction: num  161 165 170 184 221 ...\n",
      " $ wind_speed    : num  14.28 13.3 12.42 9.84 7.39 ...\n",
      "NULL\n",
      "[1] \"bj_aq_data\"\n",
      "'data.frame':\t46900 obs. of  9 variables:\n",
      " $ id                : int  2941450 2941451 2941452 2941453 2941454 2941455 2941456 2941457 2941458 2941459 ...\n",
      " $ station_id        : Factor w/ 35 levels \"aotizhongxin_aq\",..: 7 24 11 27 1 19 26 3 35 10 ...\n",
      " $ time              : POSIXct, format: \"2018-03-31 07:00:00\" \"2018-03-31 07:00:00\" ...\n",
      " $ PM25_Concentration: num  105 95 95 99 117 100 95 104 NA 111 ...\n",
      " $ PM10_Concentration: num  172 123 139 172 166 150 139 236 NA 162 ...\n",
      " $ NO2_Concentration : num  53 54 66 58 67 62 82 75 NA 65 ...\n",
      " $ CO_Concentration  : num  0.8 0.9 0.8 1 0.8 0.8 1 0.9 NA 0.9 ...\n",
      " $ O3_Concentration  : num  127 121 123 119 111 127 104 98 NA 119 ...\n",
      " $ SO2_Concentration : num  14 15 13 14 14 15 13 9 NA 13 ...\n",
      "NULL\n"
     ]
    }
   ],
   "source": [
    "# printing structure of all the datasets\n",
    "for (i in 1:length(df.list)) {\n",
    " print(df.list[i])\n",
    "  print(str(get(df.list[i])))\n",
    "}"
   ]
  },
  {
   "cell_type": "code",
   "execution_count": 9,
   "metadata": {},
   "outputs": [
    {
     "name": "stdout",
     "output_type": "stream",
     "text": [
      "[1] \"bj_gm_data\"\n"
     ]
    },
    {
     "data": {
      "text/html": [
       "<table>\n",
       "<thead><tr><th scope=col>min_date</th><th scope=col>max_date</th></tr></thead>\n",
       "<tbody>\n",
       "\t<tr><td>2018-03-31 07:00:00</td><td>2018-05-28 22:00:00</td></tr>\n",
       "</tbody>\n",
       "</table>\n"
      ],
      "text/latex": [
       "\\begin{tabular}{r|ll}\n",
       " min\\_date & max\\_date\\\\\n",
       "\\hline\n",
       "\t 2018-03-31 07:00:00 & 2018-05-28 22:00:00\\\\\n",
       "\\end{tabular}\n"
      ],
      "text/markdown": [
       "\n",
       "min_date | max_date | \n",
       "|---|\n",
       "| 2018-03-31 07:00:00 | 2018-05-28 22:00:00 | \n",
       "\n",
       "\n"
      ],
      "text/plain": [
       "  min_date            max_date           \n",
       "1 2018-03-31 07:00:00 2018-05-28 22:00:00"
      ]
     },
     "metadata": {},
     "output_type": "display_data"
    },
    {
     "name": "stdout",
     "output_type": "stream",
     "text": [
      "[1] \"bj_aq_data\"\n"
     ]
    },
    {
     "data": {
      "text/html": [
       "<table>\n",
       "<thead><tr><th scope=col>min_date</th><th scope=col>max_date</th></tr></thead>\n",
       "<tbody>\n",
       "\t<tr><td>2018-03-31 07:00:00</td><td>2018-05-28 21:00:00</td></tr>\n",
       "</tbody>\n",
       "</table>\n"
      ],
      "text/latex": [
       "\\begin{tabular}{r|ll}\n",
       " min\\_date & max\\_date\\\\\n",
       "\\hline\n",
       "\t 2018-03-31 07:00:00 & 2018-05-28 21:00:00\\\\\n",
       "\\end{tabular}\n"
      ],
      "text/markdown": [
       "\n",
       "min_date | max_date | \n",
       "|---|\n",
       "| 2018-03-31 07:00:00 | 2018-05-28 21:00:00 | \n",
       "\n",
       "\n"
      ],
      "text/plain": [
       "  min_date            max_date           \n",
       "1 2018-03-31 07:00:00 2018-05-28 21:00:00"
      ]
     },
     "metadata": {},
     "output_type": "display_data"
    }
   ],
   "source": [
    "# Printing the min and max dates of all datasets\n",
    "print(\"bj_gm_data\")\n",
    "bj_gm_data %>% summarize(min_date = min(time), max_date = max(time))\n",
    "print(\"bj_aq_data\")\n",
    "bj_aq_data %>% summarize(min_date = min(time), max_date = max(time))"
   ]
  },
  {
   "cell_type": "code",
   "execution_count": 10,
   "metadata": {
    "collapsed": true
   },
   "outputs": [],
   "source": [
    "# using only required columns\n",
    "bj_aq_data <- bj_aq_data %>% select(-id)\n",
    "bj_gm_data <- bj_gm_data %>% select(-c(id, weather))"
   ]
  },
  {
   "cell_type": "code",
   "execution_count": 11,
   "metadata": {
    "collapsed": true
   },
   "outputs": [],
   "source": [
    "# Beijing closest grids to stations\n",
    "bj_closest_stations <- read.csv('SL_beijing_closest_stations.csv')\n",
    "colnames(bj_closest_stations) <- c('x',\"stationId\",\"stationName\",\"distance\") "
   ]
  },
  {
   "cell_type": "code",
   "execution_count": 12,
   "metadata": {
    "collapsed": true
   },
   "outputs": [],
   "source": [
    "# Modifying column names for consistency\n",
    "colnames(bj_aq_data) <- c(\"stationId\",\"utc_time\",\"PM2.5\",\"PM10\",\"NO2\",\"CO\",\"O3\", \"SO2\") \n",
    "colnames(bj_gm_data) <- c(\"stationName\",\"utc_time\",\"temperature\",\"pressure\",\"humidity\",\"wind_direction\",\"wind_speed.kph\") "
   ]
  },
  {
   "cell_type": "code",
   "execution_count": 13,
   "metadata": {},
   "outputs": [
    {
     "name": "stdout",
     "output_type": "stream",
     "text": [
      "'data.frame':\t35 obs. of  4 variables:\n",
      " $ x          : int  1 2 3 4 5 6 7 8 9 10 ...\n",
      " $ stationId  : Factor w/ 35 levels \"aotizhongxin_aq\",..: 7 24 11 27 1 19 26 3 35 10 ...\n",
      " $ stationName: Factor w/ 26 levels \"beijing_grid_216\",..: 16 16 13 16 17 19 14 9 8 13 ...\n",
      " $ distance   : num  3540 1669 4638 4776 2020 ...\n",
      "'data.frame':\t898970 obs. of  7 variables:\n",
      " $ stationName   : Factor w/ 651 levels \"beijing_grid_000\",..: 1 2 3 4 5 6 7 8 9 10 ...\n",
      " $ utc_time      : POSIXct, format: \"2018-03-31 07:00:00\" \"2018-03-31 07:00:00\" ...\n",
      " $ temperature   : num  24 24 25 25 25 25 25 26 22.4 22.4 ...\n",
      " $ pressure      : num  973 960 946 931 914 ...\n",
      " $ humidity      : num  23 21 19 18 16 15 15 16 16 17 ...\n",
      " $ wind_direction: num  161 165 170 184 221 ...\n",
      " $ wind_speed.kph: num  14.28 13.3 12.42 9.84 7.39 ...\n",
      "'data.frame':\t46900 obs. of  8 variables:\n",
      " $ stationId: Factor w/ 35 levels \"aotizhongxin_aq\",..: 7 24 11 27 1 19 26 3 35 10 ...\n",
      " $ utc_time : POSIXct, format: \"2018-03-31 07:00:00\" \"2018-03-31 07:00:00\" ...\n",
      " $ PM2.5    : num  105 95 95 99 117 100 95 104 NA 111 ...\n",
      " $ PM10     : num  172 123 139 172 166 150 139 236 NA 162 ...\n",
      " $ NO2      : num  53 54 66 58 67 62 82 75 NA 65 ...\n",
      " $ CO       : num  0.8 0.9 0.8 1 0.8 0.8 1 0.9 NA 0.9 ...\n",
      " $ O3       : num  127 121 123 119 111 127 104 98 NA 119 ...\n",
      " $ SO2      : num  14 15 13 14 14 15 13 9 NA 13 ...\n"
     ]
    },
    {
     "data": {
      "text/html": [
       "<table>\n",
       "<thead><tr><th scope=col>x</th><th scope=col>stationId</th><th scope=col>stationName</th><th scope=col>distance</th></tr></thead>\n",
       "<tbody>\n",
       "\t<tr><td>1               </td><td>dongsi_aq       </td><td>beijing_grid_303</td><td>3539.569        </td></tr>\n",
       "\t<tr><td>2               </td><td>tiantan_aq      </td><td>beijing_grid_303</td><td>1669.215        </td></tr>\n",
       "\t<tr><td>3               </td><td>guanyuan_aq     </td><td>beijing_grid_282</td><td>4637.889        </td></tr>\n",
       "\t<tr><td>4               </td><td>wanshouxigong_aq</td><td>beijing_grid_303</td><td>4775.641        </td></tr>\n",
       "\t<tr><td>5               </td><td>aotizhongxin_aq </td><td>beijing_grid_304</td><td>2020.020        </td></tr>\n",
       "\t<tr><td>6               </td><td>nongzhanguan_aq </td><td>beijing_grid_324</td><td>5296.386        </td></tr>\n",
       "</tbody>\n",
       "</table>\n"
      ],
      "text/latex": [
       "\\begin{tabular}{r|llll}\n",
       " x & stationId & stationName & distance\\\\\n",
       "\\hline\n",
       "\t 1                    & dongsi\\_aq          & beijing\\_grid\\_303 & 3539.569            \\\\\n",
       "\t 2                    & tiantan\\_aq         & beijing\\_grid\\_303 & 1669.215            \\\\\n",
       "\t 3                    & guanyuan\\_aq        & beijing\\_grid\\_282 & 4637.889            \\\\\n",
       "\t 4                    & wanshouxigong\\_aq   & beijing\\_grid\\_303 & 4775.641            \\\\\n",
       "\t 5                    & aotizhongxin\\_aq    & beijing\\_grid\\_304 & 2020.020            \\\\\n",
       "\t 6                    & nongzhanguan\\_aq    & beijing\\_grid\\_324 & 5296.386            \\\\\n",
       "\\end{tabular}\n"
      ],
      "text/markdown": [
       "\n",
       "x | stationId | stationName | distance | \n",
       "|---|---|---|---|---|---|\n",
       "| 1                | dongsi_aq        | beijing_grid_303 | 3539.569         | \n",
       "| 2                | tiantan_aq       | beijing_grid_303 | 1669.215         | \n",
       "| 3                | guanyuan_aq      | beijing_grid_282 | 4637.889         | \n",
       "| 4                | wanshouxigong_aq | beijing_grid_303 | 4775.641         | \n",
       "| 5                | aotizhongxin_aq  | beijing_grid_304 | 2020.020         | \n",
       "| 6                | nongzhanguan_aq  | beijing_grid_324 | 5296.386         | \n",
       "\n",
       "\n"
      ],
      "text/plain": [
       "  x stationId        stationName      distance\n",
       "1 1 dongsi_aq        beijing_grid_303 3539.569\n",
       "2 2 tiantan_aq       beijing_grid_303 1669.215\n",
       "3 3 guanyuan_aq      beijing_grid_282 4637.889\n",
       "4 4 wanshouxigong_aq beijing_grid_303 4775.641\n",
       "5 5 aotizhongxin_aq  beijing_grid_304 2020.020\n",
       "6 6 nongzhanguan_aq  beijing_grid_324 5296.386"
      ]
     },
     "metadata": {},
     "output_type": "display_data"
    }
   ],
   "source": [
    "str(bj_closest_stations)\n",
    "str(bj_gm_data)\n",
    "str(bj_aq_data)\n",
    "head(bj_closest_stations)"
   ]
  },
  {
   "cell_type": "code",
   "execution_count": 14,
   "metadata": {
    "collapsed": true
   },
   "outputs": [],
   "source": [
    "# Mapping stationIds with respective grids\n",
    "bj_aq_map <- merge(bj_aq_data,bj_closest_stations, by = \"stationId\")"
   ]
  },
  {
   "cell_type": "code",
   "execution_count": 15,
   "metadata": {
    "collapsed": true
   },
   "outputs": [],
   "source": [
    "# Merge of AirQuality and Meteorology data\n",
    "bj_aq_gm_data <- merge(bj_aq_map, bj_gm_data, by = c(\"stationName\",\"utc_time\"))"
   ]
  },
  {
   "cell_type": "code",
   "execution_count": 16,
   "metadata": {},
   "outputs": [
    {
     "name": "stdout",
     "output_type": "stream",
     "text": [
      "'data.frame':\t46092 obs. of  16 variables:\n",
      " $ stationName   : Factor w/ 26 levels \"beijing_grid_216\",..: 1 1 1 1 1 1 1 1 1 1 ...\n",
      " $ utc_time      : POSIXct, format: \"2018-03-31 07:00:00\" \"2018-03-31 08:00:00\" ...\n",
      " $ stationId     : Factor w/ 35 levels \"aotizhongxin_aq\",..: 14 14 14 14 14 14 14 14 14 14 ...\n",
      " $ PM2.5         : num  105 120 121 137 146 270 160 180 136 149 ...\n",
      " $ PM10          : num  163 185 185 212 254 323 297 280 204 219 ...\n",
      " $ NO2           : num  45 52 55 59 68 59 85 76 61 87 ...\n",
      " $ CO            : num  0.8 0.9 0.9 1 1 1.1 1.1 1.1 1.1 1.2 ...\n",
      " $ O3            : num  137 140 141 132 106 96 46 45 50 7 ...\n",
      " $ SO2           : num  6 NA NA NA NA 20 8 NA NA NA ...\n",
      " $ x             : int  30 30 30 30 30 30 30 30 30 30 ...\n",
      " $ distance      : num  2226 2226 2226 2226 2226 ...\n",
      " $ temperature   : num  22 23 23 24 20 19 17 13 14 12.4 ...\n",
      " $ pressure      : num  1001 1000 1000 999 1000 ...\n",
      " $ humidity      : num  20 20 22 24 28 31 32 32 31 32 ...\n",
      " $ wind_direction: num  159 174 188 205 232 ...\n",
      " $ wind_speed.kph: num  10.63 10.96 10.21 9.83 7.27 ...\n"
     ]
    },
    {
     "data": {
      "text/html": [
       "<table>\n",
       "<thead><tr><th scope=col>stationName</th><th scope=col>utc_time</th><th scope=col>stationId</th><th scope=col>PM2.5</th><th scope=col>PM10</th><th scope=col>NO2</th><th scope=col>CO</th><th scope=col>O3</th><th scope=col>SO2</th><th scope=col>x</th><th scope=col>distance</th><th scope=col>temperature</th><th scope=col>pressure</th><th scope=col>humidity</th><th scope=col>wind_direction</th><th scope=col>wind_speed.kph</th></tr></thead>\n",
       "<tbody>\n",
       "\t<tr><td>beijing_grid_216   </td><td>2018-03-31 07:00:00</td><td>liulihe_aq         </td><td>105                </td><td>163                </td><td>45                 </td><td>0.8                </td><td>137                </td><td> 6                 </td><td>30                 </td><td>2226.39            </td><td>22                 </td><td>1000.8969          </td><td>20                 </td><td>159.45             </td><td>10.63              </td></tr>\n",
       "\t<tr><td>beijing_grid_216   </td><td>2018-03-31 08:00:00</td><td>liulihe_aq         </td><td>120                </td><td>185                </td><td>52                 </td><td>0.9                </td><td>140                </td><td>NA                 </td><td>30                 </td><td>2226.39            </td><td>23                 </td><td>1000.0580          </td><td>20                 </td><td>173.73             </td><td>10.96              </td></tr>\n",
       "\t<tr><td>beijing_grid_216   </td><td>2018-03-31 09:00:00</td><td>liulihe_aq         </td><td>121                </td><td>185                </td><td>55                 </td><td>0.9                </td><td>141                </td><td>NA                 </td><td>30                 </td><td>2226.39            </td><td>23                 </td><td> 999.5212          </td><td>22                 </td><td>188.34             </td><td>10.21              </td></tr>\n",
       "\t<tr><td>beijing_grid_216   </td><td>2018-03-31 10:00:00</td><td>liulihe_aq         </td><td>137                </td><td>212                </td><td>59                 </td><td>1.0                </td><td>132                </td><td>NA                 </td><td>30                 </td><td>2226.39            </td><td>24                 </td><td> 999.4476          </td><td>24                 </td><td>204.63             </td><td> 9.83              </td></tr>\n",
       "\t<tr><td>beijing_grid_216   </td><td>2018-03-31 11:00:00</td><td>liulihe_aq         </td><td>146                </td><td>254                </td><td>68                 </td><td>1.0                </td><td>106                </td><td>NA                 </td><td>30                 </td><td>2226.39            </td><td>20                 </td><td> 999.6694          </td><td>28                 </td><td>232.00             </td><td> 7.27              </td></tr>\n",
       "\t<tr><td>beijing_grid_216   </td><td>2018-03-31 12:00:00</td><td>liulihe_aq         </td><td>270                </td><td>323                </td><td>59                 </td><td>1.1                </td><td> 96                </td><td>20                 </td><td>30                 </td><td>2226.39            </td><td>19                 </td><td>1000.0671          </td><td>31                 </td><td>268.92             </td><td> 6.59              </td></tr>\n",
       "</tbody>\n",
       "</table>\n"
      ],
      "text/latex": [
       "\\begin{tabular}{r|llllllllllllllll}\n",
       " stationName & utc\\_time & stationId & PM2.5 & PM10 & NO2 & CO & O3 & SO2 & x & distance & temperature & pressure & humidity & wind\\_direction & wind\\_speed.kph\\\\\n",
       "\\hline\n",
       "\t beijing\\_grid\\_216 & 2018-03-31 07:00:00  & liulihe\\_aq         & 105                  & 163                  & 45                   & 0.8                  & 137                  &  6                   & 30                   & 2226.39              & 22                   & 1000.8969            & 20                   & 159.45               & 10.63               \\\\\n",
       "\t beijing\\_grid\\_216 & 2018-03-31 08:00:00  & liulihe\\_aq         & 120                  & 185                  & 52                   & 0.9                  & 140                  & NA                   & 30                   & 2226.39              & 23                   & 1000.0580            & 20                   & 173.73               & 10.96               \\\\\n",
       "\t beijing\\_grid\\_216 & 2018-03-31 09:00:00  & liulihe\\_aq         & 121                  & 185                  & 55                   & 0.9                  & 141                  & NA                   & 30                   & 2226.39              & 23                   &  999.5212            & 22                   & 188.34               & 10.21               \\\\\n",
       "\t beijing\\_grid\\_216 & 2018-03-31 10:00:00  & liulihe\\_aq         & 137                  & 212                  & 59                   & 1.0                  & 132                  & NA                   & 30                   & 2226.39              & 24                   &  999.4476            & 24                   & 204.63               &  9.83               \\\\\n",
       "\t beijing\\_grid\\_216 & 2018-03-31 11:00:00  & liulihe\\_aq         & 146                  & 254                  & 68                   & 1.0                  & 106                  & NA                   & 30                   & 2226.39              & 20                   &  999.6694            & 28                   & 232.00               &  7.27               \\\\\n",
       "\t beijing\\_grid\\_216 & 2018-03-31 12:00:00  & liulihe\\_aq         & 270                  & 323                  & 59                   & 1.1                  &  96                  & 20                   & 30                   & 2226.39              & 19                   & 1000.0671            & 31                   & 268.92               &  6.59               \\\\\n",
       "\\end{tabular}\n"
      ],
      "text/markdown": [
       "\n",
       "stationName | utc_time | stationId | PM2.5 | PM10 | NO2 | CO | O3 | SO2 | x | distance | temperature | pressure | humidity | wind_direction | wind_speed.kph | \n",
       "|---|---|---|---|---|---|\n",
       "| beijing_grid_216    | 2018-03-31 07:00:00 | liulihe_aq          | 105                 | 163                 | 45                  | 0.8                 | 137                 |  6                  | 30                  | 2226.39             | 22                  | 1000.8969           | 20                  | 159.45              | 10.63               | \n",
       "| beijing_grid_216    | 2018-03-31 08:00:00 | liulihe_aq          | 120                 | 185                 | 52                  | 0.9                 | 140                 | NA                  | 30                  | 2226.39             | 23                  | 1000.0580           | 20                  | 173.73              | 10.96               | \n",
       "| beijing_grid_216    | 2018-03-31 09:00:00 | liulihe_aq          | 121                 | 185                 | 55                  | 0.9                 | 141                 | NA                  | 30                  | 2226.39             | 23                  |  999.5212           | 22                  | 188.34              | 10.21               | \n",
       "| beijing_grid_216    | 2018-03-31 10:00:00 | liulihe_aq          | 137                 | 212                 | 59                  | 1.0                 | 132                 | NA                  | 30                  | 2226.39             | 24                  |  999.4476           | 24                  | 204.63              |  9.83               | \n",
       "| beijing_grid_216    | 2018-03-31 11:00:00 | liulihe_aq          | 146                 | 254                 | 68                  | 1.0                 | 106                 | NA                  | 30                  | 2226.39             | 20                  |  999.6694           | 28                  | 232.00              |  7.27               | \n",
       "| beijing_grid_216    | 2018-03-31 12:00:00 | liulihe_aq          | 270                 | 323                 | 59                  | 1.1                 |  96                 | 20                  | 30                  | 2226.39             | 19                  | 1000.0671           | 31                  | 268.92              |  6.59               | \n",
       "\n",
       "\n"
      ],
      "text/plain": [
       "  stationName      utc_time            stationId  PM2.5 PM10 NO2 CO  O3  SO2 x \n",
       "1 beijing_grid_216 2018-03-31 07:00:00 liulihe_aq 105   163  45  0.8 137  6  30\n",
       "2 beijing_grid_216 2018-03-31 08:00:00 liulihe_aq 120   185  52  0.9 140 NA  30\n",
       "3 beijing_grid_216 2018-03-31 09:00:00 liulihe_aq 121   185  55  0.9 141 NA  30\n",
       "4 beijing_grid_216 2018-03-31 10:00:00 liulihe_aq 137   212  59  1.0 132 NA  30\n",
       "5 beijing_grid_216 2018-03-31 11:00:00 liulihe_aq 146   254  68  1.0 106 NA  30\n",
       "6 beijing_grid_216 2018-03-31 12:00:00 liulihe_aq 270   323  59  1.1  96 20  30\n",
       "  distance temperature pressure  humidity wind_direction wind_speed.kph\n",
       "1 2226.39  22          1000.8969 20       159.45         10.63         \n",
       "2 2226.39  23          1000.0580 20       173.73         10.96         \n",
       "3 2226.39  23           999.5212 22       188.34         10.21         \n",
       "4 2226.39  24           999.4476 24       204.63          9.83         \n",
       "5 2226.39  20           999.6694 28       232.00          7.27         \n",
       "6 2226.39  19          1000.0671 31       268.92          6.59         "
      ]
     },
     "metadata": {},
     "output_type": "display_data"
    },
    {
     "data": {
      "text/html": [
       "<table>\n",
       "<thead><tr><th scope=col>min_date</th><th scope=col>max_date</th></tr></thead>\n",
       "<tbody>\n",
       "\t<tr><td>2018-03-31 07:00:00</td><td>2018-05-28 21:00:00</td></tr>\n",
       "</tbody>\n",
       "</table>\n"
      ],
      "text/latex": [
       "\\begin{tabular}{r|ll}\n",
       " min\\_date & max\\_date\\\\\n",
       "\\hline\n",
       "\t 2018-03-31 07:00:00 & 2018-05-28 21:00:00\\\\\n",
       "\\end{tabular}\n"
      ],
      "text/markdown": [
       "\n",
       "min_date | max_date | \n",
       "|---|\n",
       "| 2018-03-31 07:00:00 | 2018-05-28 21:00:00 | \n",
       "\n",
       "\n"
      ],
      "text/plain": [
       "  min_date            max_date           \n",
       "1 2018-03-31 07:00:00 2018-05-28 21:00:00"
      ]
     },
     "metadata": {},
     "output_type": "display_data"
    }
   ],
   "source": [
    "str(bj_aq_gm_data)\n",
    "head(bj_aq_gm_data)\n",
    "bj_aq_gm_data %>% summarize(min_date = min(utc_time), max_date = max(utc_time))"
   ]
  },
  {
   "cell_type": "code",
   "execution_count": 17,
   "metadata": {
    "collapsed": true
   },
   "outputs": [],
   "source": [
    "rm(\"bj_gm_data\")\n",
    "rm(\"bj_aq_data\")\n",
    "rm(\"bj_aq_map\")\n",
    "rm(\"bj_closest_stations\")"
   ]
  },
  {
   "cell_type": "code",
   "execution_count": 18,
   "metadata": {
    "collapsed": true
   },
   "outputs": [],
   "source": [
    "# selecting only required columns\n",
    "bj_aq_gm_data <- bj_aq_gm_data %>% select(c(\"stationName\",\"utc_time\",\"stationId\",\"PM2.5\",\"PM10\", \"O3\",\n",
    "                                            \"temperature\",\"pressure\",\"humidity\",\"wind_direction\",\"wind_speed.kph\"))"
   ]
  },
  {
   "cell_type": "code",
   "execution_count": 19,
   "metadata": {
    "collapsed": true
   },
   "outputs": [],
   "source": [
    "# adding additional columns for modeling\n",
    "bj_aq_gm_data$hour <- hour(bj_aq_gm_data$utc_time)\n",
    "bj_aq_gm_data$month <- month(bj_aq_gm_data$utc_time)\n",
    "bj_aq_gm_data$date <- date(bj_aq_gm_data$utc_time)\n",
    "bj_aq_gm_data$weekend = chron::is.weekend(bj_aq_gm_data$date)"
   ]
  },
  {
   "cell_type": "code",
   "execution_count": 20,
   "metadata": {},
   "outputs": [
    {
     "name": "stdout",
     "output_type": "stream",
     "text": [
      "'data.frame':\t46092 obs. of  15 variables:\n",
      " $ stationName   : Factor w/ 26 levels \"beijing_grid_216\",..: 1 1 1 1 1 1 1 1 1 1 ...\n",
      " $ utc_time      : POSIXct, format: \"2018-03-31 07:00:00\" \"2018-03-31 08:00:00\" ...\n",
      " $ stationId     : Factor w/ 35 levels \"aotizhongxin_aq\",..: 14 14 14 14 14 14 14 14 14 14 ...\n",
      " $ PM2.5         : num  105 120 121 137 146 270 160 180 136 149 ...\n",
      " $ PM10          : num  163 185 185 212 254 323 297 280 204 219 ...\n",
      " $ O3            : num  137 140 141 132 106 96 46 45 50 7 ...\n",
      " $ temperature   : num  22 23 23 24 20 19 17 13 14 12.4 ...\n",
      " $ pressure      : num  1001 1000 1000 999 1000 ...\n",
      " $ humidity      : num  20 20 22 24 28 31 32 32 31 32 ...\n",
      " $ wind_direction: num  159 174 188 205 232 ...\n",
      " $ wind_speed.kph: num  10.63 10.96 10.21 9.83 7.27 ...\n",
      " $ hour          : int  7 8 9 10 11 12 13 14 15 17 ...\n",
      " $ month         : num  3 3 3 3 3 3 3 3 3 3 ...\n",
      " $ date          : Date, format: \"2018-03-31\" \"2018-03-31\" ...\n",
      " $ weekend       : logi  TRUE TRUE TRUE TRUE TRUE TRUE ...\n"
     ]
    }
   ],
   "source": [
    "str(bj_aq_gm_data)"
   ]
  },
  {
   "cell_type": "markdown",
   "metadata": {},
   "source": [
    "### Import and transformations of Historical data"
   ]
  },
  {
   "cell_type": "code",
   "execution_count": 21,
   "metadata": {
    "collapsed": true
   },
   "outputs": [],
   "source": [
    "# retreiving historical files\n",
    "bj_aq_gm_hist_file <- \"Ready for Modeling/bj_aq_gm_hist_data.csv\"\n",
    "bj_aq_gm_hist_data <- read.csv(bj_aq_gm_hist_file, header=TRUE, sep=\",\", stringsAsFactors = FALSE)"
   ]
  },
  {
   "cell_type": "code",
   "execution_count": 22,
   "metadata": {
    "collapsed": true
   },
   "outputs": [],
   "source": [
    "# data transformations for consistency\n",
    "bj_aq_gm_hist_data <- bj_aq_gm_hist_data %>% select(-X)\n",
    "bj_aq_gm_hist_data$utc_time <- anytime(bj_aq_gm_hist_data$utc_time)\n",
    "bj_aq_gm_hist_data$date <- as.Date(bj_aq_gm_hist_data$date , \"%Y-%m-%d\")"
   ]
  },
  {
   "cell_type": "code",
   "execution_count": 23,
   "metadata": {},
   "outputs": [
    {
     "name": "stdout",
     "output_type": "stream",
     "text": [
      "'data.frame':\t356825 obs. of  15 variables:\n",
      " $ stationName   : chr  \"beijing_grid_216\" \"beijing_grid_216\" \"beijing_grid_216\" \"beijing_grid_216\" ...\n",
      " $ utc_time      : POSIXct, format: \"2017-01-01 14:00:00\" \"2017-01-01 15:00:00\" ...\n",
      " $ stationId     : chr  \"liulihe_aq\" \"liulihe_aq\" \"liulihe_aq\" \"liulihe_aq\" ...\n",
      " $ PM2.5         : int  376 369 361 354 356 315 287 254 231 224 ...\n",
      " $ PM10          : int  447 407 389 NA 360 NA NA NA NA NA ...\n",
      " $ O3            : int  2 2 2 2 2 2 NA 2 2 2 ...\n",
      " $ temperature   : num  -2.22 -2.37 -2.58 -2.79 -2.99 -3.3 -3.6 -3.9 -4.11 -4.33 ...\n",
      " $ pressure      : num  1015 1015 1015 1015 1015 ...\n",
      " $ humidity      : num  62.9 65.8 65.3 64.9 64.5 ...\n",
      " $ wind_direction: num  284 298 308 319 330 ...\n",
      " $ wind_speed.kph: num  4.28 4.39 4.19 4.14 4.24 4.1 3.99 3.92 2.97 2.25 ...\n",
      " $ hour          : int  14 15 16 17 18 19 20 21 22 23 ...\n",
      " $ month         : int  1 1 1 1 1 1 1 1 1 1 ...\n",
      " $ date          : Date, format: \"2017-01-01\" \"2017-01-01\" ...\n",
      " $ weekend       : logi  TRUE TRUE TRUE TRUE TRUE TRUE ...\n"
     ]
    }
   ],
   "source": [
    "str(bj_aq_gm_hist_data)"
   ]
  },
  {
   "cell_type": "code",
   "execution_count": 24,
   "metadata": {
    "collapsed": true
   },
   "outputs": [],
   "source": [
    "# Append API and hist data\n",
    "bj_aq_gm_combined_data <- rbind(bj_aq_gm_data, bj_aq_gm_hist_data)"
   ]
  },
  {
   "cell_type": "code",
   "execution_count": 25,
   "metadata": {},
   "outputs": [
    {
     "name": "stdout",
     "output_type": "stream",
     "text": [
      "'data.frame':\t402917 obs. of  15 variables:\n",
      " $ stationName   : Factor w/ 26 levels \"beijing_grid_216\",..: 1 1 1 1 1 1 1 1 1 1 ...\n",
      " $ utc_time      : POSIXct, format: \"2018-03-31 07:00:00\" \"2018-03-31 08:00:00\" ...\n",
      " $ stationId     : Factor w/ 35 levels \"aotizhongxin_aq\",..: 14 14 14 14 14 14 14 14 14 14 ...\n",
      " $ PM2.5         : num  105 120 121 137 146 270 160 180 136 149 ...\n",
      " $ PM10          : num  163 185 185 212 254 323 297 280 204 219 ...\n",
      " $ O3            : num  137 140 141 132 106 96 46 45 50 7 ...\n",
      " $ temperature   : num  22 23 23 24 20 19 17 13 14 12.4 ...\n",
      " $ pressure      : num  1001 1000 1000 999 1000 ...\n",
      " $ humidity      : num  20 20 22 24 28 31 32 32 31 32 ...\n",
      " $ wind_direction: num  159 174 188 205 232 ...\n",
      " $ wind_speed.kph: num  10.63 10.96 10.21 9.83 7.27 ...\n",
      " $ hour          : int  7 8 9 10 11 12 13 14 15 17 ...\n",
      " $ month         : num  3 3 3 3 3 3 3 3 3 3 ...\n",
      " $ date          : Date, format: \"2018-03-31\" \"2018-03-31\" ...\n",
      " $ weekend       : logi  TRUE TRUE TRUE TRUE TRUE TRUE ...\n"
     ]
    },
    {
     "data": {
      "text/html": [
       "<table>\n",
       "<thead><tr><th scope=col>min_date</th><th scope=col>max_date</th></tr></thead>\n",
       "<tbody>\n",
       "\t<tr><td>2017-01-01</td><td>2018-05-28</td></tr>\n",
       "</tbody>\n",
       "</table>\n"
      ],
      "text/latex": [
       "\\begin{tabular}{r|ll}\n",
       " min\\_date & max\\_date\\\\\n",
       "\\hline\n",
       "\t 2017-01-01 & 2018-05-28\\\\\n",
       "\\end{tabular}\n"
      ],
      "text/markdown": [
       "\n",
       "min_date | max_date | \n",
       "|---|\n",
       "| 2017-01-01 | 2018-05-28 | \n",
       "\n",
       "\n"
      ],
      "text/plain": [
       "  min_date   max_date  \n",
       "1 2017-01-01 2018-05-28"
      ]
     },
     "metadata": {},
     "output_type": "display_data"
    },
    {
     "data": {
      "text/plain": [
       "           stationName        utc_time                           stationId     \n",
       " beijing_grid_303: 69072   Min.   :2017-01-01 14:00:00   badaling_aq  : 11512  \n",
       " beijing_grid_282: 23024   1st Qu.:2017-05-09 22:00:00   beibuxinqu_aq: 11512  \n",
       " beijing_grid_283: 23024   Median :2017-09-24 14:00:00   daxing_aq    : 11512  \n",
       " beijing_grid_324: 23024   Mean   :2017-09-18 23:43:01   dingling_aq  : 11512  \n",
       " beijing_grid_452: 23024   3rd Qu.:2018-01-21 02:00:00   donggaocun_aq: 11512  \n",
       " beijing_grid_216: 11512   Max.   :2018-05-28 21:00:00   dongsi_aq    : 11512  \n",
       " (Other)         :230237                                 (Other)      :333845  \n",
       "     PM2.5             PM10              O3          temperature    \n",
       " Min.   :   2.0   Min.   :   5.0   Min.   :  1.00   Min.   :-18.37  \n",
       " 1st Qu.:  17.0   1st Qu.:  40.0   1st Qu.: 15.00   1st Qu.:  0.55  \n",
       " Median :  41.0   Median :  75.0   Median : 49.00   Median : 11.71  \n",
       " Mean   :  60.8   Mean   :  93.9   Mean   : 58.38   Mean   : 11.40  \n",
       " 3rd Qu.:  81.0   3rd Qu.: 122.0   3rd Qu.: 83.00   3rd Qu.: 22.00  \n",
       " Max.   :1004.0   Max.   :3000.0   Max.   :504.00   Max.   : 36.08  \n",
       " NA's   :25830    NA's   :105507   NA's   :25840                    \n",
       "    pressure         humidity      wind_direction  wind_speed.kph  \n",
       " Min.   : 917.6   Min.   :  4.59   Min.   :  0.0   Min.   : 0.010  \n",
       " 1st Qu.: 993.2   1st Qu.: 21.66   1st Qu.:106.6   1st Qu.: 4.560  \n",
       " Median :1004.4   Median : 33.03   Median :189.0   Median : 7.400  \n",
       " Mean   :1001.2   Mean   : 37.94   Mean   :191.0   Mean   : 8.823  \n",
       " 3rd Qu.:1015.7   3rd Qu.: 51.00   3rd Qu.:299.9   3rd Qu.:11.530  \n",
       " Max.   :1039.4   Max.   :100.00   Max.   :360.0   Max.   :52.880  \n",
       "                                                                   \n",
       "      hour           month             date             weekend       \n",
       " Min.   : 0.00   Min.   : 1.000   Min.   :2017-01-01   Mode :logical  \n",
       " 1st Qu.: 5.00   1st Qu.: 3.000   1st Qu.:2017-05-09   FALSE:286752   \n",
       " Median :11.00   Median : 5.000   Median :2017-09-24   TRUE :116165   \n",
       " Mean   :11.45   Mean   : 5.609   Mean   :2017-09-18                  \n",
       " 3rd Qu.:17.00   3rd Qu.: 9.000   3rd Qu.:2018-01-21                  \n",
       " Max.   :23.00   Max.   :12.000   Max.   :2018-05-28                  \n",
       "                                                                      "
      ]
     },
     "metadata": {},
     "output_type": "display_data"
    }
   ],
   "source": [
    "str(bj_aq_gm_combined_data)\n",
    "bj_aq_gm_combined_data %>% summarize(min_date = min(date), max_date = max(date))\n",
    "summary(bj_aq_gm_combined_data)"
   ]
  },
  {
   "cell_type": "code",
   "execution_count": 26,
   "metadata": {
    "collapsed": true
   },
   "outputs": [],
   "source": [
    "rm(\"bj_aq_gm_data\")\n",
    "rm(\"bj_aq_gm_hist_data\")"
   ]
  },
  {
   "cell_type": "code",
   "execution_count": 30,
   "metadata": {
    "collapsed": true
   },
   "outputs": [],
   "source": [
    "#code to replace outliers with NA\n",
    "bj_aq_gm_combined_data[bj_aq_gm_combined_data$PM2.5 %in% boxplot.stats(bj_aq_gm_combined_data$PM2.5)$out, ]$PM2.5 <- NA\n",
    "bj_aq_gm_combined_data[bj_aq_gm_combined_data$PM10 %in% boxplot.stats(bj_aq_gm_combined_data$PM10)$out, ]$PM10 <- NA\n",
    "bj_aq_gm_combined_data[bj_aq_gm_combined_data$O3 %in% boxplot.stats(bj_aq_gm_combined_data$O3)$out, ]$O3 <- NA"
   ]
  },
  {
   "cell_type": "code",
   "execution_count": 40,
   "metadata": {},
   "outputs": [
    {
     "name": "stdout",
     "output_type": "stream",
     "text": [
      "'data.frame':\t402917 obs. of  15 variables:\n",
      " $ stationName   : Factor w/ 26 levels \"beijing_grid_216\",..: 1 1 1 1 1 1 1 1 1 1 ...\n",
      " $ utc_time      : POSIXct, format: \"2018-03-31 07:00:00\" \"2018-03-31 08:00:00\" ...\n",
      " $ stationId     : Factor w/ 35 levels \"aotizhongxin_aq\",..: 14 14 14 14 14 14 14 14 14 14 ...\n",
      " $ PM2.5         : num  105 120 121 137 146 NA 160 NA 136 149 ...\n",
      " $ PM10          : num  163 185 185 212 NA NA NA NA 204 219 ...\n",
      " $ O3            : num  137 140 141 132 106 96 46 45 50 7 ...\n",
      " $ temperature   : num  22 23 23 24 20 19 17 13 14 12.4 ...\n",
      " $ pressure      : num  1001 1000 1000 999 1000 ...\n",
      " $ humidity      : num  20 20 22 24 28 31 32 32 31 32 ...\n",
      " $ wind_direction: num  159 174 188 205 232 ...\n",
      " $ wind_speed.kph: num  10.63 10.96 10.21 9.83 7.27 ...\n",
      " $ hour          : int  7 8 9 10 11 12 13 14 15 17 ...\n",
      " $ month         : num  3 3 3 3 3 3 3 3 3 3 ...\n",
      " $ date          : Date, format: \"2018-03-31\" \"2018-03-31\" ...\n",
      " $ weekend       : logi  TRUE TRUE TRUE TRUE TRUE TRUE ...\n"
     ]
    },
    {
     "data": {
      "text/plain": [
       "           stationName        utc_time                           stationId     \n",
       " beijing_grid_303: 69072   Min.   :2017-01-01 14:00:00   badaling_aq  : 11512  \n",
       " beijing_grid_282: 23024   1st Qu.:2017-05-09 22:00:00   beibuxinqu_aq: 11512  \n",
       " beijing_grid_283: 23024   Median :2017-09-24 14:00:00   daxing_aq    : 11512  \n",
       " beijing_grid_324: 23024   Mean   :2017-09-18 23:43:01   dingling_aq  : 11512  \n",
       " beijing_grid_452: 23024   3rd Qu.:2018-01-21 02:00:00   donggaocun_aq: 11512  \n",
       " beijing_grid_216: 11512   Max.   :2018-05-28 21:00:00   dongsi_aq    : 11512  \n",
       " (Other)         :230237                                 (Other)      :333845  \n",
       "     PM2.5             PM10              O3          temperature    \n",
       " Min.   :  2.00   Min.   :  5.00   Min.   :  1.00   Min.   :-18.37  \n",
       " 1st Qu.: 16.00   1st Qu.: 39.00   1st Qu.: 14.00   1st Qu.:  0.55  \n",
       " Median : 38.00   Median : 72.00   Median : 47.00   Median : 11.71  \n",
       " Mean   : 49.69   Mean   : 82.42   Mean   : 52.55   Mean   : 11.40  \n",
       " 3rd Qu.: 72.00   3rd Qu.:115.00   3rd Qu.: 78.00   3rd Qu.: 22.00  \n",
       " Max.   :177.00   Max.   :245.00   Max.   :185.00   Max.   : 36.08  \n",
       " NA's   :45977    NA's   :116208   NA's   :38395                    \n",
       "    pressure         humidity      wind_direction  wind_speed.kph  \n",
       " Min.   : 917.6   Min.   :  4.59   Min.   :  0.0   Min.   : 0.010  \n",
       " 1st Qu.: 993.2   1st Qu.: 21.66   1st Qu.:106.6   1st Qu.: 4.560  \n",
       " Median :1004.4   Median : 33.03   Median :189.0   Median : 7.400  \n",
       " Mean   :1001.2   Mean   : 37.94   Mean   :191.0   Mean   : 8.823  \n",
       " 3rd Qu.:1015.7   3rd Qu.: 51.00   3rd Qu.:299.9   3rd Qu.:11.530  \n",
       " Max.   :1039.4   Max.   :100.00   Max.   :360.0   Max.   :52.880  \n",
       "                                                                   \n",
       "      hour           month             date             weekend       \n",
       " Min.   : 0.00   Min.   : 1.000   Min.   :2017-01-01   Mode :logical  \n",
       " 1st Qu.: 5.00   1st Qu.: 3.000   1st Qu.:2017-05-09   FALSE:286752   \n",
       " Median :11.00   Median : 5.000   Median :2017-09-24   TRUE :116165   \n",
       " Mean   :11.45   Mean   : 5.609   Mean   :2017-09-18                  \n",
       " 3rd Qu.:17.00   3rd Qu.: 9.000   3rd Qu.:2018-01-21                  \n",
       " Max.   :23.00   Max.   :12.000   Max.   :2018-05-28                  \n",
       "                                                                      "
      ]
     },
     "metadata": {},
     "output_type": "display_data"
    }
   ],
   "source": [
    "str(bj_aq_gm_combined_data)\n",
    "summary(bj_aq_gm_combined_data)"
   ]
  },
  {
   "cell_type": "code",
   "execution_count": 41,
   "metadata": {},
   "outputs": [
    {
     "name": "stderr",
     "output_type": "stream",
     "text": [
      "Warning message:\n",
      "\"package 'bindrcpp' was built under R version 3.4.3\""
     ]
    }
   ],
   "source": [
    "# replace PM2.5 NA with mean values based on certain groups\n",
    "bj_aq_gm_combined_data_PM2.5 <- bj_aq_gm_combined_data %>% \n",
    "                                group_by(stationId, hour, month, weekend) %>% \n",
    "                                summarize(PM2.5 = mean(PM2.5, na.rm = TRUE))\n",
    "bj_aq_gm_combined_data <- bj_aq_gm_combined_data %>% \n",
    "                          left_join(bj_aq_gm_combined_data_PM2.5, c(\"stationId\", \"hour\", \"month\", \"weekend\")) %>% \n",
    "                          mutate(PM2.5 = coalesce(PM2.5.x, PM2.5.y)) %>% \n",
    "                          select(-PM2.5.x, -PM2.5.y)\n",
    "bj_aq_gm_combined_data_PM2.5 <- bj_aq_gm_combined_data %>% \n",
    "                                group_by(stationId, hour, weekend) %>% \n",
    "                                summarize(PM2.5 = mean(PM2.5, na.rm = TRUE))\n",
    "bj_aq_gm_combined_data <- bj_aq_gm_combined_data %>% \n",
    "                          left_join(bj_aq_gm_combined_data_PM2.5, c(\"stationId\", \"hour\", \"weekend\")) %>% \n",
    "                          mutate(PM2.5 = coalesce(PM2.5.x, PM2.5.y)) %>% \n",
    "                          select(-PM2.5.x, -PM2.5.y)"
   ]
  },
  {
   "cell_type": "code",
   "execution_count": 42,
   "metadata": {
    "collapsed": true
   },
   "outputs": [],
   "source": [
    "# replace PM10 NA with mean values based on certain groups\n",
    "bj_aq_gm_combined_data_PM10 <- bj_aq_gm_combined_data %>% \n",
    "                                group_by(stationId, hour, month, weekend) %>% \n",
    "                                summarize(PM10 = mean(PM10, na.rm = TRUE))\n",
    "bj_aq_gm_combined_data <- bj_aq_gm_combined_data %>% \n",
    "                          left_join(bj_aq_gm_combined_data_PM10, c(\"stationId\", \"hour\", \"month\", \"weekend\")) %>% \n",
    "                          mutate(PM10 = coalesce(PM10.x, PM10.y)) %>% \n",
    "                          select(-PM10.x, -PM10.y)\n",
    "bj_aq_gm_combined_data_PM10 <- bj_aq_gm_combined_data %>% \n",
    "                                group_by(stationId, hour, weekend) %>% \n",
    "                                summarize(PM10 = mean(PM10, na.rm = TRUE))\n",
    "bj_aq_gm_combined_data <- bj_aq_gm_combined_data %>% \n",
    "                          left_join(bj_aq_gm_combined_data_PM10, c(\"stationId\", \"hour\", \"weekend\")) %>% \n",
    "                          mutate(PM10 = coalesce(PM10.x, PM10.y)) %>% \n",
    "                          select(-PM10.x, -PM10.y)"
   ]
  },
  {
   "cell_type": "code",
   "execution_count": 43,
   "metadata": {
    "collapsed": true
   },
   "outputs": [],
   "source": [
    "# replace O3 NA with mean values based on certain groups\n",
    "bj_aq_gm_combined_data_O3 <- bj_aq_gm_combined_data %>% \n",
    "                                group_by(stationId, hour, month, weekend) %>% \n",
    "                                summarize(O3 = mean(O3, na.rm = TRUE))\n",
    "bj_aq_gm_combined_data <- bj_aq_gm_combined_data %>% \n",
    "                          left_join(bj_aq_gm_combined_data_O3, c(\"stationId\", \"hour\", \"month\", \"weekend\")) %>% \n",
    "                          mutate(O3 = coalesce(O3.x, O3.y)) %>% \n",
    "                          select(-O3.x, -O3.y)\n",
    "bj_aq_gm_combined_data_O3 <- bj_aq_gm_combined_data %>% \n",
    "                                group_by(stationId, hour,  weekend) %>% \n",
    "                                summarize(O3 = mean(O3, na.rm = TRUE))\n",
    "bj_aq_gm_combined_data <- bj_aq_gm_combined_data %>% \n",
    "                          left_join(bj_aq_gm_combined_data_O3, c(\"stationId\", \"hour\",  \"weekend\")) %>% \n",
    "                          mutate(O3 = coalesce(O3.x, O3.y)) %>% \n",
    "                          select(-O3.x, -O3.y)"
   ]
  },
  {
   "cell_type": "code",
   "execution_count": 44,
   "metadata": {
    "collapsed": true
   },
   "outputs": [],
   "source": [
    "rm(\"bj_aq_gm_combined_data_PM2.5\")\n",
    "rm(\"bj_aq_gm_combined_data_PM10\")\n",
    "rm(\"bj_aq_gm_combined_data_O3\")"
   ]
  },
  {
   "cell_type": "code",
   "execution_count": 45,
   "metadata": {},
   "outputs": [
    {
     "name": "stdout",
     "output_type": "stream",
     "text": [
      "'data.frame':\t402917 obs. of  15 variables:\n",
      " $ stationName   : Factor w/ 26 levels \"beijing_grid_216\",..: 1 1 1 1 1 1 1 1 1 1 ...\n",
      " $ utc_time      : POSIXct, format: \"2018-03-31 07:00:00\" \"2018-03-31 08:00:00\" ...\n",
      " $ stationId     : Factor w/ 35 levels \"aotizhongxin_aq\",..: 14 14 14 14 14 14 14 14 14 14 ...\n",
      " $ temperature   : num  22 23 23 24 20 19 17 13 14 12.4 ...\n",
      " $ pressure      : num  1001 1000 1000 999 1000 ...\n",
      " $ humidity      : num  20 20 22 24 28 31 32 32 31 32 ...\n",
      " $ wind_direction: num  159 174 188 205 232 ...\n",
      " $ wind_speed.kph: num  10.63 10.96 10.21 9.83 7.27 ...\n",
      " $ hour          : int  7 8 9 10 11 12 13 14 15 17 ...\n",
      " $ month         : num  3 3 3 3 3 3 3 3 3 3 ...\n",
      " $ date          : Date, format: \"2018-03-31\" \"2018-03-31\" ...\n",
      " $ weekend       : logi  TRUE TRUE TRUE TRUE TRUE TRUE ...\n",
      " $ PM2.5         : num  105 120 121 137 146 ...\n",
      " $ PM10          : num  163 185 185 212 116 ...\n",
      " $ O3            : num  137 140 141 132 106 96 46 45 50 7 ...\n"
     ]
    },
    {
     "data": {
      "text/plain": [
       "           stationName        utc_time                           stationId     \n",
       " beijing_grid_303: 69072   Min.   :2017-01-01 14:00:00   badaling_aq  : 11512  \n",
       " beijing_grid_282: 23024   1st Qu.:2017-05-09 22:00:00   beibuxinqu_aq: 11512  \n",
       " beijing_grid_283: 23024   Median :2017-09-24 14:00:00   daxing_aq    : 11512  \n",
       " beijing_grid_324: 23024   Mean   :2017-09-18 23:43:01   dingling_aq  : 11512  \n",
       " beijing_grid_452: 23024   3rd Qu.:2018-01-21 02:00:00   donggaocun_aq: 11512  \n",
       " beijing_grid_216: 11512   Max.   :2018-05-28 21:00:00   dongsi_aq    : 11512  \n",
       " (Other)         :230237                                 (Other)      :333845  \n",
       "  temperature        pressure         humidity      wind_direction \n",
       " Min.   :-18.37   Min.   : 917.6   Min.   :  4.59   Min.   :  0.0  \n",
       " 1st Qu.:  0.55   1st Qu.: 993.2   1st Qu.: 21.66   1st Qu.:106.6  \n",
       " Median : 11.71   Median :1004.4   Median : 33.03   Median :189.0  \n",
       " Mean   : 11.40   Mean   :1001.2   Mean   : 37.94   Mean   :191.0  \n",
       " 3rd Qu.: 22.00   3rd Qu.:1015.7   3rd Qu.: 51.00   3rd Qu.:299.9  \n",
       " Max.   : 36.08   Max.   :1039.4   Max.   :100.00   Max.   :360.0  \n",
       "                                                                   \n",
       " wind_speed.kph        hour           month             date           \n",
       " Min.   : 0.010   Min.   : 0.00   Min.   : 1.000   Min.   :2017-01-01  \n",
       " 1st Qu.: 4.560   1st Qu.: 5.00   1st Qu.: 3.000   1st Qu.:2017-05-09  \n",
       " Median : 7.400   Median :11.00   Median : 5.000   Median :2017-09-24  \n",
       " Mean   : 8.823   Mean   :11.45   Mean   : 5.609   Mean   :2017-09-18  \n",
       " 3rd Qu.:11.530   3rd Qu.:17.00   3rd Qu.: 9.000   3rd Qu.:2018-01-21  \n",
       " Max.   :52.880   Max.   :23.00   Max.   :12.000   Max.   :2018-05-28  \n",
       "                                                                       \n",
       "  weekend            PM2.5             PM10              O3        \n",
       " Mode :logical   Min.   :  2.00   Min.   :  5.00   Min.   :  1.00  \n",
       " FALSE:286752    1st Qu.: 18.00   1st Qu.: 45.00   1st Qu.: 16.00  \n",
       " TRUE :116165    Median : 41.49   Median : 73.21   Median : 49.00  \n",
       "                 Mean   : 49.79   Mean   : 80.88   Mean   : 54.73  \n",
       "                 3rd Qu.: 69.00   3rd Qu.:106.33   3rd Qu.: 82.00  \n",
       "                 Max.   :177.00   Max.   :245.00   Max.   :185.00  \n",
       "                                                                   "
      ]
     },
     "metadata": {},
     "output_type": "display_data"
    }
   ],
   "source": [
    "str(bj_aq_gm_combined_data)\n",
    "summary(bj_aq_gm_combined_data)"
   ]
  },
  {
   "cell_type": "code",
   "execution_count": 46,
   "metadata": {},
   "outputs": [
    {
     "data": {
      "text/html": [
       "<table>\n",
       "<thead><tr><th scope=col>stationName</th><th scope=col>utc_time</th><th scope=col>stationId</th><th scope=col>temperature</th><th scope=col>pressure</th><th scope=col>humidity</th><th scope=col>wind_direction</th><th scope=col>wind_speed.kph</th><th scope=col>hour</th><th scope=col>month</th><th scope=col>date</th><th scope=col>weekend</th><th scope=col>PM2.5</th><th scope=col>PM10</th><th scope=col>O3</th></tr></thead>\n",
       "<tbody>\n",
       "</tbody>\n",
       "</table>\n"
      ],
      "text/latex": [
       "\\begin{tabular}{r|lllllllllllllll}\n",
       " stationName & utc\\_time & stationId & temperature & pressure & humidity & wind\\_direction & wind\\_speed.kph & hour & month & date & weekend & PM2.5 & PM10 & O3\\\\\n",
       "\\hline\n",
       "\\end{tabular}\n"
      ],
      "text/markdown": [
       "\n",
       "stationName | utc_time | stationId | temperature | pressure | humidity | wind_direction | wind_speed.kph | hour | month | date | weekend | PM2.5 | PM10 | O3 | \n",
       "||\n",
       "\n",
       "\n"
      ],
      "text/plain": [
       "     stationName utc_time stationId temperature pressure humidity\n",
       "     wind_direction wind_speed.kph hour month date weekend PM2.5 PM10 O3"
      ]
     },
     "metadata": {},
     "output_type": "display_data"
    }
   ],
   "source": [
    "# validating for no NAs\n",
    "bj_aq_gm_combined_data[!complete.cases(bj_aq_gm_combined_data),]"
   ]
  },
  {
   "cell_type": "code",
   "execution_count": 47,
   "metadata": {
    "collapsed": true
   },
   "outputs": [],
   "source": [
    "# converting logical weekend value to numeric for modeling\n",
    "bj_aq_gm_combined_data$weekend <- as.integer(bj_aq_gm_combined_data$weekend)"
   ]
  },
  {
   "cell_type": "code",
   "execution_count": 48,
   "metadata": {
    "collapsed": true
   },
   "outputs": [],
   "source": [
    "# selecting only required columns\n",
    "bj_aq_gm_combined_data <- \n",
    "bj_aq_gm_combined_data %>% select(c(\"stationName\",\"utc_time\",\"stationId\",\"PM2.5\",\"PM10\", \"O3\",\n",
    "                                    \"temperature\",\"pressure\",\"humidity\",\"wind_direction\",\"wind_speed.kph\", \n",
    "                                    \"hour\", \"month\", \"date\", \"weekend\"))"
   ]
  },
  {
   "cell_type": "code",
   "execution_count": 49,
   "metadata": {
    "collapsed": true
   },
   "outputs": [],
   "source": [
    "# retreiving lat long data  \n",
    "bj_lat_long_file <- \"Datasets/Beijing_AirQuality_Stations.csv\"\n",
    "bj_lat_long_data <- read.csv(bj_lat_long_file, header=TRUE, sep=\",\", stringsAsFactors = FALSE) \n",
    "colnames(bj_lat_long_data) <- c(\"stationId\", \"longitude\", \"latitude\")"
   ]
  },
  {
   "cell_type": "code",
   "execution_count": null,
   "metadata": {
    "collapsed": true
   },
   "outputs": [],
   "source": [
    "bj_aq_gm_combined_data <- merge(bj_aq_gm_combined_data,bj_lat_long_data, by = \"stationId\")"
   ]
  },
  {
   "cell_type": "code",
   "execution_count": 52,
   "metadata": {},
   "outputs": [
    {
     "name": "stdout",
     "output_type": "stream",
     "text": [
      "'data.frame':\t402917 obs. of  17 variables:\n",
      " $ stationId     : Factor w/ 35 levels \"aotizhongxin_aq\",..: 1 1 1 1 1 1 1 1 1 1 ...\n",
      " $ stationName   : Factor w/ 26 levels \"beijing_grid_216\",..: 17 17 17 17 17 17 17 17 17 17 ...\n",
      " $ utc_time      : POSIXct, format: \"2017-01-06 19:00:00\" \"2017-01-06 20:00:00\" ...\n",
      " $ PM2.5         : num  46.1 43.8 48.7 173 166 ...\n",
      " $ PM10          : num  60.4 56.3 63.7 50.6 59.2 ...\n",
      " $ O3            : num  2 33.1 2 2 2 ...\n",
      " $ temperature   : num  -3.9 -3.94 -3.86 -3.63 -3.46 -3.98 -3.81 -3.67 -3.85 -4.2 ...\n",
      " $ pressure      : num  1018 1018 1018 1018 1018 ...\n",
      " $ humidity      : num  87.5 87.5 87.4 86.6 86.1 ...\n",
      " $ wind_direction: num  30.1 15.6 47.8 352.5 347.4 ...\n",
      " $ wind_speed.kph: num  1.83 2.09 1.71 2.8 3.01 ...\n",
      " $ hour          : int  19 20 18 23 0 21 22 17 18 19 ...\n",
      " $ month         : num  1 1 1 1 1 1 1 1 1 1 ...\n",
      " $ date          : Date, format: \"2017-01-06\" \"2017-01-06\" ...\n",
      " $ weekend       : int  0 0 0 0 1 0 0 0 0 0 ...\n",
      " $ longitude     : num  116 116 116 116 116 ...\n",
      " $ latitude      : num  40 40 40 40 40 ...\n"
     ]
    },
    {
     "data": {
      "text/html": [
       "<table>\n",
       "<thead><tr><th scope=col>min_date</th><th scope=col>max_date</th></tr></thead>\n",
       "<tbody>\n",
       "\t<tr><td>2017-01-01 14:00:00</td><td>2018-05-28 21:00:00</td></tr>\n",
       "</tbody>\n",
       "</table>\n"
      ],
      "text/latex": [
       "\\begin{tabular}{r|ll}\n",
       " min\\_date & max\\_date\\\\\n",
       "\\hline\n",
       "\t 2017-01-01 14:00:00 & 2018-05-28 21:00:00\\\\\n",
       "\\end{tabular}\n"
      ],
      "text/markdown": [
       "\n",
       "min_date | max_date | \n",
       "|---|\n",
       "| 2017-01-01 14:00:00 | 2018-05-28 21:00:00 | \n",
       "\n",
       "\n"
      ],
      "text/plain": [
       "  min_date            max_date           \n",
       "1 2017-01-01 14:00:00 2018-05-28 21:00:00"
      ]
     },
     "metadata": {},
     "output_type": "display_data"
    },
    {
     "data": {
      "text/plain": [
       "         stationId                stationName        utc_time                  \n",
       " badaling_aq  : 11512   beijing_grid_303: 69072   Min.   :2017-01-01 14:00:00  \n",
       " beibuxinqu_aq: 11512   beijing_grid_282: 23024   1st Qu.:2017-05-09 22:00:00  \n",
       " daxing_aq    : 11512   beijing_grid_283: 23024   Median :2017-09-24 14:00:00  \n",
       " dingling_aq  : 11512   beijing_grid_324: 23024   Mean   :2017-09-18 23:43:01  \n",
       " donggaocun_aq: 11512   beijing_grid_452: 23024   3rd Qu.:2018-01-21 02:00:00  \n",
       " dongsi_aq    : 11512   beijing_grid_216: 11512   Max.   :2018-05-28 21:00:00  \n",
       " (Other)      :333845   (Other)         :230237                                \n",
       "     PM2.5             PM10              O3          temperature    \n",
       " Min.   :  2.00   Min.   :  5.00   Min.   :  1.00   Min.   :-18.37  \n",
       " 1st Qu.: 18.00   1st Qu.: 45.00   1st Qu.: 16.00   1st Qu.:  0.55  \n",
       " Median : 41.49   Median : 73.21   Median : 49.00   Median : 11.71  \n",
       " Mean   : 49.79   Mean   : 80.88   Mean   : 54.73   Mean   : 11.40  \n",
       " 3rd Qu.: 69.00   3rd Qu.:106.33   3rd Qu.: 82.00   3rd Qu.: 22.00  \n",
       " Max.   :177.00   Max.   :245.00   Max.   :185.00   Max.   : 36.08  \n",
       "                                                                    \n",
       "    pressure         humidity      wind_direction  wind_speed.kph  \n",
       " Min.   : 917.6   Min.   :  4.59   Min.   :  0.0   Min.   : 0.010  \n",
       " 1st Qu.: 993.2   1st Qu.: 21.66   1st Qu.:106.6   1st Qu.: 4.560  \n",
       " Median :1004.4   Median : 33.03   Median :189.0   Median : 7.400  \n",
       " Mean   :1001.2   Mean   : 37.94   Mean   :191.0   Mean   : 8.823  \n",
       " 3rd Qu.:1015.7   3rd Qu.: 51.00   3rd Qu.:299.9   3rd Qu.:11.530  \n",
       " Max.   :1039.4   Max.   :100.00   Max.   :360.0   Max.   :52.880  \n",
       "                                                                   \n",
       "      hour           month             date               weekend      \n",
       " Min.   : 0.00   Min.   : 1.000   Min.   :2017-01-01   Min.   :0.0000  \n",
       " 1st Qu.: 5.00   1st Qu.: 3.000   1st Qu.:2017-05-09   1st Qu.:0.0000  \n",
       " Median :11.00   Median : 5.000   Median :2017-09-24   Median :0.0000  \n",
       " Mean   :11.45   Mean   : 5.609   Mean   :2017-09-18   Mean   :0.2883  \n",
       " 3rd Qu.:17.00   3rd Qu.: 9.000   3rd Qu.:2018-01-21   3rd Qu.:1.0000  \n",
       " Max.   :23.00   Max.   :12.000   Max.   :2018-05-28   Max.   :1.0000  \n",
       "                                                                       \n",
       "   longitude        latitude    \n",
       " Min.   :116.0   Min.   :39.52  \n",
       " 1st Qu.:116.2   1st Qu.:39.86  \n",
       " Median :116.4   Median :39.94  \n",
       " Mean   :116.4   Mean   :39.99  \n",
       " 3rd Qu.:116.5   3rd Qu.:40.13  \n",
       " Max.   :117.1   Max.   :40.50  \n",
       "                                "
      ]
     },
     "metadata": {},
     "output_type": "display_data"
    }
   ],
   "source": [
    "str(bj_aq_gm_combined_data)\n",
    "bj_aq_gm_combined_data %>% summarize(min_date = min(utc_time), max_date = max(utc_time))\n",
    "summary(bj_aq_gm_combined_data)"
   ]
  },
  {
   "cell_type": "markdown",
   "metadata": {},
   "source": [
    "### Model Training and validation"
   ]
  },
  {
   "cell_type": "code",
   "execution_count": 53,
   "metadata": {
    "collapsed": true
   },
   "outputs": [],
   "source": [
    "set.seed(2306)"
   ]
  },
  {
   "cell_type": "code",
   "execution_count": 54,
   "metadata": {
    "collapsed": true
   },
   "outputs": [],
   "source": [
    "# Training and test data set partition\n",
    "sample_size <- floor(0.8 * nrow(bj_aq_gm_combined_data))\n",
    "train_index <- sample(seq_len(nrow(bj_aq_gm_combined_data)), size = sample_size)\n",
    "train_bj <- bj_aq_gm_combined_data[train_index, ]\n",
    "test_bj <- bj_aq_gm_combined_data[-train_index, ]"
   ]
  },
  {
   "cell_type": "code",
   "execution_count": 55,
   "metadata": {},
   "outputs": [
    {
     "name": "stdout",
     "output_type": "stream",
     "text": [
      "'data.frame':\t322333 obs. of  17 variables:\n",
      " $ stationId     : Factor w/ 35 levels \"aotizhongxin_aq\",..: 11 22 31 21 14 4 3 14 29 11 ...\n",
      " $ stationName   : Factor w/ 26 levels \"beijing_grid_216\",..: 13 16 16 26 1 15 9 1 3 13 ...\n",
      " $ utc_time      : POSIXct, format: \"2017-05-10 13:00:00\" \"2017-08-16 02:00:00\" ...\n",
      " $ PM2.5         : num  51 99 28 104 45 4 34 36 166 18 ...\n",
      " $ PM10          : num  132 100 47 34.6 114 ...\n",
      " $ O3            : num  112 26 19 13 42 50 2 2 81 2 ...\n",
      " $ temperature   : num  20.44 28.83 4.53 -6.37 16 ...\n",
      " $ pressure      : num  998 1000 1017 1005 1010 ...\n",
      " $ humidity      : num  21.2 56.6 15.8 96.3 27 ...\n",
      " $ wind_direction: num  285 180 248 295 258 ...\n",
      " $ wind_speed.kph: num  9.08 6.32 12.98 8.16 6.64 ...\n",
      " $ hour          : int  13 2 5 23 17 23 21 14 15 22 ...\n",
      " $ month         : num  5 8 12 2 5 2 4 4 9 12 ...\n",
      " $ date          : Date, format: \"2017-05-10\" \"2017-08-16\" ...\n",
      " $ weekend       : int  0 0 0 0 0 1 0 0 1 1 ...\n",
      " $ longitude     : num  116 116 116 117 116 ...\n",
      " $ latitude      : num  39.9 39.9 39.9 40.1 39.6 ...\n",
      "'data.frame':\t80584 obs. of  17 variables:\n",
      " $ stationId     : Factor w/ 35 levels \"aotizhongxin_aq\",..: 1 1 1 1 1 1 1 1 1 1 ...\n",
      " $ stationName   : Factor w/ 26 levels \"beijing_grid_216\",..: 17 17 17 17 17 17 17 17 17 17 ...\n",
      " $ utc_time      : POSIXct, format: \"2017-01-06 23:00:00\" \"2017-01-06 22:00:00\" ...\n",
      " $ PM2.5         : num  173 35.3 142 24 16 ...\n",
      " $ PM10          : num  50.6 52.3 61.8 64.8 69 ...\n",
      " $ O3            : num  2 2 4 33 45 45 69 65 45 45 ...\n",
      " $ temperature   : num  -3.63 -3.81 1.31 -3.61 -3.67 -3.79 0.39 -1.96 -2.89 -4.83 ...\n",
      " $ pressure      : num  1018 1018 1018 1017 1017 ...\n",
      " $ humidity      : num  86.6 87.1 66.5 59.2 59.3 ...\n",
      " $ wind_direction: num  352 358 350 315 317 ...\n",
      " $ wind_speed.kph: num  2.8 2.61 4.46 9.88 9.99 ...\n",
      " $ hour          : int  23 22 2 21 22 0 10 14 17 23 ...\n",
      " $ month         : num  1 1 1 1 1 1 1 1 1 1 ...\n",
      " $ date          : Date, format: \"2017-01-06\" \"2017-01-06\" ...\n",
      " $ weekend       : int  0 0 1 1 1 1 1 1 1 1 ...\n",
      " $ longitude     : num  116 116 116 116 116 ...\n",
      " $ latitude      : num  40 40 40 40 40 ...\n"
     ]
    }
   ],
   "source": [
    "str(train_bj)\n",
    "str(test_bj)"
   ]
  },
  {
   "cell_type": "code",
   "execution_count": 56,
   "metadata": {},
   "outputs": [
    {
     "data": {
      "text/plain": [
       "\n",
       "Call:\n",
       "lm(formula = .outcome ~ ., data = dat)\n",
       "\n",
       "Residuals:\n",
       "    Min      1Q  Median      3Q     Max \n",
       "-57.673 -30.660  -8.329  18.566 138.595 \n",
       "\n",
       "Coefficients:\n",
       "              Estimate Std. Error t value Pr(>|t|)    \n",
       "(Intercept) 588.582604  28.888297  20.374  < 2e-16 ***\n",
       "latitude    -16.066214   0.303024 -53.020  < 2e-16 ***\n",
       "longitude     0.910126   0.247749   3.674 0.000239 ***\n",
       "hour          0.046803   0.009896   4.730 2.25e-06 ***\n",
       "month        -0.578321   0.019512 -29.639  < 2e-16 ***\n",
       "weekend       1.290028   0.150985   8.544  < 2e-16 ***\n",
       "---\n",
       "Signif. codes:  0 '***' 0.001 '**' 0.01 '*' 0.05 '.' 0.1 ' ' 1\n",
       "\n",
       "Residual standard error: 38.83 on 322327 degrees of freedom\n",
       "Multiple R-squared:  0.01175,\tAdjusted R-squared:  0.01174 \n",
       "F-statistic: 766.7 on 5 and 322327 DF,  p-value: < 2.2e-16\n"
      ]
     },
     "metadata": {},
     "output_type": "display_data"
    },
    {
     "data": {
      "text/html": [
       "<table>\n",
       "<thead><tr><th scope=col>rmse</th><th scope=col>rsq</th></tr></thead>\n",
       "<tbody>\n",
       "\t<tr><td>38.81946 </td><td>0.0119749</td></tr>\n",
       "</tbody>\n",
       "</table>\n"
      ],
      "text/latex": [
       "\\begin{tabular}{r|ll}\n",
       " rmse & rsq\\\\\n",
       "\\hline\n",
       "\t 38.81946  & 0.0119749\\\\\n",
       "\\end{tabular}\n"
      ],
      "text/markdown": [
       "\n",
       "rmse | rsq | \n",
       "|---|\n",
       "| 38.81946  | 0.0119749 | \n",
       "\n",
       "\n"
      ],
      "text/plain": [
       "  rmse     rsq      \n",
       "1 38.81946 0.0119749"
      ]
     },
     "metadata": {},
     "output_type": "display_data"
    }
   ],
   "source": [
    "# Predicting PM2.5 using stationId, hour, month and weekend variables\n",
    "PM2.5_bj_formula <- as.formula(\"PM2.5 ~ latitude + longitude + hour + month + weekend\")\n",
    "PM2.5_bj_model <- train(PM2.5_bj_formula, data = train_bj, method = \"lm\" )\n",
    "summary(PM2.5_bj_model)\n",
    "test_bj$PM2.5_pred <- predict(PM2.5_bj_model, test_bj)\n",
    "metrics(test_bj, truth = PM2.5, estimate = PM2.5_pred)"
   ]
  },
  {
   "cell_type": "code",
   "execution_count": 57,
   "metadata": {},
   "outputs": [
    {
     "data": {
      "text/plain": [
       "\n",
       "Call:\n",
       "lm(formula = .outcome ~ ., data = dat)\n",
       "\n",
       "Residuals:\n",
       "     Min       1Q   Median       3Q      Max \n",
       "-146.426  -23.290   -4.945   17.768  197.472 \n",
       "\n",
       "Coefficients:\n",
       "              Estimate Std. Error t value Pr(>|t|)    \n",
       "(Intercept)  2.572e+03  2.820e+01  91.207  < 2e-16 ***\n",
       "PM2.5        6.994e-01  1.718e-03 407.008  < 2e-16 ***\n",
       "latitude    -1.908e+01  2.969e-01 -64.258  < 2e-16 ***\n",
       "longitude   -1.512e+01  2.417e-01 -62.569  < 2e-16 ***\n",
       "hour        -6.896e-02  9.655e-03  -7.142 9.18e-13 ***\n",
       "month       -5.227e-01  1.906e-02 -27.420  < 2e-16 ***\n",
       "weekend      3.313e+00  1.473e-01  22.489  < 2e-16 ***\n",
       "---\n",
       "Signif. codes:  0 '***' 0.001 '**' 0.01 '*' 0.05 '.' 0.1 ' ' 1\n",
       "\n",
       "Residual standard error: 37.89 on 322326 degrees of freedom\n",
       "Multiple R-squared:  0.3661,\tAdjusted R-squared:  0.3661 \n",
       "F-statistic: 3.103e+04 on 6 and 322326 DF,  p-value: < 2.2e-16\n"
      ]
     },
     "metadata": {},
     "output_type": "display_data"
    },
    {
     "data": {
      "text/html": [
       "<table>\n",
       "<thead><tr><th scope=col>rmse</th><th scope=col>rsq</th></tr></thead>\n",
       "<tbody>\n",
       "\t<tr><td>37.90572 </td><td>0.3680417</td></tr>\n",
       "</tbody>\n",
       "</table>\n"
      ],
      "text/latex": [
       "\\begin{tabular}{r|ll}\n",
       " rmse & rsq\\\\\n",
       "\\hline\n",
       "\t 37.90572  & 0.3680417\\\\\n",
       "\\end{tabular}\n"
      ],
      "text/markdown": [
       "\n",
       "rmse | rsq | \n",
       "|---|\n",
       "| 37.90572  | 0.3680417 | \n",
       "\n",
       "\n"
      ],
      "text/plain": [
       "  rmse     rsq      \n",
       "1 37.90572 0.3680417"
      ]
     },
     "metadata": {},
     "output_type": "display_data"
    }
   ],
   "source": [
    "# Predicting PM10 using stationId, hour, month, weekend variables along with previously predicted PM2.5 \n",
    "PM10_bj_formula <- as.formula(\"PM10 ~ PM2.5 + latitude + longitude + hour + month + weekend\")\n",
    "PM10_bj_model <- train(PM10_bj_formula, data = train_bj, method = \"lm\" )\n",
    "summary(PM10_bj_model)\n",
    "test_bj$PM10_pred <- predict(PM10_bj_model, test_bj)\n",
    "metrics(test_bj, truth = PM10, estimate = PM10_pred)"
   ]
  },
  {
   "cell_type": "code",
   "execution_count": 58,
   "metadata": {},
   "outputs": [
    {
     "data": {
      "text/plain": [
       "\n",
       "Call:\n",
       "lm(formula = .outcome ~ ., data = dat)\n",
       "\n",
       "Residuals:\n",
       "    Min      1Q  Median      3Q     Max \n",
       "-94.797 -31.646  -6.674  24.149 150.122 \n",
       "\n",
       "Coefficients:\n",
       "              Estimate Std. Error  t value Pr(>|t|)    \n",
       "(Intercept) -1.550e+03  3.107e+01  -49.878  < 2e-16 ***\n",
       "PM2.5       -1.660e-01  2.300e-03  -72.155  < 2e-16 ***\n",
       "PM10         9.195e-02  1.916e-03   47.992  < 2e-16 ***\n",
       "latitude     1.797e+01  3.251e-01   55.289  < 2e-16 ***\n",
       "longitude    7.826e+00  2.645e-01   29.585  < 2e-16 ***\n",
       "hour        -1.717e+00  1.050e-02 -163.439  < 2e-16 ***\n",
       "month       -8.041e-01  2.076e-02  -38.731  < 2e-16 ***\n",
       "weekend     -4.769e-01  1.604e-01   -2.974  0.00294 ** \n",
       "---\n",
       "Signif. codes:  0 '***' 0.001 '**' 0.01 '*' 0.05 '.' 0.1 ' ' 1\n",
       "\n",
       "Residual standard error: 41.21 on 322325 degrees of freedom\n",
       "Multiple R-squared:  0.106,\tAdjusted R-squared:  0.106 \n",
       "F-statistic:  5461 on 7 and 322325 DF,  p-value: < 2.2e-16\n"
      ]
     },
     "metadata": {},
     "output_type": "display_data"
    },
    {
     "data": {
      "text/html": [
       "<table>\n",
       "<thead><tr><th scope=col>rmse</th><th scope=col>rsq</th></tr></thead>\n",
       "<tbody>\n",
       "\t<tr><td>41.20984</td><td>0.107647</td></tr>\n",
       "</tbody>\n",
       "</table>\n"
      ],
      "text/latex": [
       "\\begin{tabular}{r|ll}\n",
       " rmse & rsq\\\\\n",
       "\\hline\n",
       "\t 41.20984 & 0.107647\\\\\n",
       "\\end{tabular}\n"
      ],
      "text/markdown": [
       "\n",
       "rmse | rsq | \n",
       "|---|\n",
       "| 41.20984 | 0.107647 | \n",
       "\n",
       "\n"
      ],
      "text/plain": [
       "  rmse     rsq     \n",
       "1 41.20984 0.107647"
      ]
     },
     "metadata": {},
     "output_type": "display_data"
    }
   ],
   "source": [
    "# Predicting O3 using stationId, hour, month, weekend variables along with previously predicted PM2.5, PM10 and O3 variables\n",
    "O3_bj_formula <- as.formula(\"O3 ~ PM2.5 + PM10 + latitude + longitude + hour + month + weekend\")\n",
    "O3_bj_model <- train(O3_bj_formula, data = train_bj, method = \"lm\" )\n",
    "summary(O3_bj_model)\n",
    "test_bj$O3_pred <- predict(O3_bj_model, test_bj)\n",
    "metrics(test_bj, truth = O3, estimate = O3_pred)"
   ]
  },
  {
   "cell_type": "code",
   "execution_count": 59,
   "metadata": {
    "collapsed": true
   },
   "outputs": [],
   "source": [
    "rm(\"train_bj\")\n",
    "rm(\"test_bj\")"
   ]
  },
  {
   "cell_type": "markdown",
   "metadata": {},
   "source": [
    "### Building the next 2 days dataset and predicting PM2.5, PM10 and O3 values"
   ]
  },
  {
   "cell_type": "code",
   "execution_count": 115,
   "metadata": {
    "collapsed": true
   },
   "outputs": [],
   "source": [
    "#setting system timezone to UTC for consistent datetime usage\n",
    "Sys.setenv(TZ='GMT')\n",
    "tomorrow <- Sys.Date() + 1"
   ]
  },
  {
   "cell_type": "code",
   "execution_count": 116,
   "metadata": {
    "collapsed": true
   },
   "outputs": [],
   "source": [
    "# building 1 hour intervals for next 2 days and stationIds\n",
    "bj_time <-seq(from= as.POSIXct(tomorrow), by = \"1 hour\", length.out = 48)\n",
    "bj_time <- with_tz(bj_time, tzone = \"UTC\")\n",
    "bj_future_data <- data.frame(bj_time)\n",
    "# This id will be used in the creation of final submission file\n",
    "bj_future_data$id <- seq.int(nrow(bj_future_data)) -1\n",
    "bj_future_data <- merge(bj_future_data, data.frame(unique(bj_aq_gm_combined_data$stationId)))\n",
    "names(bj_future_data) <- c(\"utc_time\", \"id\", \"stationId\")"
   ]
  },
  {
   "cell_type": "code",
   "execution_count": 117,
   "metadata": {
    "collapsed": true
   },
   "outputs": [],
   "source": [
    "# building datetime features for the next 2 days\n",
    "bj_future_data$hour <- hour(bj_future_data$utc_time)\n",
    "bj_future_data$month <- month(bj_future_data$utc_time)\n",
    "bj_future_data$date <- date(bj_future_data$utc_time)\n",
    "bj_future_data$weekend = chron::is.weekend(bj_future_data$date)"
   ]
  },
  {
   "cell_type": "code",
   "execution_count": 118,
   "metadata": {
    "collapsed": true
   },
   "outputs": [],
   "source": [
    "bj_future_data$weekend <- as.integer(bj_future_data$weekend)"
   ]
  },
  {
   "cell_type": "code",
   "execution_count": 119,
   "metadata": {
    "collapsed": true
   },
   "outputs": [],
   "source": [
    "#lat long data\n",
    "bj_future_data <- merge(bj_future_data,bj_lat_long_data, by = \"stationId\")"
   ]
  },
  {
   "cell_type": "code",
   "execution_count": 120,
   "metadata": {
    "collapsed": true
   },
   "outputs": [],
   "source": [
    "# predicting PM2.5, PM10 and O3 values\n",
    "bj_future_data$PM2.5 <- predict(PM2.5_bj_model, bj_future_data)\n",
    "bj_future_data$PM10 <- predict(PM10_bj_model, bj_future_data)\n",
    "bj_future_data$O3 <- predict(O3_bj_model, bj_future_data)"
   ]
  },
  {
   "cell_type": "code",
   "execution_count": 121,
   "metadata": {
    "collapsed": true
   },
   "outputs": [],
   "source": [
    "#creating the test_id for final submission file\n",
    "bj_future_data$test_id <- paste(bj_future_data$stationId, \"#\", bj_future_data$id, sep = \"\")"
   ]
  },
  {
   "cell_type": "code",
   "execution_count": 122,
   "metadata": {},
   "outputs": [
    {
     "name": "stdout",
     "output_type": "stream",
     "text": [
      "'data.frame':\t1680 obs. of  13 variables:\n",
      " $ stationId: Factor w/ 35 levels \"aotizhongxin_aq\",..: 1 1 1 1 1 1 1 1 1 1 ...\n",
      " $ utc_time : POSIXct, format: \"2018-05-29 00:00:00\" \"2018-05-29 01:00:00\" ...\n",
      " $ id       : num  0 1 2 3 4 5 6 7 8 9 ...\n",
      " $ hour     : int  0 1 2 3 4 5 6 7 8 9 ...\n",
      " $ month    : num  5 5 5 5 5 5 5 5 5 5 ...\n",
      " $ date     : Date, format: \"2018-05-29\" \"2018-05-29\" ...\n",
      " $ weekend  : int  0 0 0 0 0 0 0 0 0 0 ...\n",
      " $ longitude: num  116 116 116 116 116 ...\n",
      " $ latitude : num  40 40 40 40 40 ...\n",
      " $ PM2.5    : num  60.6 60.8 60.9 61.1 61.3 ...\n",
      " $ PM10     : num  91.5 91.5 91.5 91.6 91.6 ...\n",
      " $ O3       : num  81.6 79.6 77.7 75.7 73.7 ...\n",
      " $ test_id  : chr  \"aotizhongxin_aq#0\" \"aotizhongxin_aq#1\" \"aotizhongxin_aq#2\" \"aotizhongxin_aq#3\" ...\n"
     ]
    },
    {
     "data": {
      "text/plain": [
       "           stationId       utc_time                         id       \n",
       " aotizhongxin_aq:  48   Min.   :2018-05-29 00:00:00   Min.   : 0.00  \n",
       " badaling_aq    :  48   1st Qu.:2018-05-29 11:45:00   1st Qu.:11.75  \n",
       " beibuxinqu_aq  :  48   Median :2018-05-29 23:30:00   Median :23.50  \n",
       " daxing_aq      :  48   Mean   :2018-05-29 23:30:00   Mean   :23.50  \n",
       " dingling_aq    :  48   3rd Qu.:2018-05-30 11:15:00   3rd Qu.:35.25  \n",
       " donggaocun_aq  :  48   Max.   :2018-05-30 23:00:00   Max.   :47.00  \n",
       " (Other)        :1392                                                \n",
       "      hour           month        date               weekend    longitude    \n",
       " Min.   : 0.00   Min.   :5   Min.   :2018-05-29   Min.   :0   Min.   :116.0  \n",
       " 1st Qu.: 5.75   1st Qu.:5   1st Qu.:2018-05-29   1st Qu.:0   1st Qu.:116.2  \n",
       " Median :11.50   Median :5   Median :2018-05-29   Median :0   Median :116.4  \n",
       " Mean   :11.50   Mean   :5   Mean   :2018-05-29   Mean   :0   Mean   :116.4  \n",
       " 3rd Qu.:17.25   3rd Qu.:5   3rd Qu.:2018-05-30   3rd Qu.:0   3rd Qu.:116.5  \n",
       " Max.   :23.00   Max.   :5   Max.   :2018-05-30   Max.   :0   Max.   :117.1  \n",
       "                                                                             \n",
       "    latitude         PM2.5            PM10              O3       \n",
       " Min.   :39.52   Min.   :45.49   Min.   : 61.84   Min.   :25.37  \n",
       " 1st Qu.:39.86   1st Qu.:59.24   1st Qu.: 84.69   1st Qu.:47.25  \n",
       " Median :39.94   Median :63.67   Median : 93.89   Median :59.07  \n",
       " Mean   :39.99   Mean   :62.34   Mean   : 91.47   Mean   :59.16  \n",
       " 3rd Qu.:40.13   3rd Qu.:66.26   3rd Qu.: 97.23   3rd Qu.:70.85  \n",
       " Max.   :40.50   Max.   :77.72   Max.   :115.12   Max.   :95.83  \n",
       "                                                                 \n",
       "   test_id         \n",
       " Length:1680       \n",
       " Class :character  \n",
       " Mode  :character  \n",
       "                   \n",
       "                   \n",
       "                   \n",
       "                   "
      ]
     },
     "metadata": {},
     "output_type": "display_data"
    },
    {
     "data": {
      "text/html": [
       "<table>\n",
       "<thead><tr><th scope=col>min_date</th><th scope=col>max_date</th></tr></thead>\n",
       "<tbody>\n",
       "\t<tr><td>2018-05-29         </td><td>2018-05-30 23:00:00</td></tr>\n",
       "</tbody>\n",
       "</table>\n"
      ],
      "text/latex": [
       "\\begin{tabular}{r|ll}\n",
       " min\\_date & max\\_date\\\\\n",
       "\\hline\n",
       "\t 2018-05-29          & 2018-05-30 23:00:00\\\\\n",
       "\\end{tabular}\n"
      ],
      "text/markdown": [
       "\n",
       "min_date | max_date | \n",
       "|---|\n",
       "| 2018-05-29          | 2018-05-30 23:00:00 | \n",
       "\n",
       "\n"
      ],
      "text/plain": [
       "  min_date   max_date           \n",
       "1 2018-05-29 2018-05-30 23:00:00"
      ]
     },
     "metadata": {},
     "output_type": "display_data"
    }
   ],
   "source": [
    "str(bj_future_data)\n",
    "summary(bj_future_data)\n",
    "bj_future_data %>% summarize(min_date = min(utc_time ), max_date = max(utc_time ))"
   ]
  },
  {
   "cell_type": "code",
   "execution_count": 123,
   "metadata": {},
   "outputs": [
    {
     "data": {
      "text/html": [
       "<table>\n",
       "<thead><tr><th scope=col>stationId</th><th scope=col>utc_time</th><th scope=col>id</th><th scope=col>hour</th><th scope=col>month</th><th scope=col>date</th><th scope=col>weekend</th><th scope=col>longitude</th><th scope=col>latitude</th><th scope=col>PM2.5</th><th scope=col>PM10</th><th scope=col>O3</th><th scope=col>test_id</th></tr></thead>\n",
       "<tbody>\n",
       "\t<tr><td>aotizhongxin_aq    </td><td>2018-05-29 00:00:00</td><td> 0                 </td><td> 0                 </td><td>5                  </td><td>2018-05-29         </td><td>0                  </td><td>116.397            </td><td>39.982             </td><td>60.61774           </td><td>91.46826           </td><td>81.59289           </td><td>aotizhongxin_aq#0  </td></tr>\n",
       "\t<tr><td>aotizhongxin_aq    </td><td>2018-05-29 01:00:00</td><td> 1                 </td><td> 1                 </td><td>5                  </td><td>2018-05-29         </td><td>0                  </td><td>116.397            </td><td>39.982             </td><td>60.77679           </td><td>91.49735           </td><td>79.62857           </td><td>aotizhongxin_aq#1  </td></tr>\n",
       "\t<tr><td>aotizhongxin_aq    </td><td>2018-05-29 02:00:00</td><td> 2                 </td><td> 2                 </td><td>5                  </td><td>2018-05-29         </td><td>0                  </td><td>116.397            </td><td>39.982             </td><td>60.93584           </td><td>91.52645           </td><td>77.66424           </td><td>aotizhongxin_aq#2  </td></tr>\n",
       "\t<tr><td>aotizhongxin_aq    </td><td>2018-05-29 03:00:00</td><td> 3                 </td><td> 3                 </td><td>5                  </td><td>2018-05-29         </td><td>0                  </td><td>116.397            </td><td>39.982             </td><td>61.09489           </td><td>91.55554           </td><td>75.69992           </td><td>aotizhongxin_aq#3  </td></tr>\n",
       "\t<tr><td>aotizhongxin_aq    </td><td>2018-05-29 04:00:00</td><td> 4                 </td><td> 4                 </td><td>5                  </td><td>2018-05-29         </td><td>0                  </td><td>116.397            </td><td>39.982             </td><td>61.25394           </td><td>91.58464           </td><td>73.73559           </td><td>aotizhongxin_aq#4  </td></tr>\n",
       "\t<tr><td>aotizhongxin_aq    </td><td>2018-05-29 05:00:00</td><td> 5                 </td><td> 5                 </td><td>5                  </td><td>2018-05-29         </td><td>0                  </td><td>116.397            </td><td>39.982             </td><td>61.41299           </td><td>91.61373           </td><td>71.77127           </td><td>aotizhongxin_aq#5  </td></tr>\n",
       "\t<tr><td>aotizhongxin_aq    </td><td>2018-05-29 06:00:00</td><td> 6                 </td><td> 6                 </td><td>5                  </td><td>2018-05-29         </td><td>0                  </td><td>116.397            </td><td>39.982             </td><td>61.57204           </td><td>91.64283           </td><td>69.80694           </td><td>aotizhongxin_aq#6  </td></tr>\n",
       "\t<tr><td>aotizhongxin_aq    </td><td>2018-05-29 07:00:00</td><td> 7                 </td><td> 7                 </td><td>5                  </td><td>2018-05-29         </td><td>0                  </td><td>116.397            </td><td>39.982             </td><td>61.73109           </td><td>91.67192           </td><td>67.84261           </td><td>aotizhongxin_aq#7  </td></tr>\n",
       "\t<tr><td>aotizhongxin_aq    </td><td>2018-05-29 08:00:00</td><td> 8                 </td><td> 8                 </td><td>5                  </td><td>2018-05-29         </td><td>0                  </td><td>116.397            </td><td>39.982             </td><td>61.89014           </td><td>91.70102           </td><td>65.87829           </td><td>aotizhongxin_aq#8  </td></tr>\n",
       "\t<tr><td>aotizhongxin_aq    </td><td>2018-05-29 09:00:00</td><td> 9                 </td><td> 9                 </td><td>5                  </td><td>2018-05-29         </td><td>0                  </td><td>116.397            </td><td>39.982             </td><td>62.04919           </td><td>91.73011           </td><td>63.91396           </td><td>aotizhongxin_aq#9  </td></tr>\n",
       "\t<tr><td>aotizhongxin_aq    </td><td>2018-05-29 10:00:00</td><td>10                 </td><td>10                 </td><td>5                  </td><td>2018-05-29         </td><td>0                  </td><td>116.397            </td><td>39.982             </td><td>62.20824           </td><td>91.75921           </td><td>61.94964           </td><td>aotizhongxin_aq#10 </td></tr>\n",
       "\t<tr><td>aotizhongxin_aq    </td><td>2018-05-29 11:00:00</td><td>11                 </td><td>11                 </td><td>5                  </td><td>2018-05-29         </td><td>0                  </td><td>116.397            </td><td>39.982             </td><td>62.36729           </td><td>91.78830           </td><td>59.98531           </td><td>aotizhongxin_aq#11 </td></tr>\n",
       "\t<tr><td>aotizhongxin_aq    </td><td>2018-05-29 12:00:00</td><td>12                 </td><td>12                 </td><td>5                  </td><td>2018-05-29         </td><td>0                  </td><td>116.397            </td><td>39.982             </td><td>62.52634           </td><td>91.81740           </td><td>58.02099           </td><td>aotizhongxin_aq#12 </td></tr>\n",
       "\t<tr><td>aotizhongxin_aq    </td><td>2018-05-29 13:00:00</td><td>13                 </td><td>13                 </td><td>5                  </td><td>2018-05-29         </td><td>0                  </td><td>116.397            </td><td>39.982             </td><td>62.68539           </td><td>91.84649           </td><td>56.05666           </td><td>aotizhongxin_aq#13 </td></tr>\n",
       "\t<tr><td>aotizhongxin_aq    </td><td>2018-05-29 14:00:00</td><td>14                 </td><td>14                 </td><td>5                  </td><td>2018-05-29         </td><td>0                  </td><td>116.397            </td><td>39.982             </td><td>62.84444           </td><td>91.87559           </td><td>54.09234           </td><td>aotizhongxin_aq#14 </td></tr>\n",
       "\t<tr><td>aotizhongxin_aq    </td><td>2018-05-29 15:00:00</td><td>15                 </td><td>15                 </td><td>5                  </td><td>2018-05-29         </td><td>0                  </td><td>116.397            </td><td>39.982             </td><td>63.00349           </td><td>91.90468           </td><td>52.12801           </td><td>aotizhongxin_aq#15 </td></tr>\n",
       "\t<tr><td>aotizhongxin_aq    </td><td>2018-05-29 16:00:00</td><td>16                 </td><td>16                 </td><td>5                  </td><td>2018-05-29         </td><td>0                  </td><td>116.397            </td><td>39.982             </td><td>63.16254           </td><td>91.93378           </td><td>50.16368           </td><td>aotizhongxin_aq#16 </td></tr>\n",
       "\t<tr><td>aotizhongxin_aq    </td><td>2018-05-29 17:00:00</td><td>17                 </td><td>17                 </td><td>5                  </td><td>2018-05-29         </td><td>0                  </td><td>116.397            </td><td>39.982             </td><td>63.32159           </td><td>91.96287           </td><td>48.19936           </td><td>aotizhongxin_aq#17 </td></tr>\n",
       "\t<tr><td>aotizhongxin_aq    </td><td>2018-05-29 18:00:00</td><td>18                 </td><td>18                 </td><td>5                  </td><td>2018-05-29         </td><td>0                  </td><td>116.397            </td><td>39.982             </td><td>63.48064           </td><td>91.99197           </td><td>46.23503           </td><td>aotizhongxin_aq#18 </td></tr>\n",
       "\t<tr><td>aotizhongxin_aq    </td><td>2018-05-29 19:00:00</td><td>19                 </td><td>19                 </td><td>5                  </td><td>2018-05-29         </td><td>0                  </td><td>116.397            </td><td>39.982             </td><td>63.63969           </td><td>92.02107           </td><td>44.27071           </td><td>aotizhongxin_aq#19 </td></tr>\n",
       "</tbody>\n",
       "</table>\n"
      ],
      "text/latex": [
       "\\begin{tabular}{r|lllllllllllll}\n",
       " stationId & utc\\_time & id & hour & month & date & weekend & longitude & latitude & PM2.5 & PM10 & O3 & test\\_id\\\\\n",
       "\\hline\n",
       "\t aotizhongxin\\_aq      & 2018-05-29 00:00:00    &  0                     &  0                     & 5                      & 2018-05-29             & 0                      & 116.397                & 39.982                 & 60.61774               & 91.46826               & 81.59289               & aotizhongxin\\_aq\\#0 \\\\\n",
       "\t aotizhongxin\\_aq      & 2018-05-29 01:00:00    &  1                     &  1                     & 5                      & 2018-05-29             & 0                      & 116.397                & 39.982                 & 60.77679               & 91.49735               & 79.62857               & aotizhongxin\\_aq\\#1 \\\\\n",
       "\t aotizhongxin\\_aq      & 2018-05-29 02:00:00    &  2                     &  2                     & 5                      & 2018-05-29             & 0                      & 116.397                & 39.982                 & 60.93584               & 91.52645               & 77.66424               & aotizhongxin\\_aq\\#2 \\\\\n",
       "\t aotizhongxin\\_aq      & 2018-05-29 03:00:00    &  3                     &  3                     & 5                      & 2018-05-29             & 0                      & 116.397                & 39.982                 & 61.09489               & 91.55554               & 75.69992               & aotizhongxin\\_aq\\#3 \\\\\n",
       "\t aotizhongxin\\_aq      & 2018-05-29 04:00:00    &  4                     &  4                     & 5                      & 2018-05-29             & 0                      & 116.397                & 39.982                 & 61.25394               & 91.58464               & 73.73559               & aotizhongxin\\_aq\\#4 \\\\\n",
       "\t aotizhongxin\\_aq      & 2018-05-29 05:00:00    &  5                     &  5                     & 5                      & 2018-05-29             & 0                      & 116.397                & 39.982                 & 61.41299               & 91.61373               & 71.77127               & aotizhongxin\\_aq\\#5 \\\\\n",
       "\t aotizhongxin\\_aq      & 2018-05-29 06:00:00    &  6                     &  6                     & 5                      & 2018-05-29             & 0                      & 116.397                & 39.982                 & 61.57204               & 91.64283               & 69.80694               & aotizhongxin\\_aq\\#6 \\\\\n",
       "\t aotizhongxin\\_aq      & 2018-05-29 07:00:00    &  7                     &  7                     & 5                      & 2018-05-29             & 0                      & 116.397                & 39.982                 & 61.73109               & 91.67192               & 67.84261               & aotizhongxin\\_aq\\#7 \\\\\n",
       "\t aotizhongxin\\_aq      & 2018-05-29 08:00:00    &  8                     &  8                     & 5                      & 2018-05-29             & 0                      & 116.397                & 39.982                 & 61.89014               & 91.70102               & 65.87829               & aotizhongxin\\_aq\\#8 \\\\\n",
       "\t aotizhongxin\\_aq      & 2018-05-29 09:00:00    &  9                     &  9                     & 5                      & 2018-05-29             & 0                      & 116.397                & 39.982                 & 62.04919               & 91.73011               & 63.91396               & aotizhongxin\\_aq\\#9 \\\\\n",
       "\t aotizhongxin\\_aq      & 2018-05-29 10:00:00    & 10                     & 10                     & 5                      & 2018-05-29             & 0                      & 116.397                & 39.982                 & 62.20824               & 91.75921               & 61.94964               & aotizhongxin\\_aq\\#10\\\\\n",
       "\t aotizhongxin\\_aq      & 2018-05-29 11:00:00    & 11                     & 11                     & 5                      & 2018-05-29             & 0                      & 116.397                & 39.982                 & 62.36729               & 91.78830               & 59.98531               & aotizhongxin\\_aq\\#11\\\\\n",
       "\t aotizhongxin\\_aq      & 2018-05-29 12:00:00    & 12                     & 12                     & 5                      & 2018-05-29             & 0                      & 116.397                & 39.982                 & 62.52634               & 91.81740               & 58.02099               & aotizhongxin\\_aq\\#12\\\\\n",
       "\t aotizhongxin\\_aq      & 2018-05-29 13:00:00    & 13                     & 13                     & 5                      & 2018-05-29             & 0                      & 116.397                & 39.982                 & 62.68539               & 91.84649               & 56.05666               & aotizhongxin\\_aq\\#13\\\\\n",
       "\t aotizhongxin\\_aq      & 2018-05-29 14:00:00    & 14                     & 14                     & 5                      & 2018-05-29             & 0                      & 116.397                & 39.982                 & 62.84444               & 91.87559               & 54.09234               & aotizhongxin\\_aq\\#14\\\\\n",
       "\t aotizhongxin\\_aq      & 2018-05-29 15:00:00    & 15                     & 15                     & 5                      & 2018-05-29             & 0                      & 116.397                & 39.982                 & 63.00349               & 91.90468               & 52.12801               & aotizhongxin\\_aq\\#15\\\\\n",
       "\t aotizhongxin\\_aq      & 2018-05-29 16:00:00    & 16                     & 16                     & 5                      & 2018-05-29             & 0                      & 116.397                & 39.982                 & 63.16254               & 91.93378               & 50.16368               & aotizhongxin\\_aq\\#16\\\\\n",
       "\t aotizhongxin\\_aq      & 2018-05-29 17:00:00    & 17                     & 17                     & 5                      & 2018-05-29             & 0                      & 116.397                & 39.982                 & 63.32159               & 91.96287               & 48.19936               & aotizhongxin\\_aq\\#17\\\\\n",
       "\t aotizhongxin\\_aq      & 2018-05-29 18:00:00    & 18                     & 18                     & 5                      & 2018-05-29             & 0                      & 116.397                & 39.982                 & 63.48064               & 91.99197               & 46.23503               & aotizhongxin\\_aq\\#18\\\\\n",
       "\t aotizhongxin\\_aq      & 2018-05-29 19:00:00    & 19                     & 19                     & 5                      & 2018-05-29             & 0                      & 116.397                & 39.982                 & 63.63969               & 92.02107               & 44.27071               & aotizhongxin\\_aq\\#19\\\\\n",
       "\\end{tabular}\n"
      ],
      "text/markdown": [
       "\n",
       "stationId | utc_time | id | hour | month | date | weekend | longitude | latitude | PM2.5 | PM10 | O3 | test_id | \n",
       "|---|---|---|---|---|---|---|---|---|---|---|---|---|---|---|---|---|---|---|---|\n",
       "| aotizhongxin_aq     | 2018-05-29 00:00:00 |  0                  |  0                  | 5                   | 2018-05-29          | 0                   | 116.397             | 39.982              | 60.61774            | 91.46826            | 81.59289            | aotizhongxin_aq#0   | \n",
       "| aotizhongxin_aq     | 2018-05-29 01:00:00 |  1                  |  1                  | 5                   | 2018-05-29          | 0                   | 116.397             | 39.982              | 60.77679            | 91.49735            | 79.62857            | aotizhongxin_aq#1   | \n",
       "| aotizhongxin_aq     | 2018-05-29 02:00:00 |  2                  |  2                  | 5                   | 2018-05-29          | 0                   | 116.397             | 39.982              | 60.93584            | 91.52645            | 77.66424            | aotizhongxin_aq#2   | \n",
       "| aotizhongxin_aq     | 2018-05-29 03:00:00 |  3                  |  3                  | 5                   | 2018-05-29          | 0                   | 116.397             | 39.982              | 61.09489            | 91.55554            | 75.69992            | aotizhongxin_aq#3   | \n",
       "| aotizhongxin_aq     | 2018-05-29 04:00:00 |  4                  |  4                  | 5                   | 2018-05-29          | 0                   | 116.397             | 39.982              | 61.25394            | 91.58464            | 73.73559            | aotizhongxin_aq#4   | \n",
       "| aotizhongxin_aq     | 2018-05-29 05:00:00 |  5                  |  5                  | 5                   | 2018-05-29          | 0                   | 116.397             | 39.982              | 61.41299            | 91.61373            | 71.77127            | aotizhongxin_aq#5   | \n",
       "| aotizhongxin_aq     | 2018-05-29 06:00:00 |  6                  |  6                  | 5                   | 2018-05-29          | 0                   | 116.397             | 39.982              | 61.57204            | 91.64283            | 69.80694            | aotizhongxin_aq#6   | \n",
       "| aotizhongxin_aq     | 2018-05-29 07:00:00 |  7                  |  7                  | 5                   | 2018-05-29          | 0                   | 116.397             | 39.982              | 61.73109            | 91.67192            | 67.84261            | aotizhongxin_aq#7   | \n",
       "| aotizhongxin_aq     | 2018-05-29 08:00:00 |  8                  |  8                  | 5                   | 2018-05-29          | 0                   | 116.397             | 39.982              | 61.89014            | 91.70102            | 65.87829            | aotizhongxin_aq#8   | \n",
       "| aotizhongxin_aq     | 2018-05-29 09:00:00 |  9                  |  9                  | 5                   | 2018-05-29          | 0                   | 116.397             | 39.982              | 62.04919            | 91.73011            | 63.91396            | aotizhongxin_aq#9   | \n",
       "| aotizhongxin_aq     | 2018-05-29 10:00:00 | 10                  | 10                  | 5                   | 2018-05-29          | 0                   | 116.397             | 39.982              | 62.20824            | 91.75921            | 61.94964            | aotizhongxin_aq#10  | \n",
       "| aotizhongxin_aq     | 2018-05-29 11:00:00 | 11                  | 11                  | 5                   | 2018-05-29          | 0                   | 116.397             | 39.982              | 62.36729            | 91.78830            | 59.98531            | aotizhongxin_aq#11  | \n",
       "| aotizhongxin_aq     | 2018-05-29 12:00:00 | 12                  | 12                  | 5                   | 2018-05-29          | 0                   | 116.397             | 39.982              | 62.52634            | 91.81740            | 58.02099            | aotizhongxin_aq#12  | \n",
       "| aotizhongxin_aq     | 2018-05-29 13:00:00 | 13                  | 13                  | 5                   | 2018-05-29          | 0                   | 116.397             | 39.982              | 62.68539            | 91.84649            | 56.05666            | aotizhongxin_aq#13  | \n",
       "| aotizhongxin_aq     | 2018-05-29 14:00:00 | 14                  | 14                  | 5                   | 2018-05-29          | 0                   | 116.397             | 39.982              | 62.84444            | 91.87559            | 54.09234            | aotizhongxin_aq#14  | \n",
       "| aotizhongxin_aq     | 2018-05-29 15:00:00 | 15                  | 15                  | 5                   | 2018-05-29          | 0                   | 116.397             | 39.982              | 63.00349            | 91.90468            | 52.12801            | aotizhongxin_aq#15  | \n",
       "| aotizhongxin_aq     | 2018-05-29 16:00:00 | 16                  | 16                  | 5                   | 2018-05-29          | 0                   | 116.397             | 39.982              | 63.16254            | 91.93378            | 50.16368            | aotizhongxin_aq#16  | \n",
       "| aotizhongxin_aq     | 2018-05-29 17:00:00 | 17                  | 17                  | 5                   | 2018-05-29          | 0                   | 116.397             | 39.982              | 63.32159            | 91.96287            | 48.19936            | aotizhongxin_aq#17  | \n",
       "| aotizhongxin_aq     | 2018-05-29 18:00:00 | 18                  | 18                  | 5                   | 2018-05-29          | 0                   | 116.397             | 39.982              | 63.48064            | 91.99197            | 46.23503            | aotizhongxin_aq#18  | \n",
       "| aotizhongxin_aq     | 2018-05-29 19:00:00 | 19                  | 19                  | 5                   | 2018-05-29          | 0                   | 116.397             | 39.982              | 63.63969            | 92.02107            | 44.27071            | aotizhongxin_aq#19  | \n",
       "\n",
       "\n"
      ],
      "text/plain": [
       "   stationId       utc_time            id hour month date       weekend\n",
       "1  aotizhongxin_aq 2018-05-29 00:00:00  0  0   5     2018-05-29 0      \n",
       "2  aotizhongxin_aq 2018-05-29 01:00:00  1  1   5     2018-05-29 0      \n",
       "3  aotizhongxin_aq 2018-05-29 02:00:00  2  2   5     2018-05-29 0      \n",
       "4  aotizhongxin_aq 2018-05-29 03:00:00  3  3   5     2018-05-29 0      \n",
       "5  aotizhongxin_aq 2018-05-29 04:00:00  4  4   5     2018-05-29 0      \n",
       "6  aotizhongxin_aq 2018-05-29 05:00:00  5  5   5     2018-05-29 0      \n",
       "7  aotizhongxin_aq 2018-05-29 06:00:00  6  6   5     2018-05-29 0      \n",
       "8  aotizhongxin_aq 2018-05-29 07:00:00  7  7   5     2018-05-29 0      \n",
       "9  aotizhongxin_aq 2018-05-29 08:00:00  8  8   5     2018-05-29 0      \n",
       "10 aotizhongxin_aq 2018-05-29 09:00:00  9  9   5     2018-05-29 0      \n",
       "11 aotizhongxin_aq 2018-05-29 10:00:00 10 10   5     2018-05-29 0      \n",
       "12 aotizhongxin_aq 2018-05-29 11:00:00 11 11   5     2018-05-29 0      \n",
       "13 aotizhongxin_aq 2018-05-29 12:00:00 12 12   5     2018-05-29 0      \n",
       "14 aotizhongxin_aq 2018-05-29 13:00:00 13 13   5     2018-05-29 0      \n",
       "15 aotizhongxin_aq 2018-05-29 14:00:00 14 14   5     2018-05-29 0      \n",
       "16 aotizhongxin_aq 2018-05-29 15:00:00 15 15   5     2018-05-29 0      \n",
       "17 aotizhongxin_aq 2018-05-29 16:00:00 16 16   5     2018-05-29 0      \n",
       "18 aotizhongxin_aq 2018-05-29 17:00:00 17 17   5     2018-05-29 0      \n",
       "19 aotizhongxin_aq 2018-05-29 18:00:00 18 18   5     2018-05-29 0      \n",
       "20 aotizhongxin_aq 2018-05-29 19:00:00 19 19   5     2018-05-29 0      \n",
       "   longitude latitude PM2.5    PM10     O3       test_id           \n",
       "1  116.397   39.982   60.61774 91.46826 81.59289 aotizhongxin_aq#0 \n",
       "2  116.397   39.982   60.77679 91.49735 79.62857 aotizhongxin_aq#1 \n",
       "3  116.397   39.982   60.93584 91.52645 77.66424 aotizhongxin_aq#2 \n",
       "4  116.397   39.982   61.09489 91.55554 75.69992 aotizhongxin_aq#3 \n",
       "5  116.397   39.982   61.25394 91.58464 73.73559 aotizhongxin_aq#4 \n",
       "6  116.397   39.982   61.41299 91.61373 71.77127 aotizhongxin_aq#5 \n",
       "7  116.397   39.982   61.57204 91.64283 69.80694 aotizhongxin_aq#6 \n",
       "8  116.397   39.982   61.73109 91.67192 67.84261 aotizhongxin_aq#7 \n",
       "9  116.397   39.982   61.89014 91.70102 65.87829 aotizhongxin_aq#8 \n",
       "10 116.397   39.982   62.04919 91.73011 63.91396 aotizhongxin_aq#9 \n",
       "11 116.397   39.982   62.20824 91.75921 61.94964 aotizhongxin_aq#10\n",
       "12 116.397   39.982   62.36729 91.78830 59.98531 aotizhongxin_aq#11\n",
       "13 116.397   39.982   62.52634 91.81740 58.02099 aotizhongxin_aq#12\n",
       "14 116.397   39.982   62.68539 91.84649 56.05666 aotizhongxin_aq#13\n",
       "15 116.397   39.982   62.84444 91.87559 54.09234 aotizhongxin_aq#14\n",
       "16 116.397   39.982   63.00349 91.90468 52.12801 aotizhongxin_aq#15\n",
       "17 116.397   39.982   63.16254 91.93378 50.16368 aotizhongxin_aq#16\n",
       "18 116.397   39.982   63.32159 91.96287 48.19936 aotizhongxin_aq#17\n",
       "19 116.397   39.982   63.48064 91.99197 46.23503 aotizhongxin_aq#18\n",
       "20 116.397   39.982   63.63969 92.02107 44.27071 aotizhongxin_aq#19"
      ]
     },
     "metadata": {},
     "output_type": "display_data"
    }
   ],
   "source": [
    "head(bj_future_data, 20)"
   ]
  },
  {
   "cell_type": "code",
   "execution_count": 124,
   "metadata": {
    "collapsed": true
   },
   "outputs": [],
   "source": [
    "write.csv(bj_future_data[,c(\"test_id\", \"PM2.5\", \"PM10\", \"O3\")], file = paste(\"bj_submission\", Sys.Date(),\".csv\"), row.names = FALSE)"
   ]
  },
  {
   "cell_type": "code",
   "execution_count": 125,
   "metadata": {
    "collapsed": true
   },
   "outputs": [],
   "source": [
    "# resetting the timezone\n",
    "Sys.unsetenv(\"TZ\")"
   ]
  },
  {
   "cell_type": "code",
   "execution_count": 126,
   "metadata": {
    "collapsed": true
   },
   "outputs": [],
   "source": [
    "rm(\"bj_future_data\")\n",
    "rm(\"bj_lat_long_data\")\n",
    "rm(\"bj_aq_gm_combined_data\")"
   ]
  }
 ],
 "metadata": {
  "kernelspec": {
   "display_name": "R",
   "language": "R",
   "name": "ir"
  },
  "language_info": {
   "codemirror_mode": "r",
   "file_extension": ".r",
   "mimetype": "text/x-r-source",
   "name": "R",
   "pygments_lexer": "r",
   "version": "3.4.2"
  }
 },
 "nbformat": 4,
 "nbformat_minor": 2
}
