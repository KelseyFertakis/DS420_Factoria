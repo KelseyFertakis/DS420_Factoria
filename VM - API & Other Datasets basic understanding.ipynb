{
 "cells": [
  {
   "cell_type": "markdown",
   "metadata": {},
   "source": [
    "#### Basic setup:"
   ]
  },
  {
   "cell_type": "code",
   "execution_count": 151,
   "metadata": {},
   "outputs": [
    {
     "data": {
      "text/html": [
       "<strong>null device:</strong> 1"
      ],
      "text/latex": [
       "\\textbf{null device:} 1"
      ],
      "text/markdown": [
       "**null device:** 1"
      ],
      "text/plain": [
       "null device \n",
       "          1 "
      ]
     },
     "metadata": {},
     "output_type": "display_data"
    },
    {
     "name": "stdout",
     "output_type": "stream",
     "text": [
      "\f"
     ]
    }
   ],
   "source": [
    "if(!is.null(dev.list())) dev.off() # Clear Plots\n",
    "rm(list=ls()) # Clear objects from Memory\n",
    "cat(\"\\014\") # Clear Console\n",
    "# writeClipboard(as.character(x)) # copy data frame to clipboard"
   ]
  },
  {
   "cell_type": "code",
   "execution_count": 152,
   "metadata": {},
   "outputs": [],
   "source": [
    "#install.packages(\"RCurl\")\n",
    "library(RCurl)\n",
    "#install.packages(\"digest\")\n",
    "#install.packages(\"sqldf\")\n",
    "library(sqldf)\n",
    "library(digest)\n",
    "library(dplyr)\n",
    "library(anytime)\n",
    "library(geosphere)"
   ]
  },
  {
   "cell_type": "code",
   "execution_count": 153,
   "metadata": {
    "collapsed": true
   },
   "outputs": [],
   "source": [
    "# set working directory\n",
    "setwd(\"C:/Users/vanethi/Documents/GitHub/DS420_Factoria\")"
   ]
  },
  {
   "cell_type": "markdown",
   "metadata": {},
   "source": [
    "#### Getting API Data:"
   ]
  },
  {
   "cell_type": "code",
   "execution_count": 154,
   "metadata": {
    "collapsed": true
   },
   "outputs": [],
   "source": [
    "# set city id\n",
    "cityID <- data.frame(c('bj','ld'))\n",
    "colnames(cityID) <- c('CityID')\n",
    "\n",
    "# set start and end date\n",
    "startDate <- '2017-12-31-0'\n",
    "endDate <- '2018-06-01-0'"
   ]
  },
  {
   "cell_type": "code",
   "execution_count": 155,
   "metadata": {
    "collapsed": true
   },
   "outputs": [],
   "source": [
    "# pull data for each city id\n",
    "for (i in 1:nrow(cityID)) {\n",
    "\n",
    "  # acquire air quality data\n",
    "  assign(paste0(cityID[i,1],\"_aq_url\"),paste0(\"https://biendata.com/competition/airquality/\",cityID[i,1],\"/\",startDate,\"/\",endDate,\"/2k0d1d8\"))\n",
    "  assign(paste0(cityID[i,1],\"_aq_file\"),getURL(eval(as.symbol(paste0(cityID[i,1],\"_aq_url\"))), ssl.verifyhost=FALSE, ssl.verifypeer=FALSE))\n",
    "  assign(paste0(cityID[i,1],\"_aq_data\"),read.csv(textConnection(eval(as.symbol(paste0(cityID[i,1],\"_aq_file\")))), header=TRUE))\n",
    "  \n",
    "  # acquire API grid meteorology data\n",
    "  assign(paste0(cityID[i,1],\"_gm_url\"),paste0(\"https://biendata.com/competition/meteorology/\",cityID[i,1],\"_grid/\",startDate,\"/\",endDate,\"/2k0d1d8\"))\n",
    "  assign(paste0(cityID[i,1],\"_gm_file\"),getURL(eval(as.symbol(paste0(cityID[i,1],\"_gm_url\"))), ssl.verifyhost=FALSE, ssl.verifypeer=FALSE))\n",
    "  assign(paste0(cityID[i,1],\"_gm_data\"),read.csv(textConnection(eval(as.symbol(paste0(cityID[i,1],\"_gm_file\")))), header=TRUE))\n",
    "}\n",
    "\n"
   ]
  },
  {
   "cell_type": "code",
   "execution_count": 156,
   "metadata": {
    "collapsed": true
   },
   "outputs": [],
   "source": [
    "#acquire beijing observed meteorology data\n",
    "bj_om_url <- paste0(\"https://biendata.com/competition/meteorology/bj/\",startDate,\"/\",endDate,\"/2k0d1d8\")\n",
    "bj_om_file <- getURL(bj_om_url, ssl.verifyhost=FALSE, ssl.verifypeer=FALSE)\n",
    "bj_om_data <- read.csv(textConnection(bj_om_file), header=TRUE)"
   ]
  },
  {
   "cell_type": "code",
   "execution_count": 157,
   "metadata": {
    "collapsed": true
   },
   "outputs": [],
   "source": [
    "rm(\"cityID\")"
   ]
  },
  {
   "cell_type": "code",
   "execution_count": 158,
   "metadata": {},
   "outputs": [
    {
     "data": {
      "text/html": [
       "<ol class=list-inline>\n",
       "\t<li>'ld_aq_data'</li>\n",
       "\t<li>'bj_gm_data'</li>\n",
       "\t<li>'bj_om_data'</li>\n",
       "\t<li>'ld_gm_data'</li>\n",
       "\t<li>'bj_aq_data'</li>\n",
       "</ol>\n"
      ],
      "text/latex": [
       "\\begin{enumerate*}\n",
       "\\item 'ld\\_aq\\_data'\n",
       "\\item 'bj\\_gm\\_data'\n",
       "\\item 'bj\\_om\\_data'\n",
       "\\item 'ld\\_gm\\_data'\n",
       "\\item 'bj\\_aq\\_data'\n",
       "\\end{enumerate*}\n"
      ],
      "text/markdown": [
       "1. 'ld_aq_data'\n",
       "2. 'bj_gm_data'\n",
       "3. 'bj_om_data'\n",
       "4. 'ld_gm_data'\n",
       "5. 'bj_aq_data'\n",
       "\n",
       "\n"
      ],
      "text/plain": [
       "[1] \"ld_aq_data\" \"bj_gm_data\" \"bj_om_data\" \"ld_gm_data\" \"bj_aq_data\""
      ]
     },
     "metadata": {},
     "output_type": "display_data"
    }
   ],
   "source": [
    "# list of available data frames\n",
    "df.list <- names(which(unlist(eapply(.GlobalEnv,is.data.frame))))\n",
    "df.list"
   ]
  },
  {
   "cell_type": "markdown",
   "metadata": {},
   "source": [
    "** I have added the code for all datasets to convert time from character to posixCt format datetime. Noticed we use substr to extract the hour, we can switch it out to converting to time and using time functions if we need more functions **"
   ]
  },
  {
   "cell_type": "code",
   "execution_count": 159,
   "metadata": {
    "collapsed": true
   },
   "outputs": [],
   "source": [
    "# Converting character to datetime\n",
    "bj_om_data$time <- anytime(bj_om_data$time)\n",
    "bj_gm_data$time <- anytime(bj_gm_data$time)\n",
    "bj_aq_data$time <- anytime(bj_aq_data$time)\n",
    "ld_gm_data$time <- anytime(ld_gm_data$time)\n",
    "ld_aq_data$time <- anytime(ld_aq_data$time)"
   ]
  },
  {
   "cell_type": "code",
   "execution_count": 160,
   "metadata": {
    "scrolled": false
   },
   "outputs": [
    {
     "name": "stdout",
     "output_type": "stream",
     "text": [
      "[1] \"ld_aq_data\"\n",
      "'data.frame':\t16679 obs. of  9 variables:\n",
      " $ id                : int  2941506 2941507 2941508 2941509 2941510 2941511 2941512 2941513 2941514 2941515 ...\n",
      " $ station_id        : Factor w/ 19 levels \"BL0\",\"BX1\",\"BX9\",..: 4 1 10 15 12 9 11 14 8 13 ...\n",
      " $ time              : POSIXct, format: \"2018-03-31 07:00:00\" \"2018-03-31 07:00:00\" ...\n",
      " $ PM25_Concentration: num  9.9 8.5 4.8 9.3 8.6 7.4 3.8 14.4 7.4 5.9 ...\n",
      " $ PM10_Concentration: num  14.3 8.8 8.9 10.4 10.5 10.6 6.6 24.1 13.1 6.9 ...\n",
      " $ NO2_Concentration : num  70.4 44.8 16.5 NA 35.7 48.9 36.5 43.3 57.5 NA ...\n",
      " $ CO_Concentration  : logi  NA NA NA NA NA NA ...\n",
      " $ O3_Concentration  : logi  NA NA NA NA NA NA ...\n",
      " $ SO2_Concentration : logi  NA NA NA NA NA NA ...\n",
      "NULL\n",
      "[1] \"bj_gm_data\"\n",
      "'data.frame':\t568931 obs. of  9 variables:\n",
      " $ id            : int  2000958 2000959 2000960 2000961 2000962 2000963 2000964 2000965 2000966 2000967 ...\n",
      " $ station_id    : Factor w/ 651 levels \"beijing_grid_000\",..: 1 2 3 4 5 6 7 8 9 10 ...\n",
      " $ time          : POSIXct, format: \"2018-03-31 07:00:00\" \"2018-03-31 07:00:00\" ...\n",
      " $ weather       : Factor w/ 9 levels \"CLEAR_DAY\",\"CLEAR_NIGHT\",..: 5 5 5 5 5 5 5 5 5 5 ...\n",
      " $ temperature   : num  24 24 25 25 25 25 25 26 22.4 22.4 ...\n",
      " $ pressure      : num  973 960 946 931 914 ...\n",
      " $ humidity      : num  23 21 19 18 16 15 15 16 16 17 ...\n",
      " $ wind_direction: num  161 165 170 184 221 ...\n",
      " $ wind_speed    : num  14.28 13.3 12.42 9.84 7.39 ...\n",
      "NULL\n",
      "[1] \"bj_om_data\"\n",
      "'data.frame':\t15385 obs. of  9 variables:\n",
      " $ id            : int  2001610 2001611 2001612 2001613 2001614 2001615 2001616 2001617 2001618 2001619 ...\n",
      " $ station_id    : Factor w/ 21 levels \"beijing_meo\",..: 17 9 20 12 10 15 14 18 2 13 ...\n",
      " $ time          : POSIXct, format: \"2018-03-31 07:00:00\" \"2018-03-31 07:00:00\" ...\n",
      " $ weather       : Factor w/ 8 levels \"Cloudy\",\"Hail\",..: 7 7 7 2 7 7 7 2 7 7 ...\n",
      " $ temperature   : num  23.4 23.7 25.8 23.9 22.6 22.7 23.2 23.4 23.2 23.5 ...\n",
      " $ pressure      : num  1007 1005 952 1001 1001 ...\n",
      " $ humidity      : num  19 19 14 19 19 19 20 19 20 16 ...\n",
      " $ wind_speed    : num  3.3 1.6 5.4 3.9 3.2 7.1 2.9 1.2 2.9 3.1 ...\n",
      " $ wind_direction: num  212 191 247 232 243 239 231 205 207 172 ...\n",
      "NULL\n",
      "[1] \"ld_gm_data\"\n",
      "'data.frame':\t751581 obs. of  9 variables:\n",
      " $ id            : int  2000096 2000097 2000098 2000099 2000100 2000101 2000102 2000103 2000104 2000105 ...\n",
      " $ station_id    : Factor w/ 861 levels \"london_grid_000\",..: 1 2 3 4 5 6 7 8 9 10 ...\n",
      " $ time          : POSIXct, format: \"2018-03-31 07:00:00\" \"2018-03-31 07:00:00\" ...\n",
      " $ weather       : Factor w/ 8 levels \"CLEAR_DAY\",\"CLEAR_NIGHT\",..: 3 3 3 6 6 6 6 6 6 6 ...\n",
      " $ temperature   : num  6.14 5.43 4.73 4.25 3.99 3.72 3.75 3.78 3.86 3.98 ...\n",
      " $ pressure      : num  995 994 993 990 986 ...\n",
      " $ humidity      : num  85 88 91 93 95 97 96 96 96 96 ...\n",
      " $ wind_direction: num  304 303 302 303 306 ...\n",
      " $ wind_speed    : num  22 18.9 15.8 14.1 13.6 ...\n",
      "NULL\n",
      "[1] \"bj_aq_data\"\n",
      "'data.frame':\t28630 obs. of  9 variables:\n",
      " $ id                : int  2941450 2941451 2941452 2941453 2941454 2941455 2941456 2941457 2941458 2941459 ...\n",
      " $ station_id        : Factor w/ 35 levels \"aotizhongxin_aq\",..: 7 24 11 27 1 19 26 3 35 10 ...\n",
      " $ time              : POSIXct, format: \"2018-03-31 07:00:00\" \"2018-03-31 07:00:00\" ...\n",
      " $ PM25_Concentration: num  105 95 95 99 117 100 95 104 NA 111 ...\n",
      " $ PM10_Concentration: num  172 123 139 172 166 150 139 236 NA 162 ...\n",
      " $ NO2_Concentration : num  53 54 66 58 67 62 82 75 NA 65 ...\n",
      " $ CO_Concentration  : num  0.8 0.9 0.8 1 0.8 0.8 1 0.9 NA 0.9 ...\n",
      " $ O3_Concentration  : num  127 121 123 119 111 127 104 98 NA 119 ...\n",
      " $ SO2_Concentration : num  14 15 13 14 14 15 13 9 NA 13 ...\n",
      "NULL\n"
     ]
    }
   ],
   "source": [
    "# printing structure of all the datasets\n",
    "for (i in 1:length(df.list)) {\n",
    " print(df.list[i])\n",
    "  print(str(get(df.list[i])))\n",
    "}"
   ]
  },
  {
   "cell_type": "code",
   "execution_count": 161,
   "metadata": {
    "scrolled": false
   },
   "outputs": [
    {
     "name": "stdout",
     "output_type": "stream",
     "text": [
      "[1] \"bj_om_data\"\n"
     ]
    },
    {
     "data": {
      "text/html": [
       "<table>\n",
       "<thead><tr><th scope=col>min_date</th><th scope=col>max_date</th></tr></thead>\n",
       "<tbody>\n",
       "\t<tr><td>2018-03-31 07:00:00</td><td>2018-05-07 02:00:00</td></tr>\n",
       "</tbody>\n",
       "</table>\n"
      ],
      "text/latex": [
       "\\begin{tabular}{r|ll}\n",
       " min\\_date & max\\_date\\\\\n",
       "\\hline\n",
       "\t 2018-03-31 07:00:00 & 2018-05-07 02:00:00\\\\\n",
       "\\end{tabular}\n"
      ],
      "text/markdown": [
       "\n",
       "min_date | max_date | \n",
       "|---|\n",
       "| 2018-03-31 07:00:00 | 2018-05-07 02:00:00 | \n",
       "\n",
       "\n"
      ],
      "text/plain": [
       "  min_date            max_date           \n",
       "1 2018-03-31 07:00:00 2018-05-07 02:00:00"
      ]
     },
     "metadata": {},
     "output_type": "display_data"
    },
    {
     "name": "stdout",
     "output_type": "stream",
     "text": [
      "[1] \"bj_gm_data\"\n"
     ]
    },
    {
     "data": {
      "text/html": [
       "<table>\n",
       "<thead><tr><th scope=col>min_date</th><th scope=col>max_date</th></tr></thead>\n",
       "<tbody>\n",
       "\t<tr><td>2018-03-31 07:00:00</td><td>2018-05-07 03:00:00</td></tr>\n",
       "</tbody>\n",
       "</table>\n"
      ],
      "text/latex": [
       "\\begin{tabular}{r|ll}\n",
       " min\\_date & max\\_date\\\\\n",
       "\\hline\n",
       "\t 2018-03-31 07:00:00 & 2018-05-07 03:00:00\\\\\n",
       "\\end{tabular}\n"
      ],
      "text/markdown": [
       "\n",
       "min_date | max_date | \n",
       "|---|\n",
       "| 2018-03-31 07:00:00 | 2018-05-07 03:00:00 | \n",
       "\n",
       "\n"
      ],
      "text/plain": [
       "  min_date            max_date           \n",
       "1 2018-03-31 07:00:00 2018-05-07 03:00:00"
      ]
     },
     "metadata": {},
     "output_type": "display_data"
    },
    {
     "name": "stdout",
     "output_type": "stream",
     "text": [
      "[1] \"bj_aq_data\"\n"
     ]
    },
    {
     "data": {
      "text/html": [
       "<table>\n",
       "<thead><tr><th scope=col>min_date</th><th scope=col>max_date</th></tr></thead>\n",
       "<tbody>\n",
       "\t<tr><td>2018-03-31 07:00:00</td><td>2018-05-07 01:00:00</td></tr>\n",
       "</tbody>\n",
       "</table>\n"
      ],
      "text/latex": [
       "\\begin{tabular}{r|ll}\n",
       " min\\_date & max\\_date\\\\\n",
       "\\hline\n",
       "\t 2018-03-31 07:00:00 & 2018-05-07 01:00:00\\\\\n",
       "\\end{tabular}\n"
      ],
      "text/markdown": [
       "\n",
       "min_date | max_date | \n",
       "|---|\n",
       "| 2018-03-31 07:00:00 | 2018-05-07 01:00:00 | \n",
       "\n",
       "\n"
      ],
      "text/plain": [
       "  min_date            max_date           \n",
       "1 2018-03-31 07:00:00 2018-05-07 01:00:00"
      ]
     },
     "metadata": {},
     "output_type": "display_data"
    },
    {
     "name": "stdout",
     "output_type": "stream",
     "text": [
      "[1] \"ld_gm_data\"\n"
     ]
    },
    {
     "data": {
      "text/html": [
       "<table>\n",
       "<thead><tr><th scope=col>min_date</th><th scope=col>max_date</th></tr></thead>\n",
       "<tbody>\n",
       "\t<tr><td>2018-03-31 07:00:00</td><td>2018-05-07 03:00:00</td></tr>\n",
       "</tbody>\n",
       "</table>\n"
      ],
      "text/latex": [
       "\\begin{tabular}{r|ll}\n",
       " min\\_date & max\\_date\\\\\n",
       "\\hline\n",
       "\t 2018-03-31 07:00:00 & 2018-05-07 03:00:00\\\\\n",
       "\\end{tabular}\n"
      ],
      "text/markdown": [
       "\n",
       "min_date | max_date | \n",
       "|---|\n",
       "| 2018-03-31 07:00:00 | 2018-05-07 03:00:00 | \n",
       "\n",
       "\n"
      ],
      "text/plain": [
       "  min_date            max_date           \n",
       "1 2018-03-31 07:00:00 2018-05-07 03:00:00"
      ]
     },
     "metadata": {},
     "output_type": "display_data"
    },
    {
     "name": "stdout",
     "output_type": "stream",
     "text": [
      "[1] \"ld_aq_data\"\n"
     ]
    },
    {
     "data": {
      "text/html": [
       "<table>\n",
       "<thead><tr><th scope=col>min_date</th><th scope=col>max_date</th></tr></thead>\n",
       "<tbody>\n",
       "\t<tr><td>2018-03-31 07:00:00</td><td>2018-05-07 01:00:00</td></tr>\n",
       "</tbody>\n",
       "</table>\n"
      ],
      "text/latex": [
       "\\begin{tabular}{r|ll}\n",
       " min\\_date & max\\_date\\\\\n",
       "\\hline\n",
       "\t 2018-03-31 07:00:00 & 2018-05-07 01:00:00\\\\\n",
       "\\end{tabular}\n"
      ],
      "text/markdown": [
       "\n",
       "min_date | max_date | \n",
       "|---|\n",
       "| 2018-03-31 07:00:00 | 2018-05-07 01:00:00 | \n",
       "\n",
       "\n"
      ],
      "text/plain": [
       "  min_date            max_date           \n",
       "1 2018-03-31 07:00:00 2018-05-07 01:00:00"
      ]
     },
     "metadata": {},
     "output_type": "display_data"
    }
   ],
   "source": [
    "# Printing the min and max dates of all datasets\n",
    "print(\"bj_om_data\")\n",
    "bj_om_data %>% summarize(min_date = min(time), max_date = max(time))\n",
    "print(\"bj_gm_data\")\n",
    "bj_gm_data %>% summarize(min_date = min(time), max_date = max(time))\n",
    "print(\"bj_aq_data\")\n",
    "bj_aq_data %>% summarize(min_date = min(time), max_date = max(time))\n",
    "print(\"ld_gm_data\")\n",
    "ld_gm_data %>% summarize(min_date = min(time), max_date = max(time))\n",
    "print(\"ld_aq_data\")\n",
    "ld_aq_data %>% summarize(min_date = min(time), max_date = max(time))"
   ]
  },
  {
   "cell_type": "code",
   "execution_count": 162,
   "metadata": {},
   "outputs": [
    {
     "name": "stdout",
     "output_type": "stream",
     "text": [
      "[1] \"bj_aq_data\"\n"
     ]
    },
    {
     "data": {
      "text/plain": [
       " PM25_Concentration PM10_Concentration NO2_Concentration CO_Concentration\n",
       " Min.   :  3.00     Min.   :   6.0     Min.   :  2.00    Min.   :0.1000  \n",
       " 1st Qu.: 19.00     1st Qu.:  63.0     1st Qu.: 20.00    1st Qu.:0.3000  \n",
       " Median : 41.00     Median : 118.0     Median : 36.00    Median :0.5000  \n",
       " Mean   : 61.52     Mean   : 135.9     Mean   : 43.58    Mean   :0.6836  \n",
       " 3rd Qu.: 90.00     3rd Qu.: 187.0     3rd Qu.: 61.00    3rd Qu.:0.9000  \n",
       " Max.   :396.00     Max.   :2030.0     Max.   :249.00    Max.   :4.8000  \n",
       " NA's   :1531       NA's   :5345       NA's   :1251      NA's   :1257    \n",
       " O3_Concentration SO2_Concentration\n",
       " Min.   :  2      Min.   :  2.000  \n",
       " 1st Qu.: 39      1st Qu.:  2.000  \n",
       " Median : 74      Median :  3.000  \n",
       " Mean   : 78      Mean   :  6.511  \n",
       " 3rd Qu.:104      3rd Qu.:  9.000  \n",
       " Max.   :342      Max.   :300.000  \n",
       " NA's   :1427     NA's   :1248     "
      ]
     },
     "metadata": {},
     "output_type": "display_data"
    },
    {
     "name": "stdout",
     "output_type": "stream",
     "text": [
      "[1] \"ld_aq_data\"\n"
     ]
    },
    {
     "data": {
      "text/plain": [
       " PM25_Concentration PM10_Concentration NO2_Concentration\n",
       " Min.   :-14.00     Min.   : -2.30     Min.   : -9.10   \n",
       " 1st Qu.:  7.20     1st Qu.: 11.90     1st Qu.: 18.30   \n",
       " Median : 12.00     Median : 18.60     Median : 31.00   \n",
       " Mean   : 16.46     Mean   : 22.66     Mean   : 37.43   \n",
       " 3rd Qu.: 22.20     3rd Qu.: 30.20     3rd Qu.: 50.80   \n",
       " Max.   :111.00     Max.   :146.10     Max.   :223.90   \n",
       " NA's   :3770       NA's   :5067       NA's   :5784     "
      ]
     },
     "metadata": {},
     "output_type": "display_data"
    }
   ],
   "source": [
    "# printing summary of numerical columns in Air Quality datasets\n",
    "print(\"bj_aq_data\")\n",
    "summary(bj_aq_data[,4:9])\n",
    "print(\"ld_aq_data\")\n",
    "summary(ld_aq_data[,4:6])"
   ]
  },
  {
   "cell_type": "code",
   "execution_count": 163,
   "metadata": {},
   "outputs": [
    {
     "name": "stdout",
     "output_type": "stream",
     "text": [
      "[1] \"bj_om_data\"\n"
     ]
    },
    {
     "data": {
      "text/plain": [
       "  temperature          pressure           humidity          wind_speed      \n",
       " Min.   :    -2.6   Min.   :   944.2   Min.   :     3.0   Min.   :     0.0  \n",
       " 1st Qu.:    10.9   1st Qu.:   996.4   1st Qu.:    28.0   1st Qu.:     1.1  \n",
       " Median :    15.8   Median :  1004.8   Median :    46.0   Median :     1.9  \n",
       " Mean   :   730.4   Mean   :  1777.7   Mean   :   763.7   Mean   :   717.2  \n",
       " 3rd Qu.:    20.8   3rd Qu.:  1010.8   3rd Qu.:    68.0   3rd Qu.:     3.1  \n",
       " Max.   :999999.0   Max.   :999999.0   Max.   :999999.0   Max.   :999999.0  \n",
       " wind_direction  \n",
       " Min.   :     0  \n",
       " 1st Qu.:    80  \n",
       " Median :   186  \n",
       " Mean   : 39257  \n",
       " 3rd Qu.:   267  \n",
       " Max.   :999999  "
      ]
     },
     "metadata": {},
     "output_type": "display_data"
    },
    {
     "name": "stdout",
     "output_type": "stream",
     "text": [
      "[1] \"bj_gm_data\"\n"
     ]
    },
    {
     "data": {
      "text/plain": [
       "  temperature        pressure         humidity      wind_direction  \n",
       " Min.   :-12.00   Min.   : 829.9   Min.   :  6.00   Min.   :  0.00  \n",
       " 1st Qu.:  9.60   1st Qu.: 929.9   1st Qu.: 26.00   1st Qu.: 87.75  \n",
       " Median : 14.80   Median : 977.0   Median : 38.00   Median :188.94  \n",
       " Mean   : 14.45   Mean   : 966.0   Mean   : 41.27   Mean   :182.57  \n",
       " 3rd Qu.: 20.00   3rd Qu.:1009.2   3rd Qu.: 53.00   3rd Qu.:275.85  \n",
       " Max.   : 33.00   Max.   :1030.5   Max.   :100.00   Max.   :360.00  \n",
       "   wind_speed   \n",
       " Min.   : 0.01  \n",
       " 1st Qu.: 6.46  \n",
       " Median :10.12  \n",
       " Mean   :11.99  \n",
       " 3rd Qu.:15.50  \n",
       " Max.   :62.38  "
      ]
     },
     "metadata": {},
     "output_type": "display_data"
    },
    {
     "name": "stdout",
     "output_type": "stream",
     "text": [
      "[1] \"ld_gm_data\"\n"
     ]
    },
    {
     "data": {
      "text/plain": [
       "  temperature       pressure         humidity      wind_direction \n",
       " Min.   :-1.47   Min.   : 971.2   Min.   :  7.00   Min.   :  0.0  \n",
       " 1st Qu.: 7.79   1st Qu.: 998.3   1st Qu.: 78.00   1st Qu.:109.9  \n",
       " Median : 9.84   Median :1005.3   Median : 85.00   Median :190.8  \n",
       " Mean   :10.12   Mean   :1005.3   Mean   : 83.67   Mean   :177.2  \n",
       " 3rd Qu.:11.96   3rd Qu.:1012.2   3rd Qu.: 92.00   3rd Qu.:245.8  \n",
       " Max.   :28.23   Max.   :1030.0   Max.   :100.00   Max.   :360.0  \n",
       "   wind_speed   \n",
       " Min.   : 0.03  \n",
       " 1st Qu.:10.87  \n",
       " Median :16.53  \n",
       " Mean   :18.00  \n",
       " 3rd Qu.:23.67  \n",
       " Max.   :74.25  "
      ]
     },
     "metadata": {},
     "output_type": "display_data"
    }
   ],
   "source": [
    "# printing summary of numerical columns in Geometeorological datasets\n",
    "print(\"bj_om_data\")\n",
    "summary(bj_om_data[,5:9])\n",
    "print(\"bj_gm_data\")\n",
    "summary(bj_gm_data[,5:9])\n",
    "print(\"ld_gm_data\")\n",
    "summary(ld_gm_data[,5:9])"
   ]
  },
  {
   "cell_type": "markdown",
   "metadata": {},
   "source": [
    "**The weather component doesn't have a consistent naming conventions; We have ignored this for now, which is good. If this appears to be an important factor, we can identify a way to match between the different nomenclatures**"
   ]
  },
  {
   "cell_type": "code",
   "execution_count": 164,
   "metadata": {},
   "outputs": [
    {
     "name": "stdout",
     "output_type": "stream",
     "text": [
      "[1] \"bj_om_data\"\n"
     ]
    },
    {
     "data": {
      "text/html": [
       "<ol class=list-inline>\n",
       "\t<li>Sunny/clear</li>\n",
       "\t<li>Hail</li>\n",
       "\t<li>Cloudy</li>\n",
       "\t<li>Thundershower</li>\n",
       "\t<li>Overcast</li>\n",
       "\t<li>Sleet</li>\n",
       "\t<li>Light Rain</li>\n",
       "\t<li>Rain</li>\n",
       "</ol>\n"
      ],
      "text/latex": [
       "\\begin{enumerate*}\n",
       "\\item Sunny/clear\n",
       "\\item Hail\n",
       "\\item Cloudy\n",
       "\\item Thundershower\n",
       "\\item Overcast\n",
       "\\item Sleet\n",
       "\\item Light Rain\n",
       "\\item Rain\n",
       "\\end{enumerate*}\n"
      ],
      "text/markdown": [
       "1. Sunny/clear\n",
       "2. Hail\n",
       "3. Cloudy\n",
       "4. Thundershower\n",
       "5. Overcast\n",
       "6. Sleet\n",
       "7. Light Rain\n",
       "8. Rain\n",
       "\n",
       "\n"
      ],
      "text/plain": [
       "[1] Sunny/clear   Hail          Cloudy        Thundershower Overcast     \n",
       "[6] Sleet         Light Rain    Rain         \n",
       "8 Levels: Cloudy Hail Light Rain Overcast Rain Sleet ... Thundershower"
      ]
     },
     "metadata": {},
     "output_type": "display_data"
    },
    {
     "name": "stdout",
     "output_type": "stream",
     "text": [
      "[1] \"bj_gm_data\"\n"
     ]
    },
    {
     "data": {
      "text/html": [
       "<ol class=list-inline>\n",
       "\t<li>PARTLY_CLOUDY_DAY</li>\n",
       "\t<li>CLOUDY</li>\n",
       "\t<li>RAIN</li>\n",
       "\t<li>HAZE</li>\n",
       "\t<li>PARTLY_CLOUDY_NIGHT</li>\n",
       "\t<li>CLEAR_NIGHT</li>\n",
       "\t<li>CLEAR_DAY</li>\n",
       "\t<li>WIND</li>\n",
       "\t<li>SNOW</li>\n",
       "</ol>\n"
      ],
      "text/latex": [
       "\\begin{enumerate*}\n",
       "\\item PARTLY\\_CLOUDY\\_DAY\n",
       "\\item CLOUDY\n",
       "\\item RAIN\n",
       "\\item HAZE\n",
       "\\item PARTLY\\_CLOUDY\\_NIGHT\n",
       "\\item CLEAR\\_NIGHT\n",
       "\\item CLEAR\\_DAY\n",
       "\\item WIND\n",
       "\\item SNOW\n",
       "\\end{enumerate*}\n"
      ],
      "text/markdown": [
       "1. PARTLY_CLOUDY_DAY\n",
       "2. CLOUDY\n",
       "3. RAIN\n",
       "4. HAZE\n",
       "5. PARTLY_CLOUDY_NIGHT\n",
       "6. CLEAR_NIGHT\n",
       "7. CLEAR_DAY\n",
       "8. WIND\n",
       "9. SNOW\n",
       "\n",
       "\n"
      ],
      "text/plain": [
       "[1] PARTLY_CLOUDY_DAY   CLOUDY              RAIN               \n",
       "[4] HAZE                PARTLY_CLOUDY_NIGHT CLEAR_NIGHT        \n",
       "[7] CLEAR_DAY           WIND                SNOW               \n",
       "9 Levels: CLEAR_DAY CLEAR_NIGHT CLOUDY HAZE ... WIND"
      ]
     },
     "metadata": {},
     "output_type": "display_data"
    },
    {
     "name": "stdout",
     "output_type": "stream",
     "text": [
      "[1] \"ld_gm_data\"\n"
     ]
    },
    {
     "data": {
      "text/html": [
       "<ol class=list-inline>\n",
       "\t<li>CLOUDY</li>\n",
       "\t<li>RAIN</li>\n",
       "\t<li>PARTLY_CLOUDY_DAY</li>\n",
       "\t<li>WIND</li>\n",
       "\t<li>CLEAR_DAY</li>\n",
       "\t<li>PARTLY_CLOUDY_NIGHT</li>\n",
       "\t<li>CLEAR_NIGHT</li>\n",
       "\t<li>SNOW</li>\n",
       "</ol>\n"
      ],
      "text/latex": [
       "\\begin{enumerate*}\n",
       "\\item CLOUDY\n",
       "\\item RAIN\n",
       "\\item PARTLY\\_CLOUDY\\_DAY\n",
       "\\item WIND\n",
       "\\item CLEAR\\_DAY\n",
       "\\item PARTLY\\_CLOUDY\\_NIGHT\n",
       "\\item CLEAR\\_NIGHT\n",
       "\\item SNOW\n",
       "\\end{enumerate*}\n"
      ],
      "text/markdown": [
       "1. CLOUDY\n",
       "2. RAIN\n",
       "3. PARTLY_CLOUDY_DAY\n",
       "4. WIND\n",
       "5. CLEAR_DAY\n",
       "6. PARTLY_CLOUDY_NIGHT\n",
       "7. CLEAR_NIGHT\n",
       "8. SNOW\n",
       "\n",
       "\n"
      ],
      "text/plain": [
       "[1] CLOUDY              RAIN                PARTLY_CLOUDY_DAY  \n",
       "[4] WIND                CLEAR_DAY           PARTLY_CLOUDY_NIGHT\n",
       "[7] CLEAR_NIGHT         SNOW               \n",
       "8 Levels: CLEAR_DAY CLEAR_NIGHT CLOUDY ... WIND"
      ]
     },
     "metadata": {},
     "output_type": "display_data"
    }
   ],
   "source": [
    "print(\"bj_om_data\")\n",
    "unique(bj_om_data$weather)\n",
    "print(\"bj_gm_data\")\n",
    "unique(bj_gm_data$weather)\n",
    "print(\"ld_gm_data\")\n",
    "unique(ld_gm_data$weather)"
   ]
  },
  {
   "cell_type": "markdown",
   "metadata": {},
   "source": [
    "### Historical Datasets"
   ]
  },
  {
   "cell_type": "markdown",
   "metadata": {},
   "source": [
    "#### Beijing - Observed geometeorology dataset for the Air Quality stations"
   ]
  },
  {
   "cell_type": "markdown",
   "metadata": {},
   "source": [
    "This is similar to the observed geometeorology dataset from the API but just historical information. Currently, we aren't using the observed geometeorology dataset in any of our analysis because of the high number of NAs and error prone values. Once we build a basic model, it appears that there is potential to clean up this dataset and work on integrating this information too. \n",
    "\n",
    "**The file is divided into 2 sections - one from Jan 1, 2017 to Jan 31, 2018; another from Feb 1, 2018 to March 31, 2018**"
   ]
  },
  {
   "cell_type": "code",
   "execution_count": 165,
   "metadata": {
    "collapsed": true
   },
   "outputs": [],
   "source": [
    "# read.csv Beijing historical GM\n",
    "bj_om_hist_file <- \"C:/Users/vanethi/Documents/GitHub/DS420_Factoria/Datasets/beijing_17_18_meo.csv\"\n",
    "bj_om_hist_data <- read.csv(bj_om_hist_file, header=TRUE, sep=\",\", stringsAsFactors = FALSE)\n",
    "bj_om_hist_data$utc_time <- anytime(bj_om_hist_data$utc_time)"
   ]
  },
  {
   "cell_type": "code",
   "execution_count": 167,
   "metadata": {},
   "outputs": [
    {
     "name": "stdout",
     "output_type": "stream",
     "text": [
      "[1] \"Beijing Geo Historical data\"\n",
      "'data.frame':\t158047 obs. of  10 variables:\n",
      " $ station_id    : chr  \"shunyi_meo\" \"shunyi_meo\" \"shunyi_meo\" \"shunyi_meo\" ...\n",
      " $ longitude     : num  117 117 117 117 117 ...\n",
      " $ latitude      : num  40.1 40.1 40.1 40.1 40.1 ...\n",
      " $ utc_time      : POSIXct, format: \"2017-01-30 16:00:00\" \"2017-01-30 17:00:00\" ...\n",
      " $ temperature   : num  -1.7 -3.5 -3.7 -3.9 -4.1 -4.2 -4 -4.7 -4.9 -3.6 ...\n",
      " $ pressure      : num  1029 1028 1028 1028 1027 ...\n",
      " $ humidity      : int  15 24 27 27 26 28 27 29 28 28 ...\n",
      " $ wind_direction: num  215 16 32 21 17 68 329 28 17 29 ...\n",
      " $ wind_speed    : num  1.6 1 1.1 0.9 1.1 0.9 1.1 0.7 1.2 1.1 ...\n",
      " $ weather       : chr  \"Sunny/clear\" \"Haze\" \"Haze\" \"Haze\" ...\n"
     ]
    },
    {
     "data": {
      "text/html": [
       "<table>\n",
       "<thead><tr><th scope=col>min_date</th><th scope=col>max_date</th></tr></thead>\n",
       "<tbody>\n",
       "\t<tr><td>2017-01-30 16:00:00</td><td>2018-01-31 15:00:00</td></tr>\n",
       "</tbody>\n",
       "</table>\n"
      ],
      "text/latex": [
       "\\begin{tabular}{r|ll}\n",
       " min\\_date & max\\_date\\\\\n",
       "\\hline\n",
       "\t 2017-01-30 16:00:00 & 2018-01-31 15:00:00\\\\\n",
       "\\end{tabular}\n"
      ],
      "text/markdown": [
       "\n",
       "min_date | max_date | \n",
       "|---|\n",
       "| 2017-01-30 16:00:00 | 2018-01-31 15:00:00 | \n",
       "\n",
       "\n"
      ],
      "text/plain": [
       "  min_date            max_date           \n",
       "1 2017-01-30 16:00:00 2018-01-31 15:00:00"
      ]
     },
     "metadata": {},
     "output_type": "display_data"
    },
    {
     "data": {
      "text/plain": [
       "  temperature          pressure           humidity        wind_direction  \n",
       " Min.   :   -21.3   Min.   :   940.0   Min.   :     4.0   Min.   :     0  \n",
       " 1st Qu.:     2.5   1st Qu.:   994.2   1st Qu.:    27.0   1st Qu.:    78  \n",
       " Median :    13.8   Median :  1005.6   Median :    48.0   Median :   190  \n",
       " Mean   :    38.2   Mean   :  1026.8   Mean   :   354.3   Mean   : 35488  \n",
       " 3rd Qu.:    23.2   3rd Qu.:  1016.9   3rd Qu.:    73.0   3rd Qu.:   280  \n",
       " Max.   :999999.0   Max.   :999999.0   Max.   :999999.0   Max.   :999999  \n",
       "                                                          NA's   :234     \n",
       "   wind_speed      \n",
       " Min.   :     0.0  \n",
       " 1st Qu.:     0.9  \n",
       " Median :     1.5  \n",
       " Mean   :    96.9  \n",
       " 3rd Qu.:     2.5  \n",
       " Max.   :999999.0  \n",
       " NA's   :234       "
      ]
     },
     "metadata": {},
     "output_type": "display_data"
    },
    {
     "data": {
      "text/html": [
       "<ol class=list-inline>\n",
       "\t<li>'Sunny/clear'</li>\n",
       "\t<li>'Haze'</li>\n",
       "\t<li>'Snow'</li>\n",
       "\t<li>'Fog'</li>\n",
       "\t<li>'Rain'</li>\n",
       "\t<li>'Dust'</li>\n",
       "\t<li>'Sand'</li>\n",
       "\t<li>'Sleet'</li>\n",
       "\t<li>'Rain/Snow with Hail'</li>\n",
       "\t<li>'Rain with Hail'</li>\n",
       "</ol>\n"
      ],
      "text/latex": [
       "\\begin{enumerate*}\n",
       "\\item 'Sunny/clear'\n",
       "\\item 'Haze'\n",
       "\\item 'Snow'\n",
       "\\item 'Fog'\n",
       "\\item 'Rain'\n",
       "\\item 'Dust'\n",
       "\\item 'Sand'\n",
       "\\item 'Sleet'\n",
       "\\item 'Rain/Snow with Hail'\n",
       "\\item 'Rain with Hail'\n",
       "\\end{enumerate*}\n"
      ],
      "text/markdown": [
       "1. 'Sunny/clear'\n",
       "2. 'Haze'\n",
       "3. 'Snow'\n",
       "4. 'Fog'\n",
       "5. 'Rain'\n",
       "6. 'Dust'\n",
       "7. 'Sand'\n",
       "8. 'Sleet'\n",
       "9. 'Rain/Snow with Hail'\n",
       "10. 'Rain with Hail'\n",
       "\n",
       "\n"
      ],
      "text/plain": [
       " [1] \"Sunny/clear\"         \"Haze\"                \"Snow\"               \n",
       " [4] \"Fog\"                 \"Rain\"                \"Dust\"               \n",
       " [7] \"Sand\"                \"Sleet\"               \"Rain/Snow with Hail\"\n",
       "[10] \"Rain with Hail\"     "
      ]
     },
     "metadata": {},
     "output_type": "display_data"
    }
   ],
   "source": [
    "print(\"Beijing Geo Historical data\")\n",
    "str(bj_om_hist_data)\n",
    "bj_om_hist_data %>% summarize(min_date = min(utc_time), max_date = max(utc_time))\n",
    "summary(bj_om_hist_data[,5:9])\n",
    "unique(bj_om_hist_data$weather)"
   ]
  },
  {
   "cell_type": "markdown",
   "metadata": {},
   "source": [
    "*Notice the 999,999s in all fields and NAs in wind_direction & wind_speed. I guess if we are planning to integrate, we can substitute these values to their mean/median*"
   ]
  },
  {
   "cell_type": "markdown",
   "metadata": {},
   "source": [
    "** Feb & March dataset: **"
   ]
  },
  {
   "cell_type": "code",
   "execution_count": 58,
   "metadata": {
    "collapsed": true
   },
   "outputs": [],
   "source": [
    "# Beijing recent geometeorolgy data (Jan - Mar 2018)\n",
    "bj_om_recent_file <- \"C:/Users/vanethi/Documents/GitHub/DS420_Factoria/Datasets/beijing_201802_201803_me.csv\"\n",
    "bj_om_recent_data <- read.csv(bj_om_recent_file, header=TRUE, sep=\",\", stringsAsFactors = FALSE)\n",
    "bj_om_recent_data$utc_time <- anytime(bj_om_recent_data$utc_time)"
   ]
  },
  {
   "cell_type": "code",
   "execution_count": 59,
   "metadata": {},
   "outputs": [
    {
     "name": "stdout",
     "output_type": "stream",
     "text": [
      "[1] \"Beijing Weather Recent data\"\n",
      "'data.frame':\t26677 obs. of  8 variables:\n",
      " $ station_id    : chr  \"beijing_meo\" \"beijing_meo\" \"beijing_meo\" \"beijing_meo\" ...\n",
      " $ utc_time      : POSIXct, format: \"2018-01-31 16:00:00\" \"2018-01-31 17:00:00\" ...\n",
      " $ weather       : chr  \"Sunny/clear\" \"Sunny/clear\" \"Sunny/clear\" \"Haze\" ...\n",
      " $ temperature   : num  -4.8 -6.1 -7 -7.7 -6.3 -5.6 -5.8 -7.7 -7.1 -3.5 ...\n",
      " $ pressure      : num  1024 1023 1023 1023 1022 ...\n",
      " $ humidity      : int  39 42 45 47 44 40 39 46 47 41 ...\n",
      " $ wind_speed    : num  0.9 0 0.5 0 2 1.3 1.2 0 0.2 0.7 ...\n",
      " $ wind_direction: int  59 999017 178 999017 71 72 70 999017 999017 279 ...\n"
     ]
    },
    {
     "data": {
      "text/html": [
       "<table>\n",
       "<thead><tr><th scope=col>min_date</th><th scope=col>max_date</th></tr></thead>\n",
       "<tbody>\n",
       "\t<tr><td>2018-01-31 16:00:00</td><td>2018-04-01         </td></tr>\n",
       "</tbody>\n",
       "</table>\n"
      ],
      "text/latex": [
       "\\begin{tabular}{r|ll}\n",
       " min\\_date & max\\_date\\\\\n",
       "\\hline\n",
       "\t 2018-01-31 16:00:00 & 2018-04-01         \\\\\n",
       "\\end{tabular}\n"
      ],
      "text/markdown": [
       "\n",
       "min_date | max_date | \n",
       "|---|\n",
       "| 2018-01-31 16:00:00 | 2018-04-01          | \n",
       "\n",
       "\n"
      ],
      "text/plain": [
       "  min_date            max_date  \n",
       "1 2018-01-31 16:00:00 2018-04-01"
      ]
     },
     "metadata": {},
     "output_type": "display_data"
    },
    {
     "data": {
      "text/plain": [
       "  temperature         pressure         humidity       wind_speed    \n",
       " Min.   :-18.200   Min.   : 944.5   Min.   : 3.00   Min.   : 0.000  \n",
       " 1st Qu.: -2.600   1st Qu.:1000.3   1st Qu.:21.00   1st Qu.: 1.000  \n",
       " Median :  1.900   Median :1013.3   Median :34.00   Median : 1.600  \n",
       " Mean   :  3.007   Mean   :1006.3   Mean   :37.29   Mean   : 2.057  \n",
       " 3rd Qu.:  7.800   3rd Qu.:1020.5   3rd Qu.:50.00   3rd Qu.: 2.700  \n",
       " Max.   : 28.200   Max.   :1038.0   Max.   :99.00   Max.   :13.500  \n",
       " wind_direction  \n",
       " Min.   :     0  \n",
       " 1st Qu.:    79  \n",
       " Median :   182  \n",
       " Mean   : 40460  \n",
       " 3rd Qu.:   276  \n",
       " Max.   :999017  "
      ]
     },
     "metadata": {},
     "output_type": "display_data"
    },
    {
     "data": {
      "text/html": [
       "<ol class=list-inline>\n",
       "\t<li>'Sunny/clear'</li>\n",
       "\t<li>'Haze'</li>\n",
       "\t<li>'Hail'</li>\n",
       "\t<li>'Light Rain'</li>\n",
       "\t<li>'Cloudy'</li>\n",
       "\t<li>'Thundershower'</li>\n",
       "\t<li>'Overcast'</li>\n",
       "\t<li>'Sleet'</li>\n",
       "</ol>\n"
      ],
      "text/latex": [
       "\\begin{enumerate*}\n",
       "\\item 'Sunny/clear'\n",
       "\\item 'Haze'\n",
       "\\item 'Hail'\n",
       "\\item 'Light Rain'\n",
       "\\item 'Cloudy'\n",
       "\\item 'Thundershower'\n",
       "\\item 'Overcast'\n",
       "\\item 'Sleet'\n",
       "\\end{enumerate*}\n"
      ],
      "text/markdown": [
       "1. 'Sunny/clear'\n",
       "2. 'Haze'\n",
       "3. 'Hail'\n",
       "4. 'Light Rain'\n",
       "5. 'Cloudy'\n",
       "6. 'Thundershower'\n",
       "7. 'Overcast'\n",
       "8. 'Sleet'\n",
       "\n",
       "\n"
      ],
      "text/plain": [
       "[1] \"Sunny/clear\"   \"Haze\"          \"Hail\"          \"Light Rain\"   \n",
       "[5] \"Cloudy\"        \"Thundershower\" \"Overcast\"      \"Sleet\"        "
      ]
     },
     "metadata": {},
     "output_type": "display_data"
    }
   ],
   "source": [
    "print(\"Beijing Weather Recent data\")\n",
    "str(bj_om_recent_data)\n",
    "bj_om_recent_data %>% summarize(min_date = min(utc_time), max_date = max(utc_time))\n",
    "summary(bj_om_recent_data[,4:8])\n",
    "unique(bj_om_recent_data$weather)"
   ]
  },
  {
   "cell_type": "markdown",
   "metadata": {},
   "source": [
    "#### Beijing - Geometeorology historical dataset for the grids:"
   ]
  },
  {
   "cell_type": "markdown",
   "metadata": {},
   "source": [
    "Dataset from Jan 1, 2017 to March 27, 2018"
   ]
  },
  {
   "cell_type": "code",
   "execution_count": 168,
   "metadata": {
    "collapsed": true
   },
   "outputs": [],
   "source": [
    "# read.csv Beijing historical Grid GM\n",
    "bj_gm_hist_file <- \"C:/Users/vanethi/Documents/GitHub/DS420_Factoria/Datasets/Beijing_historical_meo_grid.csv\"\n",
    "bj_gm_hist_data <- read.csv(bj_gm_hist_file, header=TRUE, sep=\",\", stringsAsFactors = FALSE)\n",
    "bj_gm_hist_data$utc_time <- anytime(bj_gm_hist_data$utc_time)"
   ]
  },
  {
   "cell_type": "code",
   "execution_count": 169,
   "metadata": {},
   "outputs": [
    {
     "name": "stdout",
     "output_type": "stream",
     "text": [
      "[1] \"Beijing Geo Historical Grid data\"\n",
      "'data.frame':\t7034706 obs. of  9 variables:\n",
      " $ stationName   : chr  \"beijing_grid_000\" \"beijing_grid_001\" \"beijing_grid_002\" \"beijing_grid_003\" ...\n",
      " $ longitude     : num  115 115 115 115 115 115 115 115 115 115 ...\n",
      " $ latitude      : num  39 39.1 39.2 39.3 39.4 39.5 39.6 39.7 39.8 39.9 ...\n",
      " $ utc_time      : POSIXct, format: \"2017-01-01 00:00:00\" \"2017-01-01 00:00:00\" ...\n",
      " $ temperature   : num  -5.47 -5.53 -5.7 -5.88 -5.34 -4.81 -4.98 -5.49 -6.17 -7.17 ...\n",
      " $ pressure      : num  985 979 963 947 929 ...\n",
      " $ humidity      : num  76.6 75.4 71.8 68.2 58.8 ...\n",
      " $ wind_direction: num  53.71 43.59 0.97 327.65 317.85 ...\n",
      " $ wind_speed.kph: num  3.53 3.11 2.75 3.84 6.14 ...\n"
     ]
    },
    {
     "data": {
      "text/html": [
       "<table>\n",
       "<thead><tr><th scope=col>min_date</th><th scope=col>max_date</th></tr></thead>\n",
       "<tbody>\n",
       "\t<tr><td>2017-01-01         </td><td>2018-03-27 05:00:00</td></tr>\n",
       "</tbody>\n",
       "</table>\n"
      ],
      "text/latex": [
       "\\begin{tabular}{r|ll}\n",
       " min\\_date & max\\_date\\\\\n",
       "\\hline\n",
       "\t 2017-01-01          & 2018-03-27 05:00:00\\\\\n",
       "\\end{tabular}\n"
      ],
      "text/markdown": [
       "\n",
       "min_date | max_date | \n",
       "|---|\n",
       "| 2017-01-01          | 2018-03-27 05:00:00 | \n",
       "\n",
       "\n"
      ],
      "text/plain": [
       "  min_date   max_date           \n",
       "1 2017-01-01 2018-03-27 05:00:00"
      ]
     },
     "metadata": {},
     "output_type": "display_data"
    },
    {
     "data": {
      "text/plain": [
       "  temperature         pressure         humidity      wind_direction \n",
       " Min.   :-25.500   Min.   : 826.4   Min.   :  3.04   Min.   :  0.0  \n",
       " 1st Qu.: -1.750   1st Qu.: 930.5   1st Qu.: 26.05   1st Qu.:136.4  \n",
       " Median :  8.380   Median : 978.0   Median : 39.19   Median :216.5  \n",
       " Mean   :  8.899   Mean   : 968.2   Mean   : 43.40   Mean   :209.1  \n",
       " 3rd Qu.: 19.580   3rd Qu.:1012.3   3rd Qu.: 58.02   3rd Qu.:302.6  \n",
       " Max.   : 36.870   Max.   :1040.6   Max.   :100.00   Max.   :360.0  \n",
       " wind_speed.kph  \n",
       " Min.   : 0.010  \n",
       " 1st Qu.: 5.120  \n",
       " Median : 8.290  \n",
       " Mean   : 9.893  \n",
       " 3rd Qu.:12.760  \n",
       " Max.   :68.820  "
      ]
     },
     "metadata": {},
     "output_type": "display_data"
    }
   ],
   "source": [
    "print(\"Beijing Geo Historical Grid data\")\n",
    "str(bj_gm_hist_data)\n",
    "bj_gm_hist_data %>% summarize(min_date = min(utc_time), max_date = max(utc_time))\n",
    "summary(bj_gm_hist_data[,5:9])"
   ]
  },
  {
   "cell_type": "markdown",
   "metadata": {},
   "source": [
    "#### Beijing Historical Air Quality Dataset "
   ]
  },
  {
   "cell_type": "markdown",
   "metadata": {},
   "source": [
    "**The file is divided into 2 sections - one from Jan 1, 2017 to Jan 31, 2018; another from Feb 1, 2018 to March 31, 2018**\n",
    "\n",
    "I am going to be adding the Feb 1, 2018 to March 31, 2018 information to our dataset"
   ]
  },
  {
   "cell_type": "code",
   "execution_count": 170,
   "metadata": {
    "collapsed": true
   },
   "outputs": [],
   "source": [
    "# read.csv Beijing historical AQ\n",
    "bj_aq_hist_file <- \"C:/Users/vanethi/Documents/GitHub/DS420_Factoria/Datasets/beijing_17_18_aq.csv\"\n",
    "bj_aq_hist_data <- read.csv(bj_aq_hist_file, header=TRUE, sep=\",\", stringsAsFactors = FALSE)\n",
    "bj_aq_hist_data$utc_time <- anytime(bj_aq_hist_data$utc_time)"
   ]
  },
  {
   "cell_type": "code",
   "execution_count": 171,
   "metadata": {},
   "outputs": [
    {
     "name": "stdout",
     "output_type": "stream",
     "text": [
      "[1] \"Beijing Air Quality Historical data\"\n",
      "'data.frame':\t311010 obs. of  8 variables:\n",
      " $ stationId: chr  \"aotizhongxin_aq\" \"aotizhongxin_aq\" \"aotizhongxin_aq\" \"aotizhongxin_aq\" ...\n",
      " $ utc_time : POSIXct, format: \"2017-01-01 14:00:00\" \"2017-01-01 15:00:00\" ...\n",
      " $ PM2.5    : num  453 417 395 420 453 429 211 116 51 38 ...\n",
      " $ PM10     : num  467 443 467 484 520 NA NA NA NA NA ...\n",
      " $ NO2      : num  156 143 141 139 157 141 110 87 58 55 ...\n",
      " $ CO       : num  7.2 6.8 6.9 7.4 7.6 6.5 3.3 2.2 1.3 1.1 ...\n",
      " $ O3       : num  3 2 3 3 4 3 NA 4 26 28 ...\n",
      " $ SO2      : num  9 8 8 9 9 9 11 13 14 14 ...\n"
     ]
    },
    {
     "data": {
      "text/html": [
       "<table>\n",
       "<thead><tr><th scope=col>min_date</th><th scope=col>max_date</th></tr></thead>\n",
       "<tbody>\n",
       "\t<tr><td>2017-01-01 14:00:00</td><td>2018-01-31 15:00:00</td></tr>\n",
       "</tbody>\n",
       "</table>\n"
      ],
      "text/latex": [
       "\\begin{tabular}{r|ll}\n",
       " min\\_date & max\\_date\\\\\n",
       "\\hline\n",
       "\t 2017-01-01 14:00:00 & 2018-01-31 15:00:00\\\\\n",
       "\\end{tabular}\n"
      ],
      "text/markdown": [
       "\n",
       "min_date | max_date | \n",
       "|---|\n",
       "| 2017-01-01 14:00:00 | 2018-01-31 15:00:00 | \n",
       "\n",
       "\n"
      ],
      "text/plain": [
       "  min_date            max_date           \n",
       "1 2017-01-01 14:00:00 2018-01-31 15:00:00"
      ]
     },
     "metadata": {},
     "output_type": "display_data"
    },
    {
     "data": {
      "text/plain": [
       "     PM2.5              PM10              NO2               CO       \n",
       " Min.   :   2.00   Min.   :   5.00   Min.   :  1.00   Min.   : 0.10  \n",
       " 1st Qu.:  16.00   1st Qu.:  37.00   1st Qu.: 20.00   1st Qu.: 0.40  \n",
       " Median :  39.00   Median :  70.00   Median : 39.00   Median : 0.70  \n",
       " Mean   :  58.79   Mean   :  88.06   Mean   : 45.79   Mean   : 0.96  \n",
       " 3rd Qu.:  77.00   3rd Qu.: 113.00   3rd Qu.: 66.00   3rd Qu.: 1.20  \n",
       " Max.   :1004.00   Max.   :3000.00   Max.   :300.00   Max.   :15.00  \n",
       " NA's   :20389     NA's   :83263     NA's   :18651    NA's   :42813  \n",
       "       O3              SO2         \n",
       " Min.   :  1.00   Min.   :  1.000  \n",
       " 1st Qu.: 12.00   1st Qu.:  2.000  \n",
       " Median : 45.00   Median :  5.000  \n",
       " Mean   : 55.69   Mean   :  8.981  \n",
       " 3rd Qu.: 79.00   3rd Qu.: 11.000  \n",
       " Max.   :504.00   Max.   :307.000  \n",
       " NA's   :20421    NA's   :18548    "
      ]
     },
     "metadata": {},
     "output_type": "display_data"
    }
   ],
   "source": [
    "print(\"Beijing Air Quality Historical data\")\n",
    "str(bj_aq_hist_data)\n",
    "bj_aq_hist_data %>% summarize(min_date = min(utc_time), max_date = max(utc_time))\n",
    "summary(bj_aq_hist_data[,3:8])"
   ]
  },
  {
   "cell_type": "code",
   "execution_count": 172,
   "metadata": {
    "collapsed": true
   },
   "outputs": [],
   "source": [
    "# read.csv Beijing recent Air Quality (Jan - Mar 2018)\n",
    "bj_aq_recent_file <- \"C:/Users/vanethi/Documents/GitHub/DS420_Factoria/Datasets/beijing_201802_201803_aq.csv\"\n",
    "bj_aq_recent_data <- read.csv(bj_aq_recent_file, header=TRUE, sep=\",\", stringsAsFactors = FALSE)\n",
    "bj_aq_recent_data$utc_time <- anytime(bj_aq_recent_data$utc_time)"
   ]
  },
  {
   "cell_type": "code",
   "execution_count": 173,
   "metadata": {},
   "outputs": [
    {
     "name": "stdout",
     "output_type": "stream",
     "text": [
      "[1] \"Beijing Air Quality Recent data\"\n",
      "'data.frame':\t49420 obs. of  8 variables:\n",
      " $ stationId: chr  \"aotizhongxin_aq\" \"aotizhongxin_aq\" \"aotizhongxin_aq\" \"aotizhongxin_aq\" ...\n",
      " $ utc_time : POSIXct, format: \"2018-01-31 16:00:00\" \"2018-01-31 17:00:00\" ...\n",
      " $ PM2.5    : num  49 47 46 60 52 38 30 29 26 28 ...\n",
      " $ PM10     : num  82 80 91 95 91 80 70 75 79 95 ...\n",
      " $ NO2      : num  90 90 91 85 81 72 70 73 73 73 ...\n",
      " $ CO       : num  0.9 0.9 1.3 2 1.9 1.2 0.9 0.8 0.9 1.1 ...\n",
      " $ O3       : num  6 5 5 6 5 4 3 3 4 7 ...\n",
      " $ SO2      : num  10 10 28 38 30 14 8 10 7 10 ...\n"
     ]
    },
    {
     "data": {
      "text/html": [
       "<table>\n",
       "<thead><tr><th scope=col>min_date</th><th scope=col>max_date</th></tr></thead>\n",
       "<tbody>\n",
       "\t<tr><td>2018-01-31 16:00:00</td><td>2018-03-31 15:00:00</td></tr>\n",
       "</tbody>\n",
       "</table>\n"
      ],
      "text/latex": [
       "\\begin{tabular}{r|ll}\n",
       " min\\_date & max\\_date\\\\\n",
       "\\hline\n",
       "\t 2018-01-31 16:00:00 & 2018-03-31 15:00:00\\\\\n",
       "\\end{tabular}\n"
      ],
      "text/markdown": [
       "\n",
       "min_date | max_date | \n",
       "|---|\n",
       "| 2018-01-31 16:00:00 | 2018-03-31 15:00:00 | \n",
       "\n",
       "\n"
      ],
      "text/plain": [
       "  min_date            max_date           \n",
       "1 2018-01-31 16:00:00 2018-03-31 15:00:00"
      ]
     },
     "metadata": {},
     "output_type": "display_data"
    },
    {
     "data": {
      "text/plain": [
       "     PM2.5              PM10             NO2              CO       \n",
       " Min.   :   3.00   Min.   :   6.0   Min.   :  2.0   Min.   :0.100  \n",
       " 1st Qu.:  21.00   1st Qu.:  45.0   1st Qu.: 23.0   1st Qu.:0.500  \n",
       " Median :  54.00   Median :  82.0   Median : 42.0   Median :0.900  \n",
       " Mean   :  74.85   Mean   : 111.9   Mean   : 47.5   Mean   :1.012  \n",
       " 3rd Qu.: 108.00   3rd Qu.: 132.0   3rd Qu.: 67.0   3rd Qu.:1.400  \n",
       " Max.   :1574.00   Max.   :3280.0   Max.   :262.0   Max.   :8.800  \n",
       " NA's   :3070      NA's   :12912    NA's   :3069    NA's   :3331   \n",
       "       O3              SO2        \n",
       " Min.   :  2.00   Min.   :  2.00  \n",
       " 1st Qu.: 22.00   1st Qu.:  4.00  \n",
       " Median : 52.00   Median :  8.00  \n",
       " Mean   : 52.13   Mean   : 10.45  \n",
       " 3rd Qu.: 76.00   3rd Qu.: 14.00  \n",
       " Max.   :288.00   Max.   :297.00  \n",
       " NA's   :3311     NA's   :3116    "
      ]
     },
     "metadata": {},
     "output_type": "display_data"
    }
   ],
   "source": [
    "print(\"Beijing Air Quality Recent data\")\n",
    "str(bj_aq_recent_data)\n",
    "bj_aq_recent_data %>% summarize(min_date = min(utc_time), max_date = max(utc_time))\n",
    "summary(bj_aq_recent_data[,3:8])"
   ]
  },
  {
   "cell_type": "markdown",
   "metadata": {},
   "source": [
    "#### London - Geometeorology historical dataset for the grids:"
   ]
  },
  {
   "cell_type": "code",
   "execution_count": 175,
   "metadata": {
    "collapsed": true
   },
   "outputs": [],
   "source": [
    "# read.csv London historical GM\n",
    "ld_gm_hist_file <- \"C:/Users/vanethi/Documents/GitHub/DS420_Factoria/Datasets/London_historical_meo_grid.csv\"\n",
    "ld_gm_hist_data <- read.csv(ld_gm_hist_file, header=TRUE, sep=\",\", stringsAsFactors = FALSE)\n",
    "ld_gm_hist_data$utc_time <- anytime(ld_gm_hist_data$utc_time)"
   ]
  },
  {
   "cell_type": "code",
   "execution_count": 176,
   "metadata": {},
   "outputs": [
    {
     "name": "stdout",
     "output_type": "stream",
     "text": [
      "[1] \"London Historical weather grid data\"\n",
      "'data.frame':\t9303966 obs. of  9 variables:\n",
      " $ stationName   : chr  \"london_grid_000\" \"london_grid_001\" \"london_grid_002\" \"london_grid_003\" ...\n",
      " $ longitude     : num  -2 -2 -2 -2 -2 -2 -2 -2 -2 -2 ...\n",
      " $ latitude      : num  50.5 50.6 50.7 50.8 50.9 51 51.1 51.2 51.3 51.4 ...\n",
      " $ utc_time      : POSIXct, format: \"2017-01-01 00:00:00\" \"2017-01-01 00:00:00\" ...\n",
      " $ temperature   : num  9.36 9.09 8.3 7.5 6.92 6.33 6.13 6.12 6.19 6.43 ...\n",
      " $ pressure      : num  1025 1024 1023 1021 1016 ...\n",
      " $ humidity      : num  77.9 79 82.1 85.3 88.5 ...\n",
      " $ wind_direction: num  251 250 245 236 228 ...\n",
      " $ wind_speed.kph: num  23.7 21.8 16.1 10.6 11 ...\n"
     ]
    },
    {
     "data": {
      "text/html": [
       "<table>\n",
       "<thead><tr><th scope=col>min_date</th><th scope=col>max_date</th></tr></thead>\n",
       "<tbody>\n",
       "\t<tr><td>2017-01-01         </td><td>2018-03-27 05:00:00</td></tr>\n",
       "</tbody>\n",
       "</table>\n"
      ],
      "text/latex": [
       "\\begin{tabular}{r|ll}\n",
       " min\\_date & max\\_date\\\\\n",
       "\\hline\n",
       "\t 2017-01-01          & 2018-03-27 05:00:00\\\\\n",
       "\\end{tabular}\n"
      ],
      "text/markdown": [
       "\n",
       "min_date | max_date | \n",
       "|---|\n",
       "| 2017-01-01          | 2018-03-27 05:00:00 | \n",
       "\n",
       "\n"
      ],
      "text/plain": [
       "  min_date   max_date           \n",
       "1 2017-01-01 2018-03-27 05:00:00"
      ]
     },
     "metadata": {},
     "output_type": "display_data"
    },
    {
     "data": {
      "text/plain": [
       "  temperature       pressure         humidity      wind_direction \n",
       " Min.   :-7.65   Min.   : 956.6   Min.   : 24.80   Min.   :  0.0  \n",
       " 1st Qu.: 5.97   1st Qu.:1001.8   1st Qu.: 74.68   1st Qu.:160.2  \n",
       " Median : 9.76   Median :1010.2   Median : 82.96   Median :232.6  \n",
       " Mean   :10.02   Mean   :1009.0   Mean   : 81.61   Mean   :212.2  \n",
       " 3rd Qu.:14.40   3rd Qu.:1017.5   3rd Qu.: 89.90   3rd Qu.:274.1  \n",
       " Max.   :31.33   Max.   :1039.9   Max.   :100.01   Max.   :360.0  \n",
       " wind_speed.kph \n",
       " Min.   : 0.01  \n",
       " 1st Qu.:12.12  \n",
       " Median :18.32  \n",
       " Mean   :20.24  \n",
       " 3rd Qu.:26.10  \n",
       " Max.   :89.09  "
      ]
     },
     "metadata": {},
     "output_type": "display_data"
    }
   ],
   "source": [
    "print(\"London Historical weather grid data\")\n",
    "str(ld_gm_hist_data)\n",
    "ld_gm_hist_data %>% summarize(min_date = min(utc_time), max_date = max(utc_time))\n",
    "summary(ld_gm_hist_data[,5:9])"
   ]
  },
  {
   "cell_type": "markdown",
   "metadata": {},
   "source": [
    "#### London - Historical Air Quality dataset"
   ]
  },
  {
   "cell_type": "markdown",
   "metadata": {},
   "source": [
    "** There are two data files - divided by the air quality stations; These are already combined in our data files ** "
   ]
  },
  {
   "cell_type": "code",
   "execution_count": 177,
   "metadata": {
    "collapsed": true
   },
   "outputs": [],
   "source": [
    "# read.csv London historical AQ\n",
    "ld_aq_hist_file_a <- \"C:/Users/vanethi/Documents/GitHub/DS420_Factoria/Datasets/London_historical_aqi_forecast_stations_20180331.csv\"\n",
    "ld_aq_hist_data_a <- read.csv(ld_aq_hist_file_a, header=TRUE, sep=\",\", stringsAsFactors = FALSE)\n",
    "ld_aq_hist_data_a$MeasurementDateGMT <-\n",
    "as.POSIXct(strptime(ld_aq_hist_data_a$MeasurementDateGMT, tz= \"GMT\", format = \"%Y/%m/%d %H:%M\" ))"
   ]
  },
  {
   "cell_type": "code",
   "execution_count": 178,
   "metadata": {},
   "outputs": [
    {
     "name": "stdout",
     "output_type": "stream",
     "text": [
      "[1] \"London Historical Air Quaility data - 1st part\"\n",
      "'data.frame':\t141661 obs. of  6 variables:\n",
      " $ X                 : int  0 1 2 3 4 5 6 7 8 9 ...\n",
      " $ MeasurementDateGMT: POSIXct, format: \"2017-01-01 00:00:00\" \"2017-01-01 01:00:00\" ...\n",
      " $ station_id        : chr  \"CD1\" \"CD1\" \"CD1\" \"CD1\" ...\n",
      " $ PM2.5..ug.m3.     : num  40 31.6 24.7 21.2 24.9 24.6 23.9 22 19 19.9 ...\n",
      " $ PM10..ug.m3.      : num  44.4 34.4 28.1 24.5 23 23.9 22 22.9 20.1 24.4 ...\n",
      " $ NO2..ug.m3.       : num  36.6 46.2 38.3 32.8 28.1 29.3 28.8 34.6 44.6 55.3 ...\n"
     ]
    },
    {
     "data": {
      "text/html": [
       "<table>\n",
       "<thead><tr><th scope=col>min_date</th><th scope=col>max_date</th></tr></thead>\n",
       "<tbody>\n",
       "\t<tr><td>2017-01-01</td><td>2018-03-31</td></tr>\n",
       "</tbody>\n",
       "</table>\n"
      ],
      "text/latex": [
       "\\begin{tabular}{r|ll}\n",
       " min\\_date & max\\_date\\\\\n",
       "\\hline\n",
       "\t 2017-01-01 & 2018-03-31\\\\\n",
       "\\end{tabular}\n"
      ],
      "text/markdown": [
       "\n",
       "min_date | max_date | \n",
       "|---|\n",
       "| 2017-01-01 | 2018-03-31 | \n",
       "\n",
       "\n"
      ],
      "text/plain": [
       "  min_date   max_date  \n",
       "1 2017-01-01 2018-03-31"
      ]
     },
     "metadata": {},
     "output_type": "display_data"
    },
    {
     "data": {
      "text/plain": [
       " PM2.5..ug.m3.     PM10..ug.m3.     NO2..ug.m3.    \n",
       " Min.   :-10.50   Min.   :-11.80   Min.   : -4.70  \n",
       " 1st Qu.:  6.40   1st Qu.: 11.80   1st Qu.: 21.60  \n",
       " Median : 10.20   Median : 17.50   Median : 37.80  \n",
       " Mean   : 13.23   Mean   : 21.01   Mean   : 43.26  \n",
       " 3rd Qu.: 16.40   3rd Qu.: 26.30   3rd Qu.: 58.40  \n",
       " Max.   :189.70   Max.   :667.10   Max.   :336.10  \n",
       " NA's   :18676    NA's   :14553    NA's   :25445   "
      ]
     },
     "metadata": {},
     "output_type": "display_data"
    }
   ],
   "source": [
    "print(\"London Historical Air Quaility data - 1st part\")\n",
    "str(ld_aq_hist_data_a)\n",
    "ld_aq_hist_data_a %>% summarize(min_date = min(MeasurementDateGMT), max_date = max(MeasurementDateGMT))\n",
    "summary(ld_aq_hist_data_a[,4:6])"
   ]
  },
  {
   "cell_type": "code",
   "execution_count": 179,
   "metadata": {},
   "outputs": [],
   "source": [
    "# read.csv London historical AQ\n",
    "ld_aq_hist_file_b <- \"C:/Users/vanethi/Documents/GitHub/DS420_Factoria/Datasets/London_historical_aqi_other_stations_20180331.csv\"\n",
    "ld_aq_hist_data_b <- read.csv(ld_aq_hist_file_b, header=TRUE, sep=\",\", stringsAsFactors = FALSE)\n",
    "ld_aq_hist_data_b$MeasurementDateGMT <- as.POSIXct(strptime(ld_aq_hist_data_b$MeasurementDateGMT, tz= \"GMT\", format = \"%Y/%m/%d %H:%M\" ))\n",
    "ld_aq_hist_data_b <- ld_aq_hist_data_b[, -c(6,7)]"
   ]
  },
  {
   "cell_type": "code",
   "execution_count": 180,
   "metadata": {},
   "outputs": [
    {
     "name": "stdout",
     "output_type": "stream",
     "text": [
      "[1] \"London Historical Air Quaility data - 2nd part\"\n",
      "'data.frame':\t141633 obs. of  5 variables:\n",
      " $ Station_ID        : chr  \"LH0\" \"LH0\" \"LH0\" \"LH0\" ...\n",
      " $ MeasurementDateGMT: POSIXct, format: \"2017-01-01 00:00:00\" \"2017-01-01 01:00:00\" ...\n",
      " $ PM2.5..ug.m3.     : num  30.2 25.4 24.7 23.6 24.2 22.8 21.6 19.9 18.3 16.3 ...\n",
      " $ PM10..ug.m3.      : num  34.6 29.2 28.1 27 27.4 26 24.8 23.1 21.3 19.5 ...\n",
      " $ NO2..ug.m3.       : num  15.9 11.8 11.6 13 27.1 22.9 26.8 39.4 41.6 44.1 ...\n"
     ]
    },
    {
     "data": {
      "text/html": [
       "<table>\n",
       "<thead><tr><th scope=col>min_date</th><th scope=col>max_date</th></tr></thead>\n",
       "<tbody>\n",
       "\t<tr><td>2017-01-01</td><td>2018-03-31</td></tr>\n",
       "</tbody>\n",
       "</table>\n"
      ],
      "text/latex": [
       "\\begin{tabular}{r|ll}\n",
       " min\\_date & max\\_date\\\\\n",
       "\\hline\n",
       "\t 2017-01-01 & 2018-03-31\\\\\n",
       "\\end{tabular}\n"
      ],
      "text/markdown": [
       "\n",
       "min_date | max_date | \n",
       "|---|\n",
       "| 2017-01-01 | 2018-03-31 | \n",
       "\n",
       "\n"
      ],
      "text/plain": [
       "  min_date   max_date  \n",
       "1 2017-01-01 2018-03-31"
      ]
     },
     "metadata": {},
     "output_type": "display_data"
    },
    {
     "data": {
      "text/plain": [
       " MeasurementDateGMT            PM2.5..ug.m3.     PM10..ug.m3.   \n",
       " Min.   :2017-01-01 00:00:00   Min.   :-14.00   Min.   : -5.60  \n",
       " 1st Qu.:2017-04-28 17:00:00   1st Qu.:  6.20   1st Qu.:  9.60  \n",
       " Median :2017-08-19 03:00:00   Median : 10.00   Median : 14.50  \n",
       " Mean   :2017-08-18 18:52:03   Mean   : 12.89   Mean   : 17.44  \n",
       " 3rd Qu.:2017-12-09 12:00:00   3rd Qu.: 16.00   3rd Qu.: 21.80  \n",
       " Max.   :2018-04-01 00:00:00   Max.   :313.00   Max.   :635.60  \n",
       " NA's   :22958                 NA's   :53621    NA's   :102438  \n",
       "  NO2..ug.m3.    \n",
       " Min.   : -8.30  \n",
       " 1st Qu.: 16.10  \n",
       " Median : 27.30  \n",
       " Mean   : 31.51  \n",
       " 3rd Qu.: 43.20  \n",
       " Max.   :209.00  \n",
       " NA's   :91703   "
      ]
     },
     "metadata": {},
     "output_type": "display_data"
    }
   ],
   "source": [
    "print(\"London Historical Air Quaility data - 2nd part\")\n",
    "str(ld_aq_hist_data_b)\n",
    "ld_aq_hist_data_a %>% summarize(min_date = min(MeasurementDateGMT, na.rm = TRUE), max_date = max(MeasurementDateGMT, na.rm = TRUE))\n",
    "summary(ld_aq_hist_data_b[,2:5])"
   ]
  }
 ],
 "metadata": {
  "kernelspec": {
   "display_name": "R",
   "language": "R",
   "name": "ir"
  },
  "language_info": {
   "codemirror_mode": "r",
   "file_extension": ".r",
   "mimetype": "text/x-r-source",
   "name": "R",
   "pygments_lexer": "r",
   "version": "3.4.2"
  }
 },
 "nbformat": 4,
 "nbformat_minor": 2
}
