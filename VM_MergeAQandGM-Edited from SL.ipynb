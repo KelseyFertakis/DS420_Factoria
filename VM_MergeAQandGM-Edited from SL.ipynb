{
 "cells": [
  {
   "cell_type": "code",
   "execution_count": 42,
   "metadata": {},
   "outputs": [
    {
     "name": "stderr",
     "output_type": "stream",
     "text": [
      "Warning message:\n",
      "\"package 'chron' was built under R version 3.4.3\"\n",
      "Attaching package: 'chron'\n",
      "\n",
      "The following objects are masked from 'package:lubridate':\n",
      "\n",
      "    days, hours, minutes, seconds, years\n",
      "\n"
     ]
    }
   ],
   "source": [
    "library(anytime)\n",
    "library(dplyr)\n",
    "library(lubridate)\n",
    "library(chron)"
   ]
  },
  {
   "cell_type": "markdown",
   "metadata": {
    "collapsed": true
   },
   "source": [
    "## 1 Beijing data\n",
    "### 1.1Append AQ data"
   ]
  },
  {
   "cell_type": "code",
   "execution_count": 2,
   "metadata": {
    "collapsed": true
   },
   "outputs": [],
   "source": [
    "# read data: AQ (2 files)\n",
    "bj_aq_a <- read.csv('Datasets/beijing_17_18_aq.csv')\n",
    "bj_aq_b <- read.csv('Datasets/beijing_201802_201803_aq.csv')"
   ]
  },
  {
   "cell_type": "code",
   "execution_count": 3,
   "metadata": {},
   "outputs": [
    {
     "data": {
      "text/html": [
       "<table>\n",
       "<thead><tr><th scope=col>min_date</th><th scope=col>max_date</th></tr></thead>\n",
       "<tbody>\n",
       "\t<tr><td>2017-01-01 14:00:00</td><td>2018-01-31 15:00:00</td></tr>\n",
       "</tbody>\n",
       "</table>\n"
      ],
      "text/latex": [
       "\\begin{tabular}{r|ll}\n",
       " min\\_date & max\\_date\\\\\n",
       "\\hline\n",
       "\t 2017-01-01 14:00:00 & 2018-01-31 15:00:00\\\\\n",
       "\\end{tabular}\n"
      ],
      "text/markdown": [
       "\n",
       "min_date | max_date | \n",
       "|---|\n",
       "| 2017-01-01 14:00:00 | 2018-01-31 15:00:00 | \n",
       "\n",
       "\n"
      ],
      "text/plain": [
       "  min_date            max_date           \n",
       "1 2017-01-01 14:00:00 2018-01-31 15:00:00"
      ]
     },
     "metadata": {},
     "output_type": "display_data"
    },
    {
     "data": {
      "text/html": [
       "<table>\n",
       "<thead><tr><th scope=col>min_date</th><th scope=col>max_date</th></tr></thead>\n",
       "<tbody>\n",
       "\t<tr><td>2018-01-31 16:00:00</td><td>2018-03-31 15:00:00</td></tr>\n",
       "</tbody>\n",
       "</table>\n"
      ],
      "text/latex": [
       "\\begin{tabular}{r|ll}\n",
       " min\\_date & max\\_date\\\\\n",
       "\\hline\n",
       "\t 2018-01-31 16:00:00 & 2018-03-31 15:00:00\\\\\n",
       "\\end{tabular}\n"
      ],
      "text/markdown": [
       "\n",
       "min_date | max_date | \n",
       "|---|\n",
       "| 2018-01-31 16:00:00 | 2018-03-31 15:00:00 | \n",
       "\n",
       "\n"
      ],
      "text/plain": [
       "  min_date            max_date           \n",
       "1 2018-01-31 16:00:00 2018-03-31 15:00:00"
      ]
     },
     "metadata": {},
     "output_type": "display_data"
    }
   ],
   "source": [
    "# converting time to POSIXct format for easy transformations\n",
    "bj_aq_a$utc_time <- anytime(bj_aq_a$utc_time)\n",
    "bj_aq_b$utc_time <- anytime(bj_aq_b$utc_time)\n",
    "\n",
    "bj_aq_a %>% summarize(min_date = min(utc_time), max_date = max(utc_time))\n",
    "bj_aq_b %>% summarize(min_date = min(utc_time), max_date = max(utc_time))"
   ]
  },
  {
   "cell_type": "code",
   "execution_count": 4,
   "metadata": {},
   "outputs": [
    {
     "name": "stdout",
     "output_type": "stream",
     "text": [
      "'data.frame':\t311010 obs. of  8 variables:\n",
      " $ stationId: Factor w/ 35 levels \"aotizhongxin_aq\",..: 1 1 1 1 1 1 1 1 1 1 ...\n",
      " $ utc_time : POSIXct, format: \"2017-01-01 14:00:00\" \"2017-01-01 15:00:00\" ...\n",
      " $ PM2.5    : num  453 417 395 420 453 429 211 116 51 38 ...\n",
      " $ PM10     : num  467 443 467 484 520 NA NA NA NA NA ...\n",
      " $ NO2      : num  156 143 141 139 157 141 110 87 58 55 ...\n",
      " $ CO       : num  7.2 6.8 6.9 7.4 7.6 6.5 3.3 2.2 1.3 1.1 ...\n",
      " $ O3       : num  3 2 3 3 4 3 NA 4 26 28 ...\n",
      " $ SO2      : num  9 8 8 9 9 9 11 13 14 14 ...\n",
      "'data.frame':\t49420 obs. of  8 variables:\n",
      " $ stationId: Factor w/ 35 levels \"aotizhongxin_aq\",..: 1 1 1 1 1 1 1 1 1 1 ...\n",
      " $ utc_time : POSIXct, format: \"2018-01-31 16:00:00\" \"2018-01-31 17:00:00\" ...\n",
      " $ PM2.5    : num  49 47 46 60 52 38 30 29 26 28 ...\n",
      " $ PM10     : num  82 80 91 95 91 80 70 75 79 95 ...\n",
      " $ NO2      : num  90 90 91 85 81 72 70 73 73 73 ...\n",
      " $ CO       : num  0.9 0.9 1.3 2 1.9 1.2 0.9 0.8 0.9 1.1 ...\n",
      " $ O3       : num  6 5 5 6 5 4 3 3 4 7 ...\n",
      " $ SO2      : num  10 10 28 38 30 14 8 10 7 10 ...\n"
     ]
    },
    {
     "data": {
      "text/html": [
       "<table>\n",
       "<thead><tr><th scope=col>stationId</th><th scope=col>utc_time</th><th scope=col>PM2.5</th><th scope=col>PM10</th><th scope=col>NO2</th><th scope=col>CO</th><th scope=col>O3</th><th scope=col>SO2</th></tr></thead>\n",
       "<tbody>\n",
       "\t<tr><td>aotizhongxin_aq    </td><td>2017-01-01 14:00:00</td><td>453                </td><td>467                </td><td>156                </td><td>7.2                </td><td>3                  </td><td>9                  </td></tr>\n",
       "\t<tr><td>aotizhongxin_aq    </td><td>2017-01-01 15:00:00</td><td>417                </td><td>443                </td><td>143                </td><td>6.8                </td><td>2                  </td><td>8                  </td></tr>\n",
       "\t<tr><td>aotizhongxin_aq    </td><td>2017-01-01 16:00:00</td><td>395                </td><td>467                </td><td>141                </td><td>6.9                </td><td>3                  </td><td>8                  </td></tr>\n",
       "\t<tr><td>aotizhongxin_aq    </td><td>2017-01-01 17:00:00</td><td>420                </td><td>484                </td><td>139                </td><td>7.4                </td><td>3                  </td><td>9                  </td></tr>\n",
       "\t<tr><td>aotizhongxin_aq    </td><td>2017-01-01 18:00:00</td><td>453                </td><td>520                </td><td>157                </td><td>7.6                </td><td>4                  </td><td>9                  </td></tr>\n",
       "\t<tr><td>aotizhongxin_aq    </td><td>2017-01-01 19:00:00</td><td>429                </td><td> NA                </td><td>141                </td><td>6.5                </td><td>3                  </td><td>9                  </td></tr>\n",
       "</tbody>\n",
       "</table>\n"
      ],
      "text/latex": [
       "\\begin{tabular}{r|llllllll}\n",
       " stationId & utc\\_time & PM2.5 & PM10 & NO2 & CO & O3 & SO2\\\\\n",
       "\\hline\n",
       "\t aotizhongxin\\_aq   & 2017-01-01 14:00:00 & 453                 & 467                 & 156                 & 7.2                 & 3                   & 9                  \\\\\n",
       "\t aotizhongxin\\_aq   & 2017-01-01 15:00:00 & 417                 & 443                 & 143                 & 6.8                 & 2                   & 8                  \\\\\n",
       "\t aotizhongxin\\_aq   & 2017-01-01 16:00:00 & 395                 & 467                 & 141                 & 6.9                 & 3                   & 8                  \\\\\n",
       "\t aotizhongxin\\_aq   & 2017-01-01 17:00:00 & 420                 & 484                 & 139                 & 7.4                 & 3                   & 9                  \\\\\n",
       "\t aotizhongxin\\_aq   & 2017-01-01 18:00:00 & 453                 & 520                 & 157                 & 7.6                 & 4                   & 9                  \\\\\n",
       "\t aotizhongxin\\_aq   & 2017-01-01 19:00:00 & 429                 &  NA                 & 141                 & 6.5                 & 3                   & 9                  \\\\\n",
       "\\end{tabular}\n"
      ],
      "text/markdown": [
       "\n",
       "stationId | utc_time | PM2.5 | PM10 | NO2 | CO | O3 | SO2 | \n",
       "|---|---|---|---|---|---|\n",
       "| aotizhongxin_aq     | 2017-01-01 14:00:00 | 453                 | 467                 | 156                 | 7.2                 | 3                   | 9                   | \n",
       "| aotizhongxin_aq     | 2017-01-01 15:00:00 | 417                 | 443                 | 143                 | 6.8                 | 2                   | 8                   | \n",
       "| aotizhongxin_aq     | 2017-01-01 16:00:00 | 395                 | 467                 | 141                 | 6.9                 | 3                   | 8                   | \n",
       "| aotizhongxin_aq     | 2017-01-01 17:00:00 | 420                 | 484                 | 139                 | 7.4                 | 3                   | 9                   | \n",
       "| aotizhongxin_aq     | 2017-01-01 18:00:00 | 453                 | 520                 | 157                 | 7.6                 | 4                   | 9                   | \n",
       "| aotizhongxin_aq     | 2017-01-01 19:00:00 | 429                 |  NA                 | 141                 | 6.5                 | 3                   | 9                   | \n",
       "\n",
       "\n"
      ],
      "text/plain": [
       "  stationId       utc_time            PM2.5 PM10 NO2 CO  O3 SO2\n",
       "1 aotizhongxin_aq 2017-01-01 14:00:00 453   467  156 7.2 3  9  \n",
       "2 aotizhongxin_aq 2017-01-01 15:00:00 417   443  143 6.8 2  8  \n",
       "3 aotizhongxin_aq 2017-01-01 16:00:00 395   467  141 6.9 3  8  \n",
       "4 aotizhongxin_aq 2017-01-01 17:00:00 420   484  139 7.4 3  9  \n",
       "5 aotizhongxin_aq 2017-01-01 18:00:00 453   520  157 7.6 4  9  \n",
       "6 aotizhongxin_aq 2017-01-01 19:00:00 429    NA  141 6.5 3  9  "
      ]
     },
     "metadata": {},
     "output_type": "display_data"
    },
    {
     "data": {
      "text/html": [
       "<table>\n",
       "<thead><tr><th scope=col>stationId</th><th scope=col>utc_time</th><th scope=col>PM2.5</th><th scope=col>PM10</th><th scope=col>NO2</th><th scope=col>CO</th><th scope=col>O3</th><th scope=col>SO2</th></tr></thead>\n",
       "<tbody>\n",
       "\t<tr><td>aotizhongxin_aq    </td><td>2018-01-31 16:00:00</td><td>49                 </td><td>82                 </td><td>90                 </td><td>0.9                </td><td>6                  </td><td>10                 </td></tr>\n",
       "\t<tr><td>aotizhongxin_aq    </td><td>2018-01-31 17:00:00</td><td>47                 </td><td>80                 </td><td>90                 </td><td>0.9                </td><td>5                  </td><td>10                 </td></tr>\n",
       "\t<tr><td>aotizhongxin_aq    </td><td>2018-01-31 18:00:00</td><td>46                 </td><td>91                 </td><td>91                 </td><td>1.3                </td><td>5                  </td><td>28                 </td></tr>\n",
       "\t<tr><td>aotizhongxin_aq    </td><td>2018-01-31 19:00:00</td><td>60                 </td><td>95                 </td><td>85                 </td><td>2.0                </td><td>6                  </td><td>38                 </td></tr>\n",
       "\t<tr><td>aotizhongxin_aq    </td><td>2018-01-31 20:00:00</td><td>52                 </td><td>91                 </td><td>81                 </td><td>1.9                </td><td>5                  </td><td>30                 </td></tr>\n",
       "\t<tr><td>aotizhongxin_aq    </td><td>2018-01-31 21:00:00</td><td>38                 </td><td>80                 </td><td>72                 </td><td>1.2                </td><td>4                  </td><td>14                 </td></tr>\n",
       "</tbody>\n",
       "</table>\n"
      ],
      "text/latex": [
       "\\begin{tabular}{r|llllllll}\n",
       " stationId & utc\\_time & PM2.5 & PM10 & NO2 & CO & O3 & SO2\\\\\n",
       "\\hline\n",
       "\t aotizhongxin\\_aq   & 2018-01-31 16:00:00 & 49                  & 82                  & 90                  & 0.9                 & 6                   & 10                 \\\\\n",
       "\t aotizhongxin\\_aq   & 2018-01-31 17:00:00 & 47                  & 80                  & 90                  & 0.9                 & 5                   & 10                 \\\\\n",
       "\t aotizhongxin\\_aq   & 2018-01-31 18:00:00 & 46                  & 91                  & 91                  & 1.3                 & 5                   & 28                 \\\\\n",
       "\t aotizhongxin\\_aq   & 2018-01-31 19:00:00 & 60                  & 95                  & 85                  & 2.0                 & 6                   & 38                 \\\\\n",
       "\t aotizhongxin\\_aq   & 2018-01-31 20:00:00 & 52                  & 91                  & 81                  & 1.9                 & 5                   & 30                 \\\\\n",
       "\t aotizhongxin\\_aq   & 2018-01-31 21:00:00 & 38                  & 80                  & 72                  & 1.2                 & 4                   & 14                 \\\\\n",
       "\\end{tabular}\n"
      ],
      "text/markdown": [
       "\n",
       "stationId | utc_time | PM2.5 | PM10 | NO2 | CO | O3 | SO2 | \n",
       "|---|---|---|---|---|---|\n",
       "| aotizhongxin_aq     | 2018-01-31 16:00:00 | 49                  | 82                  | 90                  | 0.9                 | 6                   | 10                  | \n",
       "| aotizhongxin_aq     | 2018-01-31 17:00:00 | 47                  | 80                  | 90                  | 0.9                 | 5                   | 10                  | \n",
       "| aotizhongxin_aq     | 2018-01-31 18:00:00 | 46                  | 91                  | 91                  | 1.3                 | 5                   | 28                  | \n",
       "| aotizhongxin_aq     | 2018-01-31 19:00:00 | 60                  | 95                  | 85                  | 2.0                 | 6                   | 38                  | \n",
       "| aotizhongxin_aq     | 2018-01-31 20:00:00 | 52                  | 91                  | 81                  | 1.9                 | 5                   | 30                  | \n",
       "| aotizhongxin_aq     | 2018-01-31 21:00:00 | 38                  | 80                  | 72                  | 1.2                 | 4                   | 14                  | \n",
       "\n",
       "\n"
      ],
      "text/plain": [
       "  stationId       utc_time            PM2.5 PM10 NO2 CO  O3 SO2\n",
       "1 aotizhongxin_aq 2018-01-31 16:00:00 49    82   90  0.9 6  10 \n",
       "2 aotizhongxin_aq 2018-01-31 17:00:00 47    80   90  0.9 5  10 \n",
       "3 aotizhongxin_aq 2018-01-31 18:00:00 46    91   91  1.3 5  28 \n",
       "4 aotizhongxin_aq 2018-01-31 19:00:00 60    95   85  2.0 6  38 \n",
       "5 aotizhongxin_aq 2018-01-31 20:00:00 52    91   81  1.9 5  30 \n",
       "6 aotizhongxin_aq 2018-01-31 21:00:00 38    80   72  1.2 4  14 "
      ]
     },
     "metadata": {},
     "output_type": "display_data"
    }
   ],
   "source": [
    "# browse data\n",
    "str(bj_aq_a)\n",
    "str(bj_aq_b)\n",
    "\n",
    "head(bj_aq_a)\n",
    "head(bj_aq_b)"
   ]
  },
  {
   "cell_type": "code",
   "execution_count": 5,
   "metadata": {},
   "outputs": [
    {
     "name": "stdout",
     "output_type": "stream",
     "text": [
      "'data.frame':\t360430 obs. of  8 variables:\n",
      " $ stationId: Factor w/ 35 levels \"aotizhongxin_aq\",..: 1 1 1 1 1 1 1 1 1 1 ...\n",
      " $ utc_time : POSIXct, format: \"2017-01-01 14:00:00\" \"2017-01-01 15:00:00\" ...\n",
      " $ PM2.5    : num  453 417 395 420 453 429 211 116 51 38 ...\n",
      " $ PM10     : num  467 443 467 484 520 NA NA NA NA NA ...\n",
      " $ NO2      : num  156 143 141 139 157 141 110 87 58 55 ...\n",
      " $ CO       : num  7.2 6.8 6.9 7.4 7.6 6.5 3.3 2.2 1.3 1.1 ...\n",
      " $ O3       : num  3 2 3 3 4 3 NA 4 26 28 ...\n",
      " $ SO2      : num  9 8 8 9 9 9 11 13 14 14 ...\n"
     ]
    },
    {
     "data": {
      "text/html": [
       "<table>\n",
       "<thead><tr><th scope=col>min_date</th><th scope=col>max_date</th></tr></thead>\n",
       "<tbody>\n",
       "\t<tr><td>2017-01-01 14:00:00</td><td>2018-03-31 15:00:00</td></tr>\n",
       "</tbody>\n",
       "</table>\n"
      ],
      "text/latex": [
       "\\begin{tabular}{r|ll}\n",
       " min\\_date & max\\_date\\\\\n",
       "\\hline\n",
       "\t 2017-01-01 14:00:00 & 2018-03-31 15:00:00\\\\\n",
       "\\end{tabular}\n"
      ],
      "text/markdown": [
       "\n",
       "min_date | max_date | \n",
       "|---|\n",
       "| 2017-01-01 14:00:00 | 2018-03-31 15:00:00 | \n",
       "\n",
       "\n"
      ],
      "text/plain": [
       "  min_date            max_date           \n",
       "1 2017-01-01 14:00:00 2018-03-31 15:00:00"
      ]
     },
     "metadata": {},
     "output_type": "display_data"
    }
   ],
   "source": [
    "# Append 2 AQ data sets\n",
    "bj_aq <- rbind(bj_aq_a, bj_aq_b)\n",
    "str(bj_aq)\n",
    "bj_aq %>% summarize(min_date = min(utc_time), max_date = max(utc_time))"
   ]
  },
  {
   "cell_type": "markdown",
   "metadata": {},
   "source": [
    "### 1.2 Prepare mapping table and grid data"
   ]
  },
  {
   "cell_type": "code",
   "execution_count": 6,
   "metadata": {
    "collapsed": true
   },
   "outputs": [],
   "source": [
    "# read data: map, GM\n",
    "bj_closest_stations <- read.csv('SL_beijing_closest_stations.csv')\n",
    "bj_grid_meo <- read.csv('Datasets/Beijing_historical_meo_grid.csv')"
   ]
  },
  {
   "cell_type": "code",
   "execution_count": 7,
   "metadata": {},
   "outputs": [
    {
     "data": {
      "text/html": [
       "<table>\n",
       "<thead><tr><th scope=col>min_date</th><th scope=col>max_date</th></tr></thead>\n",
       "<tbody>\n",
       "\t<tr><td>2017-01-01         </td><td>2018-03-27 05:00:00</td></tr>\n",
       "</tbody>\n",
       "</table>\n"
      ],
      "text/latex": [
       "\\begin{tabular}{r|ll}\n",
       " min\\_date & max\\_date\\\\\n",
       "\\hline\n",
       "\t 2017-01-01          & 2018-03-27 05:00:00\\\\\n",
       "\\end{tabular}\n"
      ],
      "text/markdown": [
       "\n",
       "min_date | max_date | \n",
       "|---|\n",
       "| 2017-01-01          | 2018-03-27 05:00:00 | \n",
       "\n",
       "\n"
      ],
      "text/plain": [
       "  min_date   max_date           \n",
       "1 2017-01-01 2018-03-27 05:00:00"
      ]
     },
     "metadata": {},
     "output_type": "display_data"
    }
   ],
   "source": [
    "# Converting to POSIXct format\n",
    "bj_grid_meo$utc_time <- anytime(bj_grid_meo$utc_time)\n",
    "bj_grid_meo %>% summarize(min_date = min(utc_time), max_date = max(utc_time))"
   ]
  },
  {
   "cell_type": "code",
   "execution_count": 8,
   "metadata": {
    "collapsed": true
   },
   "outputs": [],
   "source": [
    "colnames(bj_closest_stations) <- c('x',\"stationId\",\"stationName\",\"distance\") "
   ]
  },
  {
   "cell_type": "code",
   "execution_count": 9,
   "metadata": {},
   "outputs": [
    {
     "name": "stdout",
     "output_type": "stream",
     "text": [
      "'data.frame':\t35 obs. of  4 variables:\n",
      " $ x          : int  1 2 3 4 5 6 7 8 9 10 ...\n",
      " $ stationId  : Factor w/ 35 levels \"aotizhongxin_aq\",..: 7 24 11 27 1 19 26 3 35 10 ...\n",
      " $ stationName: Factor w/ 26 levels \"beijing_grid_216\",..: 16 16 13 16 17 19 14 9 8 13 ...\n",
      " $ distance   : num  3540 1669 4638 4776 2020 ...\n",
      "'data.frame':\t7034706 obs. of  9 variables:\n",
      " $ stationName   : Factor w/ 651 levels \"beijing_grid_000\",..: 1 2 3 4 5 6 7 8 9 10 ...\n",
      " $ longitude     : num  115 115 115 115 115 115 115 115 115 115 ...\n",
      " $ latitude      : num  39 39.1 39.2 39.3 39.4 39.5 39.6 39.7 39.8 39.9 ...\n",
      " $ utc_time      : POSIXct, format: \"2017-01-01 00:00:00\" \"2017-01-01 00:00:00\" ...\n",
      " $ temperature   : num  -5.47 -5.53 -5.7 -5.88 -5.34 -4.81 -4.98 -5.49 -6.17 -7.17 ...\n",
      " $ pressure      : num  985 979 963 947 929 ...\n",
      " $ humidity      : num  76.6 75.4 71.8 68.2 58.8 ...\n",
      " $ wind_direction: num  53.71 43.59 0.97 327.65 317.85 ...\n",
      " $ wind_speed.kph: num  3.53 3.11 2.75 3.84 6.14 ...\n"
     ]
    },
    {
     "data": {
      "text/html": [
       "<table>\n",
       "<thead><tr><th scope=col>x</th><th scope=col>stationId</th><th scope=col>stationName</th><th scope=col>distance</th></tr></thead>\n",
       "<tbody>\n",
       "\t<tr><td>1               </td><td>dongsi_aq       </td><td>beijing_grid_303</td><td>3539.569        </td></tr>\n",
       "\t<tr><td>2               </td><td>tiantan_aq      </td><td>beijing_grid_303</td><td>1669.215        </td></tr>\n",
       "\t<tr><td>3               </td><td>guanyuan_aq     </td><td>beijing_grid_282</td><td>4637.889        </td></tr>\n",
       "\t<tr><td>4               </td><td>wanshouxigong_aq</td><td>beijing_grid_303</td><td>4775.641        </td></tr>\n",
       "\t<tr><td>5               </td><td>aotizhongxin_aq </td><td>beijing_grid_304</td><td>2020.020        </td></tr>\n",
       "\t<tr><td>6               </td><td>nongzhanguan_aq </td><td>beijing_grid_324</td><td>5296.386        </td></tr>\n",
       "</tbody>\n",
       "</table>\n"
      ],
      "text/latex": [
       "\\begin{tabular}{r|llll}\n",
       " x & stationId & stationName & distance\\\\\n",
       "\\hline\n",
       "\t 1                    & dongsi\\_aq          & beijing\\_grid\\_303 & 3539.569            \\\\\n",
       "\t 2                    & tiantan\\_aq         & beijing\\_grid\\_303 & 1669.215            \\\\\n",
       "\t 3                    & guanyuan\\_aq        & beijing\\_grid\\_282 & 4637.889            \\\\\n",
       "\t 4                    & wanshouxigong\\_aq   & beijing\\_grid\\_303 & 4775.641            \\\\\n",
       "\t 5                    & aotizhongxin\\_aq    & beijing\\_grid\\_304 & 2020.020            \\\\\n",
       "\t 6                    & nongzhanguan\\_aq    & beijing\\_grid\\_324 & 5296.386            \\\\\n",
       "\\end{tabular}\n"
      ],
      "text/markdown": [
       "\n",
       "x | stationId | stationName | distance | \n",
       "|---|---|---|---|---|---|\n",
       "| 1                | dongsi_aq        | beijing_grid_303 | 3539.569         | \n",
       "| 2                | tiantan_aq       | beijing_grid_303 | 1669.215         | \n",
       "| 3                | guanyuan_aq      | beijing_grid_282 | 4637.889         | \n",
       "| 4                | wanshouxigong_aq | beijing_grid_303 | 4775.641         | \n",
       "| 5                | aotizhongxin_aq  | beijing_grid_304 | 2020.020         | \n",
       "| 6                | nongzhanguan_aq  | beijing_grid_324 | 5296.386         | \n",
       "\n",
       "\n"
      ],
      "text/plain": [
       "  x stationId        stationName      distance\n",
       "1 1 dongsi_aq        beijing_grid_303 3539.569\n",
       "2 2 tiantan_aq       beijing_grid_303 1669.215\n",
       "3 3 guanyuan_aq      beijing_grid_282 4637.889\n",
       "4 4 wanshouxigong_aq beijing_grid_303 4775.641\n",
       "5 5 aotizhongxin_aq  beijing_grid_304 2020.020\n",
       "6 6 nongzhanguan_aq  beijing_grid_324 5296.386"
      ]
     },
     "metadata": {},
     "output_type": "display_data"
    },
    {
     "data": {
      "text/html": [
       "<table>\n",
       "<thead><tr><th scope=col>stationName</th><th scope=col>longitude</th><th scope=col>latitude</th><th scope=col>utc_time</th><th scope=col>temperature</th><th scope=col>pressure</th><th scope=col>humidity</th><th scope=col>wind_direction</th><th scope=col>wind_speed.kph</th></tr></thead>\n",
       "<tbody>\n",
       "\t<tr><td>beijing_grid_000</td><td>115             </td><td>39.0            </td><td>2017-01-01      </td><td>-5.47           </td><td>984.73          </td><td>76.60           </td><td> 53.71          </td><td>3.53            </td></tr>\n",
       "\t<tr><td>beijing_grid_001</td><td>115             </td><td>39.1            </td><td>2017-01-01      </td><td>-5.53           </td><td>979.33          </td><td>75.40           </td><td> 43.59          </td><td>3.11            </td></tr>\n",
       "\t<tr><td>beijing_grid_002</td><td>115             </td><td>39.2            </td><td>2017-01-01      </td><td>-5.70           </td><td>963.14          </td><td>71.80           </td><td>  0.97          </td><td>2.75            </td></tr>\n",
       "\t<tr><td>beijing_grid_003</td><td>115             </td><td>39.3            </td><td>2017-01-01      </td><td>-5.88           </td><td>946.94          </td><td>68.20           </td><td>327.65          </td><td>3.84            </td></tr>\n",
       "\t<tr><td>beijing_grid_004</td><td>115             </td><td>39.4            </td><td>2017-01-01      </td><td>-5.34           </td><td>928.80          </td><td>58.81           </td><td>317.85          </td><td>6.14            </td></tr>\n",
       "\t<tr><td>beijing_grid_005</td><td>115             </td><td>39.5            </td><td>2017-01-01      </td><td>-4.81           </td><td>910.66          </td><td>49.43           </td><td>313.46          </td><td>8.52            </td></tr>\n",
       "</tbody>\n",
       "</table>\n"
      ],
      "text/latex": [
       "\\begin{tabular}{r|lllllllll}\n",
       " stationName & longitude & latitude & utc\\_time & temperature & pressure & humidity & wind\\_direction & wind\\_speed.kph\\\\\n",
       "\\hline\n",
       "\t beijing\\_grid\\_000 & 115                  & 39.0                 & 2017-01-01           & -5.47                & 984.73               & 76.60                &  53.71               & 3.53                \\\\\n",
       "\t beijing\\_grid\\_001 & 115                  & 39.1                 & 2017-01-01           & -5.53                & 979.33               & 75.40                &  43.59               & 3.11                \\\\\n",
       "\t beijing\\_grid\\_002 & 115                  & 39.2                 & 2017-01-01           & -5.70                & 963.14               & 71.80                &   0.97               & 2.75                \\\\\n",
       "\t beijing\\_grid\\_003 & 115                  & 39.3                 & 2017-01-01           & -5.88                & 946.94               & 68.20                & 327.65               & 3.84                \\\\\n",
       "\t beijing\\_grid\\_004 & 115                  & 39.4                 & 2017-01-01           & -5.34                & 928.80               & 58.81                & 317.85               & 6.14                \\\\\n",
       "\t beijing\\_grid\\_005 & 115                  & 39.5                 & 2017-01-01           & -4.81                & 910.66               & 49.43                & 313.46               & 8.52                \\\\\n",
       "\\end{tabular}\n"
      ],
      "text/markdown": [
       "\n",
       "stationName | longitude | latitude | utc_time | temperature | pressure | humidity | wind_direction | wind_speed.kph | \n",
       "|---|---|---|---|---|---|\n",
       "| beijing_grid_000 | 115              | 39.0             | 2017-01-01       | -5.47            | 984.73           | 76.60            |  53.71           | 3.53             | \n",
       "| beijing_grid_001 | 115              | 39.1             | 2017-01-01       | -5.53            | 979.33           | 75.40            |  43.59           | 3.11             | \n",
       "| beijing_grid_002 | 115              | 39.2             | 2017-01-01       | -5.70            | 963.14           | 71.80            |   0.97           | 2.75             | \n",
       "| beijing_grid_003 | 115              | 39.3             | 2017-01-01       | -5.88            | 946.94           | 68.20            | 327.65           | 3.84             | \n",
       "| beijing_grid_004 | 115              | 39.4             | 2017-01-01       | -5.34            | 928.80           | 58.81            | 317.85           | 6.14             | \n",
       "| beijing_grid_005 | 115              | 39.5             | 2017-01-01       | -4.81            | 910.66           | 49.43            | 313.46           | 8.52             | \n",
       "\n",
       "\n"
      ],
      "text/plain": [
       "  stationName      longitude latitude utc_time   temperature pressure humidity\n",
       "1 beijing_grid_000 115       39.0     2017-01-01 -5.47       984.73   76.60   \n",
       "2 beijing_grid_001 115       39.1     2017-01-01 -5.53       979.33   75.40   \n",
       "3 beijing_grid_002 115       39.2     2017-01-01 -5.70       963.14   71.80   \n",
       "4 beijing_grid_003 115       39.3     2017-01-01 -5.88       946.94   68.20   \n",
       "5 beijing_grid_004 115       39.4     2017-01-01 -5.34       928.80   58.81   \n",
       "6 beijing_grid_005 115       39.5     2017-01-01 -4.81       910.66   49.43   \n",
       "  wind_direction wind_speed.kph\n",
       "1  53.71         3.53          \n",
       "2  43.59         3.11          \n",
       "3   0.97         2.75          \n",
       "4 327.65         3.84          \n",
       "5 317.85         6.14          \n",
       "6 313.46         8.52          "
      ]
     },
     "metadata": {},
     "output_type": "display_data"
    }
   ],
   "source": [
    "str(bj_closest_stations)\n",
    "str(bj_grid_meo)\n",
    "\n",
    "head(bj_closest_stations)\n",
    "head(bj_grid_meo)"
   ]
  },
  {
   "cell_type": "markdown",
   "metadata": {},
   "source": [
    "### 1.3 Merge AQ and Mapping table"
   ]
  },
  {
   "cell_type": "code",
   "execution_count": 10,
   "metadata": {
    "collapsed": true
   },
   "outputs": [],
   "source": [
    "# STEP 1: Merge AQ and map\n",
    "bj_aq_map <- merge(bj_aq,bj_closest_stations, by = \"stationId\")"
   ]
  },
  {
   "cell_type": "markdown",
   "metadata": {},
   "source": [
    "### 1.4 Merge with GM"
   ]
  },
  {
   "cell_type": "code",
   "execution_count": 11,
   "metadata": {
    "collapsed": true
   },
   "outputs": [],
   "source": [
    "# STEP 2: Merge Step1 and GM\n",
    "bj_aq_gm <- merge(bj_aq_map, bj_grid_meo, by = c(\"stationName\",\"utc_time\"))"
   ]
  },
  {
   "cell_type": "code",
   "execution_count": 12,
   "metadata": {
    "scrolled": false
   },
   "outputs": [
    {
     "name": "stdout",
     "output_type": "stream",
     "text": [
      "'data.frame':\t356825 obs. of  18 variables:\n",
      " $ stationName   : Factor w/ 26 levels \"beijing_grid_216\",..: 1 1 1 1 1 1 1 1 1 1 ...\n",
      " $ utc_time      : POSIXct, format: \"2017-01-01 14:00:00\" \"2017-01-01 15:00:00\" ...\n",
      " $ stationId     : Factor w/ 35 levels \"aotizhongxin_aq\",..: 14 14 14 14 14 14 14 14 14 14 ...\n",
      " $ PM2.5         : num  376 369 361 354 356 315 287 254 231 224 ...\n",
      " $ PM10          : num  447 407 389 NA 360 NA NA NA NA NA ...\n",
      " $ NO2           : num  116 133 134 137 137 135 133 123 119 118 ...\n",
      " $ CO            : num  5.5 5.6 5.7 5.9 6.2 6.2 5.9 5.6 5.5 5.5 ...\n",
      " $ O3            : num  2 2 2 2 2 2 NA 2 2 2 ...\n",
      " $ SO2           : num  16 17 18 17 16 14 14 13 12 11 ...\n",
      " $ x             : int  30 30 30 30 30 30 30 30 30 30 ...\n",
      " $ distance      : num  2226 2226 2226 2226 2226 ...\n",
      " $ longitude     : num  116 116 116 116 116 116 116 116 116 116 ...\n",
      " $ latitude      : num  39.6 39.6 39.6 39.6 39.6 39.6 39.6 39.6 39.6 39.6 ...\n",
      " $ temperature   : num  -2.22 -2.37 -2.58 -2.79 -2.99 -3.3 -3.6 -3.9 -4.11 -4.33 ...\n",
      " $ pressure      : num  1015 1015 1015 1015 1015 ...\n",
      " $ humidity      : num  62.9 65.8 65.3 64.9 64.5 ...\n",
      " $ wind_direction: num  284 298 308 319 330 ...\n",
      " $ wind_speed.kph: num  4.28 4.39 4.19 4.14 4.24 4.1 3.99 3.92 2.97 2.25 ...\n"
     ]
    },
    {
     "data": {
      "text/html": [
       "<table>\n",
       "<thead><tr><th scope=col>stationName</th><th scope=col>utc_time</th><th scope=col>stationId</th><th scope=col>PM2.5</th><th scope=col>PM10</th><th scope=col>NO2</th><th scope=col>CO</th><th scope=col>O3</th><th scope=col>SO2</th><th scope=col>x</th><th scope=col>distance</th><th scope=col>longitude</th><th scope=col>latitude</th><th scope=col>temperature</th><th scope=col>pressure</th><th scope=col>humidity</th><th scope=col>wind_direction</th><th scope=col>wind_speed.kph</th></tr></thead>\n",
       "<tbody>\n",
       "\t<tr><td>beijing_grid_216   </td><td>2017-01-01 14:00:00</td><td>liulihe_aq         </td><td>376                </td><td>447                </td><td>116                </td><td>5.5                </td><td>2                  </td><td>16                 </td><td>30                 </td><td>2226.39            </td><td>116                </td><td>39.6               </td><td>-2.22              </td><td>1014.70            </td><td>62.93              </td><td>284.29             </td><td>4.28               </td></tr>\n",
       "\t<tr><td>beijing_grid_216   </td><td>2017-01-01 15:00:00</td><td>liulihe_aq         </td><td>369                </td><td>407                </td><td>133                </td><td>5.6                </td><td>2                  </td><td>17                 </td><td>30                 </td><td>2226.39            </td><td>116                </td><td>39.6               </td><td>-2.37              </td><td>1014.86            </td><td>65.78              </td><td>297.82             </td><td>4.39               </td></tr>\n",
       "\t<tr><td>beijing_grid_216   </td><td>2017-01-01 16:00:00</td><td>liulihe_aq         </td><td>361                </td><td>389                </td><td>134                </td><td>5.7                </td><td>2                  </td><td>18                 </td><td>30                 </td><td>2226.39            </td><td>116                </td><td>39.6               </td><td>-2.58              </td><td>1014.99            </td><td>65.35              </td><td>308.15             </td><td>4.19               </td></tr>\n",
       "\t<tr><td>beijing_grid_216   </td><td>2017-01-01 17:00:00</td><td>liulihe_aq         </td><td>354                </td><td> NA                </td><td>137                </td><td>5.9                </td><td>2                  </td><td>17                 </td><td>30                 </td><td>2226.39            </td><td>116                </td><td>39.6               </td><td>-2.79              </td><td>1015.13            </td><td>64.93              </td><td>319.12             </td><td>4.14               </td></tr>\n",
       "\t<tr><td>beijing_grid_216   </td><td>2017-01-01 18:00:00</td><td>liulihe_aq         </td><td>356                </td><td>360                </td><td>137                </td><td>6.2                </td><td>2                  </td><td>16                 </td><td>30                 </td><td>2226.39            </td><td>116                </td><td>39.6               </td><td>-2.99              </td><td>1015.26            </td><td>64.50              </td><td>329.98             </td><td>4.24               </td></tr>\n",
       "\t<tr><td>beijing_grid_216   </td><td>2017-01-01 19:00:00</td><td>liulihe_aq         </td><td>315                </td><td> NA                </td><td>135                </td><td>6.2                </td><td>2                  </td><td>14                 </td><td>30                 </td><td>2226.39            </td><td>116                </td><td>39.6               </td><td>-3.30              </td><td>1015.53            </td><td>64.80              </td><td>324.88             </td><td>4.10               </td></tr>\n",
       "</tbody>\n",
       "</table>\n"
      ],
      "text/latex": [
       "\\begin{tabular}{r|llllllllllllllllll}\n",
       " stationName & utc\\_time & stationId & PM2.5 & PM10 & NO2 & CO & O3 & SO2 & x & distance & longitude & latitude & temperature & pressure & humidity & wind\\_direction & wind\\_speed.kph\\\\\n",
       "\\hline\n",
       "\t beijing\\_grid\\_216 & 2017-01-01 14:00:00  & liulihe\\_aq         & 376                  & 447                  & 116                  & 5.5                  & 2                    & 16                   & 30                   & 2226.39              & 116                  & 39.6                 & -2.22                & 1014.70              & 62.93                & 284.29               & 4.28                \\\\\n",
       "\t beijing\\_grid\\_216 & 2017-01-01 15:00:00  & liulihe\\_aq         & 369                  & 407                  & 133                  & 5.6                  & 2                    & 17                   & 30                   & 2226.39              & 116                  & 39.6                 & -2.37                & 1014.86              & 65.78                & 297.82               & 4.39                \\\\\n",
       "\t beijing\\_grid\\_216 & 2017-01-01 16:00:00  & liulihe\\_aq         & 361                  & 389                  & 134                  & 5.7                  & 2                    & 18                   & 30                   & 2226.39              & 116                  & 39.6                 & -2.58                & 1014.99              & 65.35                & 308.15               & 4.19                \\\\\n",
       "\t beijing\\_grid\\_216 & 2017-01-01 17:00:00  & liulihe\\_aq         & 354                  &  NA                  & 137                  & 5.9                  & 2                    & 17                   & 30                   & 2226.39              & 116                  & 39.6                 & -2.79                & 1015.13              & 64.93                & 319.12               & 4.14                \\\\\n",
       "\t beijing\\_grid\\_216 & 2017-01-01 18:00:00  & liulihe\\_aq         & 356                  & 360                  & 137                  & 6.2                  & 2                    & 16                   & 30                   & 2226.39              & 116                  & 39.6                 & -2.99                & 1015.26              & 64.50                & 329.98               & 4.24                \\\\\n",
       "\t beijing\\_grid\\_216 & 2017-01-01 19:00:00  & liulihe\\_aq         & 315                  &  NA                  & 135                  & 6.2                  & 2                    & 14                   & 30                   & 2226.39              & 116                  & 39.6                 & -3.30                & 1015.53              & 64.80                & 324.88               & 4.10                \\\\\n",
       "\\end{tabular}\n"
      ],
      "text/markdown": [
       "\n",
       "stationName | utc_time | stationId | PM2.5 | PM10 | NO2 | CO | O3 | SO2 | x | distance | longitude | latitude | temperature | pressure | humidity | wind_direction | wind_speed.kph | \n",
       "|---|---|---|---|---|---|\n",
       "| beijing_grid_216    | 2017-01-01 14:00:00 | liulihe_aq          | 376                 | 447                 | 116                 | 5.5                 | 2                   | 16                  | 30                  | 2226.39             | 116                 | 39.6                | -2.22               | 1014.70             | 62.93               | 284.29              | 4.28                | \n",
       "| beijing_grid_216    | 2017-01-01 15:00:00 | liulihe_aq          | 369                 | 407                 | 133                 | 5.6                 | 2                   | 17                  | 30                  | 2226.39             | 116                 | 39.6                | -2.37               | 1014.86             | 65.78               | 297.82              | 4.39                | \n",
       "| beijing_grid_216    | 2017-01-01 16:00:00 | liulihe_aq          | 361                 | 389                 | 134                 | 5.7                 | 2                   | 18                  | 30                  | 2226.39             | 116                 | 39.6                | -2.58               | 1014.99             | 65.35               | 308.15              | 4.19                | \n",
       "| beijing_grid_216    | 2017-01-01 17:00:00 | liulihe_aq          | 354                 |  NA                 | 137                 | 5.9                 | 2                   | 17                  | 30                  | 2226.39             | 116                 | 39.6                | -2.79               | 1015.13             | 64.93               | 319.12              | 4.14                | \n",
       "| beijing_grid_216    | 2017-01-01 18:00:00 | liulihe_aq          | 356                 | 360                 | 137                 | 6.2                 | 2                   | 16                  | 30                  | 2226.39             | 116                 | 39.6                | -2.99               | 1015.26             | 64.50               | 329.98              | 4.24                | \n",
       "| beijing_grid_216    | 2017-01-01 19:00:00 | liulihe_aq          | 315                 |  NA                 | 135                 | 6.2                 | 2                   | 14                  | 30                  | 2226.39             | 116                 | 39.6                | -3.30               | 1015.53             | 64.80               | 324.88              | 4.10                | \n",
       "\n",
       "\n"
      ],
      "text/plain": [
       "  stationName      utc_time            stationId  PM2.5 PM10 NO2 CO  O3 SO2 x \n",
       "1 beijing_grid_216 2017-01-01 14:00:00 liulihe_aq 376   447  116 5.5 2  16  30\n",
       "2 beijing_grid_216 2017-01-01 15:00:00 liulihe_aq 369   407  133 5.6 2  17  30\n",
       "3 beijing_grid_216 2017-01-01 16:00:00 liulihe_aq 361   389  134 5.7 2  18  30\n",
       "4 beijing_grid_216 2017-01-01 17:00:00 liulihe_aq 354    NA  137 5.9 2  17  30\n",
       "5 beijing_grid_216 2017-01-01 18:00:00 liulihe_aq 356   360  137 6.2 2  16  30\n",
       "6 beijing_grid_216 2017-01-01 19:00:00 liulihe_aq 315    NA  135 6.2 2  14  30\n",
       "  distance longitude latitude temperature pressure humidity wind_direction\n",
       "1 2226.39  116       39.6     -2.22       1014.70  62.93    284.29        \n",
       "2 2226.39  116       39.6     -2.37       1014.86  65.78    297.82        \n",
       "3 2226.39  116       39.6     -2.58       1014.99  65.35    308.15        \n",
       "4 2226.39  116       39.6     -2.79       1015.13  64.93    319.12        \n",
       "5 2226.39  116       39.6     -2.99       1015.26  64.50    329.98        \n",
       "6 2226.39  116       39.6     -3.30       1015.53  64.80    324.88        \n",
       "  wind_speed.kph\n",
       "1 4.28          \n",
       "2 4.39          \n",
       "3 4.19          \n",
       "4 4.14          \n",
       "5 4.24          \n",
       "6 4.10          "
      ]
     },
     "metadata": {},
     "output_type": "display_data"
    },
    {
     "data": {
      "text/html": [
       "<table>\n",
       "<thead><tr><th scope=col>min_date</th><th scope=col>max_date</th></tr></thead>\n",
       "<tbody>\n",
       "\t<tr><td>2017-01-01 14:00:00</td><td>2018-03-27 05:00:00</td></tr>\n",
       "</tbody>\n",
       "</table>\n"
      ],
      "text/latex": [
       "\\begin{tabular}{r|ll}\n",
       " min\\_date & max\\_date\\\\\n",
       "\\hline\n",
       "\t 2017-01-01 14:00:00 & 2018-03-27 05:00:00\\\\\n",
       "\\end{tabular}\n"
      ],
      "text/markdown": [
       "\n",
       "min_date | max_date | \n",
       "|---|\n",
       "| 2017-01-01 14:00:00 | 2018-03-27 05:00:00 | \n",
       "\n",
       "\n"
      ],
      "text/plain": [
       "  min_date            max_date           \n",
       "1 2017-01-01 14:00:00 2018-03-27 05:00:00"
      ]
     },
     "metadata": {},
     "output_type": "display_data"
    }
   ],
   "source": [
    "str(bj_aq_gm)\n",
    "head(bj_aq_gm)\n",
    "bj_aq_gm %>% summarize(min_date = min(utc_time), max_date = max(utc_time))"
   ]
  },
  {
   "cell_type": "markdown",
   "metadata": {},
   "source": [
    "### 1.5 Select columns and output CSV"
   ]
  },
  {
   "cell_type": "code",
   "execution_count": 13,
   "metadata": {},
   "outputs": [
    {
     "data": {
      "text/html": [
       "<table>\n",
       "<thead><tr><th scope=col>stationName</th><th scope=col>utc_time</th><th scope=col>stationId</th><th scope=col>PM2.5</th><th scope=col>PM10</th><th scope=col>O3</th><th scope=col>temperature</th><th scope=col>pressure</th><th scope=col>humidity</th><th scope=col>wind_direction</th><th scope=col>wind_speed.kph</th></tr></thead>\n",
       "<tbody>\n",
       "\t<tr><td>beijing_grid_216   </td><td>2017-01-01 14:00:00</td><td>liulihe_aq         </td><td>376                </td><td>447                </td><td>2                  </td><td>-2.22              </td><td>1014.70            </td><td>62.93              </td><td>284.29             </td><td>4.28               </td></tr>\n",
       "\t<tr><td>beijing_grid_216   </td><td>2017-01-01 15:00:00</td><td>liulihe_aq         </td><td>369                </td><td>407                </td><td>2                  </td><td>-2.37              </td><td>1014.86            </td><td>65.78              </td><td>297.82             </td><td>4.39               </td></tr>\n",
       "\t<tr><td>beijing_grid_216   </td><td>2017-01-01 16:00:00</td><td>liulihe_aq         </td><td>361                </td><td>389                </td><td>2                  </td><td>-2.58              </td><td>1014.99            </td><td>65.35              </td><td>308.15             </td><td>4.19               </td></tr>\n",
       "\t<tr><td>beijing_grid_216   </td><td>2017-01-01 17:00:00</td><td>liulihe_aq         </td><td>354                </td><td> NA                </td><td>2                  </td><td>-2.79              </td><td>1015.13            </td><td>64.93              </td><td>319.12             </td><td>4.14               </td></tr>\n",
       "\t<tr><td>beijing_grid_216   </td><td>2017-01-01 18:00:00</td><td>liulihe_aq         </td><td>356                </td><td>360                </td><td>2                  </td><td>-2.99              </td><td>1015.26            </td><td>64.50              </td><td>329.98             </td><td>4.24               </td></tr>\n",
       "\t<tr><td>beijing_grid_216   </td><td>2017-01-01 19:00:00</td><td>liulihe_aq         </td><td>315                </td><td> NA                </td><td>2                  </td><td>-3.30              </td><td>1015.53            </td><td>64.80              </td><td>324.88             </td><td>4.10               </td></tr>\n",
       "</tbody>\n",
       "</table>\n"
      ],
      "text/latex": [
       "\\begin{tabular}{r|lllllllllll}\n",
       " stationName & utc\\_time & stationId & PM2.5 & PM10 & O3 & temperature & pressure & humidity & wind\\_direction & wind\\_speed.kph\\\\\n",
       "\\hline\n",
       "\t beijing\\_grid\\_216 & 2017-01-01 14:00:00  & liulihe\\_aq         & 376                  & 447                  & 2                    & -2.22                & 1014.70              & 62.93                & 284.29               & 4.28                \\\\\n",
       "\t beijing\\_grid\\_216 & 2017-01-01 15:00:00  & liulihe\\_aq         & 369                  & 407                  & 2                    & -2.37                & 1014.86              & 65.78                & 297.82               & 4.39                \\\\\n",
       "\t beijing\\_grid\\_216 & 2017-01-01 16:00:00  & liulihe\\_aq         & 361                  & 389                  & 2                    & -2.58                & 1014.99              & 65.35                & 308.15               & 4.19                \\\\\n",
       "\t beijing\\_grid\\_216 & 2017-01-01 17:00:00  & liulihe\\_aq         & 354                  &  NA                  & 2                    & -2.79                & 1015.13              & 64.93                & 319.12               & 4.14                \\\\\n",
       "\t beijing\\_grid\\_216 & 2017-01-01 18:00:00  & liulihe\\_aq         & 356                  & 360                  & 2                    & -2.99                & 1015.26              & 64.50                & 329.98               & 4.24                \\\\\n",
       "\t beijing\\_grid\\_216 & 2017-01-01 19:00:00  & liulihe\\_aq         & 315                  &  NA                  & 2                    & -3.30                & 1015.53              & 64.80                & 324.88               & 4.10                \\\\\n",
       "\\end{tabular}\n"
      ],
      "text/markdown": [
       "\n",
       "stationName | utc_time | stationId | PM2.5 | PM10 | O3 | temperature | pressure | humidity | wind_direction | wind_speed.kph | \n",
       "|---|---|---|---|---|---|\n",
       "| beijing_grid_216    | 2017-01-01 14:00:00 | liulihe_aq          | 376                 | 447                 | 2                   | -2.22               | 1014.70             | 62.93               | 284.29              | 4.28                | \n",
       "| beijing_grid_216    | 2017-01-01 15:00:00 | liulihe_aq          | 369                 | 407                 | 2                   | -2.37               | 1014.86             | 65.78               | 297.82              | 4.39                | \n",
       "| beijing_grid_216    | 2017-01-01 16:00:00 | liulihe_aq          | 361                 | 389                 | 2                   | -2.58               | 1014.99             | 65.35               | 308.15              | 4.19                | \n",
       "| beijing_grid_216    | 2017-01-01 17:00:00 | liulihe_aq          | 354                 |  NA                 | 2                   | -2.79               | 1015.13             | 64.93               | 319.12              | 4.14                | \n",
       "| beijing_grid_216    | 2017-01-01 18:00:00 | liulihe_aq          | 356                 | 360                 | 2                   | -2.99               | 1015.26             | 64.50               | 329.98              | 4.24                | \n",
       "| beijing_grid_216    | 2017-01-01 19:00:00 | liulihe_aq          | 315                 |  NA                 | 2                   | -3.30               | 1015.53             | 64.80               | 324.88              | 4.10                | \n",
       "\n",
       "\n"
      ],
      "text/plain": [
       "  stationName      utc_time            stationId  PM2.5 PM10 O3 temperature\n",
       "1 beijing_grid_216 2017-01-01 14:00:00 liulihe_aq 376   447  2  -2.22      \n",
       "2 beijing_grid_216 2017-01-01 15:00:00 liulihe_aq 369   407  2  -2.37      \n",
       "3 beijing_grid_216 2017-01-01 16:00:00 liulihe_aq 361   389  2  -2.58      \n",
       "4 beijing_grid_216 2017-01-01 17:00:00 liulihe_aq 354    NA  2  -2.79      \n",
       "5 beijing_grid_216 2017-01-01 18:00:00 liulihe_aq 356   360  2  -2.99      \n",
       "6 beijing_grid_216 2017-01-01 19:00:00 liulihe_aq 315    NA  2  -3.30      \n",
       "  pressure humidity wind_direction wind_speed.kph\n",
       "1 1014.70  62.93    284.29         4.28          \n",
       "2 1014.86  65.78    297.82         4.39          \n",
       "3 1014.99  65.35    308.15         4.19          \n",
       "4 1015.13  64.93    319.12         4.14          \n",
       "5 1015.26  64.50    329.98         4.24          \n",
       "6 1015.53  64.80    324.88         4.10          "
      ]
     },
     "metadata": {},
     "output_type": "display_data"
    }
   ],
   "source": [
    "# Select columns\n",
    "bj_aq_gm <- bj_aq_gm[,c(\"stationName\",\"utc_time\",\"stationId\",\"PM2.5\",\"PM10\",\"O3\",\"temperature\",\"pressure\",\"humidity\",\"wind_direction\",\"wind_speed.kph\")]\n",
    "head(bj_aq_gm)"
   ]
  },
  {
   "cell_type": "markdown",
   "metadata": {},
   "source": [
    "**I am overriding Michelle's csv file just to avoid confusions on which file to use**"
   ]
  },
  {
   "cell_type": "code",
   "execution_count": 14,
   "metadata": {
    "collapsed": true
   },
   "outputs": [],
   "source": [
    "write.csv(bj_aq_gm, file = \"SL_bj_aq_gm_historical.csv\")"
   ]
  },
  {
   "cell_type": "markdown",
   "metadata": {},
   "source": [
    "## 2 London Data\n",
    "### 2.1 Append AQ data "
   ]
  },
  {
   "cell_type": "code",
   "execution_count": 15,
   "metadata": {
    "collapsed": true
   },
   "outputs": [],
   "source": [
    "# read data: AQ\n",
    "# Had some weird data in other stations dataset I downloaded - so added cleaning up logic too\n",
    "ld_aq1 <- read.csv('Datasets/London_historical_aqi_forecast_stations_20180331.csv',stringsAsFactors=FALSE)\n",
    "ld_aq2 <- read.csv('Datasets/London_historical_aqi_other_stations_20180331.csv',stringsAsFactors=FALSE)\n",
    "ld_aq2 <- ld_aq2[,1:5]\n",
    "ld_aq2 <- ld_aq2[!(ld_aq2$MeasurementDateGMT==''),]"
   ]
  },
  {
   "cell_type": "code",
   "execution_count": 16,
   "metadata": {
    "collapsed": true
   },
   "outputs": [],
   "source": [
    "ld_aq1$MeasurementDateGMT <-as.POSIXct(strptime(ld_aq1$MeasurementDateGMT, tz= \"GMT\", format = \"%Y/%m/%d %H:%M\" ))\n",
    "ld_aq2$MeasurementDateGMT <-as.POSIXct(strptime(ld_aq2$MeasurementDateGMT, tz= \"GMT\", format = \"%Y/%m/%d %H:%M\" ))"
   ]
  },
  {
   "cell_type": "code",
   "execution_count": 17,
   "metadata": {},
   "outputs": [
    {
     "name": "stdout",
     "output_type": "stream",
     "text": [
      "'data.frame':\t141661 obs. of  6 variables:\n",
      " $ X                 : int  0 1 2 3 4 5 6 7 8 9 ...\n",
      " $ MeasurementDateGMT: POSIXct, format: \"2017-01-01 00:00:00\" \"2017-01-01 01:00:00\" ...\n",
      " $ station_id        : chr  \"CD1\" \"CD1\" \"CD1\" \"CD1\" ...\n",
      " $ PM2.5..ug.m3.     : num  40 31.6 24.7 21.2 24.9 24.6 23.9 22 19 19.9 ...\n",
      " $ PM10..ug.m3.      : num  44.4 34.4 28.1 24.5 23 23.9 22 22.9 20.1 24.4 ...\n",
      " $ NO2..ug.m3.       : num  36.6 46.2 38.3 32.8 28.1 29.3 28.8 34.6 44.6 55.3 ...\n",
      "'data.frame':\t118675 obs. of  5 variables:\n",
      " $ Station_ID        : chr  \"LH0\" \"LH0\" \"LH0\" \"LH0\" ...\n",
      " $ MeasurementDateGMT: POSIXct, format: \"2017-01-01 00:00:00\" \"2017-01-01 01:00:00\" ...\n",
      " $ PM2.5..ug.m3.     : num  30.2 25.4 24.7 23.6 24.2 22.8 21.6 19.9 18.3 16.3 ...\n",
      " $ PM10..ug.m3.      : num  34.6 29.2 28.1 27 27.4 26 24.8 23.1 21.3 19.5 ...\n",
      " $ NO2..ug.m3.       : num  15.9 11.8 11.6 13 27.1 22.9 26.8 39.4 41.6 44.1 ...\n"
     ]
    },
    {
     "data": {
      "text/html": [
       "<table>\n",
       "<thead><tr><th scope=col>X</th><th scope=col>MeasurementDateGMT</th><th scope=col>station_id</th><th scope=col>PM2.5..ug.m3.</th><th scope=col>PM10..ug.m3.</th><th scope=col>NO2..ug.m3.</th></tr></thead>\n",
       "<tbody>\n",
       "\t<tr><td>0                  </td><td>2017-01-01 00:00:00</td><td>CD1                </td><td>40.0               </td><td>44.4               </td><td>36.6               </td></tr>\n",
       "\t<tr><td>1                  </td><td>2017-01-01 01:00:00</td><td>CD1                </td><td>31.6               </td><td>34.4               </td><td>46.2               </td></tr>\n",
       "\t<tr><td>2                  </td><td>2017-01-01 02:00:00</td><td>CD1                </td><td>24.7               </td><td>28.1               </td><td>38.3               </td></tr>\n",
       "\t<tr><td>3                  </td><td>2017-01-01 03:00:00</td><td>CD1                </td><td>21.2               </td><td>24.5               </td><td>32.8               </td></tr>\n",
       "\t<tr><td>4                  </td><td>2017-01-01 04:00:00</td><td>CD1                </td><td>24.9               </td><td>23.0               </td><td>28.1               </td></tr>\n",
       "\t<tr><td>5                  </td><td>2017-01-01 05:00:00</td><td>CD1                </td><td>24.6               </td><td>23.9               </td><td>29.3               </td></tr>\n",
       "</tbody>\n",
       "</table>\n"
      ],
      "text/latex": [
       "\\begin{tabular}{r|llllll}\n",
       " X & MeasurementDateGMT & station\\_id & PM2.5..ug.m3. & PM10..ug.m3. & NO2..ug.m3.\\\\\n",
       "\\hline\n",
       "\t 0                   & 2017-01-01 00:00:00 & CD1                 & 40.0                & 44.4                & 36.6               \\\\\n",
       "\t 1                   & 2017-01-01 01:00:00 & CD1                 & 31.6                & 34.4                & 46.2               \\\\\n",
       "\t 2                   & 2017-01-01 02:00:00 & CD1                 & 24.7                & 28.1                & 38.3               \\\\\n",
       "\t 3                   & 2017-01-01 03:00:00 & CD1                 & 21.2                & 24.5                & 32.8               \\\\\n",
       "\t 4                   & 2017-01-01 04:00:00 & CD1                 & 24.9                & 23.0                & 28.1               \\\\\n",
       "\t 5                   & 2017-01-01 05:00:00 & CD1                 & 24.6                & 23.9                & 29.3               \\\\\n",
       "\\end{tabular}\n"
      ],
      "text/markdown": [
       "\n",
       "X | MeasurementDateGMT | station_id | PM2.5..ug.m3. | PM10..ug.m3. | NO2..ug.m3. | \n",
       "|---|---|---|---|---|---|\n",
       "| 0                   | 2017-01-01 00:00:00 | CD1                 | 40.0                | 44.4                | 36.6                | \n",
       "| 1                   | 2017-01-01 01:00:00 | CD1                 | 31.6                | 34.4                | 46.2                | \n",
       "| 2                   | 2017-01-01 02:00:00 | CD1                 | 24.7                | 28.1                | 38.3                | \n",
       "| 3                   | 2017-01-01 03:00:00 | CD1                 | 21.2                | 24.5                | 32.8                | \n",
       "| 4                   | 2017-01-01 04:00:00 | CD1                 | 24.9                | 23.0                | 28.1                | \n",
       "| 5                   | 2017-01-01 05:00:00 | CD1                 | 24.6                | 23.9                | 29.3                | \n",
       "\n",
       "\n"
      ],
      "text/plain": [
       "  X MeasurementDateGMT  station_id PM2.5..ug.m3. PM10..ug.m3. NO2..ug.m3.\n",
       "1 0 2017-01-01 00:00:00 CD1        40.0          44.4         36.6       \n",
       "2 1 2017-01-01 01:00:00 CD1        31.6          34.4         46.2       \n",
       "3 2 2017-01-01 02:00:00 CD1        24.7          28.1         38.3       \n",
       "4 3 2017-01-01 03:00:00 CD1        21.2          24.5         32.8       \n",
       "5 4 2017-01-01 04:00:00 CD1        24.9          23.0         28.1       \n",
       "6 5 2017-01-01 05:00:00 CD1        24.6          23.9         29.3       "
      ]
     },
     "metadata": {},
     "output_type": "display_data"
    },
    {
     "data": {
      "text/html": [
       "<table>\n",
       "<thead><tr><th scope=col>Station_ID</th><th scope=col>MeasurementDateGMT</th><th scope=col>PM2.5..ug.m3.</th><th scope=col>PM10..ug.m3.</th><th scope=col>NO2..ug.m3.</th></tr></thead>\n",
       "<tbody>\n",
       "\t<tr><td>LH0                </td><td>2017-01-01 00:00:00</td><td>30.2               </td><td>34.6               </td><td>15.9               </td></tr>\n",
       "\t<tr><td>LH0                </td><td>2017-01-01 01:00:00</td><td>25.4               </td><td>29.2               </td><td>11.8               </td></tr>\n",
       "\t<tr><td>LH0                </td><td>2017-01-01 02:00:00</td><td>24.7               </td><td>28.1               </td><td>11.6               </td></tr>\n",
       "\t<tr><td>LH0                </td><td>2017-01-01 03:00:00</td><td>23.6               </td><td>27.0               </td><td>13.0               </td></tr>\n",
       "\t<tr><td>LH0                </td><td>2017-01-01 04:00:00</td><td>24.2               </td><td>27.4               </td><td>27.1               </td></tr>\n",
       "\t<tr><td>LH0                </td><td>2017-01-01 05:00:00</td><td>22.8               </td><td>26.0               </td><td>22.9               </td></tr>\n",
       "</tbody>\n",
       "</table>\n"
      ],
      "text/latex": [
       "\\begin{tabular}{r|lllll}\n",
       " Station\\_ID & MeasurementDateGMT & PM2.5..ug.m3. & PM10..ug.m3. & NO2..ug.m3.\\\\\n",
       "\\hline\n",
       "\t LH0                 & 2017-01-01 00:00:00 & 30.2                & 34.6                & 15.9               \\\\\n",
       "\t LH0                 & 2017-01-01 01:00:00 & 25.4                & 29.2                & 11.8               \\\\\n",
       "\t LH0                 & 2017-01-01 02:00:00 & 24.7                & 28.1                & 11.6               \\\\\n",
       "\t LH0                 & 2017-01-01 03:00:00 & 23.6                & 27.0                & 13.0               \\\\\n",
       "\t LH0                 & 2017-01-01 04:00:00 & 24.2                & 27.4                & 27.1               \\\\\n",
       "\t LH0                 & 2017-01-01 05:00:00 & 22.8                & 26.0                & 22.9               \\\\\n",
       "\\end{tabular}\n"
      ],
      "text/markdown": [
       "\n",
       "Station_ID | MeasurementDateGMT | PM2.5..ug.m3. | PM10..ug.m3. | NO2..ug.m3. | \n",
       "|---|---|---|---|---|---|\n",
       "| LH0                 | 2017-01-01 00:00:00 | 30.2                | 34.6                | 15.9                | \n",
       "| LH0                 | 2017-01-01 01:00:00 | 25.4                | 29.2                | 11.8                | \n",
       "| LH0                 | 2017-01-01 02:00:00 | 24.7                | 28.1                | 11.6                | \n",
       "| LH0                 | 2017-01-01 03:00:00 | 23.6                | 27.0                | 13.0                | \n",
       "| LH0                 | 2017-01-01 04:00:00 | 24.2                | 27.4                | 27.1                | \n",
       "| LH0                 | 2017-01-01 05:00:00 | 22.8                | 26.0                | 22.9                | \n",
       "\n",
       "\n"
      ],
      "text/plain": [
       "  Station_ID MeasurementDateGMT  PM2.5..ug.m3. PM10..ug.m3. NO2..ug.m3.\n",
       "1 LH0        2017-01-01 00:00:00 30.2          34.6         15.9       \n",
       "2 LH0        2017-01-01 01:00:00 25.4          29.2         11.8       \n",
       "3 LH0        2017-01-01 02:00:00 24.7          28.1         11.6       \n",
       "4 LH0        2017-01-01 03:00:00 23.6          27.0         13.0       \n",
       "5 LH0        2017-01-01 04:00:00 24.2          27.4         27.1       \n",
       "6 LH0        2017-01-01 05:00:00 22.8          26.0         22.9       "
      ]
     },
     "metadata": {},
     "output_type": "display_data"
    }
   ],
   "source": [
    "# browse data\n",
    "str(ld_aq1)\n",
    "str(ld_aq2)\n",
    "\n",
    "head(ld_aq1)\n",
    "head(ld_aq2)"
   ]
  },
  {
   "cell_type": "code",
   "execution_count": 18,
   "metadata": {},
   "outputs": [
    {
     "data": {
      "text/html": [
       "<table>\n",
       "<thead><tr><th scope=col>min_date</th><th scope=col>max_date</th></tr></thead>\n",
       "<tbody>\n",
       "\t<tr><td>2017-01-01</td><td>2018-03-31</td></tr>\n",
       "</tbody>\n",
       "</table>\n"
      ],
      "text/latex": [
       "\\begin{tabular}{r|ll}\n",
       " min\\_date & max\\_date\\\\\n",
       "\\hline\n",
       "\t 2017-01-01 & 2018-03-31\\\\\n",
       "\\end{tabular}\n"
      ],
      "text/markdown": [
       "\n",
       "min_date | max_date | \n",
       "|---|\n",
       "| 2017-01-01 | 2018-03-31 | \n",
       "\n",
       "\n"
      ],
      "text/plain": [
       "  min_date   max_date  \n",
       "1 2017-01-01 2018-03-31"
      ]
     },
     "metadata": {},
     "output_type": "display_data"
    },
    {
     "data": {
      "text/html": [
       "<table>\n",
       "<thead><tr><th scope=col>min_date</th><th scope=col>max_date</th></tr></thead>\n",
       "<tbody>\n",
       "\t<tr><td>2017-01-01</td><td>2018-04-01</td></tr>\n",
       "</tbody>\n",
       "</table>\n"
      ],
      "text/latex": [
       "\\begin{tabular}{r|ll}\n",
       " min\\_date & max\\_date\\\\\n",
       "\\hline\n",
       "\t 2017-01-01 & 2018-04-01\\\\\n",
       "\\end{tabular}\n"
      ],
      "text/markdown": [
       "\n",
       "min_date | max_date | \n",
       "|---|\n",
       "| 2017-01-01 | 2018-04-01 | \n",
       "\n",
       "\n"
      ],
      "text/plain": [
       "  min_date   max_date  \n",
       "1 2017-01-01 2018-04-01"
      ]
     },
     "metadata": {},
     "output_type": "display_data"
    }
   ],
   "source": [
    "ld_aq1 %>% summarize(min_date = min(MeasurementDateGMT), max_date = max(MeasurementDateGMT))\n",
    "ld_aq2 %>% summarize(min_date = min(MeasurementDateGMT), max_date = max(MeasurementDateGMT))"
   ]
  },
  {
   "cell_type": "code",
   "execution_count": 19,
   "metadata": {},
   "outputs": [
    {
     "data": {
      "text/html": [
       "<ol class=list-inline>\n",
       "\t<li>'CD1'</li>\n",
       "\t<li>'BL0'</li>\n",
       "\t<li>'GR4'</li>\n",
       "\t<li>'MY7'</li>\n",
       "\t<li>'HV1'</li>\n",
       "\t<li>'GN3'</li>\n",
       "\t<li>'GR9'</li>\n",
       "\t<li>'LW2'</li>\n",
       "\t<li>'GN0'</li>\n",
       "\t<li>'KF1'</li>\n",
       "\t<li>'CD9'</li>\n",
       "\t<li>'ST5'</li>\n",
       "\t<li>'TH4'</li>\n",
       "</ol>\n"
      ],
      "text/latex": [
       "\\begin{enumerate*}\n",
       "\\item 'CD1'\n",
       "\\item 'BL0'\n",
       "\\item 'GR4'\n",
       "\\item 'MY7'\n",
       "\\item 'HV1'\n",
       "\\item 'GN3'\n",
       "\\item 'GR9'\n",
       "\\item 'LW2'\n",
       "\\item 'GN0'\n",
       "\\item 'KF1'\n",
       "\\item 'CD9'\n",
       "\\item 'ST5'\n",
       "\\item 'TH4'\n",
       "\\end{enumerate*}\n"
      ],
      "text/markdown": [
       "1. 'CD1'\n",
       "2. 'BL0'\n",
       "3. 'GR4'\n",
       "4. 'MY7'\n",
       "5. 'HV1'\n",
       "6. 'GN3'\n",
       "7. 'GR9'\n",
       "8. 'LW2'\n",
       "9. 'GN0'\n",
       "10. 'KF1'\n",
       "11. 'CD9'\n",
       "12. 'ST5'\n",
       "13. 'TH4'\n",
       "\n",
       "\n"
      ],
      "text/plain": [
       " [1] \"CD1\" \"BL0\" \"GR4\" \"MY7\" \"HV1\" \"GN3\" \"GR9\" \"LW2\" \"GN0\" \"KF1\" \"CD9\" \"ST5\"\n",
       "[13] \"TH4\""
      ]
     },
     "metadata": {},
     "output_type": "display_data"
    },
    {
     "data": {
      "text/html": [
       "<ol class=list-inline>\n",
       "\t<li>'LH0'</li>\n",
       "\t<li>'HR1'</li>\n",
       "\t<li>'TD5'</li>\n",
       "\t<li>'CT3'</li>\n",
       "\t<li>'GB0'</li>\n",
       "\t<li>'CR8'</li>\n",
       "\t<li>'RB7'</li>\n",
       "\t<li>'BX1'</li>\n",
       "\t<li>'BX9'</li>\n",
       "\t<li>'KC1'</li>\n",
       "\t<li>'CT2'</li>\n",
       "\t<li>''</li>\n",
       "</ol>\n"
      ],
      "text/latex": [
       "\\begin{enumerate*}\n",
       "\\item 'LH0'\n",
       "\\item 'HR1'\n",
       "\\item 'TD5'\n",
       "\\item 'CT3'\n",
       "\\item 'GB0'\n",
       "\\item 'CR8'\n",
       "\\item 'RB7'\n",
       "\\item 'BX1'\n",
       "\\item 'BX9'\n",
       "\\item 'KC1'\n",
       "\\item 'CT2'\n",
       "\\item ''\n",
       "\\end{enumerate*}\n"
      ],
      "text/markdown": [
       "1. 'LH0'\n",
       "2. 'HR1'\n",
       "3. 'TD5'\n",
       "4. 'CT3'\n",
       "5. 'GB0'\n",
       "6. 'CR8'\n",
       "7. 'RB7'\n",
       "8. 'BX1'\n",
       "9. 'BX9'\n",
       "10. 'KC1'\n",
       "11. 'CT2'\n",
       "12. ''\n",
       "\n",
       "\n"
      ],
      "text/plain": [
       " [1] \"LH0\" \"HR1\" \"TD5\" \"CT3\" \"GB0\" \"CR8\" \"RB7\" \"BX1\" \"BX9\" \"KC1\" \"CT2\" \"\"   "
      ]
     },
     "metadata": {},
     "output_type": "display_data"
    }
   ],
   "source": [
    "unique(ld_aq1$station_id, incomparables = FALSE)\n",
    "unique(ld_aq2$Station_ID, incomparables = FALSE)"
   ]
  },
  {
   "cell_type": "code",
   "execution_count": 20,
   "metadata": {
    "collapsed": true
   },
   "outputs": [],
   "source": [
    "# Set to same column names\n",
    "colnames(ld_aq1) <- c('x','utc_time','station_id','PM25','PM10','NO2')\n",
    "colnames(ld_aq2) <- c('station_id','utc_time','PM25','PM10','NO2')"
   ]
  },
  {
   "cell_type": "code",
   "execution_count": 21,
   "metadata": {},
   "outputs": [
    {
     "data": {
      "text/html": [
       "<table>\n",
       "<thead><tr><th scope=col>utc_time</th><th scope=col>station_id</th><th scope=col>PM25</th><th scope=col>PM10</th><th scope=col>NO2</th></tr></thead>\n",
       "<tbody>\n",
       "\t<tr><td>2017-01-01 00:00:00</td><td>CD1                </td><td>40.0               </td><td>44.4               </td><td>36.6               </td></tr>\n",
       "\t<tr><td>2017-01-01 01:00:00</td><td>CD1                </td><td>31.6               </td><td>34.4               </td><td>46.2               </td></tr>\n",
       "\t<tr><td>2017-01-01 02:00:00</td><td>CD1                </td><td>24.7               </td><td>28.1               </td><td>38.3               </td></tr>\n",
       "\t<tr><td>2017-01-01 03:00:00</td><td>CD1                </td><td>21.2               </td><td>24.5               </td><td>32.8               </td></tr>\n",
       "\t<tr><td>2017-01-01 04:00:00</td><td>CD1                </td><td>24.9               </td><td>23.0               </td><td>28.1               </td></tr>\n",
       "\t<tr><td>2017-01-01 05:00:00</td><td>CD1                </td><td>24.6               </td><td>23.9               </td><td>29.3               </td></tr>\n",
       "</tbody>\n",
       "</table>\n"
      ],
      "text/latex": [
       "\\begin{tabular}{r|lllll}\n",
       " utc\\_time & station\\_id & PM25 & PM10 & NO2\\\\\n",
       "\\hline\n",
       "\t 2017-01-01 00:00:00 & CD1                 & 40.0                & 44.4                & 36.6               \\\\\n",
       "\t 2017-01-01 01:00:00 & CD1                 & 31.6                & 34.4                & 46.2               \\\\\n",
       "\t 2017-01-01 02:00:00 & CD1                 & 24.7                & 28.1                & 38.3               \\\\\n",
       "\t 2017-01-01 03:00:00 & CD1                 & 21.2                & 24.5                & 32.8               \\\\\n",
       "\t 2017-01-01 04:00:00 & CD1                 & 24.9                & 23.0                & 28.1               \\\\\n",
       "\t 2017-01-01 05:00:00 & CD1                 & 24.6                & 23.9                & 29.3               \\\\\n",
       "\\end{tabular}\n"
      ],
      "text/markdown": [
       "\n",
       "utc_time | station_id | PM25 | PM10 | NO2 | \n",
       "|---|---|---|---|---|---|\n",
       "| 2017-01-01 00:00:00 | CD1                 | 40.0                | 44.4                | 36.6                | \n",
       "| 2017-01-01 01:00:00 | CD1                 | 31.6                | 34.4                | 46.2                | \n",
       "| 2017-01-01 02:00:00 | CD1                 | 24.7                | 28.1                | 38.3                | \n",
       "| 2017-01-01 03:00:00 | CD1                 | 21.2                | 24.5                | 32.8                | \n",
       "| 2017-01-01 04:00:00 | CD1                 | 24.9                | 23.0                | 28.1                | \n",
       "| 2017-01-01 05:00:00 | CD1                 | 24.6                | 23.9                | 29.3                | \n",
       "\n",
       "\n"
      ],
      "text/plain": [
       "  utc_time            station_id PM25 PM10 NO2 \n",
       "1 2017-01-01 00:00:00 CD1        40.0 44.4 36.6\n",
       "2 2017-01-01 01:00:00 CD1        31.6 34.4 46.2\n",
       "3 2017-01-01 02:00:00 CD1        24.7 28.1 38.3\n",
       "4 2017-01-01 03:00:00 CD1        21.2 24.5 32.8\n",
       "5 2017-01-01 04:00:00 CD1        24.9 23.0 28.1\n",
       "6 2017-01-01 05:00:00 CD1        24.6 23.9 29.3"
      ]
     },
     "metadata": {},
     "output_type": "display_data"
    },
    {
     "data": {
      "text/html": [
       "<table>\n",
       "<thead><tr><th scope=col>utc_time</th><th scope=col>station_id</th><th scope=col>PM25</th><th scope=col>PM10</th><th scope=col>NO2</th></tr></thead>\n",
       "<tbody>\n",
       "\t<tr><td>2017-01-01 00:00:00</td><td>LH0                </td><td>30.2               </td><td>34.6               </td><td>15.9               </td></tr>\n",
       "\t<tr><td>2017-01-01 01:00:00</td><td>LH0                </td><td>25.4               </td><td>29.2               </td><td>11.8               </td></tr>\n",
       "\t<tr><td>2017-01-01 02:00:00</td><td>LH0                </td><td>24.7               </td><td>28.1               </td><td>11.6               </td></tr>\n",
       "\t<tr><td>2017-01-01 03:00:00</td><td>LH0                </td><td>23.6               </td><td>27.0               </td><td>13.0               </td></tr>\n",
       "\t<tr><td>2017-01-01 04:00:00</td><td>LH0                </td><td>24.2               </td><td>27.4               </td><td>27.1               </td></tr>\n",
       "\t<tr><td>2017-01-01 05:00:00</td><td>LH0                </td><td>22.8               </td><td>26.0               </td><td>22.9               </td></tr>\n",
       "</tbody>\n",
       "</table>\n"
      ],
      "text/latex": [
       "\\begin{tabular}{r|lllll}\n",
       " utc\\_time & station\\_id & PM25 & PM10 & NO2\\\\\n",
       "\\hline\n",
       "\t 2017-01-01 00:00:00 & LH0                 & 30.2                & 34.6                & 15.9               \\\\\n",
       "\t 2017-01-01 01:00:00 & LH0                 & 25.4                & 29.2                & 11.8               \\\\\n",
       "\t 2017-01-01 02:00:00 & LH0                 & 24.7                & 28.1                & 11.6               \\\\\n",
       "\t 2017-01-01 03:00:00 & LH0                 & 23.6                & 27.0                & 13.0               \\\\\n",
       "\t 2017-01-01 04:00:00 & LH0                 & 24.2                & 27.4                & 27.1               \\\\\n",
       "\t 2017-01-01 05:00:00 & LH0                 & 22.8                & 26.0                & 22.9               \\\\\n",
       "\\end{tabular}\n"
      ],
      "text/markdown": [
       "\n",
       "utc_time | station_id | PM25 | PM10 | NO2 | \n",
       "|---|---|---|---|---|---|\n",
       "| 2017-01-01 00:00:00 | LH0                 | 30.2                | 34.6                | 15.9                | \n",
       "| 2017-01-01 01:00:00 | LH0                 | 25.4                | 29.2                | 11.8                | \n",
       "| 2017-01-01 02:00:00 | LH0                 | 24.7                | 28.1                | 11.6                | \n",
       "| 2017-01-01 03:00:00 | LH0                 | 23.6                | 27.0                | 13.0                | \n",
       "| 2017-01-01 04:00:00 | LH0                 | 24.2                | 27.4                | 27.1                | \n",
       "| 2017-01-01 05:00:00 | LH0                 | 22.8                | 26.0                | 22.9                | \n",
       "\n",
       "\n"
      ],
      "text/plain": [
       "  utc_time            station_id PM25 PM10 NO2 \n",
       "1 2017-01-01 00:00:00 LH0        30.2 34.6 15.9\n",
       "2 2017-01-01 01:00:00 LH0        25.4 29.2 11.8\n",
       "3 2017-01-01 02:00:00 LH0        24.7 28.1 11.6\n",
       "4 2017-01-01 03:00:00 LH0        23.6 27.0 13.0\n",
       "5 2017-01-01 04:00:00 LH0        24.2 27.4 27.1\n",
       "6 2017-01-01 05:00:00 LH0        22.8 26.0 22.9"
      ]
     },
     "metadata": {},
     "output_type": "display_data"
    }
   ],
   "source": [
    "# Select relevant columns\n",
    "ld_aq1 <- ld_aq1[,c('utc_time','station_id','PM25','PM10','NO2')]\n",
    "ld_aq2 <- ld_aq2[,c('utc_time','station_id','PM25','PM10','NO2')]\n",
    "head(ld_aq1)\n",
    "head(ld_aq2)"
   ]
  },
  {
   "cell_type": "code",
   "execution_count": 22,
   "metadata": {},
   "outputs": [
    {
     "name": "stdout",
     "output_type": "stream",
     "text": [
      "'data.frame':\t260336 obs. of  5 variables:\n",
      " $ utc_time  : POSIXct, format: \"2017-01-01 00:00:00\" \"2017-01-01 01:00:00\" ...\n",
      " $ station_id: chr  \"CD1\" \"CD1\" \"CD1\" \"CD1\" ...\n",
      " $ PM25      : num  40 31.6 24.7 21.2 24.9 24.6 23.9 22 19 19.9 ...\n",
      " $ PM10      : num  44.4 34.4 28.1 24.5 23 23.9 22 22.9 20.1 24.4 ...\n",
      " $ NO2       : num  36.6 46.2 38.3 32.8 28.1 29.3 28.8 34.6 44.6 55.3 ...\n"
     ]
    },
    {
     "data": {
      "text/html": [
       "<table>\n",
       "<thead><tr><th scope=col>min_date</th><th scope=col>max_date</th></tr></thead>\n",
       "<tbody>\n",
       "\t<tr><td>2017-01-01</td><td>2018-04-01</td></tr>\n",
       "</tbody>\n",
       "</table>\n"
      ],
      "text/latex": [
       "\\begin{tabular}{r|ll}\n",
       " min\\_date & max\\_date\\\\\n",
       "\\hline\n",
       "\t 2017-01-01 & 2018-04-01\\\\\n",
       "\\end{tabular}\n"
      ],
      "text/markdown": [
       "\n",
       "min_date | max_date | \n",
       "|---|\n",
       "| 2017-01-01 | 2018-04-01 | \n",
       "\n",
       "\n"
      ],
      "text/plain": [
       "  min_date   max_date  \n",
       "1 2017-01-01 2018-04-01"
      ]
     },
     "metadata": {},
     "output_type": "display_data"
    }
   ],
   "source": [
    "# Append 2 AQ data sets\n",
    "ld_aq <- rbind(ld_aq1, ld_aq2)\n",
    "str(ld_aq)\n",
    "ld_aq %>% summarize(min_date = min(utc_time), max_date = max(utc_time))"
   ]
  },
  {
   "cell_type": "markdown",
   "metadata": {},
   "source": [
    "### 2.2 Prepare mapping table and grid data"
   ]
  },
  {
   "cell_type": "code",
   "execution_count": 23,
   "metadata": {
    "collapsed": true
   },
   "outputs": [],
   "source": [
    "ld_closest_stations <- read.csv('SL_london_closest_stations.csv')\n",
    "ld_grid_meo <- read.csv('Datasets/London_historical_meo_grid.csv')"
   ]
  },
  {
   "cell_type": "code",
   "execution_count": 24,
   "metadata": {},
   "outputs": [
    {
     "data": {
      "text/html": [
       "<table>\n",
       "<thead><tr><th scope=col>min_date</th><th scope=col>max_date</th></tr></thead>\n",
       "<tbody>\n",
       "\t<tr><td>2017-01-01         </td><td>2018-03-27 05:00:00</td></tr>\n",
       "</tbody>\n",
       "</table>\n"
      ],
      "text/latex": [
       "\\begin{tabular}{r|ll}\n",
       " min\\_date & max\\_date\\\\\n",
       "\\hline\n",
       "\t 2017-01-01          & 2018-03-27 05:00:00\\\\\n",
       "\\end{tabular}\n"
      ],
      "text/markdown": [
       "\n",
       "min_date | max_date | \n",
       "|---|\n",
       "| 2017-01-01          | 2018-03-27 05:00:00 | \n",
       "\n",
       "\n"
      ],
      "text/plain": [
       "  min_date   max_date           \n",
       "1 2017-01-01 2018-03-27 05:00:00"
      ]
     },
     "metadata": {},
     "output_type": "display_data"
    }
   ],
   "source": [
    "# Converting to POSIXct format\n",
    "ld_grid_meo$utc_time <- anytime(ld_grid_meo$utc_time)\n",
    "ld_grid_meo %>% summarize(min_date = min(utc_time), max_date = max(utc_time))"
   ]
  },
  {
   "cell_type": "code",
   "execution_count": 25,
   "metadata": {
    "collapsed": true
   },
   "outputs": [],
   "source": [
    "colnames(ld_closest_stations) <- c('x',\"station_id\",\"stationName\",\"distance\")"
   ]
  },
  {
   "cell_type": "code",
   "execution_count": 26,
   "metadata": {},
   "outputs": [
    {
     "name": "stdout",
     "output_type": "stream",
     "text": [
      "'data.frame':\t24 obs. of  4 variables:\n",
      " $ x          : int  1 2 3 4 5 6 7 8 9 10 ...\n",
      " $ station_id : Factor w/ 24 levels \"BL0\",\"BX1\",\"BX9\",..: 3 2 1 5 4 7 8 6 10 12 ...\n",
      " $ stationName: Factor w/ 10 levels \"london_grid_346\",..: 10 10 6 6 4 6 6 5 8 8 ...\n",
      " $ distance   : num  3929 3929 3060 3683 5212 ...\n",
      "'data.frame':\t9303966 obs. of  9 variables:\n",
      " $ stationName   : Factor w/ 861 levels \"london_grid_000\",..: 1 2 3 4 5 6 7 8 9 10 ...\n",
      " $ longitude     : num  -2 -2 -2 -2 -2 -2 -2 -2 -2 -2 ...\n",
      " $ latitude      : num  50.5 50.6 50.7 50.8 50.9 51 51.1 51.2 51.3 51.4 ...\n",
      " $ utc_time      : POSIXct, format: \"2017-01-01 00:00:00\" \"2017-01-01 00:00:00\" ...\n",
      " $ temperature   : num  9.36 9.09 8.3 7.5 6.92 6.33 6.13 6.12 6.19 6.43 ...\n",
      " $ pressure      : num  1025 1024 1023 1021 1016 ...\n",
      " $ humidity      : num  77.9 79 82.1 85.3 88.5 ...\n",
      " $ wind_direction: num  251 250 245 236 228 ...\n",
      " $ wind_speed.kph: num  23.7 21.8 16.1 10.6 11 ...\n"
     ]
    },
    {
     "data": {
      "text/html": [
       "<table>\n",
       "<thead><tr><th scope=col>x</th><th scope=col>station_id</th><th scope=col>stationName</th><th scope=col>distance</th></tr></thead>\n",
       "<tbody>\n",
       "\t<tr><td>1              </td><td>BX9            </td><td>london_grid_472</td><td>3929.170       </td></tr>\n",
       "\t<tr><td>2              </td><td>BX1            </td><td>london_grid_472</td><td>3929.170       </td></tr>\n",
       "\t<tr><td>3              </td><td>BL0            </td><td>london_grid_409</td><td>3059.760       </td></tr>\n",
       "\t<tr><td>4              </td><td>CD9            </td><td>london_grid_409</td><td>3682.914       </td></tr>\n",
       "\t<tr><td>5              </td><td>CD1            </td><td>london_grid_388</td><td>5211.633       </td></tr>\n",
       "\t<tr><td>6              </td><td>CT2            </td><td>london_grid_409</td><td>1646.945       </td></tr>\n",
       "</tbody>\n",
       "</table>\n"
      ],
      "text/latex": [
       "\\begin{tabular}{r|llll}\n",
       " x & station\\_id & stationName & distance\\\\\n",
       "\\hline\n",
       "\t 1                   & BX9                 & london\\_grid\\_472 & 3929.170           \\\\\n",
       "\t 2                   & BX1                 & london\\_grid\\_472 & 3929.170           \\\\\n",
       "\t 3                   & BL0                 & london\\_grid\\_409 & 3059.760           \\\\\n",
       "\t 4                   & CD9                 & london\\_grid\\_409 & 3682.914           \\\\\n",
       "\t 5                   & CD1                 & london\\_grid\\_388 & 5211.633           \\\\\n",
       "\t 6                   & CT2                 & london\\_grid\\_409 & 1646.945           \\\\\n",
       "\\end{tabular}\n"
      ],
      "text/markdown": [
       "\n",
       "x | station_id | stationName | distance | \n",
       "|---|---|---|---|---|---|\n",
       "| 1               | BX9             | london_grid_472 | 3929.170        | \n",
       "| 2               | BX1             | london_grid_472 | 3929.170        | \n",
       "| 3               | BL0             | london_grid_409 | 3059.760        | \n",
       "| 4               | CD9             | london_grid_409 | 3682.914        | \n",
       "| 5               | CD1             | london_grid_388 | 5211.633        | \n",
       "| 6               | CT2             | london_grid_409 | 1646.945        | \n",
       "\n",
       "\n"
      ],
      "text/plain": [
       "  x station_id stationName     distance\n",
       "1 1 BX9        london_grid_472 3929.170\n",
       "2 2 BX1        london_grid_472 3929.170\n",
       "3 3 BL0        london_grid_409 3059.760\n",
       "4 4 CD9        london_grid_409 3682.914\n",
       "5 5 CD1        london_grid_388 5211.633\n",
       "6 6 CT2        london_grid_409 1646.945"
      ]
     },
     "metadata": {},
     "output_type": "display_data"
    },
    {
     "data": {
      "text/html": [
       "<table>\n",
       "<thead><tr><th scope=col>stationName</th><th scope=col>longitude</th><th scope=col>latitude</th><th scope=col>utc_time</th><th scope=col>temperature</th><th scope=col>pressure</th><th scope=col>humidity</th><th scope=col>wind_direction</th><th scope=col>wind_speed.kph</th></tr></thead>\n",
       "<tbody>\n",
       "\t<tr><td>london_grid_000</td><td>-2             </td><td>50.5           </td><td>2017-01-01     </td><td>9.36           </td><td>1024.81        </td><td>77.90          </td><td>250.88         </td><td>23.74          </td></tr>\n",
       "\t<tr><td>london_grid_001</td><td>-2             </td><td>50.6           </td><td>2017-01-01     </td><td>9.09           </td><td>1024.25        </td><td>78.96          </td><td>249.86         </td><td>21.81          </td></tr>\n",
       "\t<tr><td>london_grid_002</td><td>-2             </td><td>50.7           </td><td>2017-01-01     </td><td>8.30           </td><td>1022.55        </td><td>82.13          </td><td>245.35         </td><td>16.08          </td></tr>\n",
       "\t<tr><td>london_grid_003</td><td>-2             </td><td>50.8           </td><td>2017-01-01     </td><td>7.50           </td><td>1020.86        </td><td>85.30          </td><td>235.98         </td><td>10.55          </td></tr>\n",
       "\t<tr><td>london_grid_004</td><td>-2             </td><td>50.9           </td><td>2017-01-01     </td><td>6.92           </td><td>1015.89        </td><td>88.51          </td><td>228.21         </td><td>10.97          </td></tr>\n",
       "\t<tr><td>london_grid_005</td><td>-2             </td><td>51.0           </td><td>2017-01-01     </td><td>6.33           </td><td>1010.92        </td><td>91.73          </td><td>221.12         </td><td>11.57          </td></tr>\n",
       "</tbody>\n",
       "</table>\n"
      ],
      "text/latex": [
       "\\begin{tabular}{r|lllllllll}\n",
       " stationName & longitude & latitude & utc\\_time & temperature & pressure & humidity & wind\\_direction & wind\\_speed.kph\\\\\n",
       "\\hline\n",
       "\t london\\_grid\\_000 & -2                  & 50.5                & 2017-01-01          & 9.36                & 1024.81             & 77.90               & 250.88              & 23.74              \\\\\n",
       "\t london\\_grid\\_001 & -2                  & 50.6                & 2017-01-01          & 9.09                & 1024.25             & 78.96               & 249.86              & 21.81              \\\\\n",
       "\t london\\_grid\\_002 & -2                  & 50.7                & 2017-01-01          & 8.30                & 1022.55             & 82.13               & 245.35              & 16.08              \\\\\n",
       "\t london\\_grid\\_003 & -2                  & 50.8                & 2017-01-01          & 7.50                & 1020.86             & 85.30               & 235.98              & 10.55              \\\\\n",
       "\t london\\_grid\\_004 & -2                  & 50.9                & 2017-01-01          & 6.92                & 1015.89             & 88.51               & 228.21              & 10.97              \\\\\n",
       "\t london\\_grid\\_005 & -2                  & 51.0                & 2017-01-01          & 6.33                & 1010.92             & 91.73               & 221.12              & 11.57              \\\\\n",
       "\\end{tabular}\n"
      ],
      "text/markdown": [
       "\n",
       "stationName | longitude | latitude | utc_time | temperature | pressure | humidity | wind_direction | wind_speed.kph | \n",
       "|---|---|---|---|---|---|\n",
       "| london_grid_000 | -2              | 50.5            | 2017-01-01      | 9.36            | 1024.81         | 77.90           | 250.88          | 23.74           | \n",
       "| london_grid_001 | -2              | 50.6            | 2017-01-01      | 9.09            | 1024.25         | 78.96           | 249.86          | 21.81           | \n",
       "| london_grid_002 | -2              | 50.7            | 2017-01-01      | 8.30            | 1022.55         | 82.13           | 245.35          | 16.08           | \n",
       "| london_grid_003 | -2              | 50.8            | 2017-01-01      | 7.50            | 1020.86         | 85.30           | 235.98          | 10.55           | \n",
       "| london_grid_004 | -2              | 50.9            | 2017-01-01      | 6.92            | 1015.89         | 88.51           | 228.21          | 10.97           | \n",
       "| london_grid_005 | -2              | 51.0            | 2017-01-01      | 6.33            | 1010.92         | 91.73           | 221.12          | 11.57           | \n",
       "\n",
       "\n"
      ],
      "text/plain": [
       "  stationName     longitude latitude utc_time   temperature pressure humidity\n",
       "1 london_grid_000 -2        50.5     2017-01-01 9.36        1024.81  77.90   \n",
       "2 london_grid_001 -2        50.6     2017-01-01 9.09        1024.25  78.96   \n",
       "3 london_grid_002 -2        50.7     2017-01-01 8.30        1022.55  82.13   \n",
       "4 london_grid_003 -2        50.8     2017-01-01 7.50        1020.86  85.30   \n",
       "5 london_grid_004 -2        50.9     2017-01-01 6.92        1015.89  88.51   \n",
       "6 london_grid_005 -2        51.0     2017-01-01 6.33        1010.92  91.73   \n",
       "  wind_direction wind_speed.kph\n",
       "1 250.88         23.74         \n",
       "2 249.86         21.81         \n",
       "3 245.35         16.08         \n",
       "4 235.98         10.55         \n",
       "5 228.21         10.97         \n",
       "6 221.12         11.57         "
      ]
     },
     "metadata": {},
     "output_type": "display_data"
    }
   ],
   "source": [
    "# browse data\n",
    "str(ld_closest_stations)\n",
    "str(ld_grid_meo)\n",
    "\n",
    "head(ld_closest_stations)\n",
    "head(ld_grid_meo)"
   ]
  },
  {
   "cell_type": "markdown",
   "metadata": {},
   "source": [
    "### 2.3 Merge AQ and mapping table"
   ]
  },
  {
   "cell_type": "code",
   "execution_count": 27,
   "metadata": {
    "collapsed": true
   },
   "outputs": [],
   "source": [
    "# STEP 1: Merge AQ and map\n",
    "ld_aq_map <- merge(ld_aq,ld_closest_stations, by = \"station_id\")"
   ]
  },
  {
   "cell_type": "code",
   "execution_count": 28,
   "metadata": {},
   "outputs": [
    {
     "data": {
      "text/html": [
       "<table>\n",
       "<thead><tr><th scope=col>station_id</th><th scope=col>utc_time</th><th scope=col>PM25</th><th scope=col>PM10</th><th scope=col>NO2</th><th scope=col>x</th><th scope=col>stationName</th><th scope=col>distance</th></tr></thead>\n",
       "<tbody>\n",
       "\t<tr><td>BL0                </td><td>2017-01-01 01:00:00</td><td>22.9               </td><td>34.6               </td><td>17.3               </td><td>3                  </td><td>london_grid_409    </td><td>3059.76            </td></tr>\n",
       "\t<tr><td>BL0                </td><td>2017-01-01 02:00:00</td><td>18.4               </td><td>25.2               </td><td>14.2               </td><td>3                  </td><td>london_grid_409    </td><td>3059.76            </td></tr>\n",
       "\t<tr><td>BL0                </td><td>2017-01-01 03:00:00</td><td>19.5               </td><td>24.0               </td><td>14.8               </td><td>3                  </td><td>london_grid_409    </td><td>3059.76            </td></tr>\n",
       "\t<tr><td>BL0                </td><td>2017-01-01 00:00:00</td><td>30.8               </td><td>31.6               </td><td>10.8               </td><td>3                  </td><td>london_grid_409    </td><td>3059.76            </td></tr>\n",
       "\t<tr><td>BL0                </td><td>2017-01-01 05:00:00</td><td>22.8               </td><td>27.3               </td><td>16.2               </td><td>3                  </td><td>london_grid_409    </td><td>3059.76            </td></tr>\n",
       "\t<tr><td>BL0                </td><td>2017-01-01 06:00:00</td><td>19.6               </td><td>25.3               </td><td>19.5               </td><td>3                  </td><td>london_grid_409    </td><td>3059.76            </td></tr>\n",
       "</tbody>\n",
       "</table>\n"
      ],
      "text/latex": [
       "\\begin{tabular}{r|llllllll}\n",
       " station\\_id & utc\\_time & PM25 & PM10 & NO2 & x & stationName & distance\\\\\n",
       "\\hline\n",
       "\t BL0                 & 2017-01-01 01:00:00 & 22.9                & 34.6                & 17.3                & 3                   & london\\_grid\\_409 & 3059.76            \\\\\n",
       "\t BL0                 & 2017-01-01 02:00:00 & 18.4                & 25.2                & 14.2                & 3                   & london\\_grid\\_409 & 3059.76            \\\\\n",
       "\t BL0                 & 2017-01-01 03:00:00 & 19.5                & 24.0                & 14.8                & 3                   & london\\_grid\\_409 & 3059.76            \\\\\n",
       "\t BL0                 & 2017-01-01 00:00:00 & 30.8                & 31.6                & 10.8                & 3                   & london\\_grid\\_409 & 3059.76            \\\\\n",
       "\t BL0                 & 2017-01-01 05:00:00 & 22.8                & 27.3                & 16.2                & 3                   & london\\_grid\\_409 & 3059.76            \\\\\n",
       "\t BL0                 & 2017-01-01 06:00:00 & 19.6                & 25.3                & 19.5                & 3                   & london\\_grid\\_409 & 3059.76            \\\\\n",
       "\\end{tabular}\n"
      ],
      "text/markdown": [
       "\n",
       "station_id | utc_time | PM25 | PM10 | NO2 | x | stationName | distance | \n",
       "|---|---|---|---|---|---|\n",
       "| BL0                 | 2017-01-01 01:00:00 | 22.9                | 34.6                | 17.3                | 3                   | london_grid_409     | 3059.76             | \n",
       "| BL0                 | 2017-01-01 02:00:00 | 18.4                | 25.2                | 14.2                | 3                   | london_grid_409     | 3059.76             | \n",
       "| BL0                 | 2017-01-01 03:00:00 | 19.5                | 24.0                | 14.8                | 3                   | london_grid_409     | 3059.76             | \n",
       "| BL0                 | 2017-01-01 00:00:00 | 30.8                | 31.6                | 10.8                | 3                   | london_grid_409     | 3059.76             | \n",
       "| BL0                 | 2017-01-01 05:00:00 | 22.8                | 27.3                | 16.2                | 3                   | london_grid_409     | 3059.76             | \n",
       "| BL0                 | 2017-01-01 06:00:00 | 19.6                | 25.3                | 19.5                | 3                   | london_grid_409     | 3059.76             | \n",
       "\n",
       "\n"
      ],
      "text/plain": [
       "  station_id utc_time            PM25 PM10 NO2  x stationName     distance\n",
       "1 BL0        2017-01-01 01:00:00 22.9 34.6 17.3 3 london_grid_409 3059.76 \n",
       "2 BL0        2017-01-01 02:00:00 18.4 25.2 14.2 3 london_grid_409 3059.76 \n",
       "3 BL0        2017-01-01 03:00:00 19.5 24.0 14.8 3 london_grid_409 3059.76 \n",
       "4 BL0        2017-01-01 00:00:00 30.8 31.6 10.8 3 london_grid_409 3059.76 \n",
       "5 BL0        2017-01-01 05:00:00 22.8 27.3 16.2 3 london_grid_409 3059.76 \n",
       "6 BL0        2017-01-01 06:00:00 19.6 25.3 19.5 3 london_grid_409 3059.76 "
      ]
     },
     "metadata": {},
     "output_type": "display_data"
    },
    {
     "name": "stdout",
     "output_type": "stream",
     "text": [
      "'data.frame':\t260335 obs. of  8 variables:\n",
      " $ station_id : chr  \"BL0\" \"BL0\" \"BL0\" \"BL0\" ...\n",
      " $ utc_time   : POSIXct, format: \"2017-01-01 01:00:00\" \"2017-01-01 02:00:00\" ...\n",
      " $ PM25       : num  22.9 18.4 19.5 30.8 22.8 19.6 15.6 18.1 14.5 10.9 ...\n",
      " $ PM10       : num  34.6 25.2 24 31.6 27.3 25.3 24 23.4 22.5 19.8 ...\n",
      " $ NO2        : num  17.3 14.2 14.8 10.8 16.2 19.5 21 28 26.4 25.3 ...\n",
      " $ x          : int  3 3 3 3 3 3 3 3 3 3 ...\n",
      " $ stationName: Factor w/ 10 levels \"london_grid_346\",..: 6 6 6 6 6 6 6 6 6 6 ...\n",
      " $ distance   : num  3060 3060 3060 3060 3060 ...\n"
     ]
    },
    {
     "data": {
      "text/plain": [
       "  station_id           utc_time                        PM25       \n",
       " Length:260335      Min.   :2017-01-01 00:00:00   Min.   :-14.00  \n",
       " Class :character   1st Qu.:2017-04-26 10:00:00   1st Qu.:  6.30  \n",
       " Mode  :character   Median :2017-08-17 10:00:00   Median : 10.00  \n",
       "                    Mean   :2017-08-17 06:27:39   Mean   : 13.09  \n",
       "                    3rd Qu.:2017-12-08 10:00:00   3rd Qu.: 16.00  \n",
       "                    Max.   :2018-04-01 00:00:00   Max.   :313.00  \n",
       "                                                  NA's   :49338   \n",
       "      PM10             NO2               x                  stationName   \n",
       " Min.   :-11.80   Min.   : -8.30   Min.   : 1.00   london_grid_388:43611  \n",
       " 1st Qu.: 11.20   1st Qu.: 19.50   1st Qu.: 7.00   london_grid_451:43611  \n",
       " Median : 16.80   Median : 34.20   Median :13.00   london_grid_409:42202  \n",
       " Mean   : 20.17   Mean   : 39.73   Mean   :12.53   london_grid_472:32737  \n",
       " 3rd Qu.: 25.20   3rd Qu.: 53.80   3rd Qu.:19.00   london_grid_430:32691  \n",
       " Max.   :667.10   Max.   :336.10   Max.   :24.00   london_grid_408:21817  \n",
       " NA's   :94032    NA's   :94189                    (Other)        :43666  \n",
       "    distance   \n",
       " Min.   :1491  \n",
       " 1st Qu.:2214  \n",
       " Median :3144  \n",
       " Mean   :3292  \n",
       " 3rd Qu.:4024  \n",
       " Max.   :5655  \n",
       "               "
      ]
     },
     "metadata": {},
     "output_type": "display_data"
    }
   ],
   "source": [
    "head(ld_aq_map)\n",
    "str(ld_aq_map)\n",
    "summary(ld_aq_map)"
   ]
  },
  {
   "cell_type": "markdown",
   "metadata": {},
   "source": [
    "### 2.4 Merge with GM"
   ]
  },
  {
   "cell_type": "code",
   "execution_count": 29,
   "metadata": {
    "collapsed": true
   },
   "outputs": [],
   "source": [
    "# STEP 2: Merge Step1 and GM\n",
    "ld_aq_gm <- merge(ld_aq_map, ld_grid_meo, by = c(\"stationName\",\"utc_time\"))"
   ]
  },
  {
   "cell_type": "code",
   "execution_count": 30,
   "metadata": {},
   "outputs": [
    {
     "data": {
      "text/html": [
       "<table>\n",
       "<thead><tr><th scope=col>stationName</th><th scope=col>utc_time</th><th scope=col>station_id</th><th scope=col>PM25</th><th scope=col>PM10</th><th scope=col>NO2</th><th scope=col>x</th><th scope=col>distance</th><th scope=col>longitude</th><th scope=col>latitude</th><th scope=col>temperature</th><th scope=col>pressure</th><th scope=col>humidity</th><th scope=col>wind_direction</th><th scope=col>wind_speed.kph</th></tr></thead>\n",
       "<tbody>\n",
       "\t<tr><td>london_grid_346    </td><td>2017-01-01 08:00:00</td><td>LH0                </td><td>18.3               </td><td>21.3               </td><td>41.6               </td><td>16                 </td><td>3143.783           </td><td>-0.4               </td><td>51.5               </td><td>6.05               </td><td>1019.42            </td><td>90.04              </td><td>221.29             </td><td>16.38              </td></tr>\n",
       "\t<tr><td>london_grid_346    </td><td>2017-01-01 09:00:00</td><td>LH0                </td><td>16.3               </td><td>19.5               </td><td>44.1               </td><td>16                 </td><td>3143.783           </td><td>-0.4               </td><td>51.5               </td><td>6.05               </td><td>1018.21            </td><td>89.16              </td><td>219.73             </td><td>17.05              </td></tr>\n",
       "\t<tr><td>london_grid_346    </td><td>2017-01-01 10:00:00</td><td>LH0                </td><td>13.3               </td><td>16.2               </td><td>49.1               </td><td>16                 </td><td>3143.783           </td><td>-0.4               </td><td>51.5               </td><td>6.04               </td><td>1017.00            </td><td>88.28              </td><td>218.29             </td><td>17.73              </td></tr>\n",
       "\t<tr><td>london_grid_346    </td><td>2017-01-01 11:00:00</td><td>LH0                </td><td> 9.4               </td><td>11.6               </td><td>45.2               </td><td>16                 </td><td>3143.783           </td><td>-0.4               </td><td>51.5               </td><td>6.04               </td><td>1015.79            </td><td>87.40              </td><td>216.96             </td><td>18.42              </td></tr>\n",
       "\t<tr><td>london_grid_346    </td><td>2017-01-01 12:00:00</td><td>LH0                </td><td> 6.1               </td><td> 8.5               </td><td>41.4               </td><td>16                 </td><td>3143.783           </td><td>-0.4               </td><td>51.5               </td><td>6.25               </td><td>1014.82            </td><td>87.85              </td><td>215.76             </td><td>18.82              </td></tr>\n",
       "\t<tr><td>london_grid_346    </td><td>2017-01-01 13:00:00</td><td>LH0                </td><td> 6.7               </td><td>13.4               </td><td>53.6               </td><td>16                 </td><td>3143.783           </td><td>-0.4               </td><td>51.5               </td><td>6.46               </td><td>1013.85            </td><td>88.31              </td><td>214.60             </td><td>19.22              </td></tr>\n",
       "</tbody>\n",
       "</table>\n"
      ],
      "text/latex": [
       "\\begin{tabular}{r|lllllllllllllll}\n",
       " stationName & utc\\_time & station\\_id & PM25 & PM10 & NO2 & x & distance & longitude & latitude & temperature & pressure & humidity & wind\\_direction & wind\\_speed.kph\\\\\n",
       "\\hline\n",
       "\t london\\_grid\\_346 & 2017-01-01 08:00:00 & LH0                 & 18.3                & 21.3                & 41.6                & 16                  & 3143.783            & -0.4                & 51.5                & 6.05                & 1019.42             & 90.04               & 221.29              & 16.38              \\\\\n",
       "\t london\\_grid\\_346 & 2017-01-01 09:00:00 & LH0                 & 16.3                & 19.5                & 44.1                & 16                  & 3143.783            & -0.4                & 51.5                & 6.05                & 1018.21             & 89.16               & 219.73              & 17.05              \\\\\n",
       "\t london\\_grid\\_346 & 2017-01-01 10:00:00 & LH0                 & 13.3                & 16.2                & 49.1                & 16                  & 3143.783            & -0.4                & 51.5                & 6.04                & 1017.00             & 88.28               & 218.29              & 17.73              \\\\\n",
       "\t london\\_grid\\_346 & 2017-01-01 11:00:00 & LH0                 &  9.4                & 11.6                & 45.2                & 16                  & 3143.783            & -0.4                & 51.5                & 6.04                & 1015.79             & 87.40               & 216.96              & 18.42              \\\\\n",
       "\t london\\_grid\\_346 & 2017-01-01 12:00:00 & LH0                 &  6.1                &  8.5                & 41.4                & 16                  & 3143.783            & -0.4                & 51.5                & 6.25                & 1014.82             & 87.85               & 215.76              & 18.82              \\\\\n",
       "\t london\\_grid\\_346 & 2017-01-01 13:00:00 & LH0                 &  6.7                & 13.4                & 53.6                & 16                  & 3143.783            & -0.4                & 51.5                & 6.46                & 1013.85             & 88.31               & 214.60              & 19.22              \\\\\n",
       "\\end{tabular}\n"
      ],
      "text/markdown": [
       "\n",
       "stationName | utc_time | station_id | PM25 | PM10 | NO2 | x | distance | longitude | latitude | temperature | pressure | humidity | wind_direction | wind_speed.kph | \n",
       "|---|---|---|---|---|---|\n",
       "| london_grid_346     | 2017-01-01 08:00:00 | LH0                 | 18.3                | 21.3                | 41.6                | 16                  | 3143.783            | -0.4                | 51.5                | 6.05                | 1019.42             | 90.04               | 221.29              | 16.38               | \n",
       "| london_grid_346     | 2017-01-01 09:00:00 | LH0                 | 16.3                | 19.5                | 44.1                | 16                  | 3143.783            | -0.4                | 51.5                | 6.05                | 1018.21             | 89.16               | 219.73              | 17.05               | \n",
       "| london_grid_346     | 2017-01-01 10:00:00 | LH0                 | 13.3                | 16.2                | 49.1                | 16                  | 3143.783            | -0.4                | 51.5                | 6.04                | 1017.00             | 88.28               | 218.29              | 17.73               | \n",
       "| london_grid_346     | 2017-01-01 11:00:00 | LH0                 |  9.4                | 11.6                | 45.2                | 16                  | 3143.783            | -0.4                | 51.5                | 6.04                | 1015.79             | 87.40               | 216.96              | 18.42               | \n",
       "| london_grid_346     | 2017-01-01 12:00:00 | LH0                 |  6.1                |  8.5                | 41.4                | 16                  | 3143.783            | -0.4                | 51.5                | 6.25                | 1014.82             | 87.85               | 215.76              | 18.82               | \n",
       "| london_grid_346     | 2017-01-01 13:00:00 | LH0                 |  6.7                | 13.4                | 53.6                | 16                  | 3143.783            | -0.4                | 51.5                | 6.46                | 1013.85             | 88.31               | 214.60              | 19.22               | \n",
       "\n",
       "\n"
      ],
      "text/plain": [
       "  stationName     utc_time            station_id PM25 PM10 NO2  x  distance\n",
       "1 london_grid_346 2017-01-01 08:00:00 LH0        18.3 21.3 41.6 16 3143.783\n",
       "2 london_grid_346 2017-01-01 09:00:00 LH0        16.3 19.5 44.1 16 3143.783\n",
       "3 london_grid_346 2017-01-01 10:00:00 LH0        13.3 16.2 49.1 16 3143.783\n",
       "4 london_grid_346 2017-01-01 11:00:00 LH0         9.4 11.6 45.2 16 3143.783\n",
       "5 london_grid_346 2017-01-01 12:00:00 LH0         6.1  8.5 41.4 16 3143.783\n",
       "6 london_grid_346 2017-01-01 13:00:00 LH0         6.7 13.4 53.6 16 3143.783\n",
       "  longitude latitude temperature pressure humidity wind_direction\n",
       "1 -0.4      51.5     6.05        1019.42  90.04    221.29        \n",
       "2 -0.4      51.5     6.05        1018.21  89.16    219.73        \n",
       "3 -0.4      51.5     6.04        1017.00  88.28    218.29        \n",
       "4 -0.4      51.5     6.04        1015.79  87.40    216.96        \n",
       "5 -0.4      51.5     6.25        1014.82  87.85    215.76        \n",
       "6 -0.4      51.5     6.46        1013.85  88.31    214.60        \n",
       "  wind_speed.kph\n",
       "1 16.38         \n",
       "2 17.05         \n",
       "3 17.73         \n",
       "4 18.42         \n",
       "5 18.82         \n",
       "6 19.22         "
      ]
     },
     "metadata": {},
     "output_type": "display_data"
    },
    {
     "name": "stdout",
     "output_type": "stream",
     "text": [
      "'data.frame':\t257936 obs. of  15 variables:\n",
      " $ stationName   : Factor w/ 10 levels \"london_grid_346\",..: 1 1 1 1 1 1 1 1 1 1 ...\n",
      " $ utc_time      : POSIXct, format: \"2017-01-01 08:00:00\" \"2017-01-01 09:00:00\" ...\n",
      " $ station_id    : chr  \"LH0\" \"LH0\" \"LH0\" \"LH0\" ...\n",
      " $ PM25          : num  18.3 16.3 13.3 9.4 6.1 6.7 2.1 0.9 1.1 1 ...\n",
      " $ PM10          : num  21.3 19.5 16.2 11.6 8.5 13.4 4.6 2 2.1 2 ...\n",
      " $ NO2           : num  41.6 44.1 49.1 45.2 41.4 53.6 11.7 12.1 12 13.5 ...\n",
      " $ x             : int  16 16 16 16 16 16 16 16 16 16 ...\n",
      " $ distance      : num  3144 3144 3144 3144 3144 ...\n",
      " $ longitude     : num  -0.4 -0.4 -0.4 -0.4 -0.4 -0.4 -0.4 -0.4 -0.4 -0.4 ...\n",
      " $ latitude      : num  51.5 51.5 51.5 51.5 51.5 51.5 51.5 51.5 51.5 51.5 ...\n",
      " $ temperature   : num  6.05 6.05 6.04 6.04 6.25 6.46 6.67 6.91 7.15 7.39 ...\n",
      " $ pressure      : num  1019 1018 1017 1016 1015 ...\n",
      " $ humidity      : num  90 89.2 88.3 87.4 87.8 ...\n",
      " $ wind_direction: num  221 220 218 217 216 ...\n",
      " $ wind_speed.kph: num  16.4 17.1 17.7 18.4 18.8 ...\n"
     ]
    },
    {
     "data": {
      "text/plain": [
       "          stationName       utc_time                    station_id       \n",
       " london_grid_388:43224   Min.   :2017-01-01 08:00:00   Length:257936     \n",
       " london_grid_451:43224   1st Qu.:2017-04-25 16:00:00   Class :character  \n",
       " london_grid_409:41816   Median :2017-08-15 15:00:00   Mode  :character  \n",
       " london_grid_430:32418   Mean   :2017-08-15 11:34:58                     \n",
       " london_grid_472:32418   3rd Qu.:2017-12-05 15:00:00                     \n",
       " london_grid_408:21612   Max.   :2018-03-27 12:00:00                     \n",
       " (Other)        :43224                                                   \n",
       "      PM25             PM10             NO2               x        \n",
       " Min.   :-14.00   Min.   :-11.80   Min.   : -8.30   Min.   : 1.00  \n",
       " 1st Qu.:  6.30   1st Qu.: 11.20   1st Qu.: 19.50   1st Qu.: 7.00  \n",
       " Median : 10.00   Median : 16.80   Median : 34.20   Median :13.00  \n",
       " Mean   : 13.13   Mean   : 20.23   Mean   : 39.72   Mean   :12.54  \n",
       " 3rd Qu.: 16.00   3rd Qu.: 25.30   3rd Qu.: 53.80   3rd Qu.:19.00  \n",
       " Max.   :313.00   Max.   :667.10   Max.   :336.10   Max.   :24.00  \n",
       " NA's   :48421    NA's   :93084    NA's   :93165                   \n",
       "    distance      longitude           latitude     temperature   \n",
       " Min.   :1491   Min.   :-0.40000   Min.   :51.4   Min.   :-4.57  \n",
       " 1st Qu.:2214   1st Qu.:-0.20000   1st Qu.:51.5   1st Qu.: 5.64  \n",
       " Median :3144   Median :-0.10000   Median :51.5   Median : 9.77  \n",
       " Mean   :3293   Mean   :-0.05392   Mean   :51.5   Mean   :10.29  \n",
       " 3rd Qu.:4024   3rd Qu.: 0.10000   3rd Qu.:51.5   3rd Qu.:14.88  \n",
       " Max.   :5655   Max.   : 0.20000   Max.   :51.6   Max.   :30.28  \n",
       "                                                                 \n",
       "    pressure         humidity     wind_direction  wind_speed.kph \n",
       " Min.   : 964.4   Min.   :28.47   Min.   :  0.0   Min.   : 0.12  \n",
       " 1st Qu.:1004.7   1st Qu.:68.60   1st Qu.:162.7   1st Qu.:10.12  \n",
       " Median :1012.0   Median :79.17   Median :232.8   Median :14.55  \n",
       " Mean   :1010.6   Mean   :77.56   Mean   :213.2   Mean   :15.54  \n",
       " 3rd Qu.:1018.1   3rd Qu.:88.37   3rd Qu.:274.1   3rd Qu.:20.11  \n",
       " Max.   :1035.8   Max.   :99.40   Max.   :360.0   Max.   :54.41  \n",
       "                                                                 "
      ]
     },
     "metadata": {},
     "output_type": "display_data"
    }
   ],
   "source": [
    "head(ld_aq_gm)\n",
    "str(ld_aq_gm)\n",
    "summary(ld_aq_gm)"
   ]
  },
  {
   "cell_type": "markdown",
   "metadata": {},
   "source": [
    "### 2.5 Select columns and output CSV"
   ]
  },
  {
   "cell_type": "code",
   "execution_count": 31,
   "metadata": {},
   "outputs": [
    {
     "data": {
      "text/html": [
       "<table>\n",
       "<thead><tr><th scope=col>stationName</th><th scope=col>utc_time</th><th scope=col>station_id</th><th scope=col>PM25</th><th scope=col>PM10</th><th scope=col>NO2</th><th scope=col>temperature</th><th scope=col>pressure</th><th scope=col>humidity</th><th scope=col>wind_direction</th><th scope=col>wind_speed.kph</th></tr></thead>\n",
       "<tbody>\n",
       "\t<tr><td>london_grid_346    </td><td>2017-01-01 08:00:00</td><td>LH0                </td><td>18.3               </td><td>21.3               </td><td>41.6               </td><td>6.05               </td><td>1019.42            </td><td>90.04              </td><td>221.29             </td><td>16.38              </td></tr>\n",
       "\t<tr><td>london_grid_346    </td><td>2017-01-01 09:00:00</td><td>LH0                </td><td>16.3               </td><td>19.5               </td><td>44.1               </td><td>6.05               </td><td>1018.21            </td><td>89.16              </td><td>219.73             </td><td>17.05              </td></tr>\n",
       "\t<tr><td>london_grid_346    </td><td>2017-01-01 10:00:00</td><td>LH0                </td><td>13.3               </td><td>16.2               </td><td>49.1               </td><td>6.04               </td><td>1017.00            </td><td>88.28              </td><td>218.29             </td><td>17.73              </td></tr>\n",
       "\t<tr><td>london_grid_346    </td><td>2017-01-01 11:00:00</td><td>LH0                </td><td> 9.4               </td><td>11.6               </td><td>45.2               </td><td>6.04               </td><td>1015.79            </td><td>87.40              </td><td>216.96             </td><td>18.42              </td></tr>\n",
       "\t<tr><td>london_grid_346    </td><td>2017-01-01 12:00:00</td><td>LH0                </td><td> 6.1               </td><td> 8.5               </td><td>41.4               </td><td>6.25               </td><td>1014.82            </td><td>87.85              </td><td>215.76             </td><td>18.82              </td></tr>\n",
       "\t<tr><td>london_grid_346    </td><td>2017-01-01 13:00:00</td><td>LH0                </td><td> 6.7               </td><td>13.4               </td><td>53.6               </td><td>6.46               </td><td>1013.85            </td><td>88.31              </td><td>214.60             </td><td>19.22              </td></tr>\n",
       "</tbody>\n",
       "</table>\n"
      ],
      "text/latex": [
       "\\begin{tabular}{r|lllllllllll}\n",
       " stationName & utc\\_time & station\\_id & PM25 & PM10 & NO2 & temperature & pressure & humidity & wind\\_direction & wind\\_speed.kph\\\\\n",
       "\\hline\n",
       "\t london\\_grid\\_346 & 2017-01-01 08:00:00 & LH0                 & 18.3                & 21.3                & 41.6                & 6.05                & 1019.42             & 90.04               & 221.29              & 16.38              \\\\\n",
       "\t london\\_grid\\_346 & 2017-01-01 09:00:00 & LH0                 & 16.3                & 19.5                & 44.1                & 6.05                & 1018.21             & 89.16               & 219.73              & 17.05              \\\\\n",
       "\t london\\_grid\\_346 & 2017-01-01 10:00:00 & LH0                 & 13.3                & 16.2                & 49.1                & 6.04                & 1017.00             & 88.28               & 218.29              & 17.73              \\\\\n",
       "\t london\\_grid\\_346 & 2017-01-01 11:00:00 & LH0                 &  9.4                & 11.6                & 45.2                & 6.04                & 1015.79             & 87.40               & 216.96              & 18.42              \\\\\n",
       "\t london\\_grid\\_346 & 2017-01-01 12:00:00 & LH0                 &  6.1                &  8.5                & 41.4                & 6.25                & 1014.82             & 87.85               & 215.76              & 18.82              \\\\\n",
       "\t london\\_grid\\_346 & 2017-01-01 13:00:00 & LH0                 &  6.7                & 13.4                & 53.6                & 6.46                & 1013.85             & 88.31               & 214.60              & 19.22              \\\\\n",
       "\\end{tabular}\n"
      ],
      "text/markdown": [
       "\n",
       "stationName | utc_time | station_id | PM25 | PM10 | NO2 | temperature | pressure | humidity | wind_direction | wind_speed.kph | \n",
       "|---|---|---|---|---|---|\n",
       "| london_grid_346     | 2017-01-01 08:00:00 | LH0                 | 18.3                | 21.3                | 41.6                | 6.05                | 1019.42             | 90.04               | 221.29              | 16.38               | \n",
       "| london_grid_346     | 2017-01-01 09:00:00 | LH0                 | 16.3                | 19.5                | 44.1                | 6.05                | 1018.21             | 89.16               | 219.73              | 17.05               | \n",
       "| london_grid_346     | 2017-01-01 10:00:00 | LH0                 | 13.3                | 16.2                | 49.1                | 6.04                | 1017.00             | 88.28               | 218.29              | 17.73               | \n",
       "| london_grid_346     | 2017-01-01 11:00:00 | LH0                 |  9.4                | 11.6                | 45.2                | 6.04                | 1015.79             | 87.40               | 216.96              | 18.42               | \n",
       "| london_grid_346     | 2017-01-01 12:00:00 | LH0                 |  6.1                |  8.5                | 41.4                | 6.25                | 1014.82             | 87.85               | 215.76              | 18.82               | \n",
       "| london_grid_346     | 2017-01-01 13:00:00 | LH0                 |  6.7                | 13.4                | 53.6                | 6.46                | 1013.85             | 88.31               | 214.60              | 19.22               | \n",
       "\n",
       "\n"
      ],
      "text/plain": [
       "  stationName     utc_time            station_id PM25 PM10 NO2  temperature\n",
       "1 london_grid_346 2017-01-01 08:00:00 LH0        18.3 21.3 41.6 6.05       \n",
       "2 london_grid_346 2017-01-01 09:00:00 LH0        16.3 19.5 44.1 6.05       \n",
       "3 london_grid_346 2017-01-01 10:00:00 LH0        13.3 16.2 49.1 6.04       \n",
       "4 london_grid_346 2017-01-01 11:00:00 LH0         9.4 11.6 45.2 6.04       \n",
       "5 london_grid_346 2017-01-01 12:00:00 LH0         6.1  8.5 41.4 6.25       \n",
       "6 london_grid_346 2017-01-01 13:00:00 LH0         6.7 13.4 53.6 6.46       \n",
       "  pressure humidity wind_direction wind_speed.kph\n",
       "1 1019.42  90.04    221.29         16.38         \n",
       "2 1018.21  89.16    219.73         17.05         \n",
       "3 1017.00  88.28    218.29         17.73         \n",
       "4 1015.79  87.40    216.96         18.42         \n",
       "5 1014.82  87.85    215.76         18.82         \n",
       "6 1013.85  88.31    214.60         19.22         "
      ]
     },
     "metadata": {},
     "output_type": "display_data"
    }
   ],
   "source": [
    "# Select columns\n",
    "ld_aq_gm <- ld_aq_gm[,c(\"stationName\",\"utc_time\",\"station_id\",\"PM25\",\"PM10\",\"NO2\",\"temperature\",\"pressure\",\"humidity\",\"wind_direction\",\"wind_speed.kph\")]\n",
    "head(ld_aq_gm)"
   ]
  },
  {
   "cell_type": "markdown",
   "metadata": {},
   "source": [
    "**Rewriting Michelle's files to avoid confusions**"
   ]
  },
  {
   "cell_type": "code",
   "execution_count": 32,
   "metadata": {
    "collapsed": true
   },
   "outputs": [],
   "source": [
    "write.csv(ld_aq_gm, file = \"SL_ld_aq_gm_historical.csv\")"
   ]
  },
  {
   "cell_type": "markdown",
   "metadata": {},
   "source": [
    "## 3 Adding additional features"
   ]
  },
  {
   "cell_type": "markdown",
   "metadata": {},
   "source": [
    "### London "
   ]
  },
  {
   "cell_type": "code",
   "execution_count": 34,
   "metadata": {
    "collapsed": true
   },
   "outputs": [],
   "source": [
    "ld_aq_gm$hour <- hour(ld_aq_gm$utc_time)\n",
    "ld_aq_gm$month <- month(ld_aq_gm$utc_time)\n",
    "ld_aq_gm$date <- date(ld_aq_gm$utc_time)\n",
    "ld_aq_gm$weekend = chron::is.weekend(ld_aq_gm$date)"
   ]
  },
  {
   "cell_type": "code",
   "execution_count": 46,
   "metadata": {},
   "outputs": [
    {
     "name": "stdout",
     "output_type": "stream",
     "text": [
      "'data.frame':\t257936 obs. of  15 variables:\n",
      " $ stationName   : Factor w/ 10 levels \"london_grid_346\",..: 1 1 1 1 1 1 1 1 1 1 ...\n",
      " $ utc_time      : POSIXct, format: \"2017-01-01 08:00:00\" \"2017-01-01 09:00:00\" ...\n",
      " $ station_id    : chr  \"LH0\" \"LH0\" \"LH0\" \"LH0\" ...\n",
      " $ PM25          : num  18.3 16.3 13.3 9.4 6.1 6.7 2.1 0.9 1.1 1 ...\n",
      " $ PM10          : num  21.3 19.5 16.2 11.6 8.5 13.4 4.6 2 2.1 2 ...\n",
      " $ NO2           : num  41.6 44.1 49.1 45.2 41.4 53.6 11.7 12.1 12 13.5 ...\n",
      " $ temperature   : num  6.05 6.05 6.04 6.04 6.25 6.46 6.67 6.91 7.15 7.39 ...\n",
      " $ pressure      : num  1019 1018 1017 1016 1015 ...\n",
      " $ humidity      : num  90 89.2 88.3 87.4 87.8 ...\n",
      " $ wind_direction: num  221 220 218 217 216 ...\n",
      " $ wind_speed.kph: num  16.4 17.1 17.7 18.4 18.8 ...\n",
      " $ hour          : int  8 9 10 11 12 13 14 15 16 17 ...\n",
      " $ month         : num  1 1 1 1 1 1 1 1 1 1 ...\n",
      " $ date          : Date, format: \"2017-01-01\" \"2017-01-01\" ...\n",
      " $ weekend       : logi  TRUE TRUE TRUE TRUE TRUE TRUE ...\n"
     ]
    }
   ],
   "source": [
    "str(ld_aq_gm)"
   ]
  },
  {
   "cell_type": "markdown",
   "metadata": {},
   "source": [
    "**Rewriting Kelsey's file to avoid confusions**"
   ]
  },
  {
   "cell_type": "code",
   "execution_count": 47,
   "metadata": {
    "collapsed": true
   },
   "outputs": [],
   "source": [
    "write.csv(ld_aq_gm, file = \"ld_aq_gm_hist_data.csv\")"
   ]
  },
  {
   "cell_type": "markdown",
   "metadata": {},
   "source": [
    "### Beijing"
   ]
  },
  {
   "cell_type": "code",
   "execution_count": 48,
   "metadata": {
    "collapsed": true
   },
   "outputs": [],
   "source": [
    "bj_aq_gm$hour <- hour(bj_aq_gm$utc_time)\n",
    "bj_aq_gm$month <- month(bj_aq_gm$utc_time)\n",
    "bj_aq_gm$date <- date(bj_aq_gm$utc_time)\n",
    "bj_aq_gm$weekend = chron::is.weekend(bj_aq_gm$date)"
   ]
  },
  {
   "cell_type": "code",
   "execution_count": 49,
   "metadata": {},
   "outputs": [
    {
     "name": "stdout",
     "output_type": "stream",
     "text": [
      "'data.frame':\t356825 obs. of  15 variables:\n",
      " $ stationName   : Factor w/ 26 levels \"beijing_grid_216\",..: 1 1 1 1 1 1 1 1 1 1 ...\n",
      " $ utc_time      : POSIXct, format: \"2017-01-01 14:00:00\" \"2017-01-01 15:00:00\" ...\n",
      " $ stationId     : Factor w/ 35 levels \"aotizhongxin_aq\",..: 14 14 14 14 14 14 14 14 14 14 ...\n",
      " $ PM2.5         : num  376 369 361 354 356 315 287 254 231 224 ...\n",
      " $ PM10          : num  447 407 389 NA 360 NA NA NA NA NA ...\n",
      " $ O3            : num  2 2 2 2 2 2 NA 2 2 2 ...\n",
      " $ temperature   : num  -2.22 -2.37 -2.58 -2.79 -2.99 -3.3 -3.6 -3.9 -4.11 -4.33 ...\n",
      " $ pressure      : num  1015 1015 1015 1015 1015 ...\n",
      " $ humidity      : num  62.9 65.8 65.3 64.9 64.5 ...\n",
      " $ wind_direction: num  284 298 308 319 330 ...\n",
      " $ wind_speed.kph: num  4.28 4.39 4.19 4.14 4.24 4.1 3.99 3.92 2.97 2.25 ...\n",
      " $ hour          : int  14 15 16 17 18 19 20 21 22 23 ...\n",
      " $ month         : num  1 1 1 1 1 1 1 1 1 1 ...\n",
      " $ date          : Date, format: \"2017-01-01\" \"2017-01-01\" ...\n",
      " $ weekend       : logi  TRUE TRUE TRUE TRUE TRUE TRUE ...\n"
     ]
    }
   ],
   "source": [
    "str(bj_aq_gm)"
   ]
  },
  {
   "cell_type": "markdown",
   "metadata": {},
   "source": [
    "**Rewriting Kelsey's file to avoid confusions**"
   ]
  },
  {
   "cell_type": "code",
   "execution_count": 50,
   "metadata": {
    "collapsed": true
   },
   "outputs": [],
   "source": [
    "write.csv(bj_aq_gm, file = \"bj_aq_gm_hist_data.csv\")"
   ]
  }
 ],
 "metadata": {
  "kernelspec": {
   "display_name": "R",
   "language": "R",
   "name": "ir"
  },
  "language_info": {
   "codemirror_mode": "r",
   "file_extension": ".r",
   "mimetype": "text/x-r-source",
   "name": "R",
   "pygments_lexer": "r",
   "version": "3.4.2"
  }
 },
 "nbformat": 4,
 "nbformat_minor": 2
}
