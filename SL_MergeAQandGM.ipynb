{
 "cells": [
  {
   "cell_type": "markdown",
   "metadata": {
    "collapsed": true
   },
   "source": [
    "### Load data\n",
    "Modify column names of the mapping table"
   ]
  },
  {
   "cell_type": "code",
   "execution_count": 2,
   "metadata": {
    "collapsed": true
   },
   "outputs": [],
   "source": [
    "# read data: AQ, map, GM\n",
    "bj_aq <- read.csv('beijing_17_18_aq.csv')\n",
    "bj_closest_stations <- read.csv('beijing_closest_stations.csv')\n",
    "bj_grid_meo <- read.csv('Beijing_historical_meo_grid.csv')"
   ]
  },
  {
   "cell_type": "code",
   "execution_count": 3,
   "metadata": {
    "collapsed": true
   },
   "outputs": [],
   "source": [
    "colnames(bj_closest_stations) <- c('x',\"stationId\",\"stationName\",\"distance\")"
   ]
  },
  {
   "cell_type": "code",
   "execution_count": 4,
   "metadata": {},
   "outputs": [
    {
     "name": "stdout",
     "output_type": "stream",
     "text": [
      "'data.frame':\t311010 obs. of  8 variables:\n",
      " $ stationId: Factor w/ 35 levels \"aotizhongxin_aq\",..: 1 1 1 1 1 1 1 1 1 1 ...\n",
      " $ utc_time : Factor w/ 8701 levels \"2017-01-01 14:00:00\",..: 1 2 3 4 5 6 7 8 9 10 ...\n",
      " $ PM2.5    : num  453 417 395 420 453 429 211 116 51 38 ...\n",
      " $ PM10     : num  467 443 467 484 520 NA NA NA NA NA ...\n",
      " $ NO2      : num  156 143 141 139 157 141 110 87 58 55 ...\n",
      " $ CO       : num  7.2 6.8 6.9 7.4 7.6 6.5 3.3 2.2 1.3 1.1 ...\n",
      " $ O3       : num  3 2 3 3 4 3 NA 4 26 28 ...\n",
      " $ SO2      : num  9 8 8 9 9 9 11 13 14 14 ...\n",
      "'data.frame':\t35 obs. of  4 variables:\n",
      " $ x          : int  1 2 3 4 5 6 7 8 9 10 ...\n",
      " $ stationId  : Factor w/ 35 levels \"aotizhongxin_aq\",..: 7 24 11 27 1 19 26 3 35 10 ...\n",
      " $ stationName: Factor w/ 26 levels \"beijing_grid_216\",..: 16 16 13 16 17 19 14 9 8 13 ...\n",
      " $ distance   : num  3540 1669 4638 4776 2020 ...\n",
      "'data.frame':\t7034706 obs. of  9 variables:\n",
      " $ stationName   : Factor w/ 651 levels \"beijing_grid_000\",..: 1 2 3 4 5 6 7 8 9 10 ...\n",
      " $ longitude     : num  115 115 115 115 115 115 115 115 115 115 ...\n",
      " $ latitude      : num  39 39.1 39.2 39.3 39.4 39.5 39.6 39.7 39.8 39.9 ...\n",
      " $ utc_time      : Factor w/ 10806 levels \"2017-01-01 00:00:00\",..: 1 1 1 1 1 1 1 1 1 1 ...\n",
      " $ temperature   : num  -5.47 -5.53 -5.7 -5.88 -5.34 -4.81 -4.98 -5.49 -6.17 -7.17 ...\n",
      " $ pressure      : num  985 979 963 947 929 ...\n",
      " $ humidity      : num  76.6 75.4 71.8 68.2 58.8 ...\n",
      " $ wind_direction: num  53.71 43.59 0.97 327.65 317.85 ...\n",
      " $ wind_speed.kph: num  3.53 3.11 2.75 3.84 6.14 ...\n"
     ]
    },
    {
     "data": {
      "text/html": [
       "<table>\n",
       "<thead><tr><th scope=col>stationId</th><th scope=col>utc_time</th><th scope=col>PM2.5</th><th scope=col>PM10</th><th scope=col>NO2</th><th scope=col>CO</th><th scope=col>O3</th><th scope=col>SO2</th></tr></thead>\n",
       "<tbody>\n",
       "\t<tr><td>aotizhongxin_aq    </td><td>2017-01-01 14:00:00</td><td>453                </td><td>467                </td><td>156                </td><td>7.2                </td><td>3                  </td><td>9                  </td></tr>\n",
       "\t<tr><td>aotizhongxin_aq    </td><td>2017-01-01 15:00:00</td><td>417                </td><td>443                </td><td>143                </td><td>6.8                </td><td>2                  </td><td>8                  </td></tr>\n",
       "\t<tr><td>aotizhongxin_aq    </td><td>2017-01-01 16:00:00</td><td>395                </td><td>467                </td><td>141                </td><td>6.9                </td><td>3                  </td><td>8                  </td></tr>\n",
       "\t<tr><td>aotizhongxin_aq    </td><td>2017-01-01 17:00:00</td><td>420                </td><td>484                </td><td>139                </td><td>7.4                </td><td>3                  </td><td>9                  </td></tr>\n",
       "\t<tr><td>aotizhongxin_aq    </td><td>2017-01-01 18:00:00</td><td>453                </td><td>520                </td><td>157                </td><td>7.6                </td><td>4                  </td><td>9                  </td></tr>\n",
       "\t<tr><td>aotizhongxin_aq    </td><td>2017-01-01 19:00:00</td><td>429                </td><td> NA                </td><td>141                </td><td>6.5                </td><td>3                  </td><td>9                  </td></tr>\n",
       "</tbody>\n",
       "</table>\n"
      ],
      "text/latex": [
       "\\begin{tabular}{r|llllllll}\n",
       " stationId & utc\\_time & PM2.5 & PM10 & NO2 & CO & O3 & SO2\\\\\n",
       "\\hline\n",
       "\t aotizhongxin\\_aq   & 2017-01-01 14:00:00 & 453                 & 467                 & 156                 & 7.2                 & 3                   & 9                  \\\\\n",
       "\t aotizhongxin\\_aq   & 2017-01-01 15:00:00 & 417                 & 443                 & 143                 & 6.8                 & 2                   & 8                  \\\\\n",
       "\t aotizhongxin\\_aq   & 2017-01-01 16:00:00 & 395                 & 467                 & 141                 & 6.9                 & 3                   & 8                  \\\\\n",
       "\t aotizhongxin\\_aq   & 2017-01-01 17:00:00 & 420                 & 484                 & 139                 & 7.4                 & 3                   & 9                  \\\\\n",
       "\t aotizhongxin\\_aq   & 2017-01-01 18:00:00 & 453                 & 520                 & 157                 & 7.6                 & 4                   & 9                  \\\\\n",
       "\t aotizhongxin\\_aq   & 2017-01-01 19:00:00 & 429                 &  NA                 & 141                 & 6.5                 & 3                   & 9                  \\\\\n",
       "\\end{tabular}\n"
      ],
      "text/markdown": [
       "\n",
       "stationId | utc_time | PM2.5 | PM10 | NO2 | CO | O3 | SO2 | \n",
       "|---|---|---|---|---|---|\n",
       "| aotizhongxin_aq     | 2017-01-01 14:00:00 | 453                 | 467                 | 156                 | 7.2                 | 3                   | 9                   | \n",
       "| aotizhongxin_aq     | 2017-01-01 15:00:00 | 417                 | 443                 | 143                 | 6.8                 | 2                   | 8                   | \n",
       "| aotizhongxin_aq     | 2017-01-01 16:00:00 | 395                 | 467                 | 141                 | 6.9                 | 3                   | 8                   | \n",
       "| aotizhongxin_aq     | 2017-01-01 17:00:00 | 420                 | 484                 | 139                 | 7.4                 | 3                   | 9                   | \n",
       "| aotizhongxin_aq     | 2017-01-01 18:00:00 | 453                 | 520                 | 157                 | 7.6                 | 4                   | 9                   | \n",
       "| aotizhongxin_aq     | 2017-01-01 19:00:00 | 429                 |  NA                 | 141                 | 6.5                 | 3                   | 9                   | \n",
       "\n",
       "\n"
      ],
      "text/plain": [
       "  stationId       utc_time            PM2.5 PM10 NO2 CO  O3 SO2\n",
       "1 aotizhongxin_aq 2017-01-01 14:00:00 453   467  156 7.2 3  9  \n",
       "2 aotizhongxin_aq 2017-01-01 15:00:00 417   443  143 6.8 2  8  \n",
       "3 aotizhongxin_aq 2017-01-01 16:00:00 395   467  141 6.9 3  8  \n",
       "4 aotizhongxin_aq 2017-01-01 17:00:00 420   484  139 7.4 3  9  \n",
       "5 aotizhongxin_aq 2017-01-01 18:00:00 453   520  157 7.6 4  9  \n",
       "6 aotizhongxin_aq 2017-01-01 19:00:00 429    NA  141 6.5 3  9  "
      ]
     },
     "metadata": {},
     "output_type": "display_data"
    },
    {
     "data": {
      "text/html": [
       "<table>\n",
       "<thead><tr><th scope=col>x</th><th scope=col>stationId</th><th scope=col>stationName</th><th scope=col>distance</th></tr></thead>\n",
       "<tbody>\n",
       "\t<tr><td>1               </td><td>dongsi_aq       </td><td>beijing_grid_303</td><td>3539.569        </td></tr>\n",
       "\t<tr><td>2               </td><td>tiantan_aq      </td><td>beijing_grid_303</td><td>1669.215        </td></tr>\n",
       "\t<tr><td>3               </td><td>guanyuan_aq     </td><td>beijing_grid_282</td><td>4637.889        </td></tr>\n",
       "\t<tr><td>4               </td><td>wanshouxigong_aq</td><td>beijing_grid_303</td><td>4775.641        </td></tr>\n",
       "\t<tr><td>5               </td><td>aotizhongxin_aq </td><td>beijing_grid_304</td><td>2020.020        </td></tr>\n",
       "\t<tr><td>6               </td><td>nongzhanguan_aq </td><td>beijing_grid_324</td><td>5296.386        </td></tr>\n",
       "</tbody>\n",
       "</table>\n"
      ],
      "text/latex": [
       "\\begin{tabular}{r|llll}\n",
       " x & stationId & stationName & distance\\\\\n",
       "\\hline\n",
       "\t 1                    & dongsi\\_aq          & beijing\\_grid\\_303 & 3539.569            \\\\\n",
       "\t 2                    & tiantan\\_aq         & beijing\\_grid\\_303 & 1669.215            \\\\\n",
       "\t 3                    & guanyuan\\_aq        & beijing\\_grid\\_282 & 4637.889            \\\\\n",
       "\t 4                    & wanshouxigong\\_aq   & beijing\\_grid\\_303 & 4775.641            \\\\\n",
       "\t 5                    & aotizhongxin\\_aq    & beijing\\_grid\\_304 & 2020.020            \\\\\n",
       "\t 6                    & nongzhanguan\\_aq    & beijing\\_grid\\_324 & 5296.386            \\\\\n",
       "\\end{tabular}\n"
      ],
      "text/markdown": [
       "\n",
       "x | stationId | stationName | distance | \n",
       "|---|---|---|---|---|---|\n",
       "| 1                | dongsi_aq        | beijing_grid_303 | 3539.569         | \n",
       "| 2                | tiantan_aq       | beijing_grid_303 | 1669.215         | \n",
       "| 3                | guanyuan_aq      | beijing_grid_282 | 4637.889         | \n",
       "| 4                | wanshouxigong_aq | beijing_grid_303 | 4775.641         | \n",
       "| 5                | aotizhongxin_aq  | beijing_grid_304 | 2020.020         | \n",
       "| 6                | nongzhanguan_aq  | beijing_grid_324 | 5296.386         | \n",
       "\n",
       "\n"
      ],
      "text/plain": [
       "  x stationId        stationName      distance\n",
       "1 1 dongsi_aq        beijing_grid_303 3539.569\n",
       "2 2 tiantan_aq       beijing_grid_303 1669.215\n",
       "3 3 guanyuan_aq      beijing_grid_282 4637.889\n",
       "4 4 wanshouxigong_aq beijing_grid_303 4775.641\n",
       "5 5 aotizhongxin_aq  beijing_grid_304 2020.020\n",
       "6 6 nongzhanguan_aq  beijing_grid_324 5296.386"
      ]
     },
     "metadata": {},
     "output_type": "display_data"
    },
    {
     "data": {
      "text/html": [
       "<table>\n",
       "<thead><tr><th scope=col>stationName</th><th scope=col>longitude</th><th scope=col>latitude</th><th scope=col>utc_time</th><th scope=col>temperature</th><th scope=col>pressure</th><th scope=col>humidity</th><th scope=col>wind_direction</th><th scope=col>wind_speed.kph</th></tr></thead>\n",
       "<tbody>\n",
       "\t<tr><td>beijing_grid_000   </td><td>115                </td><td>39.0               </td><td>2017-01-01 00:00:00</td><td>-5.47              </td><td>984.73             </td><td>76.60              </td><td> 53.71             </td><td>3.53               </td></tr>\n",
       "\t<tr><td>beijing_grid_001   </td><td>115                </td><td>39.1               </td><td>2017-01-01 00:00:00</td><td>-5.53              </td><td>979.33             </td><td>75.40              </td><td> 43.59             </td><td>3.11               </td></tr>\n",
       "\t<tr><td>beijing_grid_002   </td><td>115                </td><td>39.2               </td><td>2017-01-01 00:00:00</td><td>-5.70              </td><td>963.14             </td><td>71.80              </td><td>  0.97             </td><td>2.75               </td></tr>\n",
       "\t<tr><td>beijing_grid_003   </td><td>115                </td><td>39.3               </td><td>2017-01-01 00:00:00</td><td>-5.88              </td><td>946.94             </td><td>68.20              </td><td>327.65             </td><td>3.84               </td></tr>\n",
       "\t<tr><td>beijing_grid_004   </td><td>115                </td><td>39.4               </td><td>2017-01-01 00:00:00</td><td>-5.34              </td><td>928.80             </td><td>58.81              </td><td>317.85             </td><td>6.14               </td></tr>\n",
       "\t<tr><td>beijing_grid_005   </td><td>115                </td><td>39.5               </td><td>2017-01-01 00:00:00</td><td>-4.81              </td><td>910.66             </td><td>49.43              </td><td>313.46             </td><td>8.52               </td></tr>\n",
       "</tbody>\n",
       "</table>\n"
      ],
      "text/latex": [
       "\\begin{tabular}{r|lllllllll}\n",
       " stationName & longitude & latitude & utc\\_time & temperature & pressure & humidity & wind\\_direction & wind\\_speed.kph\\\\\n",
       "\\hline\n",
       "\t beijing\\_grid\\_000 & 115                  & 39.0                 & 2017-01-01 00:00:00  & -5.47                & 984.73               & 76.60                &  53.71               & 3.53                \\\\\n",
       "\t beijing\\_grid\\_001 & 115                  & 39.1                 & 2017-01-01 00:00:00  & -5.53                & 979.33               & 75.40                &  43.59               & 3.11                \\\\\n",
       "\t beijing\\_grid\\_002 & 115                  & 39.2                 & 2017-01-01 00:00:00  & -5.70                & 963.14               & 71.80                &   0.97               & 2.75                \\\\\n",
       "\t beijing\\_grid\\_003 & 115                  & 39.3                 & 2017-01-01 00:00:00  & -5.88                & 946.94               & 68.20                & 327.65               & 3.84                \\\\\n",
       "\t beijing\\_grid\\_004 & 115                  & 39.4                 & 2017-01-01 00:00:00  & -5.34                & 928.80               & 58.81                & 317.85               & 6.14                \\\\\n",
       "\t beijing\\_grid\\_005 & 115                  & 39.5                 & 2017-01-01 00:00:00  & -4.81                & 910.66               & 49.43                & 313.46               & 8.52                \\\\\n",
       "\\end{tabular}\n"
      ],
      "text/markdown": [
       "\n",
       "stationName | longitude | latitude | utc_time | temperature | pressure | humidity | wind_direction | wind_speed.kph | \n",
       "|---|---|---|---|---|---|\n",
       "| beijing_grid_000    | 115                 | 39.0                | 2017-01-01 00:00:00 | -5.47               | 984.73              | 76.60               |  53.71              | 3.53                | \n",
       "| beijing_grid_001    | 115                 | 39.1                | 2017-01-01 00:00:00 | -5.53               | 979.33              | 75.40               |  43.59              | 3.11                | \n",
       "| beijing_grid_002    | 115                 | 39.2                | 2017-01-01 00:00:00 | -5.70               | 963.14              | 71.80               |   0.97              | 2.75                | \n",
       "| beijing_grid_003    | 115                 | 39.3                | 2017-01-01 00:00:00 | -5.88               | 946.94              | 68.20               | 327.65              | 3.84                | \n",
       "| beijing_grid_004    | 115                 | 39.4                | 2017-01-01 00:00:00 | -5.34               | 928.80              | 58.81               | 317.85              | 6.14                | \n",
       "| beijing_grid_005    | 115                 | 39.5                | 2017-01-01 00:00:00 | -4.81               | 910.66              | 49.43               | 313.46              | 8.52                | \n",
       "\n",
       "\n"
      ],
      "text/plain": [
       "  stationName      longitude latitude utc_time            temperature pressure\n",
       "1 beijing_grid_000 115       39.0     2017-01-01 00:00:00 -5.47       984.73  \n",
       "2 beijing_grid_001 115       39.1     2017-01-01 00:00:00 -5.53       979.33  \n",
       "3 beijing_grid_002 115       39.2     2017-01-01 00:00:00 -5.70       963.14  \n",
       "4 beijing_grid_003 115       39.3     2017-01-01 00:00:00 -5.88       946.94  \n",
       "5 beijing_grid_004 115       39.4     2017-01-01 00:00:00 -5.34       928.80  \n",
       "6 beijing_grid_005 115       39.5     2017-01-01 00:00:00 -4.81       910.66  \n",
       "  humidity wind_direction wind_speed.kph\n",
       "1 76.60     53.71         3.53          \n",
       "2 75.40     43.59         3.11          \n",
       "3 71.80      0.97         2.75          \n",
       "4 68.20    327.65         3.84          \n",
       "5 58.81    317.85         6.14          \n",
       "6 49.43    313.46         8.52          "
      ]
     },
     "metadata": {},
     "output_type": "display_data"
    }
   ],
   "source": [
    "# browse data\n",
    "str(bj_aq)\n",
    "str(bj_closest_stations)\n",
    "str(bj_grid_meo)\n",
    "\n",
    "head(bj_aq)\n",
    "head(bj_closest_stations)\n",
    "head(bj_grid_meo)"
   ]
  },
  {
   "cell_type": "markdown",
   "metadata": {},
   "source": [
    "### Merge AQ and Mapping table"
   ]
  },
  {
   "cell_type": "code",
   "execution_count": 5,
   "metadata": {
    "collapsed": true
   },
   "outputs": [],
   "source": [
    "# STEP 1: Merge AQ and map\n",
    "bj_aq_map <- merge(bj_aq,bj_closest_stations, by = \"stationId\")"
   ]
  },
  {
   "cell_type": "markdown",
   "metadata": {},
   "source": [
    "### Merge with GM"
   ]
  },
  {
   "cell_type": "code",
   "execution_count": 6,
   "metadata": {
    "collapsed": true
   },
   "outputs": [],
   "source": [
    "# STEP 2: Merge Step1 and GM\n",
    "bj_aq_gm <- merge(bj_aq_map, bj_grid_meo, by = c(\"stationName\",\"utc_time\"))"
   ]
  },
  {
   "cell_type": "code",
   "execution_count": 7,
   "metadata": {},
   "outputs": [
    {
     "name": "stdout",
     "output_type": "stream",
     "text": [
      "'data.frame':\t311010 obs. of  18 variables:\n",
      " $ stationName   : Factor w/ 26 levels \"beijing_grid_216\",..: 1 1 1 1 1 1 1 1 1 1 ...\n",
      " $ utc_time      : Factor w/ 8701 levels \"2017-01-01 14:00:00\",..: 1 2 3 4 5 6 7 8 9 10 ...\n",
      " $ stationId     : Factor w/ 35 levels \"aotizhongxin_aq\",..: 14 14 14 14 14 14 14 14 14 14 ...\n",
      " $ PM2.5         : num  376 369 361 354 356 315 287 254 231 224 ...\n",
      " $ PM10          : num  447 407 389 NA 360 NA NA NA NA NA ...\n",
      " $ NO2           : num  116 133 134 137 137 135 133 123 119 118 ...\n",
      " $ CO            : num  5.5 5.6 5.7 5.9 6.2 6.2 5.9 5.6 5.5 5.5 ...\n",
      " $ O3            : num  2 2 2 2 2 2 NA 2 2 2 ...\n",
      " $ SO2           : num  16 17 18 17 16 14 14 13 12 11 ...\n",
      " $ x             : int  30 30 30 30 30 30 30 30 30 30 ...\n",
      " $ distance      : num  2226 2226 2226 2226 2226 ...\n",
      " $ longitude     : num  116 116 116 116 116 116 116 116 116 116 ...\n",
      " $ latitude      : num  39.6 39.6 39.6 39.6 39.6 39.6 39.6 39.6 39.6 39.6 ...\n",
      " $ temperature   : num  -2.22 -2.37 -2.58 -2.79 -2.99 -3.3 -3.6 -3.9 -4.11 -4.33 ...\n",
      " $ pressure      : num  1015 1015 1015 1015 1015 ...\n",
      " $ humidity      : num  62.9 65.8 65.3 64.9 64.5 ...\n",
      " $ wind_direction: num  284 298 308 319 330 ...\n",
      " $ wind_speed.kph: num  4.28 4.39 4.19 4.14 4.24 4.1 3.99 3.92 2.97 2.25 ...\n"
     ]
    },
    {
     "data": {
      "text/html": [
       "<table>\n",
       "<thead><tr><th scope=col>stationName</th><th scope=col>utc_time</th><th scope=col>stationId</th><th scope=col>PM2.5</th><th scope=col>PM10</th><th scope=col>NO2</th><th scope=col>CO</th><th scope=col>O3</th><th scope=col>SO2</th><th scope=col>x</th><th scope=col>distance</th><th scope=col>longitude</th><th scope=col>latitude</th><th scope=col>temperature</th><th scope=col>pressure</th><th scope=col>humidity</th><th scope=col>wind_direction</th><th scope=col>wind_speed.kph</th></tr></thead>\n",
       "<tbody>\n",
       "\t<tr><td>beijing_grid_216   </td><td>2017-01-01 14:00:00</td><td>liulihe_aq         </td><td>376                </td><td>447                </td><td>116                </td><td>5.5                </td><td>2                  </td><td>16                 </td><td>30                 </td><td>2226.39            </td><td>116                </td><td>39.6               </td><td>-2.22              </td><td>1014.70            </td><td>62.93              </td><td>284.29             </td><td>4.28               </td></tr>\n",
       "\t<tr><td>beijing_grid_216   </td><td>2017-01-01 15:00:00</td><td>liulihe_aq         </td><td>369                </td><td>407                </td><td>133                </td><td>5.6                </td><td>2                  </td><td>17                 </td><td>30                 </td><td>2226.39            </td><td>116                </td><td>39.6               </td><td>-2.37              </td><td>1014.86            </td><td>65.78              </td><td>297.82             </td><td>4.39               </td></tr>\n",
       "\t<tr><td>beijing_grid_216   </td><td>2017-01-01 16:00:00</td><td>liulihe_aq         </td><td>361                </td><td>389                </td><td>134                </td><td>5.7                </td><td>2                  </td><td>18                 </td><td>30                 </td><td>2226.39            </td><td>116                </td><td>39.6               </td><td>-2.58              </td><td>1014.99            </td><td>65.35              </td><td>308.15             </td><td>4.19               </td></tr>\n",
       "\t<tr><td>beijing_grid_216   </td><td>2017-01-01 17:00:00</td><td>liulihe_aq         </td><td>354                </td><td> NA                </td><td>137                </td><td>5.9                </td><td>2                  </td><td>17                 </td><td>30                 </td><td>2226.39            </td><td>116                </td><td>39.6               </td><td>-2.79              </td><td>1015.13            </td><td>64.93              </td><td>319.12             </td><td>4.14               </td></tr>\n",
       "\t<tr><td>beijing_grid_216   </td><td>2017-01-01 18:00:00</td><td>liulihe_aq         </td><td>356                </td><td>360                </td><td>137                </td><td>6.2                </td><td>2                  </td><td>16                 </td><td>30                 </td><td>2226.39            </td><td>116                </td><td>39.6               </td><td>-2.99              </td><td>1015.26            </td><td>64.50              </td><td>329.98             </td><td>4.24               </td></tr>\n",
       "\t<tr><td>beijing_grid_216   </td><td>2017-01-01 19:00:00</td><td>liulihe_aq         </td><td>315                </td><td> NA                </td><td>135                </td><td>6.2                </td><td>2                  </td><td>14                 </td><td>30                 </td><td>2226.39            </td><td>116                </td><td>39.6               </td><td>-3.30              </td><td>1015.53            </td><td>64.80              </td><td>324.88             </td><td>4.10               </td></tr>\n",
       "</tbody>\n",
       "</table>\n"
      ],
      "text/latex": [
       "\\begin{tabular}{r|llllllllllllllllll}\n",
       " stationName & utc\\_time & stationId & PM2.5 & PM10 & NO2 & CO & O3 & SO2 & x & distance & longitude & latitude & temperature & pressure & humidity & wind\\_direction & wind\\_speed.kph\\\\\n",
       "\\hline\n",
       "\t beijing\\_grid\\_216 & 2017-01-01 14:00:00  & liulihe\\_aq         & 376                  & 447                  & 116                  & 5.5                  & 2                    & 16                   & 30                   & 2226.39              & 116                  & 39.6                 & -2.22                & 1014.70              & 62.93                & 284.29               & 4.28                \\\\\n",
       "\t beijing\\_grid\\_216 & 2017-01-01 15:00:00  & liulihe\\_aq         & 369                  & 407                  & 133                  & 5.6                  & 2                    & 17                   & 30                   & 2226.39              & 116                  & 39.6                 & -2.37                & 1014.86              & 65.78                & 297.82               & 4.39                \\\\\n",
       "\t beijing\\_grid\\_216 & 2017-01-01 16:00:00  & liulihe\\_aq         & 361                  & 389                  & 134                  & 5.7                  & 2                    & 18                   & 30                   & 2226.39              & 116                  & 39.6                 & -2.58                & 1014.99              & 65.35                & 308.15               & 4.19                \\\\\n",
       "\t beijing\\_grid\\_216 & 2017-01-01 17:00:00  & liulihe\\_aq         & 354                  &  NA                  & 137                  & 5.9                  & 2                    & 17                   & 30                   & 2226.39              & 116                  & 39.6                 & -2.79                & 1015.13              & 64.93                & 319.12               & 4.14                \\\\\n",
       "\t beijing\\_grid\\_216 & 2017-01-01 18:00:00  & liulihe\\_aq         & 356                  & 360                  & 137                  & 6.2                  & 2                    & 16                   & 30                   & 2226.39              & 116                  & 39.6                 & -2.99                & 1015.26              & 64.50                & 329.98               & 4.24                \\\\\n",
       "\t beijing\\_grid\\_216 & 2017-01-01 19:00:00  & liulihe\\_aq         & 315                  &  NA                  & 135                  & 6.2                  & 2                    & 14                   & 30                   & 2226.39              & 116                  & 39.6                 & -3.30                & 1015.53              & 64.80                & 324.88               & 4.10                \\\\\n",
       "\\end{tabular}\n"
      ],
      "text/markdown": [
       "\n",
       "stationName | utc_time | stationId | PM2.5 | PM10 | NO2 | CO | O3 | SO2 | x | distance | longitude | latitude | temperature | pressure | humidity | wind_direction | wind_speed.kph | \n",
       "|---|---|---|---|---|---|\n",
       "| beijing_grid_216    | 2017-01-01 14:00:00 | liulihe_aq          | 376                 | 447                 | 116                 | 5.5                 | 2                   | 16                  | 30                  | 2226.39             | 116                 | 39.6                | -2.22               | 1014.70             | 62.93               | 284.29              | 4.28                | \n",
       "| beijing_grid_216    | 2017-01-01 15:00:00 | liulihe_aq          | 369                 | 407                 | 133                 | 5.6                 | 2                   | 17                  | 30                  | 2226.39             | 116                 | 39.6                | -2.37               | 1014.86             | 65.78               | 297.82              | 4.39                | \n",
       "| beijing_grid_216    | 2017-01-01 16:00:00 | liulihe_aq          | 361                 | 389                 | 134                 | 5.7                 | 2                   | 18                  | 30                  | 2226.39             | 116                 | 39.6                | -2.58               | 1014.99             | 65.35               | 308.15              | 4.19                | \n",
       "| beijing_grid_216    | 2017-01-01 17:00:00 | liulihe_aq          | 354                 |  NA                 | 137                 | 5.9                 | 2                   | 17                  | 30                  | 2226.39             | 116                 | 39.6                | -2.79               | 1015.13             | 64.93               | 319.12              | 4.14                | \n",
       "| beijing_grid_216    | 2017-01-01 18:00:00 | liulihe_aq          | 356                 | 360                 | 137                 | 6.2                 | 2                   | 16                  | 30                  | 2226.39             | 116                 | 39.6                | -2.99               | 1015.26             | 64.50               | 329.98              | 4.24                | \n",
       "| beijing_grid_216    | 2017-01-01 19:00:00 | liulihe_aq          | 315                 |  NA                 | 135                 | 6.2                 | 2                   | 14                  | 30                  | 2226.39             | 116                 | 39.6                | -3.30               | 1015.53             | 64.80               | 324.88              | 4.10                | \n",
       "\n",
       "\n"
      ],
      "text/plain": [
       "  stationName      utc_time            stationId  PM2.5 PM10 NO2 CO  O3 SO2 x \n",
       "1 beijing_grid_216 2017-01-01 14:00:00 liulihe_aq 376   447  116 5.5 2  16  30\n",
       "2 beijing_grid_216 2017-01-01 15:00:00 liulihe_aq 369   407  133 5.6 2  17  30\n",
       "3 beijing_grid_216 2017-01-01 16:00:00 liulihe_aq 361   389  134 5.7 2  18  30\n",
       "4 beijing_grid_216 2017-01-01 17:00:00 liulihe_aq 354    NA  137 5.9 2  17  30\n",
       "5 beijing_grid_216 2017-01-01 18:00:00 liulihe_aq 356   360  137 6.2 2  16  30\n",
       "6 beijing_grid_216 2017-01-01 19:00:00 liulihe_aq 315    NA  135 6.2 2  14  30\n",
       "  distance longitude latitude temperature pressure humidity wind_direction\n",
       "1 2226.39  116       39.6     -2.22       1014.70  62.93    284.29        \n",
       "2 2226.39  116       39.6     -2.37       1014.86  65.78    297.82        \n",
       "3 2226.39  116       39.6     -2.58       1014.99  65.35    308.15        \n",
       "4 2226.39  116       39.6     -2.79       1015.13  64.93    319.12        \n",
       "5 2226.39  116       39.6     -2.99       1015.26  64.50    329.98        \n",
       "6 2226.39  116       39.6     -3.30       1015.53  64.80    324.88        \n",
       "  wind_speed.kph\n",
       "1 4.28          \n",
       "2 4.39          \n",
       "3 4.19          \n",
       "4 4.14          \n",
       "5 4.24          \n",
       "6 4.10          "
      ]
     },
     "metadata": {},
     "output_type": "display_data"
    }
   ],
   "source": [
    "str(bj_aq_gm)\n",
    "head(bj_aq_gm)"
   ]
  },
  {
   "cell_type": "markdown",
   "metadata": {},
   "source": [
    "### Select columns and output CSV"
   ]
  },
  {
   "cell_type": "code",
   "execution_count": 8,
   "metadata": {},
   "outputs": [
    {
     "data": {
      "text/html": [
       "<table>\n",
       "<thead><tr><th scope=col>stationName</th><th scope=col>utc_time</th><th scope=col>stationId</th><th scope=col>PM2.5</th><th scope=col>PM10</th><th scope=col>O3</th><th scope=col>temperature</th><th scope=col>pressure</th><th scope=col>humidity</th><th scope=col>wind_direction</th><th scope=col>wind_speed.kph</th></tr></thead>\n",
       "<tbody>\n",
       "\t<tr><td>beijing_grid_216   </td><td>2017-01-01 14:00:00</td><td>liulihe_aq         </td><td>376                </td><td>447                </td><td>2                  </td><td>-2.22              </td><td>1014.70            </td><td>62.93              </td><td>284.29             </td><td>4.28               </td></tr>\n",
       "\t<tr><td>beijing_grid_216   </td><td>2017-01-01 15:00:00</td><td>liulihe_aq         </td><td>369                </td><td>407                </td><td>2                  </td><td>-2.37              </td><td>1014.86            </td><td>65.78              </td><td>297.82             </td><td>4.39               </td></tr>\n",
       "\t<tr><td>beijing_grid_216   </td><td>2017-01-01 16:00:00</td><td>liulihe_aq         </td><td>361                </td><td>389                </td><td>2                  </td><td>-2.58              </td><td>1014.99            </td><td>65.35              </td><td>308.15             </td><td>4.19               </td></tr>\n",
       "\t<tr><td>beijing_grid_216   </td><td>2017-01-01 17:00:00</td><td>liulihe_aq         </td><td>354                </td><td> NA                </td><td>2                  </td><td>-2.79              </td><td>1015.13            </td><td>64.93              </td><td>319.12             </td><td>4.14               </td></tr>\n",
       "\t<tr><td>beijing_grid_216   </td><td>2017-01-01 18:00:00</td><td>liulihe_aq         </td><td>356                </td><td>360                </td><td>2                  </td><td>-2.99              </td><td>1015.26            </td><td>64.50              </td><td>329.98             </td><td>4.24               </td></tr>\n",
       "\t<tr><td>beijing_grid_216   </td><td>2017-01-01 19:00:00</td><td>liulihe_aq         </td><td>315                </td><td> NA                </td><td>2                  </td><td>-3.30              </td><td>1015.53            </td><td>64.80              </td><td>324.88             </td><td>4.10               </td></tr>\n",
       "</tbody>\n",
       "</table>\n"
      ],
      "text/latex": [
       "\\begin{tabular}{r|lllllllllll}\n",
       " stationName & utc\\_time & stationId & PM2.5 & PM10 & O3 & temperature & pressure & humidity & wind\\_direction & wind\\_speed.kph\\\\\n",
       "\\hline\n",
       "\t beijing\\_grid\\_216 & 2017-01-01 14:00:00  & liulihe\\_aq         & 376                  & 447                  & 2                    & -2.22                & 1014.70              & 62.93                & 284.29               & 4.28                \\\\\n",
       "\t beijing\\_grid\\_216 & 2017-01-01 15:00:00  & liulihe\\_aq         & 369                  & 407                  & 2                    & -2.37                & 1014.86              & 65.78                & 297.82               & 4.39                \\\\\n",
       "\t beijing\\_grid\\_216 & 2017-01-01 16:00:00  & liulihe\\_aq         & 361                  & 389                  & 2                    & -2.58                & 1014.99              & 65.35                & 308.15               & 4.19                \\\\\n",
       "\t beijing\\_grid\\_216 & 2017-01-01 17:00:00  & liulihe\\_aq         & 354                  &  NA                  & 2                    & -2.79                & 1015.13              & 64.93                & 319.12               & 4.14                \\\\\n",
       "\t beijing\\_grid\\_216 & 2017-01-01 18:00:00  & liulihe\\_aq         & 356                  & 360                  & 2                    & -2.99                & 1015.26              & 64.50                & 329.98               & 4.24                \\\\\n",
       "\t beijing\\_grid\\_216 & 2017-01-01 19:00:00  & liulihe\\_aq         & 315                  &  NA                  & 2                    & -3.30                & 1015.53              & 64.80                & 324.88               & 4.10                \\\\\n",
       "\\end{tabular}\n"
      ],
      "text/markdown": [
       "\n",
       "stationName | utc_time | stationId | PM2.5 | PM10 | O3 | temperature | pressure | humidity | wind_direction | wind_speed.kph | \n",
       "|---|---|---|---|---|---|\n",
       "| beijing_grid_216    | 2017-01-01 14:00:00 | liulihe_aq          | 376                 | 447                 | 2                   | -2.22               | 1014.70             | 62.93               | 284.29              | 4.28                | \n",
       "| beijing_grid_216    | 2017-01-01 15:00:00 | liulihe_aq          | 369                 | 407                 | 2                   | -2.37               | 1014.86             | 65.78               | 297.82              | 4.39                | \n",
       "| beijing_grid_216    | 2017-01-01 16:00:00 | liulihe_aq          | 361                 | 389                 | 2                   | -2.58               | 1014.99             | 65.35               | 308.15              | 4.19                | \n",
       "| beijing_grid_216    | 2017-01-01 17:00:00 | liulihe_aq          | 354                 |  NA                 | 2                   | -2.79               | 1015.13             | 64.93               | 319.12              | 4.14                | \n",
       "| beijing_grid_216    | 2017-01-01 18:00:00 | liulihe_aq          | 356                 | 360                 | 2                   | -2.99               | 1015.26             | 64.50               | 329.98              | 4.24                | \n",
       "| beijing_grid_216    | 2017-01-01 19:00:00 | liulihe_aq          | 315                 |  NA                 | 2                   | -3.30               | 1015.53             | 64.80               | 324.88              | 4.10                | \n",
       "\n",
       "\n"
      ],
      "text/plain": [
       "  stationName      utc_time            stationId  PM2.5 PM10 O3 temperature\n",
       "1 beijing_grid_216 2017-01-01 14:00:00 liulihe_aq 376   447  2  -2.22      \n",
       "2 beijing_grid_216 2017-01-01 15:00:00 liulihe_aq 369   407  2  -2.37      \n",
       "3 beijing_grid_216 2017-01-01 16:00:00 liulihe_aq 361   389  2  -2.58      \n",
       "4 beijing_grid_216 2017-01-01 17:00:00 liulihe_aq 354    NA  2  -2.79      \n",
       "5 beijing_grid_216 2017-01-01 18:00:00 liulihe_aq 356   360  2  -2.99      \n",
       "6 beijing_grid_216 2017-01-01 19:00:00 liulihe_aq 315    NA  2  -3.30      \n",
       "  pressure humidity wind_direction wind_speed.kph\n",
       "1 1014.70  62.93    284.29         4.28          \n",
       "2 1014.86  65.78    297.82         4.39          \n",
       "3 1014.99  65.35    308.15         4.19          \n",
       "4 1015.13  64.93    319.12         4.14          \n",
       "5 1015.26  64.50    329.98         4.24          \n",
       "6 1015.53  64.80    324.88         4.10          "
      ]
     },
     "metadata": {},
     "output_type": "display_data"
    }
   ],
   "source": [
    "# Select columns\n",
    "bj_aq_gm <- bj_aq_gm[,c(\"stationName\",\"utc_time\",\"stationId\",\"PM2.5\",\"PM10\",\"O3\",\"temperature\",\"pressure\",\"humidity\",\"wind_direction\",\"wind_speed.kph\")]\n",
    "head(bj_aq_gm)"
   ]
  },
  {
   "cell_type": "code",
   "execution_count": 9,
   "metadata": {
    "collapsed": true
   },
   "outputs": [],
   "source": [
    "write.csv(bj_aq_gm, file = \"bj_aq_gm_historical.csv\")"
   ]
  }
 ],
 "metadata": {
  "kernelspec": {
   "display_name": "R",
   "language": "R",
   "name": "ir"
  },
  "language_info": {
   "codemirror_mode": "r",
   "file_extension": ".r",
   "mimetype": "text/x-r-source",
   "name": "R",
   "pygments_lexer": "r",
   "version": "3.4.2"
  }
 },
 "nbformat": 4,
 "nbformat_minor": 2
}
