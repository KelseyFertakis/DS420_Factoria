{
 "cells": [
  {
   "cell_type": "markdown",
   "metadata": {},
   "source": [
    "### Import and transformations of API data"
   ]
  },
  {
   "cell_type": "code",
   "execution_count": 1,
   "metadata": {},
   "outputs": [
    {
     "data": {
      "text/html": [
       "<strong>null device:</strong> 1"
      ],
      "text/latex": [
       "\\textbf{null device:} 1"
      ],
      "text/markdown": [
       "**null device:** 1"
      ],
      "text/plain": [
       "null device \n",
       "          1 "
      ]
     },
     "metadata": {},
     "output_type": "display_data"
    },
    {
     "name": "stdout",
     "output_type": "stream",
     "text": [
      "\f"
     ]
    }
   ],
   "source": [
    "if(!is.null(dev.list())) dev.off() # Clear Plots\n",
    "rm(list=ls()) # Clear objects from Memory\n",
    "cat(\"\\014\") # Clear Console\n",
    "# writeClipboard(as.character(x)) # copy data frame to clipboard"
   ]
  },
  {
   "cell_type": "code",
   "execution_count": 2,
   "metadata": {},
   "outputs": [
    {
     "name": "stderr",
     "output_type": "stream",
     "text": [
      "Warning message:\n",
      "\"package 'RCurl' was built under R version 3.4.4\"Loading required package: bitops\n",
      "Loading required package: gsubfn\n",
      "Loading required package: proto\n",
      "Could not load tcltk.  Will use slower R code instead.\n",
      "Loading required package: RSQLite\n",
      "Warning message:\n",
      "\"package 'digest' was built under R version 3.4.3\"Warning message:\n",
      "\"package 'dplyr' was built under R version 3.4.3\"\n",
      "Attaching package: 'dplyr'\n",
      "\n",
      "The following objects are masked from 'package:stats':\n",
      "\n",
      "    filter, lag\n",
      "\n",
      "The following objects are masked from 'package:base':\n",
      "\n",
      "    intersect, setdiff, setequal, union\n",
      "\n",
      "Warning message:\n",
      "\"package 'anytime' was built under R version 3.4.4\"Warning message:\n",
      "\"package 'geosphere' was built under R version 3.4.4\"Warning message:\n",
      "\"package 'lubridate' was built under R version 3.4.3\"\n",
      "Attaching package: 'lubridate'\n",
      "\n",
      "The following object is masked from 'package:base':\n",
      "\n",
      "    date\n",
      "\n",
      "Warning message:\n",
      "\"package 'chron' was built under R version 3.4.3\"\n",
      "Attaching package: 'chron'\n",
      "\n",
      "The following objects are masked from 'package:lubridate':\n",
      "\n",
      "    days, hours, minutes, seconds, years\n",
      "\n",
      "Loading required package: caret\n",
      "Warning message:\n",
      "\"package 'caret' was built under R version 3.4.4\"Loading required package: lattice\n",
      "Warning message:\n",
      "\"package 'lattice' was built under R version 3.4.3\"Loading required package: ggplot2\n",
      "Warning message:\n",
      "\"package 'ggplot2' was built under R version 3.4.3\"Loading required package: rattle\n",
      "Warning message:\n",
      "\"package 'rattle' was built under R version 3.4.4\"Rattle: A free graphical interface for data science with R.\n",
      "Version 5.1.0 Copyright (c) 2006-2017 Togaware Pty Ltd.\n",
      "Type 'rattle()' to shake, rattle, and roll your data.\n",
      "Loading required package: yardstick\n",
      "Warning message:\n",
      "\"package 'yardstick' was built under R version 3.4.4\"Loading required package: broom\n",
      "Warning message:\n",
      "\"package 'broom' was built under R version 3.4.4\"\n",
      "Attaching package: 'yardstick'\n",
      "\n",
      "The following objects are masked from 'package:caret':\n",
      "\n",
      "    mnLogLoss, precision, recall\n",
      "\n"
     ]
    }
   ],
   "source": [
    "library(RCurl)\n",
    "library(sqldf)\n",
    "library(digest)\n",
    "library(dplyr)\n",
    "library(anytime)\n",
    "library(geosphere)\n",
    "library(lubridate)\n",
    "library(chron)\n",
    "require(caret)\n",
    "require(rattle)\n",
    "require(yardstick)"
   ]
  },
  {
   "cell_type": "code",
   "execution_count": 3,
   "metadata": {
    "collapsed": true
   },
   "outputs": [],
   "source": [
    "# set working directory\n",
    "setwd(\"C:/Users/vanethi/Documents/GitHub/DS420_Factoria\")"
   ]
  },
  {
   "cell_type": "code",
   "execution_count": 4,
   "metadata": {
    "collapsed": true
   },
   "outputs": [],
   "source": [
    "# set start and end date\n",
    "startDate <- '2017-12-31-0'\n",
    "endDate <- '2018-06-01-0'"
   ]
  },
  {
   "cell_type": "code",
   "execution_count": 5,
   "metadata": {
    "collapsed": true
   },
   "outputs": [],
   "source": [
    "# pull data for London\n",
    "\n",
    "# acquire air quality data\n",
    "ld_aq_url <- paste0(\"https://biendata.com/competition/airquality/ld/\",startDate,\"/\",endDate,\"/2k0d1d8\")\n",
    "ld_aq_file <- getURL(ld_aq_url, ssl.verifyhost=FALSE, ssl.verifypeer=FALSE)\n",
    "ld_aq_data <- read.csv(textConnection(ld_aq_file), header=TRUE)\n",
    "  \n",
    "# acquire API grid meteorology data\n",
    "ld_gm_url <- paste0(\"https://biendata.com/competition/meteorology/ld_grid/\",startDate,\"/\",endDate,\"/2k0d1d8\")\n",
    "ld_gm_file <- getURL(ld_gm_url, ssl.verifyhost=FALSE, ssl.verifypeer=FALSE)\n",
    "ld_gm_data <- read.csv(textConnection(ld_gm_file), header=TRUE)"
   ]
  },
  {
   "cell_type": "code",
   "execution_count": 6,
   "metadata": {},
   "outputs": [
    {
     "data": {
      "text/html": [
       "<ol class=list-inline>\n",
       "\t<li>'ld_gm_data'</li>\n",
       "\t<li>'ld_aq_data'</li>\n",
       "</ol>\n"
      ],
      "text/latex": [
       "\\begin{enumerate*}\n",
       "\\item 'ld\\_gm\\_data'\n",
       "\\item 'ld\\_aq\\_data'\n",
       "\\end{enumerate*}\n"
      ],
      "text/markdown": [
       "1. 'ld_gm_data'\n",
       "2. 'ld_aq_data'\n",
       "\n",
       "\n"
      ],
      "text/plain": [
       "[1] \"ld_gm_data\" \"ld_aq_data\""
      ]
     },
     "metadata": {},
     "output_type": "display_data"
    }
   ],
   "source": [
    "# list of available data frames\n",
    "df.list <- names(which(unlist(eapply(.GlobalEnv,is.data.frame))))\n",
    "df.list"
   ]
  },
  {
   "cell_type": "code",
   "execution_count": 7,
   "metadata": {
    "collapsed": true
   },
   "outputs": [],
   "source": [
    "# Converting character to datetime\n",
    "ld_gm_data$time <- anytime(ld_gm_data$time)\n",
    "ld_aq_data$time <- anytime(ld_aq_data$time)"
   ]
  },
  {
   "cell_type": "code",
   "execution_count": 8,
   "metadata": {},
   "outputs": [
    {
     "name": "stdout",
     "output_type": "stream",
     "text": [
      "[1] \"ld_gm_data\"\n",
      "'data.frame':\t1186361 obs. of  9 variables:\n",
      " $ id            : int  2000096 2000097 2000098 2000099 2000100 2000101 2000102 2000103 2000104 2000105 ...\n",
      " $ station_id    : Factor w/ 861 levels \"london_grid_000\",..: 1 2 3 4 5 6 7 8 9 10 ...\n",
      " $ time          : POSIXct, format: \"2018-03-31 07:00:00\" \"2018-03-31 07:00:00\" ...\n",
      " $ weather       : Factor w/ 8 levels \"CLEAR_DAY\",\"CLEAR_NIGHT\",..: 3 3 3 6 6 6 6 6 6 6 ...\n",
      " $ temperature   : num  6.14 5.43 4.73 4.25 3.99 3.72 3.75 3.78 3.86 3.98 ...\n",
      " $ pressure      : num  995 994 993 990 986 ...\n",
      " $ humidity      : num  85 88 91 93 95 97 96 96 96 96 ...\n",
      " $ wind_direction: num  304 303 302 303 306 ...\n",
      " $ wind_speed    : num  22 18.9 15.8 14.1 13.6 ...\n",
      "NULL\n",
      "[1] \"ld_aq_data\"\n",
      "'data.frame':\t26616 obs. of  9 variables:\n",
      " $ id                : int  2941506 2941507 2941508 2941509 2941510 2941511 2941512 2941513 2941514 2941515 ...\n",
      " $ station_id        : Factor w/ 19 levels \"BL0\",\"BX1\",\"BX9\",..: 4 1 10 15 12 9 11 14 8 13 ...\n",
      " $ time              : POSIXct, format: \"2018-03-31 07:00:00\" \"2018-03-31 07:00:00\" ...\n",
      " $ PM25_Concentration: num  9.9 8.5 4.8 9.3 8.6 7.4 3.8 14.4 7.4 5.9 ...\n",
      " $ PM10_Concentration: num  14.3 8.8 8.9 10.4 10.5 10.6 6.6 24.1 13.1 6.9 ...\n",
      " $ NO2_Concentration : num  70.4 44.8 16.5 NA 35.7 48.9 36.5 43.3 57.5 NA ...\n",
      " $ CO_Concentration  : logi  NA NA NA NA NA NA ...\n",
      " $ O3_Concentration  : logi  NA NA NA NA NA NA ...\n",
      " $ SO2_Concentration : logi  NA NA NA NA NA NA ...\n",
      "NULL\n"
     ]
    }
   ],
   "source": [
    "# printing structure of all the datasets\n",
    "for (i in 1:length(df.list)) {\n",
    " print(df.list[i])\n",
    "  print(str(get(df.list[i])))\n",
    "}"
   ]
  },
  {
   "cell_type": "code",
   "execution_count": 9,
   "metadata": {},
   "outputs": [
    {
     "name": "stdout",
     "output_type": "stream",
     "text": [
      "[1] \"ld_gm_data\"\n"
     ]
    },
    {
     "data": {
      "text/html": [
       "<table>\n",
       "<thead><tr><th scope=col>min_date</th><th scope=col>max_date</th></tr></thead>\n",
       "<tbody>\n",
       "\t<tr><td>2018-03-31 07:00:00</td><td>2018-05-28 22:00:00</td></tr>\n",
       "</tbody>\n",
       "</table>\n"
      ],
      "text/latex": [
       "\\begin{tabular}{r|ll}\n",
       " min\\_date & max\\_date\\\\\n",
       "\\hline\n",
       "\t 2018-03-31 07:00:00 & 2018-05-28 22:00:00\\\\\n",
       "\\end{tabular}\n"
      ],
      "text/markdown": [
       "\n",
       "min_date | max_date | \n",
       "|---|\n",
       "| 2018-03-31 07:00:00 | 2018-05-28 22:00:00 | \n",
       "\n",
       "\n"
      ],
      "text/plain": [
       "  min_date            max_date           \n",
       "1 2018-03-31 07:00:00 2018-05-28 22:00:00"
      ]
     },
     "metadata": {},
     "output_type": "display_data"
    },
    {
     "name": "stdout",
     "output_type": "stream",
     "text": [
      "[1] \"ld_aq_data\"\n"
     ]
    },
    {
     "data": {
      "text/html": [
       "<table>\n",
       "<thead><tr><th scope=col>min_date</th><th scope=col>max_date</th></tr></thead>\n",
       "<tbody>\n",
       "\t<tr><td>2018-03-31 07:00:00</td><td>2018-05-28 20:00:00</td></tr>\n",
       "</tbody>\n",
       "</table>\n"
      ],
      "text/latex": [
       "\\begin{tabular}{r|ll}\n",
       " min\\_date & max\\_date\\\\\n",
       "\\hline\n",
       "\t 2018-03-31 07:00:00 & 2018-05-28 20:00:00\\\\\n",
       "\\end{tabular}\n"
      ],
      "text/markdown": [
       "\n",
       "min_date | max_date | \n",
       "|---|\n",
       "| 2018-03-31 07:00:00 | 2018-05-28 20:00:00 | \n",
       "\n",
       "\n"
      ],
      "text/plain": [
       "  min_date            max_date           \n",
       "1 2018-03-31 07:00:00 2018-05-28 20:00:00"
      ]
     },
     "metadata": {},
     "output_type": "display_data"
    }
   ],
   "source": [
    "# Printing the min and max dates of all datasets\n",
    "print(\"ld_gm_data\")\n",
    "ld_gm_data %>% summarize(min_date = min(time), max_date = max(time))\n",
    "print(\"ld_aq_data\")\n",
    "ld_aq_data %>% summarize(min_date = min(time), max_date = max(time))"
   ]
  },
  {
   "cell_type": "code",
   "execution_count": 10,
   "metadata": {
    "collapsed": true
   },
   "outputs": [],
   "source": [
    "# using only required columns\n",
    "ld_aq_data <- ld_aq_data %>% select(-id)\n",
    "ld_gm_data <- ld_gm_data %>% select(-c(id, weather))"
   ]
  },
  {
   "cell_type": "code",
   "execution_count": 11,
   "metadata": {
    "collapsed": true
   },
   "outputs": [],
   "source": [
    "# London closest grids to stations\n",
    "ld_closest_stations <- read.csv('SL_london_closest_stations.csv')"
   ]
  },
  {
   "cell_type": "code",
   "execution_count": 12,
   "metadata": {
    "collapsed": true
   },
   "outputs": [],
   "source": [
    "# Modifying column names for consistency\n",
    "colnames(ld_closest_stations) <- c('x',\"stationId\",\"stationName\",\"distance\") \n",
    "colnames(ld_aq_data) <- c(\"stationId\",\"utc_time\",\"PM2.5\",\"PM10\",\"NO2\",\"CO\",\"O3\", \"SO2\") \n",
    "colnames(ld_gm_data) <- c(\"stationName\",\"utc_time\",\"temperature\",\"pressure\",\"humidity\",\"wind_direction\",\"wind_speed.kph\") "
   ]
  },
  {
   "cell_type": "code",
   "execution_count": 13,
   "metadata": {},
   "outputs": [
    {
     "name": "stdout",
     "output_type": "stream",
     "text": [
      "'data.frame':\t24 obs. of  4 variables:\n",
      " $ x          : int  1 2 3 4 5 6 7 8 9 10 ...\n",
      " $ stationId  : Factor w/ 24 levels \"BL0\",\"BX1\",\"BX9\",..: 3 2 1 5 4 7 8 6 10 12 ...\n",
      " $ stationName: Factor w/ 10 levels \"london_grid_346\",..: 10 10 6 6 4 6 6 5 8 8 ...\n",
      " $ distance   : num  3929 3929 3060 3683 5212 ...\n",
      "'data.frame':\t1186361 obs. of  7 variables:\n",
      " $ stationName   : Factor w/ 861 levels \"london_grid_000\",..: 1 2 3 4 5 6 7 8 9 10 ...\n",
      " $ utc_time      : POSIXct, format: \"2018-03-31 07:00:00\" \"2018-03-31 07:00:00\" ...\n",
      " $ temperature   : num  6.14 5.43 4.73 4.25 3.99 3.72 3.75 3.78 3.86 3.98 ...\n",
      " $ pressure      : num  995 994 993 990 986 ...\n",
      " $ humidity      : num  85 88 91 93 95 97 96 96 96 96 ...\n",
      " $ wind_direction: num  304 303 302 303 306 ...\n",
      " $ wind_speed.kph: num  22 18.9 15.8 14.1 13.6 ...\n",
      "'data.frame':\t26616 obs. of  8 variables:\n",
      " $ stationId: Factor w/ 19 levels \"BL0\",\"BX1\",\"BX9\",..: 4 1 10 15 12 9 11 14 8 13 ...\n",
      " $ utc_time : POSIXct, format: \"2018-03-31 07:00:00\" \"2018-03-31 07:00:00\" ...\n",
      " $ PM2.5    : num  9.9 8.5 4.8 9.3 8.6 7.4 3.8 14.4 7.4 5.9 ...\n",
      " $ PM10     : num  14.3 8.8 8.9 10.4 10.5 10.6 6.6 24.1 13.1 6.9 ...\n",
      " $ NO2      : num  70.4 44.8 16.5 NA 35.7 48.9 36.5 43.3 57.5 NA ...\n",
      " $ CO       : logi  NA NA NA NA NA NA ...\n",
      " $ O3       : logi  NA NA NA NA NA NA ...\n",
      " $ SO2      : logi  NA NA NA NA NA NA ...\n"
     ]
    },
    {
     "data": {
      "text/html": [
       "<table>\n",
       "<thead><tr><th scope=col>x</th><th scope=col>stationId</th><th scope=col>stationName</th><th scope=col>distance</th></tr></thead>\n",
       "<tbody>\n",
       "\t<tr><td>1              </td><td>BX9            </td><td>london_grid_472</td><td>3929.170       </td></tr>\n",
       "\t<tr><td>2              </td><td>BX1            </td><td>london_grid_472</td><td>3929.170       </td></tr>\n",
       "\t<tr><td>3              </td><td>BL0            </td><td>london_grid_409</td><td>3059.760       </td></tr>\n",
       "\t<tr><td>4              </td><td>CD9            </td><td>london_grid_409</td><td>3682.914       </td></tr>\n",
       "\t<tr><td>5              </td><td>CD1            </td><td>london_grid_388</td><td>5211.633       </td></tr>\n",
       "\t<tr><td>6              </td><td>CT2            </td><td>london_grid_409</td><td>1646.945       </td></tr>\n",
       "</tbody>\n",
       "</table>\n"
      ],
      "text/latex": [
       "\\begin{tabular}{r|llll}\n",
       " x & stationId & stationName & distance\\\\\n",
       "\\hline\n",
       "\t 1                   & BX9                 & london\\_grid\\_472 & 3929.170           \\\\\n",
       "\t 2                   & BX1                 & london\\_grid\\_472 & 3929.170           \\\\\n",
       "\t 3                   & BL0                 & london\\_grid\\_409 & 3059.760           \\\\\n",
       "\t 4                   & CD9                 & london\\_grid\\_409 & 3682.914           \\\\\n",
       "\t 5                   & CD1                 & london\\_grid\\_388 & 5211.633           \\\\\n",
       "\t 6                   & CT2                 & london\\_grid\\_409 & 1646.945           \\\\\n",
       "\\end{tabular}\n"
      ],
      "text/markdown": [
       "\n",
       "x | stationId | stationName | distance | \n",
       "|---|---|---|---|---|---|\n",
       "| 1               | BX9             | london_grid_472 | 3929.170        | \n",
       "| 2               | BX1             | london_grid_472 | 3929.170        | \n",
       "| 3               | BL0             | london_grid_409 | 3059.760        | \n",
       "| 4               | CD9             | london_grid_409 | 3682.914        | \n",
       "| 5               | CD1             | london_grid_388 | 5211.633        | \n",
       "| 6               | CT2             | london_grid_409 | 1646.945        | \n",
       "\n",
       "\n"
      ],
      "text/plain": [
       "  x stationId stationName     distance\n",
       "1 1 BX9       london_grid_472 3929.170\n",
       "2 2 BX1       london_grid_472 3929.170\n",
       "3 3 BL0       london_grid_409 3059.760\n",
       "4 4 CD9       london_grid_409 3682.914\n",
       "5 5 CD1       london_grid_388 5211.633\n",
       "6 6 CT2       london_grid_409 1646.945"
      ]
     },
     "metadata": {},
     "output_type": "display_data"
    }
   ],
   "source": [
    "str(ld_closest_stations)\n",
    "str(ld_gm_data)\n",
    "str(ld_aq_data)\n",
    "head(ld_closest_stations)"
   ]
  },
  {
   "cell_type": "code",
   "execution_count": 14,
   "metadata": {
    "collapsed": true
   },
   "outputs": [],
   "source": [
    "# Mapping stationIds with respective grids\n",
    "ld_aq_map <- merge(ld_aq_data,ld_closest_stations, by = \"stationId\")"
   ]
  },
  {
   "cell_type": "code",
   "execution_count": 15,
   "metadata": {
    "collapsed": true
   },
   "outputs": [],
   "source": [
    "# Merge of AirQuality and Meteorology data\n",
    "ld_aq_gm_data <- merge(ld_aq_map, ld_gm_data, by = c(\"stationName\",\"utc_time\"))"
   ]
  },
  {
   "cell_type": "code",
   "execution_count": 16,
   "metadata": {},
   "outputs": [
    {
     "name": "stdout",
     "output_type": "stream",
     "text": [
      "'data.frame':\t26064 obs. of  16 variables:\n",
      " $ stationName   : Factor w/ 10 levels \"london_grid_346\",..: 2 2 2 2 2 2 2 2 2 2 ...\n",
      " $ utc_time      : POSIXct, format: \"2018-03-31 07:00:00\" \"2018-03-31 08:00:00\" ...\n",
      " $ stationId     : Factor w/ 19 levels \"BL0\",\"BX1\",\"BX9\",..: 18 18 18 18 18 18 18 18 18 18 ...\n",
      " $ PM2.5         : num  8.7 6.8 4.5 8.2 11.8 10.2 11.6 10.3 8.8 8.6 ...\n",
      " $ PM10          : num  NA NA NA NA NA NA NA NA NA NA ...\n",
      " $ NO2           : num  NA NA NA NA NA NA NA NA NA NA ...\n",
      " $ CO            : logi  NA NA NA NA NA NA ...\n",
      " $ O3            : logi  NA NA NA NA NA NA ...\n",
      " $ SO2           : logi  NA NA NA NA NA NA ...\n",
      " $ x             : int  21 21 21 21 21 21 21 21 21 21 ...\n",
      " $ distance      : num  4235 4235 4235 4235 4235 ...\n",
      " $ temperature   : num  4.83 5.42 6.05 6.1 7.05 7.8 8.08 8.44 8.57 8.02 ...\n",
      " $ pressure      : num  987 987 988 989 992 ...\n",
      " $ humidity      : num  87 84 81 79 74 71 73 71 70 73 ...\n",
      " $ wind_direction: num  205 210 214 234 242 ...\n",
      " $ wind_speed.kph: num  11.3 11.95 12.01 10.18 7.95 ...\n"
     ]
    },
    {
     "data": {
      "text/html": [
       "<table>\n",
       "<thead><tr><th scope=col>stationName</th><th scope=col>utc_time</th><th scope=col>stationId</th><th scope=col>PM2.5</th><th scope=col>PM10</th><th scope=col>NO2</th><th scope=col>CO</th><th scope=col>O3</th><th scope=col>SO2</th><th scope=col>x</th><th scope=col>distance</th><th scope=col>temperature</th><th scope=col>pressure</th><th scope=col>humidity</th><th scope=col>wind_direction</th><th scope=col>wind_speed.kph</th></tr></thead>\n",
       "<tbody>\n",
       "\t<tr><td>london_grid_366    </td><td>2018-03-31 07:00:00</td><td>TD5                </td><td> 8.7               </td><td>NA                 </td><td>NA                 </td><td>NA                 </td><td>NA                 </td><td>NA                 </td><td>21                 </td><td>4234.613           </td><td>4.83               </td><td>986.8419           </td><td>87                 </td><td>205.39             </td><td>11.30              </td></tr>\n",
       "\t<tr><td>london_grid_366    </td><td>2018-03-31 08:00:00</td><td>TD5                </td><td> 6.8               </td><td>NA                 </td><td>NA                 </td><td>NA                 </td><td>NA                 </td><td>NA                 </td><td>21                 </td><td>4234.613           </td><td>5.42               </td><td>987.2517           </td><td>84                 </td><td>210.33             </td><td>11.95              </td></tr>\n",
       "\t<tr><td>london_grid_366    </td><td>2018-03-31 09:00:00</td><td>TD5                </td><td> 4.5               </td><td>NA                 </td><td>NA                 </td><td>NA                 </td><td>NA                 </td><td>NA                 </td><td>21                 </td><td>4234.613           </td><td>6.05               </td><td>987.7612           </td><td>81                 </td><td>214.35             </td><td>12.01              </td></tr>\n",
       "\t<tr><td>london_grid_366    </td><td>2018-03-31 10:00:00</td><td>TD5                </td><td> 8.2               </td><td>NA                 </td><td>NA                 </td><td>NA                 </td><td>NA                 </td><td>NA                 </td><td>21                 </td><td>4234.613           </td><td>6.10               </td><td>988.8336           </td><td>79                 </td><td>233.70             </td><td>10.18              </td></tr>\n",
       "\t<tr><td>london_grid_366    </td><td>2018-03-31 11:00:00</td><td>TD5                </td><td>11.8               </td><td>NA                 </td><td>NA                 </td><td>NA                 </td><td>NA                 </td><td>NA                 </td><td>21                 </td><td>4234.613           </td><td>7.05               </td><td>991.6767           </td><td>74                 </td><td>242.44             </td><td> 7.95              </td></tr>\n",
       "\t<tr><td>london_grid_366    </td><td>2018-03-31 12:00:00</td><td>TD5                </td><td>10.2               </td><td>NA                 </td><td>NA                 </td><td>NA                 </td><td>NA                 </td><td>NA                 </td><td>21                 </td><td>4234.613           </td><td>7.80               </td><td>992.0664           </td><td>71                 </td><td>267.43             </td><td> 6.76              </td></tr>\n",
       "</tbody>\n",
       "</table>\n"
      ],
      "text/latex": [
       "\\begin{tabular}{r|llllllllllllllll}\n",
       " stationName & utc\\_time & stationId & PM2.5 & PM10 & NO2 & CO & O3 & SO2 & x & distance & temperature & pressure & humidity & wind\\_direction & wind\\_speed.kph\\\\\n",
       "\\hline\n",
       "\t london\\_grid\\_366 & 2018-03-31 07:00:00 & TD5                 &  8.7                & NA                  & NA                  & NA                  & NA                  & NA                  & 21                  & 4234.613            & 4.83                & 986.8419            & 87                  & 205.39              & 11.30              \\\\\n",
       "\t london\\_grid\\_366 & 2018-03-31 08:00:00 & TD5                 &  6.8                & NA                  & NA                  & NA                  & NA                  & NA                  & 21                  & 4234.613            & 5.42                & 987.2517            & 84                  & 210.33              & 11.95              \\\\\n",
       "\t london\\_grid\\_366 & 2018-03-31 09:00:00 & TD5                 &  4.5                & NA                  & NA                  & NA                  & NA                  & NA                  & 21                  & 4234.613            & 6.05                & 987.7612            & 81                  & 214.35              & 12.01              \\\\\n",
       "\t london\\_grid\\_366 & 2018-03-31 10:00:00 & TD5                 &  8.2                & NA                  & NA                  & NA                  & NA                  & NA                  & 21                  & 4234.613            & 6.10                & 988.8336            & 79                  & 233.70              & 10.18              \\\\\n",
       "\t london\\_grid\\_366 & 2018-03-31 11:00:00 & TD5                 & 11.8                & NA                  & NA                  & NA                  & NA                  & NA                  & 21                  & 4234.613            & 7.05                & 991.6767            & 74                  & 242.44              &  7.95              \\\\\n",
       "\t london\\_grid\\_366 & 2018-03-31 12:00:00 & TD5                 & 10.2                & NA                  & NA                  & NA                  & NA                  & NA                  & 21                  & 4234.613            & 7.80                & 992.0664            & 71                  & 267.43              &  6.76              \\\\\n",
       "\\end{tabular}\n"
      ],
      "text/markdown": [
       "\n",
       "stationName | utc_time | stationId | PM2.5 | PM10 | NO2 | CO | O3 | SO2 | x | distance | temperature | pressure | humidity | wind_direction | wind_speed.kph | \n",
       "|---|---|---|---|---|---|\n",
       "| london_grid_366     | 2018-03-31 07:00:00 | TD5                 |  8.7                | NA                  | NA                  | NA                  | NA                  | NA                  | 21                  | 4234.613            | 4.83                | 986.8419            | 87                  | 205.39              | 11.30               | \n",
       "| london_grid_366     | 2018-03-31 08:00:00 | TD5                 |  6.8                | NA                  | NA                  | NA                  | NA                  | NA                  | 21                  | 4234.613            | 5.42                | 987.2517            | 84                  | 210.33              | 11.95               | \n",
       "| london_grid_366     | 2018-03-31 09:00:00 | TD5                 |  4.5                | NA                  | NA                  | NA                  | NA                  | NA                  | 21                  | 4234.613            | 6.05                | 987.7612            | 81                  | 214.35              | 12.01               | \n",
       "| london_grid_366     | 2018-03-31 10:00:00 | TD5                 |  8.2                | NA                  | NA                  | NA                  | NA                  | NA                  | 21                  | 4234.613            | 6.10                | 988.8336            | 79                  | 233.70              | 10.18               | \n",
       "| london_grid_366     | 2018-03-31 11:00:00 | TD5                 | 11.8                | NA                  | NA                  | NA                  | NA                  | NA                  | 21                  | 4234.613            | 7.05                | 991.6767            | 74                  | 242.44              |  7.95               | \n",
       "| london_grid_366     | 2018-03-31 12:00:00 | TD5                 | 10.2                | NA                  | NA                  | NA                  | NA                  | NA                  | 21                  | 4234.613            | 7.80                | 992.0664            | 71                  | 267.43              |  6.76               | \n",
       "\n",
       "\n"
      ],
      "text/plain": [
       "  stationName     utc_time            stationId PM2.5 PM10 NO2 CO O3 SO2 x \n",
       "1 london_grid_366 2018-03-31 07:00:00 TD5        8.7  NA   NA  NA NA NA  21\n",
       "2 london_grid_366 2018-03-31 08:00:00 TD5        6.8  NA   NA  NA NA NA  21\n",
       "3 london_grid_366 2018-03-31 09:00:00 TD5        4.5  NA   NA  NA NA NA  21\n",
       "4 london_grid_366 2018-03-31 10:00:00 TD5        8.2  NA   NA  NA NA NA  21\n",
       "5 london_grid_366 2018-03-31 11:00:00 TD5       11.8  NA   NA  NA NA NA  21\n",
       "6 london_grid_366 2018-03-31 12:00:00 TD5       10.2  NA   NA  NA NA NA  21\n",
       "  distance temperature pressure humidity wind_direction wind_speed.kph\n",
       "1 4234.613 4.83        986.8419 87       205.39         11.30         \n",
       "2 4234.613 5.42        987.2517 84       210.33         11.95         \n",
       "3 4234.613 6.05        987.7612 81       214.35         12.01         \n",
       "4 4234.613 6.10        988.8336 79       233.70         10.18         \n",
       "5 4234.613 7.05        991.6767 74       242.44          7.95         \n",
       "6 4234.613 7.80        992.0664 71       267.43          6.76         "
      ]
     },
     "metadata": {},
     "output_type": "display_data"
    },
    {
     "data": {
      "text/html": [
       "<table>\n",
       "<thead><tr><th scope=col>min_date</th><th scope=col>max_date</th></tr></thead>\n",
       "<tbody>\n",
       "\t<tr><td>2018-03-31 07:00:00</td><td>2018-05-28 20:00:00</td></tr>\n",
       "</tbody>\n",
       "</table>\n"
      ],
      "text/latex": [
       "\\begin{tabular}{r|ll}\n",
       " min\\_date & max\\_date\\\\\n",
       "\\hline\n",
       "\t 2018-03-31 07:00:00 & 2018-05-28 20:00:00\\\\\n",
       "\\end{tabular}\n"
      ],
      "text/markdown": [
       "\n",
       "min_date | max_date | \n",
       "|---|\n",
       "| 2018-03-31 07:00:00 | 2018-05-28 20:00:00 | \n",
       "\n",
       "\n"
      ],
      "text/plain": [
       "  min_date            max_date           \n",
       "1 2018-03-31 07:00:00 2018-05-28 20:00:00"
      ]
     },
     "metadata": {},
     "output_type": "display_data"
    }
   ],
   "source": [
    "str(ld_aq_gm_data)\n",
    "head(ld_aq_gm_data)\n",
    "ld_aq_gm_data %>% summarize(min_date = min(utc_time), max_date = max(utc_time))"
   ]
  },
  {
   "cell_type": "code",
   "execution_count": 17,
   "metadata": {
    "collapsed": true
   },
   "outputs": [],
   "source": [
    "rm(\"ld_gm_data\")\n",
    "rm(\"ld_aq_data\")\n",
    "rm(\"ld_aq_map\")\n",
    "rm(\"ld_closest_stations\")"
   ]
  },
  {
   "cell_type": "code",
   "execution_count": 18,
   "metadata": {
    "collapsed": true
   },
   "outputs": [],
   "source": [
    "# selecting only required columns\n",
    "ld_aq_gm_data <- ld_aq_gm_data %>% select(c(\"stationName\",\"utc_time\",\"stationId\",\"PM2.5\",\"PM10\", \"O3\",\n",
    "                                            \"temperature\",\"pressure\",\"humidity\",\"wind_direction\",\"wind_speed.kph\"))"
   ]
  },
  {
   "cell_type": "code",
   "execution_count": 19,
   "metadata": {
    "collapsed": true
   },
   "outputs": [],
   "source": [
    "# adding additional columns for modeling\n",
    "ld_aq_gm_data$hour <- hour(ld_aq_gm_data$utc_time)\n",
    "ld_aq_gm_data$month <- month(ld_aq_gm_data$utc_time)\n",
    "ld_aq_gm_data$date <- date(ld_aq_gm_data$utc_time)\n",
    "ld_aq_gm_data$weekend = chron::is.weekend(ld_aq_gm_data$date)"
   ]
  },
  {
   "cell_type": "code",
   "execution_count": 20,
   "metadata": {},
   "outputs": [
    {
     "name": "stdout",
     "output_type": "stream",
     "text": [
      "'data.frame':\t26064 obs. of  15 variables:\n",
      " $ stationName   : Factor w/ 10 levels \"london_grid_346\",..: 2 2 2 2 2 2 2 2 2 2 ...\n",
      " $ utc_time      : POSIXct, format: \"2018-03-31 07:00:00\" \"2018-03-31 08:00:00\" ...\n",
      " $ stationId     : Factor w/ 19 levels \"BL0\",\"BX1\",\"BX9\",..: 18 18 18 18 18 18 18 18 18 18 ...\n",
      " $ PM2.5         : num  8.7 6.8 4.5 8.2 11.8 10.2 11.6 10.3 8.8 8.6 ...\n",
      " $ PM10          : num  NA NA NA NA NA NA NA NA NA NA ...\n",
      " $ O3            : logi  NA NA NA NA NA NA ...\n",
      " $ temperature   : num  4.83 5.42 6.05 6.1 7.05 7.8 8.08 8.44 8.57 8.02 ...\n",
      " $ pressure      : num  987 987 988 989 992 ...\n",
      " $ humidity      : num  87 84 81 79 74 71 73 71 70 73 ...\n",
      " $ wind_direction: num  205 210 214 234 242 ...\n",
      " $ wind_speed.kph: num  11.3 11.95 12.01 10.18 7.95 ...\n",
      " $ hour          : int  7 8 9 10 11 12 13 14 15 16 ...\n",
      " $ month         : num  3 3 3 3 3 3 3 3 3 3 ...\n",
      " $ date          : Date, format: \"2018-03-31\" \"2018-03-31\" ...\n",
      " $ weekend       : logi  TRUE TRUE TRUE TRUE TRUE TRUE ...\n"
     ]
    }
   ],
   "source": [
    "str(ld_aq_gm_data)"
   ]
  },
  {
   "cell_type": "markdown",
   "metadata": {},
   "source": [
    "### Import and transformations of Historical data"
   ]
  },
  {
   "cell_type": "code",
   "execution_count": 21,
   "metadata": {
    "collapsed": true
   },
   "outputs": [],
   "source": [
    "# retreiving historical files\n",
    "ld_aq_gm_hist_file <- \"Ready for Modeling/ld_aq_gm_hist_data.csv\"\n",
    "ld_aq_gm_hist_data <- read.csv(ld_aq_gm_hist_file, header=TRUE, sep=\",\", stringsAsFactors = FALSE)"
   ]
  },
  {
   "cell_type": "code",
   "execution_count": 22,
   "metadata": {
    "collapsed": true
   },
   "outputs": [],
   "source": [
    "# data transformations for consistency\n",
    "ld_aq_gm_hist_data <- ld_aq_gm_hist_data %>% select(-X)\n",
    "ld_aq_gm_hist_data$utc_time <- anytime(ld_aq_gm_hist_data$utc_time)\n",
    "ld_aq_gm_hist_data$date <- as.Date(ld_aq_gm_hist_data$date , \"%Y-%m-%d\")"
   ]
  },
  {
   "cell_type": "code",
   "execution_count": 23,
   "metadata": {
    "collapsed": true
   },
   "outputs": [],
   "source": [
    "colnames(ld_aq_gm_hist_data) <- c(\"stationName\",\"utc_time\",\"stationId\",\"PM2.5\",\"PM10\", \"O3\",\n",
    "                                \"temperature\",\"pressure\",\"humidity\",\"wind_direction\",\"wind_speed.kph\", \n",
    "                                 \"hour\",\"month\", \"date\", \"weekend\")"
   ]
  },
  {
   "cell_type": "code",
   "execution_count": 24,
   "metadata": {},
   "outputs": [
    {
     "name": "stdout",
     "output_type": "stream",
     "text": [
      "'data.frame':\t257936 obs. of  15 variables:\n",
      " $ stationName   : chr  \"london_grid_346\" \"london_grid_346\" \"london_grid_346\" \"london_grid_346\" ...\n",
      " $ utc_time      : POSIXct, format: \"2017-01-01 08:00:00\" \"2017-01-01 09:00:00\" ...\n",
      " $ stationId     : chr  \"LH0\" \"LH0\" \"LH0\" \"LH0\" ...\n",
      " $ PM2.5         : num  18.3 16.3 13.3 9.4 6.1 6.7 2.1 0.9 1.1 1 ...\n",
      " $ PM10          : num  21.3 19.5 16.2 11.6 8.5 13.4 4.6 2 2.1 2 ...\n",
      " $ O3            : num  41.6 44.1 49.1 45.2 41.4 53.6 11.7 12.1 12 13.5 ...\n",
      " $ temperature   : num  6.05 6.05 6.04 6.04 6.25 6.46 6.67 6.91 7.15 7.39 ...\n",
      " $ pressure      : num  1019 1018 1017 1016 1015 ...\n",
      " $ humidity      : num  90 89.2 88.3 87.4 87.8 ...\n",
      " $ wind_direction: num  221 220 218 217 216 ...\n",
      " $ wind_speed.kph: num  16.4 17.1 17.7 18.4 18.8 ...\n",
      " $ hour          : int  8 9 10 11 12 13 14 15 16 17 ...\n",
      " $ month         : int  1 1 1 1 1 1 1 1 1 1 ...\n",
      " $ date          : Date, format: \"2017-01-01\" \"2017-01-01\" ...\n",
      " $ weekend       : logi  TRUE TRUE TRUE TRUE TRUE TRUE ...\n"
     ]
    }
   ],
   "source": [
    "str(ld_aq_gm_hist_data)"
   ]
  },
  {
   "cell_type": "code",
   "execution_count": 25,
   "metadata": {
    "collapsed": true
   },
   "outputs": [],
   "source": [
    "# Append API and hist data\n",
    "ld_aq_gm_combined_data <- rbind(ld_aq_gm_data, ld_aq_gm_hist_data)"
   ]
  },
  {
   "cell_type": "code",
   "execution_count": 26,
   "metadata": {},
   "outputs": [
    {
     "name": "stdout",
     "output_type": "stream",
     "text": [
      "'data.frame':\t284000 obs. of  15 variables:\n",
      " $ stationName   : Factor w/ 10 levels \"london_grid_346\",..: 2 2 2 2 2 2 2 2 2 2 ...\n",
      " $ utc_time      : POSIXct, format: \"2018-03-31 07:00:00\" \"2018-03-31 08:00:00\" ...\n",
      " $ stationId     : Factor w/ 24 levels \"BL0\",\"BX1\",\"BX9\",..: 18 18 18 18 18 18 18 18 18 18 ...\n",
      " $ PM2.5         : num  8.7 6.8 4.5 8.2 11.8 10.2 11.6 10.3 8.8 8.6 ...\n",
      " $ PM10          : num  NA NA NA NA NA NA NA NA NA NA ...\n",
      " $ O3            : num  NA NA NA NA NA NA NA NA NA NA ...\n",
      " $ temperature   : num  4.83 5.42 6.05 6.1 7.05 7.8 8.08 8.44 8.57 8.02 ...\n",
      " $ pressure      : num  987 987 988 989 992 ...\n",
      " $ humidity      : num  87 84 81 79 74 71 73 71 70 73 ...\n",
      " $ wind_direction: num  205 210 214 234 242 ...\n",
      " $ wind_speed.kph: num  11.3 11.95 12.01 10.18 7.95 ...\n",
      " $ hour          : int  7 8 9 10 11 12 13 14 15 16 ...\n",
      " $ month         : num  3 3 3 3 3 3 3 3 3 3 ...\n",
      " $ date          : Date, format: \"2018-03-31\" \"2018-03-31\" ...\n",
      " $ weekend       : logi  TRUE TRUE TRUE TRUE TRUE TRUE ...\n"
     ]
    },
    {
     "data": {
      "text/html": [
       "<table>\n",
       "<thead><tr><th scope=col>min_date</th><th scope=col>max_date</th></tr></thead>\n",
       "<tbody>\n",
       "\t<tr><td>2017-01-01 08:00:00</td><td>2018-05-28 20:00:00</td></tr>\n",
       "</tbody>\n",
       "</table>\n"
      ],
      "text/latex": [
       "\\begin{tabular}{r|ll}\n",
       " min\\_date & max\\_date\\\\\n",
       "\\hline\n",
       "\t 2017-01-01 08:00:00 & 2018-05-28 20:00:00\\\\\n",
       "\\end{tabular}\n"
      ],
      "text/markdown": [
       "\n",
       "min_date | max_date | \n",
       "|---|\n",
       "| 2017-01-01 08:00:00 | 2018-05-28 20:00:00 | \n",
       "\n",
       "\n"
      ],
      "text/plain": [
       "  min_date            max_date           \n",
       "1 2017-01-01 08:00:00 2018-05-28 20:00:00"
      ]
     },
     "metadata": {},
     "output_type": "display_data"
    },
    {
     "data": {
      "text/plain": [
       "          stationName       utc_time                     stationId     \n",
       " london_grid_451:47340   Min.   :2017-01-01 08:00:00   CD9    : 12186  \n",
       " london_grid_388:47336   1st Qu.:2017-05-06 23:45:00   BL0    : 12178  \n",
       " london_grid_409:47310   Median :2017-09-07 06:00:00   GN0    : 12178  \n",
       " london_grid_430:36533   Mean   :2017-09-08 01:49:36   GN3    : 12178  \n",
       " london_grid_472:36532   3rd Qu.:2018-01-08 13:00:00   GR4    : 12178  \n",
       " london_grid_408:22983   Max.   :2018-05-28 20:00:00   GR9    : 12178  \n",
       " (Other)        :45966                                 (Other):210924  \n",
       "     PM2.5             PM10              O3          temperature   \n",
       " Min.   :-14.00   Min.   :-11.80   Min.   : -8.30   Min.   :-4.57  \n",
       " 1st Qu.:  6.50   1st Qu.: 11.40   1st Qu.: 19.50   1st Qu.: 5.97  \n",
       " Median : 10.20   Median : 17.20   Median : 34.20   Median :10.16  \n",
       " Mean   : 13.43   Mean   : 20.58   Mean   : 39.72   Mean   :10.58  \n",
       " 3rd Qu.: 16.60   3rd Qu.: 26.00   3rd Qu.: 53.80   3rd Qu.:15.03  \n",
       " Max.   :313.00   Max.   :667.10   Max.   :336.10   Max.   :30.28  \n",
       " NA's   :53983    NA's   :100116   NA's   :119229                  \n",
       "    pressure         humidity     wind_direction  wind_speed.kph \n",
       " Min.   : 964.4   Min.   : 7.00   Min.   :  0.0   Min.   : 0.12  \n",
       " 1st Qu.:1004.6   1st Qu.:67.53   1st Qu.:151.6   1st Qu.: 9.85  \n",
       " Median :1011.8   Median :78.16   Median :229.2   Median :14.36  \n",
       " Mean   :1010.5   Mean   :76.56   Mean   :208.9   Mean   :15.31  \n",
       " 3rd Qu.:1017.9   3rd Qu.:87.70   3rd Qu.:272.7   3rd Qu.:19.86  \n",
       " Max.   :1035.8   Max.   :99.40   Max.   :360.0   Max.   :54.41  \n",
       "                                                                 \n",
       "      hour          month            date             weekend       \n",
       " Min.   : 0.0   Min.   : 1.00   Min.   :2017-01-01   Mode :logical  \n",
       " 1st Qu.: 6.0   1st Qu.: 3.00   1st Qu.:2017-05-06   FALSE:202312   \n",
       " Median :11.0   Median : 5.00   Median :2017-09-07   TRUE :81688    \n",
       " Mean   :11.5   Mean   : 5.57   Mean   :2017-09-07                  \n",
       " 3rd Qu.:17.0   3rd Qu.: 8.00   3rd Qu.:2018-01-08                  \n",
       " Max.   :23.0   Max.   :12.00   Max.   :2018-05-28                  \n",
       "                                                                    "
      ]
     },
     "metadata": {},
     "output_type": "display_data"
    }
   ],
   "source": [
    "str(ld_aq_gm_combined_data)\n",
    "ld_aq_gm_combined_data %>% summarize(min_date = min(utc_time), max_date = max(utc_time))\n",
    "summary(ld_aq_gm_combined_data)"
   ]
  },
  {
   "cell_type": "code",
   "execution_count": 27,
   "metadata": {
    "collapsed": true
   },
   "outputs": [],
   "source": [
    "rm(\"ld_aq_gm_data\")\n",
    "rm(\"ld_aq_gm_hist_data\")"
   ]
  },
  {
   "cell_type": "code",
   "execution_count": 28,
   "metadata": {},
   "outputs": [
    {
     "name": "stderr",
     "output_type": "stream",
     "text": [
      "Warning message:\n",
      "\"package 'bindrcpp' was built under R version 3.4.3\""
     ]
    }
   ],
   "source": [
    "# retrieving only air quality stations that need predictions\n",
    "ld_pred_stations <- read.csv(\"Datasets/London_AirQuality_Stations.csv\",  header=TRUE, sep=\",\", stringsAsFactors = FALSE)\n",
    "ld_pred_stations <- ld_pred_stations %>% filter(need_prediction == \"TRUE\") %>% select(station_id)\n",
    "colnames(ld_pred_stations) <- \"stationId\""
   ]
  },
  {
   "cell_type": "code",
   "execution_count": 29,
   "metadata": {
    "collapsed": true
   },
   "outputs": [],
   "source": [
    "ld_aq_gm_combined_data <- merge(ld_aq_gm_combined_data,ld_pred_stations, by = \"stationId\")"
   ]
  },
  {
   "cell_type": "code",
   "execution_count": 30,
   "metadata": {
    "collapsed": true
   },
   "outputs": [],
   "source": [
    "rm(\"ld_pred_stations\")"
   ]
  },
  {
   "cell_type": "code",
   "execution_count": 31,
   "metadata": {},
   "outputs": [
    {
     "data": {
      "text/plain": [
       "   stationId              stationName       utc_time                  \n",
       " CD9    :12186   london_grid_451:36534   Min.   :2017-01-01 08:00:00  \n",
       " BL0    :12178   london_grid_430:36533   1st Qu.:2017-05-08 03:00:00  \n",
       " GN0    :12178   london_grid_388:36530   Median :2017-09-12 00:00:00  \n",
       " GN3    :12178   london_grid_409:24364   Mean   :2017-09-12 11:54:56  \n",
       " GR4    :12178   london_grid_472:12178   3rd Qu.:2018-01-16 21:00:00  \n",
       " GR9    :12178   london_grid_408:12177   Max.   :2018-05-28 20:00:00  \n",
       " (Other):85240   (Other)        :    0                                \n",
       "     PM2.5             PM10             O3          temperature   \n",
       " Min.   :-10.50   Min.   :-11.8   Min.   : -4.70   Min.   :-4.37  \n",
       " 1st Qu.:  6.50   1st Qu.: 12.0   1st Qu.: 21.60   1st Qu.: 6.08  \n",
       " Median : 10.40   Median : 17.9   Median : 37.80   Median :10.28  \n",
       " Mean   : 13.59   Mean   : 21.4   Mean   : 43.24   Mean   :10.69  \n",
       " 3rd Qu.: 16.90   3rd Qu.: 27.0   3rd Qu.: 58.40   3rd Qu.:15.14  \n",
       " Max.   :189.70   Max.   :667.1   Max.   :336.10   Max.   :30.28  \n",
       " NA's   :21795    NA's   :16545   NA's   :43088                   \n",
       "    pressure         humidity     wind_direction  wind_speed.kph \n",
       " Min.   : 964.4   Min.   : 7.00   Min.   :  0.0   Min.   : 0.12  \n",
       " 1st Qu.:1005.0   1st Qu.:66.70   1st Qu.:148.9   1st Qu.: 9.76  \n",
       " Median :1012.2   Median :77.46   Median :228.4   Median :14.28  \n",
       " Mean   :1010.9   Mean   :75.92   Mean   :207.7   Mean   :15.21  \n",
       " 3rd Qu.:1018.2   3rd Qu.:87.30   3rd Qu.:272.2   3rd Qu.:19.74  \n",
       " Max.   :1035.8   Max.   :99.12   Max.   :360.0   Max.   :54.41  \n",
       "                                                                 \n",
       "      hour          month             date             weekend       \n",
       " Min.   : 0.0   Min.   : 1.000   Min.   :2017-01-01   Mode :logical  \n",
       " 1st Qu.: 6.0   1st Qu.: 3.000   1st Qu.:2017-05-08   FALSE:112721   \n",
       " Median :11.0   Median : 5.000   Median :2017-09-12   TRUE :45595    \n",
       " Mean   :11.5   Mean   : 5.524   Mean   :2017-09-12                  \n",
       " 3rd Qu.:17.0   3rd Qu.: 8.000   3rd Qu.:2018-01-16                  \n",
       " Max.   :23.0   Max.   :12.000   Max.   :2018-05-28                  \n",
       "                                                                     "
      ]
     },
     "metadata": {},
     "output_type": "display_data"
    }
   ],
   "source": [
    "summary(ld_aq_gm_combined_data)"
   ]
  },
  {
   "cell_type": "code",
   "execution_count": 1,
   "metadata": {},
   "outputs": [
    {
     "ename": "ERROR",
     "evalue": "Error in ld_aq_gm_combined_data[ld_aq_gm_combined_data$PM2.5 %in% boxplot.stats(ld_aq_gm_combined_data$PM2.5)$out, : object 'ld_aq_gm_combined_data' not found\n",
     "output_type": "error",
     "traceback": [
      "Error in ld_aq_gm_combined_data[ld_aq_gm_combined_data$PM2.5 %in% boxplot.stats(ld_aq_gm_combined_data$PM2.5)$out, : object 'ld_aq_gm_combined_data' not found\nTraceback:\n"
     ]
    }
   ],
   "source": [
    "# replacing outliers with NA\n",
    "ld_aq_gm_combined_data[ld_aq_gm_combined_data$PM2.5 %in% boxplot.stats(ld_aq_gm_combined_data$PM2.5)$out, ]$PM2.5 <- NA\n",
    "ld_aq_gm_combined_data[ld_aq_gm_combined_data$PM10 %in% boxplot.stats(ld_aq_gm_combined_data$PM10)$out, ]$PM10 <- NA\n",
    "ld_aq_gm_combined_data[ld_aq_gm_combined_data$O3 %in% boxplot.stats(ld_aq_gm_combined_data$O3)$out, ]$O3 <- NA"
   ]
  },
  {
   "cell_type": "code",
   "execution_count": 33,
   "metadata": {},
   "outputs": [
    {
     "name": "stdout",
     "output_type": "stream",
     "text": [
      "'data.frame':\t158316 obs. of  15 variables:\n",
      " $ stationId     : Factor w/ 24 levels \"BL0\",\"BX1\",\"BX9\",..: 1 1 1 1 1 1 1 1 1 1 ...\n",
      " $ stationName   : Factor w/ 10 levels \"london_grid_346\",..: 6 6 6 6 6 6 6 6 6 6 ...\n",
      " $ utc_time      : POSIXct, format: \"2018-03-02 08:00:00\" \"2018-04-28 13:00:00\" ...\n",
      " $ PM2.5         : num  NA 6.2 4.8 28 8.9 NA 8.2 7.1 26.6 12.9 ...\n",
      " $ PM10          : num  NA 7.3 8.3 37 4.9 NA 13.9 5.8 41.2 15.9 ...\n",
      " $ O3            : num  38.4 NA 17.2 54.7 49.3 7.2 45 16.4 NA 46.1 ...\n",
      " $ temperature   : num  -0.45 11.59 13.16 7.62 12.65 ...\n",
      " $ pressure      : num  991 1006 1013 996 998 ...\n",
      " $ humidity      : num  69.5 66 72.1 77.3 89.6 ...\n",
      " $ wind_direction: num  83.8 353.8 243.8 107 196.1 ...\n",
      " $ wind_speed.kph: num  28.47 9.02 25.64 6.57 9.34 ...\n",
      " $ hour          : int  8 13 5 16 15 3 21 4 13 0 ...\n",
      " $ month         : num  3 4 10 3 11 6 4 10 4 9 ...\n",
      " $ date          : Date, format: \"2018-03-02\" \"2018-04-28\" ...\n",
      " $ weekend       : logi  FALSE TRUE FALSE TRUE TRUE FALSE ...\n"
     ]
    },
    {
     "data": {
      "text/plain": [
       "   stationId              stationName       utc_time                  \n",
       " CD9    :12186   london_grid_451:36534   Min.   :2017-01-01 08:00:00  \n",
       " BL0    :12178   london_grid_430:36533   1st Qu.:2017-05-08 03:00:00  \n",
       " GN0    :12178   london_grid_388:36530   Median :2017-09-12 00:00:00  \n",
       " GN3    :12178   london_grid_409:24364   Mean   :2017-09-12 11:54:56  \n",
       " GR4    :12178   london_grid_472:12178   3rd Qu.:2018-01-16 21:00:00  \n",
       " GR9    :12178   london_grid_408:12177   Max.   :2018-05-28 20:00:00  \n",
       " (Other):85240   (Other)        :    0                                \n",
       "     PM2.5            PM10             O3          temperature   \n",
       " Min.   :-8.60   Min.   :-8.90   Min.   : -4.70   Min.   :-4.37  \n",
       " 1st Qu.: 6.30   1st Qu.:11.70   1st Qu.: 21.20   1st Qu.: 6.08  \n",
       " Median : 9.90   Median :17.30   Median : 36.90   Median :10.28  \n",
       " Mean   :11.35   Mean   :19.23   Mean   : 40.78   Mean   :10.69  \n",
       " 3rd Qu.:15.10   3rd Qu.:25.20   3rd Qu.: 56.40   3rd Qu.:15.14  \n",
       " Max.   :32.50   Max.   :49.50   Max.   :113.60   Max.   :30.28  \n",
       " NA's   :30638   NA's   :23458   NA's   :46074                   \n",
       "    pressure         humidity     wind_direction  wind_speed.kph \n",
       " Min.   : 964.4   Min.   : 7.00   Min.   :  0.0   Min.   : 0.12  \n",
       " 1st Qu.:1005.0   1st Qu.:66.70   1st Qu.:148.9   1st Qu.: 9.76  \n",
       " Median :1012.2   Median :77.46   Median :228.4   Median :14.28  \n",
       " Mean   :1010.9   Mean   :75.92   Mean   :207.7   Mean   :15.21  \n",
       " 3rd Qu.:1018.2   3rd Qu.:87.30   3rd Qu.:272.2   3rd Qu.:19.74  \n",
       " Max.   :1035.8   Max.   :99.12   Max.   :360.0   Max.   :54.41  \n",
       "                                                                 \n",
       "      hour          month             date             weekend       \n",
       " Min.   : 0.0   Min.   : 1.000   Min.   :2017-01-01   Mode :logical  \n",
       " 1st Qu.: 6.0   1st Qu.: 3.000   1st Qu.:2017-05-08   FALSE:112721   \n",
       " Median :11.0   Median : 5.000   Median :2017-09-12   TRUE :45595    \n",
       " Mean   :11.5   Mean   : 5.524   Mean   :2017-09-12                  \n",
       " 3rd Qu.:17.0   3rd Qu.: 8.000   3rd Qu.:2018-01-16                  \n",
       " Max.   :23.0   Max.   :12.000   Max.   :2018-05-28                  \n",
       "                                                                     "
      ]
     },
     "metadata": {},
     "output_type": "display_data"
    }
   ],
   "source": [
    "str(ld_aq_gm_combined_data)\n",
    "summary(ld_aq_gm_combined_data)"
   ]
  },
  {
   "cell_type": "code",
   "execution_count": 34,
   "metadata": {
    "collapsed": true
   },
   "outputs": [],
   "source": [
    "#replacing PM2.5 NA with mean values of certain groupings\n",
    "ld_aq_gm_combined_data_PM2.5 <- ld_aq_gm_combined_data %>% \n",
    "                                group_by(stationId, hour, month, weekend) %>% \n",
    "                                summarize(PM2.5 = mean(PM2.5, na.rm = TRUE))\n",
    "ld_aq_gm_combined_data <- ld_aq_gm_combined_data %>% \n",
    "                          left_join(ld_aq_gm_combined_data_PM2.5, c(\"stationId\", \"hour\", \"month\", \"weekend\")) %>% \n",
    "                          mutate(PM2.5 = coalesce(PM2.5.x, PM2.5.y)) %>% \n",
    "                          select(-PM2.5.x, -PM2.5.y)\n",
    "ld_aq_gm_combined_data_PM2.5 <- ld_aq_gm_combined_data %>% \n",
    "                                group_by(stationId, hour, weekend) %>% \n",
    "                                summarize(PM2.5 = mean(PM2.5, na.rm = TRUE))\n",
    "ld_aq_gm_combined_data <- ld_aq_gm_combined_data %>% \n",
    "                          left_join(ld_aq_gm_combined_data_PM2.5, c(\"stationId\", \"hour\", \"weekend\")) %>% \n",
    "                          mutate(PM2.5 = coalesce(PM2.5.x, PM2.5.y)) %>% \n",
    "                          select(-PM2.5.x, -PM2.5.y)"
   ]
  },
  {
   "cell_type": "code",
   "execution_count": 35,
   "metadata": {
    "collapsed": true
   },
   "outputs": [],
   "source": [
    "#replacing PM10 NA with mean values of certain groupings\n",
    "ld_aq_gm_combined_data_PM10 <- ld_aq_gm_combined_data %>% \n",
    "                                group_by(stationId, hour, month, weekend) %>% \n",
    "                                summarize(PM10 = mean(PM10, na.rm = TRUE))\n",
    "ld_aq_gm_combined_data <- ld_aq_gm_combined_data %>% \n",
    "                          left_join(ld_aq_gm_combined_data_PM10, c(\"stationId\", \"hour\", \"month\", \"weekend\")) %>% \n",
    "                          mutate(PM10 = coalesce(PM10.x, PM10.y)) %>% \n",
    "                          select(-PM10.x, -PM10.y)\n",
    "ld_aq_gm_combined_data_PM10 <- ld_aq_gm_combined_data %>% \n",
    "                                group_by(stationId, hour, weekend) %>% \n",
    "                                summarize(PM10 = mean(PM10, na.rm = TRUE))\n",
    "ld_aq_gm_combined_data <- ld_aq_gm_combined_data %>% \n",
    "                          left_join(ld_aq_gm_combined_data_PM10, c(\"stationId\", \"hour\", \"weekend\")) %>% \n",
    "                          mutate(PM10 = coalesce(PM10.x, PM10.y)) %>% \n",
    "                          select(-PM10.x, -PM10.y)"
   ]
  },
  {
   "cell_type": "code",
   "execution_count": 36,
   "metadata": {
    "collapsed": true
   },
   "outputs": [],
   "source": [
    "#replacing O3 NA with mean values of certain groupings\n",
    "ld_aq_gm_combined_data_O3 <- ld_aq_gm_combined_data %>% \n",
    "                                group_by(stationId, hour, month, weekend) %>% \n",
    "                                summarize(O3 = mean(O3, na.rm = TRUE))\n",
    "ld_aq_gm_combined_data <- ld_aq_gm_combined_data %>% \n",
    "                          left_join(ld_aq_gm_combined_data_O3, c(\"stationId\", \"hour\", \"month\", \"weekend\")) %>% \n",
    "                          mutate(O3 = coalesce(O3.x, O3.y)) %>% \n",
    "                          select(-O3.x, -O3.y)\n",
    "ld_aq_gm_combined_data_O3 <- ld_aq_gm_combined_data %>% \n",
    "                                group_by(stationId, hour, weekend) %>% \n",
    "                                summarize(O3 = mean(O3, na.rm = TRUE))\n",
    "ld_aq_gm_combined_data <- ld_aq_gm_combined_data %>% \n",
    "                          left_join(ld_aq_gm_combined_data_O3, c(\"stationId\", \"hour\", \"weekend\")) %>% \n",
    "                          mutate(O3 = coalesce(O3.x, O3.y)) %>% \n",
    "                          select(-O3.x, -O3.y)\n",
    "ld_aq_gm_combined_data_O3 <- ld_aq_gm_combined_data %>% \n",
    "                                group_by(hour, month, weekend) %>% \n",
    "                                summarize(O3 = mean(O3, na.rm = TRUE))\n",
    "ld_aq_gm_combined_data <- ld_aq_gm_combined_data %>% \n",
    "                          left_join(ld_aq_gm_combined_data_O3, c(\"hour\", \"month\", \"weekend\")) %>% \n",
    "                          mutate(O3 = coalesce(O3.x, O3.y)) %>% \n",
    "                          select(-O3.x, -O3.y)"
   ]
  },
  {
   "cell_type": "code",
   "execution_count": 37,
   "metadata": {
    "collapsed": true
   },
   "outputs": [],
   "source": [
    "rm(\"ld_aq_gm_combined_data_PM2.5\")\n",
    "rm(\"ld_aq_gm_combined_data_PM10\")\n",
    "rm(\"ld_aq_gm_combined_data_O3\")"
   ]
  },
  {
   "cell_type": "code",
   "execution_count": 38,
   "metadata": {},
   "outputs": [
    {
     "name": "stdout",
     "output_type": "stream",
     "text": [
      "'data.frame':\t158316 obs. of  15 variables:\n",
      " $ stationId     : Factor w/ 24 levels \"BL0\",\"BX1\",\"BX9\",..: 1 1 1 1 1 1 1 1 1 1 ...\n",
      " $ stationName   : Factor w/ 10 levels \"london_grid_346\",..: 6 6 6 6 6 6 6 6 6 6 ...\n",
      " $ utc_time      : POSIXct, format: \"2018-03-02 08:00:00\" \"2018-04-28 13:00:00\" ...\n",
      " $ temperature   : num  -0.45 11.59 13.16 7.62 12.65 ...\n",
      " $ pressure      : num  991 1006 1013 996 998 ...\n",
      " $ humidity      : num  69.5 66 72.1 77.3 89.6 ...\n",
      " $ wind_direction: num  83.8 353.8 243.8 107 196.1 ...\n",
      " $ wind_speed.kph: num  28.47 9.02 25.64 6.57 9.34 ...\n",
      " $ hour          : int  8 13 5 16 15 3 21 4 13 0 ...\n",
      " $ month         : num  3 4 10 3 11 6 4 10 4 9 ...\n",
      " $ date          : Date, format: \"2018-03-02\" \"2018-04-28\" ...\n",
      " $ weekend       : logi  FALSE TRUE FALSE TRUE TRUE FALSE ...\n",
      " $ PM2.5         : num  10.7 6.2 4.8 28 8.9 ...\n",
      " $ PM10          : num  20.2 7.3 8.3 37 4.9 ...\n",
      " $ O3            : num  38.4 19.7 17.2 54.7 49.3 ...\n"
     ]
    },
    {
     "data": {
      "text/plain": [
       "   stationId              stationName       utc_time                  \n",
       " CD9    :12186   london_grid_451:36534   Min.   :2017-01-01 08:00:00  \n",
       " BL0    :12178   london_grid_430:36533   1st Qu.:2017-05-08 03:00:00  \n",
       " GN0    :12178   london_grid_388:36530   Median :2017-09-12 00:00:00  \n",
       " GN3    :12178   london_grid_409:24364   Mean   :2017-09-12 11:54:56  \n",
       " GR4    :12178   london_grid_472:12178   3rd Qu.:2018-01-16 21:00:00  \n",
       " GR9    :12178   london_grid_408:12177   Max.   :2018-05-28 20:00:00  \n",
       " (Other):85240   (Other)        :    0                                \n",
       "  temperature       pressure         humidity     wind_direction \n",
       " Min.   :-4.37   Min.   : 964.4   Min.   : 7.00   Min.   :  0.0  \n",
       " 1st Qu.: 6.08   1st Qu.:1005.0   1st Qu.:66.70   1st Qu.:148.9  \n",
       " Median :10.28   Median :1012.2   Median :77.46   Median :228.4  \n",
       " Mean   :10.69   Mean   :1010.9   Mean   :75.92   Mean   :207.7  \n",
       " 3rd Qu.:15.14   3rd Qu.:1018.2   3rd Qu.:87.30   3rd Qu.:272.2  \n",
       " Max.   :30.28   Max.   :1035.8   Max.   :99.12   Max.   :360.0  \n",
       "                                                                 \n",
       " wind_speed.kph       hour          month             date           \n",
       " Min.   : 0.12   Min.   : 0.0   Min.   : 1.000   Min.   :2017-01-01  \n",
       " 1st Qu.: 9.76   1st Qu.: 6.0   1st Qu.: 3.000   1st Qu.:2017-05-08  \n",
       " Median :14.28   Median :11.0   Median : 5.000   Median :2017-09-12  \n",
       " Mean   :15.21   Mean   :11.5   Mean   : 5.524   Mean   :2017-09-12  \n",
       " 3rd Qu.:19.74   3rd Qu.:17.0   3rd Qu.: 8.000   3rd Qu.:2018-01-16  \n",
       " Max.   :54.41   Max.   :23.0   Max.   :12.000   Max.   :2018-05-28  \n",
       "                                                                     \n",
       "  weekend            PM2.5            PM10             O3        \n",
       " Mode :logical   Min.   :-8.60   Min.   :-8.90   Min.   : -4.70  \n",
       " FALSE:112721    1st Qu.: 6.90   1st Qu.:12.30   1st Qu.: 24.90  \n",
       " TRUE :45595     Median :10.38   Median :17.60   Median : 39.17  \n",
       "                 Mean   :11.37   Mean   :19.16   Mean   : 41.56  \n",
       "                 3rd Qu.:14.60   3rd Qu.:24.40   3rd Qu.: 54.55  \n",
       "                 Max.   :32.50   Max.   :49.50   Max.   :113.60  \n",
       "                                                                 "
      ]
     },
     "metadata": {},
     "output_type": "display_data"
    }
   ],
   "source": [
    "str(ld_aq_gm_combined_data)\n",
    "summary(ld_aq_gm_combined_data)"
   ]
  },
  {
   "cell_type": "code",
   "execution_count": 39,
   "metadata": {},
   "outputs": [
    {
     "data": {
      "text/html": [
       "<table>\n",
       "<thead><tr><th scope=col>stationId</th><th scope=col>stationName</th><th scope=col>utc_time</th><th scope=col>temperature</th><th scope=col>pressure</th><th scope=col>humidity</th><th scope=col>wind_direction</th><th scope=col>wind_speed.kph</th><th scope=col>hour</th><th scope=col>month</th><th scope=col>date</th><th scope=col>weekend</th><th scope=col>PM2.5</th><th scope=col>PM10</th><th scope=col>O3</th></tr></thead>\n",
       "<tbody>\n",
       "</tbody>\n",
       "</table>\n"
      ],
      "text/latex": [
       "\\begin{tabular}{r|lllllllllllllll}\n",
       " stationId & stationName & utc\\_time & temperature & pressure & humidity & wind\\_direction & wind\\_speed.kph & hour & month & date & weekend & PM2.5 & PM10 & O3\\\\\n",
       "\\hline\n",
       "\\end{tabular}\n"
      ],
      "text/markdown": [
       "\n",
       "stationId | stationName | utc_time | temperature | pressure | humidity | wind_direction | wind_speed.kph | hour | month | date | weekend | PM2.5 | PM10 | O3 | \n",
       "||\n",
       "\n",
       "\n"
      ],
      "text/plain": [
       "     stationId stationName utc_time temperature pressure humidity\n",
       "     wind_direction wind_speed.kph hour month date weekend PM2.5 PM10 O3"
      ]
     },
     "metadata": {},
     "output_type": "display_data"
    }
   ],
   "source": [
    "#validating for no NAs\n",
    "ld_aq_gm_combined_data[!complete.cases(ld_aq_gm_combined_data),]"
   ]
  },
  {
   "cell_type": "code",
   "execution_count": 40,
   "metadata": {
    "collapsed": true
   },
   "outputs": [],
   "source": [
    "# converting logical weekend value to numeric for modeling\n",
    "ld_aq_gm_combined_data$weekend <- as.integer(ld_aq_gm_combined_data$weekend)"
   ]
  },
  {
   "cell_type": "code",
   "execution_count": 41,
   "metadata": {
    "collapsed": true
   },
   "outputs": [],
   "source": [
    "# selecting only required columns\n",
    "ld_aq_gm_combined_data <- \n",
    "ld_aq_gm_combined_data %>% select(c(\"stationName\",\"utc_time\",\"stationId\",\"PM2.5\",\"PM10\", \"O3\",\n",
    "                                    \"temperature\",\"pressure\",\"humidity\",\"wind_direction\",\"wind_speed.kph\", \n",
    "                                    \"hour\", \"month\", \"date\", \"weekend\"))"
   ]
  },
  {
   "cell_type": "code",
   "execution_count": 42,
   "metadata": {
    "collapsed": true
   },
   "outputs": [],
   "source": [
    "# retreiving lat long data \n",
    "ld_lat_long_file <- \"Datasets/London_AirQuality_Stations.csv\"\n",
    "ld_lat_long_data <- read.csv(ld_lat_long_file, header=TRUE, sep=\",\", stringsAsFactors = FALSE)\n",
    "ld_lat_long_data <- ld_lat_long_data %>% select(station_id, Latitude, Longitude)\n",
    "colnames(ld_lat_long_data) <- c(\"stationId\", \"latitude\", \"longitude\")"
   ]
  },
  {
   "cell_type": "code",
   "execution_count": 44,
   "metadata": {
    "collapsed": true
   },
   "outputs": [],
   "source": [
    "ld_aq_gm_combined_data <- merge(ld_aq_gm_combined_data,ld_lat_long_data, by = \"stationId\")"
   ]
  },
  {
   "cell_type": "code",
   "execution_count": 45,
   "metadata": {},
   "outputs": [
    {
     "name": "stdout",
     "output_type": "stream",
     "text": [
      "'data.frame':\t158316 obs. of  17 variables:\n",
      " $ stationId     : Factor w/ 24 levels \"BL0\",\"BX1\",\"BX9\",..: 1 1 1 1 1 1 1 1 1 1 ...\n",
      " $ stationName   : Factor w/ 10 levels \"london_grid_346\",..: 6 6 6 6 6 6 6 6 6 6 ...\n",
      " $ utc_time      : POSIXct, format: \"2018-03-02 08:00:00\" \"2018-04-28 13:00:00\" ...\n",
      " $ PM2.5         : num  10.7 6.2 4.8 28 8.9 ...\n",
      " $ PM10          : num  20.2 7.3 8.3 37 4.9 ...\n",
      " $ O3            : num  38.4 19.7 17.2 54.7 49.3 ...\n",
      " $ temperature   : num  -0.45 11.59 13.16 7.62 12.65 ...\n",
      " $ pressure      : num  991 1006 1013 996 998 ...\n",
      " $ humidity      : num  69.5 66 72.1 77.3 89.6 ...\n",
      " $ wind_direction: num  83.8 353.8 243.8 107 196.1 ...\n",
      " $ wind_speed.kph: num  28.47 9.02 25.64 6.57 9.34 ...\n",
      " $ hour          : int  8 13 5 16 15 3 21 4 13 0 ...\n",
      " $ month         : num  3 4 10 3 11 6 4 10 4 9 ...\n",
      " $ date          : Date, format: \"2018-03-02\" \"2018-04-28\" ...\n",
      " $ weekend       : int  0 1 0 1 1 0 0 0 1 0 ...\n",
      " $ latitude      : num  51.5 51.5 51.5 51.5 51.5 ...\n",
      " $ longitude     : num  -0.126 -0.126 -0.126 -0.126 -0.126 ...\n"
     ]
    },
    {
     "data": {
      "text/html": [
       "<table>\n",
       "<thead><tr><th scope=col>min_date</th><th scope=col>max_date</th></tr></thead>\n",
       "<tbody>\n",
       "\t<tr><td>2017-01-01 08:00:00</td><td>2018-05-28 20:00:00</td></tr>\n",
       "</tbody>\n",
       "</table>\n"
      ],
      "text/latex": [
       "\\begin{tabular}{r|ll}\n",
       " min\\_date & max\\_date\\\\\n",
       "\\hline\n",
       "\t 2017-01-01 08:00:00 & 2018-05-28 20:00:00\\\\\n",
       "\\end{tabular}\n"
      ],
      "text/markdown": [
       "\n",
       "min_date | max_date | \n",
       "|---|\n",
       "| 2017-01-01 08:00:00 | 2018-05-28 20:00:00 | \n",
       "\n",
       "\n"
      ],
      "text/plain": [
       "  min_date            max_date           \n",
       "1 2017-01-01 08:00:00 2018-05-28 20:00:00"
      ]
     },
     "metadata": {},
     "output_type": "display_data"
    },
    {
     "data": {
      "text/plain": [
       "   stationId              stationName       utc_time                  \n",
       " CD9    :12186   london_grid_451:36534   Min.   :2017-01-01 08:00:00  \n",
       " BL0    :12178   london_grid_430:36533   1st Qu.:2017-05-08 03:00:00  \n",
       " GN0    :12178   london_grid_388:36530   Median :2017-09-12 00:00:00  \n",
       " GN3    :12178   london_grid_409:24364   Mean   :2017-09-12 11:54:56  \n",
       " GR4    :12178   london_grid_472:12178   3rd Qu.:2018-01-16 21:00:00  \n",
       " GR9    :12178   london_grid_408:12177   Max.   :2018-05-28 20:00:00  \n",
       " (Other):85240   (Other)        :    0                                \n",
       "     PM2.5            PM10             O3          temperature   \n",
       " Min.   :-8.60   Min.   :-8.90   Min.   : -4.70   Min.   :-4.37  \n",
       " 1st Qu.: 6.90   1st Qu.:12.30   1st Qu.: 24.90   1st Qu.: 6.08  \n",
       " Median :10.38   Median :17.60   Median : 39.17   Median :10.28  \n",
       " Mean   :11.37   Mean   :19.16   Mean   : 41.56   Mean   :10.69  \n",
       " 3rd Qu.:14.60   3rd Qu.:24.40   3rd Qu.: 54.55   3rd Qu.:15.14  \n",
       " Max.   :32.50   Max.   :49.50   Max.   :113.60   Max.   :30.28  \n",
       "                                                                 \n",
       "    pressure         humidity     wind_direction  wind_speed.kph \n",
       " Min.   : 964.4   Min.   : 7.00   Min.   :  0.0   Min.   : 0.12  \n",
       " 1st Qu.:1005.0   1st Qu.:66.70   1st Qu.:148.9   1st Qu.: 9.76  \n",
       " Median :1012.2   Median :77.46   Median :228.4   Median :14.28  \n",
       " Mean   :1010.9   Mean   :75.92   Mean   :207.7   Mean   :15.21  \n",
       " 3rd Qu.:1018.2   3rd Qu.:87.30   3rd Qu.:272.2   3rd Qu.:19.74  \n",
       " Max.   :1035.8   Max.   :99.12   Max.   :360.0   Max.   :54.41  \n",
       "                                                                 \n",
       "      hour          month             date               weekend     \n",
       " Min.   : 0.0   Min.   : 1.000   Min.   :2017-01-01   Min.   :0.000  \n",
       " 1st Qu.: 6.0   1st Qu.: 3.000   1st Qu.:2017-05-08   1st Qu.:0.000  \n",
       " Median :11.0   Median : 5.000   Median :2017-09-12   Median :0.000  \n",
       " Mean   :11.5   Mean   : 5.524   Mean   :2017-09-12   Mean   :0.288  \n",
       " 3rd Qu.:17.0   3rd Qu.: 8.000   3rd Qu.:2018-01-16   3rd Qu.:1.000  \n",
       " Max.   :23.0   Max.   :12.000   Max.   :2018-05-28   Max.   :1.000  \n",
       "                                                                     \n",
       "    latitude       longitude       \n",
       " Min.   :51.39   Min.   :-0.21349  \n",
       " 1st Qu.:51.47   1st Qu.:-0.14166  \n",
       " Median :51.52   Median :-0.03964  \n",
       " Mean   :51.49   Mean   :-0.03861  \n",
       " 3rd Qu.:51.52   3rd Qu.: 0.07077  \n",
       " Max.   :51.54   Max.   : 0.20546  \n",
       "                                   "
      ]
     },
     "metadata": {},
     "output_type": "display_data"
    }
   ],
   "source": [
    "str(ld_aq_gm_combined_data)\n",
    "ld_aq_gm_combined_data %>% summarize(min_date = min(utc_time), max_date = max(utc_time))\n",
    "summary(ld_aq_gm_combined_data)"
   ]
  },
  {
   "cell_type": "markdown",
   "metadata": {},
   "source": [
    "### Model Training and validation"
   ]
  },
  {
   "cell_type": "code",
   "execution_count": 46,
   "metadata": {
    "collapsed": true
   },
   "outputs": [],
   "source": [
    "set.seed(2306)"
   ]
  },
  {
   "cell_type": "code",
   "execution_count": 47,
   "metadata": {
    "collapsed": true
   },
   "outputs": [],
   "source": [
    "# Training and test data set partition\n",
    "sample_size <- floor(0.8 * nrow(ld_aq_gm_combined_data))\n",
    "train_index <- sample(seq_len(nrow(ld_aq_gm_combined_data)), size = sample_size)\n",
    "train_ld <- ld_aq_gm_combined_data[train_index, ]\n",
    "test_ld <- ld_aq_gm_combined_data[-train_index, ]"
   ]
  },
  {
   "cell_type": "code",
   "execution_count": 48,
   "metadata": {},
   "outputs": [
    {
     "name": "stdout",
     "output_type": "stream",
     "text": [
      "'data.frame':\t126652 obs. of  17 variables:\n",
      " $ stationId     : Factor w/ 24 levels \"BL0\",\"BX1\",\"BX9\",..: 8 12 17 12 9 4 1 10 15 8 ...\n",
      " $ stationName   : Factor w/ 10 levels \"london_grid_346\",..: 8 10 5 10 8 4 6 8 4 8 ...\n",
      " $ utc_time      : POSIXct, format: \"2017-12-18 06:00:00\" \"2017-08-03 04:00:00\" ...\n",
      " $ PM2.5         : num  8.1 4.7 9.82 2.8 9.6 ...\n",
      " $ PM10          : num  14.5 12.1 25.8 7.1 12.1 ...\n",
      " $ O3            : num  73.8 16.7 31.7 25.8 34.4 ...\n",
      " $ temperature   : num  8.03 18.67 15.21 21.15 9.22 ...\n",
      " $ pressure      : num  1016 1005 1007 1010 1028 ...\n",
      " $ humidity      : num  93.3 84.5 79.6 54.6 89.4 ...\n",
      " $ wind_direction: num  288 207 195 263 246 ...\n",
      " $ wind_speed.kph: num  14.9 25.2 12.4 15.7 11.3 ...\n",
      " $ hour          : int  6 4 12 1 6 0 0 11 1 3 ...\n",
      " $ month         : num  12 8 8 8 3 11 3 8 10 9 ...\n",
      " $ date          : Date, format: \"2017-12-18\" \"2017-08-03\" ...\n",
      " $ weekend       : int  0 0 0 0 0 1 0 0 1 0 ...\n",
      " $ latitude      : num  51.5 51.5 51.4 51.5 51.5 ...\n",
      " $ longitude     : num  0.074 0.2055 -0.1417 0.2055 0.0951 ...\n",
      "'data.frame':\t31664 obs. of  17 variables:\n",
      " $ stationId     : Factor w/ 24 levels \"BL0\",\"BX1\",\"BX9\",..: 1 1 1 1 1 1 1 1 1 1 ...\n",
      " $ stationName   : Factor w/ 10 levels \"london_grid_346\",..: 6 6 6 6 6 6 6 6 6 6 ...\n",
      " $ utc_time      : POSIXct, format: \"2017-10-05 05:00:00\" \"2017-10-24 04:00:00\" ...\n",
      " $ PM2.5         : num  4.8 7.1 3.4 14.3 13.5 8.4 11 21.8 11 13.8 ...\n",
      " $ PM10          : num  8.3 5.8 15.5 17.1 17.8 15.7 9.6 34.4 19.4 19.6 ...\n",
      " $ O3            : num  17.2 16.4 36.3 29.7 46.1 ...\n",
      " $ temperature   : num  13.16 14.09 6.87 22.51 20.45 ...\n",
      " $ pressure      : num  1013 1014 1013 1014 1020 ...\n",
      " $ humidity      : num  72.1 96.7 75 56.3 49.5 ...\n",
      " $ wind_direction: num  243.8 224.2 284.3 117 32.7 ...\n",
      " $ wind_speed.kph: num  25.64 11.97 4.73 2.94 10.33 ...\n",
      " $ hour          : int  5 4 5 21 18 16 15 8 13 19 ...\n",
      " $ month         : num  10 10 5 5 7 7 9 6 7 2 ...\n",
      " $ date          : Date, format: \"2017-10-05\" \"2017-10-24\" ...\n",
      " $ weekend       : int  0 0 0 1 0 0 0 0 0 1 ...\n",
      " $ latitude      : num  51.5 51.5 51.5 51.5 51.5 ...\n",
      " $ longitude     : num  -0.126 -0.126 -0.126 -0.126 -0.126 ...\n"
     ]
    }
   ],
   "source": [
    "str(train_ld)\n",
    "str(test_ld)"
   ]
  },
  {
   "cell_type": "code",
   "execution_count": 49,
   "metadata": {},
   "outputs": [
    {
     "data": {
      "text/plain": [
       "\n",
       "Call:\n",
       "lm(formula = .outcome ~ ., data = dat)\n",
       "\n",
       "Residuals:\n",
       "     Min       1Q   Median       3Q      Max \n",
       "-18.8229  -4.3904  -0.9288   3.0121  24.4960 \n",
       "\n",
       "Coefficients:\n",
       "             Estimate Std. Error t value Pr(>|t|)    \n",
       "(Intercept) 12.384942  22.485145   0.551    0.582    \n",
       "longitude   -5.736287   0.144138 -39.797   <2e-16 ***\n",
       "latitude    -0.021891   0.436670  -0.050    0.960    \n",
       "hour         0.090201   0.002538  35.543   <2e-16 ***\n",
       "month       -0.232270   0.005137 -45.216   <2e-16 ***\n",
       "weekend      0.456488   0.038706  11.794   <2e-16 ***\n",
       "---\n",
       "Signif. codes:  0 '***' 0.001 '**' 0.01 '*' 0.05 '.' 0.1 ' ' 1\n",
       "\n",
       "Residual standard error: 6.243 on 126646 degrees of freedom\n",
       "Multiple R-squared:  0.03867,\tAdjusted R-squared:  0.03863 \n",
       "F-statistic:  1019 on 5 and 126646 DF,  p-value: < 2.2e-16\n"
      ]
     },
     "metadata": {},
     "output_type": "display_data"
    },
    {
     "data": {
      "text/html": [
       "<table>\n",
       "<thead><tr><th scope=col>rmse</th><th scope=col>rsq</th></tr></thead>\n",
       "<tbody>\n",
       "\t<tr><td>6.307451 </td><td>0.0363391</td></tr>\n",
       "</tbody>\n",
       "</table>\n"
      ],
      "text/latex": [
       "\\begin{tabular}{r|ll}\n",
       " rmse & rsq\\\\\n",
       "\\hline\n",
       "\t 6.307451  & 0.0363391\\\\\n",
       "\\end{tabular}\n"
      ],
      "text/markdown": [
       "\n",
       "rmse | rsq | \n",
       "|---|\n",
       "| 6.307451  | 0.0363391 | \n",
       "\n",
       "\n"
      ],
      "text/plain": [
       "  rmse     rsq      \n",
       "1 6.307451 0.0363391"
      ]
     },
     "metadata": {},
     "output_type": "display_data"
    }
   ],
   "source": [
    "# Predicting PM2.5 using stationId, hour, month and weekend variables\n",
    "PM2.5_ld_formula <- as.formula(\"PM2.5 ~ longitude + latitude + hour + month + weekend\")\n",
    "PM2.5_ld_model <- train(PM2.5_ld_formula, data = train_ld, method = \"lm\" )\n",
    "summary(PM2.5_ld_model)\n",
    "test_ld$PM2.5_pred <- predict(PM2.5_ld_model, test_ld)\n",
    "metrics(test_ld, truth = PM2.5, estimate = PM2.5_pred)"
   ]
  },
  {
   "cell_type": "code",
   "execution_count": 53,
   "metadata": {},
   "outputs": [
    {
     "data": {
      "text/plain": [
       "\n",
       "Call:\n",
       "lm(formula = .outcome ~ ., data = dat)\n",
       "\n",
       "Residuals:\n",
       "    Min      1Q  Median      3Q     Max \n",
       "-29.910  -3.912  -1.051   2.622  37.965 \n",
       "\n",
       "Coefficients:\n",
       "              Estimate Std. Error t value Pr(>|t|)    \n",
       "(Intercept)  1.483e+03  2.476e+01  59.914   <2e-16 ***\n",
       "PM2.5        1.016e+00  3.094e-03 328.471   <2e-16 ***\n",
       "longitude    2.131e-01  1.597e-01   1.335    0.182    \n",
       "latitude    -2.865e+01  4.808e-01 -59.586   <2e-16 ***\n",
       "hour         4.112e-02  2.808e-03  14.643   <2e-16 ***\n",
       "month       -9.382e-02  5.701e-03 -16.456   <2e-16 ***\n",
       "weekend     -1.428e+00  4.264e-02 -33.480   <2e-16 ***\n",
       "---\n",
       "Signif. codes:  0 '***' 0.001 '**' 0.01 '*' 0.05 '.' 0.1 ' ' 1\n",
       "\n",
       "Residual standard error: 6.874 on 126645 degrees of freedom\n",
       "Multiple R-squared:  0.483,\tAdjusted R-squared:  0.483 \n",
       "F-statistic: 1.972e+04 on 6 and 126645 DF,  p-value: < 2.2e-16\n"
      ]
     },
     "metadata": {},
     "output_type": "display_data"
    },
    {
     "data": {
      "text/html": [
       "<table>\n",
       "<thead><tr><th scope=col>rmse</th><th scope=col>rsq</th></tr></thead>\n",
       "<tbody>\n",
       "\t<tr><td>6.877007 </td><td>0.4919387</td></tr>\n",
       "</tbody>\n",
       "</table>\n"
      ],
      "text/latex": [
       "\\begin{tabular}{r|ll}\n",
       " rmse & rsq\\\\\n",
       "\\hline\n",
       "\t 6.877007  & 0.4919387\\\\\n",
       "\\end{tabular}\n"
      ],
      "text/markdown": [
       "\n",
       "rmse | rsq | \n",
       "|---|\n",
       "| 6.877007  | 0.4919387 | \n",
       "\n",
       "\n"
      ],
      "text/plain": [
       "  rmse     rsq      \n",
       "1 6.877007 0.4919387"
      ]
     },
     "metadata": {},
     "output_type": "display_data"
    }
   ],
   "source": [
    "# Predicting PM10 using stationId, hour, month, weekend variables along with previously predicted PM2.5 \n",
    "PM10_ld_formula <- as.formula(\"PM10 ~ PM2.5 + longitude + latitude + hour + month + weekend\")\n",
    "PM10_ld_model <- train(PM10_ld_formula, data = train_ld, method = \"lm\" )\n",
    "summary(PM10_ld_model)\n",
    "test_ld$PM10_pred <- predict(PM10_ld_model, test_ld)\n",
    "metrics(test_ld, truth = PM10, estimate = PM10_pred)"
   ]
  },
  {
   "cell_type": "code",
   "execution_count": 51,
   "metadata": {},
   "outputs": [
    {
     "data": {
      "text/plain": [
       "\n",
       "Call:\n",
       "lm(formula = .outcome ~ ., data = dat)\n",
       "\n",
       "Residuals:\n",
       "   Min     1Q Median     3Q    Max \n",
       "-62.20 -13.23  -2.97  11.00  84.72 \n",
       "\n",
       "Coefficients:\n",
       "              Estimate Std. Error  t value Pr(>|t|)    \n",
       "(Intercept) -8.478e+03  6.832e+01 -124.098  < 2e-16 ***\n",
       "PM2.5        3.906e-01  1.146e-02   34.092  < 2e-16 ***\n",
       "PM10         6.149e-01  7.647e-03   80.407  < 2e-16 ***\n",
       "longitude   -2.794e+01  4.346e-01  -64.293  < 2e-16 ***\n",
       "latitude     1.650e+02  1.327e+00  124.405  < 2e-16 ***\n",
       "hour         5.414e-01  7.648e-03   70.793  < 2e-16 ***\n",
       "month       -7.800e-02  1.553e-02   -5.022 5.12e-07 ***\n",
       "weekend     -5.299e+00  1.166e-01  -45.462  < 2e-16 ***\n",
       "---\n",
       "Signif. codes:  0 '***' 0.001 '**' 0.01 '*' 0.05 '.' 0.1 ' ' 1\n",
       "\n",
       "Residual standard error: 18.71 on 126644 degrees of freedom\n",
       "Multiple R-squared:  0.2991,\tAdjusted R-squared:  0.2991 \n",
       "F-statistic:  7721 on 7 and 126644 DF,  p-value: < 2.2e-16\n"
      ]
     },
     "metadata": {},
     "output_type": "display_data"
    },
    {
     "data": {
      "text/html": [
       "<table>\n",
       "<thead><tr><th scope=col>rmse</th><th scope=col>rsq</th></tr></thead>\n",
       "<tbody>\n",
       "\t<tr><td>18.84163 </td><td>0.2948813</td></tr>\n",
       "</tbody>\n",
       "</table>\n"
      ],
      "text/latex": [
       "\\begin{tabular}{r|ll}\n",
       " rmse & rsq\\\\\n",
       "\\hline\n",
       "\t 18.84163  & 0.2948813\\\\\n",
       "\\end{tabular}\n"
      ],
      "text/markdown": [
       "\n",
       "rmse | rsq | \n",
       "|---|\n",
       "| 18.84163  | 0.2948813 | \n",
       "\n",
       "\n"
      ],
      "text/plain": [
       "  rmse     rsq      \n",
       "1 18.84163 0.2948813"
      ]
     },
     "metadata": {},
     "output_type": "display_data"
    }
   ],
   "source": [
    "# Predicting O3 using stationId, hour, month, weekend variables along with previously predicted PM2.5, PM10 and O3 variables\n",
    "O3_ld_formula <- as.formula(\"O3 ~ PM2.5 + PM10 + longitude + latitude + hour + month + weekend\")\n",
    "O3_ld_model <- train(O3_ld_formula, data = train_ld, method = \"lm\" )\n",
    "summary(O3_ld_model)\n",
    "test_ld$O3_pred <- predict(O3_ld_model, test_ld)\n",
    "metrics(test_ld, truth = O3, estimate = O3_pred)"
   ]
  },
  {
   "cell_type": "code",
   "execution_count": 54,
   "metadata": {
    "collapsed": true
   },
   "outputs": [],
   "source": [
    "rm(\"train_ld\")\n",
    "rm(\"test_ld\")"
   ]
  },
  {
   "cell_type": "markdown",
   "metadata": {},
   "source": [
    "### Building the next 2 days dataset and predicting PM2.5, PM10 and O3 values"
   ]
  },
  {
   "cell_type": "code",
   "execution_count": 76,
   "metadata": {
    "collapsed": true
   },
   "outputs": [],
   "source": [
    "#setting system timezone to UTC for consistent datetime usage\n",
    "Sys.setenv(TZ='GMT')\n",
    "tomorrow <- Sys.Date() + 1"
   ]
  },
  {
   "cell_type": "code",
   "execution_count": 77,
   "metadata": {
    "collapsed": true
   },
   "outputs": [],
   "source": [
    "# building 1 hour intervals for next 2 days and stationIds\n",
    "ld_time <-seq(from= as.POSIXct(tomorrow), by = \"1 hour\", length.out = 48)\n",
    "ld_time <- with_tz(ld_time, tzone = \"UTC\")\n",
    "ld_future_data <- data.frame(ld_time)\n",
    "# This id will be used in the creation of final submission file\n",
    "ld_future_data$id <- seq.int(nrow(ld_future_data)) -1\n",
    "ld_future_data <- merge(ld_future_data, data.frame(unique(ld_aq_gm_combined_data$stationId)))\n",
    "names(ld_future_data) <- c(\"utc_time\", \"id\", \"stationId\")"
   ]
  },
  {
   "cell_type": "code",
   "execution_count": 78,
   "metadata": {
    "collapsed": true
   },
   "outputs": [],
   "source": [
    "# building datetime features for the next 2 days\n",
    "ld_future_data$hour <- hour(ld_future_data$utc_time)\n",
    "ld_future_data$month <- month(ld_future_data$utc_time)\n",
    "ld_future_data$date <- date(ld_future_data$utc_time)\n",
    "ld_future_data$weekend = chron::is.weekend(ld_future_data$date)"
   ]
  },
  {
   "cell_type": "code",
   "execution_count": 79,
   "metadata": {
    "collapsed": true
   },
   "outputs": [],
   "source": [
    "ld_future_data$weekend <- as.integer(ld_future_data$weekend)"
   ]
  },
  {
   "cell_type": "code",
   "execution_count": 82,
   "metadata": {
    "collapsed": true
   },
   "outputs": [],
   "source": [
    "# lat long data\n",
    "ld_future_data <- merge(ld_future_data,ld_lat_long_data, by = \"stationId\")"
   ]
  },
  {
   "cell_type": "code",
   "execution_count": 85,
   "metadata": {
    "collapsed": true
   },
   "outputs": [],
   "source": [
    "# predicting PM2.5, PM10 and O3 values\n",
    "ld_future_data$PM2.5 <- predict(PM2.5_ld_model, ld_future_data)\n",
    "ld_future_data$PM10 <- predict(PM10_ld_model, ld_future_data)\n",
    "ld_future_data$O3 <- predict(O3_ld_model, ld_future_data)"
   ]
  },
  {
   "cell_type": "code",
   "execution_count": 86,
   "metadata": {
    "collapsed": true
   },
   "outputs": [],
   "source": [
    "#creating the test_id for final submission file\n",
    "ld_future_data$test_id <- paste(ld_future_data$stationId, \"#\", ld_future_data$id, sep = \"\")"
   ]
  },
  {
   "cell_type": "code",
   "execution_count": 89,
   "metadata": {},
   "outputs": [
    {
     "name": "stdout",
     "output_type": "stream",
     "text": [
      "'data.frame':\t624 obs. of  13 variables:\n",
      " $ stationId: Factor w/ 24 levels \"BL0\",\"BX1\",\"BX9\",..: 1 1 1 1 1 1 1 1 1 1 ...\n",
      " $ utc_time : POSIXct, format: \"2018-05-29 00:00:00\" \"2018-05-29 01:00:00\" ...\n",
      " $ id       : num  0 1 2 3 4 5 6 7 8 9 ...\n",
      " $ hour     : int  0 1 2 3 4 5 6 7 8 9 ...\n",
      " $ month    : int  5 5 5 5 5 5 5 5 5 5 ...\n",
      " $ date     : Date, format: \"2018-05-29\" \"2018-05-29\" ...\n",
      " $ weekend  : int  0 0 0 0 0 0 0 0 0 0 ...\n",
      " $ latitude : num  51.5 51.5 51.5 51.5 51.5 ...\n",
      " $ longitude: num  -0.126 -0.126 -0.126 -0.126 -0.126 ...\n",
      " $ PM2.5    : num  13 13.1 13.2 13.3 13.3 ...\n",
      " $ PM10     : num  19.5 19.7 19.8 20 20.1 ...\n",
      " $ O3       : num  45.3 46 46.7 47.4 48.1 ...\n",
      " $ test_id  : chr  \"BL0#0\" \"BL0#1\" \"BL0#2\" \"BL0#3\" ...\n"
     ]
    },
    {
     "data": {
      "text/plain": [
       "   stationId      utc_time                         id             hour      \n",
       " BL0    : 48   Min.   :2018-05-29 00:00:00   Min.   : 0.00   Min.   : 0.00  \n",
       " CD1    : 48   1st Qu.:2018-05-29 11:45:00   1st Qu.:11.75   1st Qu.: 5.75  \n",
       " CD9    : 48   Median :2018-05-29 23:30:00   Median :23.50   Median :11.50  \n",
       " GN0    : 48   Mean   :2018-05-29 23:30:00   Mean   :23.50   Mean   :11.50  \n",
       " GN3    : 48   3rd Qu.:2018-05-30 11:15:00   3rd Qu.:35.25   3rd Qu.:17.25  \n",
       " GR4    : 48   Max.   :2018-05-30 23:00:00   Max.   :47.00   Max.   :23.00  \n",
       " (Other):336                                                                \n",
       "     month        date               weekend     latitude    \n",
       " Min.   :5   Min.   :2018-05-29   Min.   :0   Min.   :51.39  \n",
       " 1st Qu.:5   1st Qu.:2018-05-29   1st Qu.:0   1st Qu.:51.47  \n",
       " Median :5   Median :2018-05-29   Median :0   Median :51.52  \n",
       " Mean   :5   Mean   :2018-05-29   Mean   :0   Mean   :51.49  \n",
       " 3rd Qu.:5   3rd Qu.:2018-05-30   3rd Qu.:0   3rd Qu.:51.52  \n",
       " Max.   :5   Max.   :2018-05-30   Max.   :0   Max.   :51.54  \n",
       "                                                             \n",
       "   longitude            PM2.5            PM10             O3       \n",
       " Min.   :-0.21349   Min.   :11.21   Min.   :17.15   Min.   :23.48  \n",
       " 1st Qu.:-0.14166   1st Qu.:13.11   1st Qu.:20.37   1st Qu.:36.70  \n",
       " Median :-0.03964   Median :13.73   Median :21.52   Median :45.02  \n",
       " Mean   :-0.03861   Mean   :13.71   Mean   :21.74   Mean   :45.17  \n",
       " 3rd Qu.: 0.07077   3rd Qu.:14.33   3rd Qu.:22.58   3rd Qu.:53.61  \n",
       " Max.   : 0.20546   Max.   :16.05   Max.   :28.67   Max.   :67.37  \n",
       "                                                                   \n",
       "   test_id         \n",
       " Length:624        \n",
       " Class :character  \n",
       " Mode  :character  \n",
       "                   \n",
       "                   \n",
       "                   \n",
       "                   "
      ]
     },
     "metadata": {},
     "output_type": "display_data"
    },
    {
     "data": {
      "text/html": [
       "<table>\n",
       "<thead><tr><th scope=col>min_date</th><th scope=col>max_date</th></tr></thead>\n",
       "<tbody>\n",
       "\t<tr><td>2018-05-29         </td><td>2018-05-30 23:00:00</td></tr>\n",
       "</tbody>\n",
       "</table>\n"
      ],
      "text/latex": [
       "\\begin{tabular}{r|ll}\n",
       " min\\_date & max\\_date\\\\\n",
       "\\hline\n",
       "\t 2018-05-29          & 2018-05-30 23:00:00\\\\\n",
       "\\end{tabular}\n"
      ],
      "text/markdown": [
       "\n",
       "min_date | max_date | \n",
       "|---|\n",
       "| 2018-05-29          | 2018-05-30 23:00:00 | \n",
       "\n",
       "\n"
      ],
      "text/plain": [
       "  min_date   max_date           \n",
       "1 2018-05-29 2018-05-30 23:00:00"
      ]
     },
     "metadata": {},
     "output_type": "display_data"
    }
   ],
   "source": [
    "str(ld_future_data)\n",
    "summary(ld_future_data)\n",
    "ld_future_data %>% summarize(min_date = min(utc_time ), max_date = max(utc_time ))"
   ]
  },
  {
   "cell_type": "code",
   "execution_count": 88,
   "metadata": {},
   "outputs": [
    {
     "data": {
      "text/html": [
       "<table>\n",
       "<thead><tr><th scope=col>stationId</th><th scope=col>utc_time</th><th scope=col>id</th><th scope=col>hour</th><th scope=col>month</th><th scope=col>date</th><th scope=col>weekend</th><th scope=col>latitude</th><th scope=col>longitude</th><th scope=col>PM2.5</th><th scope=col>PM10</th><th scope=col>O3</th><th scope=col>test_id</th></tr></thead>\n",
       "<tbody>\n",
       "\t<tr><td>BL0                </td><td>2018-05-29 00:00:00</td><td> 0                 </td><td> 0                 </td><td>5                  </td><td>2018-05-29         </td><td>0                  </td><td>51.52229           </td><td>-0.125848          </td><td>13.01298           </td><td>19.52435           </td><td>45.27820           </td><td>BL0#0              </td></tr>\n",
       "\t<tr><td>BL0                </td><td>2018-05-29 01:00:00</td><td> 1                 </td><td> 1                 </td><td>5                  </td><td>2018-05-29         </td><td>0                  </td><td>51.52229           </td><td>-0.125848          </td><td>13.09560           </td><td>19.66696           </td><td>45.99015           </td><td>BL0#1              </td></tr>\n",
       "\t<tr><td>BL0                </td><td>2018-05-29 02:00:00</td><td> 2                 </td><td> 2                 </td><td>5                  </td><td>2018-05-29         </td><td>0                  </td><td>51.52229           </td><td>-0.125848          </td><td>13.17822           </td><td>19.80957           </td><td>46.70210           </td><td>BL0#2              </td></tr>\n",
       "\t<tr><td>BL0                </td><td>2018-05-29 03:00:00</td><td> 3                 </td><td> 3                 </td><td>5                  </td><td>2018-05-29         </td><td>0                  </td><td>51.52229           </td><td>-0.125848          </td><td>13.26084           </td><td>19.95219           </td><td>47.41405           </td><td>BL0#3              </td></tr>\n",
       "\t<tr><td>BL0                </td><td>2018-05-29 04:00:00</td><td> 4                 </td><td> 4                 </td><td>5                  </td><td>2018-05-29         </td><td>0                  </td><td>51.52229           </td><td>-0.125848          </td><td>13.34346           </td><td>20.09480           </td><td>48.12600           </td><td>BL0#4              </td></tr>\n",
       "\t<tr><td>BL0                </td><td>2018-05-29 05:00:00</td><td> 5                 </td><td> 5                 </td><td>5                  </td><td>2018-05-29         </td><td>0                  </td><td>51.52229           </td><td>-0.125848          </td><td>13.42608           </td><td>20.23741           </td><td>48.83794           </td><td>BL0#5              </td></tr>\n",
       "\t<tr><td>BL0                </td><td>2018-05-29 06:00:00</td><td> 6                 </td><td> 6                 </td><td>5                  </td><td>2018-05-29         </td><td>0                  </td><td>51.52229           </td><td>-0.125848          </td><td>13.50870           </td><td>20.38002           </td><td>49.54989           </td><td>BL0#6              </td></tr>\n",
       "\t<tr><td>BL0                </td><td>2018-05-29 07:00:00</td><td> 7                 </td><td> 7                 </td><td>5                  </td><td>2018-05-29         </td><td>0                  </td><td>51.52229           </td><td>-0.125848          </td><td>13.59132           </td><td>20.52264           </td><td>50.26184           </td><td>BL0#7              </td></tr>\n",
       "\t<tr><td>BL0                </td><td>2018-05-29 08:00:00</td><td> 8                 </td><td> 8                 </td><td>5                  </td><td>2018-05-29         </td><td>0                  </td><td>51.52229           </td><td>-0.125848          </td><td>13.67394           </td><td>20.66525           </td><td>50.97379           </td><td>BL0#8              </td></tr>\n",
       "\t<tr><td>BL0                </td><td>2018-05-29 09:00:00</td><td> 9                 </td><td> 9                 </td><td>5                  </td><td>2018-05-29         </td><td>0                  </td><td>51.52229           </td><td>-0.125848          </td><td>13.75656           </td><td>20.80786           </td><td>51.68574           </td><td>BL0#9              </td></tr>\n",
       "\t<tr><td>BL0                </td><td>2018-05-29 10:00:00</td><td>10                 </td><td>10                 </td><td>5                  </td><td>2018-05-29         </td><td>0                  </td><td>51.52229           </td><td>-0.125848          </td><td>13.83918           </td><td>20.95048           </td><td>52.39769           </td><td>BL0#10             </td></tr>\n",
       "\t<tr><td>BL0                </td><td>2018-05-29 11:00:00</td><td>11                 </td><td>11                 </td><td>5                  </td><td>2018-05-29         </td><td>0                  </td><td>51.52229           </td><td>-0.125848          </td><td>13.92180           </td><td>21.09309           </td><td>53.10963           </td><td>BL0#11             </td></tr>\n",
       "\t<tr><td>BL0                </td><td>2018-05-29 12:00:00</td><td>12                 </td><td>12                 </td><td>5                  </td><td>2018-05-29         </td><td>0                  </td><td>51.52229           </td><td>-0.125848          </td><td>14.00442           </td><td>21.23570           </td><td>53.82158           </td><td>BL0#12             </td></tr>\n",
       "\t<tr><td>BL0                </td><td>2018-05-29 13:00:00</td><td>13                 </td><td>13                 </td><td>5                  </td><td>2018-05-29         </td><td>0                  </td><td>51.52229           </td><td>-0.125848          </td><td>14.08704           </td><td>21.37831           </td><td>54.53353           </td><td>BL0#13             </td></tr>\n",
       "\t<tr><td>BL0                </td><td>2018-05-29 14:00:00</td><td>14                 </td><td>14                 </td><td>5                  </td><td>2018-05-29         </td><td>0                  </td><td>51.52229           </td><td>-0.125848          </td><td>14.16966           </td><td>21.52093           </td><td>55.24548           </td><td>BL0#14             </td></tr>\n",
       "\t<tr><td>BL0                </td><td>2018-05-29 15:00:00</td><td>15                 </td><td>15                 </td><td>5                  </td><td>2018-05-29         </td><td>0                  </td><td>51.52229           </td><td>-0.125848          </td><td>14.25228           </td><td>21.66354           </td><td>55.95743           </td><td>BL0#15             </td></tr>\n",
       "\t<tr><td>BL0                </td><td>2018-05-29 16:00:00</td><td>16                 </td><td>16                 </td><td>5                  </td><td>2018-05-29         </td><td>0                  </td><td>51.52229           </td><td>-0.125848          </td><td>14.33490           </td><td>21.80615           </td><td>56.66938           </td><td>BL0#16             </td></tr>\n",
       "\t<tr><td>BL0                </td><td>2018-05-29 17:00:00</td><td>17                 </td><td>17                 </td><td>5                  </td><td>2018-05-29         </td><td>0                  </td><td>51.52229           </td><td>-0.125848          </td><td>14.41752           </td><td>21.94877           </td><td>57.38132           </td><td>BL0#17             </td></tr>\n",
       "\t<tr><td>BL0                </td><td>2018-05-29 18:00:00</td><td>18                 </td><td>18                 </td><td>5                  </td><td>2018-05-29         </td><td>0                  </td><td>51.52229           </td><td>-0.125848          </td><td>14.50014           </td><td>22.09138           </td><td>58.09327           </td><td>BL0#18             </td></tr>\n",
       "\t<tr><td>BL0                </td><td>2018-05-29 19:00:00</td><td>19                 </td><td>19                 </td><td>5                  </td><td>2018-05-29         </td><td>0                  </td><td>51.52229           </td><td>-0.125848          </td><td>14.58276           </td><td>22.23399           </td><td>58.80522           </td><td>BL0#19             </td></tr>\n",
       "</tbody>\n",
       "</table>\n"
      ],
      "text/latex": [
       "\\begin{tabular}{r|lllllllllllll}\n",
       " stationId & utc\\_time & id & hour & month & date & weekend & latitude & longitude & PM2.5 & PM10 & O3 & test\\_id\\\\\n",
       "\\hline\n",
       "\t BL0                 & 2018-05-29 00:00:00 &  0                  &  0                  & 5                   & 2018-05-29          & 0                   & 51.52229            & -0.125848           & 13.01298            & 19.52435            & 45.27820            & BL0\\#0            \\\\\n",
       "\t BL0                 & 2018-05-29 01:00:00 &  1                  &  1                  & 5                   & 2018-05-29          & 0                   & 51.52229            & -0.125848           & 13.09560            & 19.66696            & 45.99015            & BL0\\#1            \\\\\n",
       "\t BL0                 & 2018-05-29 02:00:00 &  2                  &  2                  & 5                   & 2018-05-29          & 0                   & 51.52229            & -0.125848           & 13.17822            & 19.80957            & 46.70210            & BL0\\#2            \\\\\n",
       "\t BL0                 & 2018-05-29 03:00:00 &  3                  &  3                  & 5                   & 2018-05-29          & 0                   & 51.52229            & -0.125848           & 13.26084            & 19.95219            & 47.41405            & BL0\\#3            \\\\\n",
       "\t BL0                 & 2018-05-29 04:00:00 &  4                  &  4                  & 5                   & 2018-05-29          & 0                   & 51.52229            & -0.125848           & 13.34346            & 20.09480            & 48.12600            & BL0\\#4            \\\\\n",
       "\t BL0                 & 2018-05-29 05:00:00 &  5                  &  5                  & 5                   & 2018-05-29          & 0                   & 51.52229            & -0.125848           & 13.42608            & 20.23741            & 48.83794            & BL0\\#5            \\\\\n",
       "\t BL0                 & 2018-05-29 06:00:00 &  6                  &  6                  & 5                   & 2018-05-29          & 0                   & 51.52229            & -0.125848           & 13.50870            & 20.38002            & 49.54989            & BL0\\#6            \\\\\n",
       "\t BL0                 & 2018-05-29 07:00:00 &  7                  &  7                  & 5                   & 2018-05-29          & 0                   & 51.52229            & -0.125848           & 13.59132            & 20.52264            & 50.26184            & BL0\\#7            \\\\\n",
       "\t BL0                 & 2018-05-29 08:00:00 &  8                  &  8                  & 5                   & 2018-05-29          & 0                   & 51.52229            & -0.125848           & 13.67394            & 20.66525            & 50.97379            & BL0\\#8            \\\\\n",
       "\t BL0                 & 2018-05-29 09:00:00 &  9                  &  9                  & 5                   & 2018-05-29          & 0                   & 51.52229            & -0.125848           & 13.75656            & 20.80786            & 51.68574            & BL0\\#9            \\\\\n",
       "\t BL0                 & 2018-05-29 10:00:00 & 10                  & 10                  & 5                   & 2018-05-29          & 0                   & 51.52229            & -0.125848           & 13.83918            & 20.95048            & 52.39769            & BL0\\#10           \\\\\n",
       "\t BL0                 & 2018-05-29 11:00:00 & 11                  & 11                  & 5                   & 2018-05-29          & 0                   & 51.52229            & -0.125848           & 13.92180            & 21.09309            & 53.10963            & BL0\\#11           \\\\\n",
       "\t BL0                 & 2018-05-29 12:00:00 & 12                  & 12                  & 5                   & 2018-05-29          & 0                   & 51.52229            & -0.125848           & 14.00442            & 21.23570            & 53.82158            & BL0\\#12           \\\\\n",
       "\t BL0                 & 2018-05-29 13:00:00 & 13                  & 13                  & 5                   & 2018-05-29          & 0                   & 51.52229            & -0.125848           & 14.08704            & 21.37831            & 54.53353            & BL0\\#13           \\\\\n",
       "\t BL0                 & 2018-05-29 14:00:00 & 14                  & 14                  & 5                   & 2018-05-29          & 0                   & 51.52229            & -0.125848           & 14.16966            & 21.52093            & 55.24548            & BL0\\#14           \\\\\n",
       "\t BL0                 & 2018-05-29 15:00:00 & 15                  & 15                  & 5                   & 2018-05-29          & 0                   & 51.52229            & -0.125848           & 14.25228            & 21.66354            & 55.95743            & BL0\\#15           \\\\\n",
       "\t BL0                 & 2018-05-29 16:00:00 & 16                  & 16                  & 5                   & 2018-05-29          & 0                   & 51.52229            & -0.125848           & 14.33490            & 21.80615            & 56.66938            & BL0\\#16           \\\\\n",
       "\t BL0                 & 2018-05-29 17:00:00 & 17                  & 17                  & 5                   & 2018-05-29          & 0                   & 51.52229            & -0.125848           & 14.41752            & 21.94877            & 57.38132            & BL0\\#17           \\\\\n",
       "\t BL0                 & 2018-05-29 18:00:00 & 18                  & 18                  & 5                   & 2018-05-29          & 0                   & 51.52229            & -0.125848           & 14.50014            & 22.09138            & 58.09327            & BL0\\#18           \\\\\n",
       "\t BL0                 & 2018-05-29 19:00:00 & 19                  & 19                  & 5                   & 2018-05-29          & 0                   & 51.52229            & -0.125848           & 14.58276            & 22.23399            & 58.80522            & BL0\\#19           \\\\\n",
       "\\end{tabular}\n"
      ],
      "text/markdown": [
       "\n",
       "stationId | utc_time | id | hour | month | date | weekend | latitude | longitude | PM2.5 | PM10 | O3 | test_id | \n",
       "|---|---|---|---|---|---|---|---|---|---|---|---|---|---|---|---|---|---|---|---|\n",
       "| BL0                 | 2018-05-29 00:00:00 |  0                  |  0                  | 5                   | 2018-05-29          | 0                   | 51.52229            | -0.125848           | 13.01298            | 19.52435            | 45.27820            | BL0#0               | \n",
       "| BL0                 | 2018-05-29 01:00:00 |  1                  |  1                  | 5                   | 2018-05-29          | 0                   | 51.52229            | -0.125848           | 13.09560            | 19.66696            | 45.99015            | BL0#1               | \n",
       "| BL0                 | 2018-05-29 02:00:00 |  2                  |  2                  | 5                   | 2018-05-29          | 0                   | 51.52229            | -0.125848           | 13.17822            | 19.80957            | 46.70210            | BL0#2               | \n",
       "| BL0                 | 2018-05-29 03:00:00 |  3                  |  3                  | 5                   | 2018-05-29          | 0                   | 51.52229            | -0.125848           | 13.26084            | 19.95219            | 47.41405            | BL0#3               | \n",
       "| BL0                 | 2018-05-29 04:00:00 |  4                  |  4                  | 5                   | 2018-05-29          | 0                   | 51.52229            | -0.125848           | 13.34346            | 20.09480            | 48.12600            | BL0#4               | \n",
       "| BL0                 | 2018-05-29 05:00:00 |  5                  |  5                  | 5                   | 2018-05-29          | 0                   | 51.52229            | -0.125848           | 13.42608            | 20.23741            | 48.83794            | BL0#5               | \n",
       "| BL0                 | 2018-05-29 06:00:00 |  6                  |  6                  | 5                   | 2018-05-29          | 0                   | 51.52229            | -0.125848           | 13.50870            | 20.38002            | 49.54989            | BL0#6               | \n",
       "| BL0                 | 2018-05-29 07:00:00 |  7                  |  7                  | 5                   | 2018-05-29          | 0                   | 51.52229            | -0.125848           | 13.59132            | 20.52264            | 50.26184            | BL0#7               | \n",
       "| BL0                 | 2018-05-29 08:00:00 |  8                  |  8                  | 5                   | 2018-05-29          | 0                   | 51.52229            | -0.125848           | 13.67394            | 20.66525            | 50.97379            | BL0#8               | \n",
       "| BL0                 | 2018-05-29 09:00:00 |  9                  |  9                  | 5                   | 2018-05-29          | 0                   | 51.52229            | -0.125848           | 13.75656            | 20.80786            | 51.68574            | BL0#9               | \n",
       "| BL0                 | 2018-05-29 10:00:00 | 10                  | 10                  | 5                   | 2018-05-29          | 0                   | 51.52229            | -0.125848           | 13.83918            | 20.95048            | 52.39769            | BL0#10              | \n",
       "| BL0                 | 2018-05-29 11:00:00 | 11                  | 11                  | 5                   | 2018-05-29          | 0                   | 51.52229            | -0.125848           | 13.92180            | 21.09309            | 53.10963            | BL0#11              | \n",
       "| BL0                 | 2018-05-29 12:00:00 | 12                  | 12                  | 5                   | 2018-05-29          | 0                   | 51.52229            | -0.125848           | 14.00442            | 21.23570            | 53.82158            | BL0#12              | \n",
       "| BL0                 | 2018-05-29 13:00:00 | 13                  | 13                  | 5                   | 2018-05-29          | 0                   | 51.52229            | -0.125848           | 14.08704            | 21.37831            | 54.53353            | BL0#13              | \n",
       "| BL0                 | 2018-05-29 14:00:00 | 14                  | 14                  | 5                   | 2018-05-29          | 0                   | 51.52229            | -0.125848           | 14.16966            | 21.52093            | 55.24548            | BL0#14              | \n",
       "| BL0                 | 2018-05-29 15:00:00 | 15                  | 15                  | 5                   | 2018-05-29          | 0                   | 51.52229            | -0.125848           | 14.25228            | 21.66354            | 55.95743            | BL0#15              | \n",
       "| BL0                 | 2018-05-29 16:00:00 | 16                  | 16                  | 5                   | 2018-05-29          | 0                   | 51.52229            | -0.125848           | 14.33490            | 21.80615            | 56.66938            | BL0#16              | \n",
       "| BL0                 | 2018-05-29 17:00:00 | 17                  | 17                  | 5                   | 2018-05-29          | 0                   | 51.52229            | -0.125848           | 14.41752            | 21.94877            | 57.38132            | BL0#17              | \n",
       "| BL0                 | 2018-05-29 18:00:00 | 18                  | 18                  | 5                   | 2018-05-29          | 0                   | 51.52229            | -0.125848           | 14.50014            | 22.09138            | 58.09327            | BL0#18              | \n",
       "| BL0                 | 2018-05-29 19:00:00 | 19                  | 19                  | 5                   | 2018-05-29          | 0                   | 51.52229            | -0.125848           | 14.58276            | 22.23399            | 58.80522            | BL0#19              | \n",
       "\n",
       "\n"
      ],
      "text/plain": [
       "   stationId utc_time            id hour month date       weekend latitude\n",
       "1  BL0       2018-05-29 00:00:00  0  0   5     2018-05-29 0       51.52229\n",
       "2  BL0       2018-05-29 01:00:00  1  1   5     2018-05-29 0       51.52229\n",
       "3  BL0       2018-05-29 02:00:00  2  2   5     2018-05-29 0       51.52229\n",
       "4  BL0       2018-05-29 03:00:00  3  3   5     2018-05-29 0       51.52229\n",
       "5  BL0       2018-05-29 04:00:00  4  4   5     2018-05-29 0       51.52229\n",
       "6  BL0       2018-05-29 05:00:00  5  5   5     2018-05-29 0       51.52229\n",
       "7  BL0       2018-05-29 06:00:00  6  6   5     2018-05-29 0       51.52229\n",
       "8  BL0       2018-05-29 07:00:00  7  7   5     2018-05-29 0       51.52229\n",
       "9  BL0       2018-05-29 08:00:00  8  8   5     2018-05-29 0       51.52229\n",
       "10 BL0       2018-05-29 09:00:00  9  9   5     2018-05-29 0       51.52229\n",
       "11 BL0       2018-05-29 10:00:00 10 10   5     2018-05-29 0       51.52229\n",
       "12 BL0       2018-05-29 11:00:00 11 11   5     2018-05-29 0       51.52229\n",
       "13 BL0       2018-05-29 12:00:00 12 12   5     2018-05-29 0       51.52229\n",
       "14 BL0       2018-05-29 13:00:00 13 13   5     2018-05-29 0       51.52229\n",
       "15 BL0       2018-05-29 14:00:00 14 14   5     2018-05-29 0       51.52229\n",
       "16 BL0       2018-05-29 15:00:00 15 15   5     2018-05-29 0       51.52229\n",
       "17 BL0       2018-05-29 16:00:00 16 16   5     2018-05-29 0       51.52229\n",
       "18 BL0       2018-05-29 17:00:00 17 17   5     2018-05-29 0       51.52229\n",
       "19 BL0       2018-05-29 18:00:00 18 18   5     2018-05-29 0       51.52229\n",
       "20 BL0       2018-05-29 19:00:00 19 19   5     2018-05-29 0       51.52229\n",
       "   longitude PM2.5    PM10     O3       test_id\n",
       "1  -0.125848 13.01298 19.52435 45.27820 BL0#0  \n",
       "2  -0.125848 13.09560 19.66696 45.99015 BL0#1  \n",
       "3  -0.125848 13.17822 19.80957 46.70210 BL0#2  \n",
       "4  -0.125848 13.26084 19.95219 47.41405 BL0#3  \n",
       "5  -0.125848 13.34346 20.09480 48.12600 BL0#4  \n",
       "6  -0.125848 13.42608 20.23741 48.83794 BL0#5  \n",
       "7  -0.125848 13.50870 20.38002 49.54989 BL0#6  \n",
       "8  -0.125848 13.59132 20.52264 50.26184 BL0#7  \n",
       "9  -0.125848 13.67394 20.66525 50.97379 BL0#8  \n",
       "10 -0.125848 13.75656 20.80786 51.68574 BL0#9  \n",
       "11 -0.125848 13.83918 20.95048 52.39769 BL0#10 \n",
       "12 -0.125848 13.92180 21.09309 53.10963 BL0#11 \n",
       "13 -0.125848 14.00442 21.23570 53.82158 BL0#12 \n",
       "14 -0.125848 14.08704 21.37831 54.53353 BL0#13 \n",
       "15 -0.125848 14.16966 21.52093 55.24548 BL0#14 \n",
       "16 -0.125848 14.25228 21.66354 55.95743 BL0#15 \n",
       "17 -0.125848 14.33490 21.80615 56.66938 BL0#16 \n",
       "18 -0.125848 14.41752 21.94877 57.38132 BL0#17 \n",
       "19 -0.125848 14.50014 22.09138 58.09327 BL0#18 \n",
       "20 -0.125848 14.58276 22.23399 58.80522 BL0#19 "
      ]
     },
     "metadata": {},
     "output_type": "display_data"
    }
   ],
   "source": [
    "head(ld_future_data, 20)"
   ]
  },
  {
   "cell_type": "code",
   "execution_count": 93,
   "metadata": {
    "collapsed": true
   },
   "outputs": [],
   "source": [
    "write.csv(ld_future_data[,c(\"test_id\", \"PM2.5\", \"PM10\", \"O3\")], file = paste(\"ld_submission\",Sys.Date(),\".csv\"), row.names = FALSE)"
   ]
  },
  {
   "cell_type": "code",
   "execution_count": 94,
   "metadata": {
    "collapsed": true
   },
   "outputs": [],
   "source": [
    "# resetting the timezone\n",
    "Sys.unsetenv(\"TZ\")"
   ]
  },
  {
   "cell_type": "code",
   "execution_count": 95,
   "metadata": {
    "collapsed": true
   },
   "outputs": [],
   "source": [
    "rm(\"ld_future_data\")\n",
    "rm(\"ld_lat_long_data\")\n",
    "rm(\"ld_aq_gm_combined_data\")"
   ]
  }
 ],
 "metadata": {
  "kernelspec": {
   "display_name": "R",
   "language": "R",
   "name": "ir"
  },
  "language_info": {
   "codemirror_mode": "r",
   "file_extension": ".r",
   "mimetype": "text/x-r-source",
   "name": "R",
   "pygments_lexer": "r",
   "version": "3.4.2"
  }
 },
 "nbformat": 4,
 "nbformat_minor": 2
}
