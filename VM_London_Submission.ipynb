{
 "cells": [
  {
   "cell_type": "markdown",
   "metadata": {},
   "source": [
    "### Import and transformations of API data"
   ]
  },
  {
   "cell_type": "code",
   "execution_count": 37,
   "metadata": {},
   "outputs": [
    {
     "data": {
      "text/html": [
       "<strong>null device:</strong> 1"
      ],
      "text/latex": [
       "\\textbf{null device:} 1"
      ],
      "text/markdown": [
       "**null device:** 1"
      ],
      "text/plain": [
       "null device \n",
       "          1 "
      ]
     },
     "metadata": {},
     "output_type": "display_data"
    },
    {
     "name": "stdout",
     "output_type": "stream",
     "text": [
      "\f"
     ]
    }
   ],
   "source": [
    "if(!is.null(dev.list())) dev.off() # Clear Plots\n",
    "rm(list=ls()) # Clear objects from Memory\n",
    "cat(\"\\014\") # Clear Console\n",
    "# writeClipboard(as.character(x)) # copy data frame to clipboard"
   ]
  },
  {
   "cell_type": "code",
   "execution_count": 38,
   "metadata": {},
   "outputs": [],
   "source": [
    "library(RCurl)\n",
    "library(sqldf)\n",
    "library(digest)\n",
    "library(dplyr)\n",
    "library(anytime)\n",
    "library(geosphere)\n",
    "library(lubridate)\n",
    "library(chron)\n",
    "require(caret)\n",
    "require(rattle)\n",
    "require(yardstick)"
   ]
  },
  {
   "cell_type": "code",
   "execution_count": 39,
   "metadata": {
    "collapsed": true
   },
   "outputs": [],
   "source": [
    "# set working directory\n",
    "setwd(\"C:/Users/vanethi/Documents/GitHub/DS420_Factoria\")"
   ]
  },
  {
   "cell_type": "code",
   "execution_count": 40,
   "metadata": {
    "collapsed": true
   },
   "outputs": [],
   "source": [
    "# set start and end date\n",
    "startDate <- '2017-12-31-0'\n",
    "endDate <- '2018-06-01-0'"
   ]
  },
  {
   "cell_type": "code",
   "execution_count": 41,
   "metadata": {
    "collapsed": true
   },
   "outputs": [],
   "source": [
    "# pull data for London\n",
    "\n",
    "# acquire air quality data\n",
    "ld_aq_url <- paste0(\"https://biendata.com/competition/airquality/ld/\",startDate,\"/\",endDate,\"/2k0d1d8\")\n",
    "ld_aq_file <- getURL(ld_aq_url, ssl.verifyhost=FALSE, ssl.verifypeer=FALSE)\n",
    "ld_aq_data <- read.csv(textConnection(ld_aq_file), header=TRUE)\n",
    "  \n",
    "# acquire API grid meteorology data\n",
    "ld_gm_url <- paste0(\"https://biendata.com/competition/meteorology/ld_grid/\",startDate,\"/\",endDate,\"/2k0d1d8\")\n",
    "ld_gm_file <- getURL(ld_gm_url, ssl.verifyhost=FALSE, ssl.verifypeer=FALSE)\n",
    "ld_gm_data <- read.csv(textConnection(ld_gm_file), header=TRUE)"
   ]
  },
  {
   "cell_type": "code",
   "execution_count": 42,
   "metadata": {},
   "outputs": [
    {
     "data": {
      "text/html": [
       "<ol class=list-inline>\n",
       "\t<li>'ld_gm_data'</li>\n",
       "\t<li>'ld_aq_data'</li>\n",
       "</ol>\n"
      ],
      "text/latex": [
       "\\begin{enumerate*}\n",
       "\\item 'ld\\_gm\\_data'\n",
       "\\item 'ld\\_aq\\_data'\n",
       "\\end{enumerate*}\n"
      ],
      "text/markdown": [
       "1. 'ld_gm_data'\n",
       "2. 'ld_aq_data'\n",
       "\n",
       "\n"
      ],
      "text/plain": [
       "[1] \"ld_gm_data\" \"ld_aq_data\""
      ]
     },
     "metadata": {},
     "output_type": "display_data"
    }
   ],
   "source": [
    "# list of available data frames\n",
    "df.list <- names(which(unlist(eapply(.GlobalEnv,is.data.frame))))\n",
    "df.list"
   ]
  },
  {
   "cell_type": "code",
   "execution_count": 43,
   "metadata": {
    "collapsed": true
   },
   "outputs": [],
   "source": [
    "# Converting character to datetime\n",
    "ld_gm_data$time <- anytime(ld_gm_data$time)\n",
    "ld_aq_data$time <- anytime(ld_aq_data$time)"
   ]
  },
  {
   "cell_type": "code",
   "execution_count": 44,
   "metadata": {},
   "outputs": [
    {
     "name": "stdout",
     "output_type": "stream",
     "text": [
      "[1] \"ld_gm_data\"\n",
      "'data.frame':\t1202720 obs. of  9 variables:\n",
      " $ id            : int  2000096 2000097 2000098 2000099 2000100 2000101 2000102 2000103 2000104 2000105 ...\n",
      " $ station_id    : Factor w/ 861 levels \"london_grid_000\",..: 1 2 3 4 5 6 7 8 9 10 ...\n",
      " $ time          : POSIXct, format: \"2018-03-31 07:00:00\" \"2018-03-31 07:00:00\" ...\n",
      " $ weather       : Factor w/ 8 levels \"CLEAR_DAY\",\"CLEAR_NIGHT\",..: 3 3 3 6 6 6 6 6 6 6 ...\n",
      " $ temperature   : num  6.14 5.43 4.73 4.25 3.99 3.72 3.75 3.78 3.86 3.98 ...\n",
      " $ pressure      : num  995 994 993 990 986 ...\n",
      " $ humidity      : num  85 88 91 93 95 97 96 96 96 96 ...\n",
      " $ wind_direction: num  304 303 302 303 306 ...\n",
      " $ wind_speed    : num  22 18.9 15.8 14.1 13.6 ...\n",
      "NULL\n",
      "[1] \"ld_aq_data\"\n",
      "'data.frame':\t26996 obs. of  9 variables:\n",
      " $ id                : int  2941506 2941507 2941508 2941509 2941510 2941511 2941512 2941513 2941514 2941515 ...\n",
      " $ station_id        : Factor w/ 19 levels \"BL0\",\"BX1\",\"BX9\",..: 4 1 10 15 12 9 11 14 8 13 ...\n",
      " $ time              : POSIXct, format: \"2018-03-31 07:00:00\" \"2018-03-31 07:00:00\" ...\n",
      " $ PM25_Concentration: num  9.9 8.5 4.8 9.3 8.6 7.4 3.8 14.4 7.4 5.9 ...\n",
      " $ PM10_Concentration: num  14.3 8.8 8.9 10.4 10.5 10.6 6.6 24.1 13.1 6.9 ...\n",
      " $ NO2_Concentration : num  70.4 44.8 16.5 NA 35.7 48.9 36.5 43.3 57.5 NA ...\n",
      " $ CO_Concentration  : logi  NA NA NA NA NA NA ...\n",
      " $ O3_Concentration  : logi  NA NA NA NA NA NA ...\n",
      " $ SO2_Concentration : logi  NA NA NA NA NA NA ...\n",
      "NULL\n"
     ]
    }
   ],
   "source": [
    "# printing structure of all the datasets\n",
    "for (i in 1:length(df.list)) {\n",
    " print(df.list[i])\n",
    "  print(str(get(df.list[i])))\n",
    "}"
   ]
  },
  {
   "cell_type": "code",
   "execution_count": 45,
   "metadata": {},
   "outputs": [
    {
     "name": "stdout",
     "output_type": "stream",
     "text": [
      "[1] \"ld_gm_data\"\n"
     ]
    },
    {
     "data": {
      "text/html": [
       "<table>\n",
       "<thead><tr><th scope=col>min_date</th><th scope=col>max_date</th></tr></thead>\n",
       "<tbody>\n",
       "\t<tr><td>2018-03-31 07:00:00</td><td>2018-05-29 17:00:00</td></tr>\n",
       "</tbody>\n",
       "</table>\n"
      ],
      "text/latex": [
       "\\begin{tabular}{r|ll}\n",
       " min\\_date & max\\_date\\\\\n",
       "\\hline\n",
       "\t 2018-03-31 07:00:00 & 2018-05-29 17:00:00\\\\\n",
       "\\end{tabular}\n"
      ],
      "text/markdown": [
       "\n",
       "min_date | max_date | \n",
       "|---|\n",
       "| 2018-03-31 07:00:00 | 2018-05-29 17:00:00 | \n",
       "\n",
       "\n"
      ],
      "text/plain": [
       "  min_date            max_date           \n",
       "1 2018-03-31 07:00:00 2018-05-29 17:00:00"
      ]
     },
     "metadata": {},
     "output_type": "display_data"
    },
    {
     "name": "stdout",
     "output_type": "stream",
     "text": [
      "[1] \"ld_aq_data\"\n"
     ]
    },
    {
     "data": {
      "text/html": [
       "<table>\n",
       "<thead><tr><th scope=col>min_date</th><th scope=col>max_date</th></tr></thead>\n",
       "<tbody>\n",
       "\t<tr><td>2018-03-31 07:00:00</td><td>2018-05-29 16:00:00</td></tr>\n",
       "</tbody>\n",
       "</table>\n"
      ],
      "text/latex": [
       "\\begin{tabular}{r|ll}\n",
       " min\\_date & max\\_date\\\\\n",
       "\\hline\n",
       "\t 2018-03-31 07:00:00 & 2018-05-29 16:00:00\\\\\n",
       "\\end{tabular}\n"
      ],
      "text/markdown": [
       "\n",
       "min_date | max_date | \n",
       "|---|\n",
       "| 2018-03-31 07:00:00 | 2018-05-29 16:00:00 | \n",
       "\n",
       "\n"
      ],
      "text/plain": [
       "  min_date            max_date           \n",
       "1 2018-03-31 07:00:00 2018-05-29 16:00:00"
      ]
     },
     "metadata": {},
     "output_type": "display_data"
    }
   ],
   "source": [
    "# Printing the min and max dates of all datasets\n",
    "print(\"ld_gm_data\")\n",
    "ld_gm_data %>% summarize(min_date = min(time), max_date = max(time))\n",
    "print(\"ld_aq_data\")\n",
    "ld_aq_data %>% summarize(min_date = min(time), max_date = max(time))"
   ]
  },
  {
   "cell_type": "code",
   "execution_count": 46,
   "metadata": {
    "collapsed": true
   },
   "outputs": [],
   "source": [
    "# using only required columns\n",
    "ld_aq_data <- ld_aq_data %>% select(-id)\n",
    "ld_gm_data <- ld_gm_data %>% select(-c(id, weather))"
   ]
  },
  {
   "cell_type": "code",
   "execution_count": 47,
   "metadata": {
    "collapsed": true
   },
   "outputs": [],
   "source": [
    "# London closest grids to stations\n",
    "ld_closest_stations <- read.csv('SL_london_closest_stations.csv')"
   ]
  },
  {
   "cell_type": "code",
   "execution_count": 48,
   "metadata": {
    "collapsed": true
   },
   "outputs": [],
   "source": [
    "# Modifying column names for consistency\n",
    "colnames(ld_closest_stations) <- c('x',\"stationId\",\"stationName\",\"distance\") \n",
    "colnames(ld_aq_data) <- c(\"stationId\",\"utc_time\",\"PM2.5\",\"PM10\",\"NO2\",\"CO\",\"O3\", \"SO2\") \n",
    "colnames(ld_gm_data) <- c(\"stationName\",\"utc_time\",\"temperature\",\"pressure\",\"humidity\",\"wind_direction\",\"wind_speed.kph\") "
   ]
  },
  {
   "cell_type": "code",
   "execution_count": 49,
   "metadata": {},
   "outputs": [
    {
     "name": "stdout",
     "output_type": "stream",
     "text": [
      "'data.frame':\t24 obs. of  4 variables:\n",
      " $ x          : int  1 2 3 4 5 6 7 8 9 10 ...\n",
      " $ stationId  : Factor w/ 24 levels \"BL0\",\"BX1\",\"BX9\",..: 3 2 1 5 4 7 8 6 10 12 ...\n",
      " $ stationName: Factor w/ 10 levels \"london_grid_346\",..: 10 10 6 6 4 6 6 5 8 8 ...\n",
      " $ distance   : num  3929 3929 3060 3683 5212 ...\n",
      "'data.frame':\t1202720 obs. of  7 variables:\n",
      " $ stationName   : Factor w/ 861 levels \"london_grid_000\",..: 1 2 3 4 5 6 7 8 9 10 ...\n",
      " $ utc_time      : POSIXct, format: \"2018-03-31 07:00:00\" \"2018-03-31 07:00:00\" ...\n",
      " $ temperature   : num  6.14 5.43 4.73 4.25 3.99 3.72 3.75 3.78 3.86 3.98 ...\n",
      " $ pressure      : num  995 994 993 990 986 ...\n",
      " $ humidity      : num  85 88 91 93 95 97 96 96 96 96 ...\n",
      " $ wind_direction: num  304 303 302 303 306 ...\n",
      " $ wind_speed.kph: num  22 18.9 15.8 14.1 13.6 ...\n",
      "'data.frame':\t26996 obs. of  8 variables:\n",
      " $ stationId: Factor w/ 19 levels \"BL0\",\"BX1\",\"BX9\",..: 4 1 10 15 12 9 11 14 8 13 ...\n",
      " $ utc_time : POSIXct, format: \"2018-03-31 07:00:00\" \"2018-03-31 07:00:00\" ...\n",
      " $ PM2.5    : num  9.9 8.5 4.8 9.3 8.6 7.4 3.8 14.4 7.4 5.9 ...\n",
      " $ PM10     : num  14.3 8.8 8.9 10.4 10.5 10.6 6.6 24.1 13.1 6.9 ...\n",
      " $ NO2      : num  70.4 44.8 16.5 NA 35.7 48.9 36.5 43.3 57.5 NA ...\n",
      " $ CO       : logi  NA NA NA NA NA NA ...\n",
      " $ O3       : logi  NA NA NA NA NA NA ...\n",
      " $ SO2      : logi  NA NA NA NA NA NA ...\n"
     ]
    },
    {
     "data": {
      "text/html": [
       "<table>\n",
       "<thead><tr><th scope=col>x</th><th scope=col>stationId</th><th scope=col>stationName</th><th scope=col>distance</th></tr></thead>\n",
       "<tbody>\n",
       "\t<tr><td>1              </td><td>BX9            </td><td>london_grid_472</td><td>3929.170       </td></tr>\n",
       "\t<tr><td>2              </td><td>BX1            </td><td>london_grid_472</td><td>3929.170       </td></tr>\n",
       "\t<tr><td>3              </td><td>BL0            </td><td>london_grid_409</td><td>3059.760       </td></tr>\n",
       "\t<tr><td>4              </td><td>CD9            </td><td>london_grid_409</td><td>3682.914       </td></tr>\n",
       "\t<tr><td>5              </td><td>CD1            </td><td>london_grid_388</td><td>5211.633       </td></tr>\n",
       "\t<tr><td>6              </td><td>CT2            </td><td>london_grid_409</td><td>1646.945       </td></tr>\n",
       "</tbody>\n",
       "</table>\n"
      ],
      "text/latex": [
       "\\begin{tabular}{r|llll}\n",
       " x & stationId & stationName & distance\\\\\n",
       "\\hline\n",
       "\t 1                   & BX9                 & london\\_grid\\_472 & 3929.170           \\\\\n",
       "\t 2                   & BX1                 & london\\_grid\\_472 & 3929.170           \\\\\n",
       "\t 3                   & BL0                 & london\\_grid\\_409 & 3059.760           \\\\\n",
       "\t 4                   & CD9                 & london\\_grid\\_409 & 3682.914           \\\\\n",
       "\t 5                   & CD1                 & london\\_grid\\_388 & 5211.633           \\\\\n",
       "\t 6                   & CT2                 & london\\_grid\\_409 & 1646.945           \\\\\n",
       "\\end{tabular}\n"
      ],
      "text/markdown": [
       "\n",
       "x | stationId | stationName | distance | \n",
       "|---|---|---|---|---|---|\n",
       "| 1               | BX9             | london_grid_472 | 3929.170        | \n",
       "| 2               | BX1             | london_grid_472 | 3929.170        | \n",
       "| 3               | BL0             | london_grid_409 | 3059.760        | \n",
       "| 4               | CD9             | london_grid_409 | 3682.914        | \n",
       "| 5               | CD1             | london_grid_388 | 5211.633        | \n",
       "| 6               | CT2             | london_grid_409 | 1646.945        | \n",
       "\n",
       "\n"
      ],
      "text/plain": [
       "  x stationId stationName     distance\n",
       "1 1 BX9       london_grid_472 3929.170\n",
       "2 2 BX1       london_grid_472 3929.170\n",
       "3 3 BL0       london_grid_409 3059.760\n",
       "4 4 CD9       london_grid_409 3682.914\n",
       "5 5 CD1       london_grid_388 5211.633\n",
       "6 6 CT2       london_grid_409 1646.945"
      ]
     },
     "metadata": {},
     "output_type": "display_data"
    }
   ],
   "source": [
    "str(ld_closest_stations)\n",
    "str(ld_gm_data)\n",
    "str(ld_aq_data)\n",
    "head(ld_closest_stations)"
   ]
  },
  {
   "cell_type": "code",
   "execution_count": 50,
   "metadata": {
    "collapsed": true
   },
   "outputs": [],
   "source": [
    "# Mapping stationIds with respective grids\n",
    "ld_aq_map <- merge(ld_aq_data,ld_closest_stations, by = \"stationId\")"
   ]
  },
  {
   "cell_type": "code",
   "execution_count": 51,
   "metadata": {
    "collapsed": true
   },
   "outputs": [],
   "source": [
    "# Merge of AirQuality and Meteorology data\n",
    "ld_aq_gm_data <- merge(ld_aq_map, ld_gm_data, by = c(\"stationName\",\"utc_time\"))"
   ]
  },
  {
   "cell_type": "code",
   "execution_count": 52,
   "metadata": {},
   "outputs": [
    {
     "name": "stdout",
     "output_type": "stream",
     "text": [
      "'data.frame':\t26444 obs. of  16 variables:\n",
      " $ stationName   : Factor w/ 10 levels \"london_grid_346\",..: 2 2 2 2 2 2 2 2 2 2 ...\n",
      " $ utc_time      : POSIXct, format: \"2018-03-31 07:00:00\" \"2018-03-31 08:00:00\" ...\n",
      " $ stationId     : Factor w/ 19 levels \"BL0\",\"BX1\",\"BX9\",..: 18 18 18 18 18 18 18 18 18 18 ...\n",
      " $ PM2.5         : num  8.7 6.8 4.5 8.2 11.8 10.2 11.6 10.3 8.8 8.6 ...\n",
      " $ PM10          : num  NA NA NA NA NA NA NA NA NA NA ...\n",
      " $ NO2           : num  NA NA NA NA NA NA NA NA NA NA ...\n",
      " $ CO            : logi  NA NA NA NA NA NA ...\n",
      " $ O3            : logi  NA NA NA NA NA NA ...\n",
      " $ SO2           : logi  NA NA NA NA NA NA ...\n",
      " $ x             : int  21 21 21 21 21 21 21 21 21 21 ...\n",
      " $ distance      : num  4235 4235 4235 4235 4235 ...\n",
      " $ temperature   : num  4.83 5.42 6.05 6.1 7.05 7.8 8.08 8.44 8.57 8.02 ...\n",
      " $ pressure      : num  987 987 988 989 992 ...\n",
      " $ humidity      : num  87 84 81 79 74 71 73 71 70 73 ...\n",
      " $ wind_direction: num  205 210 214 234 242 ...\n",
      " $ wind_speed.kph: num  11.3 11.95 12.01 10.18 7.95 ...\n"
     ]
    },
    {
     "data": {
      "text/html": [
       "<table>\n",
       "<thead><tr><th scope=col>stationName</th><th scope=col>utc_time</th><th scope=col>stationId</th><th scope=col>PM2.5</th><th scope=col>PM10</th><th scope=col>NO2</th><th scope=col>CO</th><th scope=col>O3</th><th scope=col>SO2</th><th scope=col>x</th><th scope=col>distance</th><th scope=col>temperature</th><th scope=col>pressure</th><th scope=col>humidity</th><th scope=col>wind_direction</th><th scope=col>wind_speed.kph</th></tr></thead>\n",
       "<tbody>\n",
       "\t<tr><td>london_grid_366    </td><td>2018-03-31 07:00:00</td><td>TD5                </td><td> 8.7               </td><td>NA                 </td><td>NA                 </td><td>NA                 </td><td>NA                 </td><td>NA                 </td><td>21                 </td><td>4234.613           </td><td>4.83               </td><td>986.8419           </td><td>87                 </td><td>205.39             </td><td>11.30              </td></tr>\n",
       "\t<tr><td>london_grid_366    </td><td>2018-03-31 08:00:00</td><td>TD5                </td><td> 6.8               </td><td>NA                 </td><td>NA                 </td><td>NA                 </td><td>NA                 </td><td>NA                 </td><td>21                 </td><td>4234.613           </td><td>5.42               </td><td>987.2517           </td><td>84                 </td><td>210.33             </td><td>11.95              </td></tr>\n",
       "\t<tr><td>london_grid_366    </td><td>2018-03-31 09:00:00</td><td>TD5                </td><td> 4.5               </td><td>NA                 </td><td>NA                 </td><td>NA                 </td><td>NA                 </td><td>NA                 </td><td>21                 </td><td>4234.613           </td><td>6.05               </td><td>987.7612           </td><td>81                 </td><td>214.35             </td><td>12.01              </td></tr>\n",
       "\t<tr><td>london_grid_366    </td><td>2018-03-31 10:00:00</td><td>TD5                </td><td> 8.2               </td><td>NA                 </td><td>NA                 </td><td>NA                 </td><td>NA                 </td><td>NA                 </td><td>21                 </td><td>4234.613           </td><td>6.10               </td><td>988.8336           </td><td>79                 </td><td>233.70             </td><td>10.18              </td></tr>\n",
       "\t<tr><td>london_grid_366    </td><td>2018-03-31 11:00:00</td><td>TD5                </td><td>11.8               </td><td>NA                 </td><td>NA                 </td><td>NA                 </td><td>NA                 </td><td>NA                 </td><td>21                 </td><td>4234.613           </td><td>7.05               </td><td>991.6767           </td><td>74                 </td><td>242.44             </td><td> 7.95              </td></tr>\n",
       "\t<tr><td>london_grid_366    </td><td>2018-03-31 12:00:00</td><td>TD5                </td><td>10.2               </td><td>NA                 </td><td>NA                 </td><td>NA                 </td><td>NA                 </td><td>NA                 </td><td>21                 </td><td>4234.613           </td><td>7.80               </td><td>992.0664           </td><td>71                 </td><td>267.43             </td><td> 6.76              </td></tr>\n",
       "</tbody>\n",
       "</table>\n"
      ],
      "text/latex": [
       "\\begin{tabular}{r|llllllllllllllll}\n",
       " stationName & utc\\_time & stationId & PM2.5 & PM10 & NO2 & CO & O3 & SO2 & x & distance & temperature & pressure & humidity & wind\\_direction & wind\\_speed.kph\\\\\n",
       "\\hline\n",
       "\t london\\_grid\\_366 & 2018-03-31 07:00:00 & TD5                 &  8.7                & NA                  & NA                  & NA                  & NA                  & NA                  & 21                  & 4234.613            & 4.83                & 986.8419            & 87                  & 205.39              & 11.30              \\\\\n",
       "\t london\\_grid\\_366 & 2018-03-31 08:00:00 & TD5                 &  6.8                & NA                  & NA                  & NA                  & NA                  & NA                  & 21                  & 4234.613            & 5.42                & 987.2517            & 84                  & 210.33              & 11.95              \\\\\n",
       "\t london\\_grid\\_366 & 2018-03-31 09:00:00 & TD5                 &  4.5                & NA                  & NA                  & NA                  & NA                  & NA                  & 21                  & 4234.613            & 6.05                & 987.7612            & 81                  & 214.35              & 12.01              \\\\\n",
       "\t london\\_grid\\_366 & 2018-03-31 10:00:00 & TD5                 &  8.2                & NA                  & NA                  & NA                  & NA                  & NA                  & 21                  & 4234.613            & 6.10                & 988.8336            & 79                  & 233.70              & 10.18              \\\\\n",
       "\t london\\_grid\\_366 & 2018-03-31 11:00:00 & TD5                 & 11.8                & NA                  & NA                  & NA                  & NA                  & NA                  & 21                  & 4234.613            & 7.05                & 991.6767            & 74                  & 242.44              &  7.95              \\\\\n",
       "\t london\\_grid\\_366 & 2018-03-31 12:00:00 & TD5                 & 10.2                & NA                  & NA                  & NA                  & NA                  & NA                  & 21                  & 4234.613            & 7.80                & 992.0664            & 71                  & 267.43              &  6.76              \\\\\n",
       "\\end{tabular}\n"
      ],
      "text/markdown": [
       "\n",
       "stationName | utc_time | stationId | PM2.5 | PM10 | NO2 | CO | O3 | SO2 | x | distance | temperature | pressure | humidity | wind_direction | wind_speed.kph | \n",
       "|---|---|---|---|---|---|\n",
       "| london_grid_366     | 2018-03-31 07:00:00 | TD5                 |  8.7                | NA                  | NA                  | NA                  | NA                  | NA                  | 21                  | 4234.613            | 4.83                | 986.8419            | 87                  | 205.39              | 11.30               | \n",
       "| london_grid_366     | 2018-03-31 08:00:00 | TD5                 |  6.8                | NA                  | NA                  | NA                  | NA                  | NA                  | 21                  | 4234.613            | 5.42                | 987.2517            | 84                  | 210.33              | 11.95               | \n",
       "| london_grid_366     | 2018-03-31 09:00:00 | TD5                 |  4.5                | NA                  | NA                  | NA                  | NA                  | NA                  | 21                  | 4234.613            | 6.05                | 987.7612            | 81                  | 214.35              | 12.01               | \n",
       "| london_grid_366     | 2018-03-31 10:00:00 | TD5                 |  8.2                | NA                  | NA                  | NA                  | NA                  | NA                  | 21                  | 4234.613            | 6.10                | 988.8336            | 79                  | 233.70              | 10.18               | \n",
       "| london_grid_366     | 2018-03-31 11:00:00 | TD5                 | 11.8                | NA                  | NA                  | NA                  | NA                  | NA                  | 21                  | 4234.613            | 7.05                | 991.6767            | 74                  | 242.44              |  7.95               | \n",
       "| london_grid_366     | 2018-03-31 12:00:00 | TD5                 | 10.2                | NA                  | NA                  | NA                  | NA                  | NA                  | 21                  | 4234.613            | 7.80                | 992.0664            | 71                  | 267.43              |  6.76               | \n",
       "\n",
       "\n"
      ],
      "text/plain": [
       "  stationName     utc_time            stationId PM2.5 PM10 NO2 CO O3 SO2 x \n",
       "1 london_grid_366 2018-03-31 07:00:00 TD5        8.7  NA   NA  NA NA NA  21\n",
       "2 london_grid_366 2018-03-31 08:00:00 TD5        6.8  NA   NA  NA NA NA  21\n",
       "3 london_grid_366 2018-03-31 09:00:00 TD5        4.5  NA   NA  NA NA NA  21\n",
       "4 london_grid_366 2018-03-31 10:00:00 TD5        8.2  NA   NA  NA NA NA  21\n",
       "5 london_grid_366 2018-03-31 11:00:00 TD5       11.8  NA   NA  NA NA NA  21\n",
       "6 london_grid_366 2018-03-31 12:00:00 TD5       10.2  NA   NA  NA NA NA  21\n",
       "  distance temperature pressure humidity wind_direction wind_speed.kph\n",
       "1 4234.613 4.83        986.8419 87       205.39         11.30         \n",
       "2 4234.613 5.42        987.2517 84       210.33         11.95         \n",
       "3 4234.613 6.05        987.7612 81       214.35         12.01         \n",
       "4 4234.613 6.10        988.8336 79       233.70         10.18         \n",
       "5 4234.613 7.05        991.6767 74       242.44          7.95         \n",
       "6 4234.613 7.80        992.0664 71       267.43          6.76         "
      ]
     },
     "metadata": {},
     "output_type": "display_data"
    },
    {
     "data": {
      "text/html": [
       "<table>\n",
       "<thead><tr><th scope=col>min_date</th><th scope=col>max_date</th></tr></thead>\n",
       "<tbody>\n",
       "\t<tr><td>2018-03-31 07:00:00</td><td>2018-05-29 16:00:00</td></tr>\n",
       "</tbody>\n",
       "</table>\n"
      ],
      "text/latex": [
       "\\begin{tabular}{r|ll}\n",
       " min\\_date & max\\_date\\\\\n",
       "\\hline\n",
       "\t 2018-03-31 07:00:00 & 2018-05-29 16:00:00\\\\\n",
       "\\end{tabular}\n"
      ],
      "text/markdown": [
       "\n",
       "min_date | max_date | \n",
       "|---|\n",
       "| 2018-03-31 07:00:00 | 2018-05-29 16:00:00 | \n",
       "\n",
       "\n"
      ],
      "text/plain": [
       "  min_date            max_date           \n",
       "1 2018-03-31 07:00:00 2018-05-29 16:00:00"
      ]
     },
     "metadata": {},
     "output_type": "display_data"
    }
   ],
   "source": [
    "str(ld_aq_gm_data)\n",
    "head(ld_aq_gm_data)\n",
    "ld_aq_gm_data %>% summarize(min_date = min(utc_time), max_date = max(utc_time))"
   ]
  },
  {
   "cell_type": "code",
   "execution_count": 53,
   "metadata": {
    "collapsed": true
   },
   "outputs": [],
   "source": [
    "rm(\"ld_gm_data\")\n",
    "rm(\"ld_aq_data\")\n",
    "rm(\"ld_aq_map\")\n",
    "rm(\"ld_closest_stations\")"
   ]
  },
  {
   "cell_type": "code",
   "execution_count": 54,
   "metadata": {
    "collapsed": true
   },
   "outputs": [],
   "source": [
    "# selecting only required columns\n",
    "ld_aq_gm_data <- ld_aq_gm_data %>% select(c(\"stationName\",\"utc_time\",\"stationId\",\"PM2.5\",\"PM10\", \"O3\",\n",
    "                                            \"temperature\",\"pressure\",\"humidity\",\"wind_direction\",\"wind_speed.kph\"))"
   ]
  },
  {
   "cell_type": "code",
   "execution_count": 55,
   "metadata": {
    "collapsed": true
   },
   "outputs": [],
   "source": [
    "# adding additional columns for modeling\n",
    "ld_aq_gm_data$hour <- hour(ld_aq_gm_data$utc_time)\n",
    "ld_aq_gm_data$month <- month(ld_aq_gm_data$utc_time)\n",
    "ld_aq_gm_data$date <- date(ld_aq_gm_data$utc_time)\n",
    "ld_aq_gm_data$weekend = chron::is.weekend(ld_aq_gm_data$date)"
   ]
  },
  {
   "cell_type": "code",
   "execution_count": 56,
   "metadata": {},
   "outputs": [
    {
     "name": "stdout",
     "output_type": "stream",
     "text": [
      "'data.frame':\t26444 obs. of  15 variables:\n",
      " $ stationName   : Factor w/ 10 levels \"london_grid_346\",..: 2 2 2 2 2 2 2 2 2 2 ...\n",
      " $ utc_time      : POSIXct, format: \"2018-03-31 07:00:00\" \"2018-03-31 08:00:00\" ...\n",
      " $ stationId     : Factor w/ 19 levels \"BL0\",\"BX1\",\"BX9\",..: 18 18 18 18 18 18 18 18 18 18 ...\n",
      " $ PM2.5         : num  8.7 6.8 4.5 8.2 11.8 10.2 11.6 10.3 8.8 8.6 ...\n",
      " $ PM10          : num  NA NA NA NA NA NA NA NA NA NA ...\n",
      " $ O3            : logi  NA NA NA NA NA NA ...\n",
      " $ temperature   : num  4.83 5.42 6.05 6.1 7.05 7.8 8.08 8.44 8.57 8.02 ...\n",
      " $ pressure      : num  987 987 988 989 992 ...\n",
      " $ humidity      : num  87 84 81 79 74 71 73 71 70 73 ...\n",
      " $ wind_direction: num  205 210 214 234 242 ...\n",
      " $ wind_speed.kph: num  11.3 11.95 12.01 10.18 7.95 ...\n",
      " $ hour          : int  7 8 9 10 11 12 13 14 15 16 ...\n",
      " $ month         : num  3 3 3 3 3 3 3 3 3 3 ...\n",
      " $ date          : Date, format: \"2018-03-31\" \"2018-03-31\" ...\n",
      " $ weekend       : logi  TRUE TRUE TRUE TRUE TRUE TRUE ...\n"
     ]
    }
   ],
   "source": [
    "str(ld_aq_gm_data)"
   ]
  },
  {
   "cell_type": "markdown",
   "metadata": {},
   "source": [
    "### Import and transformations of Historical data"
   ]
  },
  {
   "cell_type": "code",
   "execution_count": 57,
   "metadata": {
    "collapsed": true
   },
   "outputs": [],
   "source": [
    "# retreiving historical files\n",
    "ld_aq_gm_hist_file <- \"Ready for Modeling/ld_aq_gm_hist_data.csv\"\n",
    "ld_aq_gm_hist_data <- read.csv(ld_aq_gm_hist_file, header=TRUE, sep=\",\", stringsAsFactors = FALSE)"
   ]
  },
  {
   "cell_type": "code",
   "execution_count": 58,
   "metadata": {
    "collapsed": true
   },
   "outputs": [],
   "source": [
    "# data transformations for consistency\n",
    "ld_aq_gm_hist_data <- ld_aq_gm_hist_data %>% select(-X)\n",
    "ld_aq_gm_hist_data$utc_time <- anytime(ld_aq_gm_hist_data$utc_time)\n",
    "ld_aq_gm_hist_data$date <- as.Date(ld_aq_gm_hist_data$date , \"%Y-%m-%d\")"
   ]
  },
  {
   "cell_type": "code",
   "execution_count": 59,
   "metadata": {
    "collapsed": true
   },
   "outputs": [],
   "source": [
    "colnames(ld_aq_gm_hist_data) <- c(\"stationName\",\"utc_time\",\"stationId\",\"PM2.5\",\"PM10\", \"O3\",\n",
    "                                \"temperature\",\"pressure\",\"humidity\",\"wind_direction\",\"wind_speed.kph\", \n",
    "                                 \"hour\",\"month\", \"date\", \"weekend\")"
   ]
  },
  {
   "cell_type": "code",
   "execution_count": 60,
   "metadata": {},
   "outputs": [
    {
     "name": "stdout",
     "output_type": "stream",
     "text": [
      "'data.frame':\t257936 obs. of  15 variables:\n",
      " $ stationName   : chr  \"london_grid_346\" \"london_grid_346\" \"london_grid_346\" \"london_grid_346\" ...\n",
      " $ utc_time      : POSIXct, format: \"2017-01-01 08:00:00\" \"2017-01-01 09:00:00\" ...\n",
      " $ stationId     : chr  \"LH0\" \"LH0\" \"LH0\" \"LH0\" ...\n",
      " $ PM2.5         : num  18.3 16.3 13.3 9.4 6.1 6.7 2.1 0.9 1.1 1 ...\n",
      " $ PM10          : num  21.3 19.5 16.2 11.6 8.5 13.4 4.6 2 2.1 2 ...\n",
      " $ O3            : num  41.6 44.1 49.1 45.2 41.4 53.6 11.7 12.1 12 13.5 ...\n",
      " $ temperature   : num  6.05 6.05 6.04 6.04 6.25 6.46 6.67 6.91 7.15 7.39 ...\n",
      " $ pressure      : num  1019 1018 1017 1016 1015 ...\n",
      " $ humidity      : num  90 89.2 88.3 87.4 87.8 ...\n",
      " $ wind_direction: num  221 220 218 217 216 ...\n",
      " $ wind_speed.kph: num  16.4 17.1 17.7 18.4 18.8 ...\n",
      " $ hour          : int  8 9 10 11 12 13 14 15 16 17 ...\n",
      " $ month         : int  1 1 1 1 1 1 1 1 1 1 ...\n",
      " $ date          : Date, format: \"2017-01-01\" \"2017-01-01\" ...\n",
      " $ weekend       : logi  TRUE TRUE TRUE TRUE TRUE TRUE ...\n"
     ]
    }
   ],
   "source": [
    "str(ld_aq_gm_hist_data)"
   ]
  },
  {
   "cell_type": "code",
   "execution_count": 61,
   "metadata": {
    "collapsed": true
   },
   "outputs": [],
   "source": [
    "# Append API and hist data\n",
    "ld_aq_gm_combined_data <- rbind(ld_aq_gm_data, ld_aq_gm_hist_data)"
   ]
  },
  {
   "cell_type": "code",
   "execution_count": 62,
   "metadata": {},
   "outputs": [
    {
     "name": "stdout",
     "output_type": "stream",
     "text": [
      "'data.frame':\t284380 obs. of  15 variables:\n",
      " $ stationName   : Factor w/ 10 levels \"london_grid_346\",..: 2 2 2 2 2 2 2 2 2 2 ...\n",
      " $ utc_time      : POSIXct, format: \"2018-03-31 07:00:00\" \"2018-03-31 08:00:00\" ...\n",
      " $ stationId     : Factor w/ 24 levels \"BL0\",\"BX1\",\"BX9\",..: 18 18 18 18 18 18 18 18 18 18 ...\n",
      " $ PM2.5         : num  8.7 6.8 4.5 8.2 11.8 10.2 11.6 10.3 8.8 8.6 ...\n",
      " $ PM10          : num  NA NA NA NA NA NA NA NA NA NA ...\n",
      " $ O3            : num  NA NA NA NA NA NA NA NA NA NA ...\n",
      " $ temperature   : num  4.83 5.42 6.05 6.1 7.05 7.8 8.08 8.44 8.57 8.02 ...\n",
      " $ pressure      : num  987 987 988 989 992 ...\n",
      " $ humidity      : num  87 84 81 79 74 71 73 71 70 73 ...\n",
      " $ wind_direction: num  205 210 214 234 242 ...\n",
      " $ wind_speed.kph: num  11.3 11.95 12.01 10.18 7.95 ...\n",
      " $ hour          : int  7 8 9 10 11 12 13 14 15 16 ...\n",
      " $ month         : num  3 3 3 3 3 3 3 3 3 3 ...\n",
      " $ date          : Date, format: \"2018-03-31\" \"2018-03-31\" ...\n",
      " $ weekend       : logi  TRUE TRUE TRUE TRUE TRUE TRUE ...\n"
     ]
    },
    {
     "data": {
      "text/html": [
       "<table>\n",
       "<thead><tr><th scope=col>min_date</th><th scope=col>max_date</th></tr></thead>\n",
       "<tbody>\n",
       "\t<tr><td>2017-01-01 08:00:00</td><td>2018-05-29 16:00:00</td></tr>\n",
       "</tbody>\n",
       "</table>\n"
      ],
      "text/latex": [
       "\\begin{tabular}{r|ll}\n",
       " min\\_date & max\\_date\\\\\n",
       "\\hline\n",
       "\t 2017-01-01 08:00:00 & 2018-05-29 16:00:00\\\\\n",
       "\\end{tabular}\n"
      ],
      "text/markdown": [
       "\n",
       "min_date | max_date | \n",
       "|---|\n",
       "| 2017-01-01 08:00:00 | 2018-05-29 16:00:00 | \n",
       "\n",
       "\n"
      ],
      "text/plain": [
       "  min_date            max_date           \n",
       "1 2017-01-01 08:00:00 2018-05-29 16:00:00"
      ]
     },
     "metadata": {},
     "output_type": "display_data"
    },
    {
     "data": {
      "text/plain": [
       "          stationName       utc_time                     stationId     \n",
       " london_grid_451:47400   Min.   :2017-01-01 08:00:00   CD9    : 12206  \n",
       " london_grid_388:47396   1st Qu.:2017-05-07 03:00:00   BL0    : 12198  \n",
       " london_grid_409:47390   Median :2017-09-07 14:00:00   GN0    : 12198  \n",
       " london_grid_430:36593   Mean   :2017-09-08 10:16:03   GN3    : 12198  \n",
       " london_grid_472:36592   3rd Qu.:2018-01-09 01:00:00   GR4    : 12198  \n",
       " london_grid_408:23003   Max.   :2018-05-29 16:00:00   GR9    : 12198  \n",
       " (Other)        :46006                                 (Other):211184  \n",
       "     PM2.5             PM10              O3          temperature   \n",
       " Min.   :-14.00   Min.   :-11.80   Min.   : -8.30   Min.   :-4.57  \n",
       " 1st Qu.:  6.50   1st Qu.: 11.40   1st Qu.: 19.50   1st Qu.: 5.98  \n",
       " Median : 10.20   Median : 17.20   Median : 34.20   Median :10.18  \n",
       " Mean   : 13.44   Mean   : 20.59   Mean   : 39.72   Mean   :10.59  \n",
       " 3rd Qu.: 16.60   3rd Qu.: 26.00   3rd Qu.: 53.80   3rd Qu.:15.05  \n",
       " Max.   :313.00   Max.   :667.10   Max.   :336.10   Max.   :30.28  \n",
       " NA's   :54170    NA's   :100258   NA's   :119609                  \n",
       "    pressure         humidity     wind_direction  wind_speed.kph \n",
       " Min.   : 964.4   Min.   : 7.00   Min.   :  0.0   Min.   : 0.12  \n",
       " 1st Qu.:1004.6   1st Qu.:67.52   1st Qu.:151.1   1st Qu.: 9.86  \n",
       " Median :1011.8   Median :78.16   Median :229.1   Median :14.36  \n",
       " Mean   :1010.5   Mean   :76.56   Mean   :208.7   Mean   :15.31  \n",
       " 3rd Qu.:1017.9   3rd Qu.:87.69   3rd Qu.:272.6   3rd Qu.:19.85  \n",
       " Max.   :1035.8   Max.   :99.40   Max.   :360.0   Max.   :54.41  \n",
       "                                                                 \n",
       "      hour           month             date             weekend       \n",
       " Min.   : 0.00   Min.   : 1.000   Min.   :2017-01-01   Mode :logical  \n",
       " 1st Qu.: 5.00   1st Qu.: 3.000   1st Qu.:2017-05-07   FALSE:202692   \n",
       " Median :11.00   Median : 5.000   Median :2017-09-07   TRUE :81688    \n",
       " Mean   :11.49   Mean   : 5.569   Mean   :2017-09-07                  \n",
       " 3rd Qu.:17.00   3rd Qu.: 8.000   3rd Qu.:2018-01-09                  \n",
       " Max.   :23.00   Max.   :12.000   Max.   :2018-05-29                  \n",
       "                                                                      "
      ]
     },
     "metadata": {},
     "output_type": "display_data"
    }
   ],
   "source": [
    "str(ld_aq_gm_combined_data)\n",
    "ld_aq_gm_combined_data %>% summarize(min_date = min(utc_time), max_date = max(utc_time))\n",
    "summary(ld_aq_gm_combined_data)"
   ]
  },
  {
   "cell_type": "code",
   "execution_count": 63,
   "metadata": {
    "collapsed": true
   },
   "outputs": [],
   "source": [
    "rm(\"ld_aq_gm_data\")\n",
    "rm(\"ld_aq_gm_hist_data\")"
   ]
  },
  {
   "cell_type": "code",
   "execution_count": 64,
   "metadata": {},
   "outputs": [],
   "source": [
    "# retrieving only air quality stations that need predictions\n",
    "ld_pred_stations <- read.csv(\"Datasets/London_AirQuality_Stations.csv\",  header=TRUE, sep=\",\", stringsAsFactors = FALSE)\n",
    "ld_pred_stations <- ld_pred_stations %>% filter(need_prediction == \"TRUE\") %>% select(station_id)\n",
    "colnames(ld_pred_stations) <- \"stationId\""
   ]
  },
  {
   "cell_type": "code",
   "execution_count": 65,
   "metadata": {
    "collapsed": true
   },
   "outputs": [],
   "source": [
    "ld_aq_gm_combined_data <- merge(ld_aq_gm_combined_data,ld_pred_stations, by = \"stationId\")"
   ]
  },
  {
   "cell_type": "code",
   "execution_count": 66,
   "metadata": {
    "collapsed": true
   },
   "outputs": [],
   "source": [
    "rm(\"ld_pred_stations\")"
   ]
  },
  {
   "cell_type": "code",
   "execution_count": 67,
   "metadata": {},
   "outputs": [
    {
     "name": "stdout",
     "output_type": "stream",
     "text": [
      "'data.frame':\t158576 obs. of  15 variables:\n",
      " $ stationId     : Factor w/ 24 levels \"BL0\",\"BX1\",\"BX9\",..: 1 1 1 1 1 1 1 1 1 1 ...\n",
      " $ stationName   : Factor w/ 10 levels \"london_grid_346\",..: 6 6 6 6 6 6 6 6 6 6 ...\n",
      " $ utc_time      : POSIXct, format: \"2017-10-22 03:00:00\" \"2017-04-21 14:00:00\" ...\n",
      " $ PM2.5         : num  4 12.8 8.1 5.5 10.4 14.3 8.6 8.2 26.7 17.4 ...\n",
      " $ PM10          : num  3.3 24.3 12.1 6.1 20.2 22.2 10 5.9 43 22.8 ...\n",
      " $ O3            : num  10.5 36.1 82.4 35.6 35.4 27 17 18.6 NA 60.1 ...\n",
      " $ temperature   : num  13.04 8.03 20.28 2.24 12.56 ...\n",
      " $ pressure      : num  999 1029 1014 994 1011 ...\n",
      " $ humidity      : num  70.2 91.4 40.3 69 73.5 ...\n",
      " $ wind_direction: num  239 297 268 301 260 ...\n",
      " $ wind_speed.kph: num  28.67 9.93 22.26 19.77 16.89 ...\n",
      " $ hour          : int  3 14 20 5 9 22 21 2 12 12 ...\n",
      " $ month         : num  10 4 8 12 10 5 7 3 4 1 ...\n",
      " $ date          : Date, format: \"2017-10-22\" \"2017-04-21\" ...\n",
      " $ weekend       : logi  TRUE FALSE TRUE FALSE FALSE FALSE ...\n"
     ]
    },
    {
     "data": {
      "text/plain": [
       "   stationId              stationName       utc_time                  \n",
       " CD9    :12206   london_grid_451:36594   Min.   :2017-01-01 08:00:00  \n",
       " BL0    :12198   london_grid_430:36593   1st Qu.:2017-05-08 08:00:00  \n",
       " GN0    :12198   london_grid_388:36590   Median :2017-09-12 10:00:00  \n",
       " GN3    :12198   london_grid_409:24404   Mean   :2017-09-12 22:05:54  \n",
       " GR4    :12198   london_grid_472:12198   3rd Qu.:2018-01-17 12:00:00  \n",
       " GR9    :12198   london_grid_408:12197   Max.   :2018-05-29 16:00:00  \n",
       " (Other):85380   (Other)        :    0                                \n",
       "     PM2.5            PM10              O3          temperature   \n",
       " Min.   :-10.5   Min.   :-11.80   Min.   : -4.70   Min.   :-4.37  \n",
       " 1st Qu.:  6.6   1st Qu.: 12.00   1st Qu.: 21.60   1st Qu.: 6.09  \n",
       " Median : 10.4   Median : 18.00   Median : 37.80   Median :10.30  \n",
       " Mean   : 13.6   Mean   : 21.41   Mean   : 43.24   Mean   :10.70  \n",
       " 3rd Qu.: 16.9   3rd Qu.: 27.00   3rd Qu.: 58.40   3rd Qu.:15.15  \n",
       " Max.   :189.7   Max.   :667.10   Max.   :336.10   Max.   :30.28  \n",
       " NA's   :21916   NA's   :16627    NA's   :43348                   \n",
       "    pressure         humidity     wind_direction  wind_speed.kph \n",
       " Min.   : 964.4   Min.   : 7.00   Min.   :  0.0   Min.   : 0.12  \n",
       " 1st Qu.:1005.0   1st Qu.:66.70   1st Qu.:148.4   1st Qu.: 9.77  \n",
       " Median :1012.2   Median :77.46   Median :228.2   Median :14.29  \n",
       " Mean   :1010.9   Mean   :75.92   Mean   :207.4   Mean   :15.21  \n",
       " 3rd Qu.:1018.2   3rd Qu.:87.27   3rd Qu.:272.1   3rd Qu.:19.74  \n",
       " Max.   :1035.8   Max.   :99.12   Max.   :360.0   Max.   :54.41  \n",
       "                                                                 \n",
       "      hour           month             date             weekend       \n",
       " Min.   : 0.00   Min.   : 1.000   Min.   :2017-01-01   Mode :logical  \n",
       " 1st Qu.: 5.00   1st Qu.: 3.000   1st Qu.:2017-05-08   FALSE:112981   \n",
       " Median :11.00   Median : 5.000   Median :2017-09-12   TRUE :45595    \n",
       " Mean   :11.49   Mean   : 5.523   Mean   :2017-09-12                  \n",
       " 3rd Qu.:17.00   3rd Qu.: 8.000   3rd Qu.:2018-01-17                  \n",
       " Max.   :23.00   Max.   :12.000   Max.   :2018-05-29                  \n",
       "                                                                      "
      ]
     },
     "metadata": {},
     "output_type": "display_data"
    }
   ],
   "source": [
    "str(ld_aq_gm_combined_data)\n",
    "summary(ld_aq_gm_combined_data)"
   ]
  },
  {
   "cell_type": "code",
   "execution_count": 68,
   "metadata": {
    "collapsed": true
   },
   "outputs": [],
   "source": [
    "london_holidays <- c(\"2017-01-02\", \"2017-04-14\",\"2017-04-17\", \"2017-05-01\", \"2017-05-29\", \"2017-08-28\", \"2017-12-25\"\n",
    "                     , \"2017-12-26\", \"2018-01-01\", \"2018-03-30\", \"2018-04-02\", \"2018-05-07\", \"2018-05-28\")"
   ]
  },
  {
   "cell_type": "code",
   "execution_count": 69,
   "metadata": {},
   "outputs": [],
   "source": [
    "ld_aq_gm_combined_data$holiday <- ifelse(ld_aq_gm_combined_data$date %in% as.Date(london_holidays), 1, 0)"
   ]
  },
  {
   "cell_type": "code",
   "execution_count": 70,
   "metadata": {},
   "outputs": [
    {
     "name": "stdout",
     "output_type": "stream",
     "text": [
      "'data.frame':\t158576 obs. of  16 variables:\n",
      " $ stationId     : Factor w/ 24 levels \"BL0\",\"BX1\",\"BX9\",..: 1 1 1 1 1 1 1 1 1 1 ...\n",
      " $ stationName   : Factor w/ 10 levels \"london_grid_346\",..: 6 6 6 6 6 6 6 6 6 6 ...\n",
      " $ utc_time      : POSIXct, format: \"2017-10-22 03:00:00\" \"2017-04-21 14:00:00\" ...\n",
      " $ PM2.5         : num  4 12.8 8.1 5.5 10.4 14.3 8.6 8.2 26.7 17.4 ...\n",
      " $ PM10          : num  3.3 24.3 12.1 6.1 20.2 22.2 10 5.9 43 22.8 ...\n",
      " $ O3            : num  10.5 36.1 82.4 35.6 35.4 27 17 18.6 NA 60.1 ...\n",
      " $ temperature   : num  13.04 8.03 20.28 2.24 12.56 ...\n",
      " $ pressure      : num  999 1029 1014 994 1011 ...\n",
      " $ humidity      : num  70.2 91.4 40.3 69 73.5 ...\n",
      " $ wind_direction: num  239 297 268 301 260 ...\n",
      " $ wind_speed.kph: num  28.67 9.93 22.26 19.77 16.89 ...\n",
      " $ hour          : int  3 14 20 5 9 22 21 2 12 12 ...\n",
      " $ month         : num  10 4 8 12 10 5 7 3 4 1 ...\n",
      " $ date          : Date, format: \"2017-10-22\" \"2017-04-21\" ...\n",
      " $ weekend       : logi  TRUE FALSE TRUE FALSE FALSE FALSE ...\n",
      " $ holiday       : num  0 0 0 0 0 0 0 0 0 0 ...\n"
     ]
    },
    {
     "data": {
      "text/plain": [
       "   stationId              stationName       utc_time                  \n",
       " CD9    :12206   london_grid_451:36594   Min.   :2017-01-01 08:00:00  \n",
       " BL0    :12198   london_grid_430:36593   1st Qu.:2017-05-08 08:00:00  \n",
       " GN0    :12198   london_grid_388:36590   Median :2017-09-12 10:00:00  \n",
       " GN3    :12198   london_grid_409:24404   Mean   :2017-09-12 22:05:54  \n",
       " GR4    :12198   london_grid_472:12198   3rd Qu.:2018-01-17 12:00:00  \n",
       " GR9    :12198   london_grid_408:12197   Max.   :2018-05-29 16:00:00  \n",
       " (Other):85380   (Other)        :    0                                \n",
       "     PM2.5            PM10              O3          temperature   \n",
       " Min.   :-10.5   Min.   :-11.80   Min.   : -4.70   Min.   :-4.37  \n",
       " 1st Qu.:  6.6   1st Qu.: 12.00   1st Qu.: 21.60   1st Qu.: 6.09  \n",
       " Median : 10.4   Median : 18.00   Median : 37.80   Median :10.30  \n",
       " Mean   : 13.6   Mean   : 21.41   Mean   : 43.24   Mean   :10.70  \n",
       " 3rd Qu.: 16.9   3rd Qu.: 27.00   3rd Qu.: 58.40   3rd Qu.:15.15  \n",
       " Max.   :189.7   Max.   :667.10   Max.   :336.10   Max.   :30.28  \n",
       " NA's   :21916   NA's   :16627    NA's   :43348                   \n",
       "    pressure         humidity     wind_direction  wind_speed.kph \n",
       " Min.   : 964.4   Min.   : 7.00   Min.   :  0.0   Min.   : 0.12  \n",
       " 1st Qu.:1005.0   1st Qu.:66.70   1st Qu.:148.4   1st Qu.: 9.77  \n",
       " Median :1012.2   Median :77.46   Median :228.2   Median :14.29  \n",
       " Mean   :1010.9   Mean   :75.92   Mean   :207.4   Mean   :15.21  \n",
       " 3rd Qu.:1018.2   3rd Qu.:87.27   3rd Qu.:272.1   3rd Qu.:19.74  \n",
       " Max.   :1035.8   Max.   :99.12   Max.   :360.0   Max.   :54.41  \n",
       "                                                                 \n",
       "      hour           month             date             weekend       \n",
       " Min.   : 0.00   Min.   : 1.000   Min.   :2017-01-01   Mode :logical  \n",
       " 1st Qu.: 5.00   1st Qu.: 3.000   1st Qu.:2017-05-08   FALSE:112981   \n",
       " Median :11.00   Median : 5.000   Median :2017-09-12   TRUE :45595    \n",
       " Mean   :11.49   Mean   : 5.523   Mean   :2017-09-12                  \n",
       " 3rd Qu.:17.00   3rd Qu.: 8.000   3rd Qu.:2018-01-17                  \n",
       " Max.   :23.00   Max.   :12.000   Max.   :2018-05-29                  \n",
       "                                                                      \n",
       "    holiday       \n",
       " Min.   :0.00000  \n",
       " 1st Qu.:0.00000  \n",
       " Median :0.00000  \n",
       " Mean   :0.02361  \n",
       " 3rd Qu.:0.00000  \n",
       " Max.   :1.00000  \n",
       "                  "
      ]
     },
     "metadata": {},
     "output_type": "display_data"
    }
   ],
   "source": [
    "str(ld_aq_gm_combined_data)\n",
    "summary(ld_aq_gm_combined_data)"
   ]
  },
  {
   "cell_type": "code",
   "execution_count": 71,
   "metadata": {
    "collapsed": true
   },
   "outputs": [],
   "source": [
    "# replacing outliers with NA\n",
    "ld_aq_gm_combined_data[ld_aq_gm_combined_data$PM2.5 %in% boxplot.stats(ld_aq_gm_combined_data$PM2.5)$out, ]$PM2.5 <- NA\n",
    "ld_aq_gm_combined_data[ld_aq_gm_combined_data$PM10 %in% boxplot.stats(ld_aq_gm_combined_data$PM10)$out, ]$PM10 <- NA\n",
    "ld_aq_gm_combined_data[ld_aq_gm_combined_data$O3 %in% boxplot.stats(ld_aq_gm_combined_data$O3)$out, ]$O3 <- NA"
   ]
  },
  {
   "cell_type": "code",
   "execution_count": 78,
   "metadata": {},
   "outputs": [
    {
     "name": "stdout",
     "output_type": "stream",
     "text": [
      "'data.frame':\t158576 obs. of  16 variables:\n",
      " $ stationId     : Factor w/ 24 levels \"BL0\",\"BX1\",\"BX9\",..: 1 1 1 1 1 1 1 1 1 1 ...\n",
      " $ stationName   : Factor w/ 10 levels \"london_grid_346\",..: 6 6 6 6 6 6 6 6 6 6 ...\n",
      " $ utc_time      : POSIXct, format: \"2017-10-22 03:00:00\" \"2017-04-21 14:00:00\" ...\n",
      " $ temperature   : num  13.04 8.03 20.28 2.24 12.56 ...\n",
      " $ pressure      : num  999 1029 1014 994 1011 ...\n",
      " $ humidity      : num  70.2 91.4 40.3 69 73.5 ...\n",
      " $ wind_direction: num  239 297 268 301 260 ...\n",
      " $ wind_speed.kph: num  28.67 9.93 22.26 19.77 16.89 ...\n",
      " $ hour          : int  3 14 20 5 9 22 21 2 12 12 ...\n",
      " $ month         : num  10 4 8 12 10 5 7 3 4 1 ...\n",
      " $ date          : Date, format: \"2017-10-22\" \"2017-04-21\" ...\n",
      " $ weekend       : logi  TRUE FALSE TRUE FALSE FALSE FALSE ...\n",
      " $ holiday       : num  0 0 0 0 0 0 0 0 0 0 ...\n",
      " $ PM2.5         : num  4 12.8 8.1 5.5 10.4 14.3 8.6 8.2 26.7 17.4 ...\n",
      " $ PM10          : num  3.3 24.3 12.1 6.1 20.2 22.2 10 5.9 43 22.8 ...\n",
      " $ O3            : num  10.5 36.1 82.4 35.6 35.4 ...\n"
     ]
    },
    {
     "data": {
      "text/plain": [
       "   stationId              stationName       utc_time                  \n",
       " CD9    :12206   london_grid_451:36594   Min.   :2017-01-01 08:00:00  \n",
       " BL0    :12198   london_grid_430:36593   1st Qu.:2017-05-08 08:00:00  \n",
       " GN0    :12198   london_grid_388:36590   Median :2017-09-12 10:00:00  \n",
       " GN3    :12198   london_grid_409:24404   Mean   :2017-09-12 22:05:54  \n",
       " GR4    :12198   london_grid_472:12198   3rd Qu.:2018-01-17 12:00:00  \n",
       " GR9    :12198   london_grid_408:12197   Max.   :2018-05-29 16:00:00  \n",
       " (Other):85380   (Other)        :    0                                \n",
       "  temperature       pressure         humidity     wind_direction \n",
       " Min.   :-4.37   Min.   : 964.4   Min.   : 7.00   Min.   :  0.0  \n",
       " 1st Qu.: 6.09   1st Qu.:1005.0   1st Qu.:66.70   1st Qu.:148.4  \n",
       " Median :10.30   Median :1012.2   Median :77.46   Median :228.2  \n",
       " Mean   :10.70   Mean   :1010.9   Mean   :75.92   Mean   :207.4  \n",
       " 3rd Qu.:15.15   3rd Qu.:1018.2   3rd Qu.:87.27   3rd Qu.:272.1  \n",
       " Max.   :30.28   Max.   :1035.8   Max.   :99.12   Max.   :360.0  \n",
       "                                                                 \n",
       " wind_speed.kph       hour           month             date           \n",
       " Min.   : 0.12   Min.   : 0.00   Min.   : 1.000   Min.   :2017-01-01  \n",
       " 1st Qu.: 9.77   1st Qu.: 5.00   1st Qu.: 3.000   1st Qu.:2017-05-08  \n",
       " Median :14.29   Median :11.00   Median : 5.000   Median :2017-09-12  \n",
       " Mean   :15.21   Mean   :11.49   Mean   : 5.523   Mean   :2017-09-12  \n",
       " 3rd Qu.:19.74   3rd Qu.:17.00   3rd Qu.: 8.000   3rd Qu.:2018-01-17  \n",
       " Max.   :54.41   Max.   :23.00   Max.   :12.000   Max.   :2018-05-29  \n",
       "                                                                      \n",
       "  weekend           holiday            PM2.5            PM10      \n",
       " Mode :logical   Min.   :0.00000   Min.   :-8.60   Min.   :-8.90  \n",
       " FALSE:112981    1st Qu.:0.00000   1st Qu.: 6.90   1st Qu.:12.25  \n",
       " TRUE :45595     Median :0.00000   Median :10.39   Median :17.60  \n",
       "                 Mean   :0.02361   Mean   :11.36   Mean   :19.17  \n",
       "                 3rd Qu.:0.00000   3rd Qu.:14.60   3rd Qu.:24.40  \n",
       "                 Max.   :1.00000   Max.   :32.30   Max.   :49.50  \n",
       "                                                                  \n",
       "       O3        \n",
       " Min.   : -4.70  \n",
       " 1st Qu.: 24.80  \n",
       " Median : 39.14  \n",
       " Mean   : 41.59  \n",
       " 3rd Qu.: 54.65  \n",
       " Max.   :113.60  \n",
       "                 "
      ]
     },
     "metadata": {},
     "output_type": "display_data"
    }
   ],
   "source": [
    "str(ld_aq_gm_combined_data)\n",
    "summary(ld_aq_gm_combined_data)"
   ]
  },
  {
   "cell_type": "code",
   "execution_count": 73,
   "metadata": {
    "collapsed": true
   },
   "outputs": [],
   "source": [
    "#replacing PM2.5 NA with mean values of certain groupings\n",
    "ld_aq_gm_combined_data_PM2.5 <- ld_aq_gm_combined_data %>% \n",
    "                                group_by(stationId, hour, month, weekend, holiday) %>% \n",
    "                                summarize(PM2.5 = mean(PM2.5, na.rm = TRUE))\n",
    "ld_aq_gm_combined_data <- ld_aq_gm_combined_data %>% \n",
    "                          left_join(ld_aq_gm_combined_data_PM2.5, c(\"stationId\", \"hour\", \"month\", \"weekend\", \"holiday\")) %>% \n",
    "                          mutate(PM2.5 = coalesce(PM2.5.x, PM2.5.y)) %>% \n",
    "                          select(-PM2.5.x, -PM2.5.y)\n",
    "ld_aq_gm_combined_data_PM2.5 <- ld_aq_gm_combined_data %>% \n",
    "                                group_by(stationId, hour, weekend, holiday) %>% \n",
    "                                summarize(PM2.5 = mean(PM2.5, na.rm = TRUE))\n",
    "ld_aq_gm_combined_data <- ld_aq_gm_combined_data %>% \n",
    "                          left_join(ld_aq_gm_combined_data_PM2.5, c(\"stationId\", \"hour\", \"weekend\", \"holiday\")) %>% \n",
    "                          mutate(PM2.5 = coalesce(PM2.5.x, PM2.5.y)) %>% \n",
    "                          select(-PM2.5.x, -PM2.5.y)"
   ]
  },
  {
   "cell_type": "code",
   "execution_count": 75,
   "metadata": {
    "collapsed": true
   },
   "outputs": [],
   "source": [
    "#replacing PM10 NA with mean values of certain groupings\n",
    "ld_aq_gm_combined_data_PM10 <- ld_aq_gm_combined_data %>% \n",
    "                                group_by(stationId, hour, month, weekend, holiday) %>% \n",
    "                                summarize(PM10 = mean(PM10, na.rm = TRUE))\n",
    "ld_aq_gm_combined_data <- ld_aq_gm_combined_data %>% \n",
    "                          left_join(ld_aq_gm_combined_data_PM10, c(\"stationId\", \"hour\", \"month\", \"weekend\", \"holiday\")) %>% \n",
    "                          mutate(PM10 = coalesce(PM10.x, PM10.y)) %>% \n",
    "                          select(-PM10.x, -PM10.y)\n",
    "ld_aq_gm_combined_data_PM10 <- ld_aq_gm_combined_data %>% \n",
    "                                group_by(stationId, hour, weekend, holiday) %>% \n",
    "                                summarize(PM10 = mean(PM10, na.rm = TRUE))\n",
    "ld_aq_gm_combined_data <- ld_aq_gm_combined_data %>% \n",
    "                          left_join(ld_aq_gm_combined_data_PM10, c(\"stationId\", \"hour\", \"weekend\", \"holiday\")) %>% \n",
    "                          mutate(PM10 = coalesce(PM10.x, PM10.y)) %>% \n",
    "                          select(-PM10.x, -PM10.y)"
   ]
  },
  {
   "cell_type": "code",
   "execution_count": 77,
   "metadata": {
    "collapsed": true
   },
   "outputs": [],
   "source": [
    "#replacing O3 NA with mean values of certain groupings\n",
    "ld_aq_gm_combined_data_O3 <- ld_aq_gm_combined_data %>% \n",
    "                                group_by(stationId, hour, month, weekend, holiday) %>% \n",
    "                                summarize(O3 = mean(O3, na.rm = TRUE))\n",
    "ld_aq_gm_combined_data <- ld_aq_gm_combined_data %>% \n",
    "                          left_join(ld_aq_gm_combined_data_O3, c(\"stationId\", \"hour\", \"month\", \"weekend\", \"holiday\")) %>% \n",
    "                          mutate(O3 = coalesce(O3.x, O3.y)) %>% \n",
    "                          select(-O3.x, -O3.y)\n",
    "ld_aq_gm_combined_data_O3 <- ld_aq_gm_combined_data %>% \n",
    "                                group_by(stationId, hour, weekend, holiday) %>% \n",
    "                                summarize(O3 = mean(O3, na.rm = TRUE))\n",
    "ld_aq_gm_combined_data <- ld_aq_gm_combined_data %>% \n",
    "                          left_join(ld_aq_gm_combined_data_O3, c(\"stationId\", \"hour\", \"weekend\", \"holiday\")) %>% \n",
    "                          mutate(O3 = coalesce(O3.x, O3.y)) %>% \n",
    "                          select(-O3.x, -O3.y)\n",
    "ld_aq_gm_combined_data_O3 <- ld_aq_gm_combined_data %>% \n",
    "                                group_by(hour, month, weekend, holiday) %>% \n",
    "                                summarize(O3 = mean(O3, na.rm = TRUE))\n",
    "ld_aq_gm_combined_data <- ld_aq_gm_combined_data %>% \n",
    "                          left_join(ld_aq_gm_combined_data_O3, c(\"hour\", \"month\", \"weekend\", \"holiday\")) %>% \n",
    "                          mutate(O3 = coalesce(O3.x, O3.y)) %>% \n",
    "                          select(-O3.x, -O3.y)"
   ]
  },
  {
   "cell_type": "code",
   "execution_count": 79,
   "metadata": {
    "collapsed": true
   },
   "outputs": [],
   "source": [
    "rm(\"ld_aq_gm_combined_data_PM2.5\")\n",
    "rm(\"ld_aq_gm_combined_data_PM10\")\n",
    "rm(\"ld_aq_gm_combined_data_O3\")"
   ]
  },
  {
   "cell_type": "code",
   "execution_count": 80,
   "metadata": {},
   "outputs": [
    {
     "name": "stdout",
     "output_type": "stream",
     "text": [
      "'data.frame':\t158576 obs. of  16 variables:\n",
      " $ stationId     : Factor w/ 24 levels \"BL0\",\"BX1\",\"BX9\",..: 1 1 1 1 1 1 1 1 1 1 ...\n",
      " $ stationName   : Factor w/ 10 levels \"london_grid_346\",..: 6 6 6 6 6 6 6 6 6 6 ...\n",
      " $ utc_time      : POSIXct, format: \"2017-10-22 03:00:00\" \"2017-04-21 14:00:00\" ...\n",
      " $ temperature   : num  13.04 8.03 20.28 2.24 12.56 ...\n",
      " $ pressure      : num  999 1029 1014 994 1011 ...\n",
      " $ humidity      : num  70.2 91.4 40.3 69 73.5 ...\n",
      " $ wind_direction: num  239 297 268 301 260 ...\n",
      " $ wind_speed.kph: num  28.67 9.93 22.26 19.77 16.89 ...\n",
      " $ hour          : int  3 14 20 5 9 22 21 2 12 12 ...\n",
      " $ month         : num  10 4 8 12 10 5 7 3 4 1 ...\n",
      " $ date          : Date, format: \"2017-10-22\" \"2017-04-21\" ...\n",
      " $ weekend       : logi  TRUE FALSE TRUE FALSE FALSE FALSE ...\n",
      " $ holiday       : num  0 0 0 0 0 0 0 0 0 0 ...\n",
      " $ PM2.5         : num  4 12.8 8.1 5.5 10.4 14.3 8.6 8.2 26.7 17.4 ...\n",
      " $ PM10          : num  3.3 24.3 12.1 6.1 20.2 22.2 10 5.9 43 22.8 ...\n",
      " $ O3            : num  10.5 36.1 82.4 35.6 35.4 ...\n"
     ]
    },
    {
     "data": {
      "text/plain": [
       "   stationId              stationName       utc_time                  \n",
       " CD9    :12206   london_grid_451:36594   Min.   :2017-01-01 08:00:00  \n",
       " BL0    :12198   london_grid_430:36593   1st Qu.:2017-05-08 08:00:00  \n",
       " GN0    :12198   london_grid_388:36590   Median :2017-09-12 10:00:00  \n",
       " GN3    :12198   london_grid_409:24404   Mean   :2017-09-12 22:05:54  \n",
       " GR4    :12198   london_grid_472:12198   3rd Qu.:2018-01-17 12:00:00  \n",
       " GR9    :12198   london_grid_408:12197   Max.   :2018-05-29 16:00:00  \n",
       " (Other):85380   (Other)        :    0                                \n",
       "  temperature       pressure         humidity     wind_direction \n",
       " Min.   :-4.37   Min.   : 964.4   Min.   : 7.00   Min.   :  0.0  \n",
       " 1st Qu.: 6.09   1st Qu.:1005.0   1st Qu.:66.70   1st Qu.:148.4  \n",
       " Median :10.30   Median :1012.2   Median :77.46   Median :228.2  \n",
       " Mean   :10.70   Mean   :1010.9   Mean   :75.92   Mean   :207.4  \n",
       " 3rd Qu.:15.15   3rd Qu.:1018.2   3rd Qu.:87.27   3rd Qu.:272.1  \n",
       " Max.   :30.28   Max.   :1035.8   Max.   :99.12   Max.   :360.0  \n",
       "                                                                 \n",
       " wind_speed.kph       hour           month             date           \n",
       " Min.   : 0.12   Min.   : 0.00   Min.   : 1.000   Min.   :2017-01-01  \n",
       " 1st Qu.: 9.77   1st Qu.: 5.00   1st Qu.: 3.000   1st Qu.:2017-05-08  \n",
       " Median :14.29   Median :11.00   Median : 5.000   Median :2017-09-12  \n",
       " Mean   :15.21   Mean   :11.49   Mean   : 5.523   Mean   :2017-09-12  \n",
       " 3rd Qu.:19.74   3rd Qu.:17.00   3rd Qu.: 8.000   3rd Qu.:2018-01-17  \n",
       " Max.   :54.41   Max.   :23.00   Max.   :12.000   Max.   :2018-05-29  \n",
       "                                                                      \n",
       "  weekend           holiday            PM2.5            PM10      \n",
       " Mode :logical   Min.   :0.00000   Min.   :-8.60   Min.   :-8.90  \n",
       " FALSE:112981    1st Qu.:0.00000   1st Qu.: 6.90   1st Qu.:12.25  \n",
       " TRUE :45595     Median :0.00000   Median :10.39   Median :17.60  \n",
       "                 Mean   :0.02361   Mean   :11.36   Mean   :19.17  \n",
       "                 3rd Qu.:0.00000   3rd Qu.:14.60   3rd Qu.:24.40  \n",
       "                 Max.   :1.00000   Max.   :32.30   Max.   :49.50  \n",
       "                                                                  \n",
       "       O3        \n",
       " Min.   : -4.70  \n",
       " 1st Qu.: 24.80  \n",
       " Median : 39.14  \n",
       " Mean   : 41.59  \n",
       " 3rd Qu.: 54.65  \n",
       " Max.   :113.60  \n",
       "                 "
      ]
     },
     "metadata": {},
     "output_type": "display_data"
    }
   ],
   "source": [
    "str(ld_aq_gm_combined_data)\n",
    "summary(ld_aq_gm_combined_data)"
   ]
  },
  {
   "cell_type": "code",
   "execution_count": 81,
   "metadata": {},
   "outputs": [
    {
     "data": {
      "text/html": [
       "<table>\n",
       "<thead><tr><th scope=col>stationId</th><th scope=col>stationName</th><th scope=col>utc_time</th><th scope=col>temperature</th><th scope=col>pressure</th><th scope=col>humidity</th><th scope=col>wind_direction</th><th scope=col>wind_speed.kph</th><th scope=col>hour</th><th scope=col>month</th><th scope=col>date</th><th scope=col>weekend</th><th scope=col>holiday</th><th scope=col>PM2.5</th><th scope=col>PM10</th><th scope=col>O3</th></tr></thead>\n",
       "<tbody>\n",
       "</tbody>\n",
       "</table>\n"
      ],
      "text/latex": [
       "\\begin{tabular}{r|llllllllllllllll}\n",
       " stationId & stationName & utc\\_time & temperature & pressure & humidity & wind\\_direction & wind\\_speed.kph & hour & month & date & weekend & holiday & PM2.5 & PM10 & O3\\\\\n",
       "\\hline\n",
       "\\end{tabular}\n"
      ],
      "text/markdown": [
       "\n",
       "stationId | stationName | utc_time | temperature | pressure | humidity | wind_direction | wind_speed.kph | hour | month | date | weekend | holiday | PM2.5 | PM10 | O3 | \n",
       "||\n",
       "\n",
       "\n"
      ],
      "text/plain": [
       "     stationId stationName utc_time temperature pressure humidity\n",
       "     wind_direction wind_speed.kph hour month date weekend holiday PM2.5 PM10\n",
       "     O3"
      ]
     },
     "metadata": {},
     "output_type": "display_data"
    }
   ],
   "source": [
    "#validating for no NAs\n",
    "ld_aq_gm_combined_data[!complete.cases(ld_aq_gm_combined_data),]"
   ]
  },
  {
   "cell_type": "code",
   "execution_count": 82,
   "metadata": {
    "collapsed": true
   },
   "outputs": [],
   "source": [
    "# converting logical weekend value to numeric for modeling\n",
    "ld_aq_gm_combined_data$weekend <- as.integer(ld_aq_gm_combined_data$weekend)"
   ]
  },
  {
   "cell_type": "code",
   "execution_count": 83,
   "metadata": {
    "collapsed": true
   },
   "outputs": [],
   "source": [
    "# selecting only required columns\n",
    "ld_aq_gm_combined_data <- \n",
    "ld_aq_gm_combined_data %>% select(c(\"stationName\",\"utc_time\",\"stationId\",\"PM2.5\",\"PM10\", \"O3\",\n",
    "                                    \"temperature\",\"pressure\",\"humidity\",\"wind_direction\",\"wind_speed.kph\", \n",
    "                                    \"hour\", \"month\", \"date\", \"weekend\", \"holiday\"))"
   ]
  },
  {
   "cell_type": "code",
   "execution_count": 84,
   "metadata": {
    "collapsed": true
   },
   "outputs": [],
   "source": [
    "# retreiving lat long data \n",
    "ld_lat_long_file <- \"Datasets/London_AirQuality_Stations.csv\"\n",
    "ld_lat_long_data <- read.csv(ld_lat_long_file, header=TRUE, sep=\",\", stringsAsFactors = FALSE)\n",
    "ld_lat_long_data <- ld_lat_long_data %>% select(station_id, Latitude, Longitude)\n",
    "colnames(ld_lat_long_data) <- c(\"stationId\", \"latitude\", \"longitude\")"
   ]
  },
  {
   "cell_type": "code",
   "execution_count": 85,
   "metadata": {
    "collapsed": true
   },
   "outputs": [],
   "source": [
    "ld_aq_gm_combined_data <- merge(ld_aq_gm_combined_data,ld_lat_long_data, by = \"stationId\")"
   ]
  },
  {
   "cell_type": "code",
   "execution_count": 86,
   "metadata": {},
   "outputs": [
    {
     "name": "stdout",
     "output_type": "stream",
     "text": [
      "'data.frame':\t158576 obs. of  18 variables:\n",
      " $ stationId     : Factor w/ 24 levels \"BL0\",\"BX1\",\"BX9\",..: 1 1 1 1 1 1 1 1 1 1 ...\n",
      " $ stationName   : Factor w/ 10 levels \"london_grid_346\",..: 6 6 6 6 6 6 6 6 6 6 ...\n",
      " $ utc_time      : POSIXct, format: \"2017-10-22 03:00:00\" \"2017-04-21 14:00:00\" ...\n",
      " $ PM2.5         : num  4 12.8 8.1 5.5 10.4 14.3 8.6 8.2 26.7 17.4 ...\n",
      " $ PM10          : num  3.3 24.3 12.1 6.1 20.2 22.2 10 5.9 43 22.8 ...\n",
      " $ O3            : num  10.5 36.1 82.4 35.6 35.4 ...\n",
      " $ temperature   : num  13.04 8.03 20.28 2.24 12.56 ...\n",
      " $ pressure      : num  999 1029 1014 994 1011 ...\n",
      " $ humidity      : num  70.2 91.4 40.3 69 73.5 ...\n",
      " $ wind_direction: num  239 297 268 301 260 ...\n",
      " $ wind_speed.kph: num  28.67 9.93 22.26 19.77 16.89 ...\n",
      " $ hour          : int  3 14 20 5 9 22 21 2 12 12 ...\n",
      " $ month         : num  10 4 8 12 10 5 7 3 4 1 ...\n",
      " $ date          : Date, format: \"2017-10-22\" \"2017-04-21\" ...\n",
      " $ weekend       : int  1 0 1 0 0 0 0 0 1 0 ...\n",
      " $ holiday       : num  0 0 0 0 0 0 0 0 0 0 ...\n",
      " $ latitude      : num  51.5 51.5 51.5 51.5 51.5 ...\n",
      " $ longitude     : num  -0.126 -0.126 -0.126 -0.126 -0.126 ...\n"
     ]
    },
    {
     "data": {
      "text/html": [
       "<table>\n",
       "<thead><tr><th scope=col>min_date</th><th scope=col>max_date</th></tr></thead>\n",
       "<tbody>\n",
       "\t<tr><td>2017-01-01 08:00:00</td><td>2018-05-29 16:00:00</td></tr>\n",
       "</tbody>\n",
       "</table>\n"
      ],
      "text/latex": [
       "\\begin{tabular}{r|ll}\n",
       " min\\_date & max\\_date\\\\\n",
       "\\hline\n",
       "\t 2017-01-01 08:00:00 & 2018-05-29 16:00:00\\\\\n",
       "\\end{tabular}\n"
      ],
      "text/markdown": [
       "\n",
       "min_date | max_date | \n",
       "|---|\n",
       "| 2017-01-01 08:00:00 | 2018-05-29 16:00:00 | \n",
       "\n",
       "\n"
      ],
      "text/plain": [
       "  min_date            max_date           \n",
       "1 2017-01-01 08:00:00 2018-05-29 16:00:00"
      ]
     },
     "metadata": {},
     "output_type": "display_data"
    },
    {
     "data": {
      "text/plain": [
       "   stationId              stationName       utc_time                  \n",
       " CD9    :12206   london_grid_451:36594   Min.   :2017-01-01 08:00:00  \n",
       " BL0    :12198   london_grid_430:36593   1st Qu.:2017-05-08 08:00:00  \n",
       " GN0    :12198   london_grid_388:36590   Median :2017-09-12 10:00:00  \n",
       " GN3    :12198   london_grid_409:24404   Mean   :2017-09-12 22:05:54  \n",
       " GR4    :12198   london_grid_472:12198   3rd Qu.:2018-01-17 12:00:00  \n",
       " GR9    :12198   london_grid_408:12197   Max.   :2018-05-29 16:00:00  \n",
       " (Other):85380   (Other)        :    0                                \n",
       "     PM2.5            PM10             O3          temperature   \n",
       " Min.   :-8.60   Min.   :-8.90   Min.   : -4.70   Min.   :-4.37  \n",
       " 1st Qu.: 6.90   1st Qu.:12.25   1st Qu.: 24.80   1st Qu.: 6.09  \n",
       " Median :10.39   Median :17.60   Median : 39.14   Median :10.30  \n",
       " Mean   :11.36   Mean   :19.17   Mean   : 41.59   Mean   :10.70  \n",
       " 3rd Qu.:14.60   3rd Qu.:24.40   3rd Qu.: 54.65   3rd Qu.:15.15  \n",
       " Max.   :32.30   Max.   :49.50   Max.   :113.60   Max.   :30.28  \n",
       "                                                                 \n",
       "    pressure         humidity     wind_direction  wind_speed.kph \n",
       " Min.   : 964.4   Min.   : 7.00   Min.   :  0.0   Min.   : 0.12  \n",
       " 1st Qu.:1005.0   1st Qu.:66.70   1st Qu.:148.4   1st Qu.: 9.77  \n",
       " Median :1012.2   Median :77.46   Median :228.2   Median :14.29  \n",
       " Mean   :1010.9   Mean   :75.92   Mean   :207.4   Mean   :15.21  \n",
       " 3rd Qu.:1018.2   3rd Qu.:87.27   3rd Qu.:272.1   3rd Qu.:19.74  \n",
       " Max.   :1035.8   Max.   :99.12   Max.   :360.0   Max.   :54.41  \n",
       "                                                                 \n",
       "      hour           month             date               weekend      \n",
       " Min.   : 0.00   Min.   : 1.000   Min.   :2017-01-01   Min.   :0.0000  \n",
       " 1st Qu.: 5.00   1st Qu.: 3.000   1st Qu.:2017-05-08   1st Qu.:0.0000  \n",
       " Median :11.00   Median : 5.000   Median :2017-09-12   Median :0.0000  \n",
       " Mean   :11.49   Mean   : 5.523   Mean   :2017-09-12   Mean   :0.2875  \n",
       " 3rd Qu.:17.00   3rd Qu.: 8.000   3rd Qu.:2018-01-17   3rd Qu.:1.0000  \n",
       " Max.   :23.00   Max.   :12.000   Max.   :2018-05-29   Max.   :1.0000  \n",
       "                                                                       \n",
       "    holiday           latitude       longitude       \n",
       " Min.   :0.00000   Min.   :51.39   Min.   :-0.21349  \n",
       " 1st Qu.:0.00000   1st Qu.:51.47   1st Qu.:-0.14166  \n",
       " Median :0.00000   Median :51.52   Median :-0.03964  \n",
       " Mean   :0.02361   Mean   :51.49   Mean   :-0.03861  \n",
       " 3rd Qu.:0.00000   3rd Qu.:51.52   3rd Qu.: 0.07077  \n",
       " Max.   :1.00000   Max.   :51.54   Max.   : 0.20546  \n",
       "                                                     "
      ]
     },
     "metadata": {},
     "output_type": "display_data"
    }
   ],
   "source": [
    "str(ld_aq_gm_combined_data)\n",
    "ld_aq_gm_combined_data %>% summarize(min_date = min(utc_time), max_date = max(utc_time))\n",
    "summary(ld_aq_gm_combined_data)"
   ]
  },
  {
   "cell_type": "markdown",
   "metadata": {},
   "source": [
    "### Model Training and validation"
   ]
  },
  {
   "cell_type": "code",
   "execution_count": 87,
   "metadata": {
    "collapsed": true
   },
   "outputs": [],
   "source": [
    "set.seed(2306)"
   ]
  },
  {
   "cell_type": "code",
   "execution_count": 88,
   "metadata": {
    "collapsed": true
   },
   "outputs": [],
   "source": [
    "# Training and test data set partition\n",
    "sample_size <- floor(0.8 * nrow(ld_aq_gm_combined_data))\n",
    "train_index <- sample(seq_len(nrow(ld_aq_gm_combined_data)), size = sample_size)\n",
    "train_ld <- ld_aq_gm_combined_data[train_index, ]\n",
    "test_ld <- ld_aq_gm_combined_data[-train_index, ]"
   ]
  },
  {
   "cell_type": "code",
   "execution_count": 89,
   "metadata": {},
   "outputs": [
    {
     "name": "stdout",
     "output_type": "stream",
     "text": [
      "'data.frame':\t126860 obs. of  18 variables:\n",
      " $ stationId     : Factor w/ 24 levels \"BL0\",\"BX1\",\"BX9\",..: 8 12 17 12 9 4 1 10 15 8 ...\n",
      " $ stationName   : Factor w/ 10 levels \"london_grid_346\",..: 8 10 5 10 8 4 6 8 4 8 ...\n",
      " $ utc_time      : POSIXct, format: \"2018-01-13 17:00:00\" \"2018-03-18 23:00:00\" ...\n",
      " $ PM2.5         : num  22.4 15.8 10 1.25 16.2 13.3 8.8 15.2 17 8.5 ...\n",
      " $ PM10          : num  24.5 20 17 5.75 25.5 20.9 11.3 20.1 27 13.5 ...\n",
      " $ O3            : num  23.6 9.3 37.4 28.2 62.5 ...\n",
      " $ temperature   : num  6.02 0.11 5.59 14.86 5.93 ...\n",
      " $ pressure      : num  1017 1006 1002 1013 998 ...\n",
      " $ humidity      : num  82 73.5 83.4 95.3 81.1 ...\n",
      " $ wind_direction: num  146.5 65.4 209.3 133.7 313.8 ...\n",
      " $ wind_speed.kph: num  14.57 22.61 8.99 10.02 17.38 ...\n",
      " $ hour          : int  17 23 6 9 11 14 13 21 18 23 ...\n",
      " $ month         : num  1 3 3 7 3 7 8 4 4 6 ...\n",
      " $ date          : Date, format: \"2018-01-13\" \"2018-03-18\" ...\n",
      " $ weekend       : int  1 1 0 1 0 0 1 1 0 1 ...\n",
      " $ holiday       : num  0 0 0 0 0 0 0 0 0 0 ...\n",
      " $ latitude      : num  51.5 51.5 51.4 51.5 51.5 ...\n",
      " $ longitude     : num  0.074 0.2055 -0.1417 0.2055 0.0951 ...\n",
      "'data.frame':\t31716 obs. of  18 variables:\n",
      " $ stationId     : Factor w/ 24 levels \"BL0\",\"BX1\",\"BX9\",..: 1 1 1 1 1 1 1 1 1 1 ...\n",
      " $ stationName   : Factor w/ 10 levels \"london_grid_346\",..: 6 6 6 6 6 6 6 6 6 6 ...\n",
      " $ utc_time      : POSIXct, format: \"2017-08-19 20:00:00\" \"2018-03-06 02:00:00\" ...\n",
      " $ PM2.5         : num  8.1 8.2 6.2 11.9 7.6 5.7 18.2 12.2 9.8 10.5 ...\n",
      " $ PM10          : num  12.1 5.9 9.8 19.9 0 6.4 25 17.1 8 15.8 ...\n",
      " $ O3            : num  82.4 18.6 15.7 26.2 17.8 36.1 81.5 31.2 53.2 44.8 ...\n",
      " $ temperature   : num  20.28 8.04 18.97 14.96 7.05 ...\n",
      " $ pressure      : num  1014 983 1012 1007 997 ...\n",
      " $ humidity      : num  40.3 78.7 53.6 84.7 66.6 ...\n",
      " $ wind_direction: num  268 134 230 217 281 ...\n",
      " $ wind_speed.kph: num  22.3 17.4 16.8 12.1 23.3 ...\n",
      " $ hour          : int  20 2 3 14 2 6 19 6 16 10 ...\n",
      " $ month         : num  8 3 8 7 1 9 10 7 11 10 ...\n",
      " $ date          : Date, format: \"2017-08-19\" \"2018-03-06\" ...\n",
      " $ weekend       : int  1 0 0 0 0 1 0 1 1 0 ...\n",
      " $ holiday       : num  0 0 0 0 0 0 0 0 0 0 ...\n",
      " $ latitude      : num  51.5 51.5 51.5 51.5 51.5 ...\n",
      " $ longitude     : num  -0.126 -0.126 -0.126 -0.126 -0.126 ...\n"
     ]
    }
   ],
   "source": [
    "str(train_ld)\n",
    "str(test_ld)"
   ]
  },
  {
   "cell_type": "code",
   "execution_count": 91,
   "metadata": {},
   "outputs": [
    {
     "data": {
      "text/plain": [
       "\n",
       "Call:\n",
       "lm(formula = .outcome ~ ., data = dat)\n",
       "\n",
       "Residuals:\n",
       "     Min       1Q   Median       3Q      Max \n",
       "-19.9336  -4.3853  -0.9233   3.0040  24.8500 \n",
       "\n",
       "Coefficients:\n",
       "             Estimate Std. Error t value Pr(>|t|)    \n",
       "(Intercept) 34.961295  22.395260   1.561    0.119    \n",
       "longitude   -5.789988   0.143772 -40.272   <2e-16 ***\n",
       "latitude    -0.459373   0.434925  -1.056    0.291    \n",
       "hour         0.090926   0.002526  35.996   <2e-16 ***\n",
       "month       -0.228780   0.005125 -44.643   <2e-16 ***\n",
       "weekend      0.339976   0.038901   8.739   <2e-16 ***\n",
       "holiday     -1.911035   0.115872 -16.493   <2e-16 ***\n",
       "---\n",
       "Signif. codes:  0 '***' 0.001 '**' 0.01 '*' 0.05 '.' 0.1 ' ' 1\n",
       "\n",
       "Residual standard error: 6.234 on 126853 degrees of freedom\n",
       "Multiple R-squared:  0.0403,\tAdjusted R-squared:  0.04025 \n",
       "F-statistic: 887.8 on 6 and 126853 DF,  p-value: < 2.2e-16\n"
      ]
     },
     "metadata": {},
     "output_type": "display_data"
    },
    {
     "data": {
      "text/html": [
       "<table>\n",
       "<thead><tr><th scope=col>rmse</th><th scope=col>rsq</th></tr></thead>\n",
       "<tbody>\n",
       "\t<tr><td>6.259695  </td><td>0.04227238</td></tr>\n",
       "</tbody>\n",
       "</table>\n"
      ],
      "text/latex": [
       "\\begin{tabular}{r|ll}\n",
       " rmse & rsq\\\\\n",
       "\\hline\n",
       "\t 6.259695   & 0.04227238\\\\\n",
       "\\end{tabular}\n"
      ],
      "text/markdown": [
       "\n",
       "rmse | rsq | \n",
       "|---|\n",
       "| 6.259695   | 0.04227238 | \n",
       "\n",
       "\n"
      ],
      "text/plain": [
       "  rmse     rsq       \n",
       "1 6.259695 0.04227238"
      ]
     },
     "metadata": {},
     "output_type": "display_data"
    }
   ],
   "source": [
    "# Predicting PM2.5 using stationId, hour, month and weekend variables\n",
    "PM2.5_ld_formula <- as.formula(\"PM2.5 ~ longitude + latitude + hour + month + weekend + holiday\")\n",
    "PM2.5_ld_model <- train(PM2.5_ld_formula, data = train_ld, method = \"lm\" )\n",
    "summary(PM2.5_ld_model)\n",
    "test_ld$PM2.5_pred <- predict(PM2.5_ld_model, test_ld)\n",
    "metrics(test_ld, truth = PM2.5, estimate = PM2.5_pred)"
   ]
  },
  {
   "cell_type": "code",
   "execution_count": 93,
   "metadata": {},
   "outputs": [
    {
     "data": {
      "text/plain": [
       "\n",
       "Call:\n",
       "lm(formula = .outcome ~ ., data = dat)\n",
       "\n",
       "Residuals:\n",
       "    Min      1Q  Median      3Q     Max \n",
       "-32.905  -3.932  -1.080   2.621  38.099 \n",
       "\n",
       "Coefficients:\n",
       "              Estimate Std. Error t value Pr(>|t|)    \n",
       "(Intercept)  1.484e+03  2.476e+01  59.951  < 2e-16 ***\n",
       "PM2.5        1.017e+00  3.104e-03 327.767  < 2e-16 ***\n",
       "longitude    1.278e-01  1.600e-01   0.799    0.424    \n",
       "latitude    -2.867e+01  4.809e-01 -59.621  < 2e-16 ***\n",
       "hour         4.235e-02  2.807e-03  15.086  < 2e-16 ***\n",
       "month       -9.968e-02  5.710e-03 -17.456  < 2e-16 ***\n",
       "weekend     -1.431e+00  4.302e-02 -33.267  < 2e-16 ***\n",
       "holiday     -1.051e+00  1.283e-01  -8.194 2.55e-16 ***\n",
       "---\n",
       "Signif. codes:  0 '***' 0.001 '**' 0.01 '*' 0.05 '.' 0.1 ' ' 1\n",
       "\n",
       "Residual standard error: 6.893 on 126852 degrees of freedom\n",
       "Multiple R-squared:  0.4833,\tAdjusted R-squared:  0.4833 \n",
       "F-statistic: 1.695e+04 on 7 and 126852 DF,  p-value: < 2.2e-16\n"
      ]
     },
     "metadata": {},
     "output_type": "display_data"
    },
    {
     "data": {
      "text/html": [
       "<table>\n",
       "<thead><tr><th scope=col>rmse</th><th scope=col>rsq</th></tr></thead>\n",
       "<tbody>\n",
       "\t<tr><td>6.933037 </td><td>0.4777391</td></tr>\n",
       "</tbody>\n",
       "</table>\n"
      ],
      "text/latex": [
       "\\begin{tabular}{r|ll}\n",
       " rmse & rsq\\\\\n",
       "\\hline\n",
       "\t 6.933037  & 0.4777391\\\\\n",
       "\\end{tabular}\n"
      ],
      "text/markdown": [
       "\n",
       "rmse | rsq | \n",
       "|---|\n",
       "| 6.933037  | 0.4777391 | \n",
       "\n",
       "\n"
      ],
      "text/plain": [
       "  rmse     rsq      \n",
       "1 6.933037 0.4777391"
      ]
     },
     "metadata": {},
     "output_type": "display_data"
    }
   ],
   "source": [
    "# Predicting PM10 using stationId, hour, month, weekend variables along with previously predicted PM2.5 \n",
    "PM10_ld_formula <- as.formula(\"PM10 ~ PM2.5 + longitude + latitude + hour + month + weekend + holiday\")\n",
    "PM10_ld_model <- train(PM10_ld_formula, data = train_ld, method = \"lm\" )\n",
    "summary(PM10_ld_model)\n",
    "test_ld$PM10_pred <- predict(PM10_ld_model, test_ld)\n",
    "metrics(test_ld, truth = PM10, estimate = PM10_pred)"
   ]
  },
  {
   "cell_type": "code",
   "execution_count": 95,
   "metadata": {},
   "outputs": [
    {
     "data": {
      "text/plain": [
       "\n",
       "Call:\n",
       "lm(formula = .outcome ~ ., data = dat)\n",
       "\n",
       "Residuals:\n",
       "    Min      1Q  Median      3Q     Max \n",
       "-62.208 -13.206  -2.959  10.944  85.546 \n",
       "\n",
       "Coefficients:\n",
       "              Estimate Std. Error  t value Pr(>|t|)    \n",
       "(Intercept) -8.512e+03  6.816e+01 -124.881  < 2e-16 ***\n",
       "PM2.5        3.985e-01  1.145e-02   34.800  < 2e-16 ***\n",
       "PM10         6.088e-01  7.621e-03   79.885  < 2e-16 ***\n",
       "longitude   -2.826e+01  4.342e-01  -65.082  < 2e-16 ***\n",
       "latitude     1.657e+02  1.323e+00  125.197  < 2e-16 ***\n",
       "hour         5.334e-01  7.626e-03   69.937  < 2e-16 ***\n",
       "month       -8.006e-02  1.552e-02   -5.159 2.49e-07 ***\n",
       "weekend     -5.748e+00  1.173e-01  -49.007  < 2e-16 ***\n",
       "holiday     -9.921e+00  3.482e-01  -28.491  < 2e-16 ***\n",
       "---\n",
       "Signif. codes:  0 '***' 0.001 '**' 0.01 '*' 0.05 '.' 0.1 ' ' 1\n",
       "\n",
       "Residual standard error: 18.71 on 126851 degrees of freedom\n",
       "Multiple R-squared:  0.3048,\tAdjusted R-squared:  0.3048 \n",
       "F-statistic:  6953 on 8 and 126851 DF,  p-value: < 2.2e-16\n"
      ]
     },
     "metadata": {},
     "output_type": "display_data"
    },
    {
     "data": {
      "text/html": [
       "<table>\n",
       "<thead><tr><th scope=col>rmse</th><th scope=col>rsq</th></tr></thead>\n",
       "<tbody>\n",
       "\t<tr><td>18.80985 </td><td>0.2918649</td></tr>\n",
       "</tbody>\n",
       "</table>\n"
      ],
      "text/latex": [
       "\\begin{tabular}{r|ll}\n",
       " rmse & rsq\\\\\n",
       "\\hline\n",
       "\t 18.80985  & 0.2918649\\\\\n",
       "\\end{tabular}\n"
      ],
      "text/markdown": [
       "\n",
       "rmse | rsq | \n",
       "|---|\n",
       "| 18.80985  | 0.2918649 | \n",
       "\n",
       "\n"
      ],
      "text/plain": [
       "  rmse     rsq      \n",
       "1 18.80985 0.2918649"
      ]
     },
     "metadata": {},
     "output_type": "display_data"
    }
   ],
   "source": [
    "# Predicting O3 using stationId, hour, month, weekend variables along with previously predicted PM2.5, PM10 and O3 variables\n",
    "O3_ld_formula <- as.formula(\"O3 ~ PM2.5 + PM10 + longitude + latitude + hour + month + weekend + holiday\")\n",
    "O3_ld_model <- train(O3_ld_formula, data = train_ld, method = \"lm\" )\n",
    "summary(O3_ld_model)\n",
    "test_ld$O3_pred <- predict(O3_ld_model, test_ld)\n",
    "metrics(test_ld, truth = O3, estimate = O3_pred)"
   ]
  },
  {
   "cell_type": "code",
   "execution_count": 96,
   "metadata": {
    "collapsed": true
   },
   "outputs": [],
   "source": [
    "rm(\"train_ld\")\n",
    "rm(\"test_ld\")"
   ]
  },
  {
   "cell_type": "markdown",
   "metadata": {},
   "source": [
    "### Building the next 2 days dataset and predicting PM2.5, PM10 and O3 values"
   ]
  },
  {
   "cell_type": "code",
   "execution_count": 97,
   "metadata": {
    "collapsed": true
   },
   "outputs": [],
   "source": [
    "#setting system timezone to UTC for consistent datetime usage\n",
    "Sys.setenv(TZ='GMT')\n",
    "tomorrow <- Sys.Date() + 1"
   ]
  },
  {
   "cell_type": "code",
   "execution_count": 98,
   "metadata": {
    "collapsed": true
   },
   "outputs": [],
   "source": [
    "# building 1 hour intervals for next 2 days and stationIds\n",
    "ld_time <-seq(from= as.POSIXct(tomorrow), by = \"1 hour\", length.out = 48)\n",
    "ld_time <- with_tz(ld_time, tzone = \"UTC\")\n",
    "ld_future_data <- data.frame(ld_time)\n",
    "# This id will be used in the creation of final submission file\n",
    "ld_future_data$id <- seq.int(nrow(ld_future_data)) -1\n",
    "ld_future_data <- merge(ld_future_data, data.frame(unique(ld_aq_gm_combined_data$stationId)))\n",
    "names(ld_future_data) <- c(\"utc_time\", \"id\", \"stationId\")"
   ]
  },
  {
   "cell_type": "code",
   "execution_count": 99,
   "metadata": {
    "collapsed": true
   },
   "outputs": [],
   "source": [
    "# building datetime features for the next 2 days\n",
    "ld_future_data$hour <- hour(ld_future_data$utc_time)\n",
    "ld_future_data$month <- month(ld_future_data$utc_time)\n",
    "ld_future_data$date <- date(ld_future_data$utc_time)\n",
    "ld_future_data$weekend = chron::is.weekend(ld_future_data$date)"
   ]
  },
  {
   "cell_type": "code",
   "execution_count": 100,
   "metadata": {
    "collapsed": true
   },
   "outputs": [],
   "source": [
    "ld_future_data$weekend <- as.integer(ld_future_data$weekend)\n",
    "ld_future_data$holiday <- ifelse(ld_future_data$date %in% as.Date(london_holidays), 1, 0)"
   ]
  },
  {
   "cell_type": "code",
   "execution_count": 101,
   "metadata": {
    "collapsed": true
   },
   "outputs": [],
   "source": [
    "# lat long data\n",
    "ld_future_data <- merge(ld_future_data,ld_lat_long_data, by = \"stationId\")"
   ]
  },
  {
   "cell_type": "code",
   "execution_count": 102,
   "metadata": {
    "collapsed": true
   },
   "outputs": [],
   "source": [
    "# predicting PM2.5, PM10 and O3 values\n",
    "ld_future_data$PM2.5 <- predict(PM2.5_ld_model, ld_future_data)\n",
    "ld_future_data$PM10 <- predict(PM10_ld_model, ld_future_data)\n",
    "ld_future_data$O3 <- predict(O3_ld_model, ld_future_data)"
   ]
  },
  {
   "cell_type": "code",
   "execution_count": 103,
   "metadata": {
    "collapsed": true
   },
   "outputs": [],
   "source": [
    "#creating the test_id for final submission file\n",
    "ld_future_data$test_id <- paste(ld_future_data$stationId, \"#\", ld_future_data$id, sep = \"\")"
   ]
  },
  {
   "cell_type": "code",
   "execution_count": 104,
   "metadata": {},
   "outputs": [
    {
     "name": "stdout",
     "output_type": "stream",
     "text": [
      "'data.frame':\t624 obs. of  14 variables:\n",
      " $ stationId: Factor w/ 24 levels \"BL0\",\"BX1\",\"BX9\",..: 1 1 1 1 1 1 1 1 1 1 ...\n",
      " $ utc_time : POSIXct, format: \"2018-05-30 00:00:00\" \"2018-05-30 01:00:00\" ...\n",
      " $ id       : num  0 1 2 3 4 5 6 7 8 9 ...\n",
      " $ hour     : int  0 1 2 3 4 5 6 7 8 9 ...\n",
      " $ month    : num  5 5 5 5 5 5 5 5 5 5 ...\n",
      " $ date     : Date, format: \"2018-05-30\" \"2018-05-30\" ...\n",
      " $ weekend  : int  0 0 0 0 0 0 0 0 0 0 ...\n",
      " $ holiday  : num  0 0 0 0 0 0 0 0 0 0 ...\n",
      " $ latitude : num  51.5 51.5 51.5 51.5 51.5 ...\n",
      " $ longitude: num  -0.126 -0.126 -0.126 -0.126 -0.126 ...\n",
      " $ PM2.5    : num  10.9 11 11.1 11.2 11.2 ...\n",
      " $ PM10     : num  17.9 18 18.1 18.3 18.4 ...\n",
      " $ O3       : num  43.5 44.2 44.8 45.5 46.1 ...\n",
      " $ test_id  : chr  \"BL0#0\" \"BL0#1\" \"BL0#2\" \"BL0#3\" ...\n"
     ]
    },
    {
     "data": {
      "text/plain": [
       "   stationId      utc_time                         id             hour      \n",
       " BL0    : 48   Min.   :2018-05-30 00:00:00   Min.   : 0.00   Min.   : 0.00  \n",
       " CD1    : 48   1st Qu.:2018-05-30 11:45:00   1st Qu.:11.75   1st Qu.: 5.75  \n",
       " CD9    : 48   Median :2018-05-30 23:30:00   Median :23.50   Median :11.50  \n",
       " GN0    : 48   Mean   :2018-05-30 23:30:00   Mean   :23.50   Mean   :11.50  \n",
       " GN3    : 48   3rd Qu.:2018-05-31 11:15:00   3rd Qu.:35.25   3rd Qu.:17.25  \n",
       " GR4    : 48   Max.   :2018-05-31 23:00:00   Max.   :47.00   Max.   :23.00  \n",
       " (Other):336                                                                \n",
       "     month        date               weekend     holiday     latitude    \n",
       " Min.   :5   Min.   :2018-05-30   Min.   :0   Min.   :0   Min.   :51.39  \n",
       " 1st Qu.:5   1st Qu.:2018-05-30   1st Qu.:0   1st Qu.:0   1st Qu.:51.47  \n",
       " Median :5   Median :2018-05-30   Median :0   Median :0   Median :51.52  \n",
       " Mean   :5   Mean   :2018-05-30   Mean   :0   Mean   :0   Mean   :51.49  \n",
       " 3rd Qu.:5   3rd Qu.:2018-05-31   3rd Qu.:0   3rd Qu.:0   3rd Qu.:51.52  \n",
       " Max.   :5   Max.   :2018-05-31   Max.   :0   Max.   :0   Max.   :51.54  \n",
       "                                                                         \n",
       "   longitude            PM2.5             PM10             O3       \n",
       " Min.   :-0.21349   Min.   : 8.961   Min.   :16.01   Min.   :24.42  \n",
       " 1st Qu.:-0.14166   1st Qu.:10.770   1st Qu.:18.70   1st Qu.:36.60  \n",
       " Median :-0.03964   Median :11.469   Median :19.63   Median :43.80  \n",
       " Mean   :-0.03861   Mean   :11.432   Mean   :19.74   Mean   :43.91  \n",
       " 3rd Qu.: 0.07077   3rd Qu.:12.123   3rd Qu.:20.57   3rd Qu.:51.07  \n",
       " Max.   : 0.20546   Max.   :13.477   Max.   :24.94   Max.   :63.45  \n",
       "                                                                    \n",
       "   test_id         \n",
       " Length:624        \n",
       " Class :character  \n",
       " Mode  :character  \n",
       "                   \n",
       "                   \n",
       "                   \n",
       "                   "
      ]
     },
     "metadata": {},
     "output_type": "display_data"
    },
    {
     "data": {
      "text/html": [
       "<table>\n",
       "<thead><tr><th scope=col>min_date</th><th scope=col>max_date</th></tr></thead>\n",
       "<tbody>\n",
       "\t<tr><td>2018-05-30         </td><td>2018-05-31 23:00:00</td></tr>\n",
       "</tbody>\n",
       "</table>\n"
      ],
      "text/latex": [
       "\\begin{tabular}{r|ll}\n",
       " min\\_date & max\\_date\\\\\n",
       "\\hline\n",
       "\t 2018-05-30          & 2018-05-31 23:00:00\\\\\n",
       "\\end{tabular}\n"
      ],
      "text/markdown": [
       "\n",
       "min_date | max_date | \n",
       "|---|\n",
       "| 2018-05-30          | 2018-05-31 23:00:00 | \n",
       "\n",
       "\n"
      ],
      "text/plain": [
       "  min_date   max_date           \n",
       "1 2018-05-30 2018-05-31 23:00:00"
      ]
     },
     "metadata": {},
     "output_type": "display_data"
    }
   ],
   "source": [
    "str(ld_future_data)\n",
    "summary(ld_future_data)\n",
    "ld_future_data %>% summarize(min_date = min(utc_time ), max_date = max(utc_time ))"
   ]
  },
  {
   "cell_type": "code",
   "execution_count": 105,
   "metadata": {},
   "outputs": [
    {
     "data": {
      "text/html": [
       "<table>\n",
       "<thead><tr><th scope=col>stationId</th><th scope=col>utc_time</th><th scope=col>id</th><th scope=col>hour</th><th scope=col>month</th><th scope=col>date</th><th scope=col>weekend</th><th scope=col>holiday</th><th scope=col>latitude</th><th scope=col>longitude</th><th scope=col>PM2.5</th><th scope=col>PM10</th><th scope=col>O3</th><th scope=col>test_id</th></tr></thead>\n",
       "<tbody>\n",
       "\t<tr><td>BL0                </td><td>2018-05-30 00:00:00</td><td> 0                 </td><td> 0                 </td><td>5                  </td><td>2018-05-30         </td><td>0                  </td><td>0                  </td><td>51.52229           </td><td>-0.125848          </td><td>10.87809           </td><td>17.87551           </td><td>43.53950           </td><td>BL0#0              </td></tr>\n",
       "\t<tr><td>BL0                </td><td>2018-05-30 01:00:00</td><td> 1                 </td><td> 1                 </td><td>5                  </td><td>2018-05-30         </td><td>0                  </td><td>0                  </td><td>51.52229           </td><td>-0.125848          </td><td>10.96902           </td><td>18.01037           </td><td>44.19121           </td><td>BL0#1              </td></tr>\n",
       "\t<tr><td>BL0                </td><td>2018-05-30 02:00:00</td><td> 2                 </td><td> 2                 </td><td>5                  </td><td>2018-05-30         </td><td>0                  </td><td>0                  </td><td>51.52229           </td><td>-0.125848          </td><td>11.05995           </td><td>18.14523           </td><td>44.84292           </td><td>BL0#2              </td></tr>\n",
       "\t<tr><td>BL0                </td><td>2018-05-30 03:00:00</td><td> 3                 </td><td> 3                 </td><td>5                  </td><td>2018-05-30         </td><td>0                  </td><td>0                  </td><td>51.52229           </td><td>-0.125848          </td><td>11.15087           </td><td>18.28010           </td><td>45.49463           </td><td>BL0#3              </td></tr>\n",
       "\t<tr><td>BL0                </td><td>2018-05-30 04:00:00</td><td> 4                 </td><td> 4                 </td><td>5                  </td><td>2018-05-30         </td><td>0                  </td><td>0                  </td><td>51.52229           </td><td>-0.125848          </td><td>11.24180           </td><td>18.41496           </td><td>46.14634           </td><td>BL0#4              </td></tr>\n",
       "\t<tr><td>BL0                </td><td>2018-05-30 05:00:00</td><td> 5                 </td><td> 5                 </td><td>5                  </td><td>2018-05-30         </td><td>0                  </td><td>0                  </td><td>51.52229           </td><td>-0.125848          </td><td>11.33272           </td><td>18.54982           </td><td>46.79805           </td><td>BL0#5              </td></tr>\n",
       "\t<tr><td>BL0                </td><td>2018-05-30 06:00:00</td><td> 6                 </td><td> 6                 </td><td>5                  </td><td>2018-05-30         </td><td>0                  </td><td>0                  </td><td>51.52229           </td><td>-0.125848          </td><td>11.42365           </td><td>18.68468           </td><td>47.44976           </td><td>BL0#6              </td></tr>\n",
       "\t<tr><td>BL0                </td><td>2018-05-30 07:00:00</td><td> 7                 </td><td> 7                 </td><td>5                  </td><td>2018-05-30         </td><td>0                  </td><td>0                  </td><td>51.52229           </td><td>-0.125848          </td><td>11.51457           </td><td>18.81954           </td><td>48.10147           </td><td>BL0#7              </td></tr>\n",
       "\t<tr><td>BL0                </td><td>2018-05-30 08:00:00</td><td> 8                 </td><td> 8                 </td><td>5                  </td><td>2018-05-30         </td><td>0                  </td><td>0                  </td><td>51.52229           </td><td>-0.125848          </td><td>11.60550           </td><td>18.95441           </td><td>48.75318           </td><td>BL0#8              </td></tr>\n",
       "\t<tr><td>BL0                </td><td>2018-05-30 09:00:00</td><td> 9                 </td><td> 9                 </td><td>5                  </td><td>2018-05-30         </td><td>0                  </td><td>0                  </td><td>51.52229           </td><td>-0.125848          </td><td>11.69643           </td><td>19.08927           </td><td>49.40489           </td><td>BL0#9              </td></tr>\n",
       "\t<tr><td>BL0                </td><td>2018-05-30 10:00:00</td><td>10                 </td><td>10                 </td><td>5                  </td><td>2018-05-30         </td><td>0                  </td><td>0                  </td><td>51.52229           </td><td>-0.125848          </td><td>11.78735           </td><td>19.22413           </td><td>50.05660           </td><td>BL0#10             </td></tr>\n",
       "\t<tr><td>BL0                </td><td>2018-05-30 11:00:00</td><td>11                 </td><td>11                 </td><td>5                  </td><td>2018-05-30         </td><td>0                  </td><td>0                  </td><td>51.52229           </td><td>-0.125848          </td><td>11.87828           </td><td>19.35899           </td><td>50.70831           </td><td>BL0#11             </td></tr>\n",
       "\t<tr><td>BL0                </td><td>2018-05-30 12:00:00</td><td>12                 </td><td>12                 </td><td>5                  </td><td>2018-05-30         </td><td>0                  </td><td>0                  </td><td>51.52229           </td><td>-0.125848          </td><td>11.96920           </td><td>19.49385           </td><td>51.36002           </td><td>BL0#12             </td></tr>\n",
       "\t<tr><td>BL0                </td><td>2018-05-30 13:00:00</td><td>13                 </td><td>13                 </td><td>5                  </td><td>2018-05-30         </td><td>0                  </td><td>0                  </td><td>51.52229           </td><td>-0.125848          </td><td>12.06013           </td><td>19.62871           </td><td>52.01173           </td><td>BL0#13             </td></tr>\n",
       "\t<tr><td>BL0                </td><td>2018-05-30 14:00:00</td><td>14                 </td><td>14                 </td><td>5                  </td><td>2018-05-30         </td><td>0                  </td><td>0                  </td><td>51.52229           </td><td>-0.125848          </td><td>12.15105           </td><td>19.76358           </td><td>52.66344           </td><td>BL0#14             </td></tr>\n",
       "\t<tr><td>BL0                </td><td>2018-05-30 15:00:00</td><td>15                 </td><td>15                 </td><td>5                  </td><td>2018-05-30         </td><td>0                  </td><td>0                  </td><td>51.52229           </td><td>-0.125848          </td><td>12.24198           </td><td>19.89844           </td><td>53.31515           </td><td>BL0#15             </td></tr>\n",
       "\t<tr><td>BL0                </td><td>2018-05-30 16:00:00</td><td>16                 </td><td>16                 </td><td>5                  </td><td>2018-05-30         </td><td>0                  </td><td>0                  </td><td>51.52229           </td><td>-0.125848          </td><td>12.33291           </td><td>20.03330           </td><td>53.96686           </td><td>BL0#16             </td></tr>\n",
       "\t<tr><td>BL0                </td><td>2018-05-30 17:00:00</td><td>17                 </td><td>17                 </td><td>5                  </td><td>2018-05-30         </td><td>0                  </td><td>0                  </td><td>51.52229           </td><td>-0.125848          </td><td>12.42383           </td><td>20.16816           </td><td>54.61857           </td><td>BL0#17             </td></tr>\n",
       "\t<tr><td>BL0                </td><td>2018-05-30 18:00:00</td><td>18                 </td><td>18                 </td><td>5                  </td><td>2018-05-30         </td><td>0                  </td><td>0                  </td><td>51.52229           </td><td>-0.125848          </td><td>12.51476           </td><td>20.30302           </td><td>55.27028           </td><td>BL0#18             </td></tr>\n",
       "\t<tr><td>BL0                </td><td>2018-05-30 19:00:00</td><td>19                 </td><td>19                 </td><td>5                  </td><td>2018-05-30         </td><td>0                  </td><td>0                  </td><td>51.52229           </td><td>-0.125848          </td><td>12.60568           </td><td>20.43789           </td><td>55.92199           </td><td>BL0#19             </td></tr>\n",
       "</tbody>\n",
       "</table>\n"
      ],
      "text/latex": [
       "\\begin{tabular}{r|llllllllllllll}\n",
       " stationId & utc\\_time & id & hour & month & date & weekend & holiday & latitude & longitude & PM2.5 & PM10 & O3 & test\\_id\\\\\n",
       "\\hline\n",
       "\t BL0                 & 2018-05-30 00:00:00 &  0                  &  0                  & 5                   & 2018-05-30          & 0                   & 0                   & 51.52229            & -0.125848           & 10.87809            & 17.87551            & 43.53950            & BL0\\#0            \\\\\n",
       "\t BL0                 & 2018-05-30 01:00:00 &  1                  &  1                  & 5                   & 2018-05-30          & 0                   & 0                   & 51.52229            & -0.125848           & 10.96902            & 18.01037            & 44.19121            & BL0\\#1            \\\\\n",
       "\t BL0                 & 2018-05-30 02:00:00 &  2                  &  2                  & 5                   & 2018-05-30          & 0                   & 0                   & 51.52229            & -0.125848           & 11.05995            & 18.14523            & 44.84292            & BL0\\#2            \\\\\n",
       "\t BL0                 & 2018-05-30 03:00:00 &  3                  &  3                  & 5                   & 2018-05-30          & 0                   & 0                   & 51.52229            & -0.125848           & 11.15087            & 18.28010            & 45.49463            & BL0\\#3            \\\\\n",
       "\t BL0                 & 2018-05-30 04:00:00 &  4                  &  4                  & 5                   & 2018-05-30          & 0                   & 0                   & 51.52229            & -0.125848           & 11.24180            & 18.41496            & 46.14634            & BL0\\#4            \\\\\n",
       "\t BL0                 & 2018-05-30 05:00:00 &  5                  &  5                  & 5                   & 2018-05-30          & 0                   & 0                   & 51.52229            & -0.125848           & 11.33272            & 18.54982            & 46.79805            & BL0\\#5            \\\\\n",
       "\t BL0                 & 2018-05-30 06:00:00 &  6                  &  6                  & 5                   & 2018-05-30          & 0                   & 0                   & 51.52229            & -0.125848           & 11.42365            & 18.68468            & 47.44976            & BL0\\#6            \\\\\n",
       "\t BL0                 & 2018-05-30 07:00:00 &  7                  &  7                  & 5                   & 2018-05-30          & 0                   & 0                   & 51.52229            & -0.125848           & 11.51457            & 18.81954            & 48.10147            & BL0\\#7            \\\\\n",
       "\t BL0                 & 2018-05-30 08:00:00 &  8                  &  8                  & 5                   & 2018-05-30          & 0                   & 0                   & 51.52229            & -0.125848           & 11.60550            & 18.95441            & 48.75318            & BL0\\#8            \\\\\n",
       "\t BL0                 & 2018-05-30 09:00:00 &  9                  &  9                  & 5                   & 2018-05-30          & 0                   & 0                   & 51.52229            & -0.125848           & 11.69643            & 19.08927            & 49.40489            & BL0\\#9            \\\\\n",
       "\t BL0                 & 2018-05-30 10:00:00 & 10                  & 10                  & 5                   & 2018-05-30          & 0                   & 0                   & 51.52229            & -0.125848           & 11.78735            & 19.22413            & 50.05660            & BL0\\#10           \\\\\n",
       "\t BL0                 & 2018-05-30 11:00:00 & 11                  & 11                  & 5                   & 2018-05-30          & 0                   & 0                   & 51.52229            & -0.125848           & 11.87828            & 19.35899            & 50.70831            & BL0\\#11           \\\\\n",
       "\t BL0                 & 2018-05-30 12:00:00 & 12                  & 12                  & 5                   & 2018-05-30          & 0                   & 0                   & 51.52229            & -0.125848           & 11.96920            & 19.49385            & 51.36002            & BL0\\#12           \\\\\n",
       "\t BL0                 & 2018-05-30 13:00:00 & 13                  & 13                  & 5                   & 2018-05-30          & 0                   & 0                   & 51.52229            & -0.125848           & 12.06013            & 19.62871            & 52.01173            & BL0\\#13           \\\\\n",
       "\t BL0                 & 2018-05-30 14:00:00 & 14                  & 14                  & 5                   & 2018-05-30          & 0                   & 0                   & 51.52229            & -0.125848           & 12.15105            & 19.76358            & 52.66344            & BL0\\#14           \\\\\n",
       "\t BL0                 & 2018-05-30 15:00:00 & 15                  & 15                  & 5                   & 2018-05-30          & 0                   & 0                   & 51.52229            & -0.125848           & 12.24198            & 19.89844            & 53.31515            & BL0\\#15           \\\\\n",
       "\t BL0                 & 2018-05-30 16:00:00 & 16                  & 16                  & 5                   & 2018-05-30          & 0                   & 0                   & 51.52229            & -0.125848           & 12.33291            & 20.03330            & 53.96686            & BL0\\#16           \\\\\n",
       "\t BL0                 & 2018-05-30 17:00:00 & 17                  & 17                  & 5                   & 2018-05-30          & 0                   & 0                   & 51.52229            & -0.125848           & 12.42383            & 20.16816            & 54.61857            & BL0\\#17           \\\\\n",
       "\t BL0                 & 2018-05-30 18:00:00 & 18                  & 18                  & 5                   & 2018-05-30          & 0                   & 0                   & 51.52229            & -0.125848           & 12.51476            & 20.30302            & 55.27028            & BL0\\#18           \\\\\n",
       "\t BL0                 & 2018-05-30 19:00:00 & 19                  & 19                  & 5                   & 2018-05-30          & 0                   & 0                   & 51.52229            & -0.125848           & 12.60568            & 20.43789            & 55.92199            & BL0\\#19           \\\\\n",
       "\\end{tabular}\n"
      ],
      "text/markdown": [
       "\n",
       "stationId | utc_time | id | hour | month | date | weekend | holiday | latitude | longitude | PM2.5 | PM10 | O3 | test_id | \n",
       "|---|---|---|---|---|---|---|---|---|---|---|---|---|---|---|---|---|---|---|---|\n",
       "| BL0                 | 2018-05-30 00:00:00 |  0                  |  0                  | 5                   | 2018-05-30          | 0                   | 0                   | 51.52229            | -0.125848           | 10.87809            | 17.87551            | 43.53950            | BL0#0               | \n",
       "| BL0                 | 2018-05-30 01:00:00 |  1                  |  1                  | 5                   | 2018-05-30          | 0                   | 0                   | 51.52229            | -0.125848           | 10.96902            | 18.01037            | 44.19121            | BL0#1               | \n",
       "| BL0                 | 2018-05-30 02:00:00 |  2                  |  2                  | 5                   | 2018-05-30          | 0                   | 0                   | 51.52229            | -0.125848           | 11.05995            | 18.14523            | 44.84292            | BL0#2               | \n",
       "| BL0                 | 2018-05-30 03:00:00 |  3                  |  3                  | 5                   | 2018-05-30          | 0                   | 0                   | 51.52229            | -0.125848           | 11.15087            | 18.28010            | 45.49463            | BL0#3               | \n",
       "| BL0                 | 2018-05-30 04:00:00 |  4                  |  4                  | 5                   | 2018-05-30          | 0                   | 0                   | 51.52229            | -0.125848           | 11.24180            | 18.41496            | 46.14634            | BL0#4               | \n",
       "| BL0                 | 2018-05-30 05:00:00 |  5                  |  5                  | 5                   | 2018-05-30          | 0                   | 0                   | 51.52229            | -0.125848           | 11.33272            | 18.54982            | 46.79805            | BL0#5               | \n",
       "| BL0                 | 2018-05-30 06:00:00 |  6                  |  6                  | 5                   | 2018-05-30          | 0                   | 0                   | 51.52229            | -0.125848           | 11.42365            | 18.68468            | 47.44976            | BL0#6               | \n",
       "| BL0                 | 2018-05-30 07:00:00 |  7                  |  7                  | 5                   | 2018-05-30          | 0                   | 0                   | 51.52229            | -0.125848           | 11.51457            | 18.81954            | 48.10147            | BL0#7               | \n",
       "| BL0                 | 2018-05-30 08:00:00 |  8                  |  8                  | 5                   | 2018-05-30          | 0                   | 0                   | 51.52229            | -0.125848           | 11.60550            | 18.95441            | 48.75318            | BL0#8               | \n",
       "| BL0                 | 2018-05-30 09:00:00 |  9                  |  9                  | 5                   | 2018-05-30          | 0                   | 0                   | 51.52229            | -0.125848           | 11.69643            | 19.08927            | 49.40489            | BL0#9               | \n",
       "| BL0                 | 2018-05-30 10:00:00 | 10                  | 10                  | 5                   | 2018-05-30          | 0                   | 0                   | 51.52229            | -0.125848           | 11.78735            | 19.22413            | 50.05660            | BL0#10              | \n",
       "| BL0                 | 2018-05-30 11:00:00 | 11                  | 11                  | 5                   | 2018-05-30          | 0                   | 0                   | 51.52229            | -0.125848           | 11.87828            | 19.35899            | 50.70831            | BL0#11              | \n",
       "| BL0                 | 2018-05-30 12:00:00 | 12                  | 12                  | 5                   | 2018-05-30          | 0                   | 0                   | 51.52229            | -0.125848           | 11.96920            | 19.49385            | 51.36002            | BL0#12              | \n",
       "| BL0                 | 2018-05-30 13:00:00 | 13                  | 13                  | 5                   | 2018-05-30          | 0                   | 0                   | 51.52229            | -0.125848           | 12.06013            | 19.62871            | 52.01173            | BL0#13              | \n",
       "| BL0                 | 2018-05-30 14:00:00 | 14                  | 14                  | 5                   | 2018-05-30          | 0                   | 0                   | 51.52229            | -0.125848           | 12.15105            | 19.76358            | 52.66344            | BL0#14              | \n",
       "| BL0                 | 2018-05-30 15:00:00 | 15                  | 15                  | 5                   | 2018-05-30          | 0                   | 0                   | 51.52229            | -0.125848           | 12.24198            | 19.89844            | 53.31515            | BL0#15              | \n",
       "| BL0                 | 2018-05-30 16:00:00 | 16                  | 16                  | 5                   | 2018-05-30          | 0                   | 0                   | 51.52229            | -0.125848           | 12.33291            | 20.03330            | 53.96686            | BL0#16              | \n",
       "| BL0                 | 2018-05-30 17:00:00 | 17                  | 17                  | 5                   | 2018-05-30          | 0                   | 0                   | 51.52229            | -0.125848           | 12.42383            | 20.16816            | 54.61857            | BL0#17              | \n",
       "| BL0                 | 2018-05-30 18:00:00 | 18                  | 18                  | 5                   | 2018-05-30          | 0                   | 0                   | 51.52229            | -0.125848           | 12.51476            | 20.30302            | 55.27028            | BL0#18              | \n",
       "| BL0                 | 2018-05-30 19:00:00 | 19                  | 19                  | 5                   | 2018-05-30          | 0                   | 0                   | 51.52229            | -0.125848           | 12.60568            | 20.43789            | 55.92199            | BL0#19              | \n",
       "\n",
       "\n"
      ],
      "text/plain": [
       "   stationId utc_time            id hour month date       weekend holiday\n",
       "1  BL0       2018-05-30 00:00:00  0  0   5     2018-05-30 0       0      \n",
       "2  BL0       2018-05-30 01:00:00  1  1   5     2018-05-30 0       0      \n",
       "3  BL0       2018-05-30 02:00:00  2  2   5     2018-05-30 0       0      \n",
       "4  BL0       2018-05-30 03:00:00  3  3   5     2018-05-30 0       0      \n",
       "5  BL0       2018-05-30 04:00:00  4  4   5     2018-05-30 0       0      \n",
       "6  BL0       2018-05-30 05:00:00  5  5   5     2018-05-30 0       0      \n",
       "7  BL0       2018-05-30 06:00:00  6  6   5     2018-05-30 0       0      \n",
       "8  BL0       2018-05-30 07:00:00  7  7   5     2018-05-30 0       0      \n",
       "9  BL0       2018-05-30 08:00:00  8  8   5     2018-05-30 0       0      \n",
       "10 BL0       2018-05-30 09:00:00  9  9   5     2018-05-30 0       0      \n",
       "11 BL0       2018-05-30 10:00:00 10 10   5     2018-05-30 0       0      \n",
       "12 BL0       2018-05-30 11:00:00 11 11   5     2018-05-30 0       0      \n",
       "13 BL0       2018-05-30 12:00:00 12 12   5     2018-05-30 0       0      \n",
       "14 BL0       2018-05-30 13:00:00 13 13   5     2018-05-30 0       0      \n",
       "15 BL0       2018-05-30 14:00:00 14 14   5     2018-05-30 0       0      \n",
       "16 BL0       2018-05-30 15:00:00 15 15   5     2018-05-30 0       0      \n",
       "17 BL0       2018-05-30 16:00:00 16 16   5     2018-05-30 0       0      \n",
       "18 BL0       2018-05-30 17:00:00 17 17   5     2018-05-30 0       0      \n",
       "19 BL0       2018-05-30 18:00:00 18 18   5     2018-05-30 0       0      \n",
       "20 BL0       2018-05-30 19:00:00 19 19   5     2018-05-30 0       0      \n",
       "   latitude longitude PM2.5    PM10     O3       test_id\n",
       "1  51.52229 -0.125848 10.87809 17.87551 43.53950 BL0#0  \n",
       "2  51.52229 -0.125848 10.96902 18.01037 44.19121 BL0#1  \n",
       "3  51.52229 -0.125848 11.05995 18.14523 44.84292 BL0#2  \n",
       "4  51.52229 -0.125848 11.15087 18.28010 45.49463 BL0#3  \n",
       "5  51.52229 -0.125848 11.24180 18.41496 46.14634 BL0#4  \n",
       "6  51.52229 -0.125848 11.33272 18.54982 46.79805 BL0#5  \n",
       "7  51.52229 -0.125848 11.42365 18.68468 47.44976 BL0#6  \n",
       "8  51.52229 -0.125848 11.51457 18.81954 48.10147 BL0#7  \n",
       "9  51.52229 -0.125848 11.60550 18.95441 48.75318 BL0#8  \n",
       "10 51.52229 -0.125848 11.69643 19.08927 49.40489 BL0#9  \n",
       "11 51.52229 -0.125848 11.78735 19.22413 50.05660 BL0#10 \n",
       "12 51.52229 -0.125848 11.87828 19.35899 50.70831 BL0#11 \n",
       "13 51.52229 -0.125848 11.96920 19.49385 51.36002 BL0#12 \n",
       "14 51.52229 -0.125848 12.06013 19.62871 52.01173 BL0#13 \n",
       "15 51.52229 -0.125848 12.15105 19.76358 52.66344 BL0#14 \n",
       "16 51.52229 -0.125848 12.24198 19.89844 53.31515 BL0#15 \n",
       "17 51.52229 -0.125848 12.33291 20.03330 53.96686 BL0#16 \n",
       "18 51.52229 -0.125848 12.42383 20.16816 54.61857 BL0#17 \n",
       "19 51.52229 -0.125848 12.51476 20.30302 55.27028 BL0#18 \n",
       "20 51.52229 -0.125848 12.60568 20.43789 55.92199 BL0#19 "
      ]
     },
     "metadata": {},
     "output_type": "display_data"
    }
   ],
   "source": [
    "head(ld_future_data, 20)"
   ]
  },
  {
   "cell_type": "code",
   "execution_count": null,
   "metadata": {
    "collapsed": true
   },
   "outputs": [],
   "source": [
    "write.csv(ld_future_data[,c(\"test_id\", \"PM2.5\", \"PM10\", \"O3\")], file = paste(\"ld_submission\",Sys.Date(),\".csv\"), row.names = FALSE)"
   ]
  },
  {
   "cell_type": "code",
   "execution_count": null,
   "metadata": {
    "collapsed": true
   },
   "outputs": [],
   "source": [
    "# resetting the timezone\n",
    "Sys.unsetenv(\"TZ\")"
   ]
  },
  {
   "cell_type": "code",
   "execution_count": null,
   "metadata": {
    "collapsed": true
   },
   "outputs": [],
   "source": [
    "rm(\"ld_future_data\")\n",
    "rm(\"ld_lat_long_data\")\n",
    "rm(\"ld_aq_gm_combined_data\")"
   ]
  }
 ],
 "metadata": {
  "kernelspec": {
   "display_name": "R",
   "language": "R",
   "name": "ir"
  },
  "language_info": {
   "codemirror_mode": "r",
   "file_extension": ".r",
   "mimetype": "text/x-r-source",
   "name": "R",
   "pygments_lexer": "r",
   "version": "3.4.2"
  }
 },
 "nbformat": 4,
 "nbformat_minor": 2
}
