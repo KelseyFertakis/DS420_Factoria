{
 "cells": [
  {
   "cell_type": "markdown",
   "metadata": {},
   "source": [
    "### Import and transformations of API data"
   ]
  },
  {
   "cell_type": "code",
   "execution_count": 1,
   "metadata": {},
   "outputs": [
    {
     "data": {
      "text/html": [
       "<strong>null device:</strong> 1"
      ],
      "text/latex": [
       "\\textbf{null device:} 1"
      ],
      "text/markdown": [
       "**null device:** 1"
      ],
      "text/plain": [
       "null device \n",
       "          1 "
      ]
     },
     "metadata": {},
     "output_type": "display_data"
    },
    {
     "name": "stdout",
     "output_type": "stream",
     "text": [
      "\f"
     ]
    }
   ],
   "source": [
    "if(!is.null(dev.list())) dev.off() # Clear Plots\n",
    "rm(list=ls()) # Clear objects from Memory\n",
    "cat(\"\\014\") # Clear Console\n",
    "# writeClipboard(as.character(x)) # copy data frame to clipboard"
   ]
  },
  {
   "cell_type": "code",
   "execution_count": null,
   "metadata": {},
   "outputs": [],
   "source": [
    "library(RCurl)\n",
    "library(sqldf)\n",
    "library(digest)\n",
    "library(dplyr)\n",
    "library(anytime)\n",
    "library(geosphere)\n",
    "library(lubridate)\n",
    "library(chron)\n",
    "require(caret)\n",
    "require(rattle)\n",
    "require(yardstick)"
   ]
  },
  {
   "cell_type": "code",
   "execution_count": 3,
   "metadata": {
    "collapsed": true
   },
   "outputs": [],
   "source": [
    "# set working directory\n",
    "setwd(\"C:/Users/vanethi/Documents/GitHub/DS420_Factoria\")"
   ]
  },
  {
   "cell_type": "code",
   "execution_count": 4,
   "metadata": {
    "collapsed": true
   },
   "outputs": [],
   "source": [
    "# set start and end date\n",
    "startDate <- '2017-12-31-0'\n",
    "endDate <- '2018-06-01-0'"
   ]
  },
  {
   "cell_type": "code",
   "execution_count": 5,
   "metadata": {
    "collapsed": true
   },
   "outputs": [],
   "source": [
    "# pull data for London\n",
    "\n",
    "# acquire air quality data\n",
    "ld_aq_url <- paste0(\"https://biendata.com/competition/airquality/ld/\",startDate,\"/\",endDate,\"/2k0d1d8\")\n",
    "ld_aq_file <- getURL(ld_aq_url, ssl.verifyhost=FALSE, ssl.verifypeer=FALSE)\n",
    "ld_aq_data <- read.csv(textConnection(ld_aq_file), header=TRUE)\n",
    "  \n",
    "# acquire API grid meteorology data\n",
    "ld_gm_url <- paste0(\"https://biendata.com/competition/meteorology/ld_grid/\",startDate,\"/\",endDate,\"/2k0d1d8\")\n",
    "ld_gm_file <- getURL(ld_gm_url, ssl.verifyhost=FALSE, ssl.verifypeer=FALSE)\n",
    "ld_gm_data <- read.csv(textConnection(ld_gm_file), header=TRUE)"
   ]
  },
  {
   "cell_type": "code",
   "execution_count": 6,
   "metadata": {},
   "outputs": [
    {
     "data": {
      "text/html": [
       "<ol class=list-inline>\n",
       "\t<li>'ld_gm_data'</li>\n",
       "\t<li>'ld_aq_data'</li>\n",
       "</ol>\n"
      ],
      "text/latex": [
       "\\begin{enumerate*}\n",
       "\\item 'ld\\_gm\\_data'\n",
       "\\item 'ld\\_aq\\_data'\n",
       "\\end{enumerate*}\n"
      ],
      "text/markdown": [
       "1. 'ld_gm_data'\n",
       "2. 'ld_aq_data'\n",
       "\n",
       "\n"
      ],
      "text/plain": [
       "[1] \"ld_gm_data\" \"ld_aq_data\""
      ]
     },
     "metadata": {},
     "output_type": "display_data"
    }
   ],
   "source": [
    "# list of available data frames\n",
    "df.list <- names(which(unlist(eapply(.GlobalEnv,is.data.frame))))\n",
    "df.list"
   ]
  },
  {
   "cell_type": "code",
   "execution_count": 7,
   "metadata": {
    "collapsed": true
   },
   "outputs": [],
   "source": [
    "# Converting character to datetime\n",
    "ld_gm_data$time <- anytime(ld_gm_data$time)\n",
    "ld_aq_data$time <- anytime(ld_aq_data$time)"
   ]
  },
  {
   "cell_type": "code",
   "execution_count": 8,
   "metadata": {},
   "outputs": [
    {
     "name": "stdout",
     "output_type": "stream",
     "text": [
      "[1] \"ld_gm_data\"\n",
      "'data.frame':\t1035697 obs. of  9 variables:\n",
      " $ id            : int  2000096 2000097 2000098 2000099 2000100 2000101 2000102 2000103 2000104 2000105 ...\n",
      " $ station_id    : Factor w/ 861 levels \"london_grid_000\",..: 1 2 3 4 5 6 7 8 9 10 ...\n",
      " $ time          : POSIXct, format: \"2018-03-31 07:00:00\" \"2018-03-31 07:00:00\" ...\n",
      " $ weather       : Factor w/ 8 levels \"CLEAR_DAY\",\"CLEAR_NIGHT\",..: 3 3 3 6 6 6 6 6 6 6 ...\n",
      " $ temperature   : num  6.14 5.43 4.73 4.25 3.99 3.72 3.75 3.78 3.86 3.98 ...\n",
      " $ pressure      : num  995 994 993 990 986 ...\n",
      " $ humidity      : num  85 88 91 93 95 97 96 96 96 96 ...\n",
      " $ wind_direction: num  304 303 302 303 306 ...\n",
      " $ wind_speed    : num  22 18.9 15.8 14.1 13.6 ...\n",
      "NULL\n",
      "[1] \"ld_aq_data\"\n",
      "'data.frame':\t23006 obs. of  9 variables:\n",
      " $ id                : int  2941506 2941507 2941508 2941509 2941510 2941511 2941512 2941513 2941514 2941515 ...\n",
      " $ station_id        : Factor w/ 19 levels \"BL0\",\"BX1\",\"BX9\",..: 4 1 10 15 12 9 11 14 8 13 ...\n",
      " $ time              : POSIXct, format: \"2018-03-31 07:00:00\" \"2018-03-31 07:00:00\" ...\n",
      " $ PM25_Concentration: num  9.9 8.5 4.8 9.3 8.6 7.4 3.8 14.4 7.4 5.9 ...\n",
      " $ PM10_Concentration: num  14.3 8.8 8.9 10.4 10.5 10.6 6.6 24.1 13.1 6.9 ...\n",
      " $ NO2_Concentration : num  70.4 44.8 16.5 NA 35.7 48.9 36.5 43.3 57.5 NA ...\n",
      " $ CO_Concentration  : logi  NA NA NA NA NA NA ...\n",
      " $ O3_Concentration  : logi  NA NA NA NA NA NA ...\n",
      " $ SO2_Concentration : logi  NA NA NA NA NA NA ...\n",
      "NULL\n"
     ]
    }
   ],
   "source": [
    "# printing structure of all the datasets\n",
    "for (i in 1:length(df.list)) {\n",
    " print(df.list[i])\n",
    "  print(str(get(df.list[i])))\n",
    "}"
   ]
  },
  {
   "cell_type": "code",
   "execution_count": 9,
   "metadata": {},
   "outputs": [
    {
     "name": "stdout",
     "output_type": "stream",
     "text": [
      "[1] \"ld_gm_data\"\n"
     ]
    },
    {
     "data": {
      "text/html": [
       "<table>\n",
       "<thead><tr><th scope=col>min_date</th><th scope=col>max_date</th></tr></thead>\n",
       "<tbody>\n",
       "\t<tr><td>2018-03-31 07:00:00</td><td>2018-05-21         </td></tr>\n",
       "</tbody>\n",
       "</table>\n"
      ],
      "text/latex": [
       "\\begin{tabular}{r|ll}\n",
       " min\\_date & max\\_date\\\\\n",
       "\\hline\n",
       "\t 2018-03-31 07:00:00 & 2018-05-21         \\\\\n",
       "\\end{tabular}\n"
      ],
      "text/markdown": [
       "\n",
       "min_date | max_date | \n",
       "|---|\n",
       "| 2018-03-31 07:00:00 | 2018-05-21          | \n",
       "\n",
       "\n"
      ],
      "text/plain": [
       "  min_date            max_date  \n",
       "1 2018-03-31 07:00:00 2018-05-21"
      ]
     },
     "metadata": {},
     "output_type": "display_data"
    },
    {
     "name": "stdout",
     "output_type": "stream",
     "text": [
      "[1] \"ld_aq_data\"\n"
     ]
    },
    {
     "data": {
      "text/html": [
       "<table>\n",
       "<thead><tr><th scope=col>min_date</th><th scope=col>max_date</th></tr></thead>\n",
       "<tbody>\n",
       "\t<tr><td>2018-03-31 07:00:00</td><td>2018-05-20 22:00:00</td></tr>\n",
       "</tbody>\n",
       "</table>\n"
      ],
      "text/latex": [
       "\\begin{tabular}{r|ll}\n",
       " min\\_date & max\\_date\\\\\n",
       "\\hline\n",
       "\t 2018-03-31 07:00:00 & 2018-05-20 22:00:00\\\\\n",
       "\\end{tabular}\n"
      ],
      "text/markdown": [
       "\n",
       "min_date | max_date | \n",
       "|---|\n",
       "| 2018-03-31 07:00:00 | 2018-05-20 22:00:00 | \n",
       "\n",
       "\n"
      ],
      "text/plain": [
       "  min_date            max_date           \n",
       "1 2018-03-31 07:00:00 2018-05-20 22:00:00"
      ]
     },
     "metadata": {},
     "output_type": "display_data"
    }
   ],
   "source": [
    "# Printing the min and max dates of all datasets\n",
    "print(\"ld_gm_data\")\n",
    "ld_gm_data %>% summarize(min_date = min(time), max_date = max(time))\n",
    "print(\"ld_aq_data\")\n",
    "ld_aq_data %>% summarize(min_date = min(time), max_date = max(time))"
   ]
  },
  {
   "cell_type": "code",
   "execution_count": 10,
   "metadata": {
    "collapsed": true
   },
   "outputs": [],
   "source": [
    "# using only required columns\n",
    "ld_aq_data <- ld_aq_data %>% select(-id)\n",
    "ld_gm_data <- ld_gm_data %>% select(-c(id, weather))"
   ]
  },
  {
   "cell_type": "code",
   "execution_count": 11,
   "metadata": {
    "collapsed": true
   },
   "outputs": [],
   "source": [
    "# London closest grids to stations\n",
    "ld_closest_stations <- read.csv('SL_london_closest_stations.csv')"
   ]
  },
  {
   "cell_type": "code",
   "execution_count": 13,
   "metadata": {
    "collapsed": true
   },
   "outputs": [],
   "source": [
    "# Modifying column names for consistency\n",
    "colnames(ld_closest_stations) <- c('x',\"stationId\",\"stationName\",\"distance\") \n",
    "colnames(ld_aq_data) <- c(\"stationId\",\"utc_time\",\"PM2.5\",\"PM10\",\"NO2\",\"CO\",\"O3\", \"SO2\") \n",
    "colnames(ld_gm_data) <- c(\"stationName\",\"utc_time\",\"temperature\",\"pressure\",\"humidity\",\"wind_direction\",\"wind_speed.kph\") "
   ]
  },
  {
   "cell_type": "code",
   "execution_count": 14,
   "metadata": {},
   "outputs": [
    {
     "name": "stdout",
     "output_type": "stream",
     "text": [
      "'data.frame':\t24 obs. of  4 variables:\n",
      " $ x          : int  1 2 3 4 5 6 7 8 9 10 ...\n",
      " $ stationId  : Factor w/ 24 levels \"BL0\",\"BX1\",\"BX9\",..: 3 2 1 5 4 7 8 6 10 12 ...\n",
      " $ stationName: Factor w/ 10 levels \"london_grid_346\",..: 10 10 6 6 4 6 6 5 8 8 ...\n",
      " $ distance   : num  3929 3929 3060 3683 5212 ...\n",
      "'data.frame':\t1035697 obs. of  7 variables:\n",
      " $ stationName   : Factor w/ 861 levels \"london_grid_000\",..: 1 2 3 4 5 6 7 8 9 10 ...\n",
      " $ utc_time      : POSIXct, format: \"2018-03-31 07:00:00\" \"2018-03-31 07:00:00\" ...\n",
      " $ temperature   : num  6.14 5.43 4.73 4.25 3.99 3.72 3.75 3.78 3.86 3.98 ...\n",
      " $ pressure      : num  995 994 993 990 986 ...\n",
      " $ humidity      : num  85 88 91 93 95 97 96 96 96 96 ...\n",
      " $ wind_direction: num  304 303 302 303 306 ...\n",
      " $ wind_speed.kph: num  22 18.9 15.8 14.1 13.6 ...\n",
      "'data.frame':\t23006 obs. of  8 variables:\n",
      " $ stationId: Factor w/ 19 levels \"BL0\",\"BX1\",\"BX9\",..: 4 1 10 15 12 9 11 14 8 13 ...\n",
      " $ utc_time : POSIXct, format: \"2018-03-31 07:00:00\" \"2018-03-31 07:00:00\" ...\n",
      " $ PM2.5    : num  9.9 8.5 4.8 9.3 8.6 7.4 3.8 14.4 7.4 5.9 ...\n",
      " $ PM10     : num  14.3 8.8 8.9 10.4 10.5 10.6 6.6 24.1 13.1 6.9 ...\n",
      " $ NO2      : num  70.4 44.8 16.5 NA 35.7 48.9 36.5 43.3 57.5 NA ...\n",
      " $ CO       : logi  NA NA NA NA NA NA ...\n",
      " $ O3       : logi  NA NA NA NA NA NA ...\n",
      " $ SO2      : logi  NA NA NA NA NA NA ...\n"
     ]
    },
    {
     "data": {
      "text/html": [
       "<table>\n",
       "<thead><tr><th scope=col>x</th><th scope=col>stationId</th><th scope=col>stationName</th><th scope=col>distance</th></tr></thead>\n",
       "<tbody>\n",
       "\t<tr><td>1              </td><td>BX9            </td><td>london_grid_472</td><td>3929.170       </td></tr>\n",
       "\t<tr><td>2              </td><td>BX1            </td><td>london_grid_472</td><td>3929.170       </td></tr>\n",
       "\t<tr><td>3              </td><td>BL0            </td><td>london_grid_409</td><td>3059.760       </td></tr>\n",
       "\t<tr><td>4              </td><td>CD9            </td><td>london_grid_409</td><td>3682.914       </td></tr>\n",
       "\t<tr><td>5              </td><td>CD1            </td><td>london_grid_388</td><td>5211.633       </td></tr>\n",
       "\t<tr><td>6              </td><td>CT2            </td><td>london_grid_409</td><td>1646.945       </td></tr>\n",
       "</tbody>\n",
       "</table>\n"
      ],
      "text/latex": [
       "\\begin{tabular}{r|llll}\n",
       " x & stationId & stationName & distance\\\\\n",
       "\\hline\n",
       "\t 1                   & BX9                 & london\\_grid\\_472 & 3929.170           \\\\\n",
       "\t 2                   & BX1                 & london\\_grid\\_472 & 3929.170           \\\\\n",
       "\t 3                   & BL0                 & london\\_grid\\_409 & 3059.760           \\\\\n",
       "\t 4                   & CD9                 & london\\_grid\\_409 & 3682.914           \\\\\n",
       "\t 5                   & CD1                 & london\\_grid\\_388 & 5211.633           \\\\\n",
       "\t 6                   & CT2                 & london\\_grid\\_409 & 1646.945           \\\\\n",
       "\\end{tabular}\n"
      ],
      "text/markdown": [
       "\n",
       "x | stationId | stationName | distance | \n",
       "|---|---|---|---|---|---|\n",
       "| 1               | BX9             | london_grid_472 | 3929.170        | \n",
       "| 2               | BX1             | london_grid_472 | 3929.170        | \n",
       "| 3               | BL0             | london_grid_409 | 3059.760        | \n",
       "| 4               | CD9             | london_grid_409 | 3682.914        | \n",
       "| 5               | CD1             | london_grid_388 | 5211.633        | \n",
       "| 6               | CT2             | london_grid_409 | 1646.945        | \n",
       "\n",
       "\n"
      ],
      "text/plain": [
       "  x stationId stationName     distance\n",
       "1 1 BX9       london_grid_472 3929.170\n",
       "2 2 BX1       london_grid_472 3929.170\n",
       "3 3 BL0       london_grid_409 3059.760\n",
       "4 4 CD9       london_grid_409 3682.914\n",
       "5 5 CD1       london_grid_388 5211.633\n",
       "6 6 CT2       london_grid_409 1646.945"
      ]
     },
     "metadata": {},
     "output_type": "display_data"
    }
   ],
   "source": [
    "str(ld_closest_stations)\n",
    "str(ld_gm_data)\n",
    "str(ld_aq_data)\n",
    "head(ld_closest_stations)"
   ]
  },
  {
   "cell_type": "code",
   "execution_count": 15,
   "metadata": {
    "collapsed": true
   },
   "outputs": [],
   "source": [
    "# Mapping stationIds with respective grids\n",
    "ld_aq_map <- merge(ld_aq_data,ld_closest_stations, by = \"stationId\")"
   ]
  },
  {
   "cell_type": "code",
   "execution_count": 16,
   "metadata": {
    "collapsed": true
   },
   "outputs": [],
   "source": [
    "# Merge of AirQuality and Meteorology data\n",
    "ld_aq_gm_data <- merge(ld_aq_map, ld_gm_data, by = c(\"stationName\",\"utc_time\"))"
   ]
  },
  {
   "cell_type": "code",
   "execution_count": 17,
   "metadata": {},
   "outputs": [
    {
     "name": "stdout",
     "output_type": "stream",
     "text": [
      "'data.frame':\t22739 obs. of  16 variables:\n",
      " $ stationName   : Factor w/ 10 levels \"london_grid_346\",..: 2 2 2 2 2 2 2 2 2 2 ...\n",
      " $ utc_time      : POSIXct, format: \"2018-03-31 07:00:00\" \"2018-03-31 08:00:00\" ...\n",
      " $ stationId     : Factor w/ 19 levels \"BL0\",\"BX1\",\"BX9\",..: 18 18 18 18 18 18 18 18 18 18 ...\n",
      " $ PM2.5         : num  8.7 6.8 4.5 8.2 11.8 10.2 11.6 10.3 8.8 8.6 ...\n",
      " $ PM10          : num  NA NA NA NA NA NA NA NA NA NA ...\n",
      " $ NO2           : num  NA NA NA NA NA NA NA NA NA NA ...\n",
      " $ CO            : logi  NA NA NA NA NA NA ...\n",
      " $ O3            : logi  NA NA NA NA NA NA ...\n",
      " $ SO2           : logi  NA NA NA NA NA NA ...\n",
      " $ x             : int  21 21 21 21 21 21 21 21 21 21 ...\n",
      " $ distance      : num  4235 4235 4235 4235 4235 ...\n",
      " $ temperature   : num  4.83 5.42 6.05 6.1 7.05 7.8 8.08 8.44 8.57 8.02 ...\n",
      " $ pressure      : num  987 987 988 989 992 ...\n",
      " $ humidity      : num  87 84 81 79 74 71 73 71 70 73 ...\n",
      " $ wind_direction: num  205 210 214 234 242 ...\n",
      " $ wind_speed.kph: num  11.3 11.95 12.01 10.18 7.95 ...\n"
     ]
    },
    {
     "data": {
      "text/html": [
       "<table>\n",
       "<thead><tr><th scope=col>stationName</th><th scope=col>utc_time</th><th scope=col>stationId</th><th scope=col>PM2.5</th><th scope=col>PM10</th><th scope=col>NO2</th><th scope=col>CO</th><th scope=col>O3</th><th scope=col>SO2</th><th scope=col>x</th><th scope=col>distance</th><th scope=col>temperature</th><th scope=col>pressure</th><th scope=col>humidity</th><th scope=col>wind_direction</th><th scope=col>wind_speed.kph</th></tr></thead>\n",
       "<tbody>\n",
       "\t<tr><td>london_grid_366    </td><td>2018-03-31 07:00:00</td><td>TD5                </td><td> 8.7               </td><td>NA                 </td><td>NA                 </td><td>NA                 </td><td>NA                 </td><td>NA                 </td><td>21                 </td><td>4234.613           </td><td>4.83               </td><td>986.8419           </td><td>87                 </td><td>205.39             </td><td>11.30              </td></tr>\n",
       "\t<tr><td>london_grid_366    </td><td>2018-03-31 08:00:00</td><td>TD5                </td><td> 6.8               </td><td>NA                 </td><td>NA                 </td><td>NA                 </td><td>NA                 </td><td>NA                 </td><td>21                 </td><td>4234.613           </td><td>5.42               </td><td>987.2517           </td><td>84                 </td><td>210.33             </td><td>11.95              </td></tr>\n",
       "\t<tr><td>london_grid_366    </td><td>2018-03-31 09:00:00</td><td>TD5                </td><td> 4.5               </td><td>NA                 </td><td>NA                 </td><td>NA                 </td><td>NA                 </td><td>NA                 </td><td>21                 </td><td>4234.613           </td><td>6.05               </td><td>987.7612           </td><td>81                 </td><td>214.35             </td><td>12.01              </td></tr>\n",
       "\t<tr><td>london_grid_366    </td><td>2018-03-31 10:00:00</td><td>TD5                </td><td> 8.2               </td><td>NA                 </td><td>NA                 </td><td>NA                 </td><td>NA                 </td><td>NA                 </td><td>21                 </td><td>4234.613           </td><td>6.10               </td><td>988.8336           </td><td>79                 </td><td>233.70             </td><td>10.18              </td></tr>\n",
       "\t<tr><td>london_grid_366    </td><td>2018-03-31 11:00:00</td><td>TD5                </td><td>11.8               </td><td>NA                 </td><td>NA                 </td><td>NA                 </td><td>NA                 </td><td>NA                 </td><td>21                 </td><td>4234.613           </td><td>7.05               </td><td>991.6767           </td><td>74                 </td><td>242.44             </td><td> 7.95              </td></tr>\n",
       "\t<tr><td>london_grid_366    </td><td>2018-03-31 12:00:00</td><td>TD5                </td><td>10.2               </td><td>NA                 </td><td>NA                 </td><td>NA                 </td><td>NA                 </td><td>NA                 </td><td>21                 </td><td>4234.613           </td><td>7.80               </td><td>992.0664           </td><td>71                 </td><td>267.43             </td><td> 6.76              </td></tr>\n",
       "</tbody>\n",
       "</table>\n"
      ],
      "text/latex": [
       "\\begin{tabular}{r|llllllllllllllll}\n",
       " stationName & utc\\_time & stationId & PM2.5 & PM10 & NO2 & CO & O3 & SO2 & x & distance & temperature & pressure & humidity & wind\\_direction & wind\\_speed.kph\\\\\n",
       "\\hline\n",
       "\t london\\_grid\\_366 & 2018-03-31 07:00:00 & TD5                 &  8.7                & NA                  & NA                  & NA                  & NA                  & NA                  & 21                  & 4234.613            & 4.83                & 986.8419            & 87                  & 205.39              & 11.30              \\\\\n",
       "\t london\\_grid\\_366 & 2018-03-31 08:00:00 & TD5                 &  6.8                & NA                  & NA                  & NA                  & NA                  & NA                  & 21                  & 4234.613            & 5.42                & 987.2517            & 84                  & 210.33              & 11.95              \\\\\n",
       "\t london\\_grid\\_366 & 2018-03-31 09:00:00 & TD5                 &  4.5                & NA                  & NA                  & NA                  & NA                  & NA                  & 21                  & 4234.613            & 6.05                & 987.7612            & 81                  & 214.35              & 12.01              \\\\\n",
       "\t london\\_grid\\_366 & 2018-03-31 10:00:00 & TD5                 &  8.2                & NA                  & NA                  & NA                  & NA                  & NA                  & 21                  & 4234.613            & 6.10                & 988.8336            & 79                  & 233.70              & 10.18              \\\\\n",
       "\t london\\_grid\\_366 & 2018-03-31 11:00:00 & TD5                 & 11.8                & NA                  & NA                  & NA                  & NA                  & NA                  & 21                  & 4234.613            & 7.05                & 991.6767            & 74                  & 242.44              &  7.95              \\\\\n",
       "\t london\\_grid\\_366 & 2018-03-31 12:00:00 & TD5                 & 10.2                & NA                  & NA                  & NA                  & NA                  & NA                  & 21                  & 4234.613            & 7.80                & 992.0664            & 71                  & 267.43              &  6.76              \\\\\n",
       "\\end{tabular}\n"
      ],
      "text/markdown": [
       "\n",
       "stationName | utc_time | stationId | PM2.5 | PM10 | NO2 | CO | O3 | SO2 | x | distance | temperature | pressure | humidity | wind_direction | wind_speed.kph | \n",
       "|---|---|---|---|---|---|\n",
       "| london_grid_366     | 2018-03-31 07:00:00 | TD5                 |  8.7                | NA                  | NA                  | NA                  | NA                  | NA                  | 21                  | 4234.613            | 4.83                | 986.8419            | 87                  | 205.39              | 11.30               | \n",
       "| london_grid_366     | 2018-03-31 08:00:00 | TD5                 |  6.8                | NA                  | NA                  | NA                  | NA                  | NA                  | 21                  | 4234.613            | 5.42                | 987.2517            | 84                  | 210.33              | 11.95               | \n",
       "| london_grid_366     | 2018-03-31 09:00:00 | TD5                 |  4.5                | NA                  | NA                  | NA                  | NA                  | NA                  | 21                  | 4234.613            | 6.05                | 987.7612            | 81                  | 214.35              | 12.01               | \n",
       "| london_grid_366     | 2018-03-31 10:00:00 | TD5                 |  8.2                | NA                  | NA                  | NA                  | NA                  | NA                  | 21                  | 4234.613            | 6.10                | 988.8336            | 79                  | 233.70              | 10.18               | \n",
       "| london_grid_366     | 2018-03-31 11:00:00 | TD5                 | 11.8                | NA                  | NA                  | NA                  | NA                  | NA                  | 21                  | 4234.613            | 7.05                | 991.6767            | 74                  | 242.44              |  7.95               | \n",
       "| london_grid_366     | 2018-03-31 12:00:00 | TD5                 | 10.2                | NA                  | NA                  | NA                  | NA                  | NA                  | 21                  | 4234.613            | 7.80                | 992.0664            | 71                  | 267.43              |  6.76               | \n",
       "\n",
       "\n"
      ],
      "text/plain": [
       "  stationName     utc_time            stationId PM2.5 PM10 NO2 CO O3 SO2 x \n",
       "1 london_grid_366 2018-03-31 07:00:00 TD5        8.7  NA   NA  NA NA NA  21\n",
       "2 london_grid_366 2018-03-31 08:00:00 TD5        6.8  NA   NA  NA NA NA  21\n",
       "3 london_grid_366 2018-03-31 09:00:00 TD5        4.5  NA   NA  NA NA NA  21\n",
       "4 london_grid_366 2018-03-31 10:00:00 TD5        8.2  NA   NA  NA NA NA  21\n",
       "5 london_grid_366 2018-03-31 11:00:00 TD5       11.8  NA   NA  NA NA NA  21\n",
       "6 london_grid_366 2018-03-31 12:00:00 TD5       10.2  NA   NA  NA NA NA  21\n",
       "  distance temperature pressure humidity wind_direction wind_speed.kph\n",
       "1 4234.613 4.83        986.8419 87       205.39         11.30         \n",
       "2 4234.613 5.42        987.2517 84       210.33         11.95         \n",
       "3 4234.613 6.05        987.7612 81       214.35         12.01         \n",
       "4 4234.613 6.10        988.8336 79       233.70         10.18         \n",
       "5 4234.613 7.05        991.6767 74       242.44          7.95         \n",
       "6 4234.613 7.80        992.0664 71       267.43          6.76         "
      ]
     },
     "metadata": {},
     "output_type": "display_data"
    },
    {
     "data": {
      "text/html": [
       "<table>\n",
       "<thead><tr><th scope=col>min_date</th><th scope=col>max_date</th></tr></thead>\n",
       "<tbody>\n",
       "\t<tr><td>2018-03-31 07:00:00</td><td>2018-05-20 22:00:00</td></tr>\n",
       "</tbody>\n",
       "</table>\n"
      ],
      "text/latex": [
       "\\begin{tabular}{r|ll}\n",
       " min\\_date & max\\_date\\\\\n",
       "\\hline\n",
       "\t 2018-03-31 07:00:00 & 2018-05-20 22:00:00\\\\\n",
       "\\end{tabular}\n"
      ],
      "text/markdown": [
       "\n",
       "min_date | max_date | \n",
       "|---|\n",
       "| 2018-03-31 07:00:00 | 2018-05-20 22:00:00 | \n",
       "\n",
       "\n"
      ],
      "text/plain": [
       "  min_date            max_date           \n",
       "1 2018-03-31 07:00:00 2018-05-20 22:00:00"
      ]
     },
     "metadata": {},
     "output_type": "display_data"
    }
   ],
   "source": [
    "str(ld_aq_gm_data)\n",
    "head(ld_aq_gm_data)\n",
    "ld_aq_gm_data %>% summarize(min_date = min(utc_time), max_date = max(utc_time))"
   ]
  },
  {
   "cell_type": "code",
   "execution_count": 31,
   "metadata": {
    "collapsed": true
   },
   "outputs": [],
   "source": [
    "# selecting only required columns\n",
    "ld_aq_gm_data <- ld_aq_gm_data %>% select(c(\"stationName\",\"utc_time\",\"stationId\",\"PM2.5\",\"PM10\", \"O3\",\n",
    "                                            \"temperature\",\"pressure\",\"humidity\",\"wind_direction\",\"wind_speed.kph\"))"
   ]
  },
  {
   "cell_type": "code",
   "execution_count": 32,
   "metadata": {
    "collapsed": true
   },
   "outputs": [],
   "source": [
    "# adding additional columns for modeling\n",
    "ld_aq_gm_data$hour <- hour(ld_aq_gm_data$utc_time)\n",
    "ld_aq_gm_data$month <- month(ld_aq_gm_data$utc_time)\n",
    "ld_aq_gm_data$date <- date(ld_aq_gm_data$utc_time)\n",
    "ld_aq_gm_data$weekend = chron::is.weekend(ld_aq_gm_data$date)"
   ]
  },
  {
   "cell_type": "code",
   "execution_count": 33,
   "metadata": {},
   "outputs": [
    {
     "name": "stdout",
     "output_type": "stream",
     "text": [
      "'data.frame':\t22739 obs. of  15 variables:\n",
      " $ stationName   : Factor w/ 10 levels \"london_grid_346\",..: 2 2 2 2 2 2 2 2 2 2 ...\n",
      " $ utc_time      : POSIXct, format: \"2018-03-31 07:00:00\" \"2018-03-31 08:00:00\" ...\n",
      " $ stationId     : Factor w/ 19 levels \"BL0\",\"BX1\",\"BX9\",..: 18 18 18 18 18 18 18 18 18 18 ...\n",
      " $ PM2.5         : num  8.7 6.8 4.5 8.2 11.8 10.2 11.6 10.3 8.8 8.6 ...\n",
      " $ PM10          : num  NA NA NA NA NA NA NA NA NA NA ...\n",
      " $ O3            : logi  NA NA NA NA NA NA ...\n",
      " $ temperature   : num  4.83 5.42 6.05 6.1 7.05 7.8 8.08 8.44 8.57 8.02 ...\n",
      " $ pressure      : num  987 987 988 989 992 ...\n",
      " $ humidity      : num  87 84 81 79 74 71 73 71 70 73 ...\n",
      " $ wind_direction: num  205 210 214 234 242 ...\n",
      " $ wind_speed.kph: num  11.3 11.95 12.01 10.18 7.95 ...\n",
      " $ hour          : int  7 8 9 10 11 12 13 14 15 16 ...\n",
      " $ month         : num  3 3 3 3 3 3 3 3 3 3 ...\n",
      " $ date          : Date, format: \"2018-03-31\" \"2018-03-31\" ...\n",
      " $ weekend       : logi  TRUE TRUE TRUE TRUE TRUE TRUE ...\n"
     ]
    }
   ],
   "source": [
    "str(ld_aq_gm_data)"
   ]
  },
  {
   "cell_type": "markdown",
   "metadata": {},
   "source": [
    "### Import and transformations of Historical data"
   ]
  },
  {
   "cell_type": "code",
   "execution_count": 21,
   "metadata": {
    "collapsed": true
   },
   "outputs": [],
   "source": [
    "# retreiving historical files\n",
    "ld_aq_gm_hist_file <- \"Ready for Modeling/ld_aq_gm_hist_data.csv\"\n",
    "ld_aq_gm_hist_data <- read.csv(ld_aq_gm_hist_file, header=TRUE, sep=\",\", stringsAsFactors = FALSE)"
   ]
  },
  {
   "cell_type": "code",
   "execution_count": 23,
   "metadata": {
    "collapsed": true
   },
   "outputs": [],
   "source": [
    "# data transformations for consistency\n",
    "ld_aq_gm_hist_data <- ld_aq_gm_hist_data %>% select(-X)\n",
    "ld_aq_gm_hist_data$utc_time <- anytime(ld_aq_gm_hist_data$utc_time)\n",
    "ld_aq_gm_hist_data$date <- as.Date(ld_aq_gm_hist_data$date , \"%Y-%m-%d\")"
   ]
  },
  {
   "cell_type": "code",
   "execution_count": 35,
   "metadata": {
    "collapsed": true
   },
   "outputs": [],
   "source": [
    "colnames(ld_aq_gm_hist_data) <- c(\"stationName\",\"utc_time\",\"stationId\",\"PM2.5\",\"PM10\", \"O3\",\n",
    "                                \"temperature\",\"pressure\",\"humidity\",\"wind_direction\",\"wind_speed.kph\", \n",
    "                                 \"hour\",\"month\", \"date\", \"weekend\")"
   ]
  },
  {
   "cell_type": "code",
   "execution_count": 36,
   "metadata": {},
   "outputs": [
    {
     "name": "stdout",
     "output_type": "stream",
     "text": [
      "'data.frame':\t257936 obs. of  15 variables:\n",
      " $ stationName   : chr  \"london_grid_346\" \"london_grid_346\" \"london_grid_346\" \"london_grid_346\" ...\n",
      " $ utc_time      : POSIXct, format: \"2017-01-01 08:00:00\" \"2017-01-01 09:00:00\" ...\n",
      " $ stationId     : chr  \"LH0\" \"LH0\" \"LH0\" \"LH0\" ...\n",
      " $ PM2.5         : num  18.3 16.3 13.3 9.4 6.1 6.7 2.1 0.9 1.1 1 ...\n",
      " $ PM10          : num  21.3 19.5 16.2 11.6 8.5 13.4 4.6 2 2.1 2 ...\n",
      " $ O3            : num  41.6 44.1 49.1 45.2 41.4 53.6 11.7 12.1 12 13.5 ...\n",
      " $ temperature   : num  6.05 6.05 6.04 6.04 6.25 6.46 6.67 6.91 7.15 7.39 ...\n",
      " $ pressure      : num  1019 1018 1017 1016 1015 ...\n",
      " $ humidity      : num  90 89.2 88.3 87.4 87.8 ...\n",
      " $ wind_direction: num  221 220 218 217 216 ...\n",
      " $ wind_speed.kph: num  16.4 17.1 17.7 18.4 18.8 ...\n",
      " $ hour          : int  8 9 10 11 12 13 14 15 16 17 ...\n",
      " $ month         : int  1 1 1 1 1 1 1 1 1 1 ...\n",
      " $ date          : Date, format: \"2017-01-01\" \"2017-01-01\" ...\n",
      " $ weekend       : logi  TRUE TRUE TRUE TRUE TRUE TRUE ...\n"
     ]
    }
   ],
   "source": [
    "str(ld_aq_gm_hist_data)"
   ]
  },
  {
   "cell_type": "code",
   "execution_count": 37,
   "metadata": {},
   "outputs": [],
   "source": [
    "# Append API and hist data\n",
    "ld_aq_gm_combined_data <- rbind(ld_aq_gm_data, ld_aq_gm_hist_data)"
   ]
  },
  {
   "cell_type": "code",
   "execution_count": 38,
   "metadata": {},
   "outputs": [
    {
     "name": "stdout",
     "output_type": "stream",
     "text": [
      "'data.frame':\t280675 obs. of  15 variables:\n",
      " $ stationName   : Factor w/ 10 levels \"london_grid_346\",..: 2 2 2 2 2 2 2 2 2 2 ...\n",
      " $ utc_time      : POSIXct, format: \"2018-03-31 07:00:00\" \"2018-03-31 08:00:00\" ...\n",
      " $ stationId     : Factor w/ 24 levels \"BL0\",\"BX1\",\"BX9\",..: 18 18 18 18 18 18 18 18 18 18 ...\n",
      " $ PM2.5         : num  8.7 6.8 4.5 8.2 11.8 10.2 11.6 10.3 8.8 8.6 ...\n",
      " $ PM10          : num  NA NA NA NA NA NA NA NA NA NA ...\n",
      " $ O3            : num  NA NA NA NA NA NA NA NA NA NA ...\n",
      " $ temperature   : num  4.83 5.42 6.05 6.1 7.05 7.8 8.08 8.44 8.57 8.02 ...\n",
      " $ pressure      : num  987 987 988 989 992 ...\n",
      " $ humidity      : num  87 84 81 79 74 71 73 71 70 73 ...\n",
      " $ wind_direction: num  205 210 214 234 242 ...\n",
      " $ wind_speed.kph: num  11.3 11.95 12.01 10.18 7.95 ...\n",
      " $ hour          : int  7 8 9 10 11 12 13 14 15 16 ...\n",
      " $ month         : num  3 3 3 3 3 3 3 3 3 3 ...\n",
      " $ date          : Date, format: \"2018-03-31\" \"2018-03-31\" ...\n",
      " $ weekend       : logi  TRUE TRUE TRUE TRUE TRUE TRUE ...\n"
     ]
    },
    {
     "data": {
      "text/html": [
       "<table>\n",
       "<thead><tr><th scope=col>min_date</th><th scope=col>max_date</th></tr></thead>\n",
       "<tbody>\n",
       "\t<tr><td>2017-01-01</td><td>2018-05-20</td></tr>\n",
       "</tbody>\n",
       "</table>\n"
      ],
      "text/latex": [
       "\\begin{tabular}{r|ll}\n",
       " min\\_date & max\\_date\\\\\n",
       "\\hline\n",
       "\t 2017-01-01 & 2018-05-20\\\\\n",
       "\\end{tabular}\n"
      ],
      "text/markdown": [
       "\n",
       "min_date | max_date | \n",
       "|---|\n",
       "| 2017-01-01 | 2018-05-20 | \n",
       "\n",
       "\n"
      ],
      "text/plain": [
       "  min_date   max_date  \n",
       "1 2017-01-01 2018-05-20"
      ]
     },
     "metadata": {},
     "output_type": "display_data"
    }
   ],
   "source": [
    "str(ld_aq_gm_combined_data)\n",
    "ld_aq_gm_combined_data %>% summarize(min_date = min(date), max_date = max(date))"
   ]
  },
  {
   "cell_type": "code",
   "execution_count": 39,
   "metadata": {
    "collapsed": true
   },
   "outputs": [],
   "source": [
    "# removing NA rows\n",
    "ld_aq_gm_combined_data_final <- ld_aq_gm_combined_data[complete.cases(ld_aq_gm_combined_data),]"
   ]
  },
  {
   "cell_type": "code",
   "execution_count": 43,
   "metadata": {},
   "outputs": [],
   "source": [
    "# converting logical weekend value to numeric for modeling\n",
    "ld_aq_gm_combined_data_final$weekend <- as.integer(ld_aq_gm_combined_data_final$weekend)"
   ]
  },
  {
   "cell_type": "code",
   "execution_count": 44,
   "metadata": {},
   "outputs": [
    {
     "data": {
      "text/plain": [
       "          stationName       utc_time                     stationId    \n",
       " london_grid_409:27337   Min.   :2017-01-01 08:00:00   GR9    :10284  \n",
       " london_grid_451:26318   1st Qu.:2017-04-05 14:00:00   BL0    :10059  \n",
       " london_grid_430:24847   Median :2017-07-15 01:00:00   CD9    : 9628  \n",
       " london_grid_472:13347   Mean   :2017-07-30 12:18:48   CD1    : 9552  \n",
       " london_grid_388: 9798   3rd Qu.:2017-11-22 17:00:00   RB7    : 9480  \n",
       " london_grid_452: 9480   Max.   :2018-03-27 12:00:00   GN3    : 9452  \n",
       " (Other)        :14478                                 (Other):67150  \n",
       "     PM2.5             PM10              O3          temperature   \n",
       " Min.   :-14.00   Min.   :-11.80   Min.   : -4.70   Min.   :-4.37  \n",
       " 1st Qu.:  6.50   1st Qu.: 11.40   1st Qu.: 20.50   1st Qu.: 5.54  \n",
       " Median : 10.10   Median : 16.90   Median : 35.80   Median : 9.52  \n",
       " Mean   : 13.44   Mean   : 20.41   Mean   : 41.21   Mean   :10.06  \n",
       " 3rd Qu.: 16.40   3rd Qu.: 25.50   3rd Qu.: 55.70   3rd Qu.:14.55  \n",
       " Max.   :189.70   Max.   :667.10   Max.   :252.30   Max.   :30.28  \n",
       "                                                                   \n",
       "    pressure         humidity     wind_direction  wind_speed.kph \n",
       " Min.   : 964.4   Min.   :28.47   Min.   :  0.0   Min.   : 0.12  \n",
       " 1st Qu.:1005.0   1st Qu.:69.13   1st Qu.:155.6   1st Qu.:10.25  \n",
       " Median :1012.4   Median :79.95   Median :229.8   Median :14.62  \n",
       " Mean   :1011.0   Mean   :78.14   Mean   :210.4   Mean   :15.65  \n",
       " 3rd Qu.:1018.5   3rd Qu.:89.13   3rd Qu.:272.6   3rd Qu.:20.18  \n",
       " Max.   :1035.8   Max.   :99.40   Max.   :360.0   Max.   :54.41  \n",
       "                                                                 \n",
       "      hour           month            date               weekend      \n",
       " Min.   : 0.00   Min.   : 1.00   Min.   :2017-01-01   Min.   :0.0000  \n",
       " 1st Qu.: 5.00   1st Qu.: 2.00   1st Qu.:2017-04-05   1st Qu.:0.0000  \n",
       " Median :12.00   Median : 5.00   Median :2017-07-15   Median :0.0000  \n",
       " Mean   :11.51   Mean   : 5.32   Mean   :2017-07-30   Mean   :0.2888  \n",
       " 3rd Qu.:18.00   3rd Qu.: 8.00   3rd Qu.:2017-11-22   3rd Qu.:1.0000  \n",
       " Max.   :23.00   Max.   :12.00   Max.   :2018-03-27   Max.   :1.0000  \n",
       "                                                                      "
      ]
     },
     "metadata": {},
     "output_type": "display_data"
    }
   ],
   "source": [
    "summary(ld_aq_gm_combined_data_final)"
   ]
  },
  {
   "cell_type": "markdown",
   "metadata": {},
   "source": [
    "### Model Training and validation"
   ]
  },
  {
   "cell_type": "code",
   "execution_count": 45,
   "metadata": {
    "collapsed": true
   },
   "outputs": [],
   "source": [
    "set.seed(7821)"
   ]
  },
  {
   "cell_type": "code",
   "execution_count": 46,
   "metadata": {
    "collapsed": true
   },
   "outputs": [],
   "source": [
    "# Training and test data set partition\n",
    "sample_size <- floor(0.8 * nrow(ld_aq_gm_combined_data_final))\n",
    "train_index <- sample(seq_len(nrow(ld_aq_gm_combined_data_final)), size = sample_size)\n",
    "train_ld <- ld_aq_gm_combined_data_final[train_index, ]\n",
    "test_ld <- ld_aq_gm_combined_data_final[-train_index, ]"
   ]
  },
  {
   "cell_type": "code",
   "execution_count": 47,
   "metadata": {},
   "outputs": [
    {
     "name": "stdout",
     "output_type": "stream",
     "text": [
      "'data.frame':\t100484 obs. of  15 variables:\n",
      " $ stationName   : Factor w/ 10 levels \"london_grid_346\",..: 7 7 8 4 5 9 4 6 9 6 ...\n",
      " $ utc_time      : POSIXct, format: \"2018-01-15 05:00:00\" \"2017-05-04 05:00:00\" ...\n",
      " $ stationId     : Factor w/ 24 levels \"BL0\",\"BX1\",\"BX9\",..: 11 11 9 4 17 16 4 5 16 5 ...\n",
      " $ PM2.5         : num  5.2 27.9 28.8 13.7 57 11 15.8 6.7 12 5.8 ...\n",
      " $ PM10          : num  13.2 46.3 33.7 17 76 10.6 34 13.5 14.6 8.1 ...\n",
      " $ O3            : num  14.4 44.5 28.6 46.4 32.8 9.4 50.6 41.6 44.2 74.5 ...\n",
      " $ temperature   : num  4.96 8.98 11.86 6.64 3.76 ...\n",
      " $ pressure      : num  1012 1019 1007 1003 1015 ...\n",
      " $ humidity      : num  74 93.5 85 79.6 92.8 ...\n",
      " $ wind_direction: num  216.1 33.8 183.6 154.8 86.2 ...\n",
      " $ wind_speed.kph: num  12.08 17.74 6.85 15.87 26.62 ...\n",
      " $ hour          : int  5 5 2 14 9 9 12 20 19 6 ...\n",
      " $ month         : num  1 5 11 3 2 8 2 7 10 2 ...\n",
      " $ date          : Date, format: \"2018-01-15\" \"2017-05-04\" ...\n",
      " $ weekend       : int  0 0 1 0 0 1 1 0 0 0 ...\n",
      "'data.frame':\t25121 obs. of  15 variables:\n",
      " $ stationName   : Factor w/ 10 levels \"london_grid_346\",..: 1 1 1 1 1 1 1 1 1 1 ...\n",
      " $ utc_time      : POSIXct, format: \"2017-01-01 08:00:00\" \"2017-01-01 14:00:00\" ...\n",
      " $ stationId     : Factor w/ 24 levels \"BL0\",\"BX1\",\"BX9\",..: 20 20 20 20 20 20 20 20 20 20 ...\n",
      " $ PM2.5         : num  18.3 2.1 5.1 4.3 6.3 11.2 16.6 13.7 14 8 ...\n",
      " $ PM10          : num  21.3 4.6 8.4 7.7 12.8 18 22.1 17.7 17.8 11.4 ...\n",
      " $ O3            : num  41.6 11.7 9.6 7.3 20.6 74.4 76.6 63.3 57.3 49.4 ...\n",
      " $ temperature   : num  6.05 6.67 5.5 4.95 4.31 1.41 3.78 3.37 3.17 -0.45 ...\n",
      " $ pressure      : num  1019 1013 1012 1014 1017 ...\n",
      " $ humidity      : num  90 88.8 90.8 87.5 87.2 ...\n",
      " $ wind_direction: num  221.3 213.5 20.9 27.1 21.5 ...\n",
      " $ wind_speed.kph: num  16.4 19.6 24.6 26.4 20.7 ...\n",
      " $ hour          : int  8 14 0 2 6 16 20 22 23 5 ...\n",
      " $ month         : num  1 1 1 1 1 1 1 1 1 1 ...\n",
      " $ date          : Date, format: \"2017-01-01\" \"2017-01-01\" ...\n",
      " $ weekend       : int  1 1 0 0 0 0 0 0 0 0 ...\n"
     ]
    }
   ],
   "source": [
    "str(train_ld)\n",
    "str(test_ld)"
   ]
  },
  {
   "cell_type": "code",
   "execution_count": 79,
   "metadata": {},
   "outputs": [
    {
     "name": "stderr",
     "output_type": "stream",
     "text": [
      "Warning message in predict.lm(modelFit, newdata):\n",
      "\"prediction from a rank-deficient fit may be misleading\"Warning message in predict.lm(modelFit, newdata):\n",
      "\"prediction from a rank-deficient fit may be misleading\"Warning message in predict.lm(modelFit, newdata):\n",
      "\"prediction from a rank-deficient fit may be misleading\"Warning message in predict.lm(modelFit, newdata):\n",
      "\"prediction from a rank-deficient fit may be misleading\"Warning message in predict.lm(modelFit, newdata):\n",
      "\"prediction from a rank-deficient fit may be misleading\"Warning message in predict.lm(modelFit, newdata):\n",
      "\"prediction from a rank-deficient fit may be misleading\"Warning message in predict.lm(modelFit, newdata):\n",
      "\"prediction from a rank-deficient fit may be misleading\"Warning message in predict.lm(modelFit, newdata):\n",
      "\"prediction from a rank-deficient fit may be misleading\"Warning message in predict.lm(modelFit, newdata):\n",
      "\"prediction from a rank-deficient fit may be misleading\"Warning message in predict.lm(modelFit, newdata):\n",
      "\"prediction from a rank-deficient fit may be misleading\"Warning message in predict.lm(modelFit, newdata):\n",
      "\"prediction from a rank-deficient fit may be misleading\"Warning message in predict.lm(modelFit, newdata):\n",
      "\"prediction from a rank-deficient fit may be misleading\"Warning message in predict.lm(modelFit, newdata):\n",
      "\"prediction from a rank-deficient fit may be misleading\"Warning message in predict.lm(modelFit, newdata):\n",
      "\"prediction from a rank-deficient fit may be misleading\"Warning message in predict.lm(modelFit, newdata):\n",
      "\"prediction from a rank-deficient fit may be misleading\"Warning message in predict.lm(modelFit, newdata):\n",
      "\"prediction from a rank-deficient fit may be misleading\"Warning message in predict.lm(modelFit, newdata):\n",
      "\"prediction from a rank-deficient fit may be misleading\"Warning message in predict.lm(modelFit, newdata):\n",
      "\"prediction from a rank-deficient fit may be misleading\"Warning message in predict.lm(modelFit, newdata):\n",
      "\"prediction from a rank-deficient fit may be misleading\"Warning message in predict.lm(modelFit, newdata):\n",
      "\"prediction from a rank-deficient fit may be misleading\"Warning message in predict.lm(modelFit, newdata):\n",
      "\"prediction from a rank-deficient fit may be misleading\"Warning message in predict.lm(modelFit, newdata):\n",
      "\"prediction from a rank-deficient fit may be misleading\"Warning message in predict.lm(modelFit, newdata):\n",
      "\"prediction from a rank-deficient fit may be misleading\"Warning message in predict.lm(modelFit, newdata):\n",
      "\"prediction from a rank-deficient fit may be misleading\"Warning message in predict.lm(modelFit, newdata):\n",
      "\"prediction from a rank-deficient fit may be misleading\""
     ]
    },
    {
     "data": {
      "text/plain": [
       "\n",
       "Call:\n",
       "lm(formula = .outcome ~ ., data = dat)\n",
       "\n",
       "Residuals:\n",
       "    Min      1Q  Median      3Q     Max \n",
       "-28.894  -6.601  -2.915   2.889 173.658 \n",
       "\n",
       "Coefficients: (7 not defined because of singularities)\n",
       "             Estimate Std. Error t value Pr(>|t|)    \n",
       "(Intercept)  16.98701    0.15190 111.834  < 2e-16 ***\n",
       "stationIdBX1 -3.27682    0.23631 -13.867  < 2e-16 ***\n",
       "stationIdBX9       NA         NA      NA       NA    \n",
       "stationIdCD1  1.36759    0.17914   7.634 2.29e-14 ***\n",
       "stationIdCD9 -0.70900    0.17847  -3.973 7.12e-05 ***\n",
       "stationIdCT2       NA         NA      NA       NA    \n",
       "stationIdCT3 -0.82535    0.19001  -4.344 1.40e-05 ***\n",
       "stationIdGN0 -2.18403    0.17995 -12.137  < 2e-16 ***\n",
       "stationIdGN3 -2.33722    0.17925 -13.039  < 2e-16 ***\n",
       "stationIdGR4 -1.68955    0.19041  -8.873  < 2e-16 ***\n",
       "stationIdGR9 -3.13022    0.17529 -17.858  < 2e-16 ***\n",
       "stationIdHV1 -3.01384    0.17955 -16.786  < 2e-16 ***\n",
       "stationIdKF1       NA         NA      NA       NA    \n",
       "stationIdLW2  1.66583    0.21040   7.918 2.45e-15 ***\n",
       "stationIdMY7       NA         NA      NA       NA    \n",
       "stationIdRB7 -0.98949    0.17958  -5.510 3.60e-08 ***\n",
       "stationIdST5 -0.44898    0.18849  -2.382 0.017222 *  \n",
       "stationIdTD5       NA         NA      NA       NA    \n",
       "stationIdTH4 -1.32756    0.18070  -7.347 2.04e-13 ***\n",
       "stationIdLH0 -4.62646    0.22934 -20.173  < 2e-16 ***\n",
       "stationIdHR1 -0.30728    0.29550  -1.040 0.298405    \n",
       "stationIdKC1 -2.95817    0.82219  -3.598 0.000321 ***\n",
       "stationIdCR8       NA         NA      NA       NA    \n",
       "stationIdGB0       NA         NA      NA       NA    \n",
       "hour          0.08038    0.00510  15.760  < 2e-16 ***\n",
       "month        -0.61013    0.01038 -58.766  < 2e-16 ***\n",
       "weekend       0.33513    0.07808   4.292 1.77e-05 ***\n",
       "---\n",
       "Signif. codes:  0 '***' 0.001 '**' 0.01 '*' 0.05 '.' 0.1 ' ' 1\n",
       "\n",
       "Residual standard error: 11.21 on 100464 degrees of freedom\n",
       "Multiple R-squared:  0.05236,\tAdjusted R-squared:  0.05218 \n",
       "F-statistic: 292.1 on 19 and 100464 DF,  p-value: < 2.2e-16\n"
      ]
     },
     "metadata": {},
     "output_type": "display_data"
    },
    {
     "name": "stderr",
     "output_type": "stream",
     "text": [
      "Warning message in predict.lm(modelFit, newdata):\n",
      "\"prediction from a rank-deficient fit may be misleading\""
     ]
    },
    {
     "data": {
      "text/html": [
       "<table>\n",
       "<thead><tr><th scope=col>rmse</th><th scope=col>rsq</th></tr></thead>\n",
       "<tbody>\n",
       "\t<tr><td>11.3191   </td><td>0.04936939</td></tr>\n",
       "</tbody>\n",
       "</table>\n"
      ],
      "text/latex": [
       "\\begin{tabular}{r|ll}\n",
       " rmse & rsq\\\\\n",
       "\\hline\n",
       "\t 11.3191    & 0.04936939\\\\\n",
       "\\end{tabular}\n"
      ],
      "text/markdown": [
       "\n",
       "rmse | rsq | \n",
       "|---|\n",
       "| 11.3191    | 0.04936939 | \n",
       "\n",
       "\n"
      ],
      "text/plain": [
       "  rmse    rsq       \n",
       "1 11.3191 0.04936939"
      ]
     },
     "metadata": {},
     "output_type": "display_data"
    }
   ],
   "source": [
    "# Predicting PM2.5 using stationId, hour, month and weekend variables\n",
    "PM2.5_ld_formula <- as.formula(\"PM2.5 ~ stationId + hour + month + weekend\")\n",
    "PM2.5_ld_model <- train(PM2.5_ld_formula, data = train_ld, method = \"lm\" )\n",
    "summary(PM2.5_ld_model)\n",
    "test_ld$PM2.5_pred <- predict(PM2.5_ld_model, test_ld)\n",
    "metrics(test_ld, truth = PM2.5, estimate = PM2.5_pred)"
   ]
  },
  {
   "cell_type": "code",
   "execution_count": 80,
   "metadata": {},
   "outputs": [
    {
     "name": "stderr",
     "output_type": "stream",
     "text": [
      "Warning message in predict.lm(modelFit, newdata):\n",
      "\"prediction from a rank-deficient fit may be misleading\"Warning message in predict.lm(modelFit, newdata):\n",
      "\"prediction from a rank-deficient fit may be misleading\"Warning message in predict.lm(modelFit, newdata):\n",
      "\"prediction from a rank-deficient fit may be misleading\"Warning message in predict.lm(modelFit, newdata):\n",
      "\"prediction from a rank-deficient fit may be misleading\"Warning message in predict.lm(modelFit, newdata):\n",
      "\"prediction from a rank-deficient fit may be misleading\"Warning message in predict.lm(modelFit, newdata):\n",
      "\"prediction from a rank-deficient fit may be misleading\"Warning message in predict.lm(modelFit, newdata):\n",
      "\"prediction from a rank-deficient fit may be misleading\"Warning message in predict.lm(modelFit, newdata):\n",
      "\"prediction from a rank-deficient fit may be misleading\"Warning message in predict.lm(modelFit, newdata):\n",
      "\"prediction from a rank-deficient fit may be misleading\"Warning message in predict.lm(modelFit, newdata):\n",
      "\"prediction from a rank-deficient fit may be misleading\"Warning message in predict.lm(modelFit, newdata):\n",
      "\"prediction from a rank-deficient fit may be misleading\"Warning message in predict.lm(modelFit, newdata):\n",
      "\"prediction from a rank-deficient fit may be misleading\"Warning message in predict.lm(modelFit, newdata):\n",
      "\"prediction from a rank-deficient fit may be misleading\"Warning message in predict.lm(modelFit, newdata):\n",
      "\"prediction from a rank-deficient fit may be misleading\"Warning message in predict.lm(modelFit, newdata):\n",
      "\"prediction from a rank-deficient fit may be misleading\"Warning message in predict.lm(modelFit, newdata):\n",
      "\"prediction from a rank-deficient fit may be misleading\"Warning message in predict.lm(modelFit, newdata):\n",
      "\"prediction from a rank-deficient fit may be misleading\"Warning message in predict.lm(modelFit, newdata):\n",
      "\"prediction from a rank-deficient fit may be misleading\"Warning message in predict.lm(modelFit, newdata):\n",
      "\"prediction from a rank-deficient fit may be misleading\"Warning message in predict.lm(modelFit, newdata):\n",
      "\"prediction from a rank-deficient fit may be misleading\"Warning message in predict.lm(modelFit, newdata):\n",
      "\"prediction from a rank-deficient fit may be misleading\"Warning message in predict.lm(modelFit, newdata):\n",
      "\"prediction from a rank-deficient fit may be misleading\"Warning message in predict.lm(modelFit, newdata):\n",
      "\"prediction from a rank-deficient fit may be misleading\"Warning message in predict.lm(modelFit, newdata):\n",
      "\"prediction from a rank-deficient fit may be misleading\"Warning message in predict.lm(modelFit, newdata):\n",
      "\"prediction from a rank-deficient fit may be misleading\""
     ]
    },
    {
     "data": {
      "text/plain": [
       "\n",
       "Call:\n",
       "lm(formula = .outcome ~ ., data = dat)\n",
       "\n",
       "Residuals:\n",
       "   Min     1Q Median     3Q    Max \n",
       "-65.78  -3.62  -0.70   2.70 611.78 \n",
       "\n",
       "Coefficients: (7 not defined because of singularities)\n",
       "              Estimate Std. Error t value Pr(>|t|)    \n",
       "(Intercept)   4.206195   0.102149  41.177  < 2e-16 ***\n",
       "PM2.5         1.010366   0.002001 504.978  < 2e-16 ***\n",
       "stationIdBX1 -3.137778   0.150006 -20.918  < 2e-16 ***\n",
       "stationIdBX9        NA         NA      NA       NA    \n",
       "stationIdCD1  0.234062   0.113640   2.060   0.0394 *  \n",
       "stationIdCD9  2.305246   0.113194  20.366  < 2e-16 ***\n",
       "stationIdCT2        NA         NA      NA       NA    \n",
       "stationIdCT3  4.025365   0.120514  33.402  < 2e-16 ***\n",
       "stationIdGN0  1.700674   0.114206  14.891  < 2e-16 ***\n",
       "stationIdGN3  3.055402   0.113772  26.856  < 2e-16 ***\n",
       "stationIdGR4  2.021493   0.120804  16.734  < 2e-16 ***\n",
       "stationIdGR9  5.523282   0.111339  49.608  < 2e-16 ***\n",
       "stationIdHV1  1.831769   0.114024  16.065  < 2e-16 ***\n",
       "stationIdKF1        NA         NA      NA       NA    \n",
       "stationIdLW2  2.441037   0.133470  18.289  < 2e-16 ***\n",
       "stationIdMY7        NA         NA      NA       NA    \n",
       "stationIdRB7 -2.286441   0.113902 -20.074  < 2e-16 ***\n",
       "stationIdST5  9.687252   0.119541  81.037  < 2e-16 ***\n",
       "stationIdTD5        NA         NA      NA       NA    \n",
       "stationIdTH4  7.941461   0.114624  69.282  < 2e-16 ***\n",
       "stationIdLH0  1.482797   0.145734  10.175  < 2e-16 ***\n",
       "stationIdHR1 -1.713560   0.187400  -9.144  < 2e-16 ***\n",
       "stationIdKC1 -3.363956   0.521447  -6.451 1.11e-10 ***\n",
       "stationIdCR8        NA         NA      NA       NA    \n",
       "stationIdGB0        NA         NA      NA       NA    \n",
       "hour          0.073711   0.003239  22.761  < 2e-16 ***\n",
       "month        -0.038517   0.006696  -5.752 8.85e-09 ***\n",
       "weekend      -1.956417   0.049523 -39.505  < 2e-16 ***\n",
       "---\n",
       "Signif. codes:  0 '***' 0.001 '**' 0.01 '*' 0.05 '.' 0.1 ' ' 1\n",
       "\n",
       "Residual standard error: 7.11 on 100463 degrees of freedom\n",
       "Multiple R-squared:  0.7442,\tAdjusted R-squared:  0.7442 \n",
       "F-statistic: 1.462e+04 on 20 and 100463 DF,  p-value: < 2.2e-16\n"
      ]
     },
     "metadata": {},
     "output_type": "display_data"
    },
    {
     "name": "stderr",
     "output_type": "stream",
     "text": [
      "Warning message in predict.lm(modelFit, newdata):\n",
      "\"prediction from a rank-deficient fit may be misleading\""
     ]
    },
    {
     "data": {
      "text/html": [
       "<table>\n",
       "<thead><tr><th scope=col>rmse</th><th scope=col>rsq</th></tr></thead>\n",
       "<tbody>\n",
       "\t<tr><td>6.692685 </td><td>0.7684861</td></tr>\n",
       "</tbody>\n",
       "</table>\n"
      ],
      "text/latex": [
       "\\begin{tabular}{r|ll}\n",
       " rmse & rsq\\\\\n",
       "\\hline\n",
       "\t 6.692685  & 0.7684861\\\\\n",
       "\\end{tabular}\n"
      ],
      "text/markdown": [
       "\n",
       "rmse | rsq | \n",
       "|---|\n",
       "| 6.692685  | 0.7684861 | \n",
       "\n",
       "\n"
      ],
      "text/plain": [
       "  rmse     rsq      \n",
       "1 6.692685 0.7684861"
      ]
     },
     "metadata": {},
     "output_type": "display_data"
    }
   ],
   "source": [
    "# Predicting PM10 using stationId, hour, month, weekend variables along with previously predicted PM2.5 \n",
    "PM10_ld_formula <- as.formula(\"PM10 ~ PM2.5 + stationId + hour + month + weekend\")\n",
    "PM10_ld_model <- train(PM10_ld_formula, data = train_ld, method = \"lm\" )\n",
    "summary(PM10_ld_model)\n",
    "test_ld$PM10_pred <- predict(PM10_ld_model, test_ld)\n",
    "metrics(test_ld, truth = PM10, estimate = PM10_pred)"
   ]
  },
  {
   "cell_type": "code",
   "execution_count": 81,
   "metadata": {},
   "outputs": [
    {
     "data": {
      "text/plain": [
       "\n",
       "Call:\n",
       "lm(formula = .outcome ~ ., data = dat)\n",
       "\n",
       "Residuals:\n",
       "    Min      1Q  Median      3Q     Max \n",
       "-399.14  -16.79   -4.32   12.55  173.34 \n",
       "\n",
       "Coefficients:\n",
       "             Estimate Std. Error t value Pr(>|t|)    \n",
       "(Intercept) 19.971087   0.229706   86.94  < 2e-16 ***\n",
       "PM2.5        0.346505   0.011860   29.22  < 2e-16 ***\n",
       "PM10         0.565391   0.009711   58.22  < 2e-16 ***\n",
       "hour         0.556025   0.010972   50.68  < 2e-16 ***\n",
       "month        0.059144   0.022148    2.67  0.00758 ** \n",
       "weekend     -5.701797   0.168545  -33.83  < 2e-16 ***\n",
       "---\n",
       "Signif. codes:  0 '***' 0.001 '**' 0.01 '*' 0.05 '.' 0.1 ' ' 1\n",
       "\n",
       "Residual standard error: 24.04 on 100478 degrees of freedom\n",
       "Multiple R-squared:  0.2174,\tAdjusted R-squared:  0.2174 \n",
       "F-statistic:  5584 on 5 and 100478 DF,  p-value: < 2.2e-16\n"
      ]
     },
     "metadata": {},
     "output_type": "display_data"
    },
    {
     "data": {
      "text/html": [
       "<table>\n",
       "<thead><tr><th scope=col>rmse</th><th scope=col>rsq</th></tr></thead>\n",
       "<tbody>\n",
       "\t<tr><td>23.95667 </td><td>0.2118861</td></tr>\n",
       "</tbody>\n",
       "</table>\n"
      ],
      "text/latex": [
       "\\begin{tabular}{r|ll}\n",
       " rmse & rsq\\\\\n",
       "\\hline\n",
       "\t 23.95667  & 0.2118861\\\\\n",
       "\\end{tabular}\n"
      ],
      "text/markdown": [
       "\n",
       "rmse | rsq | \n",
       "|---|\n",
       "| 23.95667  | 0.2118861 | \n",
       "\n",
       "\n"
      ],
      "text/plain": [
       "  rmse     rsq      \n",
       "1 23.95667 0.2118861"
      ]
     },
     "metadata": {},
     "output_type": "display_data"
    }
   ],
   "source": [
    "# Predicting O3 using stationId, hour, month, weekend variables along with previously predicted PM2.5, PM10 and O3 variables\n",
    "O3_ld_formula <- as.formula(\"O3 ~ PM2.5 + PM10 + hour + month + weekend\")\n",
    "O3_ld_model <- train(O3_ld_formula, data = train_ld, method = \"lm\" )\n",
    "summary(O3_ld_model)\n",
    "test_ld$O3_pred <- predict(O3_ld_model, test_ld)\n",
    "metrics(test_ld, truth = O3, estimate = O3_pred)"
   ]
  },
  {
   "cell_type": "markdown",
   "metadata": {},
   "source": [
    "### Building the next 2 days dataset and predicting PM2.5, PM10 and O3 values"
   ]
  },
  {
   "cell_type": "code",
   "execution_count": 134,
   "metadata": {
    "collapsed": true
   },
   "outputs": [],
   "source": [
    "#setting system timezone to UTC for consistent datetime usage\n",
    "Sys.setenv(TZ='GMT')\n",
    "tomorrow <- Sys.Date() + 1"
   ]
  },
  {
   "cell_type": "code",
   "execution_count": 135,
   "metadata": {
    "collapsed": true
   },
   "outputs": [],
   "source": [
    "# building 1 hour intervals for next 2 days and stationIds\n",
    "ld_time <-seq(from= as.POSIXct(tomorrow), by = \"1 hour\", length.out = 48)\n",
    "ld_time <- with_tz(ld_time, tzone = \"UTC\")\n",
    "ld_future_data <- data.frame(ld_time)\n",
    "# This id will be used in the creation of final submission file\n",
    "ld_future_data$id <- seq.int(nrow(ld_future_data)) -1\n",
    "ld_future_data <- merge(ld_future_data, data.frame(unique(ld_aq_gm_combined_data$stationId)))\n",
    "names(ld_future_data) <- c(\"utc_time\", \"id\", \"stationId\")"
   ]
  },
  {
   "cell_type": "code",
   "execution_count": 136,
   "metadata": {
    "collapsed": true
   },
   "outputs": [],
   "source": [
    "# building datetime features for the next 2 days\n",
    "ld_future_data$hour <- hour(ld_future_data$utc_time)\n",
    "ld_future_data$month <- month(ld_future_data$utc_time)\n",
    "ld_future_data$date <- date(ld_future_data$utc_time)\n",
    "ld_future_data$weekend = chron::is.weekend(ld_future_data$date)"
   ]
  },
  {
   "cell_type": "code",
   "execution_count": 137,
   "metadata": {
    "collapsed": true
   },
   "outputs": [],
   "source": [
    "ld_future_data$weekend <- as.integer(ld_future_data$weekend)"
   ]
  },
  {
   "cell_type": "code",
   "execution_count": 138,
   "metadata": {},
   "outputs": [
    {
     "name": "stderr",
     "output_type": "stream",
     "text": [
      "Warning message in predict.lm(modelFit, newdata):\n",
      "\"prediction from a rank-deficient fit may be misleading\"Warning message in predict.lm(modelFit, newdata):\n",
      "\"prediction from a rank-deficient fit may be misleading\""
     ]
    }
   ],
   "source": [
    "# predicting PM2.5, PM10 and O3 values\n",
    "ld_future_data$PM2.5 <- predict(PM2.5_ld_model, ld_future_data)\n",
    "ld_future_data$PM10 <- predict(PM10_ld_model, ld_future_data)\n",
    "ld_future_data$O3 <- predict(O3_ld_model, ld_future_data)"
   ]
  },
  {
   "cell_type": "code",
   "execution_count": 139,
   "metadata": {
    "collapsed": true
   },
   "outputs": [],
   "source": [
    "#creating the test_id for final submission file\n",
    "ld_future_data$test_id <- paste(ld_future_data$stationId, \"#\", ld_future_data$id, sep = \"\")"
   ]
  },
  {
   "cell_type": "code",
   "execution_count": 140,
   "metadata": {},
   "outputs": [
    {
     "name": "stdout",
     "output_type": "stream",
     "text": [
      "'data.frame':\t1152 obs. of  11 variables:\n",
      " $ utc_time : POSIXct, format: \"2018-05-22 00:00:00\" \"2018-05-22 01:00:00\" ...\n",
      " $ id       : num  0 1 2 3 4 5 6 7 8 9 ...\n",
      " $ stationId: Factor w/ 24 levels \"BL0\",\"BX1\",\"BX9\",..: 18 18 18 18 18 18 18 18 18 18 ...\n",
      " $ hour     : int  0 1 2 3 4 5 6 7 8 9 ...\n",
      " $ month    : num  5 5 5 5 5 5 5 5 5 5 ...\n",
      " $ date     : Date, format: \"2018-05-22\" \"2018-05-22\" ...\n",
      " $ weekend  : int  0 0 0 0 0 0 0 0 0 0 ...\n",
      " $ PM2.5    : num  13.9 14 14.1 14.2 14.3 ...\n",
      " $ PM10     : num  18.1 18.2 18.4 18.6 18.7 ...\n",
      " $ O3       : num  35.3 36 36.7 37.3 38 ...\n",
      " $ test_id  : chr  \"TD5#0\" \"TD5#1\" \"TD5#2\" \"TD5#3\" ...\n"
     ]
    }
   ],
   "source": [
    "str(ld_future_data)"
   ]
  },
  {
   "cell_type": "code",
   "execution_count": 141,
   "metadata": {},
   "outputs": [
    {
     "data": {
      "text/html": [
       "<table>\n",
       "<thead><tr><th scope=col>utc_time</th><th scope=col>id</th><th scope=col>stationId</th><th scope=col>hour</th><th scope=col>month</th><th scope=col>date</th><th scope=col>weekend</th><th scope=col>PM2.5</th><th scope=col>PM10</th><th scope=col>O3</th><th scope=col>test_id</th></tr></thead>\n",
       "<tbody>\n",
       "\t<tr><td>2018-05-22 00:00:00</td><td> 0                 </td><td>TD5                </td><td> 0                 </td><td>5                  </td><td>2018-05-22         </td><td>0                  </td><td>13.93636           </td><td>18.09443           </td><td>35.32625           </td><td>TD5#0              </td></tr>\n",
       "\t<tr><td>2018-05-22 01:00:00</td><td> 1                 </td><td>TD5                </td><td> 1                 </td><td>5                  </td><td>2018-05-22         </td><td>0                  </td><td>14.01674           </td><td>18.24936           </td><td>35.99772           </td><td>TD5#1              </td></tr>\n",
       "\t<tr><td>2018-05-22 02:00:00</td><td> 2                 </td><td>TD5                </td><td> 2                 </td><td>5                  </td><td>2018-05-22         </td><td>0                  </td><td>14.09713           </td><td>18.40429           </td><td>36.66919           </td><td>TD5#2              </td></tr>\n",
       "\t<tr><td>2018-05-22 03:00:00</td><td> 3                 </td><td>TD5                </td><td> 3                 </td><td>5                  </td><td>2018-05-22         </td><td>0                  </td><td>14.17751           </td><td>18.55921           </td><td>37.34066           </td><td>TD5#3              </td></tr>\n",
       "\t<tr><td>2018-05-22 04:00:00</td><td> 4                 </td><td>TD5                </td><td> 4                 </td><td>5                  </td><td>2018-05-22         </td><td>0                  </td><td>14.25789           </td><td>18.71414           </td><td>38.01213           </td><td>TD5#4              </td></tr>\n",
       "\t<tr><td>2018-05-22 05:00:00</td><td> 5                 </td><td>TD5                </td><td> 5                 </td><td>5                  </td><td>2018-05-22         </td><td>0                  </td><td>14.33827           </td><td>18.86907           </td><td>38.68360           </td><td>TD5#5              </td></tr>\n",
       "\t<tr><td>2018-05-22 06:00:00</td><td> 6                 </td><td>TD5                </td><td> 6                 </td><td>5                  </td><td>2018-05-22         </td><td>0                  </td><td>14.41865           </td><td>19.02399           </td><td>39.35508           </td><td>TD5#6              </td></tr>\n",
       "\t<tr><td>2018-05-22 07:00:00</td><td> 7                 </td><td>TD5                </td><td> 7                 </td><td>5                  </td><td>2018-05-22         </td><td>0                  </td><td>14.49903           </td><td>19.17892           </td><td>40.02655           </td><td>TD5#7              </td></tr>\n",
       "\t<tr><td>2018-05-22 08:00:00</td><td> 8                 </td><td>TD5                </td><td> 8                 </td><td>5                  </td><td>2018-05-22         </td><td>0                  </td><td>14.57942           </td><td>19.33384           </td><td>40.69802           </td><td>TD5#8              </td></tr>\n",
       "\t<tr><td>2018-05-22 09:00:00</td><td> 9                 </td><td>TD5                </td><td> 9                 </td><td>5                  </td><td>2018-05-22         </td><td>0                  </td><td>14.65980           </td><td>19.48877           </td><td>41.36949           </td><td>TD5#9              </td></tr>\n",
       "\t<tr><td>2018-05-22 10:00:00</td><td>10                 </td><td>TD5                </td><td>10                 </td><td>5                  </td><td>2018-05-22         </td><td>0                  </td><td>14.74018           </td><td>19.64370           </td><td>42.04096           </td><td>TD5#10             </td></tr>\n",
       "\t<tr><td>2018-05-22 11:00:00</td><td>11                 </td><td>TD5                </td><td>11                 </td><td>5                  </td><td>2018-05-22         </td><td>0                  </td><td>14.82056           </td><td>19.79862           </td><td>42.71243           </td><td>TD5#11             </td></tr>\n",
       "\t<tr><td>2018-05-22 12:00:00</td><td>12                 </td><td>TD5                </td><td>12                 </td><td>5                  </td><td>2018-05-22         </td><td>0                  </td><td>14.90094           </td><td>19.95355           </td><td>43.38391           </td><td>TD5#12             </td></tr>\n",
       "\t<tr><td>2018-05-22 13:00:00</td><td>13                 </td><td>TD5                </td><td>13                 </td><td>5                  </td><td>2018-05-22         </td><td>0                  </td><td>14.98132           </td><td>20.10848           </td><td>44.05538           </td><td>TD5#13             </td></tr>\n",
       "\t<tr><td>2018-05-22 14:00:00</td><td>14                 </td><td>TD5                </td><td>14                 </td><td>5                  </td><td>2018-05-22         </td><td>0                  </td><td>15.06171           </td><td>20.26340           </td><td>44.72685           </td><td>TD5#14             </td></tr>\n",
       "\t<tr><td>2018-05-22 15:00:00</td><td>15                 </td><td>TD5                </td><td>15                 </td><td>5                  </td><td>2018-05-22         </td><td>0                  </td><td>15.14209           </td><td>20.41833           </td><td>45.39832           </td><td>TD5#15             </td></tr>\n",
       "\t<tr><td>2018-05-22 16:00:00</td><td>16                 </td><td>TD5                </td><td>16                 </td><td>5                  </td><td>2018-05-22         </td><td>0                  </td><td>15.22247           </td><td>20.57325           </td><td>46.06979           </td><td>TD5#16             </td></tr>\n",
       "\t<tr><td>2018-05-22 17:00:00</td><td>17                 </td><td>TD5                </td><td>17                 </td><td>5                  </td><td>2018-05-22         </td><td>0                  </td><td>15.30285           </td><td>20.72818           </td><td>46.74126           </td><td>TD5#17             </td></tr>\n",
       "\t<tr><td>2018-05-22 18:00:00</td><td>18                 </td><td>TD5                </td><td>18                 </td><td>5                  </td><td>2018-05-22         </td><td>0                  </td><td>15.38323           </td><td>20.88311           </td><td>47.41273           </td><td>TD5#18             </td></tr>\n",
       "\t<tr><td>2018-05-22 19:00:00</td><td>19                 </td><td>TD5                </td><td>19                 </td><td>5                  </td><td>2018-05-22         </td><td>0                  </td><td>15.46361           </td><td>21.03803           </td><td>48.08421           </td><td>TD5#19             </td></tr>\n",
       "</tbody>\n",
       "</table>\n"
      ],
      "text/latex": [
       "\\begin{tabular}{r|lllllllllll}\n",
       " utc\\_time & id & stationId & hour & month & date & weekend & PM2.5 & PM10 & O3 & test\\_id\\\\\n",
       "\\hline\n",
       "\t 2018-05-22 00:00:00 &  0                  & TD5                 &  0                  & 5                   & 2018-05-22          & 0                   & 13.93636            & 18.09443            & 35.32625            & TD5\\#0            \\\\\n",
       "\t 2018-05-22 01:00:00 &  1                  & TD5                 &  1                  & 5                   & 2018-05-22          & 0                   & 14.01674            & 18.24936            & 35.99772            & TD5\\#1            \\\\\n",
       "\t 2018-05-22 02:00:00 &  2                  & TD5                 &  2                  & 5                   & 2018-05-22          & 0                   & 14.09713            & 18.40429            & 36.66919            & TD5\\#2            \\\\\n",
       "\t 2018-05-22 03:00:00 &  3                  & TD5                 &  3                  & 5                   & 2018-05-22          & 0                   & 14.17751            & 18.55921            & 37.34066            & TD5\\#3            \\\\\n",
       "\t 2018-05-22 04:00:00 &  4                  & TD5                 &  4                  & 5                   & 2018-05-22          & 0                   & 14.25789            & 18.71414            & 38.01213            & TD5\\#4            \\\\\n",
       "\t 2018-05-22 05:00:00 &  5                  & TD5                 &  5                  & 5                   & 2018-05-22          & 0                   & 14.33827            & 18.86907            & 38.68360            & TD5\\#5            \\\\\n",
       "\t 2018-05-22 06:00:00 &  6                  & TD5                 &  6                  & 5                   & 2018-05-22          & 0                   & 14.41865            & 19.02399            & 39.35508            & TD5\\#6            \\\\\n",
       "\t 2018-05-22 07:00:00 &  7                  & TD5                 &  7                  & 5                   & 2018-05-22          & 0                   & 14.49903            & 19.17892            & 40.02655            & TD5\\#7            \\\\\n",
       "\t 2018-05-22 08:00:00 &  8                  & TD5                 &  8                  & 5                   & 2018-05-22          & 0                   & 14.57942            & 19.33384            & 40.69802            & TD5\\#8            \\\\\n",
       "\t 2018-05-22 09:00:00 &  9                  & TD5                 &  9                  & 5                   & 2018-05-22          & 0                   & 14.65980            & 19.48877            & 41.36949            & TD5\\#9            \\\\\n",
       "\t 2018-05-22 10:00:00 & 10                  & TD5                 & 10                  & 5                   & 2018-05-22          & 0                   & 14.74018            & 19.64370            & 42.04096            & TD5\\#10           \\\\\n",
       "\t 2018-05-22 11:00:00 & 11                  & TD5                 & 11                  & 5                   & 2018-05-22          & 0                   & 14.82056            & 19.79862            & 42.71243            & TD5\\#11           \\\\\n",
       "\t 2018-05-22 12:00:00 & 12                  & TD5                 & 12                  & 5                   & 2018-05-22          & 0                   & 14.90094            & 19.95355            & 43.38391            & TD5\\#12           \\\\\n",
       "\t 2018-05-22 13:00:00 & 13                  & TD5                 & 13                  & 5                   & 2018-05-22          & 0                   & 14.98132            & 20.10848            & 44.05538            & TD5\\#13           \\\\\n",
       "\t 2018-05-22 14:00:00 & 14                  & TD5                 & 14                  & 5                   & 2018-05-22          & 0                   & 15.06171            & 20.26340            & 44.72685            & TD5\\#14           \\\\\n",
       "\t 2018-05-22 15:00:00 & 15                  & TD5                 & 15                  & 5                   & 2018-05-22          & 0                   & 15.14209            & 20.41833            & 45.39832            & TD5\\#15           \\\\\n",
       "\t 2018-05-22 16:00:00 & 16                  & TD5                 & 16                  & 5                   & 2018-05-22          & 0                   & 15.22247            & 20.57325            & 46.06979            & TD5\\#16           \\\\\n",
       "\t 2018-05-22 17:00:00 & 17                  & TD5                 & 17                  & 5                   & 2018-05-22          & 0                   & 15.30285            & 20.72818            & 46.74126            & TD5\\#17           \\\\\n",
       "\t 2018-05-22 18:00:00 & 18                  & TD5                 & 18                  & 5                   & 2018-05-22          & 0                   & 15.38323            & 20.88311            & 47.41273            & TD5\\#18           \\\\\n",
       "\t 2018-05-22 19:00:00 & 19                  & TD5                 & 19                  & 5                   & 2018-05-22          & 0                   & 15.46361            & 21.03803            & 48.08421            & TD5\\#19           \\\\\n",
       "\\end{tabular}\n"
      ],
      "text/markdown": [
       "\n",
       "utc_time | id | stationId | hour | month | date | weekend | PM2.5 | PM10 | O3 | test_id | \n",
       "|---|---|---|---|---|---|---|---|---|---|---|---|---|---|---|---|---|---|---|---|\n",
       "| 2018-05-22 00:00:00 |  0                  | TD5                 |  0                  | 5                   | 2018-05-22          | 0                   | 13.93636            | 18.09443            | 35.32625            | TD5#0               | \n",
       "| 2018-05-22 01:00:00 |  1                  | TD5                 |  1                  | 5                   | 2018-05-22          | 0                   | 14.01674            | 18.24936            | 35.99772            | TD5#1               | \n",
       "| 2018-05-22 02:00:00 |  2                  | TD5                 |  2                  | 5                   | 2018-05-22          | 0                   | 14.09713            | 18.40429            | 36.66919            | TD5#2               | \n",
       "| 2018-05-22 03:00:00 |  3                  | TD5                 |  3                  | 5                   | 2018-05-22          | 0                   | 14.17751            | 18.55921            | 37.34066            | TD5#3               | \n",
       "| 2018-05-22 04:00:00 |  4                  | TD5                 |  4                  | 5                   | 2018-05-22          | 0                   | 14.25789            | 18.71414            | 38.01213            | TD5#4               | \n",
       "| 2018-05-22 05:00:00 |  5                  | TD5                 |  5                  | 5                   | 2018-05-22          | 0                   | 14.33827            | 18.86907            | 38.68360            | TD5#5               | \n",
       "| 2018-05-22 06:00:00 |  6                  | TD5                 |  6                  | 5                   | 2018-05-22          | 0                   | 14.41865            | 19.02399            | 39.35508            | TD5#6               | \n",
       "| 2018-05-22 07:00:00 |  7                  | TD5                 |  7                  | 5                   | 2018-05-22          | 0                   | 14.49903            | 19.17892            | 40.02655            | TD5#7               | \n",
       "| 2018-05-22 08:00:00 |  8                  | TD5                 |  8                  | 5                   | 2018-05-22          | 0                   | 14.57942            | 19.33384            | 40.69802            | TD5#8               | \n",
       "| 2018-05-22 09:00:00 |  9                  | TD5                 |  9                  | 5                   | 2018-05-22          | 0                   | 14.65980            | 19.48877            | 41.36949            | TD5#9               | \n",
       "| 2018-05-22 10:00:00 | 10                  | TD5                 | 10                  | 5                   | 2018-05-22          | 0                   | 14.74018            | 19.64370            | 42.04096            | TD5#10              | \n",
       "| 2018-05-22 11:00:00 | 11                  | TD5                 | 11                  | 5                   | 2018-05-22          | 0                   | 14.82056            | 19.79862            | 42.71243            | TD5#11              | \n",
       "| 2018-05-22 12:00:00 | 12                  | TD5                 | 12                  | 5                   | 2018-05-22          | 0                   | 14.90094            | 19.95355            | 43.38391            | TD5#12              | \n",
       "| 2018-05-22 13:00:00 | 13                  | TD5                 | 13                  | 5                   | 2018-05-22          | 0                   | 14.98132            | 20.10848            | 44.05538            | TD5#13              | \n",
       "| 2018-05-22 14:00:00 | 14                  | TD5                 | 14                  | 5                   | 2018-05-22          | 0                   | 15.06171            | 20.26340            | 44.72685            | TD5#14              | \n",
       "| 2018-05-22 15:00:00 | 15                  | TD5                 | 15                  | 5                   | 2018-05-22          | 0                   | 15.14209            | 20.41833            | 45.39832            | TD5#15              | \n",
       "| 2018-05-22 16:00:00 | 16                  | TD5                 | 16                  | 5                   | 2018-05-22          | 0                   | 15.22247            | 20.57325            | 46.06979            | TD5#16              | \n",
       "| 2018-05-22 17:00:00 | 17                  | TD5                 | 17                  | 5                   | 2018-05-22          | 0                   | 15.30285            | 20.72818            | 46.74126            | TD5#17              | \n",
       "| 2018-05-22 18:00:00 | 18                  | TD5                 | 18                  | 5                   | 2018-05-22          | 0                   | 15.38323            | 20.88311            | 47.41273            | TD5#18              | \n",
       "| 2018-05-22 19:00:00 | 19                  | TD5                 | 19                  | 5                   | 2018-05-22          | 0                   | 15.46361            | 21.03803            | 48.08421            | TD5#19              | \n",
       "\n",
       "\n"
      ],
      "text/plain": [
       "   utc_time            id stationId hour month date       weekend PM2.5   \n",
       "1  2018-05-22 00:00:00  0 TD5        0   5     2018-05-22 0       13.93636\n",
       "2  2018-05-22 01:00:00  1 TD5        1   5     2018-05-22 0       14.01674\n",
       "3  2018-05-22 02:00:00  2 TD5        2   5     2018-05-22 0       14.09713\n",
       "4  2018-05-22 03:00:00  3 TD5        3   5     2018-05-22 0       14.17751\n",
       "5  2018-05-22 04:00:00  4 TD5        4   5     2018-05-22 0       14.25789\n",
       "6  2018-05-22 05:00:00  5 TD5        5   5     2018-05-22 0       14.33827\n",
       "7  2018-05-22 06:00:00  6 TD5        6   5     2018-05-22 0       14.41865\n",
       "8  2018-05-22 07:00:00  7 TD5        7   5     2018-05-22 0       14.49903\n",
       "9  2018-05-22 08:00:00  8 TD5        8   5     2018-05-22 0       14.57942\n",
       "10 2018-05-22 09:00:00  9 TD5        9   5     2018-05-22 0       14.65980\n",
       "11 2018-05-22 10:00:00 10 TD5       10   5     2018-05-22 0       14.74018\n",
       "12 2018-05-22 11:00:00 11 TD5       11   5     2018-05-22 0       14.82056\n",
       "13 2018-05-22 12:00:00 12 TD5       12   5     2018-05-22 0       14.90094\n",
       "14 2018-05-22 13:00:00 13 TD5       13   5     2018-05-22 0       14.98132\n",
       "15 2018-05-22 14:00:00 14 TD5       14   5     2018-05-22 0       15.06171\n",
       "16 2018-05-22 15:00:00 15 TD5       15   5     2018-05-22 0       15.14209\n",
       "17 2018-05-22 16:00:00 16 TD5       16   5     2018-05-22 0       15.22247\n",
       "18 2018-05-22 17:00:00 17 TD5       17   5     2018-05-22 0       15.30285\n",
       "19 2018-05-22 18:00:00 18 TD5       18   5     2018-05-22 0       15.38323\n",
       "20 2018-05-22 19:00:00 19 TD5       19   5     2018-05-22 0       15.46361\n",
       "   PM10     O3       test_id\n",
       "1  18.09443 35.32625 TD5#0  \n",
       "2  18.24936 35.99772 TD5#1  \n",
       "3  18.40429 36.66919 TD5#2  \n",
       "4  18.55921 37.34066 TD5#3  \n",
       "5  18.71414 38.01213 TD5#4  \n",
       "6  18.86907 38.68360 TD5#5  \n",
       "7  19.02399 39.35508 TD5#6  \n",
       "8  19.17892 40.02655 TD5#7  \n",
       "9  19.33384 40.69802 TD5#8  \n",
       "10 19.48877 41.36949 TD5#9  \n",
       "11 19.64370 42.04096 TD5#10 \n",
       "12 19.79862 42.71243 TD5#11 \n",
       "13 19.95355 43.38391 TD5#12 \n",
       "14 20.10848 44.05538 TD5#13 \n",
       "15 20.26340 44.72685 TD5#14 \n",
       "16 20.41833 45.39832 TD5#15 \n",
       "17 20.57325 46.06979 TD5#16 \n",
       "18 20.72818 46.74126 TD5#17 \n",
       "19 20.88311 47.41273 TD5#18 \n",
       "20 21.03803 48.08421 TD5#19 "
      ]
     },
     "metadata": {},
     "output_type": "display_data"
    }
   ],
   "source": [
    "head(ld_future_data, 20)"
   ]
  },
  {
   "cell_type": "code",
   "execution_count": 142,
   "metadata": {},
   "outputs": [],
   "source": [
    "write.csv(ld_future_data[,c(\"test_id\", \"PM2.5\", \"PM10\", \"O3\")], file = paste(\"ld_submission\",Sys.Date(),\".csv\"), row.names = FALSE)"
   ]
  },
  {
   "cell_type": "code",
   "execution_count": 143,
   "metadata": {
    "collapsed": true
   },
   "outputs": [],
   "source": [
    "# resetting the timezone\n",
    "Sys.unsetenv(\"TZ\")"
   ]
  }
 ],
 "metadata": {
  "kernelspec": {
   "display_name": "R",
   "language": "R",
   "name": "ir"
  },
  "language_info": {
   "codemirror_mode": "r",
   "file_extension": ".r",
   "mimetype": "text/x-r-source",
   "name": "R",
   "pygments_lexer": "r",
   "version": "3.4.2"
  }
 },
 "nbformat": 4,
 "nbformat_minor": 2
}
