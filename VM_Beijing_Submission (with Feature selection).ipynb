{
 "cells": [
  {
   "cell_type": "markdown",
   "metadata": {},
   "source": [
    "### Import and transformations of API data"
   ]
  },
  {
   "cell_type": "code",
   "execution_count": 1,
   "metadata": {},
   "outputs": [
    {
     "data": {
      "text/html": [
       "<strong>null device:</strong> 1"
      ],
      "text/latex": [
       "\\textbf{null device:} 1"
      ],
      "text/markdown": [
       "**null device:** 1"
      ],
      "text/plain": [
       "null device \n",
       "          1 "
      ]
     },
     "metadata": {},
     "output_type": "display_data"
    },
    {
     "name": "stdout",
     "output_type": "stream",
     "text": [
      "\f"
     ]
    }
   ],
   "source": [
    "if(!is.null(dev.list())) dev.off() # Clear Plots\n",
    "rm(list=ls()) # Clear objects from Memory\n",
    "cat(\"\\014\") # Clear Console\n",
    "# writeClipboard(as.character(x)) # copy data frame to clipboard"
   ]
  },
  {
   "cell_type": "code",
   "execution_count": 2,
   "metadata": {},
   "outputs": [
    {
     "name": "stderr",
     "output_type": "stream",
     "text": [
      "Warning message:\n",
      "\"package 'RCurl' was built under R version 3.4.4\"Loading required package: bitops\n",
      "Loading required package: gsubfn\n",
      "Loading required package: proto\n",
      "Could not load tcltk.  Will use slower R code instead.\n",
      "Loading required package: RSQLite\n",
      "Warning message:\n",
      "\"package 'digest' was built under R version 3.4.3\"Warning message:\n",
      "\"package 'dplyr' was built under R version 3.4.3\"\n",
      "Attaching package: 'dplyr'\n",
      "\n",
      "The following objects are masked from 'package:stats':\n",
      "\n",
      "    filter, lag\n",
      "\n",
      "The following objects are masked from 'package:base':\n",
      "\n",
      "    intersect, setdiff, setequal, union\n",
      "\n",
      "Warning message:\n",
      "\"package 'anytime' was built under R version 3.4.4\"Warning message:\n",
      "\"package 'geosphere' was built under R version 3.4.4\"Warning message:\n",
      "\"package 'lubridate' was built under R version 3.4.3\"\n",
      "Attaching package: 'lubridate'\n",
      "\n",
      "The following object is masked from 'package:base':\n",
      "\n",
      "    date\n",
      "\n",
      "Warning message:\n",
      "\"package 'chron' was built under R version 3.4.3\"\n",
      "Attaching package: 'chron'\n",
      "\n",
      "The following objects are masked from 'package:lubridate':\n",
      "\n",
      "    days, hours, minutes, seconds, years\n",
      "\n",
      "Loading required package: caret\n",
      "Warning message:\n",
      "\"package 'caret' was built under R version 3.4.4\"Loading required package: lattice\n",
      "Warning message:\n",
      "\"package 'lattice' was built under R version 3.4.3\"Loading required package: ggplot2\n",
      "Warning message:\n",
      "\"package 'ggplot2' was built under R version 3.4.3\"Loading required package: rattle\n",
      "Warning message:\n",
      "\"package 'rattle' was built under R version 3.4.4\"Rattle: A free graphical interface for data science with R.\n",
      "Version 5.1.0 Copyright (c) 2006-2017 Togaware Pty Ltd.\n",
      "Type 'rattle()' to shake, rattle, and roll your data.\n",
      "Loading required package: yardstick\n",
      "Warning message:\n",
      "\"package 'yardstick' was built under R version 3.4.4\"Loading required package: broom\n",
      "Warning message:\n",
      "\"package 'broom' was built under R version 3.4.4\"\n",
      "Attaching package: 'yardstick'\n",
      "\n",
      "The following objects are masked from 'package:caret':\n",
      "\n",
      "    mnLogLoss, precision, recall\n",
      "\n"
     ]
    }
   ],
   "source": [
    "library(RCurl)\n",
    "library(sqldf)\n",
    "library(digest)\n",
    "library(dplyr)\n",
    "library(anytime)\n",
    "library(geosphere)\n",
    "library(lubridate)\n",
    "library(chron)\n",
    "require(caret)\n",
    "require(rattle)\n",
    "require(yardstick)"
   ]
  },
  {
   "cell_type": "code",
   "execution_count": 3,
   "metadata": {
    "collapsed": true
   },
   "outputs": [],
   "source": [
    "# set working directory\n",
    "setwd(\"C:/Users/vanethi/Documents/GitHub/DS420_Factoria\")"
   ]
  },
  {
   "cell_type": "code",
   "execution_count": 4,
   "metadata": {
    "collapsed": true
   },
   "outputs": [],
   "source": [
    "# set start and end date\n",
    "startDate <- '2017-12-31-0'\n",
    "endDate <- '2018-06-01-0'"
   ]
  },
  {
   "cell_type": "code",
   "execution_count": 5,
   "metadata": {
    "collapsed": true
   },
   "outputs": [],
   "source": [
    "# pull data for Beijing\n",
    "\n",
    "# acquire air quality data\n",
    "bj_aq_url <- paste0(\"https://biendata.com/competition/airquality/bj/\",startDate,\"/\",endDate,\"/2k0d1d8\")\n",
    "bj_aq_file <- getURL(bj_aq_url, ssl.verifyhost=FALSE, ssl.verifypeer=FALSE)\n",
    "bj_aq_data <- read.csv(textConnection(bj_aq_file), header=TRUE)\n",
    "  \n",
    "# acquire API grid meteorology data\n",
    "bj_gm_url <- paste0(\"https://biendata.com/competition/meteorology/bj_grid/\",startDate,\"/\",endDate,\"/2k0d1d8\")\n",
    "bj_gm_file <- getURL(bj_gm_url, ssl.verifyhost=FALSE, ssl.verifypeer=FALSE)\n",
    "bj_gm_data <- read.csv(textConnection(bj_gm_file), header=TRUE)"
   ]
  },
  {
   "cell_type": "code",
   "execution_count": 6,
   "metadata": {},
   "outputs": [
    {
     "data": {
      "text/html": [
       "<ol class=list-inline>\n",
       "\t<li>'bj_gm_data'</li>\n",
       "\t<li>'bj_aq_data'</li>\n",
       "</ol>\n"
      ],
      "text/latex": [
       "\\begin{enumerate*}\n",
       "\\item 'bj\\_gm\\_data'\n",
       "\\item 'bj\\_aq\\_data'\n",
       "\\end{enumerate*}\n"
      ],
      "text/markdown": [
       "1. 'bj_gm_data'\n",
       "2. 'bj_aq_data'\n",
       "\n",
       "\n"
      ],
      "text/plain": [
       "[1] \"bj_gm_data\" \"bj_aq_data\""
      ]
     },
     "metadata": {},
     "output_type": "display_data"
    }
   ],
   "source": [
    "# list of available data frames\n",
    "df.list <- names(which(unlist(eapply(.GlobalEnv,is.data.frame))))\n",
    "df.list"
   ]
  },
  {
   "cell_type": "code",
   "execution_count": 7,
   "metadata": {
    "collapsed": true
   },
   "outputs": [],
   "source": [
    "# Converting character to datetime\n",
    "bj_gm_data$time <- anytime(bj_gm_data$time)\n",
    "bj_aq_data$time <- anytime(bj_aq_data$time)"
   ]
  },
  {
   "cell_type": "code",
   "execution_count": 8,
   "metadata": {},
   "outputs": [
    {
     "name": "stdout",
     "output_type": "stream",
     "text": [
      "[1] \"bj_gm_data\"\n",
      "'data.frame':\t945828 obs. of  9 variables:\n",
      " $ id            : int  2000958 2000959 2000960 2000961 2000962 2000963 2000964 2000965 2000966 2000967 ...\n",
      " $ station_id    : Factor w/ 651 levels \"beijing_grid_000\",..: 1 2 3 4 5 6 7 8 9 10 ...\n",
      " $ time          : POSIXct, format: \"2018-03-31 07:00:00\" \"2018-03-31 07:00:00\" ...\n",
      " $ weather       : Factor w/ 9 levels \"CLEAR_DAY\",\"CLEAR_NIGHT\",..: 5 5 5 5 5 5 5 5 5 5 ...\n",
      " $ temperature   : num  24 24 25 25 25 25 25 26 22.4 22.4 ...\n",
      " $ pressure      : num  973 960 946 931 914 ...\n",
      " $ humidity      : num  23 21 19 18 16 15 15 16 16 17 ...\n",
      " $ wind_direction: num  161 165 170 184 221 ...\n",
      " $ wind_speed    : num  14.28 13.3 12.42 9.84 7.39 ...\n",
      "NULL\n",
      "[1] \"bj_aq_data\"\n",
      "'data.frame':\t48615 obs. of  9 variables:\n",
      " $ id                : int  2941450 2941451 2941452 2941453 2941454 2941455 2941456 2941457 2941458 2941459 ...\n",
      " $ station_id        : Factor w/ 35 levels \"aotizhongxin_aq\",..: 7 24 11 27 1 19 26 3 35 10 ...\n",
      " $ time              : POSIXct, format: \"2018-03-31 07:00:00\" \"2018-03-31 07:00:00\" ...\n",
      " $ PM25_Concentration: num  105 95 95 99 117 100 95 104 NA 111 ...\n",
      " $ PM10_Concentration: num  172 123 139 172 166 150 139 236 NA 162 ...\n",
      " $ NO2_Concentration : num  53 54 66 58 67 62 82 75 NA 65 ...\n",
      " $ CO_Concentration  : num  0.8 0.9 0.8 1 0.8 0.8 1 0.9 NA 0.9 ...\n",
      " $ O3_Concentration  : num  127 121 123 119 111 127 104 98 NA 119 ...\n",
      " $ SO2_Concentration : num  14 15 13 14 14 15 13 9 NA 13 ...\n",
      "NULL\n"
     ]
    }
   ],
   "source": [
    "# printing structure of all the datasets\n",
    "for (i in 1:length(df.list)) {\n",
    " print(df.list[i])\n",
    "  print(str(get(df.list[i])))\n",
    "}"
   ]
  },
  {
   "cell_type": "code",
   "execution_count": 9,
   "metadata": {},
   "outputs": [
    {
     "name": "stdout",
     "output_type": "stream",
     "text": [
      "[1] \"bj_gm_data\"\n"
     ]
    },
    {
     "data": {
      "text/html": [
       "<table>\n",
       "<thead><tr><th scope=col>min_date</th><th scope=col>max_date</th></tr></thead>\n",
       "<tbody>\n",
       "\t<tr><td>2018-03-31 07:00:00</td><td>2018-06-01         </td></tr>\n",
       "</tbody>\n",
       "</table>\n"
      ],
      "text/latex": [
       "\\begin{tabular}{r|ll}\n",
       " min\\_date & max\\_date\\\\\n",
       "\\hline\n",
       "\t 2018-03-31 07:00:00 & 2018-06-01         \\\\\n",
       "\\end{tabular}\n"
      ],
      "text/markdown": [
       "\n",
       "min_date | max_date | \n",
       "|---|\n",
       "| 2018-03-31 07:00:00 | 2018-06-01          | \n",
       "\n",
       "\n"
      ],
      "text/plain": [
       "  min_date            max_date  \n",
       "1 2018-03-31 07:00:00 2018-06-01"
      ]
     },
     "metadata": {},
     "output_type": "display_data"
    },
    {
     "name": "stdout",
     "output_type": "stream",
     "text": [
      "[1] \"bj_aq_data\"\n"
     ]
    },
    {
     "data": {
      "text/html": [
       "<table>\n",
       "<thead><tr><th scope=col>min_date</th><th scope=col>max_date</th></tr></thead>\n",
       "<tbody>\n",
       "\t<tr><td>2018-03-31 07:00:00</td><td>2018-06-01         </td></tr>\n",
       "</tbody>\n",
       "</table>\n"
      ],
      "text/latex": [
       "\\begin{tabular}{r|ll}\n",
       " min\\_date & max\\_date\\\\\n",
       "\\hline\n",
       "\t 2018-03-31 07:00:00 & 2018-06-01         \\\\\n",
       "\\end{tabular}\n"
      ],
      "text/markdown": [
       "\n",
       "min_date | max_date | \n",
       "|---|\n",
       "| 2018-03-31 07:00:00 | 2018-06-01          | \n",
       "\n",
       "\n"
      ],
      "text/plain": [
       "  min_date            max_date  \n",
       "1 2018-03-31 07:00:00 2018-06-01"
      ]
     },
     "metadata": {},
     "output_type": "display_data"
    }
   ],
   "source": [
    "# Printing the min and max dates of all datasets\n",
    "print(\"bj_gm_data\")\n",
    "bj_gm_data %>% summarize(min_date = min(time), max_date = max(time))\n",
    "print(\"bj_aq_data\")\n",
    "bj_aq_data %>% summarize(min_date = min(time), max_date = max(time))"
   ]
  },
  {
   "cell_type": "code",
   "execution_count": 10,
   "metadata": {
    "collapsed": true
   },
   "outputs": [],
   "source": [
    "# using only required columns\n",
    "bj_aq_data <- bj_aq_data %>% select(-id)\n",
    "bj_gm_data <- bj_gm_data %>% select(-c(id, weather))"
   ]
  },
  {
   "cell_type": "code",
   "execution_count": 11,
   "metadata": {
    "collapsed": true
   },
   "outputs": [],
   "source": [
    "# Beijing closest grids to stations\n",
    "bj_closest_stations <- read.csv('SL_beijing_closest_stations.csv')\n",
    "colnames(bj_closest_stations) <- c('x',\"stationId\",\"stationName\",\"distance\") "
   ]
  },
  {
   "cell_type": "code",
   "execution_count": 12,
   "metadata": {
    "collapsed": true
   },
   "outputs": [],
   "source": [
    "# Modifying column names for consistency\n",
    "colnames(bj_aq_data) <- c(\"stationId\",\"utc_time\",\"PM2.5\",\"PM10\",\"NO2\",\"CO\",\"O3\", \"SO2\") \n",
    "colnames(bj_gm_data) <- c(\"stationName\",\"utc_time\",\"temperature\",\"pressure\",\"humidity\",\"wind_direction\",\"wind_speed.kph\") "
   ]
  },
  {
   "cell_type": "code",
   "execution_count": 13,
   "metadata": {},
   "outputs": [
    {
     "name": "stdout",
     "output_type": "stream",
     "text": [
      "'data.frame':\t35 obs. of  4 variables:\n",
      " $ x          : int  1 2 3 4 5 6 7 8 9 10 ...\n",
      " $ stationId  : Factor w/ 35 levels \"aotizhongxin_aq\",..: 7 24 11 27 1 19 26 3 35 10 ...\n",
      " $ stationName: Factor w/ 26 levels \"beijing_grid_216\",..: 16 16 13 16 17 19 14 9 8 13 ...\n",
      " $ distance   : num  3540 1669 4638 4776 2020 ...\n",
      "'data.frame':\t945828 obs. of  7 variables:\n",
      " $ stationName   : Factor w/ 651 levels \"beijing_grid_000\",..: 1 2 3 4 5 6 7 8 9 10 ...\n",
      " $ utc_time      : POSIXct, format: \"2018-03-31 07:00:00\" \"2018-03-31 07:00:00\" ...\n",
      " $ temperature   : num  24 24 25 25 25 25 25 26 22.4 22.4 ...\n",
      " $ pressure      : num  973 960 946 931 914 ...\n",
      " $ humidity      : num  23 21 19 18 16 15 15 16 16 17 ...\n",
      " $ wind_direction: num  161 165 170 184 221 ...\n",
      " $ wind_speed.kph: num  14.28 13.3 12.42 9.84 7.39 ...\n",
      "'data.frame':\t48615 obs. of  8 variables:\n",
      " $ stationId: Factor w/ 35 levels \"aotizhongxin_aq\",..: 7 24 11 27 1 19 26 3 35 10 ...\n",
      " $ utc_time : POSIXct, format: \"2018-03-31 07:00:00\" \"2018-03-31 07:00:00\" ...\n",
      " $ PM2.5    : num  105 95 95 99 117 100 95 104 NA 111 ...\n",
      " $ PM10     : num  172 123 139 172 166 150 139 236 NA 162 ...\n",
      " $ NO2      : num  53 54 66 58 67 62 82 75 NA 65 ...\n",
      " $ CO       : num  0.8 0.9 0.8 1 0.8 0.8 1 0.9 NA 0.9 ...\n",
      " $ O3       : num  127 121 123 119 111 127 104 98 NA 119 ...\n",
      " $ SO2      : num  14 15 13 14 14 15 13 9 NA 13 ...\n"
     ]
    },
    {
     "data": {
      "text/html": [
       "<table>\n",
       "<thead><tr><th scope=col>x</th><th scope=col>stationId</th><th scope=col>stationName</th><th scope=col>distance</th></tr></thead>\n",
       "<tbody>\n",
       "\t<tr><td>1               </td><td>dongsi_aq       </td><td>beijing_grid_303</td><td>3539.569        </td></tr>\n",
       "\t<tr><td>2               </td><td>tiantan_aq      </td><td>beijing_grid_303</td><td>1669.215        </td></tr>\n",
       "\t<tr><td>3               </td><td>guanyuan_aq     </td><td>beijing_grid_282</td><td>4637.889        </td></tr>\n",
       "\t<tr><td>4               </td><td>wanshouxigong_aq</td><td>beijing_grid_303</td><td>4775.641        </td></tr>\n",
       "\t<tr><td>5               </td><td>aotizhongxin_aq </td><td>beijing_grid_304</td><td>2020.020        </td></tr>\n",
       "\t<tr><td>6               </td><td>nongzhanguan_aq </td><td>beijing_grid_324</td><td>5296.386        </td></tr>\n",
       "</tbody>\n",
       "</table>\n"
      ],
      "text/latex": [
       "\\begin{tabular}{r|llll}\n",
       " x & stationId & stationName & distance\\\\\n",
       "\\hline\n",
       "\t 1                    & dongsi\\_aq          & beijing\\_grid\\_303 & 3539.569            \\\\\n",
       "\t 2                    & tiantan\\_aq         & beijing\\_grid\\_303 & 1669.215            \\\\\n",
       "\t 3                    & guanyuan\\_aq        & beijing\\_grid\\_282 & 4637.889            \\\\\n",
       "\t 4                    & wanshouxigong\\_aq   & beijing\\_grid\\_303 & 4775.641            \\\\\n",
       "\t 5                    & aotizhongxin\\_aq    & beijing\\_grid\\_304 & 2020.020            \\\\\n",
       "\t 6                    & nongzhanguan\\_aq    & beijing\\_grid\\_324 & 5296.386            \\\\\n",
       "\\end{tabular}\n"
      ],
      "text/markdown": [
       "\n",
       "x | stationId | stationName | distance | \n",
       "|---|---|---|---|---|---|\n",
       "| 1                | dongsi_aq        | beijing_grid_303 | 3539.569         | \n",
       "| 2                | tiantan_aq       | beijing_grid_303 | 1669.215         | \n",
       "| 3                | guanyuan_aq      | beijing_grid_282 | 4637.889         | \n",
       "| 4                | wanshouxigong_aq | beijing_grid_303 | 4775.641         | \n",
       "| 5                | aotizhongxin_aq  | beijing_grid_304 | 2020.020         | \n",
       "| 6                | nongzhanguan_aq  | beijing_grid_324 | 5296.386         | \n",
       "\n",
       "\n"
      ],
      "text/plain": [
       "  x stationId        stationName      distance\n",
       "1 1 dongsi_aq        beijing_grid_303 3539.569\n",
       "2 2 tiantan_aq       beijing_grid_303 1669.215\n",
       "3 3 guanyuan_aq      beijing_grid_282 4637.889\n",
       "4 4 wanshouxigong_aq beijing_grid_303 4775.641\n",
       "5 5 aotizhongxin_aq  beijing_grid_304 2020.020\n",
       "6 6 nongzhanguan_aq  beijing_grid_324 5296.386"
      ]
     },
     "metadata": {},
     "output_type": "display_data"
    }
   ],
   "source": [
    "str(bj_closest_stations)\n",
    "str(bj_gm_data)\n",
    "str(bj_aq_data)\n",
    "head(bj_closest_stations)"
   ]
  },
  {
   "cell_type": "code",
   "execution_count": 14,
   "metadata": {
    "collapsed": true
   },
   "outputs": [],
   "source": [
    "# Mapping stationIds with respective grids\n",
    "bj_aq_map <- merge(bj_aq_data,bj_closest_stations, by = \"stationId\")"
   ]
  },
  {
   "cell_type": "code",
   "execution_count": 15,
   "metadata": {
    "collapsed": true
   },
   "outputs": [],
   "source": [
    "# Merge of AirQuality and Meteorology data\n",
    "bj_aq_gm_data <- merge(bj_aq_map, bj_gm_data, by = c(\"stationName\",\"utc_time\"))"
   ]
  },
  {
   "cell_type": "code",
   "execution_count": 16,
   "metadata": {},
   "outputs": [
    {
     "name": "stdout",
     "output_type": "stream",
     "text": [
      "'data.frame':\t47737 obs. of  16 variables:\n",
      " $ stationName   : Factor w/ 26 levels \"beijing_grid_216\",..: 1 1 1 1 1 1 1 1 1 1 ...\n",
      " $ utc_time      : POSIXct, format: \"2018-03-31 07:00:00\" \"2018-03-31 08:00:00\" ...\n",
      " $ stationId     : Factor w/ 35 levels \"aotizhongxin_aq\",..: 14 14 14 14 14 14 14 14 14 14 ...\n",
      " $ PM2.5         : num  105 120 121 137 146 270 160 180 136 149 ...\n",
      " $ PM10          : num  163 185 185 212 254 323 297 280 204 219 ...\n",
      " $ NO2           : num  45 52 55 59 68 59 85 76 61 87 ...\n",
      " $ CO            : num  0.8 0.9 0.9 1 1 1.1 1.1 1.1 1.1 1.2 ...\n",
      " $ O3            : num  137 140 141 132 106 96 46 45 50 7 ...\n",
      " $ SO2           : num  6 NA NA NA NA 20 8 NA NA NA ...\n",
      " $ x             : int  30 30 30 30 30 30 30 30 30 30 ...\n",
      " $ distance      : num  2226 2226 2226 2226 2226 ...\n",
      " $ temperature   : num  22 23 23 24 20 19 17 13 14 12.4 ...\n",
      " $ pressure      : num  1001 1000 1000 999 1000 ...\n",
      " $ humidity      : num  20 20 22 24 28 31 32 32 31 32 ...\n",
      " $ wind_direction: num  159 174 188 205 232 ...\n",
      " $ wind_speed.kph: num  10.63 10.96 10.21 9.83 7.27 ...\n"
     ]
    },
    {
     "data": {
      "text/html": [
       "<table>\n",
       "<thead><tr><th scope=col>stationName</th><th scope=col>utc_time</th><th scope=col>stationId</th><th scope=col>PM2.5</th><th scope=col>PM10</th><th scope=col>NO2</th><th scope=col>CO</th><th scope=col>O3</th><th scope=col>SO2</th><th scope=col>x</th><th scope=col>distance</th><th scope=col>temperature</th><th scope=col>pressure</th><th scope=col>humidity</th><th scope=col>wind_direction</th><th scope=col>wind_speed.kph</th></tr></thead>\n",
       "<tbody>\n",
       "\t<tr><td>beijing_grid_216   </td><td>2018-03-31 07:00:00</td><td>liulihe_aq         </td><td>105                </td><td>163                </td><td>45                 </td><td>0.8                </td><td>137                </td><td> 6                 </td><td>30                 </td><td>2226.39            </td><td>22                 </td><td>1000.8969          </td><td>20                 </td><td>159.45             </td><td>10.63              </td></tr>\n",
       "\t<tr><td>beijing_grid_216   </td><td>2018-03-31 08:00:00</td><td>liulihe_aq         </td><td>120                </td><td>185                </td><td>52                 </td><td>0.9                </td><td>140                </td><td>NA                 </td><td>30                 </td><td>2226.39            </td><td>23                 </td><td>1000.0580          </td><td>20                 </td><td>173.73             </td><td>10.96              </td></tr>\n",
       "\t<tr><td>beijing_grid_216   </td><td>2018-03-31 09:00:00</td><td>liulihe_aq         </td><td>121                </td><td>185                </td><td>55                 </td><td>0.9                </td><td>141                </td><td>NA                 </td><td>30                 </td><td>2226.39            </td><td>23                 </td><td> 999.5212          </td><td>22                 </td><td>188.34             </td><td>10.21              </td></tr>\n",
       "\t<tr><td>beijing_grid_216   </td><td>2018-03-31 10:00:00</td><td>liulihe_aq         </td><td>137                </td><td>212                </td><td>59                 </td><td>1.0                </td><td>132                </td><td>NA                 </td><td>30                 </td><td>2226.39            </td><td>24                 </td><td> 999.4476          </td><td>24                 </td><td>204.63             </td><td> 9.83              </td></tr>\n",
       "\t<tr><td>beijing_grid_216   </td><td>2018-03-31 11:00:00</td><td>liulihe_aq         </td><td>146                </td><td>254                </td><td>68                 </td><td>1.0                </td><td>106                </td><td>NA                 </td><td>30                 </td><td>2226.39            </td><td>20                 </td><td> 999.6694          </td><td>28                 </td><td>232.00             </td><td> 7.27              </td></tr>\n",
       "\t<tr><td>beijing_grid_216   </td><td>2018-03-31 12:00:00</td><td>liulihe_aq         </td><td>270                </td><td>323                </td><td>59                 </td><td>1.1                </td><td> 96                </td><td>20                 </td><td>30                 </td><td>2226.39            </td><td>19                 </td><td>1000.0671          </td><td>31                 </td><td>268.92             </td><td> 6.59              </td></tr>\n",
       "</tbody>\n",
       "</table>\n"
      ],
      "text/latex": [
       "\\begin{tabular}{r|llllllllllllllll}\n",
       " stationName & utc\\_time & stationId & PM2.5 & PM10 & NO2 & CO & O3 & SO2 & x & distance & temperature & pressure & humidity & wind\\_direction & wind\\_speed.kph\\\\\n",
       "\\hline\n",
       "\t beijing\\_grid\\_216 & 2018-03-31 07:00:00  & liulihe\\_aq         & 105                  & 163                  & 45                   & 0.8                  & 137                  &  6                   & 30                   & 2226.39              & 22                   & 1000.8969            & 20                   & 159.45               & 10.63               \\\\\n",
       "\t beijing\\_grid\\_216 & 2018-03-31 08:00:00  & liulihe\\_aq         & 120                  & 185                  & 52                   & 0.9                  & 140                  & NA                   & 30                   & 2226.39              & 23                   & 1000.0580            & 20                   & 173.73               & 10.96               \\\\\n",
       "\t beijing\\_grid\\_216 & 2018-03-31 09:00:00  & liulihe\\_aq         & 121                  & 185                  & 55                   & 0.9                  & 141                  & NA                   & 30                   & 2226.39              & 23                   &  999.5212            & 22                   & 188.34               & 10.21               \\\\\n",
       "\t beijing\\_grid\\_216 & 2018-03-31 10:00:00  & liulihe\\_aq         & 137                  & 212                  & 59                   & 1.0                  & 132                  & NA                   & 30                   & 2226.39              & 24                   &  999.4476            & 24                   & 204.63               &  9.83               \\\\\n",
       "\t beijing\\_grid\\_216 & 2018-03-31 11:00:00  & liulihe\\_aq         & 146                  & 254                  & 68                   & 1.0                  & 106                  & NA                   & 30                   & 2226.39              & 20                   &  999.6694            & 28                   & 232.00               &  7.27               \\\\\n",
       "\t beijing\\_grid\\_216 & 2018-03-31 12:00:00  & liulihe\\_aq         & 270                  & 323                  & 59                   & 1.1                  &  96                  & 20                   & 30                   & 2226.39              & 19                   & 1000.0671            & 31                   & 268.92               &  6.59               \\\\\n",
       "\\end{tabular}\n"
      ],
      "text/markdown": [
       "\n",
       "stationName | utc_time | stationId | PM2.5 | PM10 | NO2 | CO | O3 | SO2 | x | distance | temperature | pressure | humidity | wind_direction | wind_speed.kph | \n",
       "|---|---|---|---|---|---|\n",
       "| beijing_grid_216    | 2018-03-31 07:00:00 | liulihe_aq          | 105                 | 163                 | 45                  | 0.8                 | 137                 |  6                  | 30                  | 2226.39             | 22                  | 1000.8969           | 20                  | 159.45              | 10.63               | \n",
       "| beijing_grid_216    | 2018-03-31 08:00:00 | liulihe_aq          | 120                 | 185                 | 52                  | 0.9                 | 140                 | NA                  | 30                  | 2226.39             | 23                  | 1000.0580           | 20                  | 173.73              | 10.96               | \n",
       "| beijing_grid_216    | 2018-03-31 09:00:00 | liulihe_aq          | 121                 | 185                 | 55                  | 0.9                 | 141                 | NA                  | 30                  | 2226.39             | 23                  |  999.5212           | 22                  | 188.34              | 10.21               | \n",
       "| beijing_grid_216    | 2018-03-31 10:00:00 | liulihe_aq          | 137                 | 212                 | 59                  | 1.0                 | 132                 | NA                  | 30                  | 2226.39             | 24                  |  999.4476           | 24                  | 204.63              |  9.83               | \n",
       "| beijing_grid_216    | 2018-03-31 11:00:00 | liulihe_aq          | 146                 | 254                 | 68                  | 1.0                 | 106                 | NA                  | 30                  | 2226.39             | 20                  |  999.6694           | 28                  | 232.00              |  7.27               | \n",
       "| beijing_grid_216    | 2018-03-31 12:00:00 | liulihe_aq          | 270                 | 323                 | 59                  | 1.1                 |  96                 | 20                  | 30                  | 2226.39             | 19                  | 1000.0671           | 31                  | 268.92              |  6.59               | \n",
       "\n",
       "\n"
      ],
      "text/plain": [
       "  stationName      utc_time            stationId  PM2.5 PM10 NO2 CO  O3  SO2 x \n",
       "1 beijing_grid_216 2018-03-31 07:00:00 liulihe_aq 105   163  45  0.8 137  6  30\n",
       "2 beijing_grid_216 2018-03-31 08:00:00 liulihe_aq 120   185  52  0.9 140 NA  30\n",
       "3 beijing_grid_216 2018-03-31 09:00:00 liulihe_aq 121   185  55  0.9 141 NA  30\n",
       "4 beijing_grid_216 2018-03-31 10:00:00 liulihe_aq 137   212  59  1.0 132 NA  30\n",
       "5 beijing_grid_216 2018-03-31 11:00:00 liulihe_aq 146   254  68  1.0 106 NA  30\n",
       "6 beijing_grid_216 2018-03-31 12:00:00 liulihe_aq 270   323  59  1.1  96 20  30\n",
       "  distance temperature pressure  humidity wind_direction wind_speed.kph\n",
       "1 2226.39  22          1000.8969 20       159.45         10.63         \n",
       "2 2226.39  23          1000.0580 20       173.73         10.96         \n",
       "3 2226.39  23           999.5212 22       188.34         10.21         \n",
       "4 2226.39  24           999.4476 24       204.63          9.83         \n",
       "5 2226.39  20           999.6694 28       232.00          7.27         \n",
       "6 2226.39  19          1000.0671 31       268.92          6.59         "
      ]
     },
     "metadata": {},
     "output_type": "display_data"
    },
    {
     "data": {
      "text/html": [
       "<table>\n",
       "<thead><tr><th scope=col>min_date</th><th scope=col>max_date</th></tr></thead>\n",
       "<tbody>\n",
       "\t<tr><td>2018-03-31 07:00:00</td><td>2018-06-01         </td></tr>\n",
       "</tbody>\n",
       "</table>\n"
      ],
      "text/latex": [
       "\\begin{tabular}{r|ll}\n",
       " min\\_date & max\\_date\\\\\n",
       "\\hline\n",
       "\t 2018-03-31 07:00:00 & 2018-06-01         \\\\\n",
       "\\end{tabular}\n"
      ],
      "text/markdown": [
       "\n",
       "min_date | max_date | \n",
       "|---|\n",
       "| 2018-03-31 07:00:00 | 2018-06-01          | \n",
       "\n",
       "\n"
      ],
      "text/plain": [
       "  min_date            max_date  \n",
       "1 2018-03-31 07:00:00 2018-06-01"
      ]
     },
     "metadata": {},
     "output_type": "display_data"
    }
   ],
   "source": [
    "str(bj_aq_gm_data)\n",
    "head(bj_aq_gm_data)\n",
    "bj_aq_gm_data %>% summarize(min_date = min(utc_time), max_date = max(utc_time))"
   ]
  },
  {
   "cell_type": "code",
   "execution_count": 17,
   "metadata": {
    "collapsed": true
   },
   "outputs": [],
   "source": [
    "rm(\"bj_gm_data\")\n",
    "rm(\"bj_aq_data\")\n",
    "rm(\"bj_aq_map\")"
   ]
  },
  {
   "cell_type": "code",
   "execution_count": 18,
   "metadata": {
    "collapsed": true
   },
   "outputs": [],
   "source": [
    "# selecting only required columns\n",
    "bj_aq_gm_data <- bj_aq_gm_data %>% select(c(\"stationName\",\"utc_time\",\"stationId\",\"PM2.5\",\"PM10\", \"O3\",\n",
    "                                            \"temperature\",\"pressure\",\"humidity\",\"wind_direction\",\"wind_speed.kph\"))"
   ]
  },
  {
   "cell_type": "code",
   "execution_count": 19,
   "metadata": {
    "collapsed": true
   },
   "outputs": [],
   "source": [
    "# adding additional columns for modeling\n",
    "bj_aq_gm_data$hour <- hour(bj_aq_gm_data$utc_time)\n",
    "bj_aq_gm_data$month <- month(bj_aq_gm_data$utc_time)\n",
    "bj_aq_gm_data$date <- date(bj_aq_gm_data$utc_time)\n",
    "bj_aq_gm_data$weekend = chron::is.weekend(bj_aq_gm_data$date)"
   ]
  },
  {
   "cell_type": "code",
   "execution_count": 20,
   "metadata": {},
   "outputs": [
    {
     "name": "stdout",
     "output_type": "stream",
     "text": [
      "'data.frame':\t47737 obs. of  15 variables:\n",
      " $ stationName   : Factor w/ 26 levels \"beijing_grid_216\",..: 1 1 1 1 1 1 1 1 1 1 ...\n",
      " $ utc_time      : POSIXct, format: \"2018-03-31 07:00:00\" \"2018-03-31 08:00:00\" ...\n",
      " $ stationId     : Factor w/ 35 levels \"aotizhongxin_aq\",..: 14 14 14 14 14 14 14 14 14 14 ...\n",
      " $ PM2.5         : num  105 120 121 137 146 270 160 180 136 149 ...\n",
      " $ PM10          : num  163 185 185 212 254 323 297 280 204 219 ...\n",
      " $ O3            : num  137 140 141 132 106 96 46 45 50 7 ...\n",
      " $ temperature   : num  22 23 23 24 20 19 17 13 14 12.4 ...\n",
      " $ pressure      : num  1001 1000 1000 999 1000 ...\n",
      " $ humidity      : num  20 20 22 24 28 31 32 32 31 32 ...\n",
      " $ wind_direction: num  159 174 188 205 232 ...\n",
      " $ wind_speed.kph: num  10.63 10.96 10.21 9.83 7.27 ...\n",
      " $ hour          : int  7 8 9 10 11 12 13 14 15 17 ...\n",
      " $ month         : num  3 3 3 3 3 3 3 3 3 3 ...\n",
      " $ date          : Date, format: \"2018-03-31\" \"2018-03-31\" ...\n",
      " $ weekend       : logi  TRUE TRUE TRUE TRUE TRUE TRUE ...\n"
     ]
    }
   ],
   "source": [
    "str(bj_aq_gm_data)"
   ]
  },
  {
   "cell_type": "markdown",
   "metadata": {},
   "source": [
    "### Import and transformations of Historical data"
   ]
  },
  {
   "cell_type": "code",
   "execution_count": 21,
   "metadata": {
    "collapsed": true
   },
   "outputs": [],
   "source": [
    "# retreiving historical files\n",
    "bj_aq_gm_hist_file <- \"Ready for Modeling/bj_aq_gm_hist_data.csv\"\n",
    "bj_aq_gm_hist_data <- read.csv(bj_aq_gm_hist_file, header=TRUE, sep=\",\", stringsAsFactors = FALSE)"
   ]
  },
  {
   "cell_type": "code",
   "execution_count": 22,
   "metadata": {
    "collapsed": true
   },
   "outputs": [],
   "source": [
    "# data transformations for consistency\n",
    "bj_aq_gm_hist_data <- bj_aq_gm_hist_data %>% select(-X)\n",
    "bj_aq_gm_hist_data$utc_time <- anytime(bj_aq_gm_hist_data$utc_time)\n",
    "bj_aq_gm_hist_data$date <- as.Date(bj_aq_gm_hist_data$date , \"%Y-%m-%d\")"
   ]
  },
  {
   "cell_type": "code",
   "execution_count": 23,
   "metadata": {},
   "outputs": [
    {
     "name": "stdout",
     "output_type": "stream",
     "text": [
      "'data.frame':\t356825 obs. of  15 variables:\n",
      " $ stationName   : chr  \"beijing_grid_216\" \"beijing_grid_216\" \"beijing_grid_216\" \"beijing_grid_216\" ...\n",
      " $ utc_time      : POSIXct, format: \"2017-01-01 14:00:00\" \"2017-01-01 15:00:00\" ...\n",
      " $ stationId     : chr  \"liulihe_aq\" \"liulihe_aq\" \"liulihe_aq\" \"liulihe_aq\" ...\n",
      " $ PM2.5         : int  376 369 361 354 356 315 287 254 231 224 ...\n",
      " $ PM10          : int  447 407 389 NA 360 NA NA NA NA NA ...\n",
      " $ O3            : int  2 2 2 2 2 2 NA 2 2 2 ...\n",
      " $ temperature   : num  -2.22 -2.37 -2.58 -2.79 -2.99 -3.3 -3.6 -3.9 -4.11 -4.33 ...\n",
      " $ pressure      : num  1015 1015 1015 1015 1015 ...\n",
      " $ humidity      : num  62.9 65.8 65.3 64.9 64.5 ...\n",
      " $ wind_direction: num  284 298 308 319 330 ...\n",
      " $ wind_speed.kph: num  4.28 4.39 4.19 4.14 4.24 4.1 3.99 3.92 2.97 2.25 ...\n",
      " $ hour          : int  14 15 16 17 18 19 20 21 22 23 ...\n",
      " $ month         : int  1 1 1 1 1 1 1 1 1 1 ...\n",
      " $ date          : Date, format: \"2017-01-01\" \"2017-01-01\" ...\n",
      " $ weekend       : logi  TRUE TRUE TRUE TRUE TRUE TRUE ...\n"
     ]
    }
   ],
   "source": [
    "str(bj_aq_gm_hist_data)"
   ]
  },
  {
   "cell_type": "code",
   "execution_count": 24,
   "metadata": {
    "collapsed": true
   },
   "outputs": [],
   "source": [
    "# Append API and hist data\n",
    "bj_aq_gm_combined_data <- rbind(bj_aq_gm_data, bj_aq_gm_hist_data)"
   ]
  },
  {
   "cell_type": "code",
   "execution_count": 25,
   "metadata": {},
   "outputs": [
    {
     "name": "stdout",
     "output_type": "stream",
     "text": [
      "'data.frame':\t404562 obs. of  15 variables:\n",
      " $ stationName   : Factor w/ 26 levels \"beijing_grid_216\",..: 1 1 1 1 1 1 1 1 1 1 ...\n",
      " $ utc_time      : POSIXct, format: \"2018-03-31 07:00:00\" \"2018-03-31 08:00:00\" ...\n",
      " $ stationId     : Factor w/ 35 levels \"aotizhongxin_aq\",..: 14 14 14 14 14 14 14 14 14 14 ...\n",
      " $ PM2.5         : num  105 120 121 137 146 270 160 180 136 149 ...\n",
      " $ PM10          : num  163 185 185 212 254 323 297 280 204 219 ...\n",
      " $ O3            : num  137 140 141 132 106 96 46 45 50 7 ...\n",
      " $ temperature   : num  22 23 23 24 20 19 17 13 14 12.4 ...\n",
      " $ pressure      : num  1001 1000 1000 999 1000 ...\n",
      " $ humidity      : num  20 20 22 24 28 31 32 32 31 32 ...\n",
      " $ wind_direction: num  159 174 188 205 232 ...\n",
      " $ wind_speed.kph: num  10.63 10.96 10.21 9.83 7.27 ...\n",
      " $ hour          : int  7 8 9 10 11 12 13 14 15 17 ...\n",
      " $ month         : num  3 3 3 3 3 3 3 3 3 3 ...\n",
      " $ date          : Date, format: \"2018-03-31\" \"2018-03-31\" ...\n",
      " $ weekend       : logi  TRUE TRUE TRUE TRUE TRUE TRUE ...\n"
     ]
    },
    {
     "data": {
      "text/html": [
       "<table>\n",
       "<thead><tr><th scope=col>min_date</th><th scope=col>max_date</th></tr></thead>\n",
       "<tbody>\n",
       "\t<tr><td>2017-01-01</td><td>2018-06-01</td></tr>\n",
       "</tbody>\n",
       "</table>\n"
      ],
      "text/latex": [
       "\\begin{tabular}{r|ll}\n",
       " min\\_date & max\\_date\\\\\n",
       "\\hline\n",
       "\t 2017-01-01 & 2018-06-01\\\\\n",
       "\\end{tabular}\n"
      ],
      "text/markdown": [
       "\n",
       "min_date | max_date | \n",
       "|---|\n",
       "| 2017-01-01 | 2018-06-01 | \n",
       "\n",
       "\n"
      ],
      "text/plain": [
       "  min_date   max_date  \n",
       "1 2017-01-01 2018-06-01"
      ]
     },
     "metadata": {},
     "output_type": "display_data"
    },
    {
     "data": {
      "text/plain": [
       "           stationName        utc_time                           stationId     \n",
       " beijing_grid_303: 69354   Min.   :2017-01-01 14:00:00   badaling_aq  : 11559  \n",
       " beijing_grid_282: 23118   1st Qu.:2017-05-10 10:00:00   beibuxinqu_aq: 11559  \n",
       " beijing_grid_283: 23118   Median :2017-09-25 14:00:00   daxing_aq    : 11559  \n",
       " beijing_grid_324: 23118   Mean   :2017-09-20 00:29:17   dingling_aq  : 11559  \n",
       " beijing_grid_452: 23118   3rd Qu.:2018-01-22 14:00:00   donggaocun_aq: 11559  \n",
       " beijing_grid_216: 11559   Max.   :2018-06-01 00:00:00   dongsi_aq    : 11559  \n",
       " (Other)         :231177                                 (Other)      :335208  \n",
       "     PM2.5              PM10               O3          temperature    \n",
       " Min.   :   2.00   Min.   :   5.00   Min.   :  1.00   Min.   :-18.37  \n",
       " 1st Qu.:  17.00   1st Qu.:  40.00   1st Qu.: 15.00   1st Qu.:  0.58  \n",
       " Median :  41.00   Median :  75.00   Median : 49.00   Median : 11.80  \n",
       " Mean   :  60.65   Mean   :  93.77   Mean   : 58.59   Mean   : 11.46  \n",
       " 3rd Qu.:  81.00   3rd Qu.: 121.00   3rd Qu.: 83.00   3rd Qu.: 22.00  \n",
       " Max.   :1004.00   Max.   :3000.00   Max.   :504.00   Max.   : 36.08  \n",
       " NA's   :25920     NA's   :105687    NA's   :25931                    \n",
       "    pressure         humidity      wind_direction  wind_speed.kph  \n",
       " Min.   : 917.6   Min.   :  4.59   Min.   :  0.0   Min.   : 0.010  \n",
       " 1st Qu.: 993.2   1st Qu.: 21.61   1st Qu.:106.5   1st Qu.: 4.560  \n",
       " Median :1004.4   Median : 33.00   Median :189.1   Median : 7.400  \n",
       " Mean   :1001.2   Mean   : 37.87   Mean   :190.9   Mean   : 8.817  \n",
       " 3rd Qu.:1015.6   3rd Qu.: 50.93   3rd Qu.:300.0   3rd Qu.:11.520  \n",
       " Max.   :1039.4   Max.   :100.00   Max.   :360.0   Max.   :52.880  \n",
       "                                                                   \n",
       "      hour           month             date             weekend       \n",
       " Min.   : 0.00   Min.   : 1.000   Min.   :2017-01-01   Mode :logical  \n",
       " 1st Qu.: 5.00   1st Qu.: 3.000   1st Qu.:2017-05-10   FALSE:288397   \n",
       " Median :11.00   Median : 5.000   Median :2017-09-25   TRUE :116165   \n",
       " Mean   :11.45   Mean   : 5.607   Mean   :2017-09-19                  \n",
       " 3rd Qu.:17.00   3rd Qu.: 9.000   3rd Qu.:2018-01-22                  \n",
       " Max.   :23.00   Max.   :12.000   Max.   :2018-06-01                  \n",
       "                                                                      "
      ]
     },
     "metadata": {},
     "output_type": "display_data"
    }
   ],
   "source": [
    "str(bj_aq_gm_combined_data)\n",
    "bj_aq_gm_combined_data %>% summarize(min_date = min(date), max_date = max(date))\n",
    "summary(bj_aq_gm_combined_data)"
   ]
  },
  {
   "cell_type": "code",
   "execution_count": 26,
   "metadata": {
    "collapsed": true
   },
   "outputs": [],
   "source": [
    "beijing_holidays <- c(\"2017-01-01\", \"2017-01-02\",\"2017-01-27\", \"2017-01-28\", \"2017-01-29\",\"2017-01-30\", \"2017-01-31\"\n",
    "                      , \"2017-02-01\", \"2017-02-02\", \"2017-04-02\", \"2017-04-03\",\"2017-04-04\", \"2017-05-01\", \"2017-05-28\"\n",
    "                      , \"2017-05-29\", \"2017-05-30\", \"2017-10-01\", \"2017-10-02\", \"2017-10-03\", \"2017-10-04\", \"2017-10-05\"\n",
    "                      , \"2017-10-06\", \"2017-10-07\", \"2017-10-08\", \"2018-01-01\", \"2018-02-15\", \"2018-02-16\", \"2018-02-17\"\n",
    "                      , \"2018-02-18\", \"2018-02-19\", \"2018-02-20\", \"2018-02-21\", \"2018-04-05\", \"2018-04-06\", \"2018-04-07\"\n",
    "                      , \"2018-04-30\", \"2018-05-01\")"
   ]
  },
  {
   "cell_type": "code",
   "execution_count": 27,
   "metadata": {
    "collapsed": true
   },
   "outputs": [],
   "source": [
    "bj_aq_gm_combined_data$holiday <- ifelse(bj_aq_gm_combined_data$date %in% as.Date(beijing_holidays), 1, 0)"
   ]
  },
  {
   "cell_type": "code",
   "execution_count": 28,
   "metadata": {
    "collapsed": true
   },
   "outputs": [],
   "source": [
    "rm(\"bj_aq_gm_data\")\n",
    "rm(\"bj_aq_gm_hist_data\")"
   ]
  },
  {
   "cell_type": "code",
   "execution_count": 29,
   "metadata": {
    "collapsed": true
   },
   "outputs": [],
   "source": [
    "#code to replace outliers with NA\n",
    "bj_aq_gm_combined_data[bj_aq_gm_combined_data$PM2.5 %in% boxplot.stats(bj_aq_gm_combined_data$PM2.5)$out, ]$PM2.5 <- NA\n",
    "bj_aq_gm_combined_data[bj_aq_gm_combined_data$PM10 %in% boxplot.stats(bj_aq_gm_combined_data$PM10)$out, ]$PM10 <- NA\n",
    "bj_aq_gm_combined_data[bj_aq_gm_combined_data$O3 %in% boxplot.stats(bj_aq_gm_combined_data$O3)$out, ]$O3 <- NA"
   ]
  },
  {
   "cell_type": "code",
   "execution_count": 30,
   "metadata": {
    "collapsed": true
   },
   "outputs": [],
   "source": [
    "bj_aq_gm_combined_data[bj_aq_gm_combined_data$pressure %in% boxplot.stats(bj_aq_gm_combined_data$pressure)$out, ]$pressure <- NA\n",
    "bj_aq_gm_combined_data[bj_aq_gm_combined_data$humidity %in% boxplot.stats(bj_aq_gm_combined_data$humidity)$out, ]$humidity <- NA\n",
    "bj_aq_gm_combined_data[bj_aq_gm_combined_data$wind_speed.kph %in% boxplot.stats(bj_aq_gm_combined_data$wind_speed.kph)$out, ]$wind_speed.kph <- NA"
   ]
  },
  {
   "cell_type": "code",
   "execution_count": 31,
   "metadata": {},
   "outputs": [
    {
     "name": "stderr",
     "output_type": "stream",
     "text": [
      "Warning message:\n",
      "\"package 'bindrcpp' was built under R version 3.4.3\""
     ]
    }
   ],
   "source": [
    "# replace pressure NA with mean values based on certain groups\n",
    "bj_aq_gm_combined_data_pressure <- bj_aq_gm_combined_data %>% \n",
    "                                group_by(stationId, hour, month) %>% \n",
    "                                summarize(pressure = mean(pressure, na.rm = TRUE))\n",
    "bj_aq_gm_combined_data <- bj_aq_gm_combined_data %>% \n",
    "                          left_join(bj_aq_gm_combined_data_pressure, c(\"stationId\", \"hour\", \"month\")) %>% \n",
    "                          mutate(pressure = coalesce(pressure.x, pressure.y)) %>% \n",
    "                          select(-pressure.x, -pressure.y)\n",
    "\n",
    "bj_aq_gm_combined_data_pressure <- bj_aq_gm_combined_data %>% \n",
    "                                group_by( hour, month) %>% \n",
    "                                summarize(pressure = mean(pressure, na.rm = TRUE))\n",
    "bj_aq_gm_combined_data <- bj_aq_gm_combined_data %>% \n",
    "                          left_join(bj_aq_gm_combined_data_pressure, c( \"hour\", \"month\")) %>% \n",
    "                          mutate(pressure = coalesce(pressure.x, pressure.y)) %>% \n",
    "                          select(-pressure.x, -pressure.y)\n",
    "\n",
    "# replace humidity NA with mean values based on certain groups\n",
    "bj_aq_gm_combined_data_humidity <- bj_aq_gm_combined_data %>% \n",
    "                                group_by(stationId, hour, month) %>% \n",
    "                                summarize(humidity = mean(humidity, na.rm = TRUE))\n",
    "bj_aq_gm_combined_data <- bj_aq_gm_combined_data %>% \n",
    "                          left_join(bj_aq_gm_combined_data_humidity, c(\"stationId\", \"hour\", \"month\")) %>% \n",
    "                          mutate(humidity = coalesce(humidity.x, humidity.y)) %>% \n",
    "                          select(-humidity.x, -humidity.y)\n",
    "\n",
    "\n",
    "# replace wind_speed NA with mean values based on certain groups\n",
    "bj_aq_gm_combined_data_wind_speed.kph <- bj_aq_gm_combined_data %>% \n",
    "                                group_by(stationId, hour, month) %>% \n",
    "                                summarize(wind_speed.kph = mean(wind_speed.kph, na.rm = TRUE))\n",
    "bj_aq_gm_combined_data <- bj_aq_gm_combined_data %>% \n",
    "                          left_join(bj_aq_gm_combined_data_wind_speed.kph, c(\"stationId\", \"hour\", \"month\")) %>% \n",
    "                          mutate(wind_speed.kph = coalesce(wind_speed.kph.x, wind_speed.kph.y)) %>% \n",
    "                          select(-wind_speed.kph.x, -wind_speed.kph.y)"
   ]
  },
  {
   "cell_type": "code",
   "execution_count": 32,
   "metadata": {
    "collapsed": true
   },
   "outputs": [],
   "source": [
    "# replace PM2.5 NA with mean values based on certain groups\n",
    "bj_aq_gm_combined_data_PM2.5 <- bj_aq_gm_combined_data %>% \n",
    "                                group_by(stationId, hour, month, weekend, holiday) %>% \n",
    "                                summarize(PM2.5 = mean(PM2.5, na.rm = TRUE))\n",
    "bj_aq_gm_combined_data <- bj_aq_gm_combined_data %>% \n",
    "                          left_join(bj_aq_gm_combined_data_PM2.5, c(\"stationId\", \"hour\", \"month\", \"weekend\", \"holiday\")) %>% \n",
    "                          mutate(PM2.5 = coalesce(PM2.5.x, PM2.5.y)) %>% \n",
    "                          select(-PM2.5.x, -PM2.5.y)\n",
    "bj_aq_gm_combined_data_PM2.5 <- bj_aq_gm_combined_data %>% \n",
    "                                group_by(stationId, hour, weekend, holiday) %>% \n",
    "                                summarize(PM2.5 = mean(PM2.5, na.rm = TRUE))\n",
    "bj_aq_gm_combined_data <- bj_aq_gm_combined_data %>% \n",
    "                          left_join(bj_aq_gm_combined_data_PM2.5, c(\"stationId\", \"hour\", \"weekend\",\"holiday\")) %>% \n",
    "                          mutate(PM2.5 = coalesce(PM2.5.x, PM2.5.y)) %>% \n",
    "                          select(-PM2.5.x, -PM2.5.y)"
   ]
  },
  {
   "cell_type": "code",
   "execution_count": 33,
   "metadata": {
    "collapsed": true
   },
   "outputs": [],
   "source": [
    "# replace PM10 NA with mean values based on certain groups\n",
    "bj_aq_gm_combined_data_PM10 <- bj_aq_gm_combined_data %>% \n",
    "                                group_by(stationId, hour, month, weekend, holiday) %>% \n",
    "                                summarize(PM10 = mean(PM10, na.rm = TRUE))\n",
    "bj_aq_gm_combined_data <- bj_aq_gm_combined_data %>% \n",
    "                          left_join(bj_aq_gm_combined_data_PM10, c(\"stationId\", \"hour\", \"month\", \"weekend\", \"holiday\")) %>% \n",
    "                          mutate(PM10 = coalesce(PM10.x, PM10.y)) %>% \n",
    "                          select(-PM10.x, -PM10.y)\n",
    "bj_aq_gm_combined_data_PM10 <- bj_aq_gm_combined_data %>% \n",
    "                                group_by(stationId, hour, weekend, holiday) %>% \n",
    "                                summarize(PM10 = mean(PM10, na.rm = TRUE))\n",
    "bj_aq_gm_combined_data <- bj_aq_gm_combined_data %>% \n",
    "                          left_join(bj_aq_gm_combined_data_PM10, c(\"stationId\", \"hour\", \"weekend\", \"holiday\")) %>% \n",
    "                          mutate(PM10 = coalesce(PM10.x, PM10.y)) %>% \n",
    "                          select(-PM10.x, -PM10.y)"
   ]
  },
  {
   "cell_type": "code",
   "execution_count": 34,
   "metadata": {
    "collapsed": true
   },
   "outputs": [],
   "source": [
    "# replace O3 NA with mean values based on certain groups\n",
    "bj_aq_gm_combined_data_O3 <- bj_aq_gm_combined_data %>% \n",
    "                                group_by(stationId, hour, month, weekend, holiday) %>% \n",
    "                                summarize(O3 = mean(O3, na.rm = TRUE))\n",
    "bj_aq_gm_combined_data <- bj_aq_gm_combined_data %>% \n",
    "                          left_join(bj_aq_gm_combined_data_O3, c(\"stationId\", \"hour\", \"month\", \"weekend\", \"holiday\")) %>% \n",
    "                          mutate(O3 = coalesce(O3.x, O3.y)) %>% \n",
    "                          select(-O3.x, -O3.y)\n",
    "bj_aq_gm_combined_data_O3 <- bj_aq_gm_combined_data %>% \n",
    "                                group_by(stationId, hour,  weekend, holiday) %>% \n",
    "                                summarize(O3 = mean(O3, na.rm = TRUE))\n",
    "bj_aq_gm_combined_data <- bj_aq_gm_combined_data %>% \n",
    "                          left_join(bj_aq_gm_combined_data_O3, c(\"stationId\", \"hour\",  \"weekend\", \"holiday\")) %>% \n",
    "                          mutate(O3 = coalesce(O3.x, O3.y)) %>% \n",
    "                          select(-O3.x, -O3.y)"
   ]
  },
  {
   "cell_type": "code",
   "execution_count": 35,
   "metadata": {
    "collapsed": true
   },
   "outputs": [],
   "source": [
    "rm(\"bj_aq_gm_combined_data_PM2.5\")\n",
    "rm(\"bj_aq_gm_combined_data_PM10\")\n",
    "rm(\"bj_aq_gm_combined_data_O3\")\n",
    "rm(\"bj_aq_gm_combined_data_pressure\")\n",
    "rm(\"bj_aq_gm_combined_data_humidity\")\n",
    "rm(\"bj_aq_gm_combined_data_wind_speed.kph\")"
   ]
  },
  {
   "cell_type": "code",
   "execution_count": 36,
   "metadata": {},
   "outputs": [
    {
     "name": "stdout",
     "output_type": "stream",
     "text": [
      "'data.frame':\t404562 obs. of  16 variables:\n",
      " $ stationName   : Factor w/ 26 levels \"beijing_grid_216\",..: 1 1 1 1 1 1 1 1 1 1 ...\n",
      " $ utc_time      : POSIXct, format: \"2018-03-31 07:00:00\" \"2018-03-31 08:00:00\" ...\n",
      " $ stationId     : Factor w/ 35 levels \"aotizhongxin_aq\",..: 14 14 14 14 14 14 14 14 14 14 ...\n",
      " $ temperature   : num  22 23 23 24 20 19 17 13 14 12.4 ...\n",
      " $ wind_direction: num  159 174 188 205 232 ...\n",
      " $ hour          : int  7 8 9 10 11 12 13 14 15 17 ...\n",
      " $ month         : num  3 3 3 3 3 3 3 3 3 3 ...\n",
      " $ date          : Date, format: \"2018-03-31\" \"2018-03-31\" ...\n",
      " $ weekend       : logi  TRUE TRUE TRUE TRUE TRUE TRUE ...\n",
      " $ holiday       : num  0 0 0 0 0 0 0 0 0 0 ...\n",
      " $ pressure      : num  1001 1000 1000 999 1000 ...\n",
      " $ humidity      : num  20 20 22 24 28 31 32 32 31 32 ...\n",
      " $ wind_speed.kph: num  10.63 10.96 10.21 9.83 7.27 ...\n",
      " $ PM2.5         : num  105 120 121 137 146 ...\n",
      " $ PM10          : num  163 185 185 212 116 ...\n",
      " $ O3            : num  137 140 141 132 106 96 46 45 50 7 ...\n"
     ]
    },
    {
     "data": {
      "text/plain": [
       "           stationName        utc_time                           stationId     \n",
       " beijing_grid_303: 69354   Min.   :2017-01-01 14:00:00   badaling_aq  : 11559  \n",
       " beijing_grid_282: 23118   1st Qu.:2017-05-10 10:00:00   beibuxinqu_aq: 11559  \n",
       " beijing_grid_283: 23118   Median :2017-09-25 14:00:00   daxing_aq    : 11559  \n",
       " beijing_grid_324: 23118   Mean   :2017-09-20 00:29:17   dingling_aq  : 11559  \n",
       " beijing_grid_452: 23118   3rd Qu.:2018-01-22 14:00:00   donggaocun_aq: 11559  \n",
       " beijing_grid_216: 11559   Max.   :2018-06-01 00:00:00   dongsi_aq    : 11559  \n",
       " (Other)         :231177                                 (Other)      :335208  \n",
       "  temperature     wind_direction       hour           month       \n",
       " Min.   :-18.37   Min.   :  0.0   Min.   : 0.00   Min.   : 1.000  \n",
       " 1st Qu.:  0.58   1st Qu.:106.5   1st Qu.: 5.00   1st Qu.: 3.000  \n",
       " Median : 11.80   Median :189.1   Median :11.00   Median : 5.000  \n",
       " Mean   : 11.46   Mean   :190.9   Mean   :11.45   Mean   : 5.607  \n",
       " 3rd Qu.: 22.00   3rd Qu.:300.0   3rd Qu.:17.00   3rd Qu.: 9.000  \n",
       " Max.   : 36.08   Max.   :360.0   Max.   :23.00   Max.   :12.000  \n",
       "                                                                  \n",
       "      date             weekend           holiday           pressure     \n",
       " Min.   :2017-01-01   Mode :logical   Min.   :0.00000   Min.   : 959.5  \n",
       " 1st Qu.:2017-05-10   FALSE:288397    1st Qu.:0.00000   1st Qu.: 995.8  \n",
       " Median :2017-09-25   TRUE :116165    Median :0.00000   Median :1005.7  \n",
       " Mean   :2017-09-19                   Mean   :0.07016   Mean   :1004.9  \n",
       " 3rd Qu.:2018-01-22                   3rd Qu.:0.00000   3rd Qu.:1015.6  \n",
       " Max.   :2018-06-01                   Max.   :1.00000   Max.   :1039.4  \n",
       "                                                                        \n",
       "    humidity     wind_speed.kph       PM2.5             PM10       \n",
       " Min.   : 4.59   Min.   : 0.010   Min.   :  2.00   Min.   :  5.00  \n",
       " 1st Qu.:21.61   1st Qu.: 4.560   1st Qu.: 18.00   1st Qu.: 45.00  \n",
       " Median :33.00   Median : 7.330   Median : 41.00   Median : 73.00  \n",
       " Mean   :37.79   Mean   : 8.143   Mean   : 49.64   Mean   : 80.57  \n",
       " 3rd Qu.:50.83   3rd Qu.:10.970   3rd Qu.: 69.00   3rd Qu.:106.50  \n",
       " Max.   :94.91   Max.   :21.960   Max.   :177.00   Max.   :242.00  \n",
       "                                                                   \n",
       "       O3        \n",
       " Min.   :  1.00  \n",
       " 1st Qu.: 16.00  \n",
       " Median : 49.00  \n",
       " Mean   : 54.92  \n",
       " 3rd Qu.: 82.00  \n",
       " Max.   :185.00  \n",
       "                 "
      ]
     },
     "metadata": {},
     "output_type": "display_data"
    }
   ],
   "source": [
    "str(bj_aq_gm_combined_data)\n",
    "summary(bj_aq_gm_combined_data)"
   ]
  },
  {
   "cell_type": "code",
   "execution_count": 37,
   "metadata": {},
   "outputs": [
    {
     "data": {
      "text/html": [
       "<table>\n",
       "<thead><tr><th scope=col>stationName</th><th scope=col>utc_time</th><th scope=col>stationId</th><th scope=col>temperature</th><th scope=col>wind_direction</th><th scope=col>hour</th><th scope=col>month</th><th scope=col>date</th><th scope=col>weekend</th><th scope=col>holiday</th><th scope=col>pressure</th><th scope=col>humidity</th><th scope=col>wind_speed.kph</th><th scope=col>PM2.5</th><th scope=col>PM10</th><th scope=col>O3</th></tr></thead>\n",
       "<tbody>\n",
       "</tbody>\n",
       "</table>\n"
      ],
      "text/latex": [
       "\\begin{tabular}{r|llllllllllllllll}\n",
       " stationName & utc\\_time & stationId & temperature & wind\\_direction & hour & month & date & weekend & holiday & pressure & humidity & wind\\_speed.kph & PM2.5 & PM10 & O3\\\\\n",
       "\\hline\n",
       "\\end{tabular}\n"
      ],
      "text/markdown": [
       "\n",
       "stationName | utc_time | stationId | temperature | wind_direction | hour | month | date | weekend | holiday | pressure | humidity | wind_speed.kph | PM2.5 | PM10 | O3 | \n",
       "||\n",
       "\n",
       "\n"
      ],
      "text/plain": [
       "     stationName utc_time stationId temperature wind_direction hour month date\n",
       "     weekend holiday pressure humidity wind_speed.kph PM2.5 PM10 O3"
      ]
     },
     "metadata": {},
     "output_type": "display_data"
    }
   ],
   "source": [
    "# validating for no NAs\n",
    "bj_aq_gm_combined_data[!complete.cases(bj_aq_gm_combined_data),]"
   ]
  },
  {
   "cell_type": "code",
   "execution_count": 38,
   "metadata": {
    "collapsed": true
   },
   "outputs": [],
   "source": [
    "# converting logical weekend value to numeric for modeling\n",
    "bj_aq_gm_combined_data$weekend <- as.integer(bj_aq_gm_combined_data$weekend)"
   ]
  },
  {
   "cell_type": "code",
   "execution_count": 39,
   "metadata": {
    "collapsed": true
   },
   "outputs": [],
   "source": [
    "# selecting only required columns\n",
    "bj_aq_gm_combined_data <- \n",
    "bj_aq_gm_combined_data %>% select(c(\"stationName\",\"utc_time\",\"stationId\",\"PM2.5\",\"PM10\", \"O3\",\n",
    "                                    \"temperature\",\"pressure\",\"humidity\",\"wind_direction\",\"wind_speed.kph\", \n",
    "                                    \"hour\", \"month\", \"date\", \"weekend\", \"holiday\"))"
   ]
  },
  {
   "cell_type": "code",
   "execution_count": 40,
   "metadata": {
    "collapsed": true
   },
   "outputs": [],
   "source": [
    "# retreiving lat long data  \n",
    "bj_lat_long_file <- \"Datasets/Beijing_AirQuality_Stations.csv\"\n",
    "bj_lat_long_data <- read.csv(bj_lat_long_file, header=TRUE, sep=\",\", stringsAsFactors = FALSE) \n",
    "colnames(bj_lat_long_data) <- c(\"stationId\", \"longitude\", \"latitude\")"
   ]
  },
  {
   "cell_type": "code",
   "execution_count": 41,
   "metadata": {
    "collapsed": true
   },
   "outputs": [],
   "source": [
    "bj_aq_gm_combined_data <- merge(bj_aq_gm_combined_data,bj_lat_long_data, by = \"stationId\")"
   ]
  },
  {
   "cell_type": "code",
   "execution_count": 42,
   "metadata": {},
   "outputs": [
    {
     "name": "stdout",
     "output_type": "stream",
     "text": [
      "'data.frame':\t404562 obs. of  18 variables:\n",
      " $ stationId     : Factor w/ 35 levels \"aotizhongxin_aq\",..: 1 1 1 1 1 1 1 1 1 1 ...\n",
      " $ stationName   : Factor w/ 26 levels \"beijing_grid_216\",..: 17 17 17 17 17 17 17 17 17 17 ...\n",
      " $ utc_time      : POSIXct, format: \"2017-01-01 20:00:00\" \"2017-01-01 21:00:00\" ...\n",
      " $ PM2.5         : num  5.5 116 51 38 7 10 8 9 7 10 ...\n",
      " $ PM10          : num  29.5 28 63 102 16 20 19 16 14 17 ...\n",
      " $ O3            : num  12.4 4 26 28 3 ...\n",
      " $ temperature   : num  -2.09 -2.4 -2.65 -2.9 -2.47 -2.27 -2.01 -1.75 -1.49 -1.79 ...\n",
      " $ pressure      : num  1020 1020 1020 1021 1018 ...\n",
      " $ humidity      : num  44.7 45.2 44.9 44.6 54.8 ...\n",
      " $ wind_direction: num  338 339 339 339 322 ...\n",
      " $ wind_speed.kph: num  13.84 13.68 12.85 12.03 4.55 ...\n",
      " $ hour          : int  20 21 22 23 14 15 16 17 18 19 ...\n",
      " $ month         : num  1 1 1 1 1 1 1 1 1 1 ...\n",
      " $ date          : Date, format: \"2017-01-01\" \"2017-01-01\" ...\n",
      " $ weekend       : int  1 1 1 1 1 1 1 1 1 1 ...\n",
      " $ holiday       : num  1 1 1 1 1 1 1 1 1 1 ...\n",
      " $ longitude     : num  116 116 116 116 116 ...\n",
      " $ latitude      : num  40 40 40 40 40 ...\n"
     ]
    },
    {
     "data": {
      "text/html": [
       "<table>\n",
       "<thead><tr><th scope=col>min_date</th><th scope=col>max_date</th></tr></thead>\n",
       "<tbody>\n",
       "\t<tr><td>2017-01-01 14:00:00</td><td>2018-06-01         </td></tr>\n",
       "</tbody>\n",
       "</table>\n"
      ],
      "text/latex": [
       "\\begin{tabular}{r|ll}\n",
       " min\\_date & max\\_date\\\\\n",
       "\\hline\n",
       "\t 2017-01-01 14:00:00 & 2018-06-01         \\\\\n",
       "\\end{tabular}\n"
      ],
      "text/markdown": [
       "\n",
       "min_date | max_date | \n",
       "|---|\n",
       "| 2017-01-01 14:00:00 | 2018-06-01          | \n",
       "\n",
       "\n"
      ],
      "text/plain": [
       "  min_date            max_date  \n",
       "1 2017-01-01 14:00:00 2018-06-01"
      ]
     },
     "metadata": {},
     "output_type": "display_data"
    },
    {
     "data": {
      "text/plain": [
       "         stationId                stationName        utc_time                  \n",
       " badaling_aq  : 11559   beijing_grid_303: 69354   Min.   :2017-01-01 14:00:00  \n",
       " beibuxinqu_aq: 11559   beijing_grid_282: 23118   1st Qu.:2017-05-10 10:00:00  \n",
       " daxing_aq    : 11559   beijing_grid_283: 23118   Median :2017-09-25 14:00:00  \n",
       " dingling_aq  : 11559   beijing_grid_324: 23118   Mean   :2017-09-20 00:29:17  \n",
       " donggaocun_aq: 11559   beijing_grid_452: 23118   3rd Qu.:2018-01-22 14:00:00  \n",
       " dongsi_aq    : 11559   beijing_grid_216: 11559   Max.   :2018-06-01 00:00:00  \n",
       " (Other)      :335208   (Other)         :231177                                \n",
       "     PM2.5             PM10              O3          temperature    \n",
       " Min.   :  2.00   Min.   :  5.00   Min.   :  1.00   Min.   :-18.37  \n",
       " 1st Qu.: 18.00   1st Qu.: 45.00   1st Qu.: 16.00   1st Qu.:  0.58  \n",
       " Median : 41.00   Median : 73.00   Median : 49.00   Median : 11.80  \n",
       " Mean   : 49.64   Mean   : 80.57   Mean   : 54.92   Mean   : 11.46  \n",
       " 3rd Qu.: 69.00   3rd Qu.:106.50   3rd Qu.: 82.00   3rd Qu.: 22.00  \n",
       " Max.   :177.00   Max.   :242.00   Max.   :185.00   Max.   : 36.08  \n",
       "                                                                    \n",
       "    pressure         humidity     wind_direction  wind_speed.kph  \n",
       " Min.   : 959.5   Min.   : 4.59   Min.   :  0.0   Min.   : 0.010  \n",
       " 1st Qu.: 995.8   1st Qu.:21.61   1st Qu.:106.5   1st Qu.: 4.560  \n",
       " Median :1005.7   Median :33.00   Median :189.1   Median : 7.330  \n",
       " Mean   :1004.9   Mean   :37.79   Mean   :190.9   Mean   : 8.143  \n",
       " 3rd Qu.:1015.6   3rd Qu.:50.83   3rd Qu.:300.0   3rd Qu.:10.970  \n",
       " Max.   :1039.4   Max.   :94.91   Max.   :360.0   Max.   :21.960  \n",
       "                                                                  \n",
       "      hour           month             date               weekend      \n",
       " Min.   : 0.00   Min.   : 1.000   Min.   :2017-01-01   Min.   :0.0000  \n",
       " 1st Qu.: 5.00   1st Qu.: 3.000   1st Qu.:2017-05-10   1st Qu.:0.0000  \n",
       " Median :11.00   Median : 5.000   Median :2017-09-25   Median :0.0000  \n",
       " Mean   :11.45   Mean   : 5.607   Mean   :2017-09-19   Mean   :0.2871  \n",
       " 3rd Qu.:17.00   3rd Qu.: 9.000   3rd Qu.:2018-01-22   3rd Qu.:1.0000  \n",
       " Max.   :23.00   Max.   :12.000   Max.   :2018-06-01   Max.   :1.0000  \n",
       "                                                                       \n",
       "    holiday          longitude        latitude    \n",
       " Min.   :0.00000   Min.   :116.0   Min.   :39.52  \n",
       " 1st Qu.:0.00000   1st Qu.:116.2   1st Qu.:39.86  \n",
       " Median :0.00000   Median :116.4   Median :39.94  \n",
       " Mean   :0.07016   Mean   :116.4   Mean   :39.99  \n",
       " 3rd Qu.:0.00000   3rd Qu.:116.5   3rd Qu.:40.13  \n",
       " Max.   :1.00000   Max.   :117.1   Max.   :40.50  \n",
       "                                                  "
      ]
     },
     "metadata": {},
     "output_type": "display_data"
    }
   ],
   "source": [
    "str(bj_aq_gm_combined_data)\n",
    "bj_aq_gm_combined_data %>% summarize(min_date = min(utc_time), max_date = max(utc_time))\n",
    "summary(bj_aq_gm_combined_data)"
   ]
  },
  {
   "cell_type": "markdown",
   "metadata": {},
   "source": [
    "### Model Training and validation"
   ]
  },
  {
   "cell_type": "code",
   "execution_count": 43,
   "metadata": {
    "collapsed": true
   },
   "outputs": [],
   "source": [
    "set.seed(2306)"
   ]
  },
  {
   "cell_type": "code",
   "execution_count": 44,
   "metadata": {
    "collapsed": true
   },
   "outputs": [],
   "source": [
    "# Training and test data set partition\n",
    "sample_size <- floor(0.8 * nrow(bj_aq_gm_combined_data))\n",
    "train_index <- sample(seq_len(nrow(bj_aq_gm_combined_data)), size = sample_size)\n",
    "train_bj <- bj_aq_gm_combined_data[train_index, ]\n",
    "test_bj <- bj_aq_gm_combined_data[-train_index, ]"
   ]
  },
  {
   "cell_type": "code",
   "execution_count": 45,
   "metadata": {},
   "outputs": [
    {
     "name": "stdout",
     "output_type": "stream",
     "text": [
      "'data.frame':\t323649 obs. of  18 variables:\n",
      " $ stationId     : Factor w/ 35 levels \"aotizhongxin_aq\",..: 11 22 31 21 14 4 3 14 29 11 ...\n",
      " $ stationName   : Factor w/ 26 levels \"beijing_grid_216\",..: 13 16 16 26 1 15 9 1 3 13 ...\n",
      " $ utc_time      : POSIXct, format: \"2017-12-31 18:00:00\" \"2017-01-20 17:00:00\" ...\n",
      " $ PM2.5         : num  37 99 69 14 26 54 11 68 44 10 ...\n",
      " $ PM10          : num  73 52.5 90 22 93 ...\n",
      " $ O3            : num  2 2 89 105 15 2 105 38 7 39 ...\n",
      " $ temperature   : num  -0.73 -9.14 25.22 20.48 12 ...\n",
      " $ pressure      : num  1019 1022 1006 1002 1010 ...\n",
      " $ humidity      : num  19.7 23.3 56.5 18.2 31 ...\n",
      " $ wind_direction: num  14.4 195.1 174.1 229.2 238.8 ...\n",
      " $ wind_speed.kph: num  5.27 5.63 5.64 11.52 3.45 ...\n",
      " $ hour          : int  18 17 12 9 22 13 6 3 17 19 ...\n",
      " $ month         : num  12 1 8 3 5 1 2 1 12 3 ...\n",
      " $ date          : Date, format: \"2017-12-31\" \"2017-01-20\" ...\n",
      " $ weekend       : int  1 0 0 1 0 1 0 0 0 0 ...\n",
      " $ holiday       : num  0 0 0 0 0 0 0 1 0 0 ...\n",
      " $ longitude     : num  116 116 116 117 116 ...\n",
      " $ latitude      : num  39.9 39.9 39.9 40.1 39.6 ...\n",
      "'data.frame':\t80913 obs. of  18 variables:\n",
      " $ stationId     : Factor w/ 35 levels \"aotizhongxin_aq\",..: 1 1 1 1 1 1 1 1 1 1 ...\n",
      " $ stationName   : Factor w/ 26 levels \"beijing_grid_216\",..: 17 17 17 17 17 17 17 17 17 17 ...\n",
      " $ utc_time      : POSIXct, format: \"2017-01-01 23:00:00\" \"2017-01-01 16:00:00\" ...\n",
      " $ PM2.5         : num  38 8 9 46 32.9 ...\n",
      " $ PM10          : num  102 19 16 61.4 56.7 ...\n",
      " $ O3            : num  28 3 3 2 20 2 2 2 2 2 ...\n",
      " $ temperature   : num  -2.9 -2.01 -1.75 -2.72 4.29 -2.48 -2.72 -3.09 -2.05 1.94 ...\n",
      " $ pressure      : num  1021 1019 1019 1019 1019 ...\n",
      " $ humidity      : num  44.6 49.5 46.6 71.1 41.2 ...\n",
      " $ wind_direction: num  339.3 331.5 333.1 64.5 119.3 ...\n",
      " $ wind_speed.kph: num  12.03 9.71 11.95 3.34 7.31 ...\n",
      " $ hour          : int  23 16 17 19 7 15 18 22 0 3 ...\n",
      " $ month         : num  1 1 1 1 1 1 1 1 1 1 ...\n",
      " $ date          : Date, format: \"2017-01-01\" \"2017-01-01\" ...\n",
      " $ weekend       : int  1 1 1 0 0 0 0 0 0 0 ...\n",
      " $ holiday       : num  1 1 1 0 0 0 0 0 0 0 ...\n",
      " $ longitude     : num  116 116 116 116 116 ...\n",
      " $ latitude      : num  40 40 40 40 40 ...\n"
     ]
    }
   ],
   "source": [
    "str(train_bj)\n",
    "str(test_bj)"
   ]
  },
  {
   "cell_type": "code",
   "execution_count": 83,
   "metadata": {
    "collapsed": true
   },
   "outputs": [],
   "source": [
    "subsets <- c(1, 3, 5, 7, 10)"
   ]
  },
  {
   "cell_type": "code",
   "execution_count": 64,
   "metadata": {},
   "outputs": [
    {
     "data": {
      "text/plain": [
       "\n",
       "Recursive feature selection\n",
       "\n",
       "Outer resampling method: Cross-Validated (10 fold, repeated 5 times) \n",
       "\n",
       "Resampling performance over subset size:\n",
       "\n",
       " Variables  RMSE Rsquared   MAE RMSESD RsquaredSD   MAESD Selected\n",
       "         1 38.96 0.008666 30.64 0.1040   0.001152 0.07018         \n",
       "         3 37.85 0.064373 29.66 0.1025   0.002336 0.07209         \n",
       "         5 37.75 0.069181 29.60 0.1030   0.002369 0.07653         \n",
       "         7 36.89 0.111269 28.92 0.1060   0.002960 0.07622         \n",
       "        10 36.40 0.134915 28.29 0.1103   0.003323 0.07963        *\n",
       "\n",
       "The top 5 variables (out of 10):\n",
       "   latitude, holiday, wind_speed.kph, month, weekend\n"
      ]
     },
     "metadata": {},
     "output_type": "display_data"
    },
    {
     "data": {
      "text/plain": [
       "\n",
       "Call:\n",
       "lm(formula = y ~ ., data = tmp)\n",
       "\n",
       "Residuals:\n",
       "    Min      1Q  Median      3Q     Max \n",
       "-83.326 -25.607  -8.846  17.613 152.729 \n",
       "\n",
       "Coefficients:\n",
       "                 Estimate Std. Error t value Pr(>|t|)    \n",
       "(Intercept)     8.235e+02  2.711e+01  30.377  < 2e-16 ***\n",
       "latitude       -1.734e+01  2.869e-01 -60.444  < 2e-16 ***\n",
       "holiday         5.044e+00  2.528e-01  19.954  < 2e-16 ***\n",
       "wind_speed.kph -1.470e+00  1.550e-02 -94.807  < 2e-16 ***\n",
       "month          -1.337e+00  1.944e-02 -68.770  < 2e-16 ***\n",
       "weekend         9.167e-01  1.415e-01   6.478 9.28e-11 ***\n",
       "longitude      -5.877e-01  2.326e-01  -2.527   0.0115 *  \n",
       "humidity        3.829e-01  3.681e-03 104.028  < 2e-16 ***\n",
       "hour           -3.750e-01  9.907e-03 -37.854  < 2e-16 ***\n",
       "temperature     2.895e-01  6.079e-03  47.618  < 2e-16 ***\n",
       "wind_direction -3.536e-02  6.526e-04 -54.185  < 2e-16 ***\n",
       "---\n",
       "Signif. codes:  0 '***' 0.001 '**' 0.01 '*' 0.05 '.' 0.1 ' ' 1\n",
       "\n",
       "Residual standard error: 36.4 on 323638 degrees of freedom\n",
       "Multiple R-squared:  0.1349,\tAdjusted R-squared:  0.1349 \n",
       "F-statistic:  5048 on 10 and 323638 DF,  p-value: < 2.2e-16\n"
      ]
     },
     "metadata": {},
     "output_type": "display_data"
    }
   ],
   "source": [
    "PM2.5_x <- train_bj[,c(\"latitude\", \"longitude\", \"hour\", \"month\", \"weekend\", \"holiday\", \"temperature\",\"humidity\",\"wind_direction\",\"wind_speed.kph\")]\n",
    "PM2.5_y <- train_bj[,\"PM2.5\"]\n",
    "PM2.5_ctrl <- rfeControl(functions = lmFuncs, method = \"repeatedcv\", repeats = 5, number = 10)\n",
    "PM2.5_lmProfile <- rfe(PM2.5_x , PM2.5_y, sizes = subsets, rfeControl = PM2.5_ctrl )\n",
    "PM2.5_lmProfile\n",
    "summary(PM2.5_lmProfile$fit)"
   ]
  },
  {
   "cell_type": "code",
   "execution_count": 65,
   "metadata": {},
   "outputs": [
    {
     "data": {
      "text/html": [
       "<table>\n",
       "<thead><tr><th scope=col>rmse</th><th scope=col>rsq</th></tr></thead>\n",
       "<tbody>\n",
       "\t<tr><td>36.43249 </td><td>0.1377196</td></tr>\n",
       "</tbody>\n",
       "</table>\n"
      ],
      "text/latex": [
       "\\begin{tabular}{r|ll}\n",
       " rmse & rsq\\\\\n",
       "\\hline\n",
       "\t 36.43249  & 0.1377196\\\\\n",
       "\\end{tabular}\n"
      ],
      "text/markdown": [
       "\n",
       "rmse | rsq | \n",
       "|---|\n",
       "| 36.43249  | 0.1377196 | \n",
       "\n",
       "\n"
      ],
      "text/plain": [
       "  rmse     rsq      \n",
       "1 36.43249 0.1377196"
      ]
     },
     "metadata": {},
     "output_type": "display_data"
    }
   ],
   "source": [
    "test_bj$PM2.5_pred <- predict(PM2.5_lmProfile$fit, test_bj)\n",
    "metrics(test_bj, truth = PM2.5, estimate = PM2.5_pred)"
   ]
  },
  {
   "cell_type": "code",
   "execution_count": 86,
   "metadata": {},
   "outputs": [
    {
     "data": {
      "text/plain": [
       "\n",
       "Recursive feature selection\n",
       "\n",
       "Outer resampling method: Cross-Validated (10 fold, repeated 5 times) \n",
       "\n",
       "Resampling performance over subset size:\n",
       "\n",
       " Variables  RMSE Rsquared   MAE RMSESD RsquaredSD   MAESD Selected\n",
       "         1 47.22  0.01355 37.13 0.1638   0.001225 0.09537         \n",
       "         3 46.72  0.03422 36.55 0.1756   0.001855 0.11278         \n",
       "         5 46.57  0.04049 36.41 0.1730   0.001888 0.10985         \n",
       "         7 37.02  0.39382 27.11 0.2267   0.004812 0.13473         \n",
       "        10 36.61  0.40723 26.80 0.2274   0.004946 0.13482         \n",
       "        11 36.60  0.40746 26.80 0.2273   0.004949 0.13474        *\n",
       "\n",
       "The top 5 variables (out of 11):\n",
       "   longitude, latitude, holiday, weekend, month\n"
      ]
     },
     "metadata": {},
     "output_type": "display_data"
    },
    {
     "data": {
      "text/plain": [
       "\n",
       "Call:\n",
       "lm(formula = y ~ ., data = tmp)\n",
       "\n",
       "Residuals:\n",
       "     Min       1Q   Median       3Q      Max \n",
       "-153.374  -22.305   -3.924   17.578  210.130 \n",
       "\n",
       "Coefficients:\n",
       "                 Estimate Std. Error t value Pr(>|t|)    \n",
       "(Intercept)     2.352e+03  2.730e+01  86.155   <2e-16 ***\n",
       "longitude      -1.521e+01  2.339e-01 -65.010   <2e-16 ***\n",
       "latitude       -1.331e+01  2.901e-01 -45.879   <2e-16 ***\n",
       "holiday        -5.278e+00  2.543e-01 -20.753   <2e-16 ***\n",
       "weekend         3.900e+00  1.423e-01  27.405   <2e-16 ***\n",
       "month          -1.102e+00  1.970e-02 -55.955   <2e-16 ***\n",
       "temperature     7.628e-01  6.134e-03 124.347   <2e-16 ***\n",
       "PM2.5           7.162e-01  1.768e-03 405.189   <2e-16 ***\n",
       "hour            4.067e-01  9.985e-03  40.730   <2e-16 ***\n",
       "humidity       -3.074e-01  3.763e-03 -81.711   <2e-16 ***\n",
       "wind_speed.kph  3.954e-02  1.580e-02   2.502   0.0124 *  \n",
       "wind_direction -7.577e-03  6.593e-04 -11.493   <2e-16 ***\n",
       "---\n",
       "Signif. codes:  0 '***' 0.001 '**' 0.01 '*' 0.05 '.' 0.1 ' ' 1\n",
       "\n",
       "Residual standard error: 36.6 on 323637 degrees of freedom\n",
       "Multiple R-squared:  0.4075,\tAdjusted R-squared:  0.4074 \n",
       "F-statistic: 2.023e+04 on 11 and 323637 DF,  p-value: < 2.2e-16\n"
      ]
     },
     "metadata": {},
     "output_type": "display_data"
    }
   ],
   "source": [
    "PM10_x <- train_bj[,c(\"PM2.5\",\"latitude\", \"longitude\", \"hour\", \"month\", \"weekend\", \"holiday\", \"temperature\",\"humidity\",\"wind_direction\",\"wind_speed.kph\")]\n",
    "PM10_y <- train_bj[,\"PM10\"]\n",
    "PM10_ctrl <- rfeControl(functions = lmFuncs, method = \"repeatedcv\", repeats = 5, number = 10)\n",
    "PM10_lmProfile <- rfe(PM10_x , PM10_y, sizes = subsets, rfeControl = PM10_ctrl )\n",
    "PM10_lmProfile\n",
    "summary(PM10_lmProfile$fit)"
   ]
  },
  {
   "cell_type": "code",
   "execution_count": 87,
   "metadata": {},
   "outputs": [
    {
     "data": {
      "text/html": [
       "<table>\n",
       "<thead><tr><th scope=col>rmse</th><th scope=col>rsq</th></tr></thead>\n",
       "<tbody>\n",
       "\t<tr><td>36.7546  </td><td>0.4008434</td></tr>\n",
       "</tbody>\n",
       "</table>\n"
      ],
      "text/latex": [
       "\\begin{tabular}{r|ll}\n",
       " rmse & rsq\\\\\n",
       "\\hline\n",
       "\t 36.7546   & 0.4008434\\\\\n",
       "\\end{tabular}\n"
      ],
      "text/markdown": [
       "\n",
       "rmse | rsq | \n",
       "|---|\n",
       "| 36.7546   | 0.4008434 | \n",
       "\n",
       "\n"
      ],
      "text/plain": [
       "  rmse    rsq      \n",
       "1 36.7546 0.4008434"
      ]
     },
     "metadata": {},
     "output_type": "display_data"
    }
   ],
   "source": [
    "test_bj$PM10_pred <- predict(PM10_lmProfile$fit, test_bj)\n",
    "metrics(test_bj, truth = PM10, estimate = PM10_pred)"
   ]
  },
  {
   "cell_type": "code",
   "execution_count": 84,
   "metadata": {},
   "outputs": [
    {
     "data": {
      "text/plain": [
       "\n",
       "Recursive feature selection\n",
       "\n",
       "Outer resampling method: Cross-Validated (10 fold, repeated 5 times) \n",
       "\n",
       "Resampling performance over subset size:\n",
       "\n",
       " Variables  RMSE Rsquared   MAE RMSESD RsquaredSD   MAESD Selected\n",
       "         1 43.50  0.01063 35.65 0.1120  0.0009913 0.07561         \n",
       "         3 43.38  0.01628 35.44 0.1113  0.0012120 0.07159         \n",
       "         5 32.58  0.44487 25.97 0.1011  0.0027814 0.08797         \n",
       "         7 31.83  0.47011 25.17 0.3034  0.0103427 0.37337         \n",
       "        10 31.39  0.48491 24.60 0.1092  0.0030048 0.08629         \n",
       "        12 31.39  0.48493 24.59 0.1093  0.0030013 0.08622        *\n",
       "\n",
       "The top 5 variables (out of 12):\n",
       "   latitude, longitude, month, wind_speed.kph, temperature\n"
      ]
     },
     "metadata": {},
     "output_type": "display_data"
    },
    {
     "data": {
      "text/plain": [
       "\n",
       "Call:\n",
       "lm(formula = y ~ ., data = tmp)\n",
       "\n",
       "Residuals:\n",
       "     Min       1Q   Median       3Q      Max \n",
       "-131.984  -21.169   -1.622   19.127  177.003 \n",
       "\n",
       "Coefficients:\n",
       "                 Estimate Std. Error  t value Pr(>|t|)    \n",
       "(Intercept)    -1.475e+03  2.368e+01  -62.269  < 2e-16 ***\n",
       "latitude        2.952e+01  2.496e-01  118.259  < 2e-16 ***\n",
       "longitude       2.968e+00  2.019e-01   14.699  < 2e-16 ***\n",
       "month          -2.611e+00  1.697e-02 -153.874  < 2e-16 ***\n",
       "wind_speed.kph  2.282e+00  1.355e-02  168.365  < 2e-16 ***\n",
       "temperature     2.180e+00  5.385e-03  404.780  < 2e-16 ***\n",
       "hour           -5.420e-01  8.585e-03  -63.131  < 2e-16 ***\n",
       "holiday        -3.316e-01  2.183e-01   -1.519 0.128736    \n",
       "humidity       -3.374e-01  3.260e-03 -103.508  < 2e-16 ***\n",
       "weekend        -1.319e-01  1.222e-01   -1.079 0.280386    \n",
       "PM10           -7.371e-02  1.507e-03  -48.900  < 2e-16 ***\n",
       "PM2.5          -6.882e-03  1.861e-03   -3.698 0.000217 ***\n",
       "wind_direction -5.023e-05  5.655e-04   -0.089 0.929221    \n",
       "---\n",
       "Signif. codes:  0 '***' 0.001 '**' 0.01 '*' 0.05 '.' 0.1 ' ' 1\n",
       "\n",
       "Residual standard error: 31.39 on 323636 degrees of freedom\n",
       "Multiple R-squared:  0.4849,\tAdjusted R-squared:  0.4849 \n",
       "F-statistic: 2.539e+04 on 12 and 323636 DF,  p-value: < 2.2e-16\n"
      ]
     },
     "metadata": {},
     "output_type": "display_data"
    }
   ],
   "source": [
    "O3_x <- train_bj[,c(\"PM2.5\", \"PM10\", \"latitude\", \"longitude\", \"hour\", \"month\", \"weekend\", \"holiday\", \"temperature\",\"humidity\",\"wind_direction\",\"wind_speed.kph\")]\n",
    "O3_y <- train_bj[,\"O3\"]\n",
    "O3_ctrl <- rfeControl(functions = lmFuncs, method = \"repeatedcv\", repeats = 5, number = 10)\n",
    "O3_lmProfile <- rfe(O3_x , O3_y, sizes = subsets, rfeControl = O3_ctrl )\n",
    "O3_lmProfile\n",
    "summary(O3_lmProfile$fit)"
   ]
  },
  {
   "cell_type": "code",
   "execution_count": 85,
   "metadata": {},
   "outputs": [
    {
     "data": {
      "text/html": [
       "<table>\n",
       "<thead><tr><th scope=col>rmse</th><th scope=col>rsq</th></tr></thead>\n",
       "<tbody>\n",
       "\t<tr><td>31.37673 </td><td>0.4879548</td></tr>\n",
       "</tbody>\n",
       "</table>\n"
      ],
      "text/latex": [
       "\\begin{tabular}{r|ll}\n",
       " rmse & rsq\\\\\n",
       "\\hline\n",
       "\t 31.37673  & 0.4879548\\\\\n",
       "\\end{tabular}\n"
      ],
      "text/markdown": [
       "\n",
       "rmse | rsq | \n",
       "|---|\n",
       "| 31.37673  | 0.4879548 | \n",
       "\n",
       "\n"
      ],
      "text/plain": [
       "  rmse     rsq      \n",
       "1 31.37673 0.4879548"
      ]
     },
     "metadata": {},
     "output_type": "display_data"
    }
   ],
   "source": [
    "test_bj$O3_pred <- predict(O3_lmProfile$fit, test_bj)\n",
    "metrics(test_bj, truth = O3, estimate = O3_pred)"
   ]
  },
  {
   "cell_type": "code",
   "execution_count": 49,
   "metadata": {
    "collapsed": true
   },
   "outputs": [],
   "source": [
    "rm(\"train_bj\")\n",
    "rm(\"test_bj\")"
   ]
  },
  {
   "cell_type": "markdown",
   "metadata": {},
   "source": [
    "### Building the next 2 days dataset and predicting PM2.5, PM10 and O3 values"
   ]
  },
  {
   "cell_type": "code",
   "execution_count": 68,
   "metadata": {
    "collapsed": true
   },
   "outputs": [],
   "source": [
    "#setting system timezone to UTC for consistent datetime usage\n",
    "Sys.setenv(TZ='GMT')\n",
    "tomorrow <- Sys.Date() + 1"
   ]
  },
  {
   "cell_type": "code",
   "execution_count": 69,
   "metadata": {
    "collapsed": true
   },
   "outputs": [],
   "source": [
    "# building 1 hour intervals for next 2 days and stationIds\n",
    "bj_time <-seq(from= as.POSIXct(tomorrow), by = \"1 hour\", length.out = 48)\n",
    "bj_time <- with_tz(bj_time, tzone = \"UTC\")\n",
    "bj_future_data <- data.frame(bj_time)\n",
    "# This id will be used in the creation of final submission file\n",
    "bj_future_data$id <- seq.int(nrow(bj_future_data)) -1\n",
    "bj_future_data <- merge(bj_future_data, data.frame(unique(bj_aq_gm_combined_data$stationId)))\n",
    "names(bj_future_data) <- c(\"utc_time\", \"id\", \"stationId\")"
   ]
  },
  {
   "cell_type": "code",
   "execution_count": 70,
   "metadata": {
    "collapsed": true
   },
   "outputs": [],
   "source": [
    "# building datetime features for the next 2 days\n",
    "bj_future_data$hour <- hour(bj_future_data$utc_time)\n",
    "bj_future_data$month <- month(bj_future_data$utc_time)\n",
    "bj_future_data$date <- date(bj_future_data$utc_time)\n",
    "bj_future_data$weekend = chron::is.weekend(bj_future_data$date)"
   ]
  },
  {
   "cell_type": "code",
   "execution_count": 71,
   "metadata": {
    "collapsed": true
   },
   "outputs": [],
   "source": [
    "bj_future_data$weekend <- as.integer(bj_future_data$weekend)\n",
    "bj_future_data$holiday <- ifelse(bj_future_data$date %in% as.Date(beijing_holidays), 1, 0)"
   ]
  },
  {
   "cell_type": "code",
   "execution_count": 72,
   "metadata": {
    "collapsed": true
   },
   "outputs": [],
   "source": [
    "# closest grid\n",
    "bj_future_data <-  merge(bj_future_data,bj_closest_stations, by = \"stationId\")\n",
    "#lat long data\n",
    "bj_future_data <- merge(bj_future_data,bj_lat_long_data, by = \"stationId\")"
   ]
  },
  {
   "cell_type": "code",
   "execution_count": 73,
   "metadata": {},
   "outputs": [
    {
     "data": {
      "text/html": [
       "'http://kdd.caiyunapp.com/competition/forecast/bj/2018-06-03-11/2k0d1d8'"
      ],
      "text/latex": [
       "'http://kdd.caiyunapp.com/competition/forecast/bj/2018-06-03-11/2k0d1d8'"
      ],
      "text/markdown": [
       "'http://kdd.caiyunapp.com/competition/forecast/bj/2018-06-03-11/2k0d1d8'"
      ],
      "text/plain": [
       "[1] \"http://kdd.caiyunapp.com/competition/forecast/bj/2018-06-03-11/2k0d1d8\""
      ]
     },
     "metadata": {},
     "output_type": "display_data"
    }
   ],
   "source": [
    "hour <- as.character('11')\n",
    "bj_future_weather_url <- paste0(\"http://kdd.caiyunapp.com/competition/forecast/bj/\",tomorrow - 1,\"-\",hour,\"/2k0d1d8\")\n",
    "bj_future_weather_url"
   ]
  },
  {
   "cell_type": "code",
   "execution_count": 74,
   "metadata": {
    "collapsed": true
   },
   "outputs": [],
   "source": [
    "bj_future_weather_file <- getURL(bj_future_weather_url, ssl.verifyhost=FALSE, ssl.verifypeer=FALSE)\n",
    "bj_future_weather_data <- read.csv(textConnection(bj_future_weather_file), header=TRUE)"
   ]
  },
  {
   "cell_type": "code",
   "execution_count": 75,
   "metadata": {
    "collapsed": true
   },
   "outputs": [],
   "source": [
    "bj_future_weather_data$forecast_time <- anytime(bj_future_weather_data$forecast_time)\n",
    "bj_future_weather_data <- bj_future_weather_data %>% select(-c(id, weather))\n",
    "colnames(bj_future_weather_data) <- c(\"stationName\",\"utc_time\",\"temperature\",\"pressure\",\"humidity\",\"wind_speed.kph\", \"wind_direction\") "
   ]
  },
  {
   "cell_type": "code",
   "execution_count": 76,
   "metadata": {},
   "outputs": [
    {
     "name": "stdout",
     "output_type": "stream",
     "text": [
      "'data.frame':\t31248 obs. of  7 variables:\n",
      " $ stationName   : Factor w/ 651 levels \"beijing_grid_000\",..: 1 1 1 1 1 1 1 1 1 1 ...\n",
      " $ utc_time      : POSIXct, format: \"2018-06-03 12:00:00\" \"2018-06-03 13:00:00\" ...\n",
      " $ temperature   : num  25 24 23 22 22 21 21 20 20 19 ...\n",
      " $ pressure      : num  969 970 971 971 971 ...\n",
      " $ humidity      : num  26 26 24 22 21 21 21 21 22 22 ...\n",
      " $ wind_speed.kph: num  5.33 9.04 10.77 11.14 10.64 ...\n",
      " $ wind_direction: num  335 339 336 331 327 ...\n"
     ]
    },
    {
     "data": {
      "text/plain": [
       "           stationName       utc_time                    temperature   \n",
       " beijing_grid_000:   48   Min.   :2018-06-03 12:00:00   Min.   : 9.00  \n",
       " beijing_grid_001:   48   1st Qu.:2018-06-03 23:45:00   1st Qu.:21.50  \n",
       " beijing_grid_002:   48   Median :2018-06-04 11:30:00   Median :26.84  \n",
       " beijing_grid_003:   48   Mean   :2018-06-04 11:30:00   Mean   :26.63  \n",
       " beijing_grid_004:   48   3rd Qu.:2018-06-04 23:15:00   3rd Qu.:32.36  \n",
       " beijing_grid_005:   48   Max.   :2018-06-05 11:00:00   Max.   :39.74  \n",
       " (Other)         :30960                                                \n",
       "    pressure         humidity     wind_speed.kph  wind_direction  \n",
       " Min.   : 835.3   Min.   : 3.00   Min.   : 0.07   Min.   :  0.02  \n",
       " 1st Qu.: 923.3   1st Qu.:10.00   1st Qu.: 6.97   1st Qu.:193.75  \n",
       " Median : 968.0   Median :18.00   Median :11.91   Median :234.79  \n",
       " Mean   : 957.3   Mean   :22.05   Mean   :13.77   Mean   :219.16  \n",
       " 3rd Qu.: 999.2   3rd Qu.:31.00   3rd Qu.:19.51   3rd Qu.:267.74  \n",
       " Max.   :1008.3   Max.   :75.00   Max.   :42.78   Max.   :359.99  \n",
       "                                                                  "
      ]
     },
     "metadata": {},
     "output_type": "display_data"
    },
    {
     "data": {
      "text/html": [
       "<table>\n",
       "<thead><tr><th scope=col>min_date</th><th scope=col>max_date</th></tr></thead>\n",
       "<tbody>\n",
       "\t<tr><td>2018-06-03 12:00:00</td><td>2018-06-05 11:00:00</td></tr>\n",
       "</tbody>\n",
       "</table>\n"
      ],
      "text/latex": [
       "\\begin{tabular}{r|ll}\n",
       " min\\_date & max\\_date\\\\\n",
       "\\hline\n",
       "\t 2018-06-03 12:00:00 & 2018-06-05 11:00:00\\\\\n",
       "\\end{tabular}\n"
      ],
      "text/markdown": [
       "\n",
       "min_date | max_date | \n",
       "|---|\n",
       "| 2018-06-03 12:00:00 | 2018-06-05 11:00:00 | \n",
       "\n",
       "\n"
      ],
      "text/plain": [
       "  min_date            max_date           \n",
       "1 2018-06-03 12:00:00 2018-06-05 11:00:00"
      ]
     },
     "metadata": {},
     "output_type": "display_data"
    }
   ],
   "source": [
    "str(bj_future_weather_data)\n",
    "summary(bj_future_weather_data)\n",
    "bj_future_weather_data %>% summarize(min_date = min(utc_time), max_date = max(utc_time))"
   ]
  },
  {
   "cell_type": "code",
   "execution_count": 77,
   "metadata": {},
   "outputs": [
    {
     "name": "stderr",
     "output_type": "stream",
     "text": [
      "Warning message:\n",
      "\"Column `stationName` joining factors with different levels, coercing to character vector\""
     ]
    }
   ],
   "source": [
    "bj_future_data <- bj_future_data %>% left_join(bj_future_weather_data, by= c(\"stationName\", \"utc_time\"))"
   ]
  },
  {
   "cell_type": "code",
   "execution_count": 78,
   "metadata": {
    "collapsed": true
   },
   "outputs": [],
   "source": [
    "# replace pressure NA with mean values based on certain groups\n",
    "bj_future_data_pressure <- bj_future_data %>% \n",
    "                                group_by(stationId, hour) %>% \n",
    "                                summarize(pressure = mean(pressure, na.rm = TRUE))\n",
    "bj_future_data <- bj_future_data %>% \n",
    "                          left_join(bj_future_data_pressure, c(\"stationId\", \"hour\")) %>% \n",
    "                          mutate(pressure = coalesce(pressure.x, pressure.y)) %>% \n",
    "                          select(-pressure.x, -pressure.y)\n",
    "# replace temperature NA with mean values based on certain groups\n",
    "bj_future_data_temperature <- bj_future_data %>% \n",
    "                                group_by(stationId, hour) %>% \n",
    "                                summarize(temperature = mean(temperature, na.rm = TRUE))\n",
    "bj_future_data <- bj_future_data %>% \n",
    "                          left_join(bj_future_data_temperature, c(\"stationId\", \"hour\")) %>% \n",
    "                          mutate(temperature = coalesce(temperature.x, temperature.y)) %>% \n",
    "                          select(-temperature.x, -temperature.y)\n",
    "\n",
    "# replace humidity NA with mean values based on certain groups\n",
    "bj_future_data_humidity <- bj_future_data %>% \n",
    "                                group_by(stationId, hour) %>% \n",
    "                                summarize(humidity = mean(humidity, na.rm = TRUE))\n",
    "bj_future_data <- bj_future_data %>% \n",
    "                          left_join(bj_future_data_humidity, c(\"stationId\", \"hour\")) %>% \n",
    "                          mutate(humidity = coalesce(humidity.x, humidity.y)) %>% \n",
    "                          select(-humidity.x, -humidity.y)\n",
    "\n",
    "\n",
    "# replace wind_speed NA with mean values based on certain groups\n",
    "bj_future_data_wind_speed.kph <- bj_future_data %>% \n",
    "                                group_by(stationId, hour) %>% \n",
    "                                summarize(wind_speed.kph = mean(wind_speed.kph, na.rm = TRUE))\n",
    "bj_future_data <- bj_future_data %>% \n",
    "                          left_join(bj_future_data_wind_speed.kph, c(\"stationId\", \"hour\")) %>% \n",
    "                          mutate(wind_speed.kph = coalesce(wind_speed.kph.x, wind_speed.kph.y)) %>% \n",
    "                          select(-wind_speed.kph.x, -wind_speed.kph.y)\n",
    "\n",
    "# replace wind direction NA with mean values based on certain groups\n",
    "bj_future_data_wind_direction <- bj_future_data %>% \n",
    "                                group_by(stationId, hour) %>% \n",
    "                                summarize(wind_direction = mean(wind_direction, na.rm = TRUE))\n",
    "bj_future_data <- bj_future_data %>% \n",
    "                          left_join(bj_future_data_wind_direction, c(\"stationId\", \"hour\")) %>% \n",
    "                          mutate(wind_direction = coalesce(wind_direction.x, wind_direction.y)) %>% \n",
    "                          select(-wind_direction.x, -wind_direction.y)"
   ]
  },
  {
   "cell_type": "code",
   "execution_count": 80,
   "metadata": {},
   "outputs": [],
   "source": [
    "# predicting PM2.5, PM10 and O3 values\n",
    "bj_future_data$PM2.5 <- predict(PM2.5_lmProfile$fit, bj_future_data)\n",
    "bj_future_data$PM10 <- predict(PM10_lmProfile$fit, bj_future_data)\n",
    "bj_future_data$O3 <- predict(O3_lmProfile$fit, bj_future_data)"
   ]
  },
  {
   "cell_type": "code",
   "execution_count": 81,
   "metadata": {
    "collapsed": true
   },
   "outputs": [],
   "source": [
    "#creating the test_id for final submission file\n",
    "bj_future_data$test_id <- paste(bj_future_data$stationId, \"#\", bj_future_data$id, sep = \"\")"
   ]
  },
  {
   "cell_type": "code",
   "execution_count": 82,
   "metadata": {},
   "outputs": [
    {
     "name": "stdout",
     "output_type": "stream",
     "text": [
      "'data.frame':\t1680 obs. of  22 variables:\n",
      " $ stationId     : Factor w/ 35 levels \"aotizhongxin_aq\",..: 1 1 1 1 1 1 1 1 1 1 ...\n",
      " $ utc_time      : POSIXct, format: \"2018-06-04 00:00:00\" \"2018-06-04 01:00:00\" ...\n",
      " $ id            : num  0 1 2 3 4 5 6 7 8 9 ...\n",
      " $ hour          : int  0 1 2 3 4 5 6 7 8 9 ...\n",
      " $ month         : num  6 6 6 6 6 6 6 6 6 6 ...\n",
      " $ date          : Date, format: \"2018-06-04\" \"2018-06-04\" ...\n",
      " $ weekend       : int  0 0 0 0 0 0 0 0 0 0 ...\n",
      " $ holiday       : num  0 0 0 0 0 0 0 0 0 0 ...\n",
      " $ x             : int  5 5 5 5 5 5 5 5 5 5 ...\n",
      " $ stationName   : chr  \"beijing_grid_304\" \"beijing_grid_304\" \"beijing_grid_304\" \"beijing_grid_304\" ...\n",
      " $ distance      : num  2020 2020 2020 2020 2020 ...\n",
      " $ longitude     : num  116 116 116 116 116 ...\n",
      " $ latitude      : num  40 40 40 40 40 ...\n",
      " $ pressure      : num  1002 1002 1002 1002 1002 ...\n",
      " $ temperature   : num  20.7 20.6 20 19.6 19.4 20 20.3 20 20.7 22.4 ...\n",
      " $ humidity      : num  27 28 28 29 28 28 26 23 19 15 ...\n",
      " $ wind_speed.kph: num  5.86 4.92 4.2 3.79 2.84 0.49 2.5 4.97 6.53 8.08 ...\n",
      " $ wind_direction: num  11.56 9.83 356.56 338.87 326.38 ...\n",
      " $ PM2.5         : num  61.1 62.5 50.7 51.9 52.9 ...\n",
      " $ PM10          : num  94.8 95.8 84.7 85.4 86.7 ...\n",
      " $ O3            : num  77.4 74.1 71.5 68.7 65.8 ...\n",
      " $ test_id       : chr  \"aotizhongxin_aq#0\" \"aotizhongxin_aq#1\" \"aotizhongxin_aq#2\" \"aotizhongxin_aq#3\" ...\n"
     ]
    },
    {
     "data": {
      "text/plain": [
       "           stationId       utc_time                         id       \n",
       " aotizhongxin_aq:  48   Min.   :2018-06-04 00:00:00   Min.   : 0.00  \n",
       " badaling_aq    :  48   1st Qu.:2018-06-04 11:45:00   1st Qu.:11.75  \n",
       " beibuxinqu_aq  :  48   Median :2018-06-04 23:30:00   Median :23.50  \n",
       " daxing_aq      :  48   Mean   :2018-06-04 23:30:00   Mean   :23.50  \n",
       " dingling_aq    :  48   3rd Qu.:2018-06-05 11:15:00   3rd Qu.:35.25  \n",
       " donggaocun_aq  :  48   Max.   :2018-06-05 23:00:00   Max.   :47.00  \n",
       " (Other)        :1392                                                \n",
       "      hour           month        date               weekend     holiday \n",
       " Min.   : 0.00   Min.   :6   Min.   :2018-06-04   Min.   :0   Min.   :0  \n",
       " 1st Qu.: 5.75   1st Qu.:6   1st Qu.:2018-06-04   1st Qu.:0   1st Qu.:0  \n",
       " Median :11.50   Median :6   Median :2018-06-04   Median :0   Median :0  \n",
       " Mean   :11.50   Mean   :6   Mean   :2018-06-04   Mean   :0   Mean   :0  \n",
       " 3rd Qu.:17.25   3rd Qu.:6   3rd Qu.:2018-06-05   3rd Qu.:0   3rd Qu.:0  \n",
       " Max.   :23.00   Max.   :6   Max.   :2018-06-05   Max.   :0   Max.   :0  \n",
       "                                                                         \n",
       "       x      stationName           distance        longitude    \n",
       " Min.   : 1   Length:1680        Min.   : 441.3   Min.   :116.0  \n",
       " 1st Qu.: 9   Class :character   1st Qu.:1975.9   1st Qu.:116.2  \n",
       " Median :18   Mode  :character   Median :3523.5   Median :116.4  \n",
       " Mean   :18                      Mean   :3315.2   Mean   :116.4  \n",
       " 3rd Qu.:27                      3rd Qu.:4755.0   3rd Qu.:116.5  \n",
       " Max.   :35                      Max.   :6610.1   Max.   :117.1  \n",
       "                                                                 \n",
       "    latitude        pressure       temperature       humidity    \n",
       " Min.   :39.52   Min.   : 928.3   Min.   :14.00   Min.   : 3.00  \n",
       " 1st Qu.:39.86   1st Qu.: 981.9   1st Qu.:23.17   1st Qu.: 7.00  \n",
       " Median :39.94   Median : 992.4   Median :29.33   Median :11.00  \n",
       " Mean   :39.99   Mean   : 986.9   Mean   :28.68   Mean   :14.26  \n",
       " 3rd Qu.:40.13   3rd Qu.: 996.4   3rd Qu.:34.39   3rd Qu.:17.00  \n",
       " Max.   :40.50   Max.   :1006.6   Max.   :38.00   Max.   :58.00  \n",
       "                                                                 \n",
       " wind_speed.kph   wind_direction       PM2.5             PM10       \n",
       " Min.   : 0.390   Min.   :  0.41   Min.   :-4.385   Min.   : 60.05  \n",
       " 1st Qu.: 5.848   1st Qu.:188.37   1st Qu.:29.302   1st Qu.: 84.86  \n",
       " Median :11.150   Median :212.97   Median :36.093   Median : 93.05  \n",
       " Mean   :11.531   Mean   :208.35   Mean   :38.815   Mean   : 92.04  \n",
       " 3rd Qu.:16.000   3rd Qu.:249.90   3rd Qu.:48.819   3rd Qu.: 99.49  \n",
       " Max.   :31.480   Max.   :358.79   Max.   :77.957   Max.   :119.45  \n",
       "                                                                    \n",
       "       O3           test_id         \n",
       " Min.   : 44.55   Length:1680       \n",
       " 1st Qu.: 86.53   Class :character  \n",
       " Median :108.25   Mode  :character  \n",
       " Mean   :106.32                     \n",
       " 3rd Qu.:125.35                     \n",
       " Max.   :177.83                     \n",
       "                                    "
      ]
     },
     "metadata": {},
     "output_type": "display_data"
    },
    {
     "data": {
      "text/html": [
       "<table>\n",
       "<thead><tr><th scope=col>min_date</th><th scope=col>max_date</th></tr></thead>\n",
       "<tbody>\n",
       "\t<tr><td>2018-06-04         </td><td>2018-06-05 23:00:00</td></tr>\n",
       "</tbody>\n",
       "</table>\n"
      ],
      "text/latex": [
       "\\begin{tabular}{r|ll}\n",
       " min\\_date & max\\_date\\\\\n",
       "\\hline\n",
       "\t 2018-06-04          & 2018-06-05 23:00:00\\\\\n",
       "\\end{tabular}\n"
      ],
      "text/markdown": [
       "\n",
       "min_date | max_date | \n",
       "|---|\n",
       "| 2018-06-04          | 2018-06-05 23:00:00 | \n",
       "\n",
       "\n"
      ],
      "text/plain": [
       "  min_date   max_date           \n",
       "1 2018-06-04 2018-06-05 23:00:00"
      ]
     },
     "metadata": {},
     "output_type": "display_data"
    }
   ],
   "source": [
    "str(bj_future_data)\n",
    "summary(bj_future_data)\n",
    "bj_future_data %>% summarize(min_date = min(utc_time ), max_date = max(utc_time ))"
   ]
  },
  {
   "cell_type": "code",
   "execution_count": 64,
   "metadata": {},
   "outputs": [
    {
     "data": {
      "text/html": [
       "<table>\n",
       "<thead><tr><th scope=col>stationId</th><th scope=col>utc_time</th><th scope=col>id</th><th scope=col>hour</th><th scope=col>month</th><th scope=col>date</th><th scope=col>weekend</th><th scope=col>holiday</th><th scope=col>x</th><th scope=col>stationName</th><th scope=col>...</th><th scope=col>latitude</th><th scope=col>pressure</th><th scope=col>temperature</th><th scope=col>humidity</th><th scope=col>wind_speed.kph</th><th scope=col>wind_direction</th><th scope=col>PM2.5</th><th scope=col>PM10</th><th scope=col>O3</th><th scope=col>test_id</th></tr></thead>\n",
       "<tbody>\n",
       "\t<tr><td>aotizhongxin_aq    </td><td>2018-06-01 00:00:00</td><td> 0                 </td><td> 0                 </td><td>6                  </td><td>2018-06-01         </td><td>0                  </td><td>0                  </td><td>5                  </td><td>beijing_grid_304   </td><td>...                </td><td>39.982             </td><td>1007.804           </td><td>22.40              </td><td>19                 </td><td>272.74             </td><td> 1.84              </td><td>48.28576           </td><td>79.89863           </td><td>74.98524           </td><td>aotizhongxin_aq#0  </td></tr>\n",
       "\t<tr><td>aotizhongxin_aq    </td><td>2018-06-01 01:00:00</td><td> 1                 </td><td> 1                 </td><td>6                  </td><td>2018-06-01         </td><td>0                  </td><td>0                  </td><td>5                  </td><td>beijing_grid_304   </td><td>...                </td><td>39.982             </td><td>1007.692           </td><td>21.00              </td><td>20                 </td><td>322.07             </td><td> 2.15              </td><td>48.32690           </td><td>79.87083           </td><td>73.24972           </td><td>aotizhongxin_aq#1  </td></tr>\n",
       "\t<tr><td>aotizhongxin_aq    </td><td>2018-06-01 02:00:00</td><td> 2                 </td><td> 2                 </td><td>6                  </td><td>2018-06-01         </td><td>0                  </td><td>0                  </td><td>5                  </td><td>beijing_grid_304   </td><td>...                </td><td>39.982             </td><td>1007.685           </td><td>20.50              </td><td>22                 </td><td>339.79             </td><td> 3.31              </td><td>48.36803           </td><td>79.84303           </td><td>71.51420           </td><td>aotizhongxin_aq#2  </td></tr>\n",
       "\t<tr><td>aotizhongxin_aq    </td><td>2018-06-01 03:00:00</td><td> 3                 </td><td> 3                 </td><td>6                  </td><td>2018-06-01         </td><td>0                  </td><td>0                  </td><td>5                  </td><td>beijing_grid_304   </td><td>...                </td><td>39.982             </td><td>1007.792           </td><td>20.60              </td><td>23                 </td><td>346.03             </td><td> 4.34              </td><td>48.40916           </td><td>79.81522           </td><td>69.77868           </td><td>aotizhongxin_aq#3  </td></tr>\n",
       "\t<tr><td>aotizhongxin_aq    </td><td>2018-06-01 04:00:00</td><td> 4                 </td><td> 4                 </td><td>6                  </td><td>2018-06-01         </td><td>0                  </td><td>0                  </td><td>5                  </td><td>beijing_grid_304   </td><td>...                </td><td>39.982             </td><td>1007.990           </td><td>22.10              </td><td>23                 </td><td>352.29             </td><td> 4.96              </td><td>48.45030           </td><td>79.78742           </td><td>68.04316           </td><td>aotizhongxin_aq#4  </td></tr>\n",
       "\t<tr><td>aotizhongxin_aq    </td><td>2018-06-01 05:00:00</td><td> 5                 </td><td> 5                 </td><td>6                  </td><td>2018-06-01         </td><td>0                  </td><td>0                  </td><td>5                  </td><td>beijing_grid_304   </td><td>...                </td><td>39.982             </td><td>1008.244           </td><td>24.00              </td><td>22                 </td><td>  2.27             </td><td> 5.14              </td><td>48.49143           </td><td>79.75962           </td><td>66.30764           </td><td>aotizhongxin_aq#5  </td></tr>\n",
       "\t<tr><td>aotizhongxin_aq    </td><td>2018-06-01 06:00:00</td><td> 6                 </td><td> 6                 </td><td>6                  </td><td>2018-06-01         </td><td>0                  </td><td>0                  </td><td>5                  </td><td>beijing_grid_304   </td><td>...                </td><td>39.982             </td><td>1008.475           </td><td>24.90              </td><td>21                 </td><td> 13.73             </td><td> 4.75              </td><td>48.53256           </td><td>79.73182           </td><td>64.57212           </td><td>aotizhongxin_aq#6  </td></tr>\n",
       "\t<tr><td>aotizhongxin_aq    </td><td>2018-06-01 07:00:00</td><td> 7                 </td><td> 7                 </td><td>6                  </td><td>2018-06-01         </td><td>0                  </td><td>0                  </td><td>5                  </td><td>beijing_grid_304   </td><td>...                </td><td>39.982             </td><td>1008.591           </td><td>21.00              </td><td>19                 </td><td> 26.07             </td><td> 3.44              </td><td>48.57369           </td><td>79.70402           </td><td>62.83661           </td><td>aotizhongxin_aq#7  </td></tr>\n",
       "\t<tr><td>aotizhongxin_aq    </td><td>2018-06-01 08:00:00</td><td> 8                 </td><td> 8                 </td><td>6                  </td><td>2018-06-01         </td><td>0                  </td><td>0                  </td><td>5                  </td><td>beijing_grid_304   </td><td>...                </td><td>39.982             </td><td>1008.518           </td><td>26.10              </td><td>17                 </td><td> 64.42             </td><td> 1.05              </td><td>48.61483           </td><td>79.67621           </td><td>61.10109           </td><td>aotizhongxin_aq#8  </td></tr>\n",
       "\t<tr><td>aotizhongxin_aq    </td><td>2018-06-01 09:00:00</td><td> 9                 </td><td> 9                 </td><td>6                  </td><td>2018-06-01         </td><td>0                  </td><td>0                  </td><td>5                  </td><td>beijing_grid_304   </td><td>...                </td><td>39.982             </td><td>1008.241           </td><td>26.40              </td><td>15                 </td><td>184.05             </td><td> 2.71              </td><td>48.65596           </td><td>79.64841           </td><td>59.36557           </td><td>aotizhongxin_aq#9  </td></tr>\n",
       "\t<tr><td>aotizhongxin_aq    </td><td>2018-06-01 10:00:00</td><td>10                 </td><td>10                 </td><td>6                  </td><td>2018-06-01         </td><td>0                  </td><td>0                  </td><td>5                  </td><td>beijing_grid_304   </td><td>...                </td><td>39.982             </td><td>1007.760           </td><td>27.10              </td><td>12                 </td><td>193.59             </td><td> 5.80              </td><td>48.69709           </td><td>79.62061           </td><td>57.63005           </td><td>aotizhongxin_aq#10 </td></tr>\n",
       "\t<tr><td>aotizhongxin_aq    </td><td>2018-06-01 11:00:00</td><td>11                 </td><td>11                 </td><td>6                  </td><td>2018-06-01         </td><td>0                  </td><td>0                  </td><td>5                  </td><td>beijing_grid_304   </td><td>...                </td><td>39.982             </td><td>1007.090           </td><td>28.20              </td><td>11                 </td><td>195.44             </td><td> 8.08              </td><td>48.73823           </td><td>79.59281           </td><td>55.89453           </td><td>aotizhongxin_aq#11 </td></tr>\n",
       "\t<tr><td>aotizhongxin_aq    </td><td>2018-06-01 12:00:00</td><td>12                 </td><td>12                 </td><td>6                  </td><td>2018-06-01         </td><td>0                  </td><td>0                  </td><td>5                  </td><td>beijing_grid_304   </td><td>...                </td><td>39.982             </td><td>1006.295           </td><td>28.90              </td><td> 9                 </td><td>196.15             </td><td> 9.78              </td><td>48.77936           </td><td>79.56501           </td><td>54.15901           </td><td>aotizhongxin_aq#12 </td></tr>\n",
       "\t<tr><td>aotizhongxin_aq    </td><td>2018-06-01 13:00:00</td><td>13                 </td><td>13                 </td><td>6                  </td><td>2018-06-01         </td><td>0                  </td><td>0                  </td><td>5                  </td><td>beijing_grid_304   </td><td>...                </td><td>39.982             </td><td>1005.454           </td><td>36.00              </td><td> 8                 </td><td>197.23             </td><td>11.39              </td><td>48.82049           </td><td>79.53720           </td><td>52.42349           </td><td>aotizhongxin_aq#13 </td></tr>\n",
       "\t<tr><td>aotizhongxin_aq    </td><td>2018-06-01 14:00:00</td><td>14                 </td><td>14                 </td><td>6                  </td><td>2018-06-01         </td><td>0                  </td><td>0                  </td><td>5                  </td><td>beijing_grid_304   </td><td>...                </td><td>39.982             </td><td>1004.648           </td><td>31.50              </td><td> 8                 </td><td>199.03             </td><td>13.21              </td><td>48.86162           </td><td>79.50940           </td><td>50.68798           </td><td>aotizhongxin_aq#14 </td></tr>\n",
       "\t<tr><td>aotizhongxin_aq    </td><td>2018-06-01 15:00:00</td><td>15                 </td><td>15                 </td><td>6                  </td><td>2018-06-01         </td><td>0                  </td><td>0                  </td><td>5                  </td><td>beijing_grid_304   </td><td>...                </td><td>39.982             </td><td>1003.966           </td><td>33.00              </td><td> 8                 </td><td>201.05             </td><td>14.71              </td><td>48.90276           </td><td>79.48160           </td><td>48.95246           </td><td>aotizhongxin_aq#15 </td></tr>\n",
       "\t<tr><td>aotizhongxin_aq    </td><td>2018-06-01 16:00:00</td><td>16                 </td><td>16                 </td><td>6                  </td><td>2018-06-01         </td><td>0                  </td><td>0                  </td><td>5                  </td><td>beijing_grid_304   </td><td>...                </td><td>39.982             </td><td>1003.502           </td><td>34.50              </td><td> 9                 </td><td>203.18             </td><td>15.15              </td><td>48.94389           </td><td>79.45380           </td><td>47.21694           </td><td>aotizhongxin_aq#16 </td></tr>\n",
       "\t<tr><td>aotizhongxin_aq    </td><td>2018-06-01 17:00:00</td><td>17                 </td><td>17                 </td><td>6                  </td><td>2018-06-01         </td><td>0                  </td><td>0                  </td><td>5                  </td><td>beijing_grid_304   </td><td>...                </td><td>39.982             </td><td>1003.328           </td><td>35.20              </td><td> 9                 </td><td>205.55             </td><td>14.08              </td><td>48.98502           </td><td>79.42600           </td><td>45.48142           </td><td>aotizhongxin_aq#17 </td></tr>\n",
       "\t<tr><td>aotizhongxin_aq    </td><td>2018-06-01 18:00:00</td><td>18                 </td><td>18                 </td><td>6                  </td><td>2018-06-01         </td><td>0                  </td><td>0                  </td><td>5                  </td><td>beijing_grid_304   </td><td>...                </td><td>39.982             </td><td>1003.427           </td><td>35.57              </td><td>10                 </td><td>207.39             </td><td>12.31              </td><td>49.02616           </td><td>79.39819           </td><td>43.74590           </td><td>aotizhongxin_aq#18 </td></tr>\n",
       "\t<tr><td>aotizhongxin_aq    </td><td>2018-06-01 19:00:00</td><td>19                 </td><td>19                 </td><td>6                  </td><td>2018-06-01         </td><td>0                  </td><td>0                  </td><td>5                  </td><td>beijing_grid_304   </td><td>...                </td><td>39.982             </td><td>1003.763           </td><td>34.72              </td><td>12                 </td><td>206.38             </td><td>10.91              </td><td>49.06729           </td><td>79.37039           </td><td>42.01038           </td><td>aotizhongxin_aq#19 </td></tr>\n",
       "</tbody>\n",
       "</table>\n"
      ],
      "text/latex": [
       "\\begin{tabular}{r|llllllllllllllllllllll}\n",
       " stationId & utc\\_time & id & hour & month & date & weekend & holiday & x & stationName & ... & latitude & pressure & temperature & humidity & wind\\_speed.kph & wind\\_direction & PM2.5 & PM10 & O3 & test\\_id\\\\\n",
       "\\hline\n",
       "\t aotizhongxin\\_aq      & 2018-06-01 00:00:00    &  0                     &  0                     & 6                      & 2018-06-01             & 0                      & 0                      & 5                      & beijing\\_grid\\_304   & ...                    & 39.982                 & 1007.804               & 22.40                  & 19                     & 272.74                 &  1.84                  & 48.28576               & 79.89863               & 74.98524               & aotizhongxin\\_aq\\#0 \\\\\n",
       "\t aotizhongxin\\_aq      & 2018-06-01 01:00:00    &  1                     &  1                     & 6                      & 2018-06-01             & 0                      & 0                      & 5                      & beijing\\_grid\\_304   & ...                    & 39.982                 & 1007.692               & 21.00                  & 20                     & 322.07                 &  2.15                  & 48.32690               & 79.87083               & 73.24972               & aotizhongxin\\_aq\\#1 \\\\\n",
       "\t aotizhongxin\\_aq      & 2018-06-01 02:00:00    &  2                     &  2                     & 6                      & 2018-06-01             & 0                      & 0                      & 5                      & beijing\\_grid\\_304   & ...                    & 39.982                 & 1007.685               & 20.50                  & 22                     & 339.79                 &  3.31                  & 48.36803               & 79.84303               & 71.51420               & aotizhongxin\\_aq\\#2 \\\\\n",
       "\t aotizhongxin\\_aq      & 2018-06-01 03:00:00    &  3                     &  3                     & 6                      & 2018-06-01             & 0                      & 0                      & 5                      & beijing\\_grid\\_304   & ...                    & 39.982                 & 1007.792               & 20.60                  & 23                     & 346.03                 &  4.34                  & 48.40916               & 79.81522               & 69.77868               & aotizhongxin\\_aq\\#3 \\\\\n",
       "\t aotizhongxin\\_aq      & 2018-06-01 04:00:00    &  4                     &  4                     & 6                      & 2018-06-01             & 0                      & 0                      & 5                      & beijing\\_grid\\_304   & ...                    & 39.982                 & 1007.990               & 22.10                  & 23                     & 352.29                 &  4.96                  & 48.45030               & 79.78742               & 68.04316               & aotizhongxin\\_aq\\#4 \\\\\n",
       "\t aotizhongxin\\_aq      & 2018-06-01 05:00:00    &  5                     &  5                     & 6                      & 2018-06-01             & 0                      & 0                      & 5                      & beijing\\_grid\\_304   & ...                    & 39.982                 & 1008.244               & 24.00                  & 22                     &   2.27                 &  5.14                  & 48.49143               & 79.75962               & 66.30764               & aotizhongxin\\_aq\\#5 \\\\\n",
       "\t aotizhongxin\\_aq      & 2018-06-01 06:00:00    &  6                     &  6                     & 6                      & 2018-06-01             & 0                      & 0                      & 5                      & beijing\\_grid\\_304   & ...                    & 39.982                 & 1008.475               & 24.90                  & 21                     &  13.73                 &  4.75                  & 48.53256               & 79.73182               & 64.57212               & aotizhongxin\\_aq\\#6 \\\\\n",
       "\t aotizhongxin\\_aq      & 2018-06-01 07:00:00    &  7                     &  7                     & 6                      & 2018-06-01             & 0                      & 0                      & 5                      & beijing\\_grid\\_304   & ...                    & 39.982                 & 1008.591               & 21.00                  & 19                     &  26.07                 &  3.44                  & 48.57369               & 79.70402               & 62.83661               & aotizhongxin\\_aq\\#7 \\\\\n",
       "\t aotizhongxin\\_aq      & 2018-06-01 08:00:00    &  8                     &  8                     & 6                      & 2018-06-01             & 0                      & 0                      & 5                      & beijing\\_grid\\_304   & ...                    & 39.982                 & 1008.518               & 26.10                  & 17                     &  64.42                 &  1.05                  & 48.61483               & 79.67621               & 61.10109               & aotizhongxin\\_aq\\#8 \\\\\n",
       "\t aotizhongxin\\_aq      & 2018-06-01 09:00:00    &  9                     &  9                     & 6                      & 2018-06-01             & 0                      & 0                      & 5                      & beijing\\_grid\\_304   & ...                    & 39.982                 & 1008.241               & 26.40                  & 15                     & 184.05                 &  2.71                  & 48.65596               & 79.64841               & 59.36557               & aotizhongxin\\_aq\\#9 \\\\\n",
       "\t aotizhongxin\\_aq      & 2018-06-01 10:00:00    & 10                     & 10                     & 6                      & 2018-06-01             & 0                      & 0                      & 5                      & beijing\\_grid\\_304   & ...                    & 39.982                 & 1007.760               & 27.10                  & 12                     & 193.59                 &  5.80                  & 48.69709               & 79.62061               & 57.63005               & aotizhongxin\\_aq\\#10\\\\\n",
       "\t aotizhongxin\\_aq      & 2018-06-01 11:00:00    & 11                     & 11                     & 6                      & 2018-06-01             & 0                      & 0                      & 5                      & beijing\\_grid\\_304   & ...                    & 39.982                 & 1007.090               & 28.20                  & 11                     & 195.44                 &  8.08                  & 48.73823               & 79.59281               & 55.89453               & aotizhongxin\\_aq\\#11\\\\\n",
       "\t aotizhongxin\\_aq      & 2018-06-01 12:00:00    & 12                     & 12                     & 6                      & 2018-06-01             & 0                      & 0                      & 5                      & beijing\\_grid\\_304   & ...                    & 39.982                 & 1006.295               & 28.90                  &  9                     & 196.15                 &  9.78                  & 48.77936               & 79.56501               & 54.15901               & aotizhongxin\\_aq\\#12\\\\\n",
       "\t aotizhongxin\\_aq      & 2018-06-01 13:00:00    & 13                     & 13                     & 6                      & 2018-06-01             & 0                      & 0                      & 5                      & beijing\\_grid\\_304   & ...                    & 39.982                 & 1005.454               & 36.00                  &  8                     & 197.23                 & 11.39                  & 48.82049               & 79.53720               & 52.42349               & aotizhongxin\\_aq\\#13\\\\\n",
       "\t aotizhongxin\\_aq      & 2018-06-01 14:00:00    & 14                     & 14                     & 6                      & 2018-06-01             & 0                      & 0                      & 5                      & beijing\\_grid\\_304   & ...                    & 39.982                 & 1004.648               & 31.50                  &  8                     & 199.03                 & 13.21                  & 48.86162               & 79.50940               & 50.68798               & aotizhongxin\\_aq\\#14\\\\\n",
       "\t aotizhongxin\\_aq      & 2018-06-01 15:00:00    & 15                     & 15                     & 6                      & 2018-06-01             & 0                      & 0                      & 5                      & beijing\\_grid\\_304   & ...                    & 39.982                 & 1003.966               & 33.00                  &  8                     & 201.05                 & 14.71                  & 48.90276               & 79.48160               & 48.95246               & aotizhongxin\\_aq\\#15\\\\\n",
       "\t aotizhongxin\\_aq      & 2018-06-01 16:00:00    & 16                     & 16                     & 6                      & 2018-06-01             & 0                      & 0                      & 5                      & beijing\\_grid\\_304   & ...                    & 39.982                 & 1003.502               & 34.50                  &  9                     & 203.18                 & 15.15                  & 48.94389               & 79.45380               & 47.21694               & aotizhongxin\\_aq\\#16\\\\\n",
       "\t aotizhongxin\\_aq      & 2018-06-01 17:00:00    & 17                     & 17                     & 6                      & 2018-06-01             & 0                      & 0                      & 5                      & beijing\\_grid\\_304   & ...                    & 39.982                 & 1003.328               & 35.20                  &  9                     & 205.55                 & 14.08                  & 48.98502               & 79.42600               & 45.48142               & aotizhongxin\\_aq\\#17\\\\\n",
       "\t aotizhongxin\\_aq      & 2018-06-01 18:00:00    & 18                     & 18                     & 6                      & 2018-06-01             & 0                      & 0                      & 5                      & beijing\\_grid\\_304   & ...                    & 39.982                 & 1003.427               & 35.57                  & 10                     & 207.39                 & 12.31                  & 49.02616               & 79.39819               & 43.74590               & aotizhongxin\\_aq\\#18\\\\\n",
       "\t aotizhongxin\\_aq      & 2018-06-01 19:00:00    & 19                     & 19                     & 6                      & 2018-06-01             & 0                      & 0                      & 5                      & beijing\\_grid\\_304   & ...                    & 39.982                 & 1003.763               & 34.72                  & 12                     & 206.38                 & 10.91                  & 49.06729               & 79.37039               & 42.01038               & aotizhongxin\\_aq\\#19\\\\\n",
       "\\end{tabular}\n"
      ],
      "text/markdown": [
       "\n",
       "stationId | utc_time | id | hour | month | date | weekend | holiday | x | stationName | ... | latitude | pressure | temperature | humidity | wind_speed.kph | wind_direction | PM2.5 | PM10 | O3 | test_id | \n",
       "|---|---|---|---|---|---|---|---|---|---|---|---|---|---|---|---|---|---|---|---|\n",
       "| aotizhongxin_aq     | 2018-06-01 00:00:00 |  0                  |  0                  | 6                   | 2018-06-01          | 0                   | 0                   | 5                   | beijing_grid_304    | ...                 | 39.982              | 1007.804            | 22.40               | 19                  | 272.74              |  1.84               | 48.28576            | 79.89863            | 74.98524            | aotizhongxin_aq#0   | \n",
       "| aotizhongxin_aq     | 2018-06-01 01:00:00 |  1                  |  1                  | 6                   | 2018-06-01          | 0                   | 0                   | 5                   | beijing_grid_304    | ...                 | 39.982              | 1007.692            | 21.00               | 20                  | 322.07              |  2.15               | 48.32690            | 79.87083            | 73.24972            | aotizhongxin_aq#1   | \n",
       "| aotizhongxin_aq     | 2018-06-01 02:00:00 |  2                  |  2                  | 6                   | 2018-06-01          | 0                   | 0                   | 5                   | beijing_grid_304    | ...                 | 39.982              | 1007.685            | 20.50               | 22                  | 339.79              |  3.31               | 48.36803            | 79.84303            | 71.51420            | aotizhongxin_aq#2   | \n",
       "| aotizhongxin_aq     | 2018-06-01 03:00:00 |  3                  |  3                  | 6                   | 2018-06-01          | 0                   | 0                   | 5                   | beijing_grid_304    | ...                 | 39.982              | 1007.792            | 20.60               | 23                  | 346.03              |  4.34               | 48.40916            | 79.81522            | 69.77868            | aotizhongxin_aq#3   | \n",
       "| aotizhongxin_aq     | 2018-06-01 04:00:00 |  4                  |  4                  | 6                   | 2018-06-01          | 0                   | 0                   | 5                   | beijing_grid_304    | ...                 | 39.982              | 1007.990            | 22.10               | 23                  | 352.29              |  4.96               | 48.45030            | 79.78742            | 68.04316            | aotizhongxin_aq#4   | \n",
       "| aotizhongxin_aq     | 2018-06-01 05:00:00 |  5                  |  5                  | 6                   | 2018-06-01          | 0                   | 0                   | 5                   | beijing_grid_304    | ...                 | 39.982              | 1008.244            | 24.00               | 22                  |   2.27              |  5.14               | 48.49143            | 79.75962            | 66.30764            | aotizhongxin_aq#5   | \n",
       "| aotizhongxin_aq     | 2018-06-01 06:00:00 |  6                  |  6                  | 6                   | 2018-06-01          | 0                   | 0                   | 5                   | beijing_grid_304    | ...                 | 39.982              | 1008.475            | 24.90               | 21                  |  13.73              |  4.75               | 48.53256            | 79.73182            | 64.57212            | aotizhongxin_aq#6   | \n",
       "| aotizhongxin_aq     | 2018-06-01 07:00:00 |  7                  |  7                  | 6                   | 2018-06-01          | 0                   | 0                   | 5                   | beijing_grid_304    | ...                 | 39.982              | 1008.591            | 21.00               | 19                  |  26.07              |  3.44               | 48.57369            | 79.70402            | 62.83661            | aotizhongxin_aq#7   | \n",
       "| aotizhongxin_aq     | 2018-06-01 08:00:00 |  8                  |  8                  | 6                   | 2018-06-01          | 0                   | 0                   | 5                   | beijing_grid_304    | ...                 | 39.982              | 1008.518            | 26.10               | 17                  |  64.42              |  1.05               | 48.61483            | 79.67621            | 61.10109            | aotizhongxin_aq#8   | \n",
       "| aotizhongxin_aq     | 2018-06-01 09:00:00 |  9                  |  9                  | 6                   | 2018-06-01          | 0                   | 0                   | 5                   | beijing_grid_304    | ...                 | 39.982              | 1008.241            | 26.40               | 15                  | 184.05              |  2.71               | 48.65596            | 79.64841            | 59.36557            | aotizhongxin_aq#9   | \n",
       "| aotizhongxin_aq     | 2018-06-01 10:00:00 | 10                  | 10                  | 6                   | 2018-06-01          | 0                   | 0                   | 5                   | beijing_grid_304    | ...                 | 39.982              | 1007.760            | 27.10               | 12                  | 193.59              |  5.80               | 48.69709            | 79.62061            | 57.63005            | aotizhongxin_aq#10  | \n",
       "| aotizhongxin_aq     | 2018-06-01 11:00:00 | 11                  | 11                  | 6                   | 2018-06-01          | 0                   | 0                   | 5                   | beijing_grid_304    | ...                 | 39.982              | 1007.090            | 28.20               | 11                  | 195.44              |  8.08               | 48.73823            | 79.59281            | 55.89453            | aotizhongxin_aq#11  | \n",
       "| aotizhongxin_aq     | 2018-06-01 12:00:00 | 12                  | 12                  | 6                   | 2018-06-01          | 0                   | 0                   | 5                   | beijing_grid_304    | ...                 | 39.982              | 1006.295            | 28.90               |  9                  | 196.15              |  9.78               | 48.77936            | 79.56501            | 54.15901            | aotizhongxin_aq#12  | \n",
       "| aotizhongxin_aq     | 2018-06-01 13:00:00 | 13                  | 13                  | 6                   | 2018-06-01          | 0                   | 0                   | 5                   | beijing_grid_304    | ...                 | 39.982              | 1005.454            | 36.00               |  8                  | 197.23              | 11.39               | 48.82049            | 79.53720            | 52.42349            | aotizhongxin_aq#13  | \n",
       "| aotizhongxin_aq     | 2018-06-01 14:00:00 | 14                  | 14                  | 6                   | 2018-06-01          | 0                   | 0                   | 5                   | beijing_grid_304    | ...                 | 39.982              | 1004.648            | 31.50               |  8                  | 199.03              | 13.21               | 48.86162            | 79.50940            | 50.68798            | aotizhongxin_aq#14  | \n",
       "| aotizhongxin_aq     | 2018-06-01 15:00:00 | 15                  | 15                  | 6                   | 2018-06-01          | 0                   | 0                   | 5                   | beijing_grid_304    | ...                 | 39.982              | 1003.966            | 33.00               |  8                  | 201.05              | 14.71               | 48.90276            | 79.48160            | 48.95246            | aotizhongxin_aq#15  | \n",
       "| aotizhongxin_aq     | 2018-06-01 16:00:00 | 16                  | 16                  | 6                   | 2018-06-01          | 0                   | 0                   | 5                   | beijing_grid_304    | ...                 | 39.982              | 1003.502            | 34.50               |  9                  | 203.18              | 15.15               | 48.94389            | 79.45380            | 47.21694            | aotizhongxin_aq#16  | \n",
       "| aotizhongxin_aq     | 2018-06-01 17:00:00 | 17                  | 17                  | 6                   | 2018-06-01          | 0                   | 0                   | 5                   | beijing_grid_304    | ...                 | 39.982              | 1003.328            | 35.20               |  9                  | 205.55              | 14.08               | 48.98502            | 79.42600            | 45.48142            | aotizhongxin_aq#17  | \n",
       "| aotizhongxin_aq     | 2018-06-01 18:00:00 | 18                  | 18                  | 6                   | 2018-06-01          | 0                   | 0                   | 5                   | beijing_grid_304    | ...                 | 39.982              | 1003.427            | 35.57               | 10                  | 207.39              | 12.31               | 49.02616            | 79.39819            | 43.74590            | aotizhongxin_aq#18  | \n",
       "| aotizhongxin_aq     | 2018-06-01 19:00:00 | 19                  | 19                  | 6                   | 2018-06-01          | 0                   | 0                   | 5                   | beijing_grid_304    | ...                 | 39.982              | 1003.763            | 34.72               | 12                  | 206.38              | 10.91               | 49.06729            | 79.37039            | 42.01038            | aotizhongxin_aq#19  | \n",
       "\n",
       "\n"
      ],
      "text/plain": [
       "   stationId       utc_time            id hour month date       weekend holiday\n",
       "1  aotizhongxin_aq 2018-06-01 00:00:00  0  0   6     2018-06-01 0       0      \n",
       "2  aotizhongxin_aq 2018-06-01 01:00:00  1  1   6     2018-06-01 0       0      \n",
       "3  aotizhongxin_aq 2018-06-01 02:00:00  2  2   6     2018-06-01 0       0      \n",
       "4  aotizhongxin_aq 2018-06-01 03:00:00  3  3   6     2018-06-01 0       0      \n",
       "5  aotizhongxin_aq 2018-06-01 04:00:00  4  4   6     2018-06-01 0       0      \n",
       "6  aotizhongxin_aq 2018-06-01 05:00:00  5  5   6     2018-06-01 0       0      \n",
       "7  aotizhongxin_aq 2018-06-01 06:00:00  6  6   6     2018-06-01 0       0      \n",
       "8  aotizhongxin_aq 2018-06-01 07:00:00  7  7   6     2018-06-01 0       0      \n",
       "9  aotizhongxin_aq 2018-06-01 08:00:00  8  8   6     2018-06-01 0       0      \n",
       "10 aotizhongxin_aq 2018-06-01 09:00:00  9  9   6     2018-06-01 0       0      \n",
       "11 aotizhongxin_aq 2018-06-01 10:00:00 10 10   6     2018-06-01 0       0      \n",
       "12 aotizhongxin_aq 2018-06-01 11:00:00 11 11   6     2018-06-01 0       0      \n",
       "13 aotizhongxin_aq 2018-06-01 12:00:00 12 12   6     2018-06-01 0       0      \n",
       "14 aotizhongxin_aq 2018-06-01 13:00:00 13 13   6     2018-06-01 0       0      \n",
       "15 aotizhongxin_aq 2018-06-01 14:00:00 14 14   6     2018-06-01 0       0      \n",
       "16 aotizhongxin_aq 2018-06-01 15:00:00 15 15   6     2018-06-01 0       0      \n",
       "17 aotizhongxin_aq 2018-06-01 16:00:00 16 16   6     2018-06-01 0       0      \n",
       "18 aotizhongxin_aq 2018-06-01 17:00:00 17 17   6     2018-06-01 0       0      \n",
       "19 aotizhongxin_aq 2018-06-01 18:00:00 18 18   6     2018-06-01 0       0      \n",
       "20 aotizhongxin_aq 2018-06-01 19:00:00 19 19   6     2018-06-01 0       0      \n",
       "   x stationName      ... latitude pressure temperature humidity wind_speed.kph\n",
       "1  5 beijing_grid_304 ... 39.982   1007.804 22.40       19       272.74        \n",
       "2  5 beijing_grid_304 ... 39.982   1007.692 21.00       20       322.07        \n",
       "3  5 beijing_grid_304 ... 39.982   1007.685 20.50       22       339.79        \n",
       "4  5 beijing_grid_304 ... 39.982   1007.792 20.60       23       346.03        \n",
       "5  5 beijing_grid_304 ... 39.982   1007.990 22.10       23       352.29        \n",
       "6  5 beijing_grid_304 ... 39.982   1008.244 24.00       22         2.27        \n",
       "7  5 beijing_grid_304 ... 39.982   1008.475 24.90       21        13.73        \n",
       "8  5 beijing_grid_304 ... 39.982   1008.591 21.00       19        26.07        \n",
       "9  5 beijing_grid_304 ... 39.982   1008.518 26.10       17        64.42        \n",
       "10 5 beijing_grid_304 ... 39.982   1008.241 26.40       15       184.05        \n",
       "11 5 beijing_grid_304 ... 39.982   1007.760 27.10       12       193.59        \n",
       "12 5 beijing_grid_304 ... 39.982   1007.090 28.20       11       195.44        \n",
       "13 5 beijing_grid_304 ... 39.982   1006.295 28.90        9       196.15        \n",
       "14 5 beijing_grid_304 ... 39.982   1005.454 36.00        8       197.23        \n",
       "15 5 beijing_grid_304 ... 39.982   1004.648 31.50        8       199.03        \n",
       "16 5 beijing_grid_304 ... 39.982   1003.966 33.00        8       201.05        \n",
       "17 5 beijing_grid_304 ... 39.982   1003.502 34.50        9       203.18        \n",
       "18 5 beijing_grid_304 ... 39.982   1003.328 35.20        9       205.55        \n",
       "19 5 beijing_grid_304 ... 39.982   1003.427 35.57       10       207.39        \n",
       "20 5 beijing_grid_304 ... 39.982   1003.763 34.72       12       206.38        \n",
       "   wind_direction PM2.5    PM10     O3       test_id           \n",
       "1   1.84          48.28576 79.89863 74.98524 aotizhongxin_aq#0 \n",
       "2   2.15          48.32690 79.87083 73.24972 aotizhongxin_aq#1 \n",
       "3   3.31          48.36803 79.84303 71.51420 aotizhongxin_aq#2 \n",
       "4   4.34          48.40916 79.81522 69.77868 aotizhongxin_aq#3 \n",
       "5   4.96          48.45030 79.78742 68.04316 aotizhongxin_aq#4 \n",
       "6   5.14          48.49143 79.75962 66.30764 aotizhongxin_aq#5 \n",
       "7   4.75          48.53256 79.73182 64.57212 aotizhongxin_aq#6 \n",
       "8   3.44          48.57369 79.70402 62.83661 aotizhongxin_aq#7 \n",
       "9   1.05          48.61483 79.67621 61.10109 aotizhongxin_aq#8 \n",
       "10  2.71          48.65596 79.64841 59.36557 aotizhongxin_aq#9 \n",
       "11  5.80          48.69709 79.62061 57.63005 aotizhongxin_aq#10\n",
       "12  8.08          48.73823 79.59281 55.89453 aotizhongxin_aq#11\n",
       "13  9.78          48.77936 79.56501 54.15901 aotizhongxin_aq#12\n",
       "14 11.39          48.82049 79.53720 52.42349 aotizhongxin_aq#13\n",
       "15 13.21          48.86162 79.50940 50.68798 aotizhongxin_aq#14\n",
       "16 14.71          48.90276 79.48160 48.95246 aotizhongxin_aq#15\n",
       "17 15.15          48.94389 79.45380 47.21694 aotizhongxin_aq#16\n",
       "18 14.08          48.98502 79.42600 45.48142 aotizhongxin_aq#17\n",
       "19 12.31          49.02616 79.39819 43.74590 aotizhongxin_aq#18\n",
       "20 10.91          49.06729 79.37039 42.01038 aotizhongxin_aq#19"
      ]
     },
     "metadata": {},
     "output_type": "display_data"
    }
   ],
   "source": [
    "head(bj_future_data, 20)"
   ]
  },
  {
   "cell_type": "code",
   "execution_count": 65,
   "metadata": {
    "collapsed": true
   },
   "outputs": [],
   "source": [
    "write.csv(bj_future_data[,c(\"test_id\", \"PM2.5\", \"PM10\", \"O3\")], file = paste(\"bj_submission\", Sys.Date(),\".csv\"), row.names = FALSE)"
   ]
  },
  {
   "cell_type": "code",
   "execution_count": 66,
   "metadata": {
    "collapsed": true
   },
   "outputs": [],
   "source": [
    "# resetting the timezone\n",
    "Sys.unsetenv(\"TZ\")"
   ]
  },
  {
   "cell_type": "code",
   "execution_count": 69,
   "metadata": {},
   "outputs": [
    {
     "name": "stderr",
     "output_type": "stream",
     "text": [
      "Warning message in rm(\"bj_future_data\"):\n",
      "\"object 'bj_future_data' not found\"Warning message in rm(\"bj_lat_long_data\"):\n",
      "\"object 'bj_lat_long_data' not found\"Warning message in rm(\"bj_aq_gm_combined_data\"):\n",
      "\"object 'bj_aq_gm_combined_data' not found\""
     ]
    }
   ],
   "source": [
    "rm(\"bj_future_data\")\n",
    "rm(\"bj_lat_long_data\")\n",
    "rm(\"bj_aq_gm_combined_data\")\n",
    "rm(\"bj_future_data_humidity\")\n",
    "rm(\"bj_future_data_temperature\")\n",
    "rm(\"bj_future_data_pressure\")\n",
    "rm(\"bj_future_data_wind_direction\")\n",
    "rm(\"bj_future_data_wind_speed.kph\")\n",
    "rm(\"bj_future_weather_data\")\n",
    "rm(\"bj_closest_stations\")"
   ]
  }
 ],
 "metadata": {
  "kernelspec": {
   "display_name": "R",
   "language": "R",
   "name": "ir"
  },
  "language_info": {
   "codemirror_mode": "r",
   "file_extension": ".r",
   "mimetype": "text/x-r-source",
   "name": "R",
   "pygments_lexer": "r",
   "version": "3.4.2"
  }
 },
 "nbformat": 4,
 "nbformat_minor": 2
}
