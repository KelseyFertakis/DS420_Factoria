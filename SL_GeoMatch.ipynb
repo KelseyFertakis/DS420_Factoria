{
 "cells": [
  {
   "cell_type": "code",
   "execution_count": 3,
   "metadata": {},
   "outputs": [],
   "source": [
    "# load libraries\n",
    "library(geosphere)\n",
    "library(dplyr)"
   ]
  },
  {
   "cell_type": "markdown",
   "metadata": {},
   "source": [
    "### Step 1: Load and clean location data\n",
    "\n",
    "Make sure in your data:\n",
    "1. The first column is the station identifiers, data type as 'character'.\n",
    "2. The location columns are named 'longitude' and 'latitude'."
   ]
  },
  {
   "cell_type": "code",
   "execution_count": 4,
   "metadata": {
    "collapsed": true
   },
   "outputs": [],
   "source": [
    "# Read location file and assign column names\n",
    "bj_aq_station <- read.csv('Beijing_AirQuality_Stations.csv')\n",
    "colnames(bj_aq_station) <- c('Station','longitude','latitude')\n",
    "bj_grid <- read.csv('Beijing_grid_weather_station.csv', header = F)\n",
    "colnames(bj_grid) <- c('GridID','latitude','longitude')"
   ]
  },
  {
   "cell_type": "code",
   "execution_count": 6,
   "metadata": {
    "collapsed": true
   },
   "outputs": [],
   "source": [
    "# Modify data types\n",
    "bj_aq_station$Station <- as.character(bj_aq_station$Station)\n",
    "bj_grid$GridID <- as.character(bj_grid$GridID)"
   ]
  },
  {
   "cell_type": "code",
   "execution_count": 7,
   "metadata": {
    "collapsed": true
   },
   "outputs": [
    {
     "name": "stdout",
     "output_type": "stream",
     "text": [
      "'data.frame':\t35 obs. of  3 variables:\n",
      " $ Station  : chr  \"dongsi_aq\" \"tiantan_aq\" \"guanyuan_aq\" \"wanshouxigong_aq\" ...\n",
      " $ longitude: num  116 116 116 116 116 ...\n",
      " $ latitude : num  39.9 39.9 39.9 39.9 40 ...\n",
      "'data.frame':\t651 obs. of  3 variables:\n",
      " $ GridID   : chr  \"beijing_grid_000\" \"beijing_grid_001\" \"beijing_grid_002\" \"beijing_grid_003\" ...\n",
      " $ latitude : num  39 39.1 39.2 39.3 39.4 39.5 39.6 39.7 39.8 39.9 ...\n",
      " $ longitude: num  115 115 115 115 115 115 115 115 115 115 ...\n"
     ]
    },
    {
     "data": {
      "text/html": [
       "<table>\n",
       "<thead><tr><th scope=col>Station</th><th scope=col>longitude</th><th scope=col>latitude</th></tr></thead>\n",
       "<tbody>\n",
       "\t<tr><td>dongsi_aq       </td><td>116.417         </td><td>39.929          </td></tr>\n",
       "\t<tr><td>tiantan_aq      </td><td>116.407         </td><td>39.886          </td></tr>\n",
       "\t<tr><td>guanyuan_aq     </td><td>116.339         </td><td>39.929          </td></tr>\n",
       "\t<tr><td>wanshouxigong_aq</td><td>116.352         </td><td>39.878          </td></tr>\n",
       "\t<tr><td>aotizhongxin_aq </td><td>116.397         </td><td>39.982          </td></tr>\n",
       "\t<tr><td>nongzhanguan_aq </td><td>116.461         </td><td>39.937          </td></tr>\n",
       "</tbody>\n",
       "</table>\n"
      ],
      "text/latex": [
       "\\begin{tabular}{r|lll}\n",
       " Station & longitude & latitude\\\\\n",
       "\\hline\n",
       "\t dongsi\\_aq        & 116.417            & 39.929            \\\\\n",
       "\t tiantan\\_aq       & 116.407            & 39.886            \\\\\n",
       "\t guanyuan\\_aq      & 116.339            & 39.929            \\\\\n",
       "\t wanshouxigong\\_aq & 116.352            & 39.878            \\\\\n",
       "\t aotizhongxin\\_aq  & 116.397            & 39.982            \\\\\n",
       "\t nongzhanguan\\_aq  & 116.461            & 39.937            \\\\\n",
       "\\end{tabular}\n"
      ],
      "text/markdown": [
       "\n",
       "Station | longitude | latitude | \n",
       "|---|---|---|---|---|---|\n",
       "| dongsi_aq        | 116.417          | 39.929           | \n",
       "| tiantan_aq       | 116.407          | 39.886           | \n",
       "| guanyuan_aq      | 116.339          | 39.929           | \n",
       "| wanshouxigong_aq | 116.352          | 39.878           | \n",
       "| aotizhongxin_aq  | 116.397          | 39.982           | \n",
       "| nongzhanguan_aq  | 116.461          | 39.937           | \n",
       "\n",
       "\n"
      ],
      "text/plain": [
       "  Station          longitude latitude\n",
       "1 dongsi_aq        116.417   39.929  \n",
       "2 tiantan_aq       116.407   39.886  \n",
       "3 guanyuan_aq      116.339   39.929  \n",
       "4 wanshouxigong_aq 116.352   39.878  \n",
       "5 aotizhongxin_aq  116.397   39.982  \n",
       "6 nongzhanguan_aq  116.461   39.937  "
      ]
     },
     "metadata": {},
     "output_type": "display_data"
    },
    {
     "data": {
      "text/html": [
       "<table>\n",
       "<thead><tr><th scope=col>GridID</th><th scope=col>latitude</th><th scope=col>longitude</th></tr></thead>\n",
       "<tbody>\n",
       "\t<tr><td>beijing_grid_000</td><td>39.0            </td><td>115             </td></tr>\n",
       "\t<tr><td>beijing_grid_001</td><td>39.1            </td><td>115             </td></tr>\n",
       "\t<tr><td>beijing_grid_002</td><td>39.2            </td><td>115             </td></tr>\n",
       "\t<tr><td>beijing_grid_003</td><td>39.3            </td><td>115             </td></tr>\n",
       "\t<tr><td>beijing_grid_004</td><td>39.4            </td><td>115             </td></tr>\n",
       "\t<tr><td>beijing_grid_005</td><td>39.5            </td><td>115             </td></tr>\n",
       "</tbody>\n",
       "</table>\n"
      ],
      "text/latex": [
       "\\begin{tabular}{r|lll}\n",
       " GridID & latitude & longitude\\\\\n",
       "\\hline\n",
       "\t beijing\\_grid\\_000 & 39.0                 & 115                 \\\\\n",
       "\t beijing\\_grid\\_001 & 39.1                 & 115                 \\\\\n",
       "\t beijing\\_grid\\_002 & 39.2                 & 115                 \\\\\n",
       "\t beijing\\_grid\\_003 & 39.3                 & 115                 \\\\\n",
       "\t beijing\\_grid\\_004 & 39.4                 & 115                 \\\\\n",
       "\t beijing\\_grid\\_005 & 39.5                 & 115                 \\\\\n",
       "\\end{tabular}\n"
      ],
      "text/markdown": [
       "\n",
       "GridID | latitude | longitude | \n",
       "|---|---|---|---|---|---|\n",
       "| beijing_grid_000 | 39.0             | 115              | \n",
       "| beijing_grid_001 | 39.1             | 115              | \n",
       "| beijing_grid_002 | 39.2             | 115              | \n",
       "| beijing_grid_003 | 39.3             | 115              | \n",
       "| beijing_grid_004 | 39.4             | 115              | \n",
       "| beijing_grid_005 | 39.5             | 115              | \n",
       "\n",
       "\n"
      ],
      "text/plain": [
       "  GridID           latitude longitude\n",
       "1 beijing_grid_000 39.0     115      \n",
       "2 beijing_grid_001 39.1     115      \n",
       "3 beijing_grid_002 39.2     115      \n",
       "4 beijing_grid_003 39.3     115      \n",
       "5 beijing_grid_004 39.4     115      \n",
       "6 beijing_grid_005 39.5     115      "
      ]
     },
     "metadata": {},
     "output_type": "display_data"
    }
   ],
   "source": [
    "# browse data\n",
    "str(bj_aq_station)\n",
    "str(bj_grid)\n",
    "head(bj_aq_station)\n",
    "head(bj_grid)"
   ]
  },
  {
   "cell_type": "markdown",
   "metadata": {},
   "source": [
    "### Step 2: Calculate distances and find the closest ones"
   ]
  },
  {
   "cell_type": "code",
   "execution_count": 15,
   "metadata": {},
   "outputs": [],
   "source": [
    "closest_stations <- function(df1,df2){\n",
    "    n_df1 <- nrow(df1)\n",
    "    n_df2 <- nrow(df2)\n",
    "\n",
    "    # initial dataframes for calculated results\n",
    "    distances <- data.frame(station1=character(),\n",
    "                               station2=character(), \n",
    "                               distance=double(),\n",
    "                               stringsAsFactors=FALSE) \n",
    "    closest_distance <- data.frame(station1=character(),\n",
    "                                   station2=character(), \n",
    "                                   distance=double(),\n",
    "                                   stringsAsFactors=FALSE)\n",
    "    \n",
    "    # loop through df1 and df2 to calculate distance\n",
    "    k = 1\n",
    "    for(i in 1:n_df1){\n",
    "        for(j in 1:n_df2){\n",
    "            distances[k,1] <- df1[i,1]\n",
    "            distances[k,2] <- df2[j,1]\n",
    "            distances[k,3] <- distm(c(df1[i,'longitude'],df1[i,'latitude']), c(df2[j,'longitude'],df2[j,'latitude']), fun = distHaversine)\n",
    "            k <- k+1\n",
    "        }  \n",
    "        closest <- distances %>% \n",
    "            filter(station1 == df1[i,1]) %>% \n",
    "            filter(distance == min(distance))\n",
    "        closest_distance[i,] <- closest[1,]\n",
    "    }\n",
    "    \n",
    "    closest_distance\n",
    "}"
   ]
  },
  {
   "cell_type": "markdown",
   "metadata": {},
   "source": [
    "#### It is HIGHLY recommended to put the smaller df as df1"
   ]
  },
  {
   "cell_type": "code",
   "execution_count": 17,
   "metadata": {
    "scrolled": true
   },
   "outputs": [
    {
     "data": {
      "text/html": [
       "<table>\n",
       "<thead><tr><th scope=col>station1</th><th scope=col>station2</th><th scope=col>distance</th></tr></thead>\n",
       "<tbody>\n",
       "\t<tr><td>dongsi_aq        </td><td>beijing_grid_303 </td><td>3539.5690        </td></tr>\n",
       "\t<tr><td>tiantan_aq       </td><td>beijing_grid_303 </td><td>1669.2151        </td></tr>\n",
       "\t<tr><td>guanyuan_aq      </td><td>beijing_grid_282 </td><td>4637.8885        </td></tr>\n",
       "\t<tr><td>wanshouxigong_aq </td><td>beijing_grid_303 </td><td>4775.6410        </td></tr>\n",
       "\t<tr><td>aotizhongxin_aq  </td><td>beijing_grid_304 </td><td>2020.0203        </td></tr>\n",
       "\t<tr><td>nongzhanguan_aq  </td><td>beijing_grid_324 </td><td>5296.3861        </td></tr>\n",
       "\t<tr><td>wanliu_aq        </td><td>beijing_grid_283 </td><td>1823.0318        </td></tr>\n",
       "\t<tr><td>beibuxinqu_aq    </td><td>beijing_grid_263 </td><td>2478.1752        </td></tr>\n",
       "\t<tr><td>zhiwuyuan_aq     </td><td>beijing_grid_262 </td><td> 637.0893        </td></tr>\n",
       "\t<tr><td>fengtaihuayuan_aq</td><td>beijing_grid_282 </td><td>4492.5205        </td></tr>\n",
       "\t<tr><td>yungang_aq       </td><td>beijing_grid_239 </td><td>4754.9886        </td></tr>\n",
       "\t<tr><td>gucheng_aq       </td><td>beijing_grid_261 </td><td>2072.5646        </td></tr>\n",
       "\t<tr><td>fangshan_aq      </td><td>beijing_grid_238 </td><td>5600.0823        </td></tr>\n",
       "\t<tr><td>daxing_aq        </td><td>beijing_grid_301 </td><td>2032.8205        </td></tr>\n",
       "\t<tr><td>yizhuang_aq      </td><td>beijing_grid_323 </td><td> 757.0617        </td></tr>\n",
       "\t<tr><td>tongzhou_aq      </td><td>beijing_grid_366 </td><td>3523.5373        </td></tr>\n",
       "\t<tr><td>shunyi_aq        </td><td>beijing_grid_368 </td><td>4869.3426        </td></tr>\n",
       "\t<tr><td>pingchang_aq     </td><td>beijing_grid_264 </td><td>3175.8541        </td></tr>\n",
       "\t<tr><td>mentougou_aq     </td><td>beijing_grid_240 </td><td>4150.5545        </td></tr>\n",
       "\t<tr><td>pinggu_aq        </td><td>beijing_grid_452 </td><td>4786.7381        </td></tr>\n",
       "\t<tr><td>huairou_aq       </td><td>beijing_grid_349 </td><td>3919.7026        </td></tr>\n",
       "\t<tr><td>miyun_aq         </td><td>beijing_grid_392 </td><td>4302.9321        </td></tr>\n",
       "\t<tr><td>yanqin_aq        </td><td>beijing_grid_225 </td><td>5744.1718        </td></tr>\n",
       "\t<tr><td>dingling_aq      </td><td>beijing_grid_265 </td><td>1917.4528        </td></tr>\n",
       "\t<tr><td>badaling_aq      </td><td>beijing_grid_224 </td><td>4026.8660        </td></tr>\n",
       "\t<tr><td>miyunshuiku_aq   </td><td>beijing_grid_414 </td><td> 937.7656        </td></tr>\n",
       "\t<tr><td>donggaocun_aq    </td><td>beijing_grid_452 </td><td>1703.0132        </td></tr>\n",
       "\t<tr><td>yongledian_aq    </td><td>beijing_grid_385 </td><td>1975.8856        </td></tr>\n",
       "\t<tr><td>yufa_aq          </td><td>beijing_grid_278 </td><td>2226.3898        </td></tr>\n",
       "\t<tr><td>liulihe_aq       </td><td>beijing_grid_216 </td><td>2226.3898        </td></tr>\n",
       "\t<tr><td>qianmen_aq       </td><td>beijing_grid_303 </td><td> 441.2772        </td></tr>\n",
       "\t<tr><td>yongdingmennei_aq</td><td>beijing_grid_303 </td><td>2720.3781        </td></tr>\n",
       "\t<tr><td>xizhimenbei_aq   </td><td>beijing_grid_283 </td><td>6610.0849        </td></tr>\n",
       "\t<tr><td>nansanhuan_aq    </td><td>beijing_grid_303 </td><td>5609.2810        </td></tr>\n",
       "\t<tr><td>dongsihuan_aq    </td><td>beijing_grid_324 </td><td>4577.6436        </td></tr>\n",
       "</tbody>\n",
       "</table>\n"
      ],
      "text/latex": [
       "\\begin{tabular}{r|lll}\n",
       " station1 & station2 & distance\\\\\n",
       "\\hline\n",
       "\t dongsi\\_aq          & beijing\\_grid\\_303 & 3539.5690           \\\\\n",
       "\t tiantan\\_aq         & beijing\\_grid\\_303 & 1669.2151           \\\\\n",
       "\t guanyuan\\_aq        & beijing\\_grid\\_282 & 4637.8885           \\\\\n",
       "\t wanshouxigong\\_aq   & beijing\\_grid\\_303 & 4775.6410           \\\\\n",
       "\t aotizhongxin\\_aq    & beijing\\_grid\\_304 & 2020.0203           \\\\\n",
       "\t nongzhanguan\\_aq    & beijing\\_grid\\_324 & 5296.3861           \\\\\n",
       "\t wanliu\\_aq          & beijing\\_grid\\_283 & 1823.0318           \\\\\n",
       "\t beibuxinqu\\_aq      & beijing\\_grid\\_263 & 2478.1752           \\\\\n",
       "\t zhiwuyuan\\_aq       & beijing\\_grid\\_262 &  637.0893           \\\\\n",
       "\t fengtaihuayuan\\_aq  & beijing\\_grid\\_282 & 4492.5205           \\\\\n",
       "\t yungang\\_aq         & beijing\\_grid\\_239 & 4754.9886           \\\\\n",
       "\t gucheng\\_aq         & beijing\\_grid\\_261 & 2072.5646           \\\\\n",
       "\t fangshan\\_aq        & beijing\\_grid\\_238 & 5600.0823           \\\\\n",
       "\t daxing\\_aq          & beijing\\_grid\\_301 & 2032.8205           \\\\\n",
       "\t yizhuang\\_aq        & beijing\\_grid\\_323 &  757.0617           \\\\\n",
       "\t tongzhou\\_aq        & beijing\\_grid\\_366 & 3523.5373           \\\\\n",
       "\t shunyi\\_aq          & beijing\\_grid\\_368 & 4869.3426           \\\\\n",
       "\t pingchang\\_aq       & beijing\\_grid\\_264 & 3175.8541           \\\\\n",
       "\t mentougou\\_aq       & beijing\\_grid\\_240 & 4150.5545           \\\\\n",
       "\t pinggu\\_aq          & beijing\\_grid\\_452 & 4786.7381           \\\\\n",
       "\t huairou\\_aq         & beijing\\_grid\\_349 & 3919.7026           \\\\\n",
       "\t miyun\\_aq           & beijing\\_grid\\_392 & 4302.9321           \\\\\n",
       "\t yanqin\\_aq          & beijing\\_grid\\_225 & 5744.1718           \\\\\n",
       "\t dingling\\_aq        & beijing\\_grid\\_265 & 1917.4528           \\\\\n",
       "\t badaling\\_aq        & beijing\\_grid\\_224 & 4026.8660           \\\\\n",
       "\t miyunshuiku\\_aq     & beijing\\_grid\\_414 &  937.7656           \\\\\n",
       "\t donggaocun\\_aq      & beijing\\_grid\\_452 & 1703.0132           \\\\\n",
       "\t yongledian\\_aq      & beijing\\_grid\\_385 & 1975.8856           \\\\\n",
       "\t yufa\\_aq            & beijing\\_grid\\_278 & 2226.3898           \\\\\n",
       "\t liulihe\\_aq         & beijing\\_grid\\_216 & 2226.3898           \\\\\n",
       "\t qianmen\\_aq         & beijing\\_grid\\_303 &  441.2772           \\\\\n",
       "\t yongdingmennei\\_aq  & beijing\\_grid\\_303 & 2720.3781           \\\\\n",
       "\t xizhimenbei\\_aq     & beijing\\_grid\\_283 & 6610.0849           \\\\\n",
       "\t nansanhuan\\_aq      & beijing\\_grid\\_303 & 5609.2810           \\\\\n",
       "\t dongsihuan\\_aq      & beijing\\_grid\\_324 & 4577.6436           \\\\\n",
       "\\end{tabular}\n"
      ],
      "text/markdown": [
       "\n",
       "station1 | station2 | distance | \n",
       "|---|---|---|---|---|---|---|---|---|---|---|---|---|---|---|---|---|---|---|---|---|---|---|---|---|---|---|---|---|---|---|---|---|---|---|\n",
       "| dongsi_aq         | beijing_grid_303  | 3539.5690         | \n",
       "| tiantan_aq        | beijing_grid_303  | 1669.2151         | \n",
       "| guanyuan_aq       | beijing_grid_282  | 4637.8885         | \n",
       "| wanshouxigong_aq  | beijing_grid_303  | 4775.6410         | \n",
       "| aotizhongxin_aq   | beijing_grid_304  | 2020.0203         | \n",
       "| nongzhanguan_aq   | beijing_grid_324  | 5296.3861         | \n",
       "| wanliu_aq         | beijing_grid_283  | 1823.0318         | \n",
       "| beibuxinqu_aq     | beijing_grid_263  | 2478.1752         | \n",
       "| zhiwuyuan_aq      | beijing_grid_262  |  637.0893         | \n",
       "| fengtaihuayuan_aq | beijing_grid_282  | 4492.5205         | \n",
       "| yungang_aq        | beijing_grid_239  | 4754.9886         | \n",
       "| gucheng_aq        | beijing_grid_261  | 2072.5646         | \n",
       "| fangshan_aq       | beijing_grid_238  | 5600.0823         | \n",
       "| daxing_aq         | beijing_grid_301  | 2032.8205         | \n",
       "| yizhuang_aq       | beijing_grid_323  |  757.0617         | \n",
       "| tongzhou_aq       | beijing_grid_366  | 3523.5373         | \n",
       "| shunyi_aq         | beijing_grid_368  | 4869.3426         | \n",
       "| pingchang_aq      | beijing_grid_264  | 3175.8541         | \n",
       "| mentougou_aq      | beijing_grid_240  | 4150.5545         | \n",
       "| pinggu_aq         | beijing_grid_452  | 4786.7381         | \n",
       "| huairou_aq        | beijing_grid_349  | 3919.7026         | \n",
       "| miyun_aq          | beijing_grid_392  | 4302.9321         | \n",
       "| yanqin_aq         | beijing_grid_225  | 5744.1718         | \n",
       "| dingling_aq       | beijing_grid_265  | 1917.4528         | \n",
       "| badaling_aq       | beijing_grid_224  | 4026.8660         | \n",
       "| miyunshuiku_aq    | beijing_grid_414  |  937.7656         | \n",
       "| donggaocun_aq     | beijing_grid_452  | 1703.0132         | \n",
       "| yongledian_aq     | beijing_grid_385  | 1975.8856         | \n",
       "| yufa_aq           | beijing_grid_278  | 2226.3898         | \n",
       "| liulihe_aq        | beijing_grid_216  | 2226.3898         | \n",
       "| qianmen_aq        | beijing_grid_303  |  441.2772         | \n",
       "| yongdingmennei_aq | beijing_grid_303  | 2720.3781         | \n",
       "| xizhimenbei_aq    | beijing_grid_283  | 6610.0849         | \n",
       "| nansanhuan_aq     | beijing_grid_303  | 5609.2810         | \n",
       "| dongsihuan_aq     | beijing_grid_324  | 4577.6436         | \n",
       "\n",
       "\n"
      ],
      "text/plain": [
       "   station1          station2         distance \n",
       "1  dongsi_aq         beijing_grid_303 3539.5690\n",
       "2  tiantan_aq        beijing_grid_303 1669.2151\n",
       "3  guanyuan_aq       beijing_grid_282 4637.8885\n",
       "4  wanshouxigong_aq  beijing_grid_303 4775.6410\n",
       "5  aotizhongxin_aq   beijing_grid_304 2020.0203\n",
       "6  nongzhanguan_aq   beijing_grid_324 5296.3861\n",
       "7  wanliu_aq         beijing_grid_283 1823.0318\n",
       "8  beibuxinqu_aq     beijing_grid_263 2478.1752\n",
       "9  zhiwuyuan_aq      beijing_grid_262  637.0893\n",
       "10 fengtaihuayuan_aq beijing_grid_282 4492.5205\n",
       "11 yungang_aq        beijing_grid_239 4754.9886\n",
       "12 gucheng_aq        beijing_grid_261 2072.5646\n",
       "13 fangshan_aq       beijing_grid_238 5600.0823\n",
       "14 daxing_aq         beijing_grid_301 2032.8205\n",
       "15 yizhuang_aq       beijing_grid_323  757.0617\n",
       "16 tongzhou_aq       beijing_grid_366 3523.5373\n",
       "17 shunyi_aq         beijing_grid_368 4869.3426\n",
       "18 pingchang_aq      beijing_grid_264 3175.8541\n",
       "19 mentougou_aq      beijing_grid_240 4150.5545\n",
       "20 pinggu_aq         beijing_grid_452 4786.7381\n",
       "21 huairou_aq        beijing_grid_349 3919.7026\n",
       "22 miyun_aq          beijing_grid_392 4302.9321\n",
       "23 yanqin_aq         beijing_grid_225 5744.1718\n",
       "24 dingling_aq       beijing_grid_265 1917.4528\n",
       "25 badaling_aq       beijing_grid_224 4026.8660\n",
       "26 miyunshuiku_aq    beijing_grid_414  937.7656\n",
       "27 donggaocun_aq     beijing_grid_452 1703.0132\n",
       "28 yongledian_aq     beijing_grid_385 1975.8856\n",
       "29 yufa_aq           beijing_grid_278 2226.3898\n",
       "30 liulihe_aq        beijing_grid_216 2226.3898\n",
       "31 qianmen_aq        beijing_grid_303  441.2772\n",
       "32 yongdingmennei_aq beijing_grid_303 2720.3781\n",
       "33 xizhimenbei_aq    beijing_grid_283 6610.0849\n",
       "34 nansanhuan_aq     beijing_grid_303 5609.2810\n",
       "35 dongsihuan_aq     beijing_grid_324 4577.6436"
      ]
     },
     "metadata": {},
     "output_type": "display_data"
    }
   ],
   "source": [
    "# Beijing AQ stations & weather grids\n",
    "beijing_closest_stations <- closest_stations(bj_aq_station,bj_grid)\n",
    "beijing_closest_stations"
   ]
  },
  {
   "cell_type": "markdown",
   "metadata": {},
   "source": [
    "### London data"
   ]
  },
  {
   "cell_type": "code",
   "execution_count": 23,
   "metadata": {
    "collapsed": true
   },
   "outputs": [],
   "source": [
    "# Read location file and assign column names\n",
    "ld_aq_station <- read.csv('London_AirQuality_Stations.csv')\n",
    "ld_aq_station <- ld_aq_station[,c(1,5,6)]\n",
    "colnames(ld_aq_station) <- c('Station','latitude','longitude')\n",
    "ld_grid <- read.csv('London_grid_weather_station.csv', header = F)\n",
    "colnames(ld_grid) <- c('GridID','latitude','longitude')"
   ]
  },
  {
   "cell_type": "code",
   "execution_count": 25,
   "metadata": {
    "collapsed": true
   },
   "outputs": [],
   "source": [
    "# Modify data types\n",
    "ld_aq_station$Station <- as.character(ld_aq_station$Station)\n",
    "ld_grid$GridID <- as.character(ld_grid$GridID)"
   ]
  },
  {
   "cell_type": "code",
   "execution_count": 26,
   "metadata": {},
   "outputs": [
    {
     "name": "stdout",
     "output_type": "stream",
     "text": [
      "'data.frame':\t24 obs. of  3 variables:\n",
      " $ Station  : chr  \"BX9\" \"BX1\" \"BL0\" \"CD9\" ...\n",
      " $ latitude : num  51.5 51.5 51.5 51.5 51.5 ...\n",
      " $ longitude: num  0.185 0.185 -0.126 -0.129 -0.175 ...\n",
      "'data.frame':\t861 obs. of  3 variables:\n",
      " $ GridID   : chr  \"london_grid_000\" \"london_grid_001\" \"london_grid_002\" \"london_grid_003\" ...\n",
      " $ latitude : num  50.5 50.6 50.7 50.8 50.9 51 51.1 51.2 51.3 51.4 ...\n",
      " $ longitude: num  -2 -2 -2 -2 -2 -2 -2 -2 -2 -2 ...\n"
     ]
    },
    {
     "data": {
      "text/html": [
       "<table>\n",
       "<thead><tr><th scope=col>Station</th><th scope=col>latitude</th><th scope=col>longitude</th></tr></thead>\n",
       "<tbody>\n",
       "\t<tr><td>BX9       </td><td>51.46598  </td><td> 0.1848771</td></tr>\n",
       "\t<tr><td>BX1       </td><td>51.46598  </td><td> 0.1848771</td></tr>\n",
       "\t<tr><td>BL0       </td><td>51.52229  </td><td>-0.1258480</td></tr>\n",
       "\t<tr><td>CD9       </td><td>51.52771  </td><td>-0.1290532</td></tr>\n",
       "\t<tr><td>CD1       </td><td>51.54422  </td><td>-0.1752840</td></tr>\n",
       "\t<tr><td>CT2       </td><td>51.51453  </td><td>-0.1045156</td></tr>\n",
       "</tbody>\n",
       "</table>\n"
      ],
      "text/latex": [
       "\\begin{tabular}{r|lll}\n",
       " Station & latitude & longitude\\\\\n",
       "\\hline\n",
       "\t BX9        & 51.46598   &  0.1848771\\\\\n",
       "\t BX1        & 51.46598   &  0.1848771\\\\\n",
       "\t BL0        & 51.52229   & -0.1258480\\\\\n",
       "\t CD9        & 51.52771   & -0.1290532\\\\\n",
       "\t CD1        & 51.54422   & -0.1752840\\\\\n",
       "\t CT2        & 51.51453   & -0.1045156\\\\\n",
       "\\end{tabular}\n"
      ],
      "text/markdown": [
       "\n",
       "Station | latitude | longitude | \n",
       "|---|---|---|---|---|---|\n",
       "| BX9        | 51.46598   |  0.1848771 | \n",
       "| BX1        | 51.46598   |  0.1848771 | \n",
       "| BL0        | 51.52229   | -0.1258480 | \n",
       "| CD9        | 51.52771   | -0.1290532 | \n",
       "| CD1        | 51.54422   | -0.1752840 | \n",
       "| CT2        | 51.51453   | -0.1045156 | \n",
       "\n",
       "\n"
      ],
      "text/plain": [
       "  Station latitude longitude \n",
       "1 BX9     51.46598  0.1848771\n",
       "2 BX1     51.46598  0.1848771\n",
       "3 BL0     51.52229 -0.1258480\n",
       "4 CD9     51.52771 -0.1290532\n",
       "5 CD1     51.54422 -0.1752840\n",
       "6 CT2     51.51453 -0.1045156"
      ]
     },
     "metadata": {},
     "output_type": "display_data"
    },
    {
     "data": {
      "text/html": [
       "<table>\n",
       "<thead><tr><th scope=col>GridID</th><th scope=col>latitude</th><th scope=col>longitude</th></tr></thead>\n",
       "<tbody>\n",
       "\t<tr><td>london_grid_000</td><td>50.5           </td><td>-2             </td></tr>\n",
       "\t<tr><td>london_grid_001</td><td>50.6           </td><td>-2             </td></tr>\n",
       "\t<tr><td>london_grid_002</td><td>50.7           </td><td>-2             </td></tr>\n",
       "\t<tr><td>london_grid_003</td><td>50.8           </td><td>-2             </td></tr>\n",
       "\t<tr><td>london_grid_004</td><td>50.9           </td><td>-2             </td></tr>\n",
       "\t<tr><td>london_grid_005</td><td>51.0           </td><td>-2             </td></tr>\n",
       "</tbody>\n",
       "</table>\n"
      ],
      "text/latex": [
       "\\begin{tabular}{r|lll}\n",
       " GridID & latitude & longitude\\\\\n",
       "\\hline\n",
       "\t london\\_grid\\_000 & 50.5                & -2                 \\\\\n",
       "\t london\\_grid\\_001 & 50.6                & -2                 \\\\\n",
       "\t london\\_grid\\_002 & 50.7                & -2                 \\\\\n",
       "\t london\\_grid\\_003 & 50.8                & -2                 \\\\\n",
       "\t london\\_grid\\_004 & 50.9                & -2                 \\\\\n",
       "\t london\\_grid\\_005 & 51.0                & -2                 \\\\\n",
       "\\end{tabular}\n"
      ],
      "text/markdown": [
       "\n",
       "GridID | latitude | longitude | \n",
       "|---|---|---|---|---|---|\n",
       "| london_grid_000 | 50.5            | -2              | \n",
       "| london_grid_001 | 50.6            | -2              | \n",
       "| london_grid_002 | 50.7            | -2              | \n",
       "| london_grid_003 | 50.8            | -2              | \n",
       "| london_grid_004 | 50.9            | -2              | \n",
       "| london_grid_005 | 51.0            | -2              | \n",
       "\n",
       "\n"
      ],
      "text/plain": [
       "  GridID          latitude longitude\n",
       "1 london_grid_000 50.5     -2       \n",
       "2 london_grid_001 50.6     -2       \n",
       "3 london_grid_002 50.7     -2       \n",
       "4 london_grid_003 50.8     -2       \n",
       "5 london_grid_004 50.9     -2       \n",
       "6 london_grid_005 51.0     -2       "
      ]
     },
     "metadata": {},
     "output_type": "display_data"
    }
   ],
   "source": [
    "# browse data\n",
    "str(ld_aq_station)\n",
    "str(ld_grid)\n",
    "head(ld_aq_station)\n",
    "head(ld_grid)"
   ]
  },
  {
   "cell_type": "code",
   "execution_count": 27,
   "metadata": {
    "scrolled": true
   },
   "outputs": [
    {
     "data": {
      "text/html": [
       "<table>\n",
       "<thead><tr><th scope=col>station1</th><th scope=col>station2</th><th scope=col>distance</th></tr></thead>\n",
       "<tbody>\n",
       "\t<tr><td>BX9            </td><td>london_grid_472</td><td>3929.170       </td></tr>\n",
       "\t<tr><td>BX1            </td><td>london_grid_472</td><td>3929.170       </td></tr>\n",
       "\t<tr><td>BL0            </td><td>london_grid_409</td><td>3059.760       </td></tr>\n",
       "\t<tr><td>CD9            </td><td>london_grid_409</td><td>3682.914       </td></tr>\n",
       "\t<tr><td>CD1            </td><td>london_grid_388</td><td>5211.633       </td></tr>\n",
       "\t<tr><td>CT2            </td><td>london_grid_409</td><td>1646.945       </td></tr>\n",
       "\t<tr><td>CT3            </td><td>london_grid_409</td><td>2179.318       </td></tr>\n",
       "\t<tr><td>CR8            </td><td>london_grid_408</td><td>2214.003       </td></tr>\n",
       "\t<tr><td>GN0            </td><td>london_grid_451</td><td>2087.362       </td></tr>\n",
       "\t<tr><td>GR4            </td><td>london_grid_451</td><td>5654.537       </td></tr>\n",
       "\t<tr><td>GN3            </td><td>london_grid_451</td><td>1490.955       </td></tr>\n",
       "\t<tr><td>GR9            </td><td>london_grid_430</td><td>5619.205       </td></tr>\n",
       "\t<tr><td>GB0            </td><td>london_grid_451</td><td>4965.969       </td></tr>\n",
       "\t<tr><td>HR1            </td><td>london_grid_368</td><td>1930.691       </td></tr>\n",
       "\t<tr><td>HV1            </td><td>london_grid_472</td><td>2344.773       </td></tr>\n",
       "\t<tr><td>LH0            </td><td>london_grid_346</td><td>3143.783       </td></tr>\n",
       "\t<tr><td>KC1            </td><td>london_grid_388</td><td>2522.504       </td></tr>\n",
       "\t<tr><td>KF1            </td><td>london_grid_388</td><td>2522.504       </td></tr>\n",
       "\t<tr><td>LW2            </td><td>london_grid_430</td><td>3914.580       </td></tr>\n",
       "\t<tr><td>RB7            </td><td>london_grid_452</td><td>3596.847       </td></tr>\n",
       "\t<tr><td>TD5            </td><td>london_grid_366</td><td>4234.613       </td></tr>\n",
       "\t<tr><td>ST5            </td><td>london_grid_408</td><td>3129.842       </td></tr>\n",
       "\t<tr><td>TH4            </td><td>london_grid_430</td><td>1773.590       </td></tr>\n",
       "\t<tr><td>MY7            </td><td>london_grid_388</td><td>4024.101       </td></tr>\n",
       "</tbody>\n",
       "</table>\n"
      ],
      "text/latex": [
       "\\begin{tabular}{r|lll}\n",
       " station1 & station2 & distance\\\\\n",
       "\\hline\n",
       "\t BX9                 & london\\_grid\\_472 & 3929.170           \\\\\n",
       "\t BX1                 & london\\_grid\\_472 & 3929.170           \\\\\n",
       "\t BL0                 & london\\_grid\\_409 & 3059.760           \\\\\n",
       "\t CD9                 & london\\_grid\\_409 & 3682.914           \\\\\n",
       "\t CD1                 & london\\_grid\\_388 & 5211.633           \\\\\n",
       "\t CT2                 & london\\_grid\\_409 & 1646.945           \\\\\n",
       "\t CT3                 & london\\_grid\\_409 & 2179.318           \\\\\n",
       "\t CR8                 & london\\_grid\\_408 & 2214.003           \\\\\n",
       "\t GN0                 & london\\_grid\\_451 & 2087.362           \\\\\n",
       "\t GR4                 & london\\_grid\\_451 & 5654.537           \\\\\n",
       "\t GN3                 & london\\_grid\\_451 & 1490.955           \\\\\n",
       "\t GR9                 & london\\_grid\\_430 & 5619.205           \\\\\n",
       "\t GB0                 & london\\_grid\\_451 & 4965.969           \\\\\n",
       "\t HR1                 & london\\_grid\\_368 & 1930.691           \\\\\n",
       "\t HV1                 & london\\_grid\\_472 & 2344.773           \\\\\n",
       "\t LH0                 & london\\_grid\\_346 & 3143.783           \\\\\n",
       "\t KC1                 & london\\_grid\\_388 & 2522.504           \\\\\n",
       "\t KF1                 & london\\_grid\\_388 & 2522.504           \\\\\n",
       "\t LW2                 & london\\_grid\\_430 & 3914.580           \\\\\n",
       "\t RB7                 & london\\_grid\\_452 & 3596.847           \\\\\n",
       "\t TD5                 & london\\_grid\\_366 & 4234.613           \\\\\n",
       "\t ST5                 & london\\_grid\\_408 & 3129.842           \\\\\n",
       "\t TH4                 & london\\_grid\\_430 & 1773.590           \\\\\n",
       "\t MY7                 & london\\_grid\\_388 & 4024.101           \\\\\n",
       "\\end{tabular}\n"
      ],
      "text/markdown": [
       "\n",
       "station1 | station2 | distance | \n",
       "|---|---|---|---|---|---|---|---|---|---|---|---|---|---|---|---|---|---|---|---|---|---|---|---|\n",
       "| BX9             | london_grid_472 | 3929.170        | \n",
       "| BX1             | london_grid_472 | 3929.170        | \n",
       "| BL0             | london_grid_409 | 3059.760        | \n",
       "| CD9             | london_grid_409 | 3682.914        | \n",
       "| CD1             | london_grid_388 | 5211.633        | \n",
       "| CT2             | london_grid_409 | 1646.945        | \n",
       "| CT3             | london_grid_409 | 2179.318        | \n",
       "| CR8             | london_grid_408 | 2214.003        | \n",
       "| GN0             | london_grid_451 | 2087.362        | \n",
       "| GR4             | london_grid_451 | 5654.537        | \n",
       "| GN3             | london_grid_451 | 1490.955        | \n",
       "| GR9             | london_grid_430 | 5619.205        | \n",
       "| GB0             | london_grid_451 | 4965.969        | \n",
       "| HR1             | london_grid_368 | 1930.691        | \n",
       "| HV1             | london_grid_472 | 2344.773        | \n",
       "| LH0             | london_grid_346 | 3143.783        | \n",
       "| KC1             | london_grid_388 | 2522.504        | \n",
       "| KF1             | london_grid_388 | 2522.504        | \n",
       "| LW2             | london_grid_430 | 3914.580        | \n",
       "| RB7             | london_grid_452 | 3596.847        | \n",
       "| TD5             | london_grid_366 | 4234.613        | \n",
       "| ST5             | london_grid_408 | 3129.842        | \n",
       "| TH4             | london_grid_430 | 1773.590        | \n",
       "| MY7             | london_grid_388 | 4024.101        | \n",
       "\n",
       "\n"
      ],
      "text/plain": [
       "   station1 station2        distance\n",
       "1  BX9      london_grid_472 3929.170\n",
       "2  BX1      london_grid_472 3929.170\n",
       "3  BL0      london_grid_409 3059.760\n",
       "4  CD9      london_grid_409 3682.914\n",
       "5  CD1      london_grid_388 5211.633\n",
       "6  CT2      london_grid_409 1646.945\n",
       "7  CT3      london_grid_409 2179.318\n",
       "8  CR8      london_grid_408 2214.003\n",
       "9  GN0      london_grid_451 2087.362\n",
       "10 GR4      london_grid_451 5654.537\n",
       "11 GN3      london_grid_451 1490.955\n",
       "12 GR9      london_grid_430 5619.205\n",
       "13 GB0      london_grid_451 4965.969\n",
       "14 HR1      london_grid_368 1930.691\n",
       "15 HV1      london_grid_472 2344.773\n",
       "16 LH0      london_grid_346 3143.783\n",
       "17 KC1      london_grid_388 2522.504\n",
       "18 KF1      london_grid_388 2522.504\n",
       "19 LW2      london_grid_430 3914.580\n",
       "20 RB7      london_grid_452 3596.847\n",
       "21 TD5      london_grid_366 4234.613\n",
       "22 ST5      london_grid_408 3129.842\n",
       "23 TH4      london_grid_430 1773.590\n",
       "24 MY7      london_grid_388 4024.101"
      ]
     },
     "metadata": {},
     "output_type": "display_data"
    }
   ],
   "source": [
    "# London AQ stations & weather grids\n",
    "london_closest_stations <- closest_stations(ld_aq_station,ld_grid)\n",
    "london_closest_stations"
   ]
  },
  {
   "cell_type": "markdown",
   "metadata": {},
   "source": [
    "### Step 3: Write output to local"
   ]
  },
  {
   "cell_type": "code",
   "execution_count": null,
   "metadata": {
    "collapsed": true
   },
   "outputs": [],
   "source": [
    "#write.csv(beijing_closest_stations, file = \"beijing_closest_stations.csv\")\n",
    "#write.csv(london_closest_stations, file = \"london_closest_stations.csv\")"
   ]
  }
 ],
 "metadata": {
  "kernelspec": {
   "display_name": "R",
   "language": "R",
   "name": "ir"
  },
  "language_info": {
   "codemirror_mode": "r",
   "file_extension": ".r",
   "mimetype": "text/x-r-source",
   "name": "R",
   "pygments_lexer": "r",
   "version": "3.4.2"
  }
 },
 "nbformat": 4,
 "nbformat_minor": 2
}
